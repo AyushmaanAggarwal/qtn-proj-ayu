{
 "metadata": {
  "name": "",
  "signature": "sha256:a839565e96316b2726782ea1ef5fe0b25d35a34f65bacc54c109072fe573f195"
 },
 "nbformat": 3,
 "nbformat_minor": 0,
 "worksheets": [
  {
   "cells": [
    {
     "cell_type": "code",
     "collapsed": false,
     "input": [
      "from qtn.bimax import BiMax\n",
      "from qtn.util import (boltzmann, emass, echarge, permittivity, cspeed, fperp, fp)\n",
      "import numpy as np\n",
      "import matplotlib.pyplot as plt\n",
      "%matplotlib inline"
     ],
     "language": "python",
     "metadata": {},
     "outputs": [],
     "prompt_number": 23
    },
    {
     "cell_type": "heading",
     "level": 3,
     "metadata": {},
     "source": [
      "Issautier 1999 Fig 1"
     ]
    },
    {
     "cell_type": "heading",
     "level": 6,
     "metadata": {},
     "source": [
      "$f_p=15KHz$, $L_{dc}=v_{Tc}/\\sqrt{2}\\omega_{pc}=13.06m$"
     ]
    },
    {
     "cell_type": "code",
     "collapsed": false,
     "input": [
      "tc = 1e5\n",
      "n = 0\n",
      "tep = 2\n",
      "vsw = 4e5\n",
      "wrange = np.arange(0.2, 3.2, 0.1)\n",
      "lrange = [0.5, 1, 3.5, 10]"
     ],
     "language": "python",
     "metadata": {},
     "outputs": [],
     "prompt_number": 11
    },
    {
     "cell_type": "code",
     "collapsed": false,
     "input": [
      "vp2 = [[p.proton(wc, lrel, tep, tc, vsw) / np.sqrt(tc) for wc in wrange] for lrel in lrange]"
     ],
     "language": "python",
     "metadata": {},
     "outputs": [],
     "prompt_number": 12
    },
    {
     "cell_type": "code",
     "collapsed": false,
     "input": [
      "plt.rc('text', usetex=True)\n",
      "plt.rc('font', family='serif')\n",
      "fig = plt.figure(figsize=[4,4])\n",
      "for i in range(4):\n",
      "    plt.plot(wrange, vp2[i], label=r'$l/l_d=$'+str(lrange[i]))\n",
      "plt.xscale('log');plt.yscale('log')\n",
      "plt.xlim([0.2, 3]);plt.ylim([5e-19, 1e-16])\n",
      "plt.xlabel(r'$f/f_p$')\n",
      "plt.ylabel(r'$v_p^2/Tc^{1/2}$')\n",
      "plt.legend(loc='best')\n",
      "plt.show()"
     ],
     "language": "python",
     "metadata": {},
     "outputs": [
      {
       "metadata": {},
       "output_type": "display_data",
       "png": "[encoded data removed]",
       "text": [
        "<matplotlib.figure.Figure at 0x11584ee80>"
       ]
      }
     ],
     "prompt_number": 20
    },
    {
     "cell_type": "heading",
     "level": 3,
     "metadata": {},
     "source": [
      "Issautier et al. 1999 Fig5"
     ]
    },
    {
     "cell_type": "heading",
     "level": 6,
     "metadata": {},
     "source": [
      "Given $v_{sw}=453km/s$, $T_p=6\\times 10^4K$, $T_c=1.2\\times 10^5K$, $T_h/T_c=5$, $n_h/n_c=0.034$, $n_e=3.4cm^{-3}$ $$ $$\n",
      "we obtain\n",
      "l"
     ]
    },
    {
     "cell_type": "code",
     "collapsed": false,
     "input": [
      "ne = 3.4e6\n",
      "n = 0.034\n",
      "t = 5\n",
      "nc = ne/(1+n)\n",
      "tep = 2\n",
      "vsw = 4.53e5\n",
      "fptot = fp(ne) # total plasma frequency"
     ],
     "language": "python",
     "metadata": {},
     "outputs": [],
     "prompt_number": 25
    },
    {
     "cell_type": "heading",
     "level": 6,
     "metadata": {},
     "source": [
      "The radio receiver on board Ulysses has monopole length $l=35m$, radius $r=1.1mm$.\n",
      "It linearly swept through 64 equally spaced frequncy channgels of bandwidth $0.75kHz$,\n",
      "covering 1.25 to 48.5kHz. "
     ]
    },
    {
     "cell_type": "code",
     "collapsed": false,
     "input": [
      "p = BiMax()"
     ],
     "language": "python",
     "metadata": {},
     "outputs": []
    }
   ],
   "metadata": {}
  }
 ]
}