{
 "cells": [
  {
   "cell_type": "markdown",
   "id": "6dbce373-a558-4506-9884-047ba59b466b",
   "metadata": {
    "tags": []
   },
   "source": [
    "## Import Statements"
   ]
  },
  {
   "cell_type": "code",
   "execution_count": 1,
   "id": "9effaad3-4ead-4fec-88c3-0e0e8e8efa3d",
   "metadata": {
    "tags": []
   },
   "outputs": [],
   "source": [
    "import gc\n",
    "import os\n",
    "import sys\n",
    "import random\n",
    "import pickle\n",
    "import bisect\n",
    "import datetime\n",
    "import numpy as np\n",
    "import pandas as pd\n",
    "import matplotlib.pyplot as plt\n",
    "\n",
    "os.environ[\"CDF_LIB\"] = \"/usr/local/lib/cdf/lib/\"\n",
    "import netCDF4 as nc\n",
    "#from spacepy import pycdf\n",
    "#from pyspedas import wind"
   ]
  },
  {
   "cell_type": "markdown",
   "id": "55dbc161-8c48-4ccc-be0a-70efc2d7b43f",
   "metadata": {
    "tags": []
   },
   "source": [
    "## Various functions"
   ]
  },
  {
   "cell_type": "code",
   "execution_count": 2,
   "id": "336aa0ec-d974-4491-b191-13e8956555f7",
   "metadata": {},
   "outputs": [],
   "source": [
    "# Constants\n",
    "e = 1.602176634e-19\n",
    "m = 9.109383701528e-31\n",
    "e_0 = 8.854187812813e-12\n",
    "cons = e/((m*e_0)**.5)/(2*np.pi)"
   ]
  },
  {
   "cell_type": "code",
   "execution_count": 3,
   "id": "f0229288-c8bc-4759-9b22-491cdd981c13",
   "metadata": {},
   "outputs": [],
   "source": [
    "def find_closest_time(time, lst):\n",
    "    return min(range(len(lst)), \n",
    "               key=lambda i: abs(time-lst[i]))\n",
    "\n",
    "def reduced_time_closest_time(goal_time, time_lst):\n",
    "    \"\"\"\n",
    "    Find the index in the availible times which is closest to the goal time\n",
    "    \"\"\"\n",
    "    # Bisect gives the index of the smallest value which is greater than goal time\n",
    "    upper_index = min(bisect.bisect_left(time_lst, goal_time), len(time_lst)-1)\n",
    "    lower_index = max(upper_index-1, 0)\n",
    "    if abs(time_lst[upper_index] - goal_time) > abs(time_lst[lower_index] - goal_time):\n",
    "        return lower_index\n",
    "    else:\n",
    "        return upper_index\n",
    "\n",
    "def conv_dens_to_freq(ne):\n",
    "    assert ne>=0\n",
    "    return ne**.5 * cons\n",
    "\n",
    "def norm(lst, max_val):\n",
    "    return np.array([val/max_val for val in lst])\n",
    "\n",
    "def denorm(lst, max_val):\n",
    "    return np.array([val*max_val for val in lst])\n",
    "\n",
    "def print_lst(lst, sort=False):\n",
    "    if sort:\n",
    "        lst.sort()\n",
    "    print(\"[\")\n",
    "    for n in lst:\n",
    "        print(f\"{repr(n)},\")\n",
    "    print(\"]\")\n",
    "\n",
    "def sizeof_fmt(num, suffix='B'):\n",
    "    ''' by Fred Cirera,  https://stackoverflow.com/a/1094933/1870254, modified'''\n",
    "    for unit in ['','Ki','Mi','Gi','Ti','Pi','Ei','Zi']:\n",
    "        if abs(num) < 1024.0:\n",
    "            return \"%3.1f %s%s\" % (num, unit, suffix)\n",
    "        num /= 1024.0\n",
    "    return \"%.1f %s%s\" % (num, 'Yi', suffix)\n"
   ]
  },
  {
   "cell_type": "markdown",
   "id": "9643f9d7-b8e6-447f-92bb-fcf5ce1d7029",
   "metadata": {
    "tags": []
   },
   "source": [
    "## Importing Data"
   ]
  },
  {
   "cell_type": "code",
   "execution_count": 4,
   "id": "dfb6eefd-2ef8-4a84-8794-0bc8474d6b59",
   "metadata": {
    "tags": []
   },
   "outputs": [],
   "source": [
    "spectra_folder = \"data/solaris/1995-06/\"\n",
    "nn_folder = \"data/cdpp/34069/DA_TC_WIND_WAVES_TNR_L3_NN/\"\n",
    "\n",
    "spectra_data = [ spectra_folder+file for file in os.listdir(spectra_folder) if file.endswith(\".nc\")]\n",
    "nn_data = [ nn_folder+file for file in os.listdir(nn_folder) if file.endswith(\".nc\")]\n",
    "spectra_data.sort()\n",
    "nn_data.sort()\n",
    "combined_data = zip(spectra_data, nn_data)\n",
    "#print_lst(combined_data)"
   ]
  },
  {
   "cell_type": "code",
   "execution_count": 5,
   "id": "4fd25db8-350b-497c-930a-7cafd52832f9",
   "metadata": {
    "tags": []
   },
   "outputs": [
    {
     "name": "stdout",
     "output_type": "stream",
     "text": [
      "Correced: data/solaris/1995-06/wi_wav_tnr_19950603.nc\n",
      "Correced: data/solaris/1995-06/wi_wav_tnr_19950604.nc\n",
      "Correced: data/solaris/1995-06/wi_wav_tnr_19950611.nc\n",
      "Correced: data/solaris/1995-06/wi_wav_tnr_19950618.nc\n",
      "Correced: data/solaris/1995-06/wi_wav_tnr_19950619.nc\n",
      "505726\n"
     ]
    }
   ],
   "source": [
    "time = []\n",
    "freq = []\n",
    "spec = []\n",
    "time2 = []\n",
    "raw_fpe = []\n",
    "for spectra_file_name, nn_file_name in combined_data:\n",
    "    date = spectra_file_name[32:-3]\n",
    "    date_epoch = int(datetime.datetime(int(date[0:4]), int(date[4:6]), int(date[6:8]), 0, 0, 0, \n",
    "                                       tzinfo=datetime.timezone.utc).timestamp())\n",
    "    \n",
    "    with nc.Dataset(spectra_file_name) as file:\n",
    "        temp_time = file[\"tnr_ch1_time\"][:]\n",
    "        temp_spec = file[\"tnr_ch1_spec\"][:]\n",
    "        if len(freq) == 0:\n",
    "            freq  = file[\"tnr_ch1_freq\"][:]\n",
    "\n",
    "    \n",
    "    with nc.Dataset(nn_file_name) as file:\n",
    "        temp_time2   = file[\"Time\"][:]\n",
    "        temp_raw_fpe = file[\"Plasma Frequency\"][:]\n",
    "        \n",
    "        # Found slight bug where the times over some days are shifted by 86400 seconds up\n",
    "        if temp_time2[10] >= 86400:\n",
    "            print(f\"Correced: {spectra_file_name}\")\n",
    "            temp_time2 = np.subtract(temp_time2, 86400)\n",
    "        temp_time2 = np.add(temp_time2, date_epoch)\n",
    "\n",
    "    if not temp_time[0] in time:\n",
    "        time.extend(temp_time)\n",
    "        spec.extend(np.transpose(temp_spec))\n",
    "        time2.extend(temp_time2)\n",
    "        raw_fpe.extend(temp_raw_fpe)\n",
    "        \n",
    "    else:\n",
    "        print(spectra_file_name)\n",
    "print(len(time))"
   ]
  },
  {
   "cell_type": "code",
   "execution_count": 6,
   "id": "5a3359a6-6872-4133-8cf1-aeae016159e7",
   "metadata": {
    "tags": []
   },
   "outputs": [],
   "source": [
    "# Increase memory efficiency\n",
    "time2, raw_fpe = list(zip(*[d for d in zip(time2, raw_fpe) if d[1]>1]))\n",
    "\n",
    "fpe = [raw_fpe[reduced_time_closest_time(t, time2)] for t in time]\n",
    "\n",
    "#plt.plot(raw_fpe)"
   ]
  },
  {
   "cell_type": "code",
   "execution_count": 7,
   "id": "ff408efa-b385-4a5d-9e4e-dd2ddff92713",
   "metadata": {
    "tags": []
   },
   "outputs": [
    {
     "name": "stdout",
     "output_type": "stream",
     "text": [
      "(505726,) (505726, 96) (505726,)\n"
     ]
    }
   ],
   "source": [
    "print(np.shape(time), np.shape(spec), np.shape(fpe))\n",
    "data_v1 = list(zip(time, spec, fpe))#[[time[i], np.transpose(spec)[i], fpe[i]] for i in range(len(fpe))]"
   ]
  },
  {
   "cell_type": "markdown",
   "id": "3383afe8-b34f-4e16-afe8-50010e85b739",
   "metadata": {
    "tags": []
   },
   "source": [
    "## Randomizing and sorting data"
   ]
  },
  {
   "cell_type": "code",
   "execution_count": 8,
   "id": "6b6ccaa6-a5ac-4d90-83ad-0fb4f1562c72",
   "metadata": {
    "tags": []
   },
   "outputs": [],
   "source": [
    "random.seed(10)\n",
    "random_index = list(range(len(data_v1)))\n",
    "random.shuffle(random_index)\n",
    "data_v3 = [data_v1[i] for i in random_index]    "
   ]
  },
  {
   "cell_type": "code",
   "execution_count": 9,
   "id": "2d5e225d-44b2-4fbb-9de9-e541281c4b90",
   "metadata": {},
   "outputs": [
    {
     "name": "stderr",
     "output_type": "stream",
     "text": [
      "/home/ayushmaan/.local/lib/python3.10/site-packages/numpy/core/fromnumeric.py:2007: VisibleDeprecationWarning: Creating an ndarray from ragged nested sequences (which is a list-or-tuple of lists-or-tuples-or ndarrays with different lengths or shapes) is deprecated. If you meant to do this, you must specify 'dtype=object' when creating the ndarray.\n",
      "  result = asarray(a).shape\n"
     ]
    },
    {
     "name": "stdout",
     "output_type": "stream",
     "text": [
      "(455153, 3)\n",
      "Done with creating trainning data\n",
      "Done sorting\n",
      "Done with creating test data\n"
     ]
    }
   ],
   "source": [
    "max_y = 50 #max([d[2] for d in data_v3])\n",
    "s = int(len(data_v3)*.9//1)\n",
    "print(np.shape(data_v3[:s]))\n",
    "\n",
    "\n",
    "# Takes the training section of the data and unzips the test and training data\n",
    "train_x_data = np.array([d[1] for d in data_v3[:s]])\n",
    "train_y_data = np.array([d[2]/max_y for d in data_v3[:s]])\n",
    "print(\"Done with creating trainning data\")\n",
    "\n",
    "# Sorts test data so we could use that sorted data to make nice graphs at the end\n",
    "test_sorted = data_v3[s:]\n",
    "test_sorted.sort(key=lambda x: x[0])\n",
    "print(\"Done sorting\")\n",
    "\n",
    "test_time_sorted = np.array([d[0] for d in test_sorted])\n",
    "test_x_sorted = np.array([d[1] for d in test_sorted])\n",
    "test_y_sorted = np.array([d[2]/max_y for d in test_sorted])\n",
    "print(\"Done with creating test data\")"
   ]
  },
  {
   "cell_type": "code",
   "execution_count": 10,
   "id": "985a164a-89a0-445b-a75c-fd9e34b8f818",
   "metadata": {},
   "outputs": [
    {
     "name": "stdout",
     "output_type": "stream",
     "text": [
      "                  train_x_data: 333.4 MiB\n",
      "                 test_x_sorted: 37.0 MiB\n",
      "                          time:  4.3 MiB\n",
      "                          spec:  4.3 MiB\n",
      "                           fpe:  4.0 MiB\n",
      "                       data_v1:  4.0 MiB\n",
      "                       data_v3:  4.0 MiB\n",
      "                  random_index:  3.9 MiB\n",
      "                         time2:  3.9 MiB\n",
      "                       raw_fpe:  3.9 MiB\n"
     ]
    }
   ],
   "source": [
    "for name, size in sorted(((name, sys.getsizeof(value)) for name, value in locals().items()),\n",
    "                         key= lambda x: -x[1])[:10]:\n",
    "    print(\"{:>30}: {:>8}\".format(name, sizeof_fmt(size)))\n"
   ]
  },
  {
   "cell_type": "code",
   "execution_count": 11,
   "id": "678b01d7-4049-4f4a-9998-95160d3a374f",
   "metadata": {},
   "outputs": [],
   "source": [
    "data_dic = {}\n",
    "data_dic[\"max_y\"]            = max_y,\n",
    "data_dic[\"train_x_data\"]     = train_x_data, \n",
    "data_dic[\"train_y_data\"]     = train_y_data\n",
    "data_dic[\"test_time_sorted\"] = test_time_sorted,\n",
    "data_dic[\"test_x_sorted\"]    = test_x_sorted,\n",
    "data_dic[\"test_y_sorted\"]    = test_y_sorted"
   ]
  },
  {
   "cell_type": "code",
   "execution_count": 19,
   "id": "46f3d691-8a72-41e0-9643-b3a4ab211415",
   "metadata": {},
   "outputs": [
    {
     "data": {
      "text/plain": [
       "12801.178125"
      ]
     },
     "execution_count": 19,
     "metadata": {},
     "output_type": "execute_result"
    }
   ],
   "source": [
    "455153/32*.9"
   ]
  },
  {
   "cell_type": "code",
   "execution_count": 12,
   "id": "561b92a4-aa71-44e7-9ceb-649eeaffe020",
   "metadata": {},
   "outputs": [],
   "source": [
    "with open(\"data/pickle/data\", 'wb') as file:\n",
    "    pickle.dump(data_dic, file=open(\"data/pickle/data\", 'wb'))"
   ]
  }
 ],
 "metadata": {
  "kernelspec": {
   "display_name": "Python 3 (ipykernel)",
   "language": "python",
   "name": "python3"
  },
  "language_info": {
   "codemirror_mode": {
    "name": "ipython",
    "version": 3
   },
   "file_extension": ".py",
   "mimetype": "text/x-python",
   "name": "python",
   "nbconvert_exporter": "python",
   "pygments_lexer": "ipython3",
   "version": "3.10.5"
  }
 },
 "nbformat": 4,
 "nbformat_minor": 5
}
