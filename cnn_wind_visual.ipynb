{
 "cells": [
  {
   "cell_type": "markdown",
   "metadata": {},
   "source": [
    "## Import Packages and Data"
   ]
  },
  {
   "cell_type": "code",
   "execution_count": 1,
   "metadata": {
    "tags": []
   },
   "outputs": [],
   "source": [
    "# AYU CODE\n",
    "import pickle\n",
    "\n",
    "from scipy import fft\n",
    "from qtn.bimax import BiMax\n",
    "from qtn.util import (boltzmann, emass, echarge, permittivity, cspeed, fperp, fp)\n",
    "import numpy as np\n",
    "import mpmath as mp\n",
    "import matplotlib.pyplot as plt\n",
    "from pyspedas import wind\n",
    "from pytplot import tplot, get_data\n",
    "import pandas as pd\n",
    "import time\n",
    "import netCDF4 as nc\n",
    "from functions import Timer\n",
    "%matplotlib inline"
   ]
  },
  {
   "cell_type": "code",
   "execution_count": 2,
   "metadata": {
    "tags": []
   },
   "outputs": [],
   "source": [
    "T = Timer.Timer()\n",
    "T.start()"
   ]
  },
  {
   "cell_type": "code",
   "execution_count": 3,
   "metadata": {},
   "outputs": [],
   "source": [
    "ant_len = 50      # m (monopole) \n",
    "ant_rad = 1.9e-4  # m\n",
    "base_cap = 20e-12 # Farad\n",
    "fbins = np.array([4000*1.0445**i for i in range(96)])"
   ]
  },
  {
   "cell_type": "code",
   "execution_count": 4,
   "metadata": {},
   "outputs": [],
   "source": [
    "def find_closest_time(time, lst):\n",
    "    \"\"\"\n",
    "    A function used to find the index of the closest time in a list \n",
    "    to the specific time held in the variable time\n",
    "    \"\"\"\n",
    "    return min(range(len(lst)), key=lambda i: abs(time-lst[i]))"
   ]
  },
  {
   "cell_type": "code",
   "execution_count": 5,
   "metadata": {},
   "outputs": [
    {
     "name": "stdout",
     "output_type": "stream",
     "text": [
      "<class 'netCDF4._netCDF4.Dataset'>\n",
      "root group (NETCDF3_CLASSIC data model, file format NETCDF3):\n",
      "    dimensions(sizes): n_times(19419), n_bins(96)\n",
      "    variables(dimensions): float64 tnr_ch1_time(n_times), float64 tnr_ch1_freq(n_bins), float64 tnr_ch1_spec(n_bins, n_times)\n",
      "    groups: \n",
      "19419\n"
     ]
    }
   ],
   "source": [
    "#data = wind.waves(trange=['1995-6-25', '1995-6-26'],get_support_data=True)\n",
    "ds =  nc.Dataset(\"data/wi_wav_tnr_19950625.nc\")\n",
    "print(ds)\n",
    "print(np.size(ds[\"tnr_ch1_time\"][:]))"
   ]
  },
  {
   "cell_type": "markdown",
   "metadata": {
    "tags": []
   },
   "source": [
    "## Plot 1: June 25, 1995 06:33:06.432"
   ]
  },
  {
   "cell_type": "markdown",
   "metadata": {
    "tags": []
   },
   "source": [
    "### Theoretical"
   ]
  },
  {
   "cell_type": "markdown",
   "metadata": {},
   "source": [
    "Need to import data for:\n",
    "vsw: Solar Wind Speed - Solar Wind Experiment(SWE)\n",
    "tc: core electron temperature\n",
    "fpe: core electron plasma frequency - \n",
    "n: "
   ]
  },
  {
   "cell_type": "code",
   "execution_count": 6,
   "metadata": {},
   "outputs": [],
   "source": [
    "vsw=3.966e5\n",
    "tc = 9.91 * echarge/boltzmann\n",
    "t = 6.57\n",
    "n = 0.026\n",
    "tep = 9.91/9.62\n",
    "fpe = 31.47e3"
   ]
  },
  {
   "cell_type": "code",
   "execution_count": 7,
   "metadata": {},
   "outputs": [
    {
     "data": {
      "text/plain": [
       "115000.78664972584"
      ]
     },
     "execution_count": 7,
     "metadata": {},
     "output_type": "execute_result"
    }
   ],
   "source": [
    "9.91 * echarge/boltzmann"
   ]
  },
  {
   "cell_type": "code",
   "execution_count": 8,
   "metadata": {},
   "outputs": [
    {
     "name": "stdout",
     "output_type": "stream",
     "text": [
      "7.391617810601882\n"
     ]
    }
   ],
   "source": [
    "ne = 12.28e6\n",
    "nc = ne/(1+n)\n",
    "ldc = np.sqrt(permittivity * boltzmann * tc/ nc / echarge**2)\n",
    "lrel = ant_len/ldc\n",
    "print(lrel)"
   ]
  },
  {
   "cell_type": "code",
   "execution_count": 9,
   "metadata": {},
   "outputs": [],
   "source": [
    "wrelplot = fbins/fpe"
   ]
  },
  {
   "cell_type": "code",
   "execution_count": 10,
   "metadata": {},
   "outputs": [
    {
     "name": "stdout",
     "output_type": "stream",
     "text": [
      "BiMax(50, 0.00019, 2e-11)\n",
      "p.gamma_shot(0.1271051795360661, 7.391617810601882, 0.026, 6.57, 115000.78664972584)\n"
     ]
    }
   ],
   "source": [
    "print(f\"BiMax({ant_len}, {ant_rad}, {base_cap})\")\n",
    "print(f\"p.gamma_shot({wrelplot[0]}, {lrel}, {n}, {t}, {tc})\")"
   ]
  },
  {
   "cell_type": "code",
   "execution_count": 11,
   "metadata": {},
   "outputs": [],
   "source": [
    "p = BiMax(ant_len, ant_rad, base_cap,False)"
   ]
  },
  {
   "cell_type": "code",
   "execution_count": 12,
   "metadata": {},
   "outputs": [
    {
     "name": "stdout",
     "output_type": "stream",
     "text": [
      "[[mpf('1.3211749400305373') mpf('2.4834249295966167e-15')]\n",
      " [mpf('1.3211288694057881') mpf('2.2757215078800376e-15')]\n",
      " [mpf('1.3211044156431742') mpf('2.0856526550310722e-15')]\n",
      " [mpf('1.3211447223342081') mpf('1.912180012377556e-15')]\n",
      " [mpf('1.3211092661633683') mpf('1.7523632216937433e-15')]\n",
      " [mpf('1.3210672357600313') mpf('1.6058427785347758e-15')]\n",
      " [mpf('1.3211129981611993') mpf('1.4723265816065555e-15')]\n",
      " [mpf('1.3210345323465886') mpf('1.3489358282601879e-15')]\n",
      " [mpf('1.3210572481875746') mpf('1.2366151998954693e-15')]\n",
      " [mpf('1.3211070655582489') mpf('1.1338266480006653e-15')]\n",
      " [mpf('1.3210040236491418') mpf('1.0386575568069031e-15')]\n",
      " [mpf('1.320996770678573') mpf('9.5200822015109545e-16')]\n",
      " [mpf('1.3210661413076821') mpf('8.7297773416223657e-16')]\n",
      " [mpf('1.3209441850763133') mpf('7.9961697514975126e-16')]\n",
      " [mpf('1.3209085978690873') mpf('7.327903011424727e-16')]\n",
      " [mpf('1.3209919962015952') mpf('6.7201491809132801e-16')]\n",
      " [mpf('1.3209006231946823') mpf('6.1565356584936881e-16')]\n",
      " [mpf('1.3208198905825663') mpf('5.6405477604469431e-16')]\n",
      " [mpf('1.3209148684838583') mpf('5.1731065495003404e-16')]\n",
      " [mpf('1.3208220747285999') mpf('4.7392215363261565e-16')]\n",
      " [mpf('1.3207265986782759') mpf('4.3416663436888133e-16')]\n",
      " [mpf('1.3207661878444683') mpf('3.9806002556680317e-16')]\n",
      " [mpf('1.3207244339329696') mpf('3.6478386216343637e-16')]\n",
      " [mpf('1.3205860717622555') mpf('3.3410190704034618e-16')]\n",
      " [mpf('1.3206197671798658') mpf('3.0630849526762606e-16')]\n",
      " [mpf('1.3205855552834476') mpf('2.8071673827355528e-16')]\n",
      " [mpf('1.3203726007679046') mpf('2.5699578689304367e-16')]\n",
      " [mpf('1.3203575897733035') mpf('2.3555190169278822e-16')]\n",
      " [mpf('1.3203043264459435') mpf('2.1584991356782743e-16')]\n",
      " [mpf('1.3201412271350208') mpf('1.9766985445529491e-16')]\n",
      " [mpf('1.320006930183816') mpf('1.8105224631564141e-16')]\n",
      " [mpf('1.3198873998143219') mpf('1.6584677703736447e-16')]\n",
      " [mpf('1.3197427468619825') mpf('1.5189689023216594e-16')]\n",
      " [mpf('1.3194895642475242') mpf('1.390329892855565e-16')]\n",
      " [mpf('1.3192798276354543') mpf('1.2729174996757715e-16')]\n",
      " [mpf('1.3190997644747753') mpf('1.1656328852773456e-16')]\n",
      " [mpf('1.3187102582813681') mpf('1.0660916705685937e-16')]\n",
      " [mpf('1.3183051280013374') mpf('9.7497133910149788e-17')]\n",
      " [mpf('1.3179723864296287') mpf('8.9202969976860905e-17')]\n",
      " [mpf('1.3173875562274391') mpf('8.149477285612403e-17')]\n",
      " [mpf('1.3166684116201555') mpf('7.4394968111468489e-17')]\n",
      " [mpf('1.3158821948211517') mpf('6.7888157933489067e-17')]\n",
      " [mpf('1.3148117967670712') mpf('6.184786824545223e-17')]\n",
      " [mpf('1.3133529477591923') mpf('5.6216666976342089e-17')]\n",
      " [mpf('1.3113032391252664') mpf('5.0919653360618397e-17')]\n",
      " [mpf('1.3083326649430109') mpf('4.5868086689813774e-17')]\n",
      " [mpf('1.3033385620016775') mpf('4.0811678996097193e-17')]\n",
      " [mpf('1.2914563733473177') mpf('3.4773052989700668e-17')]\n",
      " [mpf('1.2903234562090362') mpf('3.275224876991126e-17')]\n",
      " [mpf('1.3171299654445636') mpf('3.5565019396437234e-17')]\n",
      " [mpf('1.3362999071288035') mpf('3.6139413782371444e-17')]\n",
      " [mpf('1.3496764902145939') mpf('3.534243297858681e-17')]\n",
      " [mpf('1.3587201066122785') mpf('3.3734907123328377e-17')]\n",
      " [mpf('1.3648014040568748') mpf('3.1724487557490611e-17')]\n",
      " [mpf('1.3685520840549854') mpf('2.9509517834619319e-17')]\n",
      " [mpf('1.3707356414775429') mpf('2.7258683968499058e-17')]\n",
      " [mpf('1.3718197513614183') mpf('2.5060927987518597e-17')]\n",
      " [mpf('1.3723155740030004') mpf('2.2986675183113921e-17')]\n",
      " [mpf('1.3722464769649447') mpf('2.1034486926142006e-17')]\n",
      " [mpf('1.3718647773111829') mpf('1.9224550014942713e-17')]\n",
      " [mpf('1.3713140316828447') mpf('1.755978493373705e-17')]\n",
      " [mpf('1.3707419824382649') mpf('1.6040273470173338e-17')]\n",
      " [mpf('1.3701112297918661') mpf('1.4649828763386567e-17')]\n",
      " [mpf('1.369331254621716') mpf('1.337115865993667e-17')]\n",
      " [mpf('1.3686338890377487') mpf('1.2209960916164044e-17')]\n",
      " [mpf('1.3679642358486042') mpf('1.1151713425115678e-17')]\n",
      " [mpf('1.3674087720957619') mpf('1.0191430219836633e-17')]\n",
      " [mpf('1.3667421624004028') mpf('9.3088766666093273e-18')]\n",
      " [mpf('1.3661528167717827') mpf('8.5062441000438996e-18')]\n",
      " [mpf('1.3655766743361277') mpf('7.7734562875395883e-18')]\n",
      " [mpf('1.3651261916247965') mpf('7.1084140608356688e-18')]\n",
      " [mpf('1.3646253952972112') mpf('6.4986690110271935e-18')]\n",
      " [mpf('1.3641674674856215') mpf('5.9425643060258171e-18')]\n",
      " [mpf('1.3636890884238428') mpf('5.433508299997712e-18')]\n",
      " [mpf('1.3633336566914764') mpf('4.971198274114692e-18')]\n",
      " [mpf('1.3629616207614204') mpf('4.5478546005962716e-18')]\n",
      " [mpf('1.3626358578889062') mpf('4.1615588067138513e-18')]\n",
      " [mpf('1.3622389974798907') mpf('3.8066961379655681e-18')]\n",
      " [mpf('1.3619160830587314') mpf('3.4834171167831044e-18')]\n",
      " [mpf('1.3616214408285989') mpf('3.1880581808323276e-18')]\n",
      " [mpf('1.3614097112941277') mpf('2.9189885403363723e-18')]\n",
      " [mpf('1.3611575265391498') mpf('2.672075245360256e-18')]\n",
      " [mpf('1.3608602386535535') mpf('2.4454815802201024e-18')]\n",
      " [mpf('1.3606138150902003') mpf('2.2386893484466317e-18')]\n",
      " [mpf('1.3603890162855514') mpf('2.0496122724788696e-18')]\n",
      " [mpf('1.3602712011807438') mpf('1.8775400062450828e-18')]\n",
      " [mpf('1.3600620535302848') mpf('1.7191046332833506e-18')]\n",
      " [mpf('1.3598862520273725') mpf('1.5743095817653923e-18')]\n",
      " [mpf('1.3596819081819536') mpf('1.4414977225673248e-18')]\n",
      " [mpf('1.3595011236004657') mpf('1.3200505280388881e-18')]\n",
      " [mpf('1.359397503937916') mpf('1.2093174542837821e-18')]\n",
      " [mpf('1.3592903435121171') mpf('1.1078531331022818e-18')]\n",
      " [mpf('1.3592051622446235') mpf('1.0150173276011107e-18')]\n",
      " [mpf('1.3590227177559602') mpf('9.2949319503695263e-19')]\n",
      " [mpf('1.3588972540016917') mpf('8.5142605373249921e-19')]\n",
      " [mpf('1.3588003321071922') mpf('7.800308874024242e-19')]]\n"
     ]
    }
   ],
   "source": [
    "T.lap(\"Gamma_shot\")\n",
    "g_s = np.array([p.gamma_shot(wrel, lrel, n, t, tc) for wrel in wrelplot])\n",
    "print(g_s)"
   ]
  },
  {
   "cell_type": "code",
   "execution_count": 13,
   "metadata": {},
   "outputs": [],
   "source": [
    "def helper(wrel):\n",
    "    \"\"\"\n",
    "    add precision control to bimax function.\n",
    "    \n",
    "    \"\"\"\n",
    "    if wrel > 1 and wrel < 1.2:\n",
    "        mp.mp.dps = 40\n",
    "    else:\n",
    "        mp.mp.dps = 20\n",
    "    #mp.mp.dps = 3\n",
    "    return p.bimax(wrel, lrel, n, t, tc)"
   ]
  },
  {
   "cell_type": "code",
   "execution_count": 14,
   "metadata": {},
   "outputs": [],
   "source": [
    "T.lap(\"Enoise\")\n",
    "enoise = np.array([helper(wrel) for wrel in wrelplot])"
   ]
  },
  {
   "cell_type": "code",
   "execution_count": 15,
   "metadata": {},
   "outputs": [],
   "source": [
    "#Modified by AYU \n",
    "# - Was running into an parameter error \n",
    "# - need to fix to match up with reference graph\n",
    "#pnoise = np.array([p.proton(wrel*np.sqrt(1+n), ne, n, t, tep, tc, vsw) for wrel in wrelplot])\n",
    "T.lap(\"Pnoise\")\n",
    "pnoise = np.array([p.proton2(wrel*np.sqrt(1+n), lrel, tep, tc, vsw) for wrel in wrelplot])"
   ]
  },
  {
   "cell_type": "code",
   "execution_count": 16,
   "metadata": {},
   "outputs": [],
   "source": [
    "T.lap(\"Addition\")\n",
    "gamma = g_s[:, 0]\n",
    "shot = g_s[:, 1]\n",
    "vr2 = enoise + pnoise + shot"
   ]
  },
  {
   "cell_type": "code",
   "execution_count": 20,
   "metadata": {},
   "outputs": [
    {
     "data": {
      "image/png": "[encoded data removed]",
      "text/plain": [
       "<Figure size 432x432 with 1 Axes>"
      ]
     },
     "metadata": {},
     "output_type": "display_data"
    }
   ],
   "source": [
    "T.lap(\"Plot\")\n",
    "plt.rc('text', usetex=True)\n",
    "plt.rc('font', family='serif')\n",
    "fig = plt.figure(figsize=[6, 6], facecolor='w')\n",
    "plt.plot(fbins/1000, vr2/gamma, 'o-', markersize=2, label='total')\n",
    "#plt.plot(fbins/1000, enoise/gamma, label='electron')\n",
    "#plt.plot(fbins/1000, pnoise/gamma, label='proton')\n",
    "#plt.plot(fbins/1000, shot/gamma, label='shot')\n",
    "plt.xscale('log')\n",
    "plt.yscale('log')\n",
    "plt.xlim([4, 256])\n",
    "plt.ylim([1e-16, 5e-13])\n",
    "plt.xlabel(r'$f[kHz]$')\n",
    "plt.ylabel(r'$V_r^2[V^2Hz^{-1}]$')\n",
    "plt.title('ROUGH ESTIMATE: June 25 1995:06:33:06.432')\n",
    "#plt.legend(loc='best')\n",
    "plt.show()"
   ]
  },
  {
   "cell_type": "code",
   "execution_count": 29,
   "metadata": {},
   "outputs": [
    {
     "data": {
      "text/plain": [
       "array([2.8920e-14, 2.8510e-14, 2.8100e-14, 2.7680e-14, 2.7260e-14,\n",
       "       2.6840e-14, 2.6400e-14, 2.5960e-14, 2.5510e-14, 2.5050e-14,\n",
       "       2.4580e-14, 2.4100e-14, 2.3610e-14, 2.3120e-14, 2.2620e-14,\n",
       "       2.2110e-14, 2.1600e-14, 2.1080e-14, 2.0560e-14, 2.0040e-14,\n",
       "       1.9530e-14, 1.9020e-14, 1.8510e-14, 1.8020e-14, 1.7530e-14,\n",
       "       1.7060e-14, 1.6610e-14, 1.6170e-14, 1.5750e-14, 1.5350e-14,\n",
       "       1.4980e-14, 1.4630e-14, 1.4310e-14, 1.4020e-14, 1.3760e-14,\n",
       "       1.3530e-14, 1.3340e-14, 1.3200e-14, 1.3090e-14, 1.3050e-14,\n",
       "       1.3070e-14, 1.3170e-14, 1.3390e-14, 1.3770e-14, 1.4430e-14,\n",
       "       1.5600e-14, 1.7930e-14, 2.4330e-14, 1.5815e-13, 1.6238e-13,\n",
       "       1.1160e-13, 6.8030e-14, 4.5810e-14, 3.3720e-14, 2.6100e-14,\n",
       "       2.0790e-14, 1.6850e-14, 1.3820e-14, 1.1450e-14, 9.5600e-15,\n",
       "       8.0300e-15, 6.7900e-15, 5.7600e-15, 4.9200e-15, 4.2100e-15,\n",
       "       3.6200e-15, 3.1200e-15, 2.7000e-15, 2.3300e-15, 2.0200e-15,\n",
       "       1.7600e-15, 1.5300e-15, 1.3300e-15, 1.1600e-15, 1.0100e-15,\n",
       "       8.8000e-16, 7.7000e-16, 6.7000e-16, 5.9000e-16, 5.1000e-16,\n",
       "       4.5000e-16, 3.9000e-16, 3.5000e-16, 3.0000e-16, 2.6000e-16,\n",
       "       2.3000e-16, 2.0000e-16, 1.8000e-16, 1.6000e-16, 1.4000e-16,\n",
       "       1.2000e-16, 1.1000e-16, 9.0000e-17, 8.0000e-17, 7.0000e-17,\n",
       "       6.0000e-17])"
      ]
     },
     "execution_count": 29,
     "metadata": {},
     "output_type": "execute_result"
    }
   ],
   "source": [
    "np.round([float(num) for num in vr2/gamma],17)"
   ]
  },
  {
   "cell_type": "code",
   "execution_count": 18,
   "metadata": {},
   "outputs": [
    {
     "name": "stdout",
     "output_type": "stream",
     "text": [
      "Total Time: 154.5491974354\n",
      "Name: Elapsed Time\n",
      "Gamma_shot: 103.5940973759\n",
      "Enoise: 41.4233522415\n",
      "Pnoise: 0.6666488647\n",
      "Addition: 0.0089497566\n",
      "Plot: 0.2802348137\n",
      "\n"
     ]
    }
   ],
   "source": [
    "T.stop()\n",
    "print(T.summary())"
   ]
  },
  {
   "cell_type": "code",
   "execution_count": 22,
   "metadata": {},
   "outputs": [],
   "source": [
    "mpf = mp.mpf\n",
    "vr2_reduce = [mpf('3.81639e-14'),\n",
    "mpf('3.76435e-14'),\n",
    "mpf('3.71023e-14'),\n",
    "mpf('3.65541e-14'),\n",
    "mpf('3.5999e-14'),\n",
    "mpf('3.54369e-14'),\n",
    "mpf('3.48749e-14'),\n",
    "mpf('3.42712e-14'),\n",
    "mpf('3.36675e-14'),\n",
    "mpf('3.305e-14'),\n",
    "mpf('3.24255e-14'),\n",
    "mpf('3.18079e-14'),\n",
    "mpf('3.11903e-14'),\n",
    "mpf('3.05381e-14'),\n",
    "mpf('2.98719e-14'),\n",
    "mpf('2.91989e-14'),\n",
    "mpf('2.85189e-14'),\n",
    "mpf('2.78388e-14'),\n",
    "mpf('2.71519e-14'),\n",
    "mpf('2.64441e-14'),\n",
    "mpf('2.57572e-14'),\n",
    "mpf('2.50945e-14'),\n",
    "mpf('2.44492e-14'),\n",
    "mpf('2.37935e-14'),\n",
    "mpf('2.31551e-14'),\n",
    "mpf('2.25549e-14'),\n",
    "mpf('2.19477e-14'),\n",
    "mpf('2.13544e-14'),\n",
    "mpf('2.07855e-14'),\n",
    "mpf('2.02477e-14'),\n",
    "mpf('1.97516e-14'),\n",
    "mpf('1.93144e-14'),\n",
    "mpf('1.88877e-14'),\n",
    "mpf('1.84991e-14'),\n",
    "mpf('1.81521e-14'),\n",
    "mpf('1.78503e-14'),\n",
    "mpf('1.76144e-14'),\n",
    "mpf('1.73958e-14'),\n",
    "mpf('1.72466e-14'),\n",
    "mpf('1.71703e-14'),\n",
    "mpf('1.71876e-14'),\n",
    "mpf('1.73229e-14'),\n",
    "mpf('1.76109e-14'),\n",
    "mpf('1.80932e-14'),\n",
    "mpf('1.89293e-14'),\n",
    "mpf('2.04038e-14'),\n",
    "mpf('2.33702e-14'),\n",
    "mpf('3.14471e-14'),\n",
    "mpf('2.04115e-13'),\n",
    "mpf('2.13801e-13'),\n",
    "mpf('1.4902e-13'),\n",
    "mpf('9.17599e-14'),\n",
    "mpf('6.22141e-14'),\n",
    "mpf('4.59979e-14'),\n",
    "mpf('3.57006e-14'),\n",
    "mpf('2.84911e-14'),\n",
    "mpf('2.31135e-14'),\n",
    "mpf('1.89432e-14'),\n",
    "mpf('1.57027e-14'),\n",
    "mpf('1.28855e-14'),\n",
    "mpf('1.10103e-14'),\n",
    "mpf('9.29985e-15'),\n",
    "mpf('7.8982e-15'),\n",
    "mpf('6.73506e-15'),\n",
    "mpf('5.76535e-15'),\n",
    "mpf('4.95264e-15'),\n",
    "mpf('4.26482e-15'),\n",
    "mpf('3.68282e-15'),\n",
    "mpf('3.18712e-15'),\n",
    "mpf('2.76515e-15'),\n",
    "mpf('2.39999e-15'),\n",
    "mpf('2.08644e-15'),\n",
    "mpf('1.81669e-15'),\n",
    "mpf('1.5825e-15'),\n",
    "mpf('1.37932e-15'),\n",
    "mpf('1.20303e-15'),\n",
    "mpf('1.05038e-15'),\n",
    "mpf('9.18102e-16'),\n",
    "mpf('8.0231e-16'),\n",
    "mpf('7.0072e-16'),\n",
    "mpf('6.12683e-16'),\n",
    "mpf('5.36463e-16'),\n",
    "mpf('4.69893e-16'),\n",
    "mpf('4.11997e-16'),\n",
    "mpf('3.60497e-16'),\n",
    "mpf('3.15449e-16'),\n",
    "mpf('2.76472e-16'),\n",
    "mpf('2.42265e-16'),\n",
    "mpf('2.12341e-16'),\n",
    "mpf('1.86293e-16'),\n",
    "mpf('1.63687e-16'),\n",
    "mpf('1.43684e-16'),\n",
    "mpf('1.26093e-16'),\n",
    "mpf('1.10534e-16'),\n",
    "mpf('9.69141e-17'),\n",
    "mpf('8.51505e-17')]"
   ]
  },
  {
   "cell_type": "code",
   "execution_count": 28,
   "metadata": {},
   "outputs": [
    {
     "data": {
      "text/plain": [
       "mpf('0.00039537963642061569892046')"
      ]
     },
     "execution_count": 28,
     "metadata": {},
     "output_type": "execute_result"
    }
   ],
   "source": [
    "np.mean(np.divide(np.subtract(vr2,vr2_reduce), vr2))"
   ]
  },
  {
   "cell_type": "code",
   "execution_count": 19,
   "metadata": {},
   "outputs": [],
   "source": [
    "#fig.savefig('plots/wind19950625_theoretical_rough.png', dpi=300)"
   ]
  },
  {
   "cell_type": "code",
   "execution_count": 20,
   "metadata": {},
   "outputs": [
    {
     "ename": "NameError",
     "evalue": "name 'error' is not defined",
     "output_type": "error",
     "traceback": [
      "\u001b[0;31m---------------------------------------------------------------------------\u001b[0m",
      "\u001b[0;31mNameError\u001b[0m                                 Traceback (most recent call last)",
      "\u001b[0;32m/tmp/ipykernel_28762/1499560347.py\u001b[0m in \u001b[0;36m<module>\u001b[0;34m\u001b[0m\n\u001b[0;32m----> 1\u001b[0;31m \u001b[0;32mraise\u001b[0m \u001b[0merror\u001b[0m\u001b[0;34m\u001b[0m\u001b[0;34m\u001b[0m\u001b[0m\n\u001b[0m\u001b[1;32m      2\u001b[0m \u001b[0mfig\u001b[0m\u001b[0;34m.\u001b[0m\u001b[0msavefig\u001b[0m\u001b[0;34m(\u001b[0m\u001b[0;34m'plots/wind19950625_theoretical.png'\u001b[0m\u001b[0;34m,\u001b[0m \u001b[0mdpi\u001b[0m\u001b[0;34m=\u001b[0m\u001b[0;36m300\u001b[0m\u001b[0;34m)\u001b[0m\u001b[0;34m\u001b[0m\u001b[0;34m\u001b[0m\u001b[0m\n",
      "\u001b[0;31mNameError\u001b[0m: name 'error' is not defined"
     ]
    }
   ],
   "source": [
    "raise error\n",
    "fig.savefig('plots/wind19950625_theoretical.png', dpi=300)"
   ]
  },
  {
   "cell_type": "markdown",
   "metadata": {
    "tags": []
   },
   "source": [
    "### Experimental"
   ]
  },
  {
   "cell_type": "markdown",
   "metadata": {},
   "source": [
    "#m_dat=readsav('/Users/Tong/Google Drive/research/data/meudon_tnr/TNR_XY_ACE_19950625.sav')\n",
    "#data = wind.waves(trange=['1995-6-25', '1995-6-26'],get_support_data=True)\n"
   ]
  },
  {
   "cell_type": "markdown",
   "metadata": {},
   "source": [
    "#tplot(['E_VOLTAGE_TNR'])"
   ]
  },
  {
   "cell_type": "markdown",
   "metadata": {},
   "source": [
    "# Here I imported the Voltage TNR data and tried to find the epoch time\n",
    "# Converting \n",
    "export_data = get_data('E_VOLTAGE_TNR')\n",
    "min_data = get_data('Minimum_voltage_TNR')\n",
    "df = pd.DataFrame(export_data.y)\n",
    "#df.describe()\n",
    "loc = min(range(len(export_data.times)), key=lambda i: abs(804061986.432-export_data.times[i]))\n",
    "#print(np.shape(export_data.y))\n",
    "#print(export_data.times[loc], loc)\n",
    "#print(\"TARGET TIME: \"+str(time.strftime(\"%d %b %Y %H:%M:%S\", time.gmtime(804061986))))\n",
    "\n",
    "#print(\"Closest times to Target Time\")\n",
    "#print(str(time.strftime(\"%d %b %Y %H:%M:%S\", time.gmtime(export_data.times[loc-1]))))\n",
    "print(str(time.strftime(\"%d %b %Y %H:%M:%S\", time.gmtime(export_data.times[loc]))))\n",
    "#print(str(time.strftime(\"%d %b %Y %H:%M:%S\", time.gmtime(export_data.times[loc+1]))))"
   ]
  },
  {
   "cell_type": "markdown",
   "metadata": {},
   "source": [
    "oldTime = export_data.times[0]-60\n",
    "for time in export_data.times:\n",
    "    if oldTime + 60 != time:\n",
    "        print(time)\n",
    "    oldTime = time"
   ]
  },
  {
   "cell_type": "markdown",
   "metadata": {},
   "source": [
    "data = wind.waves(trange=['1995-6-25', '1995-6-26'],get_support_data=True)"
   ]
  },
  {
   "cell_type": "code",
   "execution_count": 3,
   "metadata": {},
   "outputs": [
    {
     "name": "stdout",
     "output_type": "stream",
     "text": [
      "[9.7185170294017e-14, 7.313074538624811e-14, 5.302735926292154e-14, 3.793149849736809e-14, 2.89334352339151e-14, 2.2392366825123616e-14, 1.794320421716837e-14, 1.5448986725154426e-14, 1.3931568029453036e-14, 1.3498950350559801e-14, 1.2425103069290103e-14, 1.2187089485092812e-14, 1.1805924458138925e-14, 1.1441948798169872e-14, 1.131878993655418e-14, 1.0546297058996503e-14, 1.0749790488200815e-14, 1.0083237577615525e-14, 9.26616437493746e-15, 8.431405951147685e-15, 7.996501075653532e-15, 7.78036551039804e-15, 7.1039517000295234e-15, 6.450598332848311e-15, 6.0269834652118385e-15, 5.712155216230454e-15, 5.205950088015483e-15, 4.66122428001887e-15, 4.026243159764705e-15, 3.55631318568984e-15, 2.9908869650638324e-15, 2.4569708276368362e-15, 1.557758034831605e-15, 1.3950828503573704e-15, 1.2499711805783696e-15, 1.1500057186992375e-15, 1.0318106352675928e-15, 9.63385266142348e-16, 8.81048873008011e-16, 8.092822218443724e-16, 7.234358058506338e-16, 6.553902858334767e-16, 6.013121787899332e-16, 5.382697825162881e-16, 4.822808303816465e-16, 4.4350651102530384e-16, 5.260172663907063e-16, 5.573140604637285e-16, 4.042034350795009e-16, 3.668596944413426e-16, 3.4793650764909365e-16, 3.3853221281535306e-16, 3.207746206134084e-16, 3.0584402465105386e-16, 2.9308932452503126e-16, 2.821629583090804e-16, 2.6254273189937e-16, 2.5084185282523844e-16, 2.4027024985383276e-16, 2.355591616469393e-16, 2.2787674114329484e-16, 2.314195261511252e-16, 2.375198990470028e-16, 2.454143763137434e-16, 2.1188489620866483e-16, 2.04974577545339e-16, 1.8879913490962927e-16, 1.8437413677717412e-16, 1.8335805775977795e-16, 1.706082389003121e-16, 1.6764862660738944e-16, 1.794320421716837e-16, 1.8109230641640642e-16, 1.5456102884892018e-16, 4.0383132134885266e-16, 2.876073628863028e-16, 1.7250432972458388e-16, 1.4223287871228214e-16, 1.6432362237025636e-16, 1.9015160697745802e-16, 1.4750271017597563e-16, 1.3353650333271872e-16, 1.198119123190034e-16, 1.2609561959936845e-16, 1.277614993970792e-16, 1.2246161992650464e-16, 1.1694993910198746e-16, 1.0599856845091623e-16, 1.0587660331136948e-16, 1.0864256236170689e-16, 2.3905619353446257e-16, 2.223309890651401e-16, 1.7410049263526008e-16, 1.25342975458298e-16, 1.9444644164481306e-16, 2.5113081148680436e-16]\n"
     ]
    }
   ],
   "source": [
    "string = \"\"\"-130.124 -131.359 -132.755 -134.210 -135.386 -136.499 -137.461 -138.111\n",
    " -138.560 -138.697 -139.057 -139.141 -139.279 -139.415 -139.462 -139.769\n",
    " -139.686 -139.964 -140.331 -140.741 -140.971 -141.090 -141.485 -141.904\n",
    " -142.199 -142.432 -142.835 -143.315 -143.951 -144.490 -145.242 -146.096\n",
    " -148.075 -148.554 -149.031 -149.393 -149.864 -150.162 -150.550 -150.919\n",
    " -151.406 -151.835 -152.209 -152.690 -153.167 -153.531 -152.790 -152.539\n",
    " -153.934 -154.355 -154.585 -154.704 -154.938 -155.145 -155.330 -155.495\n",
    " -155.808 -156.006 -156.193 -156.279 -156.423 -156.356 -156.243 -156.101\n",
    " -156.739 -156.883 -157.240 -157.343 -157.367 -157.680 -157.756 -157.461\n",
    " -157.421 -158.109 -153.938 -155.412 -157.632 -158.470 -157.843 -157.209\n",
    " -158.312 -158.744 -159.215 -158.993 -158.936 -159.120 -159.320 -159.747\n",
    " -159.752 -159.640 -156.215 -156.530 -157.592 -159.019 -157.112 -156.001\"\"\"\n",
    "lst = string.split(\" \")\n",
    "lst = [float(num) for num in lst]\n",
    "print([10**(num/10) for num in lst])"
   ]
  },
  {
   "cell_type": "code",
   "execution_count": 6,
   "metadata": {},
   "outputs": [
    {
     "name": "stdout",
     "output_type": "stream",
     "text": [
      "Target Time: 25 Jun 1995 06:33:06\n",
      "Time Found: 25 Jun 1995 06:33:08.6399999856948853\n",
      "(96,)\n"
     ]
    },
    {
     "data": {
      "image/png": "[encoded data removed]",
      "text/plain": [
       "<Figure size 432x288 with 1 Axes>"
      ]
     },
     "metadata": {
      "needs_background": "light"
     },
     "output_type": "display_data"
    }
   ],
   "source": [
    "#export_data = get_data('E_VOLTAGE_TNR')\n",
    "#min_data = get_data('Minimum_voltage_TNR')\n",
    "\n",
    "#loc = min(range(len(export_data.times)), key=lambda i: abs(804061986.432-export_data.times[i]))\n",
    "#spec = export_data.y[loc][:]\n",
    "#min_spec = min_data.y[0][:]\n",
    "#freq = export_data.v\n",
    "\n",
    "loc = find_closest_time(804061986.432, ds[\"tnr_ch1_time\"])\n",
    "print(f\"Target Time: {time.strftime('%d %b %Y %H:%M:%S', time.gmtime(804061986.432))}\")\n",
    "print(f\"Time Found: {time.strftime('%d %b %Y %H:%M:%S', time.gmtime(int(ds['tnr_ch1_time'][loc])))}{str(ds['tnr_ch1_time'][loc]%1)[1:]}\")\n",
    "spec = ds[\"tnr_ch1_spec\"][:, loc][:]\n",
    "freq = ds[\"tnr_ch1_freq\"][:]\n",
    "#print(spec)\n",
    "\n",
    "spec /= 1e6\n",
    "\n",
    "#spec = np.multiply(spec,min_spec)\n",
    "\n",
    "spec = spec**2\n",
    "spec -= [10**(num/10) for num in lst]\n",
    "\n",
    "print(np.shape(spec))\n",
    "\n",
    "plt.plot(freq, spec)\n",
    "plt.xscale('log')\n",
    "plt.yscale('log')\n",
    "plt.show()"
   ]
  },
  {
   "cell_type": "code",
   "execution_count": 7,
   "metadata": {},
   "outputs": [
    {
     "data": {
      "text/plain": [
       "masked_array(data=[8.59425599e-14, 7.66795662e-14, 5.35075073e-14,\n",
       "                   3.33683183e-14, 2.67760351e-14, 1.96137318e-14,\n",
       "                   2.16234888e-14, 3.21054604e-14, 1.32089552e-14,\n",
       "                   2.71362081e-14, 2.09506781e-14, 2.30677169e-14,\n",
       "                   2.51935956e-14, 2.33222000e-14, 2.15802293e-14,\n",
       "                   2.01628737e-14, 1.99320880e-14, 2.12632150e-14,\n",
       "                   1.76198087e-14, 1.09706565e-14, 1.75899955e-14,\n",
       "                   1.40808541e-14, 1.56462588e-14, 1.95157205e-14,\n",
       "                   1.60068849e-14, 1.51555570e-14, 1.69102911e-14,\n",
       "                   1.57576200e-14, 1.70404426e-14, 1.30785421e-14,\n",
       "                   1.61033409e-14, 1.79135755e-14, 1.31238636e-14,\n",
       "                   1.39080174e-14, 1.35090727e-14, 1.46845656e-14,\n",
       "                   1.30160573e-14, 1.32561003e-14, 1.35539835e-14,\n",
       "                   1.23245478e-14, 1.36053284e-14, 1.36581308e-14,\n",
       "                   1.29588454e-14, 1.25662432e-14, 1.56516712e-14,\n",
       "                   1.48833749e-14, 1.43493255e-14, 5.72229828e-14,\n",
       "                   2.23120519e-13, 1.32227502e-13, 9.04366923e-14,\n",
       "                   6.52234318e-14, 4.70319309e-14, 3.79408802e-14,\n",
       "                   2.62815517e-14, 2.07544921e-14, 1.65793760e-14,\n",
       "                   1.63957621e-14, 1.37020807e-14, 1.10716109e-14,\n",
       "                   8.48728903e-15, 1.03713562e-14, 7.69371667e-15,\n",
       "                   5.20725248e-15, 3.36080394e-15, 2.96317441e-15,\n",
       "                   2.59832806e-15, 2.26550631e-15, 1.98225255e-15,\n",
       "                   1.69835293e-15, 1.45351971e-15, 1.32834995e-15,\n",
       "                   1.22255503e-15, 1.00364225e-15, 1.23548250e-15,\n",
       "                   1.10198167e-15, 7.97036442e-16, 6.13652758e-16,\n",
       "                   5.41957445e-16, 4.10788923e-16, 4.44150636e-16,\n",
       "                   3.88917574e-16, 3.78742584e-16, 5.23578055e-16,\n",
       "                   7.41940875e-16, 3.45153188e-16, 3.42476707e-16,\n",
       "                   3.40848184e-16, 3.30558817e-16, 3.47874942e-16,\n",
       "                   1.87846202e-15, 1.66236423e-15, 4.04571944e-16,\n",
       "                   3.92978976e-16, 4.55528648e-16, 8.11276090e-16],\n",
       "             mask=False,\n",
       "       fill_value=1e+20)"
      ]
     },
     "execution_count": 7,
     "metadata": {},
     "output_type": "execute_result"
    }
   ],
   "source": [
    "spec"
   ]
  },
  {
   "cell_type": "code",
   "execution_count": null,
   "metadata": {},
   "outputs": [],
   "source": [
    "plt.rc('text', usetex=True)\n",
    "plt.rc('font', family='serif')\n",
    "fig = plt.figure(figsize=[6, 6], facecolor=\"white\")\n",
    "plt.plot(fbins/1000, vr2/gamma, label='theory')\n",
    "#plt.plot(fbins/1000, enoise/gamma, label='electron')\n",
    "#plt.plot(fbins/1000, pnoise/gamma, label='proton')\n",
    "#plt.plot(fbins/1000, shot/gamma, label='shot')\n",
    "plt.plot(fbins/1000, spec, 'o', markersize=3, label='WIND data')\n",
    "plt.xscale('log')\n",
    "plt.yscale('log')\n",
    "plt.xlim([4, 256])\n",
    "plt.ylim([1e-16, 5e-13])\n",
    "plt.xlabel(r'$f[kHz]$')\n",
    "plt.ylabel(r'$V_r^2[V^2Hz^{-1}]$')\n",
    "plt.title('June 25 1995:06:33:08.639')\n",
    "#plt.title('June 25 1995:06:33:06.432')\n",
    "plt.legend(loc='best')\n",
    "#plt.axvline(x=31.924165899128376)\n",
    "plt.show()\n",
    "fig.savefig('plots/wind19950625.png', dpi=500)"
   ]
  },
  {
   "cell_type": "markdown",
   "metadata": {
    "tags": []
   },
   "source": [
    "## Plot 2: June 25, 1995 18:52:34.344 GMT"
   ]
  },
  {
   "cell_type": "code",
   "execution_count": null,
   "metadata": {},
   "outputs": [],
   "source": [
    "assert False"
   ]
  },
  {
   "cell_type": "markdown",
   "metadata": {},
   "source": [
    "### Theoretical"
   ]
  },
  {
   "cell_type": "code",
   "execution_count": null,
   "metadata": {},
   "outputs": [],
   "source": [
    "vsw=7.61e5\n",
    "tc = 11.53 * echarge/boltzmann\n",
    "t = 5.57\n",
    "n = 0.059\n",
    "tep = 11.53/47.49\n",
    "fpe = 22.24e3\n",
    "te = tc * (1 + n)/(1 + n/t)\n",
    "print(te)\n",
    "te = te"
   ]
  },
  {
   "cell_type": "code",
   "execution_count": null,
   "metadata": {},
   "outputs": [],
   "source": [
    "ne = 6.13e6\n",
    "nc = ne/(1+n)\n",
    "ldc = np.sqrt(permittivity * boltzmann * tc/ nc / echarge**2)\n",
    "lc = ant_len/ldc\n",
    "print(lc)\n",
    "lde = np.sqrt(permittivity * boltzmann * te/ ne / echarge**2)\n",
    "le = ant_len/lde\n",
    "print(le)"
   ]
  },
  {
   "cell_type": "code",
   "execution_count": null,
   "metadata": {},
   "outputs": [],
   "source": [
    "p = BiMax(ant_len, ant_rad, base_cap)"
   ]
  },
  {
   "cell_type": "code",
   "execution_count": null,
   "metadata": {},
   "outputs": [],
   "source": [
    "wrelplot = fbins/fpe"
   ]
  },
  {
   "cell_type": "code",
   "execution_count": null,
   "metadata": {},
   "outputs": [],
   "source": [
    "#wrelplot = wrelplot[0:2]"
   ]
  },
  {
   "cell_type": "code",
   "execution_count": null,
   "metadata": {},
   "outputs": [],
   "source": [
    "g_s = np.array([p.gamma_shot(wrel, lrel, n, t, tc) for wrel in wrelplot])"
   ]
  },
  {
   "cell_type": "code",
   "execution_count": null,
   "metadata": {},
   "outputs": [],
   "source": [
    "wrelplot[0]"
   ]
  },
  {
   "cell_type": "code",
   "execution_count": null,
   "metadata": {},
   "outputs": [],
   "source": [
    "wrel = wrelplot[0]\n",
    "print(p.gamma_shot(wrel, lrel, n, t, tc))\n",
    "print(p.proton2(wrel, lc, tep, tc, vsw))\n",
    "print(p.proton2(wrel, le, tep, te, vsw))"
   ]
  },
  {
   "cell_type": "code",
   "execution_count": null,
   "metadata": {},
   "outputs": [],
   "source": [
    "p.proton2(0.1, le, tep, te, vsw)"
   ]
  },
  {
   "cell_type": "code",
   "execution_count": null,
   "metadata": {},
   "outputs": [],
   "source": [
    "def helper(wrel):\n",
    "    \"\"\"\n",
    "    add precision control to bimax function.\n",
    "    \n",
    "    \"\"\"\n",
    "    if wrel > 1 and wrel < 1.2:\n",
    "        mp.mp.dps = 40\n",
    "    else:\n",
    "        mp.mp.dps = 20\n",
    "    return p.bimax(wrel, lrel, n, t, tc)"
   ]
  },
  {
   "cell_type": "code",
   "execution_count": null,
   "metadata": {},
   "outputs": [],
   "source": [
    "enoise = np.array([helper(wrel) for wrel in wrelplot])"
   ]
  },
  {
   "cell_type": "code",
   "execution_count": null,
   "metadata": {},
   "outputs": [],
   "source": [
    "pnoise = np.array([p.proton2(wrel*np.sqrt(1+n), lrel, tep, tc, vsw) for wrel in wrelplot])"
   ]
  },
  {
   "cell_type": "code",
   "execution_count": null,
   "metadata": {},
   "outputs": [],
   "source": [
    "fig = plt.figure(figsize=[6, 6])\n",
    "plt.plot(fbins/1000, pnoise, label='proton')\n",
    "plt.xscale('log')\n",
    "plt.yscale('log')\n",
    "plt.xlim([4, 256])\n",
    "plt.ylim([1e-16, 5e-13])\n",
    "plt.xlabel(r'$f[kHz]$')\n",
    "plt.ylabel(r'$V_r^2[V^2Hz^{-1}]$')\n",
    "plt.title('June 19 1995:18:52:35.344')\n",
    "plt.legend(loc='best')\n",
    "plt.show()"
   ]
  },
  {
   "cell_type": "code",
   "execution_count": null,
   "metadata": {},
   "outputs": [],
   "source": [
    "gamma = g_s[:, 0]\n",
    "shot = g_s[:, 1]\n",
    "vr2 = enoise + pnoise + shot"
   ]
  },
  {
   "cell_type": "code",
   "execution_count": null,
   "metadata": {},
   "outputs": [],
   "source": [
    "plt.rc('text', usetex=True)\n",
    "plt.rc('font', family='serif')\n",
    "fig = plt.figure(figsize=[6, 6])\n",
    "plt.plot(fbins/1000, vr2/gamma, 'o-', markersize=2, label='total')\n",
    "plt.plot(fbins/1000, enoise/gamma, label='electron')\n",
    "plt.plot(fbins/1000, pnoise/gamma, label='proton')\n",
    "plt.plot(fbins/1000, shot/gamma, label='shot')\n",
    "plt.xscale('log')\n",
    "plt.yscale('log')\n",
    "plt.xlim([4, 256])\n",
    "plt.ylim([1e-16, 5e-13])\n",
    "plt.xlabel(r'$f[kHz]$')\n",
    "plt.ylabel(r'$V_r^2[V^2Hz^{-1}]$')\n",
    "plt.title('June 19 1995:18:52:35.344')\n",
    "plt.legend(loc='best')\n",
    "plt.show()"
   ]
  },
  {
   "cell_type": "code",
   "execution_count": null,
   "metadata": {},
   "outputs": [],
   "source": [
    "fig.savefig('plots/wind19950619_theoretical.png', dpi=300)"
   ]
  },
  {
   "cell_type": "markdown",
   "metadata": {},
   "source": [
    "### Experimental"
   ]
  },
  {
   "cell_type": "code",
   "execution_count": null,
   "metadata": {
    "tags": []
   },
   "outputs": [],
   "source": [
    "#m_dat=readsav('/Users/Tong/Google Drive/research/data/meudon_tnr/TNR_XY_ACE_19950619.sav')\n",
    "#export_data = get_data('E_VOLTAGE_TNR')\n",
    "#min_data = get_data('Minimum_voltage_TNR')\n",
    "\n",
    "#loc = min(range(len(export_data.times)), key=lambda i: abs(804106352.344-export_data.times[i]))\n",
    "\n",
    "#spec = export_data.y[loc][:]\n",
    "#min_spec = min_data.y[0][:]\n",
    "#freq = export_data.v\n",
    "\n",
    "loc = find_closest_time(804106352.344, ds[\"tnr_ch1_time\"][:])-1\n",
    "print(f\"Target Time: {time.strftime('%d %b %Y %H:%M:%S', time.gmtime(804061986.432))}\")\n",
    "print(f\"Time Found: {time.strftime('%d %b %Y %H:%M:%S', time.gmtime(int(ds['tnr_ch1_time'][loc])))}{str(ds['tnr_ch1_time'][loc]%1)[1:]}\")\n",
    "spec = ds[\"tnr_ch1_spec\"][:, loc][:]\n",
    "freq = ds[\"tnr_ch1_freq\"][:]\n",
    "#spec = 10. ** (spec/10.)\n",
    "spec /= 1e6\n",
    "\n",
    "#spec = np.multiply(spec,min_spec)\n",
    "\n",
    "spec = spec**2\n",
    "\n",
    "plt.plot(freq, spec)\n",
    "plt.xscale('log')\n",
    "plt.yscale('log')\n",
    "plt.show()"
   ]
  },
  {
   "cell_type": "code",
   "execution_count": null,
   "metadata": {},
   "outputs": [],
   "source": [
    "plt.rc('text', usetex=True)\n",
    "plt.rc('font', family='serif')\n",
    "fig = plt.figure(figsize=[6, 6], facecolor=\"white\")\n",
    "plt.plot(fbins/1000, vr2/gamma, label='theory')\n",
    "#plt.plot(fbins/1000, enoise/gamma, label='electron')\n",
    "#plt.plot(fbins/1000, pnoise/gamma, label='proton')\n",
    "#plt.plot(fbins/1000, shot/gamma, label='shot')\n",
    "plt.plot(fbins/1000 * 1.02, spec, 'o', markersize=2, label='WIND data')\n",
    "plt.xscale('log')\n",
    "plt.yscale('log')\n",
    "plt.xlim([4, 256])\n",
    "plt.ylim([1e-18, 1e-10])\n",
    "plt.xlabel(r'$f[kHz]$')\n",
    "plt.ylabel(r'$V_r^2[V^2Hz^{-1}]$')\n",
    "plt.title('19-JUN-1995, 18:52:32.400')\n",
    "plt.legend(loc='best')\n",
    "plt.show()"
   ]
  },
  {
   "cell_type": "code",
   "execution_count": null,
   "metadata": {},
   "outputs": [],
   "source": [
    "fig.savefig('plots/wind19950619.png', dpi=300)"
   ]
  },
  {
   "cell_type": "code",
   "execution_count": null,
   "metadata": {},
   "outputs": [],
   "source": []
  },
  {
   "cell_type": "code",
   "execution_count": null,
   "metadata": {},
   "outputs": [],
   "source": []
  },
  {
   "cell_type": "code",
   "execution_count": null,
   "metadata": {},
   "outputs": [],
   "source": []
  },
  {
   "cell_type": "code",
   "execution_count": 3,
   "metadata": {},
   "outputs": [],
   "source": [
    "# Visualization\n",
    "input_val = [1,10,5,6]\n",
    "filter_val = [-1,2]\n",
    "output = [sum(input_val[i+j]*filter_val[j] for j in range(len(filter_val))) for i in range(len(input_val)-len(filter_val)+1)]\n",
    "output = [0 if num <0 else num for num in output]"
   ]
  },
  {
   "cell_type": "code",
   "execution_count": 4,
   "metadata": {},
   "outputs": [
    {
     "name": "stdout",
     "output_type": "stream",
     "text": [
      "[19, 0, 7]\n"
     ]
    }
   ],
   "source": [
    "print(output)"
   ]
  },
  {
   "cell_type": "code",
   "execution_count": 41,
   "metadata": {},
   "outputs": [
    {
     "data": {
      "text/plain": [
       "[<matplotlib.lines.Line2D at 0x7fcac083d810>]"
      ]
     },
     "execution_count": 41,
     "metadata": {},
     "output_type": "execute_result"
    },
    {
     "data": {
      "image/png": "[encoded data removed]",
      "text/plain": [
       "<Figure size 432x288 with 1 Axes>"
      ]
     },
     "metadata": {
      "needs_background": "light"
     },
     "output_type": "display_data"
    }
   ],
   "source": [
    "plt.plot(output)"
   ]
  },
  {
   "cell_type": "code",
   "execution_count": 38,
   "metadata": {},
   "outputs": [
    {
     "data": {
      "text/plain": [
       "[<matplotlib.lines.Line2D at 0x7fcabe4be6e0>]"
      ]
     },
     "execution_count": 38,
     "metadata": {},
     "output_type": "execute_result"
    },
    {
     "data": {
      "image/png": "[encoded data removed]",
      "text/plain": [
       "<Figure size 432x288 with 1 Axes>"
      ]
     },
     "metadata": {
      "needs_background": "light"
     },
     "output_type": "display_data"
    }
   ],
   "source": [
    "plt.plot(input_val)"
   ]
  },
  {
   "cell_type": "code",
   "execution_count": null,
   "metadata": {},
   "outputs": [],
   "source": []
  }
 ],
 "metadata": {
  "kernelspec": {
   "display_name": "Python 3 (ipykernel)",
   "language": "python",
   "name": "python3"
  },
  "language_info": {
   "codemirror_mode": {
    "name": "ipython",
    "version": 3
   },
   "file_extension": ".py",
   "mimetype": "text/x-python",
   "name": "python",
   "nbconvert_exporter": "python",
   "pygments_lexer": "ipython3",
   "version": "3.10.6"
  },
  "name": ""
 },
 "nbformat": 4,
 "nbformat_minor": 4
}
