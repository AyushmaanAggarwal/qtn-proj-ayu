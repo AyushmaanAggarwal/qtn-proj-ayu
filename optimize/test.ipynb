{
 "cells": [
  {
   "cell_type": "code",
   "execution_count": 1,
   "metadata": {
    "collapsed": false
   },
   "outputs": [],
   "source": [
    "from qtn.bimax import BiMax\n",
    "from qtn.util import f1, j0\n",
    "from qtn.bimax_util import z_b\n",
    "import numpy as np\n",
    "from sympy.mpmath import mp,fp\n",
    "import matplotlib.pyplot as plt\n",
    "%matplotlib inline\n",
    "\n",
    "from qtn.new_bimax import new_BiMax"
   ]
  },
  {
   "cell_type": "code",
   "execution_count": 2,
   "metadata": {
    "collapsed": false
   },
   "outputs": [
    {
     "name": "stdout",
     "output_type": "stream",
     "text": [
      "3.8e-06\n"
     ]
    }
   ],
   "source": [
    "ant_len = 50      # m (monopole) \n",
    "ant_rad = 1.9e-4  # m\n",
    "base_cap = 20e-12 # Farad\n",
    "al_ratio = ant_rad / ant_len\n",
    "print(al_ratio)"
   ]
  },
  {
   "cell_type": "code",
   "execution_count": 3,
   "metadata": {
    "collapsed": true
   },
   "outputs": [],
   "source": [
    "q1 = BiMax(ant_len, ant_rad, base_cap)\n",
    "q2 = new_BiMax(ant_len, ant_rad, base_cap)"
   ]
  },
  {
   "cell_type": "code",
   "execution_count": 28,
   "metadata": {
    "collapsed": true
   },
   "outputs": [],
   "source": [
    "wrel, l, n, t, tc = 0.8, 5, 0.2, 10, 1"
   ]
  },
  {
   "cell_type": "code",
   "execution_count": 29,
   "metadata": {
    "collapsed": false
   },
   "outputs": [
    {
     "name": "stdout",
     "output_type": "stream",
     "text": [
      "7.93158290270541e-17\n"
     ]
    }
   ],
   "source": [
    "mp.dps = 15\n",
    "print(q2.new_bimax(wrel, l, n, t, tc))\n",
    "mp.dps= 15"
   ]
  },
  {
   "cell_type": "code",
   "execution_count": 30,
   "metadata": {
    "collapsed": false
   },
   "outputs": [
    {
     "name": "stdout",
     "output_type": "stream",
     "text": [
      "7.9315829027054e-17\n"
     ]
    }
   ],
   "source": [
    "mp.dps = 15\n",
    "print(q1.bimax(wrel, l, n, t, tc))\n",
    "mp.dps= 15"
   ]
  },
  {
   "cell_type": "code",
   "execution_count": 31,
   "metadata": {
    "collapsed": false
   },
   "outputs": [],
   "source": [
    "# q2.new_bimax(wrel, l, n, t, tc)"
   ]
  },
  {
   "cell_type": "code",
   "execution_count": 32,
   "metadata": {
    "collapsed": true
   },
   "outputs": [],
   "source": [
    "wrel_arr = np.array([0.1, 0.5, 0.6, 0.8, 0.9, 0.95, 1.01, 1.03, 1.05, 1.08, 1.1, 1.2, 1.3, 1.5, \\\n",
    "                    1.7, 2.0, 2.3, 2.6, 3.0, 4, 6])"
   ]
  },
  {
   "cell_type": "code",
   "execution_count": 33,
   "metadata": {
    "collapsed": false
   },
   "outputs": [
    {
     "name": "stdout",
     "output_type": "stream",
     "text": [
      "guess =  13.933504196\n",
      "z0 =  14.3459223155171\n",
      "dl_imag =  6.237026938062867e-08\n",
      "guess =  8.32494622684\n",
      "z0 =  9.24410446652185\n",
      "dl_imag =  0.0027050595599930035\n",
      "direct evaluating integral when peak is small\n",
      "guess =  2.85104592181\n",
      "z0 =  2.7223230621871\n",
      "dl_imag =  0.19562385041532263\n",
      "direct evaluating integral when peak is small\n",
      "guess =  2.71155350342\n",
      "z0 =  2.5068592930143\n",
      "dl_imag =  0.20903141941928963\n",
      "direct evaluating integral when peak is small\n",
      "guess =  2.64510568235\n",
      "z0 =  2.38406333649655\n",
      "dl_imag =  0.23102034308929265\n",
      "direct evaluating integral when peak is small\n",
      "guess =  2.48041116762\n"
     ]
    }
   ],
   "source": [
    "v2e_arr = np.array([q2.new_bimax(wrel, l, n, t, tc) for wrel in wrel_arr])"
   ]
  },
  {
   "cell_type": "code",
   "execution_count": 34,
   "metadata": {
    "collapsed": false
   },
   "outputs": [
    {
     "data": {
      "text/plain": [
       "<matplotlib.lines.Line2D at 0x1151396d8>"
      ]
     },
     "execution_count": 34,
     "metadata": {},
     "output_type": "execute_result"
    },
    {
     "data": {
      "image/png": "[encoded data removed]",
      "text/plain": [
       "<matplotlib.figure.Figure at 0x115114748>"
      ]
     },
     "metadata": {},
     "output_type": "display_data"
    }
   ],
   "source": [
    "plt.plot(wrel_arr, v2e_arr, '-or', markersize = 1)\n",
    "plt.axvline(1.0, linestyle = 'dashed')\n",
    "plt.yscale('log')\n",
    "plt.xscale('log')\n",
    "plt.axhline(v2e_arr[0], linestyle = 'dashed')\n"
   ]
  },
  {
   "cell_type": "code",
   "execution_count": null,
   "metadata": {
    "collapsed": true
   },
   "outputs": [],
   "source": [
    "wrel, l, n, t, tc = 1.05, 5, 0.0, 1, 1\n",
    "wc = wrel * np.sqrt(1 + n)"
   ]
  },
  {
   "cell_type": "code",
   "execution_count": null,
   "metadata": {
    "collapsed": false
   },
   "outputs": [],
   "source": [
    "mp.mp.dps = 15\n",
    "guess = z_b(wc, n, t)\n",
    "z0 = mp.fp.findroot(lambda z: BiMax.d_l(z, wc, n, t).real, guess)\n",
    "print('d_l = ', BiMax.d_l(z0, wc, n, t))\n",
    "\n",
    "z1 = z0* 0.999\n",
    "z2 = z0*1.001\n",
    "limits = [z1, z2]\n",
    "limits_full = [z1, z0, z2]\n",
    "int1 = mp.quad(lambda z: integrand(z, wc, l, n, t), [0, mp.inf])\n",
    "\n",
    "\n",
    "print('int1 is ', int1)\n",
    "print('int2 is ', int2)\n",
    "print('int3 is ', int3)\n",
    "\n",
    "mp.mp.dps = 15"
   ]
  },
  {
   "cell_type": "code",
   "execution_count": null,
   "metadata": {
    "collapsed": false
   },
   "outputs": [],
   "source": [
    "mp.mp.dps = 35\n",
    "guess = z_b(wc, n, t)\n",
    "z0 = mp.findroot(lambda z: BiMax.d_l(z, wc, n, t).real, guess)\n",
    "print('d_l = ', BiMax.d_l(z0, wc, n, t))\n",
    "\n",
    "z1 = z0* 0.999\n",
    "z2 = z0*1.001\n",
    "limits = [z1, z2]\n",
    "limits_full = [z1, z0, z2]\n",
    "int1 = mp.quad(lambda z: integrand(z, wc, l, n, t), limits_full)\n",
    "int2 = integral_approx(z1, z2, z0, wc, l, n, t)\n",
    "int3 = integral_approx_2(z1, z2, z0, wc, l, n, t)\n",
    "\n",
    "print('int1 is ', int1)\n",
    "print('int2 is ', int2)\n",
    "print('int3 is ', int3)\n",
    "\n",
    "mp.mp.dps = 15"
   ]
  },
  {
   "cell_type": "code",
   "execution_count": null,
   "metadata": {
    "collapsed": true
   },
   "outputs": [],
   "source": []
  },
  {
   "cell_type": "code",
   "execution_count": null,
   "metadata": {
    "collapsed": false
   },
   "outputs": [],
   "source": [
    "from qtn.bimax_util import j02"
   ]
  },
  {
   "cell_type": "code",
   "execution_count": null,
   "metadata": {
    "collapsed": true
   },
   "outputs": [],
   "source": [
    "xarr = np.linspace(0, 1, 50)\n",
    "j02arr = np.array([j02(x) for x in xarr])"
   ]
  },
  {
   "cell_type": "code",
   "execution_count": null,
   "metadata": {
    "collapsed": false
   },
   "outputs": [],
   "source": [
    "plt.plot(xarr, j02arr)"
   ]
  },
  {
   "cell_type": "code",
   "execution_count": null,
   "metadata": {
    "collapsed": false
   },
   "outputs": [],
   "source": [
    "def this_fails():\n",
    "    x = 1/0\n",
    "\n",
    "try:\n",
    "    this_fails()\n",
    "except Exception as detail:\n",
    "    print('Handling run-time error:', detail)"
   ]
  },
  {
   "cell_type": "code",
   "execution_count": null,
   "metadata": {
    "collapsed": true
   },
   "outputs": [],
   "source": []
  }
 ],
 "metadata": {
  "kernelspec": {
   "display_name": "Python 3",
   "language": "python",
   "name": "python3"
  },
  "language_info": {
   "codemirror_mode": {
    "name": "ipython",
    "version": 3
   },
   "file_extension": ".py",
   "mimetype": "text/x-python",
   "name": "python",
   "nbconvert_exporter": "python",
   "pygments_lexer": "ipython3",
   "version": "3.4.3"
  }
 },
 "nbformat": 4,
 "nbformat_minor": 0
}
