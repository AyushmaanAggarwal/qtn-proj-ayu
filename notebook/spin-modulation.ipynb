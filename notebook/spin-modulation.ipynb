{
 "metadata": {
  "name": "",
  "signature": "sha256:a2d5c03daf5d687030b2d671fbbe34c096ec16e0a7fbbbd2ead5c09c2042d92a"
 },
 "nbformat": 3,
 "nbformat_minor": 0,
 "worksheets": [
  {
   "cells": [
    {
     "cell_type": "heading",
     "level": 1,
     "metadata": {},
     "source": [
      "Study the effect of spacecraft spin on proton noise"
     ]
    },
    {
     "cell_type": "heading",
     "level": 6,
     "metadata": {},
     "source": [
      "below we attempt to directly integrate the triple integral given in Issautier et al (1999). But it seems not feasible; the inner two integral already took too much time. "
     ]
    },
    {
     "cell_type": "code",
     "collapsed": false,
     "input": [
      "import numpy as np\n",
      "import scipy.integrate\n",
      "from qtn.util import zpd_sp, timing, zp_pade\n",
      "import matplotlib.pyplot as plt"
     ],
     "language": "python",
     "metadata": {},
     "outputs": [],
     "prompt_number": 2
    },
    {
     "cell_type": "code",
     "collapsed": false,
     "input": [
      "boltzmann = 1.3806488e-23  # J/K\n",
      "emass = 9.10938291e-31     # kg\n",
      "pmass = 1.67262178e-27\n",
      "echarge = 1.60217657e-19   # C\n",
      "permittivity = 8.854187817e-12  # F/m\n",
      "cspeed = 299792458         # m/s"
     ],
     "language": "python",
     "metadata": {},
     "outputs": [],
     "prompt_number": 2
    },
    {
     "cell_type": "code",
     "collapsed": false,
     "input": [
      "def cos_gamma(u, beta, phi):\n",
      "    \"\"\"\n",
      "    cos_gamma = u * cos(beta) + sqrt(1-u^2) * sin(beta) * cos(phi)\n",
      "    \n",
      "    Key parameters\n",
      "    --------------\n",
      "    u: cos(theta), where theta is the angle between wavenumber vector and solar wind bulk flow.\n",
      "    beta: angle between wire antenna and solar wind bulk flow (\\vec{v_{sw}}).\n",
      "    phi: azimuthal angle in the plane perpendicular to \\vec{v_{sw}}\n",
      "    \n",
      "    Return\n",
      "    ------\n",
      "    return cos(gamma)\n",
      "    \"\"\"\n",
      "    return u * np.cos(beta) + np.sqrt(1-u**2) * np.sin(beta) * np.cos(phi)"
     ],
     "language": "python",
     "metadata": {},
     "outputs": [],
     "prompt_number": 3
    },
    {
     "cell_type": "code",
     "collapsed": false,
     "input": [
      "def phi_integrand(k, l, u, beta, phi):\n",
      "    \"\"\"\n",
      "    sin(k*l*cos_gamma/2)**4 / (k*l*cos_gamma)**2\n",
      "    \n",
      "    Key parameters\n",
      "    --------------\n",
      "    k: magnitude of wavenumber vector\n",
      "    l: antenna length (monopole)\n",
      "    u, beta, phi: defined in cos_gamma() function\n",
      "    \n",
      "    Return:\n",
      "    return the integrand of phi integral\n",
      "    \"\"\"\n",
      "    cg = cos_gamma(u, beta, phi)\n",
      "    return np.sin(k * l * cg/2) **4 / (k * l * cg)**2"
     ],
     "language": "python",
     "metadata": {},
     "outputs": [],
     "prompt_number": 4
    },
    {
     "cell_type": "code",
     "collapsed": false,
     "input": [
      "def phi_integral(k, l, u, beta):\n",
      "    \"\"\"\n",
      "    Integrate phi_integrand over (0, 2pi)\n",
      "    \"\"\"\n",
      "    return scipy.integrate.quad(lambda phi: phi_integrand(k, l, u, beta, phi), 0, 2*np.pi)[0]"
     ],
     "language": "python",
     "metadata": {},
     "outputs": [],
     "prompt_number": 5
    },
    {
     "cell_type": "code",
     "collapsed": false,
     "input": [
      "def e_l(k, w, vsw, u, tp, n):\n",
      "    \"\"\"\n",
      "    Calculate the longitudinal susceptibility tensor.\n",
      "    \n",
      "    Key parameters\n",
      "    --------------\n",
      "    k: magnitude of the wavenumber vector\n",
      "    w: frequency of interest\n",
      "    vsw: solar wind speed\n",
      "    u: cos(theta) which is defined in cos_gamma()\n",
      "    tp: proton temperature\n",
      "    np: proton density\n",
      "    \n",
      "    Return\n",
      "    ------\n",
      "    Return the longitudinal susceptibility tensor.\n",
      "    \n",
      "    \"\"\"\n",
      "    vthp = np.sqrt(2 * boltzmann * tp/ pmass)\n",
      "    zetap = (w - k*vsw*u)/ (k * vthp)\n",
      "    #print(zetap)\n",
      "    prod_1 = (emass/k)**2 / permittivity * n/(boltzmann * tp)\n",
      "    prod_2 = zpd_sp(zetap)\n",
      "    return 1 + prod_1 * prod_2"
     ],
     "language": "python",
     "metadata": {},
     "outputs": [],
     "prompt_number": 12
    },
    {
     "cell_type": "code",
     "collapsed": false,
     "input": [
      "def u_integrand(k, w, l, vsw, u, tp, n, beta):\n",
      "    \"\"\"\n",
      "    Calculate the integrand of u integral.\n",
      "    \"\"\"\n",
      "    el = e_l(k, w, vsw, u, tp, n)\n",
      "    vthp = np.sqrt(2 * boltzmann * tp/ pmass) \n",
      "    zetap = (w - k*vsw*u)/ (k * vthp)\n",
      "    return np.exp(-zetap**2) * phi_integral(k, l, u, beta) / np.abs(el)**2\n",
      "    "
     ],
     "language": "python",
     "metadata": {},
     "outputs": [],
     "prompt_number": 7
    },
    {
     "cell_type": "code",
     "collapsed": false,
     "input": [
      "@timing\n",
      "def u_integral(k, w, l, vsw, tp, n, beta):\n",
      "    \"\"\"\n",
      "    Calculate the u integral\n",
      "    \n",
      "    \"\"\"\n",
      "    return scipy.integrate.quad(lambda u: u_integrand(k, w, l, vsw, u, tp, n, beta), -1, 1)[0]"
     ],
     "language": "python",
     "metadata": {},
     "outputs": [],
     "prompt_number": 8
    },
    {
     "cell_type": "code",
     "collapsed": false,
     "input": [
      "u_integral(10, 1e4, 50, 4e5, 1e5, 1e7, 0.5)"
     ],
     "language": "python",
     "metadata": {},
     "outputs": [
      {
       "output_type": "stream",
       "stream": "stdout",
       "text": [
        "%s function took %0.3f ms u_integral 27776.741981506348\n"
       ]
      },
      {
       "metadata": {},
       "output_type": "pyout",
       "prompt_number": 13,
       "text": [
        "0.0011936989750032973"
       ]
      }
     ],
     "prompt_number": 13
    },
    {
     "cell_type": "code",
     "collapsed": false,
     "input": [
      "u_integral(3, 1e4, 50, 4e5, 1e5, 1e7, 0.5)"
     ],
     "language": "python",
     "metadata": {},
     "outputs": [
      {
       "output_type": "stream",
       "stream": "stdout",
       "text": [
        "%s function took %0.3f ms u_integral 5283.954858779907\n"
       ]
      },
      {
       "metadata": {},
       "output_type": "pyout",
       "prompt_number": 14,
       "text": [
        "0.003979874789559081"
       ]
      }
     ],
     "prompt_number": 14
    },
    {
     "cell_type": "code",
     "collapsed": false,
     "input": [
      "ulist = np.linspace(-1, 1, 1001)\n",
      "uintval = [u_integrand(50, 1e4, 50, 4e5, u, 1e5, 1e7, 0.5) for u in ulist]\n",
      "ellist = [e_l(50, 1e4, 4e5, u, 1e5, 1e7) for u in ulist]"
     ],
     "language": "python",
     "metadata": {},
     "outputs": [],
     "prompt_number": 63
    },
    {
     "cell_type": "heading",
     "level": 3,
     "metadata": {},
     "source": [
      "Conclusion"
     ]
    },
    {
     "cell_type": "heading",
     "level": 6,
     "metadata": {},
     "source": [
      "It takes almost forever to do the full three dimension integral. Some simplications is necessary. "
     ]
    },
    {
     "cell_type": "heading",
     "level": 2,
     "metadata": {},
     "source": [
      "Simplified expression for angle dependent proton noise"
     ]
    },
    {
     "cell_type": "code",
     "collapsed": false,
     "input": [
      "import numpy as np\n",
      "import scipy.integrate\n",
      "from qtn.util import timing, boltzmann, emass, echarge, permittivity, cspeed\n",
      "import matplotlib.pyplot as plt\n",
      "%matplotlib inline"
     ],
     "language": "python",
     "metadata": {},
     "outputs": [],
     "prompt_number": 1
    },
    {
     "cell_type": "code",
     "collapsed": false,
     "input": [
      "def phi_integrand(y, beta, phi, omega, lrel):\n",
      "    \"\"\"\n",
      "    integrand for the phi integral.\n",
      "    \n",
      "    Key parameters\n",
      "    --------------\n",
      "    y: dimensionless parameter for the outer integral\n",
      "    beta: angle between antenna and solar wind velocity\n",
      "    phi: azimuthal angle\n",
      "    lrel: antenna length/debye length\n",
      "    \n",
      "    Return\n",
      "    ------\n",
      "    return the integrand for the phi integral\n",
      "    \"\"\"\n",
      "    kl_cos_gamma = lrel * (omega * np.cos(beta) + y * np.sin(beta) * np.cos(phi))\n",
      "    return np.sin(0.5 * kl_cos_gamma)**4 / kl_cos_gamma**2\n",
      "\n",
      "def phi_integral(y, beta, omega, lrel):\n",
      "    \"\"\"\n",
      "    value of the phi integral\n",
      "    \n",
      "    \"\"\"\n",
      "    return scipy.integrate.quad(lambda phi: phi_integrand(y, beta, phi, omega, lrel), 0, 2*np.pi)[0]"
     ],
     "language": "python",
     "metadata": {},
     "outputs": [],
     "prompt_number": 17
    },
    {
     "cell_type": "code",
     "collapsed": false,
     "input": [
      "@timing\n",
      "def proton_angle(beta, f, ne, n, t, tp, tc, k, vsw, ant_len):\n",
      "    \"\"\"\n",
      "    proton noise at an arbitrary angle between antenna and solar wind velocity\n",
      "    \n",
      "    Key parameters\n",
      "    --------------\n",
      "    \n",
      "    \"\"\"\n",
      "    ne = ne * 1e6\n",
      "    tp = tp * echarge/boltzmann\n",
      "    tc = tc * echarge/boltzmann\n",
      "    w_p = np.sqrt(echarge**2 * ne/emass/permittivity)\n",
      "    te = (tc + tc * t * n)/(1+n)\n",
      "    tg = tc * (1 + n)/(1 + n/t)\n",
      "    ld = np.sqrt(permittivity * boltzmann * tg/ne/ echarge**2)\n",
      "    lrel = ant_len/ld\n",
      "    vte = np.sqrt(2 * boltzmann * te/ emass)\n",
      "    omega = f * 2 * np.pi * ld/vsw\n",
      "    tep = tg/tp\n",
      "    M = vsw/vte\n",
      "    \n",
      "    integrand = lambda y: y * phi_integral(y, beta, omega, lrel) / (1 + y**2 + omega**2) / (1 + tep + y**2 + omega**2)\n",
      "    integral = scipy.integrate.quad(integrand, 0, np.inf)[0]\n",
      "    coeff = 4 * np.sqrt(2 * emass * boltzmann * tg)/(np.pi**2 * permittivity * M)\n",
      "    return coeff * integral"
     ],
     "language": "python",
     "metadata": {},
     "outputs": [],
     "prompt_number": 54
    },
    {
     "cell_type": "code",
     "collapsed": false,
     "input": [
      "ant_len = 50      # m (monopole) \n",
      "ant_rad = 1.9e-4  # m\n",
      "base_cap = 20e-12 # Fara\n",
      "fbins = np.array([4000*2**((2*i+1)/32) for i in range(96)])\n",
      "\n",
      "ne = 12.28\n",
      "vsw=3.966e5\n",
      "tc = 9.91\n",
      "tp = 9.62\n",
      "t = 6.57\n",
      "n = 0.026\n",
      "fpe = 31.47e3\n",
      "k = 7"
     ],
     "language": "python",
     "metadata": {},
     "outputs": [],
     "prompt_number": 14
    },
    {
     "cell_type": "heading",
     "level": 3,
     "metadata": {},
     "source": [
      "perpendicular case"
     ]
    },
    {
     "cell_type": "heading",
     "level": 6,
     "metadata": {},
     "source": [
      "(can also be calculated using proton_angle routine, but much faster using MaxKappa.proton routine)"
     ]
    },
    {
     "cell_type": "code",
     "collapsed": false,
     "input": [
      "from qtn.maxkappa import MaxKappa"
     ],
     "language": "python",
     "metadata": {},
     "outputs": [],
     "prompt_number": 33
    },
    {
     "cell_type": "code",
     "collapsed": false,
     "input": [
      "p = MaxKappa(ant_len, ant_rad, base_cap)"
     ],
     "language": "python",
     "metadata": {},
     "outputs": [],
     "prompt_number": 34
    },
    {
     "cell_type": "code",
     "collapsed": false,
     "input": [
      "band_a = fbins[0:32]"
     ],
     "language": "python",
     "metadata": {},
     "outputs": [],
     "prompt_number": 84
    },
    {
     "cell_type": "code",
     "collapsed": false,
     "input": [
      "perp = np.array([p.proton(f, ne, n, t, tp, tc, k, vsw) for f in fbins])"
     ],
     "language": "python",
     "metadata": {},
     "outputs": [],
     "prompt_number": 36
    },
    {
     "cell_type": "heading",
     "level": 3,
     "metadata": {},
     "source": [
      "other angles ($60^\\circ$, $45^\\circ$ and $30^\\circ$)"
     ]
    },
    {
     "cell_type": "code",
     "collapsed": false,
     "input": [
      "sixty = np.array([proton_angle(np.pi/3, f, ne, n, t, tp, tc, k, vsw, ant_len) for f in fbins])"
     ],
     "language": "python",
     "metadata": {},
     "outputs": [],
     "prompt_number": 39
    },
    {
     "cell_type": "code",
     "collapsed": false,
     "input": [
      "forty_five = np.array([proton_angle(np.pi/4, f, ne, n, t, tp, tc, k, vsw, ant_len) for f in fbins])\n",
      "thirty = np.array([proton_angle(np.pi/6, f, ne, n, t, tp, tc, k, vsw, ant_len) for f in fbins])\n",
      "fifteen = np.array([proton_angle(np.pi/12, f, ne, n, t, tp, tc, k, vsw, ant_len) for f in fbins])"
     ],
     "language": "python",
     "metadata": {},
     "outputs": [
      {
       "output_type": "stream",
       "stream": "stdout",
       "text": [
        "proton_angle function took 3912.826 ms\n",
        "proton_angle function took 3707.433 ms"
       ]
      },
      {
       "output_type": "stream",
       "stream": "stdout",
       "text": [
        "\n",
        "proton_angle function took 1776.605 ms"
       ]
      },
      {
       "output_type": "stream",
       "stream": "stdout",
       "text": [
        "\n",
        "proton_angle function took 4352.065 ms"
       ]
      },
      {
       "output_type": "stream",
       "stream": "stdout",
       "text": [
        "\n",
        "proton_angle function took 3543.574 ms"
       ]
      },
      {
       "output_type": "stream",
       "stream": "stdout",
       "text": [
        "\n",
        "proton_angle function took 3225.694 ms"
       ]
      },
      {
       "output_type": "stream",
       "stream": "stdout",
       "text": [
        "\n",
        "proton_angle function took 3533.015 ms"
       ]
      },
      {
       "output_type": "stream",
       "stream": "stdout",
       "text": [
        "\n",
        "proton_angle function took 4078.669 ms"
       ]
      },
      {
       "output_type": "stream",
       "stream": "stdout",
       "text": [
        "\n",
        "proton_angle function took 1997.617 ms"
       ]
      },
      {
       "output_type": "stream",
       "stream": "stdout",
       "text": [
        "\n",
        "proton_angle function took 4048.590 ms"
       ]
      },
      {
       "output_type": "stream",
       "stream": "stdout",
       "text": [
        "\n",
        "proton_angle function took 4848.855 ms"
       ]
      },
      {
       "output_type": "stream",
       "stream": "stdout",
       "text": [
        "\n",
        "proton_angle function took 4059.414 ms"
       ]
      },
      {
       "output_type": "stream",
       "stream": "stdout",
       "text": [
        "\n",
        "proton_angle function took 4764.487 ms"
       ]
      },
      {
       "output_type": "stream",
       "stream": "stdout",
       "text": [
        "\n",
        "proton_angle function took 3189.677 ms"
       ]
      },
      {
       "output_type": "stream",
       "stream": "stdout",
       "text": [
        "\n",
        "proton_angle function took 2005.193 ms"
       ]
      },
      {
       "output_type": "stream",
       "stream": "stdout",
       "text": [
        "\n",
        "proton_angle function took 2047.951 ms"
       ]
      },
      {
       "output_type": "stream",
       "stream": "stdout",
       "text": [
        "\n",
        "proton_angle function took 4671.136 ms"
       ]
      },
      {
       "output_type": "stream",
       "stream": "stdout",
       "text": [
        "\n",
        "proton_angle function took 2200.618 ms"
       ]
      },
      {
       "output_type": "stream",
       "stream": "stdout",
       "text": [
        "\n",
        "proton_angle function took 5262.417 ms"
       ]
      },
      {
       "output_type": "stream",
       "stream": "stdout",
       "text": [
        "\n",
        "proton_angle function took 4144.977 ms"
       ]
      },
      {
       "output_type": "stream",
       "stream": "stdout",
       "text": [
        "\n",
        "proton_angle function took 1860.332 ms"
       ]
      },
      {
       "output_type": "stream",
       "stream": "stdout",
       "text": [
        "\n",
        "proton_angle function took 1848.738 ms"
       ]
      },
      {
       "output_type": "stream",
       "stream": "stdout",
       "text": [
        "\n",
        "proton_angle function took 1992.284 ms"
       ]
      },
      {
       "output_type": "stream",
       "stream": "stdout",
       "text": [
        "\n",
        "proton_angle function took 2044.090 ms"
       ]
      },
      {
       "output_type": "stream",
       "stream": "stdout",
       "text": [
        "\n",
        "proton_angle function took 2061.776 ms"
       ]
      },
      {
       "output_type": "stream",
       "stream": "stdout",
       "text": [
        "\n",
        "proton_angle function took 4621.010 ms"
       ]
      },
      {
       "output_type": "stream",
       "stream": "stdout",
       "text": [
        "\n",
        "proton_angle function took 3516.358 ms"
       ]
      },
      {
       "output_type": "stream",
       "stream": "stdout",
       "text": [
        "\n",
        "proton_angle function took 4911.121 ms"
       ]
      },
      {
       "output_type": "stream",
       "stream": "stdout",
       "text": [
        "\n",
        "proton_angle function took 5613.903 ms"
       ]
      },
      {
       "output_type": "stream",
       "stream": "stdout",
       "text": [
        "\n",
        "proton_angle function took 5415.167 ms"
       ]
      },
      {
       "output_type": "stream",
       "stream": "stdout",
       "text": [
        "\n",
        "proton_angle function took 3276.588 ms"
       ]
      },
      {
       "output_type": "stream",
       "stream": "stdout",
       "text": [
        "\n",
        "proton_angle function took 3180.301 ms"
       ]
      },
      {
       "output_type": "stream",
       "stream": "stdout",
       "text": [
        "\n",
        "proton_angle function took 5034.146 ms"
       ]
      },
      {
       "output_type": "stream",
       "stream": "stdout",
       "text": [
        "\n",
        "proton_angle function took 5573.525 ms"
       ]
      },
      {
       "output_type": "stream",
       "stream": "stdout",
       "text": [
        "\n",
        "proton_angle function took 5132.462 ms"
       ]
      },
      {
       "output_type": "stream",
       "stream": "stdout",
       "text": [
        "\n",
        "proton_angle function took 6497.372 ms"
       ]
      },
      {
       "output_type": "stream",
       "stream": "stdout",
       "text": [
        "\n",
        "proton_angle function took 7505.862 ms"
       ]
      },
      {
       "output_type": "stream",
       "stream": "stdout",
       "text": [
        "\n",
        "proton_angle function took 4997.062 ms"
       ]
      },
      {
       "output_type": "stream",
       "stream": "stdout",
       "text": [
        "\n",
        "proton_angle function took 2623.852 ms"
       ]
      },
      {
       "output_type": "stream",
       "stream": "stdout",
       "text": [
        "\n",
        "proton_angle function took 7831.885 ms"
       ]
      },
      {
       "output_type": "stream",
       "stream": "stdout",
       "text": [
        "\n",
        "proton_angle function took 10725.321 ms"
       ]
      },
      {
       "output_type": "stream",
       "stream": "stdout",
       "text": [
        "\n",
        "proton_angle function took 5140.025 ms"
       ]
      },
      {
       "output_type": "stream",
       "stream": "stdout",
       "text": [
        "\n",
        "proton_angle function took 4598.107 ms"
       ]
      },
      {
       "output_type": "stream",
       "stream": "stdout",
       "text": [
        "\n",
        "proton_angle function took 4467.132 ms"
       ]
      },
      {
       "output_type": "stream",
       "stream": "stdout",
       "text": [
        "\n",
        "proton_angle function took 3819.176 ms"
       ]
      },
      {
       "output_type": "stream",
       "stream": "stdout",
       "text": [
        "\n",
        "proton_angle function took 5703.333 ms"
       ]
      },
      {
       "output_type": "stream",
       "stream": "stdout",
       "text": [
        "\n",
        "proton_angle function took 8191.011 ms"
       ]
      },
      {
       "output_type": "stream",
       "stream": "stdout",
       "text": [
        "\n",
        "proton_angle function took 4876.339 ms"
       ]
      },
      {
       "output_type": "stream",
       "stream": "stdout",
       "text": [
        "\n",
        "proton_angle function took 4333.700 ms"
       ]
      },
      {
       "output_type": "stream",
       "stream": "stdout",
       "text": [
        "\n",
        "proton_angle function took 6904.047 ms"
       ]
      },
      {
       "output_type": "stream",
       "stream": "stdout",
       "text": [
        "\n",
        "proton_angle function took 5682.007 ms"
       ]
      },
      {
       "output_type": "stream",
       "stream": "stdout",
       "text": [
        "\n",
        "proton_angle function took 6208.178 ms"
       ]
      },
      {
       "output_type": "stream",
       "stream": "stdout",
       "text": [
        "\n",
        "proton_angle function took 4567.569 ms"
       ]
      },
      {
       "output_type": "stream",
       "stream": "stdout",
       "text": [
        "\n",
        "proton_angle function took 3858.886 ms"
       ]
      },
      {
       "output_type": "stream",
       "stream": "stdout",
       "text": [
        "\n",
        "proton_angle function took 6154.595 ms"
       ]
      },
      {
       "output_type": "stream",
       "stream": "stdout",
       "text": [
        "\n",
        "proton_angle function took 4303.999 ms"
       ]
      },
      {
       "output_type": "stream",
       "stream": "stdout",
       "text": [
        "\n",
        "proton_angle function took 3497.503 ms"
       ]
      },
      {
       "output_type": "stream",
       "stream": "stdout",
       "text": [
        "\n",
        "proton_angle function took 6671.672 ms"
       ]
      },
      {
       "output_type": "stream",
       "stream": "stdout",
       "text": [
        "\n",
        "proton_angle function took 6464.656 ms"
       ]
      },
      {
       "output_type": "stream",
       "stream": "stdout",
       "text": [
        "\n",
        "proton_angle function took 6840.184 ms"
       ]
      },
      {
       "output_type": "stream",
       "stream": "stdout",
       "text": [
        "\n",
        "proton_angle function took 6630.139 ms"
       ]
      },
      {
       "output_type": "stream",
       "stream": "stdout",
       "text": [
        "\n",
        "proton_angle function took 5088.718 ms"
       ]
      },
      {
       "output_type": "stream",
       "stream": "stdout",
       "text": [
        "\n",
        "proton_angle function took 5524.589 ms"
       ]
      },
      {
       "output_type": "stream",
       "stream": "stdout",
       "text": [
        "\n",
        "proton_angle function took 4726.965 ms"
       ]
      },
      {
       "output_type": "stream",
       "stream": "stdout",
       "text": [
        "\n",
        "proton_angle function took 4113.383 ms"
       ]
      },
      {
       "output_type": "stream",
       "stream": "stdout",
       "text": [
        "\n",
        "proton_angle function took 5211.379 ms"
       ]
      },
      {
       "output_type": "stream",
       "stream": "stdout",
       "text": [
        "\n",
        "proton_angle function took 3811.753 ms"
       ]
      },
      {
       "output_type": "stream",
       "stream": "stdout",
       "text": [
        "\n",
        "proton_angle function took 10486.080 ms"
       ]
      },
      {
       "output_type": "stream",
       "stream": "stdout",
       "text": [
        "\n",
        "proton_angle function took 5954.281 ms"
       ]
      },
      {
       "output_type": "stream",
       "stream": "stdout",
       "text": [
        "\n",
        "proton_angle function took 8424.089 ms"
       ]
      },
      {
       "output_type": "stream",
       "stream": "stdout",
       "text": [
        "\n",
        "proton_angle function took 7148.709 ms"
       ]
      },
      {
       "output_type": "stream",
       "stream": "stdout",
       "text": [
        "\n",
        "proton_angle function took 7908.691 ms"
       ]
      },
      {
       "output_type": "stream",
       "stream": "stdout",
       "text": [
        "\n",
        "proton_angle function took 5531.981 ms"
       ]
      },
      {
       "output_type": "stream",
       "stream": "stdout",
       "text": [
        "\n",
        "proton_angle function took 7707.136 ms"
       ]
      },
      {
       "output_type": "stream",
       "stream": "stdout",
       "text": [
        "\n",
        "proton_angle function took 4536.389 ms"
       ]
      },
      {
       "output_type": "stream",
       "stream": "stdout",
       "text": [
        "\n",
        "proton_angle function took 6118.351 ms"
       ]
      },
      {
       "output_type": "stream",
       "stream": "stdout",
       "text": [
        "\n",
        "proton_angle function took 4316.084 ms"
       ]
      },
      {
       "output_type": "stream",
       "stream": "stdout",
       "text": [
        "\n",
        "proton_angle function took 6108.338 ms"
       ]
      },
      {
       "output_type": "stream",
       "stream": "stdout",
       "text": [
        "\n",
        "proton_angle function took 3965.605 ms"
       ]
      },
      {
       "output_type": "stream",
       "stream": "stdout",
       "text": [
        "\n",
        "proton_angle function took 6100.549 ms"
       ]
      },
      {
       "output_type": "stream",
       "stream": "stdout",
       "text": [
        "\n",
        "proton_angle function took 4515.081 ms"
       ]
      },
      {
       "output_type": "stream",
       "stream": "stdout",
       "text": [
        "\n",
        "proton_angle function took 6627.884 ms"
       ]
      },
      {
       "output_type": "stream",
       "stream": "stdout",
       "text": [
        "\n",
        "proton_angle function took 7404.993 ms"
       ]
      },
      {
       "output_type": "stream",
       "stream": "stdout",
       "text": [
        "\n",
        "proton_angle function took 6873.794 ms"
       ]
      },
      {
       "output_type": "stream",
       "stream": "stdout",
       "text": [
        "\n",
        "proton_angle function took 7675.367 ms"
       ]
      },
      {
       "output_type": "stream",
       "stream": "stdout",
       "text": [
        "\n",
        "proton_angle function took 7597.069 ms"
       ]
      },
      {
       "output_type": "stream",
       "stream": "stdout",
       "text": [
        "\n",
        "proton_angle function took 6314.803 ms"
       ]
      },
      {
       "output_type": "stream",
       "stream": "stdout",
       "text": [
        "\n",
        "proton_angle function took 9996.631 ms"
       ]
      },
      {
       "output_type": "stream",
       "stream": "stdout",
       "text": [
        "\n",
        "proton_angle function took 4828.485 ms"
       ]
      },
      {
       "output_type": "stream",
       "stream": "stdout",
       "text": [
        "\n",
        "proton_angle function took 7334.968 ms"
       ]
      },
      {
       "output_type": "stream",
       "stream": "stdout",
       "text": [
        "\n",
        "proton_angle function took 6318.204 ms"
       ]
      },
      {
       "output_type": "stream",
       "stream": "stdout",
       "text": [
        "\n",
        "proton_angle function took 7480.565 ms"
       ]
      },
      {
       "output_type": "stream",
       "stream": "stdout",
       "text": [
        "\n",
        "proton_angle function took 9027.066 ms"
       ]
      },
      {
       "output_type": "stream",
       "stream": "stdout",
       "text": [
        "\n",
        "proton_angle function took 3810.502 ms"
       ]
      },
      {
       "output_type": "stream",
       "stream": "stdout",
       "text": [
        "\n",
        "proton_angle function took 9893.694 ms"
       ]
      },
      {
       "output_type": "stream",
       "stream": "stdout",
       "text": [
        "\n",
        "proton_angle function took 9387.108 ms"
       ]
      },
      {
       "output_type": "stream",
       "stream": "stdout",
       "text": [
        "\n",
        "proton_angle function took 4449.839 ms"
       ]
      },
      {
       "output_type": "stream",
       "stream": "stdout",
       "text": [
        "\n",
        "proton_angle function took 3741.421 ms"
       ]
      },
      {
       "output_type": "stream",
       "stream": "stdout",
       "text": [
        "\n",
        "proton_angle function took 5889.279 ms"
       ]
      },
      {
       "output_type": "stream",
       "stream": "stdout",
       "text": [
        "\n",
        "proton_angle function took 3706.087 ms"
       ]
      },
      {
       "output_type": "stream",
       "stream": "stdout",
       "text": [
        "\n",
        "proton_angle function took 3888.982 ms"
       ]
      },
      {
       "output_type": "stream",
       "stream": "stdout",
       "text": [
        "\n",
        "proton_angle function took 5074.838 ms"
       ]
      },
      {
       "output_type": "stream",
       "stream": "stdout",
       "text": [
        "\n",
        "proton_angle function took 5825.992 ms"
       ]
      },
      {
       "output_type": "stream",
       "stream": "stdout",
       "text": [
        "\n",
        "proton_angle function took 4927.944 ms"
       ]
      },
      {
       "output_type": "stream",
       "stream": "stdout",
       "text": [
        "\n",
        "proton_angle function took 3565.336 ms"
       ]
      },
      {
       "output_type": "stream",
       "stream": "stdout",
       "text": [
        "\n",
        "proton_angle function took 179571.456 ms"
       ]
      },
      {
       "output_type": "stream",
       "stream": "stdout",
       "text": [
        "\n",
        "proton_angle function took 5124.620 ms"
       ]
      },
      {
       "output_type": "stream",
       "stream": "stdout",
       "text": [
        "\n",
        "proton_angle function took 4033.654 ms"
       ]
      },
      {
       "output_type": "stream",
       "stream": "stdout",
       "text": [
        "\n",
        "proton_angle function took 1663.599 ms"
       ]
      },
      {
       "output_type": "stream",
       "stream": "stdout",
       "text": [
        "\n",
        "proton_angle function took 3423.440 ms"
       ]
      },
      {
       "output_type": "stream",
       "stream": "stdout",
       "text": [
        "\n",
        "proton_angle function took 3202.510 ms"
       ]
      },
      {
       "output_type": "stream",
       "stream": "stdout",
       "text": [
        "\n",
        "proton_angle function took 4101.645 ms"
       ]
      },
      {
       "output_type": "stream",
       "stream": "stdout",
       "text": [
        "\n",
        "proton_angle function took 4245.041 ms"
       ]
      },
      {
       "output_type": "stream",
       "stream": "stdout",
       "text": [
        "\n",
        "proton_angle function took 4810.309 ms"
       ]
      },
      {
       "output_type": "stream",
       "stream": "stdout",
       "text": [
        "\n",
        "proton_angle function took 6074.614 ms"
       ]
      },
      {
       "output_type": "stream",
       "stream": "stdout",
       "text": [
        "\n",
        "proton_angle function took 6050.522 ms"
       ]
      },
      {
       "output_type": "stream",
       "stream": "stdout",
       "text": [
        "\n",
        "proton_angle function took 6179.084 ms"
       ]
      },
      {
       "output_type": "stream",
       "stream": "stdout",
       "text": [
        "\n",
        "proton_angle function took 3503.781 ms"
       ]
      },
      {
       "output_type": "stream",
       "stream": "stdout",
       "text": [
        "\n",
        "proton_angle function took 4569.245 ms"
       ]
      },
      {
       "output_type": "stream",
       "stream": "stdout",
       "text": [
        "\n",
        "proton_angle function took 1890.071 ms"
       ]
      },
      {
       "output_type": "stream",
       "stream": "stdout",
       "text": [
        "\n",
        "proton_angle function took 5560.559 ms"
       ]
      },
      {
       "output_type": "stream",
       "stream": "stdout",
       "text": [
        "\n",
        "proton_angle function took 5108.282 ms"
       ]
      },
      {
       "output_type": "stream",
       "stream": "stdout",
       "text": [
        "\n",
        "proton_angle function took 3941.093 ms"
       ]
      },
      {
       "output_type": "stream",
       "stream": "stdout",
       "text": [
        "\n",
        "proton_angle function took 6812.984 ms"
       ]
      },
      {
       "output_type": "stream",
       "stream": "stdout",
       "text": [
        "\n",
        "proton_angle function took 8348.027 ms"
       ]
      },
      {
       "output_type": "stream",
       "stream": "stdout",
       "text": [
        "\n",
        "proton_angle function took 493.034 ms"
       ]
      },
      {
       "output_type": "stream",
       "stream": "stdout",
       "text": [
        "\n",
        "proton_angle function took 3013.782 ms"
       ]
      },
      {
       "output_type": "stream",
       "stream": "stdout",
       "text": [
        "\n",
        "proton_angle function took 4857.562 ms"
       ]
      },
      {
       "output_type": "stream",
       "stream": "stdout",
       "text": [
        "\n",
        "proton_angle function took 3681.123 ms"
       ]
      },
      {
       "output_type": "stream",
       "stream": "stdout",
       "text": [
        "\n",
        "proton_angle function took 4736.085 ms"
       ]
      },
      {
       "output_type": "stream",
       "stream": "stdout",
       "text": [
        "\n",
        "proton_angle function took 6354.686 ms"
       ]
      },
      {
       "output_type": "stream",
       "stream": "stdout",
       "text": [
        "\n",
        "proton_angle function took 3512.691 ms"
       ]
      },
      {
       "output_type": "stream",
       "stream": "stdout",
       "text": [
        "\n",
        "proton_angle function took 4621.655 ms"
       ]
      },
      {
       "output_type": "stream",
       "stream": "stdout",
       "text": [
        "\n",
        "proton_angle function took 3392.773 ms"
       ]
      },
      {
       "output_type": "stream",
       "stream": "stdout",
       "text": [
        "\n",
        "proton_angle function took 6168.528 ms"
       ]
      },
      {
       "output_type": "stream",
       "stream": "stdout",
       "text": [
        "\n",
        "proton_angle function took 4665.353 ms"
       ]
      },
      {
       "output_type": "stream",
       "stream": "stdout",
       "text": [
        "\n",
        "proton_angle function took 5080.756 ms"
       ]
      },
      {
       "output_type": "stream",
       "stream": "stdout",
       "text": [
        "\n",
        "proton_angle function took 6377.521 ms"
       ]
      },
      {
       "output_type": "stream",
       "stream": "stdout",
       "text": [
        "\n",
        "proton_angle function took 2779.948 ms"
       ]
      },
      {
       "output_type": "stream",
       "stream": "stdout",
       "text": [
        "\n",
        "proton_angle function took 3992.408 ms"
       ]
      },
      {
       "output_type": "stream",
       "stream": "stdout",
       "text": [
        "\n",
        "proton_angle function took 5048.012 ms"
       ]
      },
      {
       "output_type": "stream",
       "stream": "stdout",
       "text": [
        "\n",
        "proton_angle function took 3739.266 ms"
       ]
      },
      {
       "output_type": "stream",
       "stream": "stdout",
       "text": [
        "\n",
        "proton_angle function took 4002.840 ms"
       ]
      },
      {
       "output_type": "stream",
       "stream": "stdout",
       "text": [
        "\n",
        "proton_angle function took 5666.410 ms"
       ]
      },
      {
       "output_type": "stream",
       "stream": "stdout",
       "text": [
        "\n",
        "proton_angle function took 4036.287 ms"
       ]
      },
      {
       "output_type": "stream",
       "stream": "stdout",
       "text": [
        "\n",
        "proton_angle function took 6979.716 ms"
       ]
      },
      {
       "output_type": "stream",
       "stream": "stdout",
       "text": [
        "\n",
        "proton_angle function took 7303.382 ms"
       ]
      },
      {
       "output_type": "stream",
       "stream": "stdout",
       "text": [
        "\n",
        "proton_angle function took 5456.688 ms"
       ]
      },
      {
       "output_type": "stream",
       "stream": "stdout",
       "text": [
        "\n",
        "proton_angle function took 2877.076 ms"
       ]
      },
      {
       "output_type": "stream",
       "stream": "stdout",
       "text": [
        "\n",
        "proton_angle function took 5561.173 ms"
       ]
      },
      {
       "output_type": "stream",
       "stream": "stdout",
       "text": [
        "\n",
        "proton_angle function took 5640.102 ms"
       ]
      },
      {
       "output_type": "stream",
       "stream": "stdout",
       "text": [
        "\n",
        "proton_angle function took 6387.615 ms"
       ]
      },
      {
       "output_type": "stream",
       "stream": "stdout",
       "text": [
        "\n",
        "proton_angle function took 6431.341 ms"
       ]
      },
      {
       "output_type": "stream",
       "stream": "stdout",
       "text": [
        "\n",
        "proton_angle function took 4994.118 ms"
       ]
      },
      {
       "output_type": "stream",
       "stream": "stdout",
       "text": [
        "\n",
        "proton_angle function took 5129.780 ms"
       ]
      },
      {
       "output_type": "stream",
       "stream": "stdout",
       "text": [
        "\n",
        "proton_angle function took 3966.634 ms"
       ]
      },
      {
       "output_type": "stream",
       "stream": "stdout",
       "text": [
        "\n",
        "proton_angle function took 5886.585 ms"
       ]
      },
      {
       "output_type": "stream",
       "stream": "stdout",
       "text": [
        "\n",
        "proton_angle function took 4359.134 ms"
       ]
      },
      {
       "output_type": "stream",
       "stream": "stdout",
       "text": [
        "\n",
        "proton_angle function took 6531.147 ms"
       ]
      },
      {
       "output_type": "stream",
       "stream": "stdout",
       "text": [
        "\n",
        "proton_angle function took 6412.981 ms"
       ]
      },
      {
       "output_type": "stream",
       "stream": "stdout",
       "text": [
        "\n",
        "proton_angle function took 5421.001 ms"
       ]
      },
      {
       "output_type": "stream",
       "stream": "stdout",
       "text": [
        "\n",
        "proton_angle function took 6572.515 ms"
       ]
      },
      {
       "output_type": "stream",
       "stream": "stdout",
       "text": [
        "\n",
        "proton_angle function took 5098.729 ms"
       ]
      },
      {
       "output_type": "stream",
       "stream": "stdout",
       "text": [
        "\n",
        "proton_angle function took 4730.148 ms"
       ]
      },
      {
       "output_type": "stream",
       "stream": "stdout",
       "text": [
        "\n",
        "proton_angle function took 6576.303 ms"
       ]
      },
      {
       "output_type": "stream",
       "stream": "stdout",
       "text": [
        "\n",
        "proton_angle function took 5198.888 ms"
       ]
      },
      {
       "output_type": "stream",
       "stream": "stdout",
       "text": [
        "\n",
        "proton_angle function took 5395.337 ms"
       ]
      },
      {
       "output_type": "stream",
       "stream": "stdout",
       "text": [
        "\n",
        "proton_angle function took 32.511 ms\n",
        "proton_angle function took 7891.573 ms"
       ]
      },
      {
       "output_type": "stream",
       "stream": "stdout",
       "text": [
        "\n",
        "proton_angle function took 7309.292 ms"
       ]
      },
      {
       "output_type": "stream",
       "stream": "stdout",
       "text": [
        "\n",
        "proton_angle function took 5845.959 ms"
       ]
      },
      {
       "output_type": "stream",
       "stream": "stdout",
       "text": [
        "\n",
        "proton_angle function took 7909.443 ms"
       ]
      },
      {
       "output_type": "stream",
       "stream": "stdout",
       "text": [
        "\n",
        "proton_angle function took 4509.498 ms"
       ]
      },
      {
       "output_type": "stream",
       "stream": "stdout",
       "text": [
        "\n",
        "proton_angle function took 8855.414 ms"
       ]
      },
      {
       "output_type": "stream",
       "stream": "stdout",
       "text": [
        "\n",
        "proton_angle function took 10073.273 ms"
       ]
      },
      {
       "output_type": "stream",
       "stream": "stdout",
       "text": [
        "\n",
        "proton_angle function took 5737.982 ms"
       ]
      },
      {
       "output_type": "stream",
       "stream": "stdout",
       "text": [
        "\n",
        "proton_angle function took 10144.333 ms"
       ]
      },
      {
       "output_type": "stream",
       "stream": "stdout",
       "text": [
        "\n",
        "proton_angle function took 5882.911 ms"
       ]
      },
      {
       "output_type": "stream",
       "stream": "stdout",
       "text": [
        "\n",
        "proton_angle function took 9236.746 ms"
       ]
      },
      {
       "output_type": "stream",
       "stream": "stdout",
       "text": [
        "\n",
        "proton_angle function took 7807.452 ms"
       ]
      },
      {
       "output_type": "stream",
       "stream": "stdout",
       "text": [
        "\n",
        "proton_angle function took 6982.249 ms"
       ]
      },
      {
       "output_type": "stream",
       "stream": "stdout",
       "text": [
        "\n",
        "proton_angle function took 6692.504 ms"
       ]
      },
      {
       "output_type": "stream",
       "stream": "stdout",
       "text": [
        "\n",
        "proton_angle function took 6124.692 ms"
       ]
      },
      {
       "output_type": "stream",
       "stream": "stdout",
       "text": [
        "\n",
        "proton_angle function took 8367.673 ms"
       ]
      },
      {
       "output_type": "stream",
       "stream": "stdout",
       "text": [
        "\n",
        "proton_angle function took 8970.271 ms"
       ]
      },
      {
       "output_type": "stream",
       "stream": "stdout",
       "text": [
        "\n",
        "proton_angle function took 8095.715 ms"
       ]
      },
      {
       "output_type": "stream",
       "stream": "stdout",
       "text": [
        "\n",
        "proton_angle function took 6877.605 ms"
       ]
      },
      {
       "output_type": "stream",
       "stream": "stdout",
       "text": [
        "\n",
        "proton_angle function took 8368.954 ms"
       ]
      },
      {
       "output_type": "stream",
       "stream": "stdout",
       "text": [
        "\n",
        "proton_angle function took 7182.075 ms"
       ]
      },
      {
       "output_type": "stream",
       "stream": "stdout",
       "text": [
        "\n",
        "proton_angle function took 7325.327 ms"
       ]
      },
      {
       "output_type": "stream",
       "stream": "stdout",
       "text": [
        "\n",
        "proton_angle function took 8150.168 ms"
       ]
      },
      {
       "output_type": "stream",
       "stream": "stdout",
       "text": [
        "\n",
        "proton_angle function took 8446.520 ms"
       ]
      },
      {
       "output_type": "stream",
       "stream": "stdout",
       "text": [
        "\n",
        "proton_angle function took 2461.270 ms"
       ]
      },
      {
       "output_type": "stream",
       "stream": "stdout",
       "text": [
        "\n",
        "proton_angle function took 2386.607 ms"
       ]
      },
      {
       "output_type": "stream",
       "stream": "stdout",
       "text": [
        "\n",
        "proton_angle function took 2386.413 ms"
       ]
      },
      {
       "output_type": "stream",
       "stream": "stdout",
       "text": [
        "\n",
        "proton_angle function took 2267.009 ms"
       ]
      },
      {
       "output_type": "stream",
       "stream": "stdout",
       "text": [
        "\n",
        "proton_angle function took 2563.292 ms"
       ]
      },
      {
       "output_type": "stream",
       "stream": "stdout",
       "text": [
        "\n",
        "proton_angle function took 2933.270 ms"
       ]
      },
      {
       "output_type": "stream",
       "stream": "stdout",
       "text": [
        "\n",
        "proton_angle function took 2240.785 ms"
       ]
      },
      {
       "output_type": "stream",
       "stream": "stdout",
       "text": [
        "\n",
        "proton_angle function took 2659.379 ms"
       ]
      },
      {
       "output_type": "stream",
       "stream": "stdout",
       "text": [
        "\n",
        "proton_angle function took 3155.855 ms"
       ]
      },
      {
       "output_type": "stream",
       "stream": "stdout",
       "text": [
        "\n",
        "proton_angle function took 1960.663 ms"
       ]
      },
      {
       "output_type": "stream",
       "stream": "stdout",
       "text": [
        "\n",
        "proton_angle function took 2139.114 ms"
       ]
      },
      {
       "output_type": "stream",
       "stream": "stdout",
       "text": [
        "\n",
        "proton_angle function took 3200.813 ms"
       ]
      },
      {
       "output_type": "stream",
       "stream": "stdout",
       "text": [
        "\n",
        "proton_angle function took 2766.404 ms"
       ]
      },
      {
       "output_type": "stream",
       "stream": "stdout",
       "text": [
        "\n",
        "proton_angle function took 2454.539 ms"
       ]
      },
      {
       "output_type": "stream",
       "stream": "stdout",
       "text": [
        "\n",
        "proton_angle function took 2395.691 ms"
       ]
      },
      {
       "output_type": "stream",
       "stream": "stdout",
       "text": [
        "\n",
        "proton_angle function took 3204.002 ms"
       ]
      },
      {
       "output_type": "stream",
       "stream": "stdout",
       "text": [
        "\n",
        "proton_angle function took 2801.924 ms"
       ]
      },
      {
       "output_type": "stream",
       "stream": "stdout",
       "text": [
        "\n",
        "proton_angle function took 2985.951 ms"
       ]
      },
      {
       "output_type": "stream",
       "stream": "stdout",
       "text": [
        "\n",
        "proton_angle function took 2198.261 ms"
       ]
      },
      {
       "output_type": "stream",
       "stream": "stdout",
       "text": [
        "\n",
        "proton_angle function took 2354.767 ms"
       ]
      },
      {
       "output_type": "stream",
       "stream": "stdout",
       "text": [
        "\n",
        "proton_angle function took 2567.524 ms"
       ]
      },
      {
       "output_type": "stream",
       "stream": "stdout",
       "text": [
        "\n",
        "proton_angle function took 2185.994 ms"
       ]
      },
      {
       "output_type": "stream",
       "stream": "stdout",
       "text": [
        "\n",
        "proton_angle function took 2004.492 ms"
       ]
      },
      {
       "output_type": "stream",
       "stream": "stdout",
       "text": [
        "\n",
        "proton_angle function took 2141.039 ms"
       ]
      },
      {
       "output_type": "stream",
       "stream": "stdout",
       "text": [
        "\n",
        "proton_angle function took 2222.483 ms"
       ]
      },
      {
       "output_type": "stream",
       "stream": "stdout",
       "text": [
        "\n",
        "proton_angle function took 2453.258 ms"
       ]
      },
      {
       "output_type": "stream",
       "stream": "stdout",
       "text": [
        "\n",
        "proton_angle function took 2886.828 ms"
       ]
      },
      {
       "output_type": "stream",
       "stream": "stdout",
       "text": [
        "\n",
        "proton_angle function took 3920.477 ms"
       ]
      },
      {
       "output_type": "stream",
       "stream": "stdout",
       "text": [
        "\n",
        "proton_angle function took 3716.513 ms"
       ]
      },
      {
       "output_type": "stream",
       "stream": "stdout",
       "text": [
        "\n",
        "proton_angle function took 2859.855 ms"
       ]
      },
      {
       "output_type": "stream",
       "stream": "stdout",
       "text": [
        "\n",
        "proton_angle function took 1552.155 ms"
       ]
      },
      {
       "output_type": "stream",
       "stream": "stdout",
       "text": [
        "\n",
        "proton_angle function took 2952.313 ms"
       ]
      },
      {
       "output_type": "stream",
       "stream": "stdout",
       "text": [
        "\n",
        "proton_angle function took 2859.436 ms"
       ]
      },
      {
       "output_type": "stream",
       "stream": "stdout",
       "text": [
        "\n",
        "proton_angle function took 2126.762 ms"
       ]
      },
      {
       "output_type": "stream",
       "stream": "stdout",
       "text": [
        "\n",
        "proton_angle function took 2342.364 ms"
       ]
      },
      {
       "output_type": "stream",
       "stream": "stdout",
       "text": [
        "\n",
        "proton_angle function took 2365.740 ms"
       ]
      },
      {
       "output_type": "stream",
       "stream": "stdout",
       "text": [
        "\n",
        "proton_angle function took 2311.930 ms"
       ]
      },
      {
       "output_type": "stream",
       "stream": "stdout",
       "text": [
        "\n",
        "proton_angle function took 2635.054 ms"
       ]
      },
      {
       "output_type": "stream",
       "stream": "stdout",
       "text": [
        "\n",
        "proton_angle function took 3917.147 ms"
       ]
      },
      {
       "output_type": "stream",
       "stream": "stdout",
       "text": [
        "\n",
        "proton_angle function took 3380.751 ms"
       ]
      },
      {
       "output_type": "stream",
       "stream": "stdout",
       "text": [
        "\n",
        "proton_angle function took 1955.560 ms"
       ]
      },
      {
       "output_type": "stream",
       "stream": "stdout",
       "text": [
        "\n",
        "proton_angle function took 2704.255 ms"
       ]
      },
      {
       "output_type": "stream",
       "stream": "stdout",
       "text": [
        "\n",
        "proton_angle function took 2664.316 ms"
       ]
      },
      {
       "output_type": "stream",
       "stream": "stdout",
       "text": [
        "\n",
        "proton_angle function took 2312.573 ms"
       ]
      },
      {
       "output_type": "stream",
       "stream": "stdout",
       "text": [
        "\n",
        "proton_angle function took 2109.749 ms"
       ]
      },
      {
       "output_type": "stream",
       "stream": "stdout",
       "text": [
        "\n",
        "proton_angle function took 3971.425 ms"
       ]
      },
      {
       "output_type": "stream",
       "stream": "stdout",
       "text": [
        "\n",
        "proton_angle function took 3670.937 ms"
       ]
      },
      {
       "output_type": "stream",
       "stream": "stdout",
       "text": [
        "\n",
        "proton_angle function took 2593.890 ms"
       ]
      },
      {
       "output_type": "stream",
       "stream": "stdout",
       "text": [
        "\n",
        "proton_angle function took 2837.949 ms"
       ]
      },
      {
       "output_type": "stream",
       "stream": "stdout",
       "text": [
        "\n",
        "proton_angle function took 2561.831 ms"
       ]
      },
      {
       "output_type": "stream",
       "stream": "stdout",
       "text": [
        "\n",
        "proton_angle function took 2643.218 ms"
       ]
      },
      {
       "output_type": "stream",
       "stream": "stdout",
       "text": [
        "\n",
        "proton_angle function took 4186.225 ms"
       ]
      },
      {
       "output_type": "stream",
       "stream": "stdout",
       "text": [
        "\n",
        "proton_angle function took 2574.712 ms"
       ]
      },
      {
       "output_type": "stream",
       "stream": "stdout",
       "text": [
        "\n",
        "proton_angle function took 2990.844 ms"
       ]
      },
      {
       "output_type": "stream",
       "stream": "stdout",
       "text": [
        "\n",
        "proton_angle function took 2530.556 ms"
       ]
      },
      {
       "output_type": "stream",
       "stream": "stdout",
       "text": [
        "\n",
        "proton_angle function took 3905.145 ms"
       ]
      },
      {
       "output_type": "stream",
       "stream": "stdout",
       "text": [
        "\n",
        "proton_angle function took 2731.232 ms"
       ]
      },
      {
       "output_type": "stream",
       "stream": "stdout",
       "text": [
        "\n",
        "proton_angle function took 3586.028 ms"
       ]
      },
      {
       "output_type": "stream",
       "stream": "stdout",
       "text": [
        "\n",
        "proton_angle function took 2746.414 ms"
       ]
      },
      {
       "output_type": "stream",
       "stream": "stdout",
       "text": [
        "\n",
        "proton_angle function took 4151.584 ms"
       ]
      },
      {
       "output_type": "stream",
       "stream": "stdout",
       "text": [
        "\n",
        "proton_angle function took 3930.010 ms"
       ]
      },
      {
       "output_type": "stream",
       "stream": "stdout",
       "text": [
        "\n",
        "proton_angle function took 3045.606 ms"
       ]
      },
      {
       "output_type": "stream",
       "stream": "stdout",
       "text": [
        "\n",
        "proton_angle function took 3056.426 ms"
       ]
      },
      {
       "output_type": "stream",
       "stream": "stdout",
       "text": [
        "\n",
        "proton_angle function took 3229.354 ms"
       ]
      },
      {
       "output_type": "stream",
       "stream": "stdout",
       "text": [
        "\n",
        "proton_angle function took 3557.376 ms"
       ]
      },
      {
       "output_type": "stream",
       "stream": "stdout",
       "text": [
        "\n",
        "proton_angle function took 5438.887 ms"
       ]
      },
      {
       "output_type": "stream",
       "stream": "stdout",
       "text": [
        "\n",
        "proton_angle function took 3115.241 ms"
       ]
      },
      {
       "output_type": "stream",
       "stream": "stdout",
       "text": [
        "\n",
        "proton_angle function took 3687.950 ms"
       ]
      },
      {
       "output_type": "stream",
       "stream": "stdout",
       "text": [
        "\n",
        "proton_angle function took 3318.930 ms"
       ]
      },
      {
       "output_type": "stream",
       "stream": "stdout",
       "text": [
        "\n",
        "proton_angle function took 5533.221 ms"
       ]
      },
      {
       "output_type": "stream",
       "stream": "stdout",
       "text": [
        "\n",
        "proton_angle function took 5104.553 ms"
       ]
      },
      {
       "output_type": "stream",
       "stream": "stdout",
       "text": [
        "\n",
        "proton_angle function took 3925.997 ms"
       ]
      },
      {
       "output_type": "stream",
       "stream": "stdout",
       "text": [
        "\n",
        "proton_angle function took 5331.601 ms"
       ]
      },
      {
       "output_type": "stream",
       "stream": "stdout",
       "text": [
        "\n",
        "proton_angle function took 4797.614 ms"
       ]
      },
      {
       "output_type": "stream",
       "stream": "stdout",
       "text": [
        "\n",
        "proton_angle function took 4681.117 ms"
       ]
      },
      {
       "output_type": "stream",
       "stream": "stdout",
       "text": [
        "\n",
        "proton_angle function took 4943.316 ms"
       ]
      },
      {
       "output_type": "stream",
       "stream": "stdout",
       "text": [
        "\n",
        "proton_angle function took 4934.008 ms"
       ]
      },
      {
       "output_type": "stream",
       "stream": "stdout",
       "text": [
        "\n",
        "proton_angle function took 5452.061 ms"
       ]
      },
      {
       "output_type": "stream",
       "stream": "stdout",
       "text": [
        "\n",
        "proton_angle function took 3587.591 ms"
       ]
      },
      {
       "output_type": "stream",
       "stream": "stdout",
       "text": [
        "\n",
        "proton_angle function took 4967.070 ms"
       ]
      },
      {
       "output_type": "stream",
       "stream": "stdout",
       "text": [
        "\n",
        "proton_angle function took 4901.138 ms"
       ]
      },
      {
       "output_type": "stream",
       "stream": "stdout",
       "text": [
        "\n",
        "proton_angle function took 6843.154 ms"
       ]
      },
      {
       "output_type": "stream",
       "stream": "stdout",
       "text": [
        "\n",
        "proton_angle function took 7044.578 ms"
       ]
      },
      {
       "output_type": "stream",
       "stream": "stdout",
       "text": [
        "\n",
        "proton_angle function took 7572.792 ms"
       ]
      },
      {
       "output_type": "stream",
       "stream": "stdout",
       "text": [
        "\n",
        "proton_angle function took 6915.223 ms"
       ]
      },
      {
       "output_type": "stream",
       "stream": "stdout",
       "text": [
        "\n",
        "proton_angle function took 6471.681 ms"
       ]
      },
      {
       "output_type": "stream",
       "stream": "stdout",
       "text": [
        "\n",
        "proton_angle function took 7034.324 ms"
       ]
      },
      {
       "output_type": "stream",
       "stream": "stdout",
       "text": [
        "\n",
        "proton_angle function took 5843.750 ms"
       ]
      },
      {
       "output_type": "stream",
       "stream": "stdout",
       "text": [
        "\n",
        "proton_angle function took 6141.758 ms"
       ]
      },
      {
       "output_type": "stream",
       "stream": "stdout",
       "text": [
        "\n",
        "proton_angle function took 6061.154 ms"
       ]
      },
      {
       "output_type": "stream",
       "stream": "stdout",
       "text": [
        "\n",
        "proton_angle function took 5392.062 ms"
       ]
      },
      {
       "output_type": "stream",
       "stream": "stdout",
       "text": [
        "\n",
        "proton_angle function took 5256.428 ms"
       ]
      },
      {
       "output_type": "stream",
       "stream": "stdout",
       "text": [
        "\n",
        "proton_angle function took 5186.439 ms"
       ]
      },
      {
       "output_type": "stream",
       "stream": "stdout",
       "text": [
        "\n",
        "proton_angle function took 5152.158 ms"
       ]
      },
      {
       "output_type": "stream",
       "stream": "stdout",
       "text": [
        "\n",
        "proton_angle function took 1081.696 ms"
       ]
      },
      {
       "output_type": "stream",
       "stream": "stdout",
       "text": [
        "\n",
        "proton_angle function took 3508.815 ms"
       ]
      },
      {
       "output_type": "stream",
       "stream": "stdout",
       "text": [
        "\n"
       ]
      }
     ],
     "prompt_number": 86
    },
    {
     "cell_type": "heading",
     "level": 6,
     "metadata": {},
     "source": [
      "save proton noise to file"
     ]
    },
    {
     "cell_type": "code",
     "collapsed": false,
     "input": [
      "#np.savez('625_proton_angle', perp = perp, sixty = sixty,\n",
      "#         forty_five = forty_five, thirty = thirty, fifteen = fifteen)"
     ],
     "language": "python",
     "metadata": {},
     "outputs": [],
     "prompt_number": 123
    },
    {
     "cell_type": "code",
     "collapsed": false,
     "input": [
      "test=np.load('625_proton_angle.npz')\n",
      "test.files"
     ],
     "language": "python",
     "metadata": {},
     "outputs": [
      {
       "metadata": {},
       "output_type": "pyout",
       "prompt_number": 60,
       "text": [
        "['forty_five', 'fifteen', 'thirty', 'sixty', 'perp']"
       ]
      }
     ],
     "prompt_number": 60
    },
    {
     "cell_type": "code",
     "collapsed": false,
     "input": [
      "saved_perp = test['perp']\n",
      "saved_sixty = test['sixty']\n",
      "saved_forty_five = test['forty_five']\n",
      "saved_thirty = test['thirty']\n",
      "saved_fifteen = test['fifteen']"
     ],
     "language": "python",
     "metadata": {},
     "outputs": [],
     "prompt_number": 61
    },
    {
     "cell_type": "code",
     "collapsed": false,
     "input": [
      "from scipy.io.idl import readsav\n",
      "from os.path import expanduser\n",
      "home = expanduser(\"~\")\n",
      "fbins = np.array([4000*2**((2*i+1)/32) for i in range(96)])"
     ],
     "language": "python",
     "metadata": {},
     "outputs": [],
     "prompt_number": 62
    },
    {
     "cell_type": "heading",
     "level": 4,
     "metadata": {},
     "source": [
      "plot proton noise at different beta angles"
     ]
    },
    {
     "cell_type": "code",
     "collapsed": false,
     "input": [
      "fig = plt.figure(figsize=[6,6])\n",
      "plt.plot(fbins, saved_perp, label='$(\\mathbf{v}_{sw}, \\hat{\\mathbf{l}}_{ant})=90^\\circ$')\n",
      "plt.plot(fbins, saved_sixty, label='$60^\\circ$')\n",
      "plt.plot(fbins, saved_forty_five, label='$45^\\circ$')\n",
      "plt.plot(fbins, saved_thirty, label='$30^\\circ$')\n",
      "plt.plot(fbins, saved_fifteen, label='$15^\\circ$')\n",
      "\n",
      "plt.xscale('log')\n",
      "plt.yscale('log')\n",
      "plt.xlim([4e3, 256e3])\n",
      "plt.ylim([1e-18, 1e-12])\n",
      "plt.legend(loc='best')\n",
      "plt.show()"
     ],
     "language": "python",
     "metadata": {},
     "outputs": [
      {
       "metadata": {},
       "output_type": "display_data",
       "png": "[encoded data removed]",
       "text": [
        "<matplotlib.figure.Figure at 0x10dbb5a20>"
       ]
      }
     ],
     "prompt_number": 72
    },
    {
     "cell_type": "code",
     "collapsed": false,
     "input": [
      "m_dat=readsav(home+'/Google Drive/research/data/meudon_tnr/TNR_XY_ACE_19950625.sav')\n",
      "m_data=m_dat['data']\n",
      "mt = m_data['timeur8'][0]\n",
      "mtag = m_data['time'][0]\n",
      "spec = m_data['spectra'][0]#[:, 5223]\n",
      "spec = 10. ** (spec/10.)"
     ],
     "language": "python",
     "metadata": {},
     "outputs": [
      {
       "output_type": "stream",
       "stream": "stderr",
       "text": [
        "/usr/local/lib/python3.4/site-packages/scipy/io/idl.py:167: UserWarning: warning: empty strings are now set to '' instead of None\n",
        "  warnings.warn(\"warning: empty strings are now set to '' instead of None\")\n"
       ]
      }
     ],
     "prompt_number": 5
    },
    {
     "cell_type": "code",
     "collapsed": false,
     "input": [
      "spec[:, 5223:5225].shape"
     ],
     "language": "python",
     "metadata": {},
     "outputs": [
      {
       "metadata": {},
       "output_type": "pyout",
       "prompt_number": 6,
       "text": [
        "(96, 2)"
       ]
      }
     ],
     "prompt_number": 6
    },
    {
     "cell_type": "code",
     "collapsed": false,
     "input": [
      "dat625 = np.load('data/625_bimax.npz')\n",
      "gain = dat625['gain']\n",
      "e_noise = dat625['e_noise']\n",
      "s_noise = dat625['s_noise']\n",
      "p_noise = dat625['p_noise']"
     ],
     "language": "python",
     "metadata": {},
     "outputs": [],
     "prompt_number": 7
    },
    {
     "cell_type": "code",
     "collapsed": false,
     "input": [
      "dat625.files"
     ],
     "language": "python",
     "metadata": {},
     "outputs": [
      {
       "metadata": {},
       "output_type": "pyout",
       "prompt_number": 8,
       "text": [
        "['s_noise', 'gain', 'p_noise', 'e_noise']"
       ]
      }
     ],
     "prompt_number": 8
    },
    {
     "cell_type": "code",
     "collapsed": false,
     "input": [
      "np.arange(5220, 5228)"
     ],
     "language": "python",
     "metadata": {},
     "outputs": [
      {
       "metadata": {},
       "output_type": "pyout",
       "prompt_number": 9,
       "text": [
        "array([5220, 5221, 5222, 5223, 5224, 5225, 5226, 5227])"
       ]
      }
     ],
     "prompt_number": 9
    },
    {
     "cell_type": "code",
     "collapsed": false,
     "input": [
      "ind = 5223\n",
      "rang = 3\n",
      "avg_spec = np.average(spec[:, ind-rang:ind + rang + 1], axis=1)\n",
      "\n",
      "fig = plt.figure(figsize=[6,6])\n",
      "plt.rc('text', usetex=False)\n",
      "plt.rc('font', family='serif')\n",
      "\n",
      "plt.plot(fbins, saved_perp + e_noise, label='$90^\\circ$')\n",
      "plt.plot(fbins, saved_sixty + e_noise, label='$60^\\circ$')\n",
      "plt.plot(fbins, saved_forty_five + e_noise, label='$45^\\circ$')\n",
      "plt.plot(fbins, saved_thirty + e_noise, label='$30^\\circ$')\n",
      "plt.plot(fbins, saved_fifteen +e_noise, label='$15^\\circ$')\n",
      "\n",
      "for i in np.arange(ind-rang, ind+rang+1):\n",
      "    plt.plot(fbins, spec[:, i] * gain, 'o', markersize=1)\n",
      "plt.plot(fbins, avg_spec * gain, '-', markersize=1, label='average TNR')\n",
      "\n",
      "plt.xscale('log')\n",
      "plt.yscale('log')\n",
      "plt.xlim([4e3, 256e3])\n",
      "plt.ylim([1e-16, 1e-12])\n",
      "plt.title(\"theoretical spectra for \" + mtag[ind].decode(\"utf-8\") + \"\\n dots correspond to 7 nearby TNR spectra\")\n",
      "plt.legend(loc='best')\n",
      "plt.show()"
     ],
     "language": "python",
     "metadata": {},
     "outputs": [
      {
       "metadata": {},
       "output_type": "display_data",
       "png": "[encoded data removed]",
       "text": [
        "<matplotlib.figure.Figure at 0x10caef908>"
       ]
      }
     ],
     "prompt_number": 57
    },
    {
     "cell_type": "code",
     "collapsed": false,
     "input": [
      "fig.savefig('wind1.png', dpi=300)"
     ],
     "language": "python",
     "metadata": {},
     "outputs": [],
     "prompt_number": 54
    },
    {
     "cell_type": "code",
     "collapsed": false,
     "input": [
      "beta_list = np.arange(-np.pi, np.pi+0.01, np.pi/6)"
     ],
     "language": "python",
     "metadata": {},
     "outputs": [],
     "prompt_number": 110
    },
    {
     "cell_type": "code",
     "collapsed": false,
     "input": [
      "p_beta = np.array([proton_angle(beta, 4e3, ne, n, t, tp, tc, k, vsw, ant_len) for beta in beta_list])"
     ],
     "language": "python",
     "metadata": {},
     "outputs": [
      {
       "output_type": "stream",
       "stream": "stderr",
       "text": [
        "/usr/local/lib/python3.4/site-packages/scipy/integrate/quadpack.py:352: IntegrationWarning: The maximum number of subdivisions (50) has been achieved.\n",
        "  If increasing the limit yields no improvement it is advised to analyze \n",
        "  the integrand in order to determine the difficulties.  If the position of a \n",
        "  local difficulty can be determined (singularity, discontinuity) one will \n",
        "  probably gain from splitting up the interval and calling the integrator \n",
        "  on the subranges.  Perhaps a special-purpose integrator should be used.\n",
        "  warnings.warn(msg, IntegrationWarning)\n",
        "/usr/local/lib/python3.4/site-packages/scipy/integrate/quadpack.py:352: IntegrationWarning: The integral is probably divergent, or slowly convergent.\n",
        "  warnings.warn(msg, IntegrationWarning)\n"
       ]
      },
      {
       "output_type": "stream",
       "stream": "stdout",
       "text": [
        "proton_angle function took 5.964 ms\n",
        "proton_angle function took 3756.688 ms"
       ]
      },
      {
       "output_type": "stream",
       "stream": "stdout",
       "text": [
        "\n",
        "proton_angle function took 3525.116 ms"
       ]
      },
      {
       "output_type": "stream",
       "stream": "stdout",
       "text": [
        "\n",
        "proton_angle function took 9994.065 ms"
       ]
      },
      {
       "output_type": "stream",
       "stream": "stdout",
       "text": [
        "\n",
        "proton_angle function took 3298.267 ms"
       ]
      },
      {
       "output_type": "stream",
       "stream": "stdout",
       "text": [
        "\n",
        "proton_angle function took 3983.648 ms"
       ]
      },
      {
       "output_type": "stream",
       "stream": "stdout",
       "text": [
        "\n",
        "proton_angle function took 5.163 ms\n",
        "proton_angle function took 3771.168 ms"
       ]
      },
      {
       "output_type": "stream",
       "stream": "stdout",
       "text": [
        "\n",
        "proton_angle function took 3388.725 ms"
       ]
      },
      {
       "output_type": "stream",
       "stream": "stdout",
       "text": [
        "\n",
        "proton_angle function took 10362.526 ms"
       ]
      },
      {
       "output_type": "stream",
       "stream": "stdout",
       "text": [
        "\n",
        "proton_angle function took 3449.722 ms"
       ]
      },
      {
       "output_type": "stream",
       "stream": "stdout",
       "text": [
        "\n",
        "proton_angle function took 3928.348 ms"
       ]
      },
      {
       "output_type": "stream",
       "stream": "stdout",
       "text": [
        "\n",
        "proton_angle function took 7.310 ms\n"
       ]
      }
     ],
     "prompt_number": 111
    },
    {
     "cell_type": "code",
     "collapsed": false,
     "input": [
      "plt.plot(beta_list, p_beta/gain[0])\n",
      "plt.yscale('log')\n",
      "plt.show()"
     ],
     "language": "python",
     "metadata": {},
     "outputs": [
      {
       "metadata": {},
       "output_type": "display_data",
       "png": "[encoded data removed]",
       "text": [
        "<matplotlib.figure.Figure at 0x10feba320>"
       ]
      }
     ],
     "prompt_number": 119
    },
    {
     "cell_type": "code",
     "collapsed": false,
     "input": [
      "proton_angle(1.57, 14e3, ne, n, t, tp, tc, k, vsw, ant_len)"
     ],
     "language": "python",
     "metadata": {},
     "outputs": [
      {
       "output_type": "stream",
       "stream": "stdout",
       "text": [
        "proton_angle function took 6176.288 ms\n"
       ]
      },
      {
       "metadata": {},
       "output_type": "pyout",
       "prompt_number": 117,
       "text": [
        "7.9026781671006179e-15"
       ]
      }
     ],
     "prompt_number": 117
    },
    {
     "cell_type": "code",
     "collapsed": false,
     "input": [],
     "language": "python",
     "metadata": {},
     "outputs": []
    }
   ],
   "metadata": {}
  }
 ]
}