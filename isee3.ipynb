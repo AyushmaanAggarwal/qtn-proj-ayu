{
 "metadata": {
  "name": "",
  "signature": "sha256:14f59bf62afb681321813c06fc22da5d8cd7e91e2cd7ff83edc6054613d58d8a"
 },
 "nbformat": 3,
 "nbformat_minor": 0,
 "worksheets": [
  {
   "cells": [
    {
     "cell_type": "code",
     "collapsed": false,
     "input": [
      "from qtn.bimax import BiMax\n",
      "from qtn.util import (boltzmann, emass, echarge, permittivity, cspeed)\n",
      "from qtn.util import ldeb\n",
      "import mpmath as mp\n",
      "import numpy as np\n",
      "import matplotlib.pyplot as plt"
     ],
     "language": "python",
     "metadata": {},
     "outputs": [],
     "prompt_number": 1
    },
    {
     "cell_type": "heading",
     "level": 3,
     "metadata": {},
     "source": [
      "Couturier et al. 1981 Fig. 3"
     ]
    },
    {
     "cell_type": "heading",
     "level": 6,
     "metadata": {},
     "source": [
      "$l_{antenna}=45m$, $f_p=20KHz$, $T_c=10^5K$, $N_h/H_c=0.05$"
     ]
    },
    {
     "cell_type": "heading",
     "level": 6,
     "metadata": {},
     "source": [
      "$n_e = 4.96cm^{-3}$, $n_c=\\frac{20n_e}{21}=4.724cm^{-3}, l_{dc} = 10.04m$\n",
      "Hence $$l_{ant}/l_{dc} = 45/10.04= 4.4821$$"
     ]
    },
    {
     "cell_type": "code",
     "collapsed": false,
     "input": [
      "lrel = 4.4821\n",
      "tc = 1e5\n",
      "n = 0.05\n",
      "t = 1"
     ],
     "language": "python",
     "metadata": {},
     "outputs": [],
     "prompt_number": 2
    },
    {
     "cell_type": "heading",
     "level": 6,
     "metadata": {},
     "source": [
      "An instance of ISEE3 antenna in bi-maxwellian plasmas"
     ]
    },
    {
     "cell_type": "code",
     "collapsed": false,
     "input": [
      "p = BiMax(45, 2e-4/45, 45e-12)"
     ],
     "language": "python",
     "metadata": {},
     "outputs": [],
     "prompt_number": 3
    },
    {
     "cell_type": "code",
     "collapsed": false,
     "input": [
      "wrelplot= (np.arange(9)+1)*0.1\n",
      "wrelplot = np.append(wrelplot, [.91, .93, .95, .96, .97, .98, .99, .995, 1.005, 1.01, 1.02, 1.03, 1.04, 1.05, 1.07, 1.09, 1.11, 1.13, 1.15, 1.17, 1.19])\n",
      "wrelplot = np.append(wrelplot, (np.arange(15) + 6) *0.2)"
     ],
     "language": "python",
     "metadata": {},
     "outputs": [],
     "prompt_number": 4
    },
    {
     "cell_type": "code",
     "collapsed": false,
     "input": [
      "trelplot = [1, 1.75, 3.5, 7, 14, 28]\n",
      "treplot = [1]\n",
      "wrelplot=[0.1, 0.2]"
     ],
     "language": "python",
     "metadata": {},
     "outputs": [],
     "prompt_number": 20
    },
    {
     "cell_type": "code",
     "collapsed": false,
     "input": [
      "trans=np.array([np.array([p.gamma(wrel, lrel, n, t, tc) for wrel in wrelplot]) \n",
      "          for t in trelplot])"
     ],
     "language": "python",
     "metadata": {},
     "outputs": [],
     "prompt_number": 21
    },
    {
     "cell_type": "code",
     "collapsed": false,
     "input": [
      "noise=np.array([np.array([p.bimax(wrel, lrel, n, t, tc) for wrel in wrelplot]) \n",
      "          for t in trelplot])"
     ],
     "language": "python",
     "metadata": {},
     "outputs": [
      {
       "metadata": {},
       "output_type": "pyout",
       "prompt_number": 8,
       "text": [
        "array([[mpf('1.90605349154534'), mpf('1.9063369469568214')],\n",
        "       [mpf('1.9067475452217006'), mpf('1.9070370275267916')],\n",
        "       [mpf('1.907216539779244'), mpf('1.907509873774615')],\n",
        "       [mpf('1.9074525202950308'), mpf('1.9077463010313949')],\n",
        "       [mpf('1.907570709564514'), mpf('1.9078638086285968')],\n",
        "       [mpf('1.9076297923784922'), mpf('1.9079221521983605')]], dtype=object)"
       ]
      }
     ],
     "prompt_number": 8
    },
    {
     "cell_type": "code",
     "collapsed": false,
     "input": [],
     "language": "python",
     "metadata": {},
     "outputs": []
    }
   ],
   "metadata": {}
  }
 ]
}