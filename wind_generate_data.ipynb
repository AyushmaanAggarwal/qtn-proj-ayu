{
 "cells": [
  {
   "cell_type": "markdown",
   "metadata": {},
   "source": [
    "## Import Packages and Data"
   ]
  },
  {
   "cell_type": "code",
   "execution_count": 1,
   "metadata": {
    "tags": []
   },
   "outputs": [],
   "source": [
    "# AYU CODE\n",
    "import pickle\n",
    "\n",
    "from scipy import fft\n",
    "from qtn.bimax import BiMax\n",
    "from qtn.util import (boltzmann, emass, echarge, permittivity, cspeed, fperp, fp)\n",
    "import numpy as np\n",
    "import mpmath as mp\n",
    "import matplotlib.pyplot as plt\n",
    "from pyspedas import wind\n",
    "from pytplot import tplot, get_data\n",
    "import pandas as pd\n",
    "import time\n",
    "import netCDF4 as nc\n",
    "from functions import Timer\n",
    "%matplotlib inline"
   ]
  },
  {
   "cell_type": "code",
   "execution_count": 2,
   "metadata": {
    "tags": []
   },
   "outputs": [],
   "source": [
    "T = Timer.Timer()\n",
    "T.start()"
   ]
  },
  {
   "cell_type": "code",
   "execution_count": 3,
   "metadata": {},
   "outputs": [],
   "source": [
    "ant_len = 50      # m (monopole) \n",
    "ant_rad = 1.9e-4  # m\n",
    "base_cap = 20e-12 # Farad\n",
    "fbins = np.array([4000*1.0445**i for i in range(96)])"
   ]
  },
  {
   "cell_type": "code",
   "execution_count": 4,
   "metadata": {},
   "outputs": [],
   "source": [
    "def find_closest_time(time, lst):\n",
    "    \"\"\"\n",
    "    A function used to find the index of the closest time in a list \n",
    "    to the specific time held in the variable time\n",
    "    \"\"\"\n",
    "    return min(range(len(lst)), key=lambda i: abs(time-lst[i]))"
   ]
  },
  {
   "cell_type": "code",
   "execution_count": 5,
   "metadata": {},
   "outputs": [
    {
     "name": "stdout",
     "output_type": "stream",
     "text": [
      "<class 'netCDF4._netCDF4.Dataset'>\n",
      "root group (NETCDF3_CLASSIC data model, file format NETCDF3):\n",
      "    dimensions(sizes): n_times(19419), n_bins(96)\n",
      "    variables(dimensions): float64 tnr_ch1_time(n_times), float64 tnr_ch1_freq(n_bins), float64 tnr_ch1_spec(n_bins, n_times)\n",
      "    groups: \n",
      "19419\n"
     ]
    }
   ],
   "source": [
    "#data = wind.waves(trange=['1995-6-25', '1995-6-26'],get_support_data=True)\n",
    "ds =  nc.Dataset(\"data/wi_wav_tnr_19950625.nc\")\n",
    "print(ds)\n",
    "print(np.size(ds[\"tnr_ch1_time\"][:]))"
   ]
  },
  {
   "cell_type": "markdown",
   "metadata": {
    "tags": []
   },
   "source": [
    "## Plot 1: June 25, 1995 06:33:06.432"
   ]
  },
  {
   "cell_type": "markdown",
   "metadata": {
    "tags": []
   },
   "source": [
    "### Theoretical"
   ]
  },
  {
   "cell_type": "markdown",
   "metadata": {},
   "source": [
    "## Imported Parameters\n",
    "* vsw: Solar Wind Speed                  - Solar Wind Experiment(SWE)\n",
    "* tc: core electron temperature ~ electron temperature - statistical paper \n",
    "* fpe: core electron plasma frequency    - Use WIND/WAVES NN\n",
    "* ne: electron density                   - Use WIND/WAVES NN\n",
    "* t: halo/core electron temperature ratio - \n",
    "* n: halo/core electron density ratio     - \n",
    "* tep: electron to proton temperature ratio - statistical paper \n",
    "\n",
    "## Calculated Parameters\n",
    "* nc: core electron density       \n",
    "* ldc: core debye length                 \n",
    "* lrel: relative length of antenna"
   ]
  },
  {
   "cell_type": "code",
   "execution_count": 6,
   "metadata": {},
   "outputs": [],
   "source": [
    "vsw=3.966e5                   # Solar Wind Speed\n",
    "tc = 9.91 * echarge/boltzmann # Core electron temperature\n",
    "t = 6.57                      # ??? Only used to calculate electron noise and shot noise\n",
    "n = 0.026                     # ??? Some sort of ratio between core electron and normal electron density\n",
    "tep = 9.91/9.62               # Electron Temperature/Proton Temperature Ratio\n",
    "fpe = 31.47e3                 # Electron Plasma Frequency"
   ]
  },
  {
   "cell_type": "code",
   "execution_count": 7,
   "metadata": {},
   "outputs": [
    {
     "name": "stdout",
     "output_type": "stream",
     "text": [
      "7.391617810601882\n"
     ]
    }
   ],
   "source": [
    "ne = 12.28e6                  # Electron Density\n",
    "nc = ne/(1+n)                 # ??? Core Electron Density\n",
    "ldc = np.sqrt(permittivity * boltzmann * tc/ nc / echarge**2) # Debye Length\n",
    "lrel = ant_len/ldc            # Relative length antenna to debye length\n",
    "print(lrel)"
   ]
  },
  {
   "cell_type": "code",
   "execution_count": 8,
   "metadata": {},
   "outputs": [],
   "source": [
    "wrelplot = fbins/fpe"
   ]
  },
  {
   "cell_type": "code",
   "execution_count": 9,
   "metadata": {},
   "outputs": [
    {
     "name": "stdout",
     "output_type": "stream",
     "text": [
      "BiMax(50, 0.00019, 2e-11)\n",
      "p.gamma_shot(0.1271051795360661, 7.391617810601882, 0.026, 6.57, 115000.78664972584)\n"
     ]
    }
   ],
   "source": [
    "print(f\"BiMax({ant_len}, {ant_rad}, {base_cap})\")\n",
    "print(f\"p.gamma_shot({wrelplot[0]}, {lrel}, {n}, {t}, {tc})\")"
   ]
  },
  {
   "cell_type": "code",
   "execution_count": 10,
   "metadata": {},
   "outputs": [],
   "source": [
    "p = BiMax(ant_len, ant_rad, base_cap,False)"
   ]
  },
  {
   "cell_type": "code",
   "execution_count": 11,
   "metadata": {},
   "outputs": [],
   "source": [
    "T.lap(\"Gamma_shot\")\n",
    "g_s = np.array([p.gamma_shot(wrel, lrel, n, t, tc) for wrel in wrelplot])\n"
   ]
  },
  {
   "cell_type": "code",
   "execution_count": 12,
   "metadata": {},
   "outputs": [],
   "source": [
    "def helper(wrel):\n",
    "    \"\"\"\n",
    "    add precision control to bimax function.\n",
    "    \n",
    "    \"\"\"\n",
    "    if wrel > 1 and wrel < 1.2:\n",
    "        mp.mp.dps = 40\n",
    "    else:\n",
    "        mp.mp.dps = 20\n",
    "    #mp.mp.dps = 3\n",
    "    return p.bimax(wrel, lrel, n, t, tc)"
   ]
  },
  {
   "cell_type": "code",
   "execution_count": 13,
   "metadata": {},
   "outputs": [],
   "source": [
    "T.lap(\"Enoise\")\n",
    "enoise = np.array([helper(wrel) for wrel in wrelplot])"
   ]
  },
  {
   "cell_type": "code",
   "execution_count": 14,
   "metadata": {},
   "outputs": [],
   "source": [
    "#Modified by AYU \n",
    "# - Was running into an parameter error \n",
    "# - need to fix to match up with reference graph\n",
    "#pnoise = np.array([p.proton(wrel*np.sqrt(1+n), ne, n, t, tep, tc, vsw) for wrel in wrelplot])\n",
    "T.lap(\"Pnoise\")\n",
    "pnoise = np.array([p.proton2(wrel*np.sqrt(1+n), lrel, tep, tc, vsw) for wrel in wrelplot])"
   ]
  },
  {
   "cell_type": "code",
   "execution_count": 15,
   "metadata": {},
   "outputs": [],
   "source": [
    "T.lap(\"Addition\")\n",
    "gamma = g_s[:, 0]\n",
    "shot = g_s[:, 1]\n",
    "vr2 = enoise + pnoise + shot"
   ]
  },
  {
   "cell_type": "code",
   "execution_count": 16,
   "metadata": {},
   "outputs": [
    {
     "data": {
      "image/png": "[encoded data removed]",
      "text/plain": [
       "<Figure size 432x432 with 1 Axes>"
      ]
     },
     "metadata": {},
     "output_type": "display_data"
    }
   ],
   "source": [
    "T.lap(\"Plot\")\n",
    "plt.rc('text', usetex=True)\n",
    "plt.rc('font', family='serif')\n",
    "fig = plt.figure(figsize=[6, 6], facecolor='w')\n",
    "plt.plot(fbins/1000, vr2/gamma, 'o-', markersize=2, label='total')\n",
    "plt.plot(fbins/1000, enoise/gamma, label='electron')\n",
    "plt.plot(fbins/1000, pnoise/gamma, label='proton')\n",
    "plt.plot(fbins/1000, shot/gamma, label='shot')\n",
    "plt.xscale('log')\n",
    "plt.yscale('log')\n",
    "plt.xlim([4, 256])\n",
    "plt.ylim([1e-16, 5e-13])\n",
    "plt.xlabel(r'$f[kHz]$')\n",
    "plt.ylabel(r'$V_r^2[V^2Hz^{-1}]$')\n",
    "plt.title('ROUGH ESTIMATE: June 25 1995:06:33:06.432')\n",
    "plt.legend(loc='best')\n",
    "plt.show()"
   ]
  },
  {
   "cell_type": "code",
   "execution_count": 17,
   "metadata": {},
   "outputs": [
    {
     "name": "stdout",
     "output_type": "stream",
     "text": [
      "Total Time: 160.3173971176\n",
      "Name: Elapsed Time\n",
      "Gamma_shot: 106.8418605328\n",
      "Enoise: 42.0459327698\n",
      "Pnoise: 0.6923296452\n",
      "Addition: 0.0091142654\n",
      "Plot: 0.3386869431\n",
      "\n"
     ]
    }
   ],
   "source": [
    "T.stop()\n",
    "print(T.summary())"
   ]
  },
  {
   "cell_type": "code",
   "execution_count": 18,
   "metadata": {},
   "outputs": [
    {
     "name": "stdout",
     "output_type": "stream",
     "text": [
      "[mpf('3.8203087224414107682645e-14') mpf('3.7663664808550005983629e-14')\n",
      " mpf('3.7121095572148527229478e-14') mpf('3.6573809350308495739777e-14')\n",
      " mpf('3.6018445193847246853161e-14') mpf('3.5454354550694630515591e-14')\n",
      " mpf('3.4881108693359805313835e-14') mpf('3.4295865422628757967023e-14')\n",
      " mpf('3.3699799575462098149282e-14') mpf('3.3091815895407424192943e-14')\n",
      " mpf('3.2470674285897161063549e-14') mpf('3.1838191583474359642287e-14')\n",
      " mpf('3.1194638209354423831293e-14') mpf('3.0539497526845043517676e-14')\n",
      " mpf('2.9875328869808386663991e-14') mpf('2.920360256940664725867e-14')\n",
      " mpf('2.8524882290308030615218e-14') mpf('2.7841948715372230660774e-14')\n",
      " mpf('2.7157534665724886240652e-14') mpf('2.6472962023664212881799e-14')\n",
      " mpf('2.5791476016794287101869e-14') mpf('2.5116170246009022965961e-14')\n",
      " mpf('2.4449374132797138706808e-14') mpf('2.3794029144569436082631e-14')\n",
      " mpf('2.3153597834985447096155e-14') mpf('2.2530515896114616765829e-14')\n",
      " mpf('2.1927498650535632638443e-14') mpf('2.1347899104022796744644e-14')\n",
      " mpf('2.0794016668930338096692e-14') mpf('2.0268354105050077185568e-14')\n",
      " mpf('1.9773579289421419982316e-14') mpf('1.9312110367385598651964e-14')\n",
      " mpf('1.8886361988591889427646e-14') mpf('1.8498832957285410131518e-14')\n",
      " mpf('1.8152464588782068655727e-14') mpf('1.7850490293693363101403e-14')\n",
      " mpf('1.7596750406032910298789e-14') mpf('1.7396571765176024116545e-14')\n",
      " mpf('1.7257059036576791596178e-14') mpf('1.7188094497452218230955e-14')\n",
      " mpf('1.7204700060919671667026e-14') mpf('1.7330187103682221122722e-14')\n",
      " mpf('1.7602805258889823183893e-14') mpf('1.8090343790621383973513e-14')\n",
      " mpf('1.8925014933897308039085e-14') mpf('2.0403944618268043654009e-14')\n",
      " mpf('2.3363038851855656120542e-14') mpf('3.1425455766298714738812e-14')\n",
      " mpf('2.0406087233542415292041e-13') mpf('2.1387561962431067571461e-13')\n",
      " mpf('1.4912576647063516920506e-13') mpf('9.1822523582726669696909e-14')\n",
      " mpf('6.2236177234666485623303e-14') mpf('4.6018701531496257077759e-14')\n",
      " mpf('3.5724995128818228584031e-14') mpf('2.8494967650137495656912e-14')\n",
      " mpf('2.3111784467266558376281e-14') mpf('1.896691511994801830945e-14')\n",
      " mpf('1.5708098113393201302237e-14') mpf('1.3108269618559049514977e-14')\n",
      " mpf('1.1010439660908987154547e-14') mpf('9.3013438597404486042723e-15')\n",
      " mpf('7.8970830007116561480234e-15') mpf('6.7344289778192092822047e-15')\n",
      " mpf('5.7651327063085804706344e-15') mpf('4.9519405493992652839459e-15')\n",
      " mpf('4.2658282546780151454196e-15') mpf('3.683958931665286557828e-15')\n",
      " mpf('3.1882444909859433154227e-15') mpf('2.7642193647622722283772e-15')\n",
      " mpf('2.4002418657054547090453e-15') mpf('2.0868571544595348562741e-15')\n",
      " mpf('1.8163445171556149271252e-15') mpf('1.5823383570964162519106e-15')\n",
      " mpf('1.379558603048170835343e-15') mpf('1.2035809986716179189269e-15')\n",
      " mpf('1.050682475034659441517e-15') mpf('9.1770275639921185215685e-16')\n",
      " mpf('8.0195236705135100014247e-16') mpf('7.0112478378575996547327e-16')\n",
      " mpf('6.132392169564101403701e-16') mpf('5.3658637773276328139974e-16')\n",
      " mpf('4.6969229304404924005843e-16') mpf('4.1128357844523068166884e-16')\n",
      " mpf('3.6025680257919506149659e-16') mpf('3.1565714092297295574912e-16')\n",
      " mpf('2.7665455028493718580595e-16') mpf('2.4253203851975303230175e-16')\n",
      " mpf('2.1266581555264341562427e-16') mpf('1.8651773900580534085028e-16')\n",
      " mpf('1.6360970627539022575944e-16') mpf('1.4354016341572339660665e-16')\n",
      " mpf('1.2595027056049528544389e-16') mpf('1.1052913288255692067141e-16')\n",
      " mpf('9.7006988817084672346404e-17') mpf('8.5147551617522616501927e-17')]\n"
     ]
    }
   ],
   "source": [
    "print(vr2)"
   ]
  },
  {
   "cell_type": "code",
   "execution_count": 20,
   "metadata": {},
   "outputs": [
    {
     "ename": "NameError",
     "evalue": "name 'error' is not defined",
     "output_type": "error",
     "traceback": [
      "\u001b[0;31m---------------------------------------------------------------------------\u001b[0m",
      "\u001b[0;31mNameError\u001b[0m                                 Traceback (most recent call last)",
      "\u001b[0;32m/tmp/ipykernel_28762/1499560347.py\u001b[0m in \u001b[0;36m<module>\u001b[0;34m\u001b[0m\n\u001b[0;32m----> 1\u001b[0;31m \u001b[0;32mraise\u001b[0m \u001b[0merror\u001b[0m\u001b[0;34m\u001b[0m\u001b[0;34m\u001b[0m\u001b[0m\n\u001b[0m\u001b[1;32m      2\u001b[0m \u001b[0mfig\u001b[0m\u001b[0;34m.\u001b[0m\u001b[0msavefig\u001b[0m\u001b[0;34m(\u001b[0m\u001b[0;34m'plots/wind19950625_theoretical.png'\u001b[0m\u001b[0;34m,\u001b[0m \u001b[0mdpi\u001b[0m\u001b[0;34m=\u001b[0m\u001b[0;36m300\u001b[0m\u001b[0;34m)\u001b[0m\u001b[0;34m\u001b[0m\u001b[0;34m\u001b[0m\u001b[0m\n",
      "\u001b[0;31mNameError\u001b[0m: name 'error' is not defined"
     ]
    }
   ],
   "source": [
    "raise error\n",
    "fig.savefig('plots/wind19950625_theoretical.png', dpi=300)"
   ]
  },
  {
   "cell_type": "markdown",
   "metadata": {
    "tags": []
   },
   "source": [
    "### Experimental"
   ]
  },
  {
   "cell_type": "markdown",
   "metadata": {
    "tags": []
   },
   "source": [
    "## Plot 2: June 25, 1995 18:52:34.344 GMT"
   ]
  },
  {
   "cell_type": "code",
   "execution_count": null,
   "metadata": {},
   "outputs": [],
   "source": [
    "assert False"
   ]
  },
  {
   "cell_type": "markdown",
   "metadata": {},
   "source": [
    "### Theoretical"
   ]
  },
  {
   "cell_type": "code",
   "execution_count": null,
   "metadata": {},
   "outputs": [],
   "source": [
    "vsw=7.61e5\n",
    "tc = 11.53 * echarge/boltzmann\n",
    "t = 5.57\n",
    "n = 0.059\n",
    "tep = 11.53/47.49\n",
    "fpe = 22.24e3\n",
    "te = tc * (1 + n)/(1 + n/t)\n",
    "print(te)\n",
    "te = te"
   ]
  },
  {
   "cell_type": "code",
   "execution_count": null,
   "metadata": {},
   "outputs": [],
   "source": [
    "ne = 6.13e6\n",
    "nc = ne/(1+n)\n",
    "ldc = np.sqrt(permittivity * boltzmann * tc/ nc / echarge**2)\n",
    "lc = ant_len/ldc\n",
    "print(lc)\n",
    "lde = np.sqrt(permittivity * boltzmann * te/ ne / echarge**2)\n",
    "le = ant_len/lde\n",
    "print(le)"
   ]
  },
  {
   "cell_type": "code",
   "execution_count": null,
   "metadata": {},
   "outputs": [],
   "source": [
    "p = BiMax(ant_len, ant_rad, base_cap)"
   ]
  },
  {
   "cell_type": "code",
   "execution_count": null,
   "metadata": {},
   "outputs": [],
   "source": [
    "wrelplot = fbins/fpe"
   ]
  },
  {
   "cell_type": "code",
   "execution_count": null,
   "metadata": {},
   "outputs": [],
   "source": [
    "#wrelplot = wrelplot[0:2]"
   ]
  },
  {
   "cell_type": "code",
   "execution_count": null,
   "metadata": {},
   "outputs": [],
   "source": [
    "g_s = np.array([p.gamma_shot(wrel, lrel, n, t, tc) for wrel in wrelplot])"
   ]
  },
  {
   "cell_type": "code",
   "execution_count": null,
   "metadata": {},
   "outputs": [],
   "source": [
    "wrelplot[0]"
   ]
  },
  {
   "cell_type": "code",
   "execution_count": null,
   "metadata": {},
   "outputs": [],
   "source": [
    "wrel = wrelplot[0]\n",
    "print(p.gamma_shot(wrel, lrel, n, t, tc))\n",
    "print(p.proton2(wrel, lc, tep, tc, vsw))\n",
    "print(p.proton2(wrel, le, tep, te, vsw))"
   ]
  },
  {
   "cell_type": "code",
   "execution_count": null,
   "metadata": {},
   "outputs": [],
   "source": [
    "p.proton2(0.1, le, tep, te, vsw)"
   ]
  },
  {
   "cell_type": "code",
   "execution_count": null,
   "metadata": {},
   "outputs": [],
   "source": [
    "def helper(wrel):\n",
    "    \"\"\"\n",
    "    add precision control to bimax function.\n",
    "    \n",
    "    \"\"\"\n",
    "    if wrel > 1 and wrel < 1.2:\n",
    "        mp.mp.dps = 40\n",
    "    else:\n",
    "        mp.mp.dps = 20\n",
    "    return p.bimax(wrel, lrel, n, t, tc)"
   ]
  },
  {
   "cell_type": "code",
   "execution_count": null,
   "metadata": {},
   "outputs": [],
   "source": [
    "enoise = np.array([helper(wrel) for wrel in wrelplot])"
   ]
  },
  {
   "cell_type": "code",
   "execution_count": null,
   "metadata": {},
   "outputs": [],
   "source": [
    "pnoise = np.array([p.proton2(wrel*np.sqrt(1+n), lrel, tep, tc, vsw) for wrel in wrelplot])"
   ]
  },
  {
   "cell_type": "code",
   "execution_count": null,
   "metadata": {},
   "outputs": [],
   "source": [
    "fig = plt.figure(figsize=[6, 6])\n",
    "plt.plot(fbins/1000, pnoise, label='proton')\n",
    "plt.xscale('log')\n",
    "plt.yscale('log')\n",
    "plt.xlim([4, 256])\n",
    "plt.ylim([1e-16, 5e-13])\n",
    "plt.xlabel(r'$f[kHz]$')\n",
    "plt.ylabel(r'$V_r^2[V^2Hz^{-1}]$')\n",
    "plt.title('June 19 1995:18:52:35.344')\n",
    "plt.legend(loc='best')\n",
    "plt.show()"
   ]
  },
  {
   "cell_type": "code",
   "execution_count": null,
   "metadata": {},
   "outputs": [],
   "source": [
    "gamma = g_s[:, 0]\n",
    "shot = g_s[:, 1]\n",
    "vr2 = enoise + pnoise + shot"
   ]
  },
  {
   "cell_type": "code",
   "execution_count": null,
   "metadata": {},
   "outputs": [],
   "source": [
    "plt.rc('text', usetex=True)\n",
    "plt.rc('font', family='serif')\n",
    "fig = plt.figure(figsize=[6, 6])\n",
    "plt.plot(fbins/1000, vr2/gamma, 'o-', markersize=2, label='total')\n",
    "plt.plot(fbins/1000, enoise/gamma, label='electron')\n",
    "plt.plot(fbins/1000, pnoise/gamma, label='proton')\n",
    "plt.plot(fbins/1000, shot/gamma, label='shot')\n",
    "plt.xscale('log')\n",
    "plt.yscale('log')\n",
    "plt.xlim([4, 256])\n",
    "plt.ylim([1e-16, 5e-13])\n",
    "plt.xlabel(r'$f[kHz]$')\n",
    "plt.ylabel(r'$V_r^2[V^2Hz^{-1}]$')\n",
    "plt.title('June 19 1995:18:52:35.344')\n",
    "plt.legend(loc='best')\n",
    "plt.show()"
   ]
  },
  {
   "cell_type": "code",
   "execution_count": null,
   "metadata": {},
   "outputs": [],
   "source": [
    "fig.savefig('plots/wind19950619_theoretical.png', dpi=300)"
   ]
  },
  {
   "cell_type": "code",
   "execution_count": null,
   "metadata": {},
   "outputs": [],
   "source": []
  }
 ],
 "metadata": {
  "kernelspec": {
   "display_name": "Python 3 (ipykernel)",
   "language": "python",
   "name": "python3"
  },
  "language_info": {
   "codemirror_mode": {
    "name": "ipython",
    "version": 3
   },
   "file_extension": ".py",
   "mimetype": "text/x-python",
   "name": "python",
   "nbconvert_exporter": "python",
   "pygments_lexer": "ipython3",
   "version": "3.10.5"
  },
  "name": ""
 },
 "nbformat": 4,
 "nbformat_minor": 4
}
