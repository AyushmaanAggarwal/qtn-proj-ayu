{
 "metadata": {
  "name": "",
  "signature": "sha256:052dce55914010ece3137cb49da6f430ce58485de30f7bfe620f2ec98ff2ed44"
 },
 "nbformat": 3,
 "nbformat_minor": 0,
 "worksheets": [
  {
   "cells": [
    {
     "cell_type": "code",
     "collapsed": false,
     "input": [
      "#from qtn.bimax import BiMax\n",
      "from qtn.util import (boltzmann, emass, echarge, permittivity, cspeed, fperp, fp)\n",
      "import numpy as np\n",
      "import mpmath as mp\n",
      "import matplotlib.pyplot as plt\n",
      "import scipy.integrate as scint"
     ],
     "language": "python",
     "metadata": {},
     "outputs": [],
     "prompt_number": 1
    },
    {
     "cell_type": "code",
     "collapsed": false,
     "input": [
      "class BiMax(object):\n",
      "    def __init__(self, ant_len, ant_rad, base_cap):\n",
      "        self.ant_len = ant_len\n",
      "        self.ant_rad = ant_rad\n",
      "        self.al_ratio = ant_rad/ant_len\n",
      "        self.base_cap = base_cap\n",
      "        self.z_unit = 8.313797e6\n",
      "        self.v_unit = 1.62760e-15\n",
      "        \n",
      "    def proton(self, f, ne, n, t, tp, tc, vsw):\n",
      "        \"\"\"\n",
      "        proton noise.\n",
      "        wc: w/w_c, where w_c is the core electron plasma frequency.\n",
      "        l: l_ant/l_dc, where l_ant is antenna length\n",
      "        l_dc: core electron debye length.\n",
      "        tep: T_e/T_p\n",
      "        tc: core electron temperature\n",
      "        vsw: solar wind speed.\n",
      "\n",
      "        \"\"\"\n",
      "        ne = ne * 1e6\n",
      "        tp = tp * echarge/boltzmann\n",
      "        tc = tc * echarge/boltzmann\n",
      "        w_p = np.sqrt(echarge**2 * ne/emass/permittivity)\n",
      "        te = (tc + tc * t * n)/(1+n)\n",
      "        tg = tc * (1 + n)/(1 + n/t)\n",
      "        ld = np.sqrt(permittivity * boltzmann * tg/ne/ echarge**2)\n",
      "        lrel = self.ant_len/ld\n",
      "        print(lrel)\n",
      "        tep = te/tp\n",
      "        print(tep)\n",
      "        vte = np.sqrt(2 * boltzmann * te/ emass)\n",
      "        #omega = wrel * vtg/vsw /np.sqrt(2.)\n",
      "        omega = f * 2 * np.pi * ld/vsw\n",
      "        print(omega)\n",
      "        M = vsw/vte\n",
      "        print(M)\n",
      "        integrand = lambda y: y * fperp(y * lrel)/ (y**2 + 1 + omega**2) / (y**2 + 1 + omega**2 + tep)\n",
      "        integral = scint.quad(integrand, 0, np.inf, epsrel = 1.e-4) \n",
      "        return mp.sqrt(2*emass*boltzmann*tg)/(4*mp.pi*permittivity* M) *  integral[0]\n",
      "    \n",
      "    #integral[0] * boltzmann * tg/ (2 * np.pi * permittivity * vsw)"
     ],
     "language": "python",
     "metadata": {},
     "outputs": [],
     "prompt_number": 33
    },
    {
     "cell_type": "code",
     "collapsed": false,
     "input": [],
     "language": "python",
     "metadata": {},
     "outputs": [],
     "prompt_number": 33
    },
    {
     "cell_type": "code",
     "collapsed": false,
     "input": [
      "ant_len = 50      # m (monopole) \n",
      "ant_rad = 1.9e-4  # m\n",
      "base_cap = 20e-12 # Fara\n",
      "#fbins = np.array([4000*1.0445**i for i in range(96)])\n",
      "fbins = np.array([4000*np.exp(np.log(64)/95 * i) for i in range(96)])"
     ],
     "language": "python",
     "metadata": {},
     "outputs": [],
     "prompt_number": 34
    },
    {
     "cell_type": "code",
     "collapsed": false,
     "input": [
      "vsw=7.61e5\n",
      "tc = 11.53\n",
      "t = 5.57\n",
      "n = 0.059\n",
      "ne = 6.13\n",
      "tp=47.49\n",
      "fpe = 22.24e3"
     ],
     "language": "python",
     "metadata": {},
     "outputs": [],
     "prompt_number": 35
    },
    {
     "cell_type": "code",
     "collapsed": false,
     "input": [
      "fbins[10]"
     ],
     "language": "python",
     "metadata": {},
     "outputs": [
      {
       "metadata": {},
       "output_type": "pyout",
       "prompt_number": 36,
       "text": [
        "6197.0385690666226"
       ]
      }
     ],
     "prompt_number": 36
    },
    {
     "cell_type": "code",
     "collapsed": false,
     "input": [
      "p = BiMax(ant_len, ant_rad, base_cap)"
     ],
     "language": "python",
     "metadata": {},
     "outputs": [],
     "prompt_number": 37
    },
    {
     "cell_type": "code",
     "collapsed": false,
     "input": [
      "p.proton(fbins[0], ne, n, t, tp, tc, vsw) *0.871**2"
     ],
     "language": "python",
     "metadata": {},
     "outputs": [
      {
       "output_type": "stream",
       "stream": "stdout",
       "text": [
        "4.79078253652\n",
        "0.3046037404425483\n",
        "0.34468211525\n",
        "0.337357406175\n"
       ]
      },
      {
       "metadata": {},
       "output_type": "pyout",
       "prompt_number": 46,
       "text": [
        "mpf('2.2728873055752207e-14')"
       ]
      }
     ],
     "prompt_number": 46
    },
    {
     "cell_type": "code",
     "collapsed": false,
     "input": [
      "1*2"
     ],
     "language": "python",
     "metadata": {},
     "outputs": [
      {
       "metadata": {},
       "output_type": "pyout",
       "prompt_number": 45,
       "text": [
        "2"
       ]
      }
     ],
     "prompt_number": 45
    },
    {
     "cell_type": "code",
     "collapsed": false,
     "input": [],
     "language": "python",
     "metadata": {},
     "outputs": [],
     "prompt_number": 31
    },
    {
     "cell_type": "code",
     "collapsed": false,
     "input": [
      "wrelplot = fbins/fpe\n",
      "wrel = wrelplot[0]\n",
      "print(wrel)"
     ],
     "language": "python",
     "metadata": {},
     "outputs": [
      {
       "output_type": "stream",
       "stream": "stdout",
       "text": [
        "0.179856115108\n"
       ]
      }
     ],
     "prompt_number": 32
    },
    {
     "cell_type": "code",
     "collapsed": false,
     "input": [
      "print(p.proton(wrel, n, lg, t, tp, tc, vsw))"
     ],
     "language": "python",
     "metadata": {},
     "outputs": [
      {
       "output_type": "stream",
       "stream": "stdout",
       "text": [
        "140209.15454394044\n",
        "2.7383740409927617e-14\n"
       ]
      }
     ],
     "prompt_number": 66
    },
    {
     "cell_type": "code",
     "collapsed": false,
     "input": [],
     "language": "python",
     "metadata": {},
     "outputs": [],
     "prompt_number": 60
    },
    {
     "cell_type": "code",
     "collapsed": false,
     "input": [],
     "language": "python",
     "metadata": {},
     "outputs": []
    }
   ],
   "metadata": {}
  }
 ]
}