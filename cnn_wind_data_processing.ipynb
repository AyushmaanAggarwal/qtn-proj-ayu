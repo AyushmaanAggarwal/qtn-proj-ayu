{
 "cells": [
  {
   "cell_type": "code",
   "execution_count": 1,
   "id": "0c087416-855c-4ea9-a4c1-de4f7276a72e",
   "metadata": {},
   "outputs": [],
   "source": [
    "# 0: fpe, 1: vsw, 2: te\n",
    "select_parameter = 1\n",
    "parameter = [\"fpe\", \"vsw\", \"te\"][select_parameter]\n",
    "\n",
    "continue_after_training = True\n",
    "continue_after_testing = False"
   ]
  },
  {
   "cell_type": "markdown",
   "id": "6dbce373-a558-4506-9884-047ba59b466b",
   "metadata": {
    "tags": []
   },
   "source": [
    "## Import Statements"
   ]
  },
  {
   "cell_type": "code",
   "execution_count": 2,
   "id": "9effaad3-4ead-4fec-88c3-0e0e8e8efa3d",
   "metadata": {
    "tags": []
   },
   "outputs": [],
   "source": [
    "import gc\n",
    "import os\n",
    "import sys\n",
    "import random\n",
    "import pickle\n",
    "import bisect\n",
    "import datetime\n",
    "import numpy as np\n",
    "import pandas as pd\n",
    "import matplotlib.pyplot as plt\n",
    "\n",
    "os.environ[\"CDF_LIB\"] = \"/usr/local/lib/cdf/lib/\"\n",
    "import netCDF4 as nc\n",
    "import pyspedas\n",
    "from spacepy import pycdf\n",
    "from pyspedas import wind\n",
    "from pytplot import tplot, get_data"
   ]
  },
  {
   "cell_type": "markdown",
   "id": "55dbc161-8c48-4ccc-be0a-70efc2d7b43f",
   "metadata": {
    "tags": []
   },
   "source": [
    "## Various functions"
   ]
  },
  {
   "cell_type": "code",
   "execution_count": 3,
   "id": "336aa0ec-d974-4491-b191-13e8956555f7",
   "metadata": {},
   "outputs": [
    {
     "name": "stdout",
     "output_type": "stream",
     "text": [
      "3182.6073539848016\n",
      "8.978662820467044\n"
     ]
    }
   ],
   "source": [
    "# Constants\n",
    "e = 1.602176634e-19\n",
    "m = 9.109383701528e-31\n",
    "e_0 = 8.854187812813e-12\n",
    "cons = e/((m*e_0)**.5)/(2*np.pi)\n",
    "print(e**2/(e_0*m))\n",
    "print(cons)"
   ]
  },
  {
   "cell_type": "code",
   "execution_count": 4,
   "id": "f0229288-c8bc-4759-9b22-491cdd981c13",
   "metadata": {},
   "outputs": [],
   "source": [
    "def find_closest_time(time, lst):\n",
    "    return min(range(len(lst)), \n",
    "               key=lambda i: abs(time-lst[i]))\n",
    "\n",
    "def reduced_time_closest_time(goal_time, time_lst):\n",
    "    \"\"\"\n",
    "    Find the index in the availible times which is closest to the goal time\n",
    "    \"\"\"\n",
    "    # Bisect gives the index of the smallest value which is greater than goal time\n",
    "    upper_index = min(bisect.bisect_left(time_lst, goal_time), len(time_lst)-1)\n",
    "    lower_index = max(upper_index-1, 0)\n",
    "    if abs(time_lst[upper_index] - goal_time) > abs(time_lst[lower_index] - goal_time):\n",
    "        return lower_index\n",
    "    else:\n",
    "        return upper_index\n",
    "\n",
    "def conv_dens_to_freq(ne):\n",
    "    assert ne>=0\n",
    "    return ne**.5 * cons\n",
    "\n",
    "def norm(lst, max_val):\n",
    "    return np.array([val/max_val for val in lst])\n",
    "\n",
    "def denorm(lst, max_val):\n",
    "    return np.array([val*max_val for val in lst])\n",
    "\n",
    "def print_lst(lst, sort=False):\n",
    "    if sort:\n",
    "        lst.sort()\n",
    "    print(\"[\")\n",
    "    for n in lst:\n",
    "        print(f\"{repr(n)},\")\n",
    "    print(\"]\")\n",
    "\n",
    "def sizeof_fmt(num, suffix='B'):\n",
    "    ''' by Fred Cirera,  https://stackoverflow.com/a/1094933/1870254, modified'''\n",
    "    for unit in ['','Ki','Mi','Gi','Ti','Pi','Ei','Zi']:\n",
    "        if abs(num) < 1024.0:\n",
    "            return \"%3.1f %s%s\" % (num, unit, suffix)\n",
    "        num /= 1024.0\n",
    "    return \"%.1f %s%s\" % (num, 'Yi', suffix)\n"
   ]
  },
  {
   "cell_type": "markdown",
   "id": "9643f9d7-b8e6-447f-92bb-fcf5ce1d7029",
   "metadata": {
    "tags": []
   },
   "source": [
    "## Importing Data"
   ]
  },
  {
   "cell_type": "markdown",
   "id": "09faee84-d2c1-4375-8fcd-c9563e4ff750",
   "metadata": {},
   "source": [
    "### pySPEDAS"
   ]
  },
  {
   "cell_type": "code",
   "execution_count": 5,
   "id": "a0d6e389-f121-43a7-9641-8a75e467a2de",
   "metadata": {
    "tags": []
   },
   "outputs": [
    {
     "name": "stderr",
     "output_type": "stream",
     "text": [
      "19-Aug-22 16:20:21: Searching for local files...\n",
      "19-Aug-22 16:20:21: Searching for local files...\n",
      "19-Aug-22 16:20:21: Searching for local files...\n",
      "19-Aug-22 16:20:21: Searching for local files...\n",
      "19-Aug-22 16:20:21: Searching for local files...\n",
      "19-Aug-22 16:20:21: Searching for local files...\n",
      "19-Aug-22 16:20:21: Searching for local files...\n",
      "19-Aug-22 16:20:21: Searching for local files...\n",
      "19-Aug-22 16:20:21: Searching for local files...\n",
      "19-Aug-22 16:20:21: Searching for local files...\n",
      "19-Aug-22 16:20:21: Searching for local files...\n",
      "19-Aug-22 16:20:21: Searching for local files...\n",
      "19-Aug-22 16:20:21: Searching for local files...\n",
      "19-Aug-22 16:20:21: Searching for local files...\n",
      "19-Aug-22 16:20:21: Searching for local files...\n",
      "19-Aug-22 16:20:21: Searching for local files...\n",
      "19-Aug-22 16:20:21: Searching for local files...\n",
      "19-Aug-22 16:20:21: Searching for local files...\n",
      "19-Aug-22 16:20:21: Searching for local files...\n",
      "19-Aug-22 16:20:21: Searching for local files...\n",
      "19-Aug-22 16:20:21: Searching for local files...\n",
      "19-Aug-22 16:20:21: Searching for local files...\n",
      "19-Aug-22 16:20:21: Searching for local files...\n",
      "19-Aug-22 16:20:21: Searching for local files...\n",
      "19-Aug-22 16:20:21: Searching for local files...\n",
      "19-Aug-22 16:20:21: Searching for local files...\n",
      "19-Aug-22 16:20:21: /home/ayushmaan/.local/lib/python3.10/site-packages/erfa/core.py:154: ErfaWarning: ERFA function \"dtf2d\" yielded 1 of \"dubious year (Note 6)\"\n",
      "  warnings.warn('ERFA function \"{}\" yielded {}'.format(func_name, wmsg),\n",
      "\n",
      "19-Aug-22 16:20:21: Searching for local files...\n",
      "19-Aug-22 16:20:21: Searching for local files...\n",
      "19-Aug-22 16:20:21: Searching for local files...\n",
      "19-Aug-22 16:20:21: Searching for local files...\n",
      "19-Aug-22 16:20:21: Searching for local files...\n",
      "19-Aug-22 16:20:21: Searching for local files...\n",
      "19-Aug-22 16:20:21: Searching for local files...\n",
      "19-Aug-22 16:20:21: Searching for local files...\n",
      "19-Aug-22 16:20:21: Searching for local files...\n",
      "19-Aug-22 16:20:21: Searching for local files...\n",
      "19-Aug-22 16:20:21: Searching for local files...\n",
      "19-Aug-22 16:20:21: Searching for local files...\n",
      "19-Aug-22 16:20:21: Searching for local files...\n",
      "19-Aug-22 16:20:21: Searching for local files...\n",
      "19-Aug-22 16:20:21: Searching for local files...\n",
      "19-Aug-22 16:20:21: Searching for local files...\n",
      "19-Aug-22 16:20:21: Searching for local files...\n",
      "19-Aug-22 16:20:21: Searching for local files...\n",
      "19-Aug-22 16:20:21: Searching for local files...\n",
      "19-Aug-22 16:20:21: Searching for local files...\n",
      "19-Aug-22 16:20:21: Searching for local files...\n",
      "19-Aug-22 16:20:21: Searching for local files...\n",
      "19-Aug-22 16:20:21: Searching for local files...\n",
      "19-Aug-22 16:20:21: Searching for local files...\n",
      "19-Aug-22 16:20:21: Searching for local files...\n",
      "19-Aug-22 16:20:21: Searching for local files...\n",
      "19-Aug-22 16:20:21: Downloading remote index: https://spdf.gsfc.nasa.gov/pub/data/wind/3dp/3dp_elm2/1995/\n",
      "19-Aug-22 16:20:24: File is current: wind_data/3dp/3dp_elm2/1995/wi_elm2_3dp_19950601_v02.cdf\n",
      "19-Aug-22 16:20:25: File is current: wind_data/3dp/3dp_elm2/1995/wi_elm2_3dp_19950602_v02.cdf\n",
      "19-Aug-22 16:20:25: File is current: wind_data/3dp/3dp_elm2/1995/wi_elm2_3dp_19950603_v02.cdf\n",
      "19-Aug-22 16:20:26: File is current: wind_data/3dp/3dp_elm2/1995/wi_elm2_3dp_19950604_v02.cdf\n",
      "19-Aug-22 16:20:26: File is current: wind_data/3dp/3dp_elm2/1995/wi_elm2_3dp_19950605_v02.cdf\n",
      "19-Aug-22 16:20:27: File is current: wind_data/3dp/3dp_elm2/1995/wi_elm2_3dp_19950606_v02.cdf\n",
      "19-Aug-22 16:20:27: File is current: wind_data/3dp/3dp_elm2/1995/wi_elm2_3dp_19950607_v02.cdf\n",
      "19-Aug-22 16:20:27: File is current: wind_data/3dp/3dp_elm2/1995/wi_elm2_3dp_19950608_v02.cdf\n",
      "19-Aug-22 16:20:28: File is current: wind_data/3dp/3dp_elm2/1995/wi_elm2_3dp_19950609_v02.cdf\n",
      "19-Aug-22 16:20:28: File is current: wind_data/3dp/3dp_elm2/1995/wi_elm2_3dp_19950610_v02.cdf\n",
      "19-Aug-22 16:20:28: File is current: wind_data/3dp/3dp_elm2/1995/wi_elm2_3dp_19950611_v02.cdf\n",
      "19-Aug-22 16:20:29: File is current: wind_data/3dp/3dp_elm2/1995/wi_elm2_3dp_19950612_v02.cdf\n",
      "19-Aug-22 16:20:29: File is current: wind_data/3dp/3dp_elm2/1995/wi_elm2_3dp_19950613_v02.cdf\n",
      "19-Aug-22 16:20:29: File is current: wind_data/3dp/3dp_elm2/1995/wi_elm2_3dp_19950614_v02.cdf\n",
      "19-Aug-22 16:20:30: File is current: wind_data/3dp/3dp_elm2/1995/wi_elm2_3dp_19950615_v02.cdf\n",
      "19-Aug-22 16:20:30: File is current: wind_data/3dp/3dp_elm2/1995/wi_elm2_3dp_19950616_v02.cdf\n",
      "19-Aug-22 16:20:30: File is current: wind_data/3dp/3dp_elm2/1995/wi_elm2_3dp_19950617_v02.cdf\n",
      "19-Aug-22 16:20:31: File is current: wind_data/3dp/3dp_elm2/1995/wi_elm2_3dp_19950618_v02.cdf\n",
      "19-Aug-22 16:20:31: File is current: wind_data/3dp/3dp_elm2/1995/wi_elm2_3dp_19950619_v02.cdf\n",
      "19-Aug-22 16:20:32: File is current: wind_data/3dp/3dp_elm2/1995/wi_elm2_3dp_19950620_v02.cdf\n",
      "19-Aug-22 16:20:32: File is current: wind_data/3dp/3dp_elm2/1995/wi_elm2_3dp_19950621_v02.cdf\n",
      "19-Aug-22 16:20:33: File is current: wind_data/3dp/3dp_elm2/1995/wi_elm2_3dp_19950622_v02.cdf\n",
      "19-Aug-22 16:20:33: File is current: wind_data/3dp/3dp_elm2/1995/wi_elm2_3dp_19950623_v02.cdf\n",
      "19-Aug-22 16:20:34: File is current: wind_data/3dp/3dp_elm2/1995/wi_elm2_3dp_19950624_v02.cdf\n",
      "19-Aug-22 16:20:34: File is current: wind_data/3dp/3dp_elm2/1995/wi_elm2_3dp_19950625_v02.cdf\n",
      "19-Aug-22 16:20:35: File is current: wind_data/3dp/3dp_elm2/1995/wi_elm2_3dp_19950626_v02.cdf\n"
     ]
    },
    {
     "data": {
      "text/plain": [
       "[]"
      ]
     },
     "execution_count": 5,
     "metadata": {},
     "output_type": "execute_result"
    }
   ],
   "source": [
    "wind.swe(trange=['1995-06-01', '1995-06-27'], datatype='h0', no_update=True)\n",
    "wind.swe(trange=['1995-06-01', '1995-06-27'], datatype='k0', no_update=True)\n",
    "wind.threedp(trange=['1995-06-01', '1995-06-27'], datatype=\"3dp_elm2\")\n"
   ]
  },
  {
   "cell_type": "code",
   "execution_count": 6,
   "id": "cb4120f9-107b-4afa-a3f5-e8456fc5b55d",
   "metadata": {},
   "outputs": [],
   "source": [
    "pyspedas_data = get_data('Te')\n",
    "time_te, te = list(zip(*[data for data in filter(lambda lst: lst[1]<3e5 and lst[1]>0,zip(pyspedas_data.times,pyspedas_data.y))]))"
   ]
  },
  {
   "cell_type": "raw",
   "id": "fb6ba3c0-bcaa-4adb-8ae2-7e100c6f8835",
   "metadata": {},
   "source": [
    "data = get_data(\"V_GSM\")\n",
    "vsw = abs(data.y[:,0])\n",
    "time_vsw = data.times[:]"
   ]
  },
  {
   "cell_type": "raw",
   "id": "15b4683d-99cc-4f1c-a18f-5a982030b161",
   "metadata": {},
   "source": [
    "time_vsw, vsw = list(zip(*[data for data in filter(lambda lst: not np.isnan(lst[1]),zip(time_vsw,vsw))]))\n"
   ]
  },
  {
   "cell_type": "markdown",
   "id": "765db5eb-d7e9-4171-bd1c-74e7fc5866b8",
   "metadata": {},
   "source": [
    "# tplot('V_GSM')"
   ]
  },
  {
   "cell_type": "code",
   "execution_count": 7,
   "id": "ada5f3c3-566c-497c-882e-119d351a29d7",
   "metadata": {
    "tags": []
   },
   "outputs": [],
   "source": [
    "vsw_folder = \"wind_data/3dp/3dp_elm2/1995/\"\n",
    "\n",
    "vsw_data = [ vsw_folder+file for file in os.listdir(vsw_folder) if file.endswith(\".cdf\")]\n",
    "vsw_data.sort()"
   ]
  },
  {
   "cell_type": "code",
   "execution_count": 8,
   "id": "c4b9f5bd-318e-4ebd-9425-1f98f9b26f1e",
   "metadata": {
    "tags": []
   },
   "outputs": [
    {
     "name": "stdout",
     "output_type": "stream",
     "text": [
      "(20121,)\n"
     ]
    },
    {
     "data": {
      "text/plain": [
       "[<matplotlib.lines.Line2D at 0x7fecfb991360>]"
      ]
     },
     "execution_count": 8,
     "metadata": {},
     "output_type": "execute_result"
    },
    {
     "data": {
      "image/png": "[encoded data removed]",
      "text/plain": [
       "<Figure size 432x288 with 1 Axes>"
      ]
     },
     "metadata": {
      "needs_background": "light"
     },
     "output_type": "display_data"
    }
   ],
   "source": [
    "time_vsw, vsw_xyz = [],[]\n",
    "for vsw_file_name in vsw_data:\n",
    "    with pycdf.CDF(vsw_file_name) as cdf:\n",
    "        temp_vsw = cdf[\"VEL_MAG\"][:]\n",
    "        temp_time = cdf[\"TIME\"][:]\n",
    "        \n",
    "    if not temp_time[0] in time_vsw:\n",
    "        vsw_xyz.extend(temp_vsw)\n",
    "        time_vsw.extend(np.transpose(temp_time))\n",
    "\n",
    "print(np.shape(vsw_xyz))\n",
    "plt.plot(time_vsw)"
   ]
  },
  {
   "cell_type": "code",
   "execution_count": 9,
   "id": "7982bfda-58ae-45d7-83b5-9ec94ca773bd",
   "metadata": {},
   "outputs": [
    {
     "data": {
      "text/plain": [
       "[<matplotlib.lines.Line2D at 0x7f94d0bdc430>]"
      ]
     },
     "execution_count": 9,
     "metadata": {},
     "output_type": "execute_result"
    },
    {
     "data": {
      "image/png": "[encoded data removed]",
      "text/plain": [
       "<Figure size 432x288 with 1 Axes>"
      ]
     },
     "metadata": {
      "needs_background": "light"
     },
     "output_type": "display_data"
    }
   ],
   "source": [
    "f = lambda x, y, z: np.sqrt(np.add(np.power(x,2),np.power(y,2), np.power(z,2)))\n",
    "plt.plot(time_vsw, f(*np.transpose(vsw_xyz)))"
   ]
  },
  {
   "cell_type": "code",
   "execution_count": 29,
   "id": "d5804222-d470-4285-8fa9-5d0274eb8355",
   "metadata": {},
   "outputs": [
    {
     "ename": "IndexError",
     "evalue": "invalid index to scalar variable.",
     "output_type": "error",
     "traceback": [
      "\u001b[0;31m---------------------------------------------------------------------------\u001b[0m",
      "\u001b[0;31mIndexError\u001b[0m                                Traceback (most recent call last)",
      "\u001b[0;32m/tmp/ipykernel_11398/3377094230.py\u001b[0m in \u001b[0;36m<module>\u001b[0;34m\u001b[0m\n\u001b[0;32m----> 1\u001b[0;31m \u001b[0mtime_vsw\u001b[0m\u001b[0;34m,\u001b[0m \u001b[0mvsw_xyz\u001b[0m \u001b[0;34m=\u001b[0m \u001b[0mlist\u001b[0m\u001b[0;34m(\u001b[0m\u001b[0mzip\u001b[0m\u001b[0;34m(\u001b[0m\u001b[0;34m*\u001b[0m\u001b[0;34m[\u001b[0m\u001b[0mdata\u001b[0m \u001b[0;32mfor\u001b[0m \u001b[0mdata\u001b[0m \u001b[0;32min\u001b[0m \u001b[0mfilter\u001b[0m\u001b[0;34m(\u001b[0m\u001b[0;32mlambda\u001b[0m \u001b[0mlst\u001b[0m\u001b[0;34m:\u001b[0m \u001b[0;32mnot\u001b[0m \u001b[0many\u001b[0m\u001b[0;34m(\u001b[0m\u001b[0;34m[\u001b[0m\u001b[0mnp\u001b[0m\u001b[0;34m.\u001b[0m\u001b[0misnan\u001b[0m\u001b[0;34m(\u001b[0m\u001b[0mlst\u001b[0m\u001b[0;34m[\u001b[0m\u001b[0;36m1\u001b[0m\u001b[0;34m]\u001b[0m\u001b[0;34m[\u001b[0m\u001b[0;36m0\u001b[0m\u001b[0;34m]\u001b[0m\u001b[0;34m)\u001b[0m\u001b[0;34m,\u001b[0m\u001b[0mnp\u001b[0m\u001b[0;34m.\u001b[0m\u001b[0misnan\u001b[0m\u001b[0;34m(\u001b[0m\u001b[0mlst\u001b[0m\u001b[0;34m[\u001b[0m\u001b[0;36m1\u001b[0m\u001b[0;34m]\u001b[0m\u001b[0;34m[\u001b[0m\u001b[0;36m1\u001b[0m\u001b[0;34m]\u001b[0m\u001b[0;34m)\u001b[0m\u001b[0;34m,\u001b[0m \u001b[0mnp\u001b[0m\u001b[0;34m.\u001b[0m\u001b[0misnan\u001b[0m\u001b[0;34m(\u001b[0m\u001b[0mlst\u001b[0m\u001b[0;34m[\u001b[0m\u001b[0;36m1\u001b[0m\u001b[0;34m]\u001b[0m\u001b[0;34m[\u001b[0m\u001b[0;36m2\u001b[0m\u001b[0;34m]\u001b[0m\u001b[0;34m)\u001b[0m\u001b[0;34m]\u001b[0m\u001b[0;34m)\u001b[0m\u001b[0;34m,\u001b[0m\u001b[0mzip\u001b[0m\u001b[0;34m(\u001b[0m\u001b[0mtime_vsw\u001b[0m\u001b[0;34m,\u001b[0m\u001b[0mvsw_xyz\u001b[0m\u001b[0;34m)\u001b[0m\u001b[0;34m)\u001b[0m\u001b[0;34m]\u001b[0m\u001b[0;34m)\u001b[0m\u001b[0;34m)\u001b[0m\u001b[0;34m\u001b[0m\u001b[0;34m\u001b[0m\u001b[0m\n\u001b[0m\u001b[1;32m      2\u001b[0m \u001b[0mvsw\u001b[0m \u001b[0;34m=\u001b[0m \u001b[0mf\u001b[0m\u001b[0;34m(\u001b[0m\u001b[0;34m*\u001b[0m\u001b[0mnp\u001b[0m\u001b[0;34m.\u001b[0m\u001b[0mtranspose\u001b[0m\u001b[0;34m(\u001b[0m\u001b[0mvsw_xyz\u001b[0m\u001b[0;34m)\u001b[0m\u001b[0;34m)\u001b[0m\u001b[0;34m\u001b[0m\u001b[0;34m\u001b[0m\u001b[0m\n",
      "\u001b[0;32m/tmp/ipykernel_11398/3377094230.py\u001b[0m in \u001b[0;36m<listcomp>\u001b[0;34m(.0)\u001b[0m\n\u001b[0;32m----> 1\u001b[0;31m \u001b[0mtime_vsw\u001b[0m\u001b[0;34m,\u001b[0m \u001b[0mvsw_xyz\u001b[0m \u001b[0;34m=\u001b[0m \u001b[0mlist\u001b[0m\u001b[0;34m(\u001b[0m\u001b[0mzip\u001b[0m\u001b[0;34m(\u001b[0m\u001b[0;34m*\u001b[0m\u001b[0;34m[\u001b[0m\u001b[0mdata\u001b[0m \u001b[0;32mfor\u001b[0m \u001b[0mdata\u001b[0m \u001b[0;32min\u001b[0m \u001b[0mfilter\u001b[0m\u001b[0;34m(\u001b[0m\u001b[0;32mlambda\u001b[0m \u001b[0mlst\u001b[0m\u001b[0;34m:\u001b[0m \u001b[0;32mnot\u001b[0m \u001b[0many\u001b[0m\u001b[0;34m(\u001b[0m\u001b[0;34m[\u001b[0m\u001b[0mnp\u001b[0m\u001b[0;34m.\u001b[0m\u001b[0misnan\u001b[0m\u001b[0;34m(\u001b[0m\u001b[0mlst\u001b[0m\u001b[0;34m[\u001b[0m\u001b[0;36m1\u001b[0m\u001b[0;34m]\u001b[0m\u001b[0;34m[\u001b[0m\u001b[0;36m0\u001b[0m\u001b[0;34m]\u001b[0m\u001b[0;34m)\u001b[0m\u001b[0;34m,\u001b[0m\u001b[0mnp\u001b[0m\u001b[0;34m.\u001b[0m\u001b[0misnan\u001b[0m\u001b[0;34m(\u001b[0m\u001b[0mlst\u001b[0m\u001b[0;34m[\u001b[0m\u001b[0;36m1\u001b[0m\u001b[0;34m]\u001b[0m\u001b[0;34m[\u001b[0m\u001b[0;36m1\u001b[0m\u001b[0;34m]\u001b[0m\u001b[0;34m)\u001b[0m\u001b[0;34m,\u001b[0m \u001b[0mnp\u001b[0m\u001b[0;34m.\u001b[0m\u001b[0misnan\u001b[0m\u001b[0;34m(\u001b[0m\u001b[0mlst\u001b[0m\u001b[0;34m[\u001b[0m\u001b[0;36m1\u001b[0m\u001b[0;34m]\u001b[0m\u001b[0;34m[\u001b[0m\u001b[0;36m2\u001b[0m\u001b[0;34m]\u001b[0m\u001b[0;34m)\u001b[0m\u001b[0;34m]\u001b[0m\u001b[0;34m)\u001b[0m\u001b[0;34m,\u001b[0m\u001b[0mzip\u001b[0m\u001b[0;34m(\u001b[0m\u001b[0mtime_vsw\u001b[0m\u001b[0;34m,\u001b[0m\u001b[0mvsw_xyz\u001b[0m\u001b[0;34m)\u001b[0m\u001b[0;34m)\u001b[0m\u001b[0;34m]\u001b[0m\u001b[0;34m)\u001b[0m\u001b[0;34m)\u001b[0m\u001b[0;34m\u001b[0m\u001b[0;34m\u001b[0m\u001b[0m\n\u001b[0m\u001b[1;32m      2\u001b[0m \u001b[0mvsw\u001b[0m \u001b[0;34m=\u001b[0m \u001b[0mf\u001b[0m\u001b[0;34m(\u001b[0m\u001b[0;34m*\u001b[0m\u001b[0mnp\u001b[0m\u001b[0;34m.\u001b[0m\u001b[0mtranspose\u001b[0m\u001b[0;34m(\u001b[0m\u001b[0mvsw_xyz\u001b[0m\u001b[0;34m)\u001b[0m\u001b[0;34m)\u001b[0m\u001b[0;34m\u001b[0m\u001b[0;34m\u001b[0m\u001b[0m\n",
      "\u001b[0;32m/tmp/ipykernel_11398/3377094230.py\u001b[0m in \u001b[0;36m<lambda>\u001b[0;34m(lst)\u001b[0m\n\u001b[0;32m----> 1\u001b[0;31m \u001b[0mtime_vsw\u001b[0m\u001b[0;34m,\u001b[0m \u001b[0mvsw_xyz\u001b[0m \u001b[0;34m=\u001b[0m \u001b[0mlist\u001b[0m\u001b[0;34m(\u001b[0m\u001b[0mzip\u001b[0m\u001b[0;34m(\u001b[0m\u001b[0;34m*\u001b[0m\u001b[0;34m[\u001b[0m\u001b[0mdata\u001b[0m \u001b[0;32mfor\u001b[0m \u001b[0mdata\u001b[0m \u001b[0;32min\u001b[0m \u001b[0mfilter\u001b[0m\u001b[0;34m(\u001b[0m\u001b[0;32mlambda\u001b[0m \u001b[0mlst\u001b[0m\u001b[0;34m:\u001b[0m \u001b[0;32mnot\u001b[0m \u001b[0many\u001b[0m\u001b[0;34m(\u001b[0m\u001b[0;34m[\u001b[0m\u001b[0mnp\u001b[0m\u001b[0;34m.\u001b[0m\u001b[0misnan\u001b[0m\u001b[0;34m(\u001b[0m\u001b[0mlst\u001b[0m\u001b[0;34m[\u001b[0m\u001b[0;36m1\u001b[0m\u001b[0;34m]\u001b[0m\u001b[0;34m[\u001b[0m\u001b[0;36m0\u001b[0m\u001b[0;34m]\u001b[0m\u001b[0;34m)\u001b[0m\u001b[0;34m,\u001b[0m\u001b[0mnp\u001b[0m\u001b[0;34m.\u001b[0m\u001b[0misnan\u001b[0m\u001b[0;34m(\u001b[0m\u001b[0mlst\u001b[0m\u001b[0;34m[\u001b[0m\u001b[0;36m1\u001b[0m\u001b[0;34m]\u001b[0m\u001b[0;34m[\u001b[0m\u001b[0;36m1\u001b[0m\u001b[0;34m]\u001b[0m\u001b[0;34m)\u001b[0m\u001b[0;34m,\u001b[0m \u001b[0mnp\u001b[0m\u001b[0;34m.\u001b[0m\u001b[0misnan\u001b[0m\u001b[0;34m(\u001b[0m\u001b[0mlst\u001b[0m\u001b[0;34m[\u001b[0m\u001b[0;36m1\u001b[0m\u001b[0;34m]\u001b[0m\u001b[0;34m[\u001b[0m\u001b[0;36m2\u001b[0m\u001b[0;34m]\u001b[0m\u001b[0;34m)\u001b[0m\u001b[0;34m]\u001b[0m\u001b[0;34m)\u001b[0m\u001b[0;34m,\u001b[0m\u001b[0mzip\u001b[0m\u001b[0;34m(\u001b[0m\u001b[0mtime_vsw\u001b[0m\u001b[0;34m,\u001b[0m\u001b[0mvsw_xyz\u001b[0m\u001b[0;34m)\u001b[0m\u001b[0;34m)\u001b[0m\u001b[0;34m]\u001b[0m\u001b[0;34m)\u001b[0m\u001b[0;34m)\u001b[0m\u001b[0;34m\u001b[0m\u001b[0;34m\u001b[0m\u001b[0m\n\u001b[0m\u001b[1;32m      2\u001b[0m \u001b[0mvsw\u001b[0m \u001b[0;34m=\u001b[0m \u001b[0mf\u001b[0m\u001b[0;34m(\u001b[0m\u001b[0;34m*\u001b[0m\u001b[0mnp\u001b[0m\u001b[0;34m.\u001b[0m\u001b[0mtranspose\u001b[0m\u001b[0;34m(\u001b[0m\u001b[0mvsw_xyz\u001b[0m\u001b[0;34m)\u001b[0m\u001b[0;34m)\u001b[0m\u001b[0;34m\u001b[0m\u001b[0;34m\u001b[0m\u001b[0m\n",
      "\u001b[0;31mIndexError\u001b[0m: invalid index to scalar variable."
     ]
    }
   ],
   "source": [
    "time_vsw, vsw_xyz = list(zip(*[data for data in filter(lambda lst: not any([np.isnan(lst[1][0]),np.isnan(lst[1][1]), np.isnan(lst[1][2])]),zip(time_vsw,vsw_xyz))]))\n",
    "vsw = f(*np.transpose(vsw_xyz))"
   ]
  },
  {
   "cell_type": "code",
   "execution_count": 9,
   "id": "0e874318-3cca-4bd3-8cbe-9cff2d9db5dd",
   "metadata": {},
   "outputs": [],
   "source": [
    "time_vsw, vsw_xyz = list(zip(*[data for data in filter(lambda lst: not np.isnan(lst[1]),zip(time_vsw,vsw_xyz))]))\n"
   ]
  },
  {
   "cell_type": "code",
   "execution_count": 12,
   "id": "a83f601d-2e56-4065-b079-df654d9a9e6b",
   "metadata": {},
   "outputs": [
    {
     "data": {
      "text/plain": [
       "[<matplotlib.lines.Line2D at 0x7fecf8346b00>]"
      ]
     },
     "execution_count": 12,
     "metadata": {},
     "output_type": "execute_result"
    },
    {
     "data": {
      "image/png": "[encoded data removed]",
      "text/plain": [
       "<Figure size 432x288 with 1 Axes>"
      ]
     },
     "metadata": {
      "needs_background": "light"
     },
     "output_type": "display_data"
    }
   ],
   "source": [
    "plt.plot(time_vsw, vsw_xyz)"
   ]
  },
  {
   "cell_type": "markdown",
   "id": "0d31cf3f-ab30-4145-8ee7-93ea49ba1b63",
   "metadata": {
    "tags": []
   },
   "source": [
    "### Solaris and CDPP data"
   ]
  },
  {
   "cell_type": "code",
   "execution_count": 5,
   "id": "dfb6eefd-2ef8-4a84-8794-0bc8474d6b59",
   "metadata": {
    "tags": []
   },
   "outputs": [],
   "source": [
    "spectra_folder = \"data/solaris/1995-06/\"\n",
    "nn_folder = \"data/cdpp/34069/DA_TC_WIND_WAVES_TNR_L3_NN/\"\n",
    "\n",
    "spectra_data = [ spectra_folder+file for file in os.listdir(spectra_folder) if file.endswith(\".nc\")]\n",
    "nn_data = [ nn_folder+file for file in os.listdir(nn_folder) if file.endswith(\".nc\")]\n",
    "spectra_data.sort()\n",
    "nn_data.sort()\n",
    "combined_data = zip(spectra_data, nn_data)\n",
    "#print_lst(combined_data)"
   ]
  },
  {
   "cell_type": "code",
   "execution_count": 6,
   "id": "4fd25db8-350b-497c-930a-7cafd52832f9",
   "metadata": {
    "tags": []
   },
   "outputs": [
    {
     "name": "stdout",
     "output_type": "stream",
     "text": [
      "Correced: data/solaris/1995-06/wi_wav_tnr_19950603.nc\n",
      "Correced: data/solaris/1995-06/wi_wav_tnr_19950604.nc\n",
      "Correced: data/solaris/1995-06/wi_wav_tnr_19950611.nc\n",
      "Correced: data/solaris/1995-06/wi_wav_tnr_19950618.nc\n",
      "Correced: data/solaris/1995-06/wi_wav_tnr_19950619.nc\n",
      "505726\n",
      "(505726, 96)\n"
     ]
    }
   ],
   "source": [
    "time_spec = []\n",
    "freq = []\n",
    "raw_spec = []\n",
    "time_fpe = []\n",
    "fpe = []\n",
    "electron_density = []\n",
    "for spectra_file_name, nn_file_name in combined_data:\n",
    "    date = spectra_file_name[32:-3]\n",
    "    date_epoch = int(datetime.datetime(int(date[0:4]), int(date[4:6]), int(date[6:8]), 0, 0, 0, \n",
    "                                       tzinfo=datetime.timezone.utc).timestamp())\n",
    "    \n",
    "    with nc.Dataset(spectra_file_name) as file:\n",
    "        temp_time = file[\"tnr_ch1_time\"][:]\n",
    "        temp_spec = file[\"tnr_ch1_spec\"][:]\n",
    "        if len(freq) == 0:\n",
    "            freq  = file[\"tnr_ch1_freq\"][:]\n",
    "    \n",
    "    with nc.Dataset(nn_file_name) as file:\n",
    "        temp_time2   = file[\"Time\"][:]\n",
    "        temp_raw_fpe = file[\"Plasma Frequency\"][:]\n",
    "        temp_dens    = file[\"Electron Density\"][:]\n",
    "        \n",
    "        # Found slight bug where the times over some days are shifted by 86400 seconds up\n",
    "        if temp_time2[10] >= 86400:\n",
    "            print(f\"Corrected: {spectra_file_name}\")\n",
    "            temp_time2 = np.subtract(temp_time2, 86400)\n",
    "        temp_time2 = np.add(temp_time2, date_epoch)\n",
    "\n",
    "    if not temp_time[0] in time_spec:\n",
    "        time_spec.extend(temp_time)\n",
    "        raw_spec.extend(np.transpose(temp_spec))\n",
    "        time_fpe.extend(temp_time2)\n",
    "        fpe.extend(temp_raw_fpe)\n",
    "        electron_density.extend(temp_dens)\n",
    "        \n",
    "    else:\n",
    "        print(spectra_file_name)\n",
    "print(len(time_spec))\n",
    "print(np.shape(raw_spec))"
   ]
  },
  {
   "cell_type": "code",
   "execution_count": 9,
   "id": "f059f7b6-30b6-4c7d-a7c2-b380a73e08ac",
   "metadata": {},
   "outputs": [
    {
     "data": {
      "text/html": [
       "<div>\n",
       "<style scoped>\n",
       "    .dataframe tbody tr th:only-of-type {\n",
       "        vertical-align: middle;\n",
       "    }\n",
       "\n",
       "    .dataframe tbody tr th {\n",
       "        vertical-align: top;\n",
       "    }\n",
       "\n",
       "    .dataframe thead th {\n",
       "        text-align: right;\n",
       "    }\n",
       "</style>\n",
       "<table border=\"1\" class=\"dataframe\">\n",
       "  <thead>\n",
       "    <tr style=\"text-align: right;\">\n",
       "      <th></th>\n",
       "      <th>0</th>\n",
       "    </tr>\n",
       "  </thead>\n",
       "  <tbody>\n",
       "    <tr>\n",
       "      <th>count</th>\n",
       "      <td>505725.000000</td>\n",
       "    </tr>\n",
       "    <tr>\n",
       "      <th>mean</th>\n",
       "      <td>4.441825</td>\n",
       "    </tr>\n",
       "    <tr>\n",
       "      <th>std</th>\n",
       "      <td>3.465778</td>\n",
       "    </tr>\n",
       "    <tr>\n",
       "      <th>min</th>\n",
       "      <td>-30.592000</td>\n",
       "    </tr>\n",
       "    <tr>\n",
       "      <th>25%</th>\n",
       "      <td>4.416000</td>\n",
       "    </tr>\n",
       "    <tr>\n",
       "      <th>50%</th>\n",
       "      <td>4.416000</td>\n",
       "    </tr>\n",
       "    <tr>\n",
       "      <th>75%</th>\n",
       "      <td>4.416000</td>\n",
       "    </tr>\n",
       "    <tr>\n",
       "      <th>max</th>\n",
       "      <td>1594.176000</td>\n",
       "    </tr>\n",
       "  </tbody>\n",
       "</table>\n",
       "</div>"
      ],
      "text/plain": [
       "                   0\n",
       "count  505725.000000\n",
       "mean        4.441825\n",
       "std         3.465778\n",
       "min       -30.592000\n",
       "25%         4.416000\n",
       "50%         4.416000\n",
       "75%         4.416000\n",
       "max      1594.176000"
      ]
     },
     "execution_count": 9,
     "metadata": {},
     "output_type": "execute_result"
    }
   ],
   "source": [
    "pd.DataFrame([time_spec[i+1]-time_spec[i] for i in range(len(time_spec)-1)]).describe()"
   ]
  },
  {
   "cell_type": "code",
   "execution_count": 14,
   "id": "5a3359a6-6872-4133-8cf1-aeae016159e7",
   "metadata": {
    "tags": []
   },
   "outputs": [],
   "source": [
    "if parameter==\"fpe\":\n",
    "    time_fpe, fpe, electron_density = list(zip(*[d for d in zip(time_fpe, fpe, electron_density) if d[1]>1]))\n",
    "    spec = [raw_spec[reduced_time_closest_time(t, time_spec)] for t in time_fpe]\n",
    "\n",
    "elif parameter=='vsw':\n",
    "    spec = [raw_spec[reduced_time_closest_time(t, time_spec)] for t in time_vsw]\n",
    "    \n",
    "elif parameter=='te':\n",
    "    spec = [raw_spec[reduced_time_closest_time(t, time_spec)] for t in time_te]\n"
   ]
  },
  {
   "cell_type": "code",
   "execution_count": 15,
   "id": "ff408efa-b385-4a5d-9e4e-dd2ddff92713",
   "metadata": {
    "tags": []
   },
   "outputs": [
    {
     "name": "stdout",
     "output_type": "stream",
     "text": [
      "(505726,) (21109, 96) (505528,) (505528,) (6479,)\n"
     ]
    }
   ],
   "source": [
    "print(np.shape(time_spec), np.shape(spec), np.shape(fpe), np.shape(electron_density), np.shape(te))\n",
    "if parameter==\"fpe\":\n",
    "    data_v1 = list(zip(time_fpe, spec, fpe, electron_density))\n",
    "elif parameter=='vsw':\n",
    "    data_v1 = list(zip(time_vsw, spec, vsw))\n",
    "elif parameter=='te':\n",
    "    data_v1 = list(zip(time_te, spec, te))"
   ]
  },
  {
   "cell_type": "code",
   "execution_count": 16,
   "id": "f15c4ce8-5b1d-4b87-842a-4f007afe08db",
   "metadata": {},
   "outputs": [
    {
     "data": {
      "text/plain": [
       "21109"
      ]
     },
     "execution_count": 16,
     "metadata": {},
     "output_type": "execute_result"
    }
   ],
   "source": [
    "len(vsw)"
   ]
  },
  {
   "cell_type": "markdown",
   "id": "3383afe8-b34f-4e16-afe8-50010e85b739",
   "metadata": {
    "tags": []
   },
   "source": [
    "## Randomizing and sorting data"
   ]
  },
  {
   "cell_type": "code",
   "execution_count": 17,
   "id": "6b6ccaa6-a5ac-4d90-83ad-0fb4f1562c72",
   "metadata": {
    "tags": []
   },
   "outputs": [],
   "source": [
    "random.seed(10)\n",
    "random_index = list(range(len(data_v1)))\n",
    "random.shuffle(random_index)\n",
    "data_v3 = [data_v1[i] for i in random_index]    "
   ]
  },
  {
   "cell_type": "code",
   "execution_count": 18,
   "id": "2d5e225d-44b2-4fbb-9de9-e541281c4b90",
   "metadata": {},
   "outputs": [
    {
     "name": "stderr",
     "output_type": "stream",
     "text": [
      "19-Aug-22 13:25:36: /home/ayushmaan/.local/lib/python3.10/site-packages/numpy/core/fromnumeric.py:2007: VisibleDeprecationWarning: Creating an ndarray from ragged nested sequences (which is a list-or-tuple of lists-or-tuples-or ndarrays with different lengths or shapes) is deprecated. If you meant to do this, you must specify 'dtype=object' when creating the ndarray.\n",
      "  result = asarray(a).shape\n",
      "\n"
     ]
    },
    {
     "name": "stdout",
     "output_type": "stream",
     "text": [
      "(18998, 3)\n",
      "Done with creating trainning data\n",
      "Done sorting\n",
      "Done with creating test data\n"
     ]
    }
   ],
   "source": [
    "max_y = 50 \n",
    "s = int(len(data_v3)*.9//1)\n",
    "print(np.shape(data_v3[:s]))\n",
    "\n",
    "\n",
    "# Takes the training section of the data and unzips the test and training data\n",
    "train_x_data         = np.array([d[1] for d in data_v3[:s]])\n",
    "if parameter==\"fpe\":\n",
    "    train_y_data     = np.array([d[2]/max_y for d in data_v3[:s]])\n",
    "    train_y_data_ed  = np.array([d[3] for d in data_v3[:s]])\n",
    "if parameter==\"te\":\n",
    "    train_y_data_te  =  np.array([d[2] for d in data_v3[:s]])\n",
    "if parameter==\"vsw\":\n",
    "    train_y_data_vsw =  np.array([d[2] for d in data_v3[:s]])\n",
    "print(\"Done with creating trainning data\")\n",
    "\n",
    "# Sorts test data so we could use that sorted data to make nice graphs at the end\n",
    "test_sorted = data_v3[s:]\n",
    "test_sorted.sort(key=lambda x: x[0])\n",
    "print(\"Done sorting\")\n",
    "\n",
    "test_time_sorted = np.array([d[0] for d in test_sorted])\n",
    "test_x_sorted    = np.array([d[1] for d in test_sorted])\n",
    "if parameter==\"fpe\":\n",
    "    test_y_sorted    = np.array([d[2]/max_y for d in test_sorted])\n",
    "    test_y_sorted_ed = np.array([d[3] for d in test_sorted])\n",
    "if parameter==\"te\":\n",
    "    test_y_sorted_te =  np.array([d[2] for d in test_sorted])\n",
    "if parameter==\"vsw\":\n",
    "    test_y_sorted_vsw =  np.array([d[2] for d in test_sorted])\n",
    "\n",
    "print(\"Done with creating test data\")"
   ]
  },
  {
   "cell_type": "code",
   "execution_count": 19,
   "id": "985a164a-89a0-445b-a75c-fd9e34b8f818",
   "metadata": {},
   "outputs": [
    {
     "name": "stdout",
     "output_type": "stream",
     "text": [
      "                  train_x_data: 13.9 MiB\n",
      "                     time_spec:  4.3 MiB\n",
      "                      raw_spec:  4.3 MiB\n",
      "                      time_fpe:  4.3 MiB\n",
      "                           fpe:  4.3 MiB\n",
      "              electron_density:  4.3 MiB\n",
      "                 test_x_sorted:  1.5 MiB\n",
      "                          spec: 169.0 KiB\n",
      "                       data_v1: 169.0 KiB\n",
      "                       data_v3: 169.0 KiB\n"
     ]
    }
   ],
   "source": [
    "for name, size in sorted(((name, sys.getsizeof(value)) for name, value in locals().items()),\n",
    "                         key= lambda x: -x[1])[:10]:\n",
    "    print(\"{:>30}: {:>8}\".format(name, sizeof_fmt(size)))\n"
   ]
  },
  {
   "cell_type": "code",
   "execution_count": 20,
   "id": "678b01d7-4049-4f4a-9998-95160d3a374f",
   "metadata": {},
   "outputs": [],
   "source": [
    "data_dic = {}\n",
    "data_dic[\"freq\"]             = freq\n",
    "data_dic[\"max_y\"]            = max_y\n",
    "data_dic[\"train_x_data\"]     = train_x_data\n",
    "if parameter==\"fpe\":\n",
    "    data_dic[\"train_y_data\"]     = train_y_data\n",
    "    data_dic[\"train_y_data_ed\"]  = train_y_data_ed\n",
    "if parameter==\"te\":\n",
    "    data_dic[\"train_y_data_te\"]  = train_y_data_te\n",
    "if parameter==\"vsw\":\n",
    "    data_dic[\"train_y_data_vsw\"]  = train_y_data_vsw\n",
    "data_dic[\"test_time_sorted\"] = test_time_sorted\n",
    "data_dic[\"test_x_sorted\"]    = test_x_sorted\n",
    "if parameter==\"fpe\":\n",
    "    data_dic[\"test_y_sorted\"]    = test_y_sorted\n",
    "    data_dic[\"test_y_sorted_ed\"] = test_y_sorted_ed\n",
    "if parameter==\"te\":\n",
    "    data_dic[\"test_y_sorted_te\"] = test_y_sorted_te\n",
    "if parameter==\"vsw\":\n",
    "    data_dic[\"test_y_sorted_vsw\"] = test_y_sorted_vsw"
   ]
  },
  {
   "cell_type": "code",
   "execution_count": 21,
   "id": "561b92a4-aa71-44e7-9ceb-649eeaffe020",
   "metadata": {},
   "outputs": [],
   "source": [
    "with open(f\"data/pickle/data_{parameter}\", 'wb') as file:\n",
    "    pickle.dump(data_dic, file=file)"
   ]
  },
  {
   "cell_type": "code",
   "execution_count": null,
   "id": "da7c170a-6c5c-4544-9152-778abc60b3f8",
   "metadata": {},
   "outputs": [],
   "source": []
  },
  {
   "cell_type": "code",
   "execution_count": null,
   "id": "42ee93c8-d3b5-4250-88b7-c72eb5d5dc35",
   "metadata": {},
   "outputs": [],
   "source": []
  }
 ],
 "metadata": {
  "kernelspec": {
   "display_name": "Python 3 (ipykernel)",
   "language": "python",
   "name": "python3"
  }
 },
 "nbformat": 4,
 "nbformat_minor": 5
}
