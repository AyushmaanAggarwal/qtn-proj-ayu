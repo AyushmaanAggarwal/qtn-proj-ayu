{
 "metadata": {
  "name": "",
  "signature": "sha256:396ae3c15fe99751042612be59421a9bd3ea727a70dd7b599aa495e47bfedad8"
 },
 "nbformat": 3,
 "nbformat_minor": 0,
 "worksheets": [
  {
   "cells": [
    {
     "cell_type": "code",
     "collapsed": false,
     "input": [
      "from qtn.maxkappa import MaxKappa\n",
      "from qtn.bimax import BiMax\n",
      "from qtn.util import (boltzmann, emass, echarge, permittivity, cspeed)\n",
      "import mpmath as mp\n",
      "import numpy as np\n",
      "import matplotlib.pyplot as plt\n",
      "%matplotlib inline\n",
      "\n",
      "from scipy.io.idl import readsav"
     ],
     "language": "python",
     "metadata": {},
     "outputs": [],
     "prompt_number": 2
    },
    {
     "cell_type": "code",
     "collapsed": false,
     "input": [
      "pmass = 1.67262178e-27"
     ],
     "language": "python",
     "metadata": {},
     "outputs": [],
     "prompt_number": 3
    },
    {
     "cell_type": "code",
     "collapsed": false,
     "input": [
      "ant_len = 50      # m (monopole) \n",
      "ant_rad = 1.9e-4  # m\n",
      "base_cap = 20e-12 # Fara\n",
      "fbins = np.array([4000*2**((2*i+1)/32) for i in range(96)])"
     ],
     "language": "python",
     "metadata": {},
     "outputs": [],
     "prompt_number": 4
    },
    {
     "cell_type": "heading",
     "level": 3,
     "metadata": {},
     "source": [
      "example1: 25-JUN-1995, 06:33:03.488"
     ]
    },
    {
     "cell_type": "code",
     "collapsed": false,
     "input": [
      "#vsw = 3.898e5 #m/s\n",
      "vsw = 397.00870e3\n",
      "#vp = 46.11e3 #m/s\n",
      "#tp = pmass * vp**2 / echarge/ 2\n",
      "#print(tp)\n",
      "tp = 5.6343741"
     ],
     "language": "python",
     "metadata": {},
     "outputs": [],
     "prompt_number": 140
    },
    {
     "cell_type": "code",
     "collapsed": false,
     "input": [
      "tc = (11.1439 + 10.8434 * 2)/3\n",
      "th = (55.4993 + 54.0091*2)/3\n",
      "t = th/tc\n",
      "nc = 12.2368\n",
      "nh = 0.376581\n",
      "n = nh/nc\n",
      "ne = nc + nh\n",
      "k = 7.55723\n",
      "fpe = np.sqrt(echarge**2 * ne * 1e6 /emass/permittivity)/2/np.pi"
     ],
     "language": "python",
     "metadata": {},
     "outputs": [
      {
       "output_type": "stream",
       "stream": "stdout",
       "text": [
        "4.980627887921974\n",
        "0.030774467180962342\n",
        "12.613381\n",
        "31888.0102648\n"
       ]
      }
     ],
     "prompt_number": 82
    },
    {
     "cell_type": "code",
     "collapsed": false,
     "input": [
      "tc = 10.96\n",
      "th = 49.15\n",
      "t = th/tc\n",
      "nc = 11.97\n",
      "nh = 0.46\n",
      "n = nh/nc\n",
      "ne = nc + nh\n",
      "k = 7.35\n",
      "fpe = np.sqrt(echarge**2 * ne * 1e6 /emass/permittivity)/2/np.pi\n",
      "print(t)\n",
      "print(n)\n",
      "print(ne)\n",
      "print(fpe)"
     ],
     "language": "python",
     "metadata": {},
     "outputs": [
      {
       "output_type": "stream",
       "stream": "stdout",
       "text": [
        "4.48448905109489\n",
        "0.03842940685045948\n",
        "12.430000000000001\n",
        "31655.3579203\n"
       ]
      }
     ],
     "prompt_number": 114
    },
    {
     "cell_type": "code",
     "collapsed": false,
     "input": [
      "p = MaxKappa(ant_len, ant_rad, base_cap)"
     ],
     "language": "python",
     "metadata": {},
     "outputs": [],
     "prompt_number": 115
    },
    {
     "cell_type": "code",
     "collapsed": false,
     "input": [
      "za_zr = np.array([np.array(p.impedance(f, ne, n, t, tp, tc, k, vsw)) for f in fbins])"
     ],
     "language": "python",
     "metadata": {},
     "outputs": [],
     "prompt_number": 116
    },
    {
     "cell_type": "code",
     "collapsed": false,
     "input": [
      "za = za_zr[:, 0]\n",
      "zr = za_zr[:, 1]"
     ],
     "language": "python",
     "metadata": {},
     "outputs": [],
     "prompt_number": 117
    },
    {
     "cell_type": "code",
     "collapsed": false,
     "input": [
      "gain = np.abs((za+zr)/zr)**2"
     ],
     "language": "python",
     "metadata": {},
     "outputs": [],
     "prompt_number": 118
    },
    {
     "cell_type": "code",
     "collapsed": false,
     "input": [
      "plt.plot(gain)\n",
      "plt.show()"
     ],
     "language": "python",
     "metadata": {},
     "outputs": [
      {
       "metadata": {},
       "output_type": "display_data",
       "png": "[encoded data removed]",
       "text": [
        "<matplotlib.figure.Figure at 0x10efea0b8>"
       ]
      }
     ],
     "prompt_number": 119
    },
    {
     "cell_type": "code",
     "collapsed": false,
     "input": [
      "def helper(f):\n",
      "    if f < fpe or f > 1.2 * fpe:\n",
      "        mp.mp.dps = 20\n",
      "    else:\n",
      "        mp.mp.dps = 40\n",
      "    val = p.electron_noise(f, ne, n, t, tp, tc, k, vsw)\n",
      "    mp.mp.dps= 15\n",
      "    return val"
     ],
     "language": "python",
     "metadata": {},
     "outputs": [],
     "prompt_number": 120
    },
    {
     "cell_type": "code",
     "collapsed": false,
     "input": [
      "e_noise = np.array([helper(f) for f in fbins])"
     ],
     "language": "python",
     "metadata": {},
     "outputs": [],
     "prompt_number": 121
    },
    {
     "cell_type": "code",
     "collapsed": false,
     "input": [
      "p_noise = np.array([p.proton(f, ne, n, t, tp, tc, k, vsw) for f in fbins])"
     ],
     "language": "python",
     "metadata": {},
     "outputs": [],
     "prompt_number": 141
    },
    {
     "cell_type": "code",
     "collapsed": false,
     "input": [
      "def shot(za, sc_pot):\n",
      "    _vtc = np.sqrt(2 * echarge * tc/emass)\n",
      "    _nc = nc * 1e6\n",
      "    _ne = _nc * _vtc * (1 + n * mp.sqrt(t)) * 2 * np.pi * ant_rad * ant_len / np.sqrt(4 * np.pi)\n",
      "    A = 1 + echarge * sc_pot/tc\n",
      "    return 2 * A * echarge**2 * np.abs(za)**2 * _ne "
     ],
     "language": "python",
     "metadata": {},
     "outputs": [],
     "prompt_number": 123
    },
    {
     "cell_type": "code",
     "collapsed": false,
     "input": [
      "s_noise = np.array([shot(_za, 0) for _za in za])"
     ],
     "language": "python",
     "metadata": {},
     "outputs": [],
     "prompt_number": 135
    },
    {
     "cell_type": "code",
     "collapsed": false,
     "input": [
      "m_dat=readsav('/Users/tongyuguang/Google Drive/research/data/meudon_tnr/TNR_XY_ACE_19950625.sav')\n",
      "m_data=m_dat['data']\n",
      "mt = m_data['timeur8'][0]\n",
      "mtag = m_data['time'][0]"
     ],
     "language": "python",
     "metadata": {},
     "outputs": [],
     "prompt_number": 125
    },
    {
     "cell_type": "code",
     "collapsed": false,
     "input": [
      "mtag[5223]"
     ],
     "language": "python",
     "metadata": {},
     "outputs": [
      {
       "metadata": {},
       "output_type": "pyout",
       "prompt_number": 130,
       "text": [
        "b'25-JUN-1995, 06:33:03.488'"
       ]
      }
     ],
     "prompt_number": 130
    },
    {
     "cell_type": "code",
     "collapsed": false,
     "input": [
      "spec = m_data['spectra'][0][:, 5223]\n",
      "spec = 10. ** (spec/10.)"
     ],
     "language": "python",
     "metadata": {},
     "outputs": [],
     "prompt_number": 131
    },
    {
     "cell_type": "code",
     "collapsed": false,
     "input": [
      "plt.rc('text', usetex=False)\n",
      "plt.rc('font', family='serif')\n",
      "fig = plt.figure(figsize=[6, 6])\n",
      "plt.plot(fbins/1000, (e_noise + p_noise + s_noise)/gain, label='theory/3dp fits')\n",
      "plt.plot(fbins/1000, spec, 'o', markersize=2, label='WIND TNR')\n",
      "plt.plot(fbins/1000, e_noise/gain,'--', label='electron')\n",
      "plt.plot(fbins/1000, p_noise/gain, '-.', label='proton')\n",
      "plt.plot(fbins/1000, s_noise/gain, '--', label='shot')\n",
      "plt.xscale('log')\n",
      "plt.yscale('log')\n",
      "plt.xlim([4, 256])\n",
      "plt.ylim([1e-18, 1e-10])\n",
      "plt.xlabel(r'$f[kHz]$')\n",
      "plt.ylabel(r'$V_r^2[V^2Hz^{-1}]$')\n",
      "plt.title('25-JUN-1995, 06:33:03.488')\n",
      "plt.legend(loc='best')\n",
      "plt.show()"
     ],
     "language": "python",
     "metadata": {},
     "outputs": [
      {
       "metadata": {},
       "output_type": "display_data",
       "png": "[encoded data removed]",
       "text": [
        "<matplotlib.figure.Figure at 0x111ae59b0>"
       ]
      }
     ],
     "prompt_number": 142
    },
    {
     "cell_type": "code",
     "collapsed": false,
     "input": [
      "fig.savefig('wind1.png', dpi=300)"
     ],
     "language": "python",
     "metadata": {},
     "outputs": [],
     "prompt_number": 143
    },
    {
     "cell_type": "code",
     "collapsed": false,
     "input": [
      "np.savez('625_2_data', p_noise=p_noise, e_noise = e_noise, s_noise = s_noise, gain = gain, za = za, zr= zr)"
     ],
     "language": "python",
     "metadata": {},
     "outputs": [],
     "prompt_number": 112
    },
    {
     "cell_type": "code",
     "collapsed": false,
     "input": [
      "c=np.load('625_1_data.npz')\n",
      "c.files"
     ],
     "language": "python",
     "metadata": {},
     "outputs": [
      {
       "metadata": {},
       "output_type": "pyout",
       "prompt_number": 113,
       "text": [
        "['za', 's_noise', 'gain', 'e_noise', 'p_noise', 'zr']"
       ]
      }
     ],
     "prompt_number": 113
    },
    {
     "cell_type": "heading",
     "level": 3,
     "metadata": {},
     "source": [
      "Example 2: 1995-06-19/18:52:35.344"
     ]
    },
    {
     "cell_type": "code",
     "collapsed": false,
     "input": [
      "vsw = 754.408e3\n",
      "vsw = 1000e3\n",
      "#tp = 31.6888\n",
      "tp = 300\n",
      "tc = 10.7241\n",
      "th = 53.5818\n",
      "t = th/tc\n",
      "nc = 5.73674\n",
      "#nh = 0.309319\n",
      "netnr = 6.058\n",
      "nh = netnr - nc\n",
      "n = nh/nc\n",
      "ne = nc + nh\n",
      "k = 6.5519\n",
      "fpe = np.sqrt(echarge**2 * ne * 1e6 /emass/permittivity)/2/np.pi\n",
      "print(nh)\n",
      "print(t)\n",
      "print(n)\n",
      "print(ne)\n",
      "print(fpe)"
     ],
     "language": "python",
     "metadata": {},
     "outputs": [
      {
       "output_type": "stream",
       "stream": "stdout",
       "text": [
        "0.32125999999999966\n",
        "4.996391305564104\n",
        "0.05600044624647442\n",
        "6.058\n",
        "22099.1870855\n"
       ]
      }
     ],
     "prompt_number": 110
    },
    {
     "cell_type": "code",
     "collapsed": false,
     "input": [
      "p = MaxKappa(ant_len, ant_rad, base_cap)"
     ],
     "language": "python",
     "metadata": {},
     "outputs": [],
     "prompt_number": 81
    },
    {
     "cell_type": "code",
     "collapsed": false,
     "input": [
      "za_zr = np.array([np.array(p.impedance(f, ne, n, t, tp, tc, k, vsw)) for f in fbins])"
     ],
     "language": "python",
     "metadata": {},
     "outputs": [],
     "prompt_number": 82
    },
    {
     "cell_type": "code",
     "collapsed": false,
     "input": [
      "za = za_zr[:, 0]\n",
      "zr = za_zr[:, 1]"
     ],
     "language": "python",
     "metadata": {},
     "outputs": [],
     "prompt_number": 83
    },
    {
     "cell_type": "code",
     "collapsed": false,
     "input": [
      "gain = np.abs((za+zr)/zr)**2"
     ],
     "language": "python",
     "metadata": {},
     "outputs": [],
     "prompt_number": 84
    },
    {
     "cell_type": "code",
     "collapsed": false,
     "input": [
      "plt.plot(gain)\n",
      "plt.show()"
     ],
     "language": "python",
     "metadata": {},
     "outputs": [
      {
       "metadata": {},
       "output_type": "display_data",
       "png": "[encoded data removed]",
       "text": [
        "<matplotlib.figure.Figure at 0x111035630>"
       ]
      }
     ],
     "prompt_number": 85
    },
    {
     "cell_type": "code",
     "collapsed": false,
     "input": [
      "def helper(f):\n",
      "    if f < fpe or f > 1.2 * fpe:\n",
      "        mp.mp.dps = 20\n",
      "    else:\n",
      "        mp.mp.dps = 40\n",
      "    val = p.electron_noise(f, ne, n, t, tp, tc, k, vsw)\n",
      "    mp.mp.dps= 15\n",
      "    return val"
     ],
     "language": "python",
     "metadata": {},
     "outputs": [],
     "prompt_number": 86
    },
    {
     "cell_type": "code",
     "collapsed": false,
     "input": [
      "e_noise = np.array([helper(f) for f in fbins])"
     ],
     "language": "python",
     "metadata": {},
     "outputs": [],
     "prompt_number": 87
    },
    {
     "cell_type": "code",
     "collapsed": false,
     "input": [
      "p_noise = np.array([p.proton(f, ne, n, t, tp, tc, k, vsw) for f in fbins])"
     ],
     "language": "python",
     "metadata": {},
     "outputs": [],
     "prompt_number": 111
    },
    {
     "cell_type": "code",
     "collapsed": false,
     "input": [
      "p_noise"
     ],
     "language": "python",
     "metadata": {},
     "outputs": [
      {
       "metadata": {},
       "output_type": "pyout",
       "prompt_number": 112,
       "text": [
        "array([mpf('2.4744204462059351e-14'), mpf('2.4574124372216242e-14'),\n",
        "       mpf('2.4390911290044248e-14'), mpf('2.4193755846735876e-14'),\n",
        "       mpf('2.3981834331425158e-14'), mpf('2.3754315292850281e-14'),\n",
        "       mpf('2.3510367471502995e-14'), mpf('2.324916916366613e-14'),\n",
        "       mpf('2.2969919098975337e-14'), mpf('2.2671848884570216e-14'),\n",
        "       mpf('2.2354237030282532e-14'), mpf('2.2016424519626771e-14'),\n",
        "       mpf('2.1657831829984541e-14'), mpf('2.1277977232264275e-14'),\n",
        "       mpf('2.0876496116226978e-14'), mpf('2.0453160994372569e-14'),\n",
        "       mpf('2.0007901737772264e-14'), mpf('1.9540825495878256e-14'),\n",
        "       mpf('1.9052235654936093e-14'), mpf('1.8542649103323624e-14'),\n",
        "       mpf('1.8012811005208718e-14'), mpf('1.7463706245285829e-14'),\n",
        "       mpf('1.6896566705940655e-14'), mpf('1.6312873582047276e-14'),\n",
        "       mpf('1.5714354033872361e-14'), mpf('1.5102971628418605e-14'),\n",
        "       mpf('1.4480910223183614e-14'), mpf('1.385055119822152e-14'),\n",
        "       mpf('1.3214444231836927e-14'), mpf('1.2575272126835995e-14'),\n",
        "       mpf('1.1935810508017515e-14'), mpf('1.1298883505412942e-14'),\n",
        "       mpf('1.0667316788438368e-14'), mpf('1.0043889502256056e-14'),\n",
        "       mpf('9.4312867618426348e-15'), mpf('8.8320543702578562e-15'),\n",
        "       mpf('8.248557341767019e-15'), mpf('7.6829436325105485e-15'),\n",
        "       mpf('7.1371142236401929e-15'), mpf('6.6127003844298992e-15'),\n",
        "       mpf('6.1110485904107859e-15'), mpf('5.6332132033360313e-15'),\n",
        "       mpf('5.1799566792174378e-15'), mpf('4.7517573472460765e-15'),\n",
        "       mpf('4.3488203996010954e-15'), mpf('3.9711000096967597e-15'),\n",
        "       mpf('3.6183195961382853e-15'), mpf('3.2899980032938183e-15'),\n",
        "       mpf('2.9854769057124774e-15'), mpf('2.7039489818108183e-15'),\n",
        "       mpf('2.4444859227386998e-15'), mpf('2.2060654853237217e-15'),\n",
        "       mpf('1.9875969551736562e-15'), mpf('1.7879445458243999e-15'),\n",
        "       mpf('1.6059484127096509e-15'), mpf('1.4267640554433629e-15'),\n",
        "       mpf('1.2902733556164314e-15'), mpf('1.1543073594387753e-15'),\n",
        "       mpf('1.0314474663242855e-15'), mpf('9.2063864873965523e-16'),\n",
        "       mpf('8.2087484093401691e-16'), mpf('7.3120341898347384e-16'),\n",
        "       mpf('6.5072805649488173e-16'), mpf('5.7861019398413876e-16'),\n",
        "       mpf('5.1406934984890889e-16'), mpf('4.5638248518552153e-16'),\n",
        "       mpf('4.0488261547852283e-16'), mpf('3.5895684107538968e-16'),\n",
        "       mpf('3.180439466485992e-16'), mpf('2.816316985189028e-16'),\n",
        "       mpf('2.4925394908723679e-16'), mpf('2.2048764298443814e-16'),\n",
        "       mpf('1.9494976523464844e-16'), mpf('1.7229436066858988e-16'),\n",
        "       mpf('1.5220959552650092e-16'), mpf('1.34414932811524e-16'),\n",
        "       mpf('1.1865817042169617e-16'), mpf('1.0471395565325162e-16'),\n",
        "       mpf('9.2379815274504027e-17'), mpf('8.1474970882723015e-17'),\n",
        "       mpf('7.1838014184496686e-17'), mpf('6.3325001348373357e-17'),\n",
        "       mpf('5.5807702998659065e-17'), mpf('4.9172003439054219e-17'),\n",
        "       mpf('4.3316441511057764e-17'), mpf('3.8150884733742782e-17'),\n",
        "       mpf('3.359532932581948e-17'), mpf('2.9578809314681282e-17'),\n",
        "       mpf('2.6038424633779004e-17'), mpf('2.2918455881234455e-17'),\n",
        "       mpf('2.016957414048747e-17'), mpf('1.7748131666563125e-17'),\n",
        "       mpf('1.561552695451207e-17'), mpf('1.3737637208013702e-17'),\n",
        "       mpf('1.2084311721221134e-17'), mpf('1.0629239145029826e-17')], dtype=object)"
       ]
      }
     ],
     "prompt_number": 112
    },
    {
     "cell_type": "code",
     "collapsed": false,
     "input": [
      "def shot(za, sc_pot):\n",
      "    _vtc = np.sqrt(2 * echarge * tc/emass)\n",
      "    _nc = nc * 1e6\n",
      "    _ne = _nc * _vtc * (1 + n * mp.sqrt(t)) * 2 * np.pi * ant_rad * ant_len / np.sqrt(4 * np.pi)\n",
      "    A = 1 + echarge * sc_pot/tc\n",
      "    return 2 * A * echarge**2 * np.abs(za)**2 * _ne "
     ],
     "language": "python",
     "metadata": {},
     "outputs": [],
     "prompt_number": 89
    },
    {
     "cell_type": "code",
     "collapsed": false,
     "input": [
      "s_noise = np.array([shot(_za, 0) for _za in za])"
     ],
     "language": "python",
     "metadata": {},
     "outputs": [],
     "prompt_number": 90
    },
    {
     "cell_type": "code",
     "collapsed": false,
     "input": [
      "m_dat=readsav('/Users/tongyuguang/Google Drive/research/data/meudon_tnr/TNR_XY_ACE_19950619.sav')\n",
      "m_data=m_dat['data']\n",
      "mt = m_data['timeur8'][0]\n",
      "mtag = m_data['time'][0]"
     ],
     "language": "python",
     "metadata": {},
     "outputs": [],
     "prompt_number": 91
    },
    {
     "cell_type": "code",
     "collapsed": false,
     "input": [
      "mtag[15232]"
     ],
     "language": "python",
     "metadata": {},
     "outputs": [
      {
       "metadata": {},
       "output_type": "pyout",
       "prompt_number": 92,
       "text": [
        "b'19-JUN-1995, 18:50:02.256'"
       ]
      }
     ],
     "prompt_number": 92
    },
    {
     "cell_type": "code",
     "collapsed": false,
     "input": [
      "spec = m_data['spectra'][0][:, 15232]\n",
      "spec = 10. ** (spec/10.)"
     ],
     "language": "python",
     "metadata": {},
     "outputs": [],
     "prompt_number": 93
    },
    {
     "cell_type": "code",
     "collapsed": false,
     "input": [
      "plt.rc('text', usetex=False)\n",
      "plt.rc('font', family='serif')\n",
      "fig = plt.figure(figsize=[6, 6])\n",
      "plt.plot(fbins/1000, (e_noise + p_noise + s_noise)/gain, label='theory/3dp fits')\n",
      "plt.plot(fbins/1000, spec, 'o', markersize=2, label='WIND TNR')\n",
      "plt.plot(fbins/1000, e_noise/gain,'--', label='electron')\n",
      "plt.plot(fbins/1000, p_noise/gain, '-.', label='proton')\n",
      "plt.plot(fbins/1000, s_noise/gain, '--', label='shot')\n",
      "plt.xscale('log')\n",
      "plt.yscale('log')\n",
      "plt.xlim([4, 256])\n",
      "plt.ylim([1e-18, 1e-10])\n",
      "plt.xlabel(r'$f[kHz]$')\n",
      "plt.ylabel(r'$V_r^2[V^2Hz^{-1}]$')\n",
      "plt.title('19-JUN-1995, 18:50:02.256')\n",
      "plt.legend(loc='best')\n",
      "plt.show()"
     ],
     "language": "python",
     "metadata": {},
     "outputs": [
      {
       "metadata": {},
       "output_type": "display_data",
       "png": "[encoded data removed]",
       "text": [
        "<matplotlib.figure.Figure at 0x110fae2b0>"
       ]
      }
     ],
     "prompt_number": 113
    },
    {
     "cell_type": "code",
     "collapsed": false,
     "input": [
      "fig.savefig('wind1.png', dpi=300)"
     ],
     "language": "python",
     "metadata": {},
     "outputs": [],
     "prompt_number": 95
    },
    {
     "cell_type": "code",
     "collapsed": false,
     "input": [],
     "language": "python",
     "metadata": {},
     "outputs": []
    }
   ],
   "metadata": {}
  }
 ]
}