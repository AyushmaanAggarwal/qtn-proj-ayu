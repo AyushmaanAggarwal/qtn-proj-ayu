{
 "metadata": {
  "name": "",
  "signature": "sha256:e0f06d4a380570f70d142dac93b5b3e0169c16b5565ed9260fc2741f10e9c3e6"
 },
 "nbformat": 3,
 "nbformat_minor": 0,
 "worksheets": [
  {
   "cells": [
    {
     "cell_type": "code",
     "collapsed": false,
     "input": [
      "from qtn.bimax import BiMax\n",
      "from qtn.util import (boltzmann, emass, echarge, permittivity, cspeed, fperp, fp)\n",
      "import numpy as np\n",
      "import mpmath as mp\n",
      "import matplotlib.pyplot as plt\n",
      "%matplotlib inline"
     ],
     "language": "python",
     "metadata": {},
     "outputs": [],
     "prompt_number": 4
    },
    {
     "cell_type": "heading",
     "level": 6,
     "metadata": {},
     "source": [
      "The radio receiver on board WIND has monopole length $l=50m$, radius $r=0.19mm$.\n",
      "It linearly swept through 96 log-spaced frequncy channgels, i.e., $4\\times 1.0445^{i}kHz$ where $i\\in[0, 95]$"
     ]
    },
    {
     "cell_type": "code",
     "collapsed": false,
     "input": [
      "ant_len = 50      # m (monopole) \n",
      "ant_rad = 1.9e-4  # m\n",
      "base_cap = 20e-12 # Farad\n",
      "fbins = np.array([4000*1.0445**i for i in range(96)])"
     ],
     "language": "python",
     "metadata": {},
     "outputs": [],
     "prompt_number": 2
    },
    {
     "cell_type": "heading",
     "level": 3,
     "metadata": {},
     "source": [
      "WIND/WAVES June 25 1995:06:33:06.432"
     ]
    },
    {
     "cell_type": "heading",
     "level": 6,
     "metadata": {},
     "source": [
      "$v_{sw} = 396.6km/s$\n",
      "$T_p = 9.62eV$\n",
      "$fpe = 31.47kHz$\n",
      "$n_e = 12.28 cm^{-3}$\n",
      "$Tc = 9.91eV$\n",
      "$T_h/T_c = 6.57$\n",
      "$n_h/n_c = 0.026$"
     ]
    },
    {
     "cell_type": "code",
     "collapsed": false,
     "input": [
      "vsw=3.966e5\n",
      "tc = 9.91 * echarge/boltzmann\n",
      "t = 6.57\n",
      "n = 0.026\n",
      "tep = 9.91/9.62\n",
      "fpe = 31.47e3"
     ],
     "language": "python",
     "metadata": {},
     "outputs": [],
     "prompt_number": 20
    },
    {
     "cell_type": "heading",
     "level": 6,
     "metadata": {},
     "source": [
      "Debye length $l_{dc}=\\sqrt{\\epsilon_0 k_b T_c/n_c e^2}$"
     ]
    },
    {
     "cell_type": "code",
     "collapsed": false,
     "input": [
      "ne = 12.28e6\n",
      "nc = ne/(1+n)\n",
      "ldc = np.sqrt(permittivity * boltzmann * tc/ nc / echarge**2)\n",
      "lrel = ant_len/ldc"
     ],
     "language": "python",
     "metadata": {},
     "outputs": [],
     "prompt_number": 15
    },
    {
     "cell_type": "code",
     "collapsed": false,
     "input": [
      "p = BiMax(ant_len, ant_rad, base_cap)"
     ],
     "language": "python",
     "metadata": {},
     "outputs": [],
     "prompt_number": 17
    },
    {
     "cell_type": "heading",
     "level": 6,
     "metadata": {},
     "source": [
      "relative frequency"
     ]
    },
    {
     "cell_type": "code",
     "collapsed": false,
     "input": [
      "wrelplot = fbins/fpe"
     ],
     "language": "python",
     "metadata": {},
     "outputs": [],
     "prompt_number": 42
    },
    {
     "cell_type": "heading",
     "level": 6,
     "metadata": {},
     "source": [
      "transfer gain and shot noise"
     ]
    },
    {
     "cell_type": "code",
     "collapsed": false,
     "input": [
      "g_s = np.array([p.gamma_shot(wrel, lrel, n, t, tc) for wrel in wrelplot])"
     ],
     "language": "python",
     "metadata": {},
     "outputs": [],
     "prompt_number": 43
    },
    {
     "cell_type": "code",
     "collapsed": false,
     "input": [
      "def helper(wrel):\n",
      "    \"\"\"\n",
      "    add precision control to bimax function.\n",
      "    \n",
      "    \"\"\"\n",
      "    if wrel > 1 and wrel < 1.2:\n",
      "        mp.mp.dps = 40\n",
      "    else:\n",
      "        mp.mp.dps = 20\n",
      "    return p.bimax(wrel, lrel, n, t, tc)"
     ],
     "language": "python",
     "metadata": {},
     "outputs": [],
     "prompt_number": 44
    },
    {
     "cell_type": "heading",
     "level": 6,
     "metadata": {},
     "source": [
      "electron noise"
     ]
    },
    {
     "cell_type": "code",
     "collapsed": false,
     "input": [
      "enoise = np.array([helper(wrel) for wrel in wrelplot])"
     ],
     "language": "python",
     "metadata": {},
     "outputs": [
      {
       "ename": "NameError",
       "evalue": "name 'np' is not defined",
       "output_type": "pyerr",
       "traceback": [
        "\u001b[0;31m---------------------------------------------------------------------------\u001b[0m\n\u001b[0;31mNameError\u001b[0m                                 Traceback (most recent call last)",
        "\u001b[0;32m<ipython-input-1-3c3f880efda4>\u001b[0m in \u001b[0;36m<module>\u001b[0;34m()\u001b[0m\n\u001b[0;32m----> 1\u001b[0;31m \u001b[0menoise\u001b[0m \u001b[0;34m=\u001b[0m \u001b[0mnp\u001b[0m\u001b[0;34m.\u001b[0m\u001b[0marray\u001b[0m\u001b[0;34m(\u001b[0m\u001b[0;34m[\u001b[0m\u001b[0mhelper\u001b[0m\u001b[0;34m(\u001b[0m\u001b[0mwrel\u001b[0m\u001b[0;34m)\u001b[0m \u001b[0;32mfor\u001b[0m \u001b[0mwrel\u001b[0m \u001b[0;32min\u001b[0m \u001b[0mwrelplot\u001b[0m\u001b[0;34m]\u001b[0m\u001b[0;34m)\u001b[0m\u001b[0;34m\u001b[0m\u001b[0m\n\u001b[0m",
        "\u001b[0;31mNameError\u001b[0m: name 'np' is not defined"
       ]
      }
     ],
     "prompt_number": 1
    },
    {
     "cell_type": "heading",
     "level": 6,
     "metadata": {},
     "source": [
      "proton noise"
     ]
    },
    {
     "cell_type": "code",
     "collapsed": false,
     "input": [
      "pnoise = np.array([p.proton(wrel*np.sqrt(1+n), lrel, tep, tc, vsw) for wrel in wrelplot])"
     ],
     "language": "python",
     "metadata": {},
     "outputs": [],
     "prompt_number": 46
    },
    {
     "cell_type": "code",
     "collapsed": false,
     "input": [
      "gamma = g_s[:, 0]\n",
      "shot = g_s[:, 1]\n",
      "vr2 = enoise + pnoise + shot"
     ],
     "language": "python",
     "metadata": {},
     "outputs": [],
     "prompt_number": 47
    },
    {
     "cell_type": "code",
     "collapsed": false,
     "input": [
      "plt.rc('text', usetex=True)\n",
      "plt.rc('font', family='serif')\n",
      "fig = plt.figure(figsize=[6, 6])\n",
      "plt.plot(fbins/1000, vr2/gamma, 'o-', markersize=2, label='total')\n",
      "plt.plot(fbins/1000, enoise/gamma, label='electron')\n",
      "plt.plot(fbins/1000, pnoise/gamma, label='proton')\n",
      "plt.plot(fbins/1000, shot/gamma, label='shot')\n",
      "plt.xscale('log')\n",
      "plt.yscale('log')\n",
      "plt.xlim([4, 256])\n",
      "plt.ylim([1e-16, 5e-13])\n",
      "plt.xlabel(r'$f[kHz]$')\n",
      "plt.ylabel(r'$V_r^2[V^2Hz^{-1}]$')\n",
      "plt.title('June 25 1995:06:33:06.432')\n",
      "plt.legend(loc='best')\n",
      "plt.show()"
     ],
     "language": "python",
     "metadata": {},
     "outputs": [
      {
       "metadata": {},
       "output_type": "display_data",
       "png": "[encoded data removed]",
       "text": [
        "<matplotlib.figure.Figure at 0x10650d908>"
       ]
      }
     ],
     "prompt_number": 116
    },
    {
     "cell_type": "code",
     "collapsed": false,
     "input": [
      "fig.savefig('wind1.png', dpi=300)"
     ],
     "language": "python",
     "metadata": {},
     "outputs": [],
     "prompt_number": 71
    },
    {
     "cell_type": "heading",
     "level": 4,
     "metadata": {},
     "source": [
      "WIND/WAVES data"
     ]
    },
    {
     "cell_type": "code",
     "collapsed": false,
     "input": [
      "from scipy.io.idl import readsav"
     ],
     "language": "python",
     "metadata": {},
     "outputs": [],
     "prompt_number": 72
    },
    {
     "cell_type": "code",
     "collapsed": false,
     "input": [
      "m_dat=readsav('/Users/Tong/Google Drive/research/data/meudon_tnr/TNR_XY_ACE_19950625.sav')"
     ],
     "language": "python",
     "metadata": {},
     "outputs": [],
     "prompt_number": 74
    },
    {
     "cell_type": "code",
     "collapsed": false,
     "input": [
      "m_data=m_dat['data']\n",
      "mt = m_data['timeur8'][0]\n",
      "mtag = m_data['time'][0]"
     ],
     "language": "python",
     "metadata": {},
     "outputs": [],
     "prompt_number": 78
    },
    {
     "cell_type": "code",
     "collapsed": false,
     "input": [
      "mtag[5224]"
     ],
     "language": "python",
     "metadata": {},
     "outputs": [
      {
       "metadata": {},
       "output_type": "pyout",
       "prompt_number": 88,
       "text": [
        "b'25-JUN-1995, 06:33:07.904'"
       ]
      }
     ],
     "prompt_number": 88
    },
    {
     "cell_type": "code",
     "collapsed": false,
     "input": [
      "spec = m_data['spectra'][0][:, 5224]\n",
      "spec = 10. ** (spec/10.)"
     ],
     "language": "python",
     "metadata": {},
     "outputs": [],
     "prompt_number": 99
    },
    {
     "cell_type": "code",
     "collapsed": false,
     "input": [
      "plt.rc('text', usetex=True)\n",
      "plt.rc('font', family='serif')\n",
      "fig = plt.figure(figsize=[6, 6])\n",
      "plt.plot(fbins/1000, vr2/gamma, label='theory')\n",
      "#plt.plot(fbins/1000, enoise/gamma, label='electron')\n",
      "#plt.plot(fbins/1000, pnoise/gamma, label='proton')\n",
      "#plt.plot(fbins/1000, shot/gamma, label='shot')\n",
      "plt.plot(fbins/1000, spec[:95], 'o', markersize=3, label='WIND data')\n",
      "plt.xscale('log')\n",
      "plt.yscale('log')\n",
      "plt.xlim([4, 256])\n",
      "plt.ylim([1e-16, 5e-13])\n",
      "plt.xlabel(r'$f[kHz]$')\n",
      "plt.ylabel(r'$V_r^2[V^2Hz^{-1}]$')\n",
      "plt.title('June 25 1995:06:33:06.432')\n",
      "plt.legend(loc='best')\n",
      "plt.show()"
     ],
     "language": "python",
     "metadata": {},
     "outputs": [
      {
       "metadata": {},
       "output_type": "display_data",
       "png": "[encoded data removed]",
       "text": [
        "<matplotlib.figure.Figure at 0x1067e0240>"
       ]
      }
     ],
     "prompt_number": 117
    },
    {
     "cell_type": "code",
     "collapsed": false,
     "input": [
      "fig.savefig('wind1.png', dpi=300)"
     ],
     "language": "python",
     "metadata": {},
     "outputs": [],
     "prompt_number": 118
    },
    {
     "cell_type": "heading",
     "level": 3,
     "metadata": {},
     "source": [
      "\n",
      "WIND/WAVES June 19 1995:18:52:35.344"
     ]
    },
    {
     "cell_type": "heading",
     "level": 6,
     "metadata": {},
     "source": [
      "$v_{sw} = 761.0km/s$\n",
      "$T_p = 47.49eV$\n",
      "$f_{pe} = 22.24kHz$\n",
      "$n_e = 6.13cm^{-3}$\n",
      "$t_c = 11.53eV$\n",
      "$T_h/T_c = 5.57$\n",
      "$n_h/n_c = 0.059$"
     ]
    },
    {
     "cell_type": "code",
     "collapsed": false,
     "input": [
      "vsw=7.61e5\n",
      "tc = 11.53 * echarge/boltzmann\n",
      "t = 5.57\n",
      "n = 0.059\n",
      "tep = 11.53/47.49\n",
      "fpe = 22.24e3"
     ],
     "language": "python",
     "metadata": {},
     "outputs": [],
     "prompt_number": 5
    },
    {
     "cell_type": "heading",
     "level": 6,
     "metadata": {},
     "source": [
      "Debye length $l_{dc}=\\sqrt{\\epsilon_0 k_b T_c/n_c e^2}$"
     ]
    },
    {
     "cell_type": "code",
     "collapsed": false,
     "input": [
      "ne = 6.13e6\n",
      "nc = ne/(1+n)\n",
      "ldc = np.sqrt(permittivity * boltzmann * tc/ nc / echarge**2)\n",
      "lrel = ant_len/ldc"
     ],
     "language": "python",
     "metadata": {},
     "outputs": [],
     "prompt_number": 7
    },
    {
     "cell_type": "code",
     "collapsed": false,
     "input": [
      "p = BiMax(ant_len, ant_rad, base_cap)"
     ],
     "language": "python",
     "metadata": {},
     "outputs": [],
     "prompt_number": 8
    },
    {
     "cell_type": "heading",
     "level": 6,
     "metadata": {},
     "source": [
      "relative frequency"
     ]
    },
    {
     "cell_type": "code",
     "collapsed": false,
     "input": [
      "wrelplot = fbins/fpe"
     ],
     "language": "python",
     "metadata": {},
     "outputs": [],
     "prompt_number": 9
    },
    {
     "cell_type": "heading",
     "level": 6,
     "metadata": {},
     "source": [
      "transfer gain/shot noise"
     ]
    },
    {
     "cell_type": "code",
     "collapsed": false,
     "input": [
      "g_s = np.array([p.gamma_shot(wrel, lrel, n, t, tc) for wrel in wrelplot])"
     ],
     "language": "python",
     "metadata": {},
     "outputs": [],
     "prompt_number": 11
    },
    {
     "cell_type": "code",
     "collapsed": false,
     "input": [
      "def helper(wrel):\n",
      "    \"\"\"\n",
      "    add precision control to bimax function.\n",
      "    \n",
      "    \"\"\"\n",
      "    if wrel > 1 and wrel < 1.2:\n",
      "        mp.mp.dps = 40\n",
      "    else:\n",
      "        mp.mp.dps = 20\n",
      "    return p.bimax(wrel, lrel, n, t, tc)"
     ],
     "language": "python",
     "metadata": {},
     "outputs": [],
     "prompt_number": 12
    },
    {
     "cell_type": "code",
     "collapsed": false,
     "input": [
      "enoise = np.array([helper(wrel) for wrel in wrelplot])"
     ],
     "language": "python",
     "metadata": {},
     "outputs": [],
     "prompt_number": 13
    },
    {
     "cell_type": "code",
     "collapsed": false,
     "input": [
      "pnoise = np.array([p.proton(wrel*np.sqrt(1+n), lrel, tep, tc, vsw) for wrel in wrelplot])"
     ],
     "language": "python",
     "metadata": {},
     "outputs": [],
     "prompt_number": 14
    },
    {
     "cell_type": "code",
     "collapsed": false,
     "input": [
      "gamma = g_s[:, 0]\n",
      "shot = g_s[:, 1]\n",
      "vr2 = enoise + pnoise + shot"
     ],
     "language": "python",
     "metadata": {},
     "outputs": [],
     "prompt_number": 16
    },
    {
     "cell_type": "code",
     "collapsed": false,
     "input": [
      "plt.rc('text', usetex=True)\n",
      "plt.rc('font', family='serif')\n",
      "fig = plt.figure(figsize=[6, 6])\n",
      "plt.plot(fbins/1000, vr2/gamma, 'o-', markersize=2, label='total')\n",
      "plt.plot(fbins/1000, enoise/gamma, label='electron')\n",
      "plt.plot(fbins/1000, pnoise/gamma, label='proton')\n",
      "plt.plot(fbins/1000, shot/gamma, label='shot')\n",
      "plt.xscale('log')\n",
      "plt.yscale('log')\n",
      "plt.xlim([4, 256])\n",
      "plt.ylim([1e-16, 5e-13])\n",
      "plt.xlabel(r'$f[kHz]$')\n",
      "plt.ylabel(r'$V_r^2[V^2Hz^{-1}]$')\n",
      "plt.title('June 19 1995:18:52:35.344')\n",
      "plt.legend(loc='best')\n",
      "plt.show()"
     ],
     "language": "python",
     "metadata": {},
     "outputs": [
      {
       "metadata": {},
       "output_type": "display_data",
       "png": "[encoded data removed]",
       "text": [
        "<matplotlib.figure.Figure at 0x10f7bb748>"
       ]
      }
     ],
     "prompt_number": 44
    },
    {
     "cell_type": "code",
     "collapsed": false,
     "input": [
      "fig.savefig('wind1.png', dpi=300)"
     ],
     "language": "python",
     "metadata": {},
     "outputs": [],
     "prompt_number": 45
    },
    {
     "cell_type": "heading",
     "level": 6,
     "metadata": {},
     "source": [
      "WIND/WAVES data"
     ]
    },
    {
     "cell_type": "code",
     "collapsed": false,
     "input": [
      "from scipy.io.idl import readsav"
     ],
     "language": "python",
     "metadata": {},
     "outputs": [],
     "prompt_number": 19
    },
    {
     "cell_type": "code",
     "collapsed": false,
     "input": [
      "m_dat=readsav('/Users/Tong/Google Drive/research/data/meudon_tnr/TNR_XY_ACE_19950619.sav')"
     ],
     "language": "python",
     "metadata": {},
     "outputs": [],
     "prompt_number": 20
    },
    {
     "cell_type": "code",
     "collapsed": false,
     "input": [
      "m_data=m_dat['data']\n",
      "mt = m_data['timeur8'][0]\n",
      "mtag = m_data['time'][0]"
     ],
     "language": "python",
     "metadata": {},
     "outputs": [],
     "prompt_number": 21
    },
    {
     "cell_type": "code",
     "collapsed": false,
     "input": [
      "mtag[15267]"
     ],
     "language": "python",
     "metadata": {},
     "outputs": [
      {
       "metadata": {},
       "output_type": "pyout",
       "prompt_number": 69,
       "text": [
        "b'19-JUN-1995, 18:52:36.816'"
       ]
      }
     ],
     "prompt_number": 69
    },
    {
     "cell_type": "code",
     "collapsed": false,
     "input": [
      "spec = m_data['spectra'][0][:, 15266]\n",
      "spec = 10. ** (spec/10.)"
     ],
     "language": "python",
     "metadata": {},
     "outputs": [],
     "prompt_number": 74
    },
    {
     "cell_type": "code",
     "collapsed": false,
     "input": [
      "plt.rc('text', usetex=True)\n",
      "plt.rc('font', family='serif')\n",
      "fig = plt.figure(figsize=[6, 6])\n",
      "plt.plot(fbins/1000, vr2/gamma, label='theory')\n",
      "#plt.plot(fbins/1000, enoise/gamma, label='electron')\n",
      "#plt.plot(fbins/1000, pnoise/gamma, label='proton')\n",
      "#plt.plot(fbins/1000, shot/gamma, label='shot')\n",
      "plt.plot(fbins/1000 * 1.02, spec, 'o', markersize=2, label='WIND data')\n",
      "plt.xscale('log')\n",
      "plt.yscale('log')\n",
      "plt.xlim([4, 256])\n",
      "plt.ylim([1e-18, 1e-10])\n",
      "plt.xlabel(r'$f[kHz]$')\n",
      "plt.ylabel(r'$V_r^2[V^2Hz^{-1}]$')\n",
      "plt.title('19-JUN-1995, 18:52:32.400')\n",
      "plt.legend(loc='best')\n",
      "plt.show()"
     ],
     "language": "python",
     "metadata": {},
     "outputs": [
      {
       "metadata": {},
       "output_type": "display_data",
       "png": "[encoded data removed]",
       "text": [
        "<matplotlib.figure.Figure at 0x110215978>"
       ]
      }
     ],
     "prompt_number": 77
    },
    {
     "cell_type": "code",
     "collapsed": false,
     "input": [
      "fig.savefig('wind1.png', dpi=300)"
     ],
     "language": "python",
     "metadata": {},
     "outputs": [],
     "prompt_number": 78
    },
    {
     "cell_type": "code",
     "collapsed": false,
     "input": [],
     "language": "python",
     "metadata": {},
     "outputs": []
    }
   ],
   "metadata": {}
  }
 ]
}