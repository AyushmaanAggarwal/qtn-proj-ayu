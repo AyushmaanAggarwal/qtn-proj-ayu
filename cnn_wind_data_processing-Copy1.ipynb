{
 "cells": [
  {
   "cell_type": "code",
   "execution_count": null,
   "id": "63e73bde-c3a1-44b9-bed5-f09331aaac0e",
   "metadata": {},
   "outputs": [],
   "source": []
  },
  {
   "cell_type": "markdown",
   "id": "6dbce373-a558-4506-9884-047ba59b466b",
   "metadata": {
    "tags": []
   },
   "source": [
    "## Import Statements"
   ]
  },
  {
   "cell_type": "code",
   "execution_count": 1,
   "id": "9effaad3-4ead-4fec-88c3-0e0e8e8efa3d",
   "metadata": {
    "tags": []
   },
   "outputs": [],
   "source": [
    "import gc\n",
    "import os\n",
    "import sys\n",
    "import random\n",
    "import pickle\n",
    "import bisect\n",
    "import datetime\n",
    "import numpy as np\n",
    "import pandas as pd\n",
    "import matplotlib.pyplot as plt\n",
    "\n",
    "os.environ[\"CDF_LIB\"] = \"/usr/local/lib/cdf/lib/\"\n",
    "import netCDF4 as nc\n",
    "import pyspedas\n",
    "from spacepy import pycdf\n",
    "from pyspedas import wind\n",
    "from pytplot import tplot, get_data"
   ]
  },
  {
   "cell_type": "markdown",
   "id": "55dbc161-8c48-4ccc-be0a-70efc2d7b43f",
   "metadata": {
    "tags": []
   },
   "source": [
    "## Various functions"
   ]
  },
  {
   "cell_type": "code",
   "execution_count": 2,
   "id": "336aa0ec-d974-4491-b191-13e8956555f7",
   "metadata": {},
   "outputs": [
    {
     "name": "stdout",
     "output_type": "stream",
     "text": [
      "3182.6073539848016\n",
      "8.978662820467044\n"
     ]
    }
   ],
   "source": [
    "# Constants\n",
    "e = 1.602176634e-19\n",
    "m = 9.109383701528e-31\n",
    "e_0 = 8.854187812813e-12\n",
    "cons = e/((m*e_0)**.5)/(2*np.pi)\n",
    "print(e**2/(e_0*m))\n",
    "print(cons)"
   ]
  },
  {
   "cell_type": "code",
   "execution_count": 3,
   "id": "f0229288-c8bc-4759-9b22-491cdd981c13",
   "metadata": {},
   "outputs": [],
   "source": [
    "def find_closest_time(time, lst):\n",
    "    return min(range(len(lst)), \n",
    "               key=lambda i: abs(time-lst[i]))\n",
    "\n",
    "def reduced_time_closest_time(goal_time, time_lst):\n",
    "    \"\"\"\n",
    "    Find the index in the availible times which is closest to the goal time\n",
    "    \"\"\"\n",
    "    # Bisect gives the index of the smallest value which is greater than goal time\n",
    "    upper_index = min(bisect.bisect_left(time_lst, goal_time), len(time_lst)-1)\n",
    "    lower_index = max(upper_index-1, 0)\n",
    "    if abs(time_lst[upper_index] - goal_time) > abs(time_lst[lower_index] - goal_time):\n",
    "        return lower_index\n",
    "    else:\n",
    "        return upper_index\n",
    "\n",
    "def conv_dens_to_freq(ne):\n",
    "    assert ne>=0\n",
    "    return ne**.5 * cons\n",
    "\n",
    "def norm(lst, max_val):\n",
    "    return np.array([val/max_val for val in lst])\n",
    "\n",
    "def denorm(lst, max_val):\n",
    "    return np.array([val*max_val for val in lst])\n",
    "\n",
    "def print_lst(lst, sort=False):\n",
    "    if sort:\n",
    "        lst.sort()\n",
    "    print(\"[\")\n",
    "    for n in lst:\n",
    "        print(f\"{repr(n)},\")\n",
    "    print(\"]\")\n",
    "\n",
    "def sizeof_fmt(num, suffix='B'):\n",
    "    ''' by Fred Cirera,  https://stackoverflow.com/a/1094933/1870254, modified'''\n",
    "    for unit in ['','Ki','Mi','Gi','Ti','Pi','Ei','Zi']:\n",
    "        if abs(num) < 1024.0:\n",
    "            return \"%3.1f %s%s\" % (num, unit, suffix)\n",
    "        num /= 1024.0\n",
    "    return \"%.1f %s%s\" % (num, 'Yi', suffix)\n"
   ]
  },
  {
   "cell_type": "markdown",
   "id": "9643f9d7-b8e6-447f-92bb-fcf5ce1d7029",
   "metadata": {
    "tags": []
   },
   "source": [
    "## Importing Data"
   ]
  },
  {
   "cell_type": "markdown",
   "id": "09faee84-d2c1-4375-8fcd-c9563e4ff750",
   "metadata": {},
   "source": [
    "### pySPEDAS"
   ]
  },
  {
   "cell_type": "code",
   "execution_count": 34,
   "id": "5873d941-fcfb-47ba-a2cb-7ca2bf17ea30",
   "metadata": {},
   "outputs": [
    {
     "name": "stderr",
     "output_type": "stream",
     "text": [
      "18-Aug-22 16:39:14: Downloading remote index: https://spdf.gsfc.nasa.gov/pub/data/wind/3dp/3dp_elpd/1999/\n",
      "18-Aug-22 16:39:15: Downloading https://spdf.gsfc.nasa.gov/pub/data/wind/3dp/3dp_elpd/1999/wi_elpd_3dp_19991105_v02.cdf to wind_data/3dp/3dp_elpd/1999/wi_elpd_3dp_19991105_v02.cdf\n",
      "18-Aug-22 16:39:15: Download complete: wind_data/3dp/3dp_elpd/1999/wi_elpd_3dp_19991105_v02.cdf\n"
     ]
    },
    {
     "data": {
      "text/plain": [
       "[]"
      ]
     },
     "execution_count": 34,
     "metadata": {},
     "output_type": "execute_result"
    }
   ],
   "source": [
    "wind.threedp(datatype='3dp_elpd')"
   ]
  },
  {
   "cell_type": "code",
   "execution_count": 26,
   "id": "8eef6aaa-4e85-435f-a47c-abb56076cc1f",
   "metadata": {},
   "outputs": [
    {
     "name": "stderr",
     "output_type": "stream",
     "text": [
      "18-Aug-22 16:37:49: Downloading remote index: https://spdf.gsfc.nasa.gov/pub/data/wind/3dp/3dp_ehpd/1995/\n",
      "18-Aug-22 16:37:50: File is current: wind_data/3dp/3dp_ehpd/1995/wi_ehpd_3dp_19950601_v02.cdf\n",
      "18-Aug-22 16:37:50: File is current: wind_data/3dp/3dp_ehpd/1995/wi_ehpd_3dp_19950602_v02.cdf\n",
      "18-Aug-22 16:37:50: File is current: wind_data/3dp/3dp_ehpd/1995/wi_ehpd_3dp_19950603_v02.cdf\n",
      "18-Aug-22 16:37:51: File is current: wind_data/3dp/3dp_ehpd/1995/wi_ehpd_3dp_19950604_v02.cdf\n",
      "18-Aug-22 16:37:51: File is current: wind_data/3dp/3dp_ehpd/1995/wi_ehpd_3dp_19950605_v02.cdf\n",
      "18-Aug-22 16:37:52: File is current: wind_data/3dp/3dp_ehpd/1995/wi_ehpd_3dp_19950606_v02.cdf\n",
      "18-Aug-22 16:37:52: File is current: wind_data/3dp/3dp_ehpd/1995/wi_ehpd_3dp_19950607_v02.cdf\n",
      "18-Aug-22 16:37:53: File is current: wind_data/3dp/3dp_ehpd/1995/wi_ehpd_3dp_19950608_v02.cdf\n",
      "18-Aug-22 16:37:54: File is current: wind_data/3dp/3dp_ehpd/1995/wi_ehpd_3dp_19950609_v02.cdf\n",
      "18-Aug-22 16:37:54: File is current: wind_data/3dp/3dp_ehpd/1995/wi_ehpd_3dp_19950610_v02.cdf\n",
      "18-Aug-22 16:37:55: File is current: wind_data/3dp/3dp_ehpd/1995/wi_ehpd_3dp_19950611_v02.cdf\n",
      "18-Aug-22 16:37:55: File is current: wind_data/3dp/3dp_ehpd/1995/wi_ehpd_3dp_19950612_v02.cdf\n",
      "18-Aug-22 16:37:56: File is current: wind_data/3dp/3dp_ehpd/1995/wi_ehpd_3dp_19950613_v02.cdf\n",
      "18-Aug-22 16:37:57: File is current: wind_data/3dp/3dp_ehpd/1995/wi_ehpd_3dp_19950614_v02.cdf\n",
      "18-Aug-22 16:37:57: File is current: wind_data/3dp/3dp_ehpd/1995/wi_ehpd_3dp_19950615_v02.cdf\n",
      "18-Aug-22 16:37:58: File is current: wind_data/3dp/3dp_ehpd/1995/wi_ehpd_3dp_19950616_v02.cdf\n",
      "18-Aug-22 16:37:58: File is current: wind_data/3dp/3dp_ehpd/1995/wi_ehpd_3dp_19950617_v02.cdf\n",
      "18-Aug-22 16:37:58: File is current: wind_data/3dp/3dp_ehpd/1995/wi_ehpd_3dp_19950618_v02.cdf\n",
      "18-Aug-22 16:37:59: File is current: wind_data/3dp/3dp_ehpd/1995/wi_ehpd_3dp_19950619_v02.cdf\n",
      "18-Aug-22 16:37:59: File is current: wind_data/3dp/3dp_ehpd/1995/wi_ehpd_3dp_19950620_v02.cdf\n",
      "18-Aug-22 16:38:00: File is current: wind_data/3dp/3dp_ehpd/1995/wi_ehpd_3dp_19950621_v02.cdf\n",
      "18-Aug-22 16:38:00: File is current: wind_data/3dp/3dp_ehpd/1995/wi_ehpd_3dp_19950622_v02.cdf\n",
      "18-Aug-22 16:38:01: File is current: wind_data/3dp/3dp_ehpd/1995/wi_ehpd_3dp_19950623_v02.cdf\n",
      "18-Aug-22 16:38:02: File is current: wind_data/3dp/3dp_ehpd/1995/wi_ehpd_3dp_19950624_v02.cdf\n",
      "18-Aug-22 16:38:02: File is current: wind_data/3dp/3dp_ehpd/1995/wi_ehpd_3dp_19950625_v02.cdf\n",
      "18-Aug-22 16:38:03: File is current: wind_data/3dp/3dp_ehpd/1995/wi_ehpd_3dp_19950626_v02.cdf\n"
     ]
    },
    {
     "data": {
      "text/plain": [
       "[]"
      ]
     },
     "execution_count": 26,
     "metadata": {},
     "output_type": "execute_result"
    }
   ],
   "source": [
    "wind.threedp(trange=['1995-06-01', '1995-06-27'], datatype='3dp_ehpd')\n"
   ]
  },
  {
   "cell_type": "code",
   "execution_count": 27,
   "id": "d94517ee-7633-420c-adb0-0a7276a6537e",
   "metadata": {},
   "outputs": [
    {
     "name": "stdout",
     "output_type": "stream",
     "text": [
      "That name is currently not in pytplot\n"
     ]
    },
    {
     "ename": "AttributeError",
     "evalue": "'NoneType' object has no attribute 'y'",
     "output_type": "error",
     "traceback": [
      "\u001b[0;31m---------------------------------------------------------------------------\u001b[0m",
      "\u001b[0;31mAttributeError\u001b[0m                            Traceback (most recent call last)",
      "\u001b[0;32m/tmp/ipykernel_2446/2756344840.py\u001b[0m in \u001b[0;36m<module>\u001b[0;34m\u001b[0m\n\u001b[0;32m----> 1\u001b[0;31m \u001b[0mlen\u001b[0m\u001b[0;34m(\u001b[0m\u001b[0mget_data\u001b[0m\u001b[0;34m(\u001b[0m\u001b[0;34m'VSW'\u001b[0m\u001b[0;34m)\u001b[0m\u001b[0;34m.\u001b[0m\u001b[0my\u001b[0m\u001b[0;34m)\u001b[0m\u001b[0;34m\u001b[0m\u001b[0;34m\u001b[0m\u001b[0m\n\u001b[0m",
      "\u001b[0;31mAttributeError\u001b[0m: 'NoneType' object has no attribute 'y'"
     ]
    }
   ],
   "source": [
    "len(get_data('VSW').y)"
   ]
  },
  {
   "cell_type": "code",
   "execution_count": 25,
   "id": "a0d6e389-f121-43a7-9641-8a75e467a2de",
   "metadata": {
    "tags": []
   },
   "outputs": [
    {
     "name": "stderr",
     "output_type": "stream",
     "text": [
      "18-Aug-22 16:37:02: Downloading remote index: https://spdf.gsfc.nasa.gov/pub/data/wind/swe/swe_h0/1995/\n",
      "18-Aug-22 16:37:03: File is current: wind_data/swe/swe_h0/1995/wi_h0_swe_19950601_v02.cdf\n",
      "18-Aug-22 16:37:03: File is current: wind_data/swe/swe_h0/1995/wi_h0_swe_19950602_v02.cdf\n",
      "18-Aug-22 16:37:04: File is current: wind_data/swe/swe_h0/1995/wi_h0_swe_19950603_v02.cdf\n",
      "18-Aug-22 16:37:05: File is current: wind_data/swe/swe_h0/1995/wi_h0_swe_19950604_v02.cdf\n",
      "18-Aug-22 16:37:05: File is current: wind_data/swe/swe_h0/1995/wi_h0_swe_19950605_v02.cdf\n",
      "18-Aug-22 16:37:05: File is current: wind_data/swe/swe_h0/1995/wi_h0_swe_19950606_v02.cdf\n",
      "18-Aug-22 16:37:06: File is current: wind_data/swe/swe_h0/1995/wi_h0_swe_19950607_v02.cdf\n",
      "18-Aug-22 16:37:06: File is current: wind_data/swe/swe_h0/1995/wi_h0_swe_19950608_v02.cdf\n",
      "18-Aug-22 16:37:06: File is current: wind_data/swe/swe_h0/1995/wi_h0_swe_19950609_v02.cdf\n",
      "18-Aug-22 16:37:07: File is current: wind_data/swe/swe_h0/1995/wi_h0_swe_19950610_v02.cdf\n",
      "18-Aug-22 16:37:07: File is current: wind_data/swe/swe_h0/1995/wi_h0_swe_19950611_v02.cdf\n",
      "18-Aug-22 16:37:08: File is current: wind_data/swe/swe_h0/1995/wi_h0_swe_19950612_v02.cdf\n",
      "18-Aug-22 16:37:08: File is current: wind_data/swe/swe_h0/1995/wi_h0_swe_19950613_v02.cdf\n",
      "18-Aug-22 16:37:08: File is current: wind_data/swe/swe_h0/1995/wi_h0_swe_19950614_v02.cdf\n",
      "18-Aug-22 16:37:09: File is current: wind_data/swe/swe_h0/1995/wi_h0_swe_19950615_v02.cdf\n",
      "18-Aug-22 16:37:09: File is current: wind_data/swe/swe_h0/1995/wi_h0_swe_19950616_v02.cdf\n",
      "18-Aug-22 16:37:10: File is current: wind_data/swe/swe_h0/1995/wi_h0_swe_19950617_v02.cdf\n",
      "18-Aug-22 16:37:10: File is current: wind_data/swe/swe_h0/1995/wi_h0_swe_19950618_v02.cdf\n",
      "18-Aug-22 16:37:11: File is current: wind_data/swe/swe_h0/1995/wi_h0_swe_19950619_v02.cdf\n",
      "18-Aug-22 16:37:12: File is current: wind_data/swe/swe_h0/1995/wi_h0_swe_19950620_v02.cdf\n",
      "18-Aug-22 16:37:13: File is current: wind_data/swe/swe_h0/1995/wi_h0_swe_19950621_v02.cdf\n",
      "18-Aug-22 16:37:14: File is current: wind_data/swe/swe_h0/1995/wi_h0_swe_19950622_v02.cdf\n",
      "18-Aug-22 16:37:14: File is current: wind_data/swe/swe_h0/1995/wi_h0_swe_19950623_v02.cdf\n",
      "18-Aug-22 16:37:15: File is current: wind_data/swe/swe_h0/1995/wi_h0_swe_19950624_v02.cdf\n",
      "18-Aug-22 16:37:15: File is current: wind_data/swe/swe_h0/1995/wi_h0_swe_19950625_v02.cdf\n",
      "18-Aug-22 16:37:15: File is current: wind_data/swe/swe_h0/1995/wi_h0_swe_19950626_v02.cdf\n",
      "18-Aug-22 16:37:17: Downloading remote index: https://spdf.gsfc.nasa.gov/pub/data/wind/swe/swe_k0/1995/\n",
      "18-Aug-22 16:37:17: File is current: wind_data/swe/swe_k0/1995/wi_k0_swe_19950601_v02.cdf\n",
      "18-Aug-22 16:37:18: File is current: wind_data/swe/swe_k0/1995/wi_k0_swe_19950602_v02.cdf\n",
      "18-Aug-22 16:37:18: File is current: wind_data/swe/swe_k0/1995/wi_k0_swe_19950603_v02.cdf\n",
      "18-Aug-22 16:37:18: File is current: wind_data/swe/swe_k0/1995/wi_k0_swe_19950604_v02.cdf\n",
      "18-Aug-22 16:37:19: File is current: wind_data/swe/swe_k0/1995/wi_k0_swe_19950605_v02.cdf\n",
      "18-Aug-22 16:37:19: File is current: wind_data/swe/swe_k0/1995/wi_k0_swe_19950606_v02.cdf\n",
      "18-Aug-22 16:37:20: File is current: wind_data/swe/swe_k0/1995/wi_k0_swe_19950607_v02.cdf\n",
      "18-Aug-22 16:37:20: File is current: wind_data/swe/swe_k0/1995/wi_k0_swe_19950608_v02.cdf\n",
      "18-Aug-22 16:37:21: File is current: wind_data/swe/swe_k0/1995/wi_k0_swe_19950609_v02.cdf\n",
      "18-Aug-22 16:37:21: File is current: wind_data/swe/swe_k0/1995/wi_k0_swe_19950610_v02.cdf\n",
      "18-Aug-22 16:37:21: File is current: wind_data/swe/swe_k0/1995/wi_k0_swe_19950611_v02.cdf\n",
      "18-Aug-22 16:37:22: File is current: wind_data/swe/swe_k0/1995/wi_k0_swe_19950612_v02.cdf\n",
      "18-Aug-22 16:37:22: File is current: wind_data/swe/swe_k0/1995/wi_k0_swe_19950613_v02.cdf\n",
      "18-Aug-22 16:37:23: File is current: wind_data/swe/swe_k0/1995/wi_k0_swe_19950614_v02.cdf\n",
      "18-Aug-22 16:37:23: File is current: wind_data/swe/swe_k0/1995/wi_k0_swe_19950615_v02.cdf\n",
      "18-Aug-22 16:37:23: File is current: wind_data/swe/swe_k0/1995/wi_k0_swe_19950616_v02.cdf\n",
      "18-Aug-22 16:37:24: File is current: wind_data/swe/swe_k0/1995/wi_k0_swe_19950617_v02.cdf\n",
      "18-Aug-22 16:37:24: File is current: wind_data/swe/swe_k0/1995/wi_k0_swe_19950618_v02.cdf\n",
      "18-Aug-22 16:37:24: File is current: wind_data/swe/swe_k0/1995/wi_k0_swe_19950619_v02.cdf\n",
      "18-Aug-22 16:37:25: File is current: wind_data/swe/swe_k0/1995/wi_k0_swe_19950620_v02.cdf\n",
      "18-Aug-22 16:37:25: File is current: wind_data/swe/swe_k0/1995/wi_k0_swe_19950621_v02.cdf\n",
      "18-Aug-22 16:37:26: File is current: wind_data/swe/swe_k0/1995/wi_k0_swe_19950622_v02.cdf\n",
      "18-Aug-22 16:37:26: File is current: wind_data/swe/swe_k0/1995/wi_k0_swe_19950623_v02.cdf\n",
      "18-Aug-22 16:37:26: File is current: wind_data/swe/swe_k0/1995/wi_k0_swe_19950624_v02.cdf\n",
      "18-Aug-22 16:37:27: File is current: wind_data/swe/swe_k0/1995/wi_k0_swe_19950625_v02.cdf\n",
      "18-Aug-22 16:37:28: File is current: wind_data/swe/swe_k0/1995/wi_k0_swe_19950626_v02.cdf\n"
     ]
    },
    {
     "data": {
      "text/plain": [
       "['SC_pos_gse',\n",
       " 'SC_pos_GSM',\n",
       " 'SC_pos_R',\n",
       " 'V_GSE',\n",
       " 'V_GSM',\n",
       " 'V_GSE_p',\n",
       " 'THERMAL_SPD',\n",
       " 'Np',\n",
       " 'Alpha_Percent']"
      ]
     },
     "execution_count": 25,
     "metadata": {},
     "output_type": "execute_result"
    }
   ],
   "source": [
    "wind.swe(trange=['1995-06-01', '1995-06-27'], datatype='h0')\n",
    "wind.swe(trange=['1995-06-01', '1995-06-27'], datatype='k0')"
   ]
  },
  {
   "cell_type": "code",
   "execution_count": 17,
   "id": "8b995ae3-c122-45d9-8cc4-aee362ed8b0b",
   "metadata": {},
   "outputs": [
    {
     "data": {
      "image/png": "[encoded data removed]",
      "text/plain": [
       "<Figure size 576x720 with 1 Axes>"
      ]
     },
     "metadata": {
      "needs_background": "light"
     },
     "output_type": "display_data"
    }
   ],
   "source": [
    "tplot('V_GSM')"
   ]
  },
  {
   "cell_type": "code",
   "execution_count": 18,
   "id": "cb4120f9-107b-4afa-a3f5-e8456fc5b55d",
   "metadata": {},
   "outputs": [],
   "source": [
    "pyspedas_data = get_data('Te')"
   ]
  },
  {
   "cell_type": "code",
   "execution_count": 19,
   "id": "1d435424-8c8a-41d0-bdad-b18bcf00aef5",
   "metadata": {},
   "outputs": [
    {
     "name": "stderr",
     "output_type": "stream",
     "text": [
      "18-Aug-22 10:24:20: /home/ayushmaan/.local/lib/python3.10/site-packages/pytplot/MPLPlotter/tplot.py:230: UserWarning: Attempted to set non-positive bottom ylim on a log-scaled axis.\n",
      "Invalid limit will be ignored.\n",
      "  this_axis.set_ylim(yrange)\n",
      "\n"
     ]
    },
    {
     "data": {
      "image/png": "[encoded data removed]",
      "text/plain": [
       "<Figure size 576x720 with 1 Axes>"
      ]
     },
     "metadata": {
      "needs_background": "light"
     },
     "output_type": "display_data"
    }
   ],
   "source": [
    "tplot('Te')"
   ]
  },
  {
   "cell_type": "code",
   "execution_count": 20,
   "id": "a13b973f-b4f2-4f8f-9ef0-3c7295bfff25",
   "metadata": {},
   "outputs": [
    {
     "data": {
      "image/png": "[encoded data removed]",
      "text/plain": [
       "<Figure size 600x400 with 1 Axes>"
      ]
     },
     "metadata": {
      "needs_background": "light"
     },
     "output_type": "display_data"
    }
   ],
   "source": [
    "time_te, raw_te = list(zip(*[data for data in filter(lambda lst: lst[1]<3e5 and lst[1]>0,zip(pyspedas_data.times,pyspedas_data.y))]))\n",
    "fig, ax = plt.subplots(dpi=100)\n",
    "ax.scatter(time_te,raw_te, s=1)\n",
    "#ax.scatter(time, te, s=1)\n",
    "fig.savefig(\"plots/figure.png\")"
   ]
  },
  {
   "cell_type": "raw",
   "id": "f99092d8-a6ba-43f8-ada1-43d4d8bcbccd",
   "metadata": {
    "tags": []
   },
   "source": [
    "pd.DataFrame(raw_te).describe()"
   ]
  },
  {
   "cell_type": "raw",
   "id": "eaee8bf9-5375-412f-a767-e725ab08171f",
   "metadata": {
    "tags": []
   },
   "source": [
    "pd.DataFrame([(raw_te[i+1]-raw_te[i])/raw_te[i] for i in range(len(raw_te)-1)]).describe()"
   ]
  },
  {
   "cell_type": "code",
   "execution_count": 21,
   "id": "5c3f878b-be2d-4e72-8497-0d9ab37e9f1b",
   "metadata": {},
   "outputs": [],
   "source": [
    "data = get_data(\"V_GSM\")\n",
    "raw_vsw = abs(data.y[:,0])\n",
    "time_vsw = data.times[:]"
   ]
  },
  {
   "cell_type": "code",
   "execution_count": 22,
   "id": "df3c8419-42d2-40e9-83ac-c4b83554bd2d",
   "metadata": {},
   "outputs": [],
   "source": [
    "time_vsw, raw_vsw = list(zip(*[data for data in filter(lambda lst: not np.isnan(lst[1]),zip(time_vsw,raw_vsw))]))\n"
   ]
  },
  {
   "cell_type": "code",
   "execution_count": 23,
   "id": "639e15fa-f67f-4624-a00a-df288c540e8c",
   "metadata": {},
   "outputs": [],
   "source": [
    "# plt.plot(data.times, (data.y[:,0]**2 + data.y[:,0]**2 +data.y[:,0]**2)**.5, label=\"V_GSM - sqrt(x^2 + y^2 + z^2)\")\n",
    "# plt.plot(data.times, abs(data.y[:,0]), label=\"V_GSM - abs(x)\")\n",
    "\n",
    "# plt.axhline(y=750, label=\"Fast Wind\", color='g')\n",
    "# plt.axhline(y=500, label=\"Slow Wind Maximum\", color='r')\n",
    "# plt.axhline(y=300, label=\"Slow Wind Minimum\", color='b')\n",
    "# plt.legend()\n",
    "# plt.title(\"Figuring out what to use for solar wind speed\")\n",
    "# plt.xlabel(\"Epoch Time (s)\")\n",
    "# plt.ylabel(\"Solar Wind Speed (km/s)\")\n",
    "# plt.savefig(\"plots/vsw_k0.png\")\n",
    "# print(len(data.times), 26*24*3600/len(data.times))"
   ]
  },
  {
   "cell_type": "code",
   "execution_count": 35,
   "id": "3bbe6d67-7ba2-4c1e-8ed0-ca7c47ec025c",
   "metadata": {
    "tags": []
   },
   "outputs": [],
   "source": [
    "vsw_folder = \"wind_data/3dp/3dp_ehpd/1995/\"\n",
    "\n",
    "vsw_data = [ vsw_folder+file for file in os.listdir(vsw_folder) if file.endswith(\".nc\")]\n",
    "vsw_data.sort()"
   ]
  },
  {
   "cell_type": "code",
   "execution_count": 26,
   "id": "f7954dae-4167-468a-b5a9-da969708b3f1",
   "metadata": {
    "tags": []
   },
   "outputs": [
    {
     "name": "stdout",
     "output_type": "stream",
     "text": [
      "Correced: data/solaris/1995-06/wi_wav_tnr_19950603.nc\n",
      "Correced: data/solaris/1995-06/wi_wav_tnr_19950604.nc\n",
      "Correced: data/solaris/1995-06/wi_wav_tnr_19950611.nc\n",
      "Correced: data/solaris/1995-06/wi_wav_tnr_19950618.nc\n",
      "Correced: data/solaris/1995-06/wi_wav_tnr_19950619.nc\n",
      "505726\n",
      "(505726, 64)\n"
     ]
    }
   ],
   "source": [
    "time = []\n",
    "freq = []\n",
    "spec = []\n",
    "time2 = []\n",
    "raw_fpe = []\n",
    "raw_electron_density = []\n",
    "for spectra_file_name, nn_file_name in combined_data:\n",
    "    date = spectra_file_name[32:-3]\n",
    "    date_epoch = int(datetime.datetime(int(date[0:4]), int(date[4:6]), int(date[6:8]), 0, 0, 0, \n",
    "                                       tzinfo=datetime.timezone.utc).timestamp())\n",
    "    \n",
    "    with nc.Dataset(spectra_file_name) as file:\n",
    "        temp_time = file[\"tnr_ch1_time\"][:]\n",
    "        temp_spec = file[\"tnr_ch1_spec\"][:]\n",
    "        if len(freq) == 0:\n",
    "            freq  = file[\"tnr_ch1_freq\"][:]\n",
    "    \n",
    "    with nc.Dataset(nn_file_name) as file:\n",
    "        temp_time2   = file[\"Time\"][:]\n",
    "        temp_raw_fpe = file[\"Plasma Frequency\"][:]\n",
    "        temp_dens    = file[\"Electron Density\"][:]\n",
    "        \n",
    "        # Found slight bug where the times over some days are shifted by 86400 seconds up\n",
    "        if temp_time2[10] >= 86400:\n",
    "            print(f\"Correced: {spectra_file_name}\")\n",
    "            temp_time2 = np.subtract(temp_time2, 86400)\n",
    "        temp_time2 = np.add(temp_time2, date_epoch)\n",
    "\n",
    "    if not temp_time[0] in time:\n",
    "        time.extend(temp_time)\n",
    "        spec.extend(np.transpose(temp_spec))\n",
    "        time2.extend(temp_time2)\n",
    "        raw_fpe.extend(temp_raw_fpe)\n",
    "        raw_electron_density.extend(temp_dens)\n",
    "        \n",
    "    else:\n",
    "        print(spectra_file_name)\n",
    "print(len(time))\n",
    "spec = [s[32:] for s in spec]\n",
    "print(np.shape(spec))"
   ]
  },
  {
   "cell_type": "code",
   "execution_count": 24,
   "id": "92e5a555-a058-45d1-8f59-f5b0aec2aeb5",
   "metadata": {},
   "outputs": [],
   "source": [
    "def remove_ac_band_gap(freq):\n",
    "    gap = freq[32] - freq[31]\n",
    "    freq[:32] = [num+gap for num in freq[:32]]\n",
    "    return freq"
   ]
  },
  {
   "cell_type": "markdown",
   "id": "0d31cf3f-ab30-4145-8ee7-93ea49ba1b63",
   "metadata": {
    "tags": []
   },
   "source": [
    "### Solaris and CDPP data"
   ]
  },
  {
   "cell_type": "code",
   "execution_count": 25,
   "id": "dfb6eefd-2ef8-4a84-8794-0bc8474d6b59",
   "metadata": {
    "tags": []
   },
   "outputs": [],
   "source": [
    "spectra_folder = \"data/solaris/1995-06/\"\n",
    "nn_folder = \"data/cdpp/34069/DA_TC_WIND_WAVES_TNR_L3_NN/\"\n",
    "\n",
    "spectra_data = [ spectra_folder+file for file in os.listdir(spectra_folder) if file.endswith(\".nc\")]\n",
    "nn_data = [ nn_folder+file for file in os.listdir(nn_folder) if file.endswith(\".nc\")]\n",
    "spectra_data.sort()\n",
    "nn_data.sort()\n",
    "combined_data = zip(spectra_data, nn_data)\n",
    "#print_lst(combined_data)"
   ]
  },
  {
   "cell_type": "code",
   "execution_count": 26,
   "id": "4fd25db8-350b-497c-930a-7cafd52832f9",
   "metadata": {
    "tags": []
   },
   "outputs": [
    {
     "name": "stdout",
     "output_type": "stream",
     "text": [
      "Correced: data/solaris/1995-06/wi_wav_tnr_19950603.nc\n",
      "Correced: data/solaris/1995-06/wi_wav_tnr_19950604.nc\n",
      "Correced: data/solaris/1995-06/wi_wav_tnr_19950611.nc\n",
      "Correced: data/solaris/1995-06/wi_wav_tnr_19950618.nc\n",
      "Correced: data/solaris/1995-06/wi_wav_tnr_19950619.nc\n",
      "505726\n",
      "(505726, 64)\n"
     ]
    }
   ],
   "source": [
    "time = []\n",
    "freq = []\n",
    "spec = []\n",
    "time2 = []\n",
    "raw_fpe = []\n",
    "raw_electron_density = []\n",
    "for spectra_file_name, nn_file_name in combined_data:\n",
    "    date = spectra_file_name[32:-3]\n",
    "    date_epoch = int(datetime.datetime(int(date[0:4]), int(date[4:6]), int(date[6:8]), 0, 0, 0, \n",
    "                                       tzinfo=datetime.timezone.utc).timestamp())\n",
    "    \n",
    "    with nc.Dataset(spectra_file_name) as file:\n",
    "        temp_time = file[\"tnr_ch1_time\"][:]\n",
    "        temp_spec = file[\"tnr_ch1_spec\"][:]\n",
    "        if len(freq) == 0:\n",
    "            freq  = file[\"tnr_ch1_freq\"][:]\n",
    "    \n",
    "    with nc.Dataset(nn_file_name) as file:\n",
    "        temp_time2   = file[\"Time\"][:]\n",
    "        temp_raw_fpe = file[\"Plasma Frequency\"][:]\n",
    "        temp_dens    = file[\"Electron Density\"][:]\n",
    "        \n",
    "        # Found slight bug where the times over some days are shifted by 86400 seconds up\n",
    "        if temp_time2[10] >= 86400:\n",
    "            print(f\"Correced: {spectra_file_name}\")\n",
    "            temp_time2 = np.subtract(temp_time2, 86400)\n",
    "        temp_time2 = np.add(temp_time2, date_epoch)\n",
    "\n",
    "    if not temp_time[0] in time:\n",
    "        time.extend(temp_time)\n",
    "        spec.extend(np.transpose(temp_spec))\n",
    "        time2.extend(temp_time2)\n",
    "        raw_fpe.extend(temp_raw_fpe)\n",
    "        raw_electron_density.extend(temp_dens)\n",
    "        \n",
    "    else:\n",
    "        print(spectra_file_name)\n",
    "print(len(time))\n",
    "spec = [s[32:] for s in spec]\n",
    "print(np.shape(spec))"
   ]
  },
  {
   "cell_type": "code",
   "execution_count": 27,
   "id": "5a3359a6-6872-4133-8cf1-aeae016159e7",
   "metadata": {
    "tags": []
   },
   "outputs": [],
   "source": [
    "# Increase memory efficiency\n",
    "time2, raw_fpe, raw_electron_density = list(zip(*[d for d in zip(time2, raw_fpe, raw_electron_density) if d[1]>1]))\n",
    "\n",
    "fpe = [raw_fpe[reduced_time_closest_time(t, time2)] for t in time]\n",
    "electron_density = [raw_electron_density[reduced_time_closest_time(t, time2)] \n",
    "                    for t in time]\n",
    "\n",
    "vsw = [raw_vsw[reduced_time_closest_time(t, time_vsw)] for t in time]\n",
    "te = [raw_te[reduced_time_closest_time(t, time_te)] for t in time]\n",
    "#plt.plot(raw_fpe)"
   ]
  },
  {
   "cell_type": "code",
   "execution_count": 28,
   "id": "ff408efa-b385-4a5d-9e4e-dd2ddff92713",
   "metadata": {
    "tags": []
   },
   "outputs": [
    {
     "name": "stdout",
     "output_type": "stream",
     "text": [
      "(505726,) (505726, 64) (505726,) (505726,) (505726,)\n"
     ]
    }
   ],
   "source": [
    "print(np.shape(time), np.shape(spec), np.shape(fpe), np.shape(electron_density), np.shape(te))\n",
    "data_v1 = list(zip(time, spec, fpe, electron_density, te, vsw))"
   ]
  },
  {
   "cell_type": "markdown",
   "id": "3383afe8-b34f-4e16-afe8-50010e85b739",
   "metadata": {
    "tags": []
   },
   "source": [
    "## Randomizing and sorting data"
   ]
  },
  {
   "cell_type": "code",
   "execution_count": 29,
   "id": "6b6ccaa6-a5ac-4d90-83ad-0fb4f1562c72",
   "metadata": {
    "tags": []
   },
   "outputs": [],
   "source": [
    "random.seed(10)\n",
    "random_index = list(range(len(data_v1)))\n",
    "random.shuffle(random_index)\n",
    "data_v3 = [data_v1[i] for i in random_index]    "
   ]
  },
  {
   "cell_type": "code",
   "execution_count": 30,
   "id": "2d5e225d-44b2-4fbb-9de9-e541281c4b90",
   "metadata": {},
   "outputs": [
    {
     "name": "stderr",
     "output_type": "stream",
     "text": [
      "18-Aug-22 10:24:34: /home/ayushmaan/.local/lib/python3.10/site-packages/numpy/core/fromnumeric.py:2007: VisibleDeprecationWarning: Creating an ndarray from ragged nested sequences (which is a list-or-tuple of lists-or-tuples-or ndarrays with different lengths or shapes) is deprecated. If you meant to do this, you must specify 'dtype=object' when creating the ndarray.\n",
      "  result = asarray(a).shape\n",
      "\n"
     ]
    },
    {
     "name": "stdout",
     "output_type": "stream",
     "text": [
      "(455153, 6)\n",
      "Done with creating trainning data\n",
      "Done sorting\n",
      "Done with creating test data\n"
     ]
    }
   ],
   "source": [
    "max_y = 50 #max([d[2] for d in data_v3])\n",
    "s = int(len(data_v3)*.9//1)\n",
    "print(np.shape(data_v3[:s]))\n",
    "\n",
    "\n",
    "# Takes the training section of the data and unzips the test and training data\n",
    "train_x_data     = np.array([d[1] for d in data_v3[:s]])\n",
    "train_y_data     = np.array([d[2]/max_y for d in data_v3[:s]])\n",
    "train_y_data_ed  = np.array([d[3] for d in data_v3[:s]])\n",
    "train_y_data_te  =  np.array([d[4] for d in data_v3[:s]])\n",
    "train_y_data_vsw =  np.array([d[5] for d in data_v3[:s]])\n",
    "print(\"Done with creating trainning data\")\n",
    "\n",
    "# Sorts test data so we could use that sorted data to make nice graphs at the end\n",
    "test_sorted = data_v3[s:]\n",
    "test_sorted.sort(key=lambda x: x[0])\n",
    "print(\"Done sorting\")\n",
    "\n",
    "test_time_sorted = np.array([d[0] for d in test_sorted])\n",
    "test_x_sorted    = np.array([d[1] for d in test_sorted])\n",
    "test_y_sorted    = np.array([d[2]/max_y for d in test_sorted])\n",
    "test_y_sorted_ed = np.array([d[3] for d in test_sorted])\n",
    "test_y_sorted_te =  np.array([d[4] for d in test_sorted])\n",
    "test_y_sorted_vsw =  np.array([d[5] for d in test_sorted])\n",
    "\n",
    "print(\"Done with creating test data\")"
   ]
  },
  {
   "cell_type": "code",
   "execution_count": 31,
   "id": "985a164a-89a0-445b-a75c-fd9e34b8f818",
   "metadata": {},
   "outputs": [
    {
     "name": "stdout",
     "output_type": "stream",
     "text": [
      "                  train_x_data: 222.2 MiB\n",
      "                 test_x_sorted: 24.7 MiB\n",
      "                          time:  4.3 MiB\n",
      "                          spec:  4.0 MiB\n",
      "                           fpe:  4.0 MiB\n",
      "              electron_density:  4.0 MiB\n",
      "                           vsw:  4.0 MiB\n",
      "                            te:  4.0 MiB\n",
      "                       data_v1:  4.0 MiB\n",
      "                       data_v3:  4.0 MiB\n"
     ]
    }
   ],
   "source": [
    "for name, size in sorted(((name, sys.getsizeof(value)) for name, value in locals().items()),\n",
    "                         key= lambda x: -x[1])[:10]:\n",
    "    print(\"{:>30}: {:>8}\".format(name, sizeof_fmt(size)))\n"
   ]
  },
  {
   "cell_type": "code",
   "execution_count": 32,
   "id": "678b01d7-4049-4f4a-9998-95160d3a374f",
   "metadata": {},
   "outputs": [],
   "source": [
    "data_dic = {}\n",
    "data_dic[\"freq\"]             = freq\n",
    "data_dic[\"max_y\"]            = max_y\n",
    "data_dic[\"train_x_data\"]     = train_x_data\n",
    "data_dic[\"train_y_data\"]     = train_y_data\n",
    "data_dic[\"train_y_data_ed\"]  = train_y_data_ed\n",
    "data_dic[\"train_y_data_te\"]  = train_y_data_te\n",
    "data_dic[\"train_y_data_vsw\"]  = train_y_data_vsw\n",
    "data_dic[\"test_time_sorted\"] = test_time_sorted\n",
    "data_dic[\"test_x_sorted\"]    = test_x_sorted\n",
    "data_dic[\"test_y_sorted\"]    = test_y_sorted\n",
    "data_dic[\"test_y_sorted_ed\"] = test_y_sorted_ed\n",
    "data_dic[\"test_y_sorted_te\"] = test_y_sorted_te\n",
    "data_dic[\"test_y_sorted_vsw\"] = test_y_sorted_vsw"
   ]
  },
  {
   "cell_type": "code",
   "execution_count": 33,
   "id": "561b92a4-aa71-44e7-9ceb-649eeaffe020",
   "metadata": {},
   "outputs": [],
   "source": [
    "with open(\"data/pickle/data_fpe\", 'wb') as file:\n",
    "    pickle.dump(data_dic, file=file)"
   ]
  },
  {
   "cell_type": "code",
   "execution_count": null,
   "id": "da7c170a-6c5c-4544-9152-778abc60b3f8",
   "metadata": {},
   "outputs": [],
   "source": []
  }
 ],
 "metadata": {
  "kernelspec": {
   "display_name": "Python 3 (ipykernel)",
   "language": "python",
   "name": "python3"
  },
  "language_info": {
   "codemirror_mode": {
    "name": "ipython",
    "version": 3
   },
   "file_extension": ".py",
   "mimetype": "text/x-python",
   "name": "python",
   "nbconvert_exporter": "python",
   "pygments_lexer": "ipython3",
   "version": "3.10.6"
  }
 },
 "nbformat": 4,
 "nbformat_minor": 5
}
