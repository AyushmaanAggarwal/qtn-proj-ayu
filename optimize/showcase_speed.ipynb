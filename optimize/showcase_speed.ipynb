{
 "cells": [
  {
   "cell_type": "code",
   "execution_count": 1,
   "metadata": {
    "collapsed": false
   },
   "outputs": [],
   "source": [
    "from qtn.bimax import BiMax\n",
    "from qtn.new_bimax import new_BiMax\n",
    "from qtn.new_bimax_sp import new_BiMax_sp\n",
    "from qtn.bimax_util import do_cprofile\n",
    "import numpy as np\n",
    "from sympy.mpmath import mp,fp\n",
    "import matplotlib.pyplot as plt\n",
    "%matplotlib inline"
   ]
  },
  {
   "cell_type": "code",
   "execution_count": 2,
   "metadata": {
    "collapsed": false
   },
   "outputs": [
    {
     "name": "stdout",
     "output_type": "stream",
     "text": [
      "3.8e-06\n"
     ]
    }
   ],
   "source": [
    "ant_len = 50      # m (monopole) \n",
    "ant_rad = 1.9e-4  # m\n",
    "base_cap = 20e-12 # Farad\n",
    "al_ratio = ant_rad / ant_len\n",
    "print(al_ratio)"
   ]
  },
  {
   "cell_type": "code",
   "execution_count": 3,
   "metadata": {
    "collapsed": false
   },
   "outputs": [],
   "source": [
    "p1 = BiMax(ant_len, ant_rad, base_cap)\n",
    "p2 = new_BiMax(ant_len, ant_rad, base_cap)\n",
    "p3 = new_BiMax_sp(ant_len, ant_rad, base_cap)"
   ]
  },
  {
   "cell_type": "code",
   "execution_count": 28,
   "metadata": {
    "collapsed": true
   },
   "outputs": [],
   "source": [
    "@do_cprofile\n",
    "def pw_1(wc, l, n, t, tc):\n",
    "    mp.dps = 20\n",
    "    result = p1.za_l(wc, l, n, t, tc)\n",
    "    mp.dps = 15\n",
    "    return result\n",
    "\n",
    "@do_cprofile\n",
    "def pw_2(wc, l, n, t, tc):\n",
    "    return p2.za_l(wc, l, n, t, tc)\n",
    "\n",
    "@do_cprofile\n",
    "def pw_3(wc, l, n, t, tc):\n",
    "    return p3.za_l_sp(wc, l, n, t, tc)"
   ]
  },
  {
   "cell_type": "code",
   "execution_count": 29,
   "metadata": {
    "collapsed": true
   },
   "outputs": [],
   "source": [
    "z, wrel, l, n, t , tc= 5, 0.8, 4, 0, 10, 1\n",
    "wc = wrel * np.sqrt(1 + n)"
   ]
  },
  {
   "cell_type": "code",
   "execution_count": 30,
   "metadata": {
    "collapsed": false
   },
   "outputs": [
    {
     "name": "stdout",
     "output_type": "stream",
     "text": [
      "         1333868 function calls (1330588 primitive calls) in 1.341 seconds\n",
      "\n",
      "   Ordered by: internal time\n",
      "   List reduced from 205 to 50 due to restriction <50>\n",
      "\n",
      "   ncalls  tottime  percall  cumtime  percall filename:lineno(function)\n",
      "   147714    0.064    0.000    0.088    0.000 {built-in method hasattr}\n",
      "    18043    0.050    0.000    0.329    0.000 ctx_mp_python.py:982(f)\n",
      "    51112    0.045    0.000    0.063    0.000 libmpf.py:824(gmpy_mpf_mul)\n",
      "29308/28393    0.044    0.000    0.133    0.000 <string>:2(__mul__)\n",
      "    28668    0.038    0.000    0.083    0.000 ctx_mp_python.py:621(convert)\n",
      "   118465    0.037    0.000    0.037    0.000 {built-in method _mpmath_normalize}\n",
      "    35982    0.031    0.000    0.038    0.000 ctx_mp_python.py:595(make_mpf)\n",
      "      915    0.031    0.000    1.304    0.001 bimax.py:90(za_l_integrand)\n",
      "     1830    0.030    0.000    0.876    0.000 util.py:99(zp)\n",
      "     4152    0.028    0.000    0.028    0.000 libelefun.py:1086(exp_basecase)\n",
      "      720    0.026    0.000    0.346    0.000 hypergeometric.py:58(hypercomb)\n",
      "    15623    0.026    0.000    0.037    0.000 libmpf.py:924(mpf_div)\n",
      "     2563    0.025    0.000    0.083    0.000 ctx_mp.py:646(hypsum)\n",
      "     8053    0.025    0.000    0.037    0.000 libmpf.py:1338(mpf_sqrt)\n",
      "     1123    0.023    0.000    0.024    0.000 <string>:1(hypsum_1_1_Q_Q_R)\n",
      "   123515    0.023    0.000    0.023    0.000 {built-in method __new__ of type object at 0x108f610f0}\n",
      "10396/10386    0.021    0.000    0.028    0.000 libmpf.py:1016(mpf_pow_int)\n",
      "    61638    0.021    0.000    0.021    0.000 {built-in method isinstance}\n",
      "3270/1830    0.020    0.000    0.481    0.000 hypergeometric.py:194(hyper)\n",
      "    12347    0.020    0.000    0.032    0.000 libelefun.py:114(f)\n",
      "    13274    0.019    0.000    0.024    0.000 libmpf.py:676(mpf_add)\n",
      "     1830    0.017    0.000    0.439    0.000 hypergeometric.py:310(_hyp1f1)\n",
      "     1170    0.017    0.000    0.018    0.000 libhyper.py:713(mpf_ci_si_taylor)\n",
      "    10386    0.015    0.000    0.060    0.000 <string>:2(__pow__)\n",
      "     8703    0.015    0.000    0.038    0.000 ctx_mp_python.py:610(_set_prec)\n",
      "     1830    0.015    0.000    0.590    0.000 expintegrals.py:66(erfi)\n",
      "     6540    0.015    0.000    0.037    0.000 ctx_mp_python.py:1025(_convert_param)\n",
      "     1830    0.014    0.000    0.061    0.000 libhyper.py:761(mpf_ci_si)\n",
      "    30605    0.014    0.000    0.014    0.000 {built-in method _mpmath_create}\n",
      "     4380    0.014    0.000    0.048    0.000 libelefun.py:1151(mpf_exp)\n",
      "     7341    0.014    0.000    0.030    0.000 ctx_mp_python.py:47(__new__)\n",
      "    95492    0.013    0.000    0.013    0.000 {built-in method bit_length}\n",
      "     1575    0.013    0.000    0.014    0.000 libelefun.py:1122(cos_sin_basecase)\n",
      "    23437    0.013    0.000    0.013    0.000 {built-in method divmod}\n",
      "     6566    0.013    0.000    0.017    0.000 ctx_mp.py:1093(nint_distance)\n",
      "     6415    0.012    0.000    0.018    0.000 libmpf.py:410(from_float)\n",
      "     1830    0.012    0.000    0.939    0.001 util.py:107(zpd)\n",
      "     8703    0.012    0.000    0.019    0.000 libmpf.py:59(prec_to_dps)\n",
      "     4382    0.011    0.000    0.039    0.000 ctx_mp_python.py:491(__mul__)\n",
      "      915    0.011    0.000    0.144    0.000 util.py:135(f1)\n",
      "     2854    0.010    0.000    0.021    0.000 gammazeta.py:1909(mpf_gamma)\n",
      "     6408    0.010    0.000    0.029    0.000 <string>:2(__add__)\n",
      "6422/5507    0.010    0.000    0.049    0.000 <string>:2(__div__)\n",
      "    11513    0.010    0.000    0.035    0.000 libmpc.py:173(mpc_mul_mpf)\n",
      "     1830    0.010    0.000    0.627    0.000 ctx_mp_python.py:1010(f_wrapped)\n",
      "    27962    0.010    0.000    0.010    0.000 {built-in method max}\n",
      "    17323    0.009    0.000    0.009    0.000 libelefun.py:94(g)\n",
      "    18353    0.009    0.000    0.015    0.000 libmpf.py:627(mpf_pos)\n",
      "      915    0.009    0.000    1.018    0.001 bimax.py:17(d_l)\n",
      "      720    0.009    0.000    0.018    0.000 hypergeometric.py:4(_check_need_perturb)\n",
      "\n",
      "\n"
     ]
    },
    {
     "data": {
      "text/plain": [
       "mpc(real='861878.95651100366', imag='31197483.989992094')"
      ]
     },
     "execution_count": 30,
     "metadata": {},
     "output_type": "execute_result"
    }
   ],
   "source": [
    "pw_1(wc, l, n, t, tc)"
   ]
  },
  {
   "cell_type": "code",
   "execution_count": 23,
   "metadata": {
    "collapsed": false
   },
   "outputs": [
    {
     "name": "stdout",
     "output_type": "stream",
     "text": [
      "         505747 function calls (504405 primitive calls) in 0.473 seconds\n",
      "\n",
      "   Ordered by: internal time\n",
      "   List reduced from 213 to 50 due to restriction <50>\n",
      "\n",
      "   ncalls  tottime  percall  cumtime  percall filename:lineno(function)\n",
      "    13422    0.021    0.000    0.051    0.000 ctx_mp_python.py:621(convert)\n",
      "    42570    0.017    0.000    0.021    0.000 {built-in method hasattr}\n",
      "     1764    0.013    0.000    0.017    0.000 math2.py:503(ei_asymp)\n",
      "      374    0.012    0.000    0.148    0.000 hypergeometric.py:58(hypercomb)\n",
      "    14603    0.012    0.000    0.016    0.000 libmpf.py:824(gmpy_mpf_mul)\n",
      "     7670    0.012    0.000    0.032    0.000 <string>:2(__mul__)\n",
      "     1126    0.011    0.000    0.033    0.000 ctx_mp.py:646(hypsum)\n",
      "    13423    0.011    0.000    0.013    0.000 ctx_mp_python.py:595(make_mpf)\n",
      "1849/1191    0.010    0.000    0.204    0.000 hypergeometric.py:194(hyper)\n",
      "      407    0.010    0.000    0.348    0.001 bimax_util.py:135(d_l)\n",
      "    31761    0.009    0.000    0.009    0.000 {built-in method isinstance}\n",
      "      506    0.009    0.000    0.009    0.000 <string>:1(hypsum_1_1_Q_Q_R)\n",
      "     1270    0.008    0.000    0.055    0.000 expintegrals.py:358(_si_generic)\n",
      "    28269    0.008    0.000    0.008    0.000 {built-in method _mpmath_normalize}\n",
      "     2670    0.008    0.000    0.047    0.000 ctx_mp_python.py:982(f)\n",
      "     1914    0.007    0.000    0.028    0.000 math2.py:551(ei)\n",
      "     4503    0.007    0.000    0.010    0.000 libmpf.py:410(from_float)\n",
      "      814    0.007    0.000    0.176    0.000 hypergeometric.py:310(_hyp1f1)\n",
      "      407    0.007    0.000    0.416    0.001 new_bimax.py:175(integrand_za)\n",
      "      407    0.007    0.000    0.044    0.000 new_bimax.py:184(integrand_za_small_arg)\n",
      "     4076    0.006    0.000    0.052    0.000 ctx_mp_python.py:548(__rmul__)\n",
      "      814    0.006    0.000    0.241    0.000 expintegrals.py:66(erfi)\n",
      "     3796    0.006    0.000    0.015    0.000 ctx_mp_python.py:610(_set_prec)\n",
      "     2868    0.006    0.000    0.015    0.000 ctx_mp_python.py:1025(_convert_param)\n",
      "      814    0.006    0.000    0.292    0.000 bimax_util.py:50(zp)\n",
      "    34218    0.006    0.000    0.006    0.000 {built-in method __new__ of type object at 0x108f610f0}\n",
      "     4226    0.006    0.000    0.008    0.000 libmpf.py:924(mpf_div)\n",
      "     2872    0.005    0.000    0.007    0.000 ctx_mp.py:1093(nint_distance)\n",
      "     3796    0.005    0.000    0.008    0.000 libmpf.py:59(prec_to_dps)\n",
      "     3700    0.005    0.000    0.006    0.000 libmpf.py:676(mpf_add)\n",
      "      814    0.005    0.000    0.070    0.000 bimax_util.py:102(f1)\n",
      "     1236    0.004    0.000    0.008    0.000 gammazeta.py:1909(mpf_gamma)\n",
      "      374    0.004    0.000    0.008    0.000 hypergeometric.py:4(_check_need_perturb)\n",
      "     4940    0.004    0.000    0.004    0.000 ctx_fp.py:110(convert)\n",
      "     1270    0.004    0.000    0.064    0.000 expintegrals.py:351(si)\n",
      "     9118    0.004    0.000    0.004    0.000 {built-in method _mpmath_create}\n",
      "      814    0.004    0.000    0.261    0.000 ctx_mp_python.py:1010(f_wrapped)\n",
      "    36545    0.004    0.000    0.004    0.000 {built-in method abs}\n",
      "     1133    0.004    0.000    0.005    0.000 libmpf.py:1338(mpf_sqrt)\n",
      "      618    0.004    0.000    0.019    0.000 ctx_mp.py:1191(fprod)\n",
      "    25029    0.003    0.000    0.003    0.000 {built-in method bit_length}\n",
      "     5528    0.003    0.000    0.029    0.000 ctx_mp_python.py:432(mpc_convert_lhs)\n",
      "     3883    0.003    0.000    0.011    0.000 libmpc.py:173(mpc_mul_mpf)\n",
      "     1936    0.003    0.000    0.005    0.000 libelefun.py:114(f)\n",
      "      310    0.003    0.000    0.019    0.000 hypergeometric.py:326(h)\n",
      "      310    0.003    0.000    0.003    0.000 <string>:1(hypsum_2_0_ZQ__R)\n",
      "      814    0.003    0.000    0.319    0.000 bimax_util.py:68(zpd)\n",
      "     8380    0.003    0.000    0.003    0.000 libmpf.py:330(from_int)\n",
      "      396    0.003    0.000    0.003    0.000 ctx_fp.py:199(hypsum)\n",
      "     9415    0.003    0.000    0.003    0.000 {built-in method max}\n",
      "\n",
      "\n"
     ]
    },
    {
     "data": {
      "text/plain": [
       "mpc(real='861878.94874198653', imag='31227472.801959384')"
      ]
     },
     "execution_count": 23,
     "metadata": {},
     "output_type": "execute_result"
    }
   ],
   "source": [
    "pw_2(wc, l, n, t, tc)"
   ]
  },
  {
   "cell_type": "code",
   "execution_count": 24,
   "metadata": {
    "collapsed": false
   },
   "outputs": [
    {
     "name": "stdout",
     "output_type": "stream",
     "text": [
      "         7272 function calls in 0.041 seconds\n",
      "\n",
      "   Ordered by: internal time\n",
      "\n",
      "   ncalls  tottime  percall  cumtime  percall filename:lineno(function)\n",
      "      814    0.010    0.000    0.010    0.000 bimax_util.py:94(f1_sp)\n",
      "      814    0.009    0.000    0.009    0.000 bimax_util.py:59(zp_sp)\n",
      "      407    0.007    0.000    0.012    0.000 new_bimax_sp.py:192(integrand_za_small_arg_sp)\n",
      "      407    0.004    0.000    0.015    0.000 bimax_util.py:146(d_l_sp)\n",
      "      407    0.003    0.000    0.025    0.000 new_bimax_sp.py:183(integrand_za_sp)\n",
      "      814    0.003    0.000    0.011    0.000 bimax_util.py:75(zpd_sp)\n",
      "      814    0.001    0.000    0.001    0.000 bimax_util.py:124(j02_sp)\n",
      "      826    0.001    0.000    0.039    0.000 ctx_base.py:111(<genexpr>)\n",
      "      826    0.001    0.000    0.038    0.000 quadrature.py:304(<genexpr>)\n",
      "       12    0.000    0.000    0.039    0.003 {built-in method sum}\n",
      "      407    0.000    0.000    0.025    0.000 new_bimax_sp.py:216(<lambda>)\n",
      "      407    0.000    0.000    0.012    0.000 new_bimax_sp.py:211(<lambda>)\n",
      "       18    0.000    0.000    0.000    0.000 functions.py:284(log)\n",
      "       10    0.000    0.000    0.001    0.000 quadrature.py:174(estimate_error)\n",
      "        2    0.000    0.000    0.040    0.020 quadrature.py:203(summation)\n",
      "       36    0.000    0.000    0.000    0.000 math2.py:54(f)\n",
      "       12    0.000    0.000    0.040    0.003 quadrature.py:291(sum_next)\n",
      "        1    0.000    0.000    0.041    0.041 new_bimax_sp.py:160(za_l_sp)\n",
      "        2    0.000    0.000    0.041    0.020 quadrature.py:462(quad)\n",
      "       72    0.000    0.000    0.000    0.000 math2.py:56(<genexpr>)\n",
      "       12    0.000    0.000    0.040    0.003 ctx_base.py:104(fdot)\n",
      "       12    0.000    0.000    0.000    0.000 quadrature.py:43(get_nodes)\n",
      "       36    0.000    0.000    0.000    0.000 {built-in method log}\n",
      "       10    0.000    0.000    0.000    0.000 {built-in method max}\n",
      "        2    0.000    0.000    0.000    0.000 quadrature.py:136(guess_degree)\n",
      "        1    0.000    0.000    0.041    0.041 <ipython-input-20-909d42aa3f46>:9(pw_3)\n",
      "       18    0.000    0.000    0.000    0.000 {built-in method abs}\n",
      "       12    0.000    0.000    0.000    0.000 {method 'append' of 'list' objects}\n",
      "        8    0.000    0.000    0.000    0.000 {method 'get' of 'dict' objects}\n",
      "       14    0.000    0.000    0.000    0.000 {built-in method len}\n",
      "       22    0.000    0.000    0.000    0.000 ctx_fp.py:32(_get_prec)\n",
      "        2    0.000    0.000    0.000    0.000 quadrature.py:739(<listcomp>)\n",
      "        8    0.000    0.000    0.000    0.000 {built-in method min}\n",
      "        4    0.000    0.000    0.000    0.000 ctx_fp.py:33(_set_prec)\n",
      "        2    0.000    0.000    0.000    0.000 ctx_base.py:77(_as_points)\n",
      "        1    0.000    0.000    0.000    0.000 {method 'disable' of '_lsprof.Profiler' objects}\n",
      "\n",
      "\n"
     ]
    },
    {
     "data": {
      "text/plain": [
       "(861878.94869821798+31224682.597976848j)"
      ]
     },
     "execution_count": 24,
     "metadata": {},
     "output_type": "execute_result"
    }
   ],
   "source": [
    "pw_3(wc, l, n, t, tc)"
   ]
  },
  {
   "cell_type": "code",
   "execution_count": 33,
   "metadata": {
    "collapsed": true
   },
   "outputs": [],
   "source": [
    "wrel_arr = np.array([0.1, 0.5, 0.6, 0.8, 0.9, 0.95, 1.01, 1.03, \\\n",
    "                         1.05, 1.08, 1.1, 1.2, 1.3, 1.5, \\\n",
    "                         1.7, 2.0, 2.3, 2.6, 3.0, 4, 6])"
   ]
  },
  {
   "cell_type": "code",
   "execution_count": 35,
   "metadata": {
    "collapsed": false
   },
   "outputs": [],
   "source": [
    "@do_cprofile\n",
    "def pw_3(wrel, l, n, t , tc):\n",
    "\n",
    "    return np.array([p3.new_bimax_sp(wrel, l, n, t, tc) for wrel in wrel_arr])\n"
   ]
  },
  {
   "cell_type": "code",
   "execution_count": 58,
   "metadata": {
    "collapsed": false
   },
   "outputs": [],
   "source": [
    "wrel, l, n, t , tc= 0.8, 4, 0.15, 5, 1\n",
    "wc = wrel * np.sqrt(1 + n)"
   ]
  },
  {
   "cell_type": "code",
   "execution_count": 59,
   "metadata": {
    "collapsed": false
   },
   "outputs": [
    {
     "name": "stdout",
     "output_type": "stream",
     "text": [
      "guess =  10.8707736385\n",
      "z0 =  10.9947773674 d_l.real =  2.209343819e-14\n",
      "dl_imag =  1.70416244748e-09\n",
      "guess =  6.49503561431\n",
      "z0 =  6.82592377888 d_l.real =  -2.35367281221e-14\n",
      "dl_imag =  0.0011125414218\n",
      "direct evaluating integral when peak is small\n",
      "guess =  3.00023985567\n",
      "z0 =  5.60688795479 d_l.real =  -4.21884749358e-15\n",
      "dl_imag =  0.012295056526\n",
      "direct evaluating integral when peak is small\n",
      "guess =  2.81180154955\n",
      "z0 =  4.30323336896 d_l.real =  5.88418203051e-15\n",
      "dl_imag =  0.0696073769337\n",
      "direct evaluating integral when peak is small\n",
      "guess =  2.72372311818\n",
      "z0 =  3.06014932925 d_l.real =  2.22044604925e-15\n",
      "dl_imag =  0.156777481596\n",
      "direct evaluating integral when peak is small\n",
      "guess =  2.50411368868\n",
      "z0 =  2.00316797944 d_l.real =  0.0126933026947\n",
      "dl_imag =  0.414645136046\n",
      "direct evaluating integral when peak is small\n",
      "         83270 function calls in 0.418 seconds\n",
      "\n",
      "   Ordered by: internal time\n",
      "   List reduced from 123 to 50 due to restriction <50>\n",
      "\n",
      "   ncalls  tottime  percall  cumtime  percall filename:lineno(function)\n",
      "    20484    0.127    0.000    0.127    0.000 bimax_util.py:59(zp_sp)\n",
      "    10149    0.099    0.000    0.395    0.000 new_bimax_sp.py:21(bimax_integrand_sp)\n",
      "    10150    0.075    0.000    0.075    0.000 bimax_util.py:94(f1_sp)\n",
      "    10239    0.056    0.000    0.225    0.000 bimax_util.py:146(d_l_sp)\n",
      "    20480    0.043    0.000    0.169    0.000 bimax_util.py:75(zpd_sp)\n",
      "       21    0.005    0.000    0.278    0.013 {built-in method _qagie}\n",
      "     6285    0.003    0.000    0.242    0.000 new_bimax_sp.py:95(<lambda>)\n",
      "        6    0.003    0.000    0.131    0.022 {built-in method _qagse}\n",
      "     2163    0.002    0.000    0.095    0.000 new_bimax_sp.py:126(<lambda>)\n",
      "      861    0.000    0.000    0.033    0.000 new_bimax_sp.py:139(<lambda>)\n",
      "        2    0.000    0.000    0.001    0.000 socket.py:289(send_multipart)\n",
      "       21    0.000    0.000    0.418    0.020 new_bimax_sp.py:72(new_bimax_sp)\n",
      "      107    0.000    0.000    0.002    0.000 iostream.py:207(write)\n",
      "      615    0.000    0.000    0.023    0.000 new_bimax_sp.py:127(<lambda>)\n",
      "        6    0.000    0.000    0.005    0.001 minpack.py:151(_root_hybr)\n",
      "        6    0.000    0.000    0.003    0.001 {built-in method _hybrd}\n",
      "       23    0.000    0.000    0.002    0.000 {built-in method print}\n",
      "       27    0.000    0.000    0.410    0.015 quadpack.py:42(quad)\n",
      "        1    0.000    0.000    0.418    0.418 <ipython-input-35-a33a9ff984fb>:4(<listcomp>)\n",
      "        6    0.000    0.000    0.007    0.001 new_bimax_sp.py:45(peak_sp)\n",
      "      225    0.000    0.000    0.008    0.000 new_bimax_sp.py:140(<lambda>)\n",
      "       27    0.000    0.000    0.409    0.015 quadpack.py:358(_quad)\n",
      "       14    0.000    0.000    0.000    0.000 {method 'send' of 'zmq.backend.cython.socket.Socket' objects}\n",
      "        6    0.000    0.000    0.005    0.001 minpack.py:41(fsolve)\n",
      "        6    0.000    0.000    0.001    0.000 minpack.py:18(_check_func)\n",
      "      109    0.000    0.000    0.000    0.000 iostream.py:102(_check_mp_mode)\n",
      "        8    0.000    0.000    0.000    0.000 encoder.py:197(iterencode)\n",
      "      111    0.000    0.000    0.000    0.000 iostream.py:93(_is_master_process)\n",
      "      194    0.000    0.000    0.000    0.000 {built-in method isinstance}\n",
      "       77    0.000    0.000    0.004    0.000 new_bimax_sp.py:65(<lambda>)\n",
      "       52    0.000    0.000    0.000    0.000 {method 'sub' of '_sre.SRE_Pattern' objects}\n",
      "       13    0.000    0.000    0.000    0.000 {built-in method array}\n",
      "        2    0.000    0.000    0.001    0.001 session.py:600(send)\n",
      "        6    0.000    0.000    0.000    0.000 shape_base.py:8(atleast_1d)\n",
      "       52    0.000    0.000    0.000    0.000 encoder.py:33(encode_basestring)\n",
      "        1    0.000    0.000    0.000    0.000 {built-in method warn}\n",
      "        2    0.000    0.000    0.000    0.000 {zmq.backend.cython._poll.zmq_poll}\n",
      "        6    0.000    0.000    0.000    0.000 {method 'flatten' of 'numpy.ndarray' objects}\n",
      "        8    0.000    0.000    0.000    0.000 __init__.py:182(dumps)\n",
      "        2    0.000    0.000    0.000    0.000 attrsettr.py:35(__getattr__)\n",
      "        8    0.000    0.000    0.000    0.000 {method 'get' of 'dict' objects}\n",
      "        2    0.000    0.000    0.001    0.001 iostream.py:151(flush)\n",
      "        6    0.000    0.000    0.000    0.000 bimax_util.py:198(z_b)\n",
      "      107    0.000    0.000    0.000    0.000 {method 'write' of '_io.StringIO' objects}\n",
      "        8    0.000    0.000    0.000    0.000 jsonapi.py:31(dumps)\n",
      "       26    0.000    0.000    0.000    0.000 traitlets.py:420(__get__)\n",
      "        6    0.000    0.000    0.000    0.000 numerictypes.py:736(issubdtype)\n",
      "        2    0.000    0.000    0.000    0.000 session.py:541(serialize)\n",
      "        8    0.000    0.000    0.000    0.000 encoder.py:175(encode)\n",
      "        2    0.000    0.000    0.000    0.000 uuid.py:596(uuid4)\n",
      "\n",
      "\n"
     ]
    },
    {
     "name": "stderr",
     "output_type": "stream",
     "text": [
      "/usr/local/lib/python3.4/site-packages/scipy/optimize/minpack.py:237: RuntimeWarning: The iteration is not making good progress, as measured by the \n",
      "  improvement from the last ten iterations.\n",
      "  warnings.warn(msg, RuntimeWarning)\n"
     ]
    }
   ],
   "source": [
    "v2e_arr = pw_3(wrel, l, n, t , tc)"
   ]
  },
  {
   "cell_type": "code",
   "execution_count": 60,
   "metadata": {
    "collapsed": false
   },
   "outputs": [
    {
     "data": {
      "text/plain": [
       "array([  4.43632438e-17,   4.71081666e-17,   4.89538492e-17,\n",
       "         5.71419661e-17,   6.81640059e-17,   7.95862309e-17,\n",
       "         1.60813031e-16,   1.94167893e-16,   2.07477562e-16,\n",
       "         2.10506222e-16,   2.06041115e-16,   1.60899402e-16,\n",
       "         1.22984467e-16,   7.88719552e-17,   5.42871823e-17,\n",
       "         3.33840447e-17,   2.19188772e-17,   1.51539330e-17,\n",
       "         9.86596602e-18,   4.18426992e-18,   1.24805966e-18])"
      ]
     },
     "execution_count": 60,
     "metadata": {},
     "output_type": "execute_result"
    }
   ],
   "source": [
    "v2e_arr"
   ]
  },
  {
   "cell_type": "code",
   "execution_count": 62,
   "metadata": {
    "collapsed": false
   },
   "outputs": [
    {
     "data": {
      "image/png": "[encoded data removed]",
      "text/plain": [
       "<matplotlib.figure.Figure at 0x10edb5fd0>"
      ]
     },
     "metadata": {},
     "output_type": "display_data"
    }
   ],
   "source": [
    "\n",
    "plt.plot(wrel_arr, v2e_arr, '-or', markersize = 1)\n",
    "plt.axvline(1.0, linestyle = 'dashed')\n",
    "plt.yscale('log')\n",
    "plt.xscale('log')\n",
    "#plt.axhline(v2e_arr[0], linestyle = 'dashed')"
   ]
  },
  {
   "cell_type": "code",
   "execution_count": null,
   "metadata": {
    "collapsed": true
   },
   "outputs": [],
   "source": []
  }
 ],
 "metadata": {
  "kernelspec": {
   "display_name": "Python 3",
   "language": "python",
   "name": "python3"
  },
  "language_info": {
   "codemirror_mode": {
    "name": "ipython",
    "version": 3
   },
   "file_extension": ".py",
   "mimetype": "text/x-python",
   "name": "python",
   "nbconvert_exporter": "python",
   "pygments_lexer": "ipython3",
   "version": "3.4.3"
  }
 },
 "nbformat": 4,
 "nbformat_minor": 0
}
