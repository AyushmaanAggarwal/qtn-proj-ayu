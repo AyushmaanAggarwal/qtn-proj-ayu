{
 "metadata": {
  "name": "",
  "signature": "sha256:a2af3745a391f8d8ceb017ca0e33899946fa0c0e3e4f7f0f35d092912cd076d5"
 },
 "nbformat": 3,
 "nbformat_minor": 0,
 "worksheets": [
  {
   "cells": [
    {
     "cell_type": "code",
     "collapsed": false,
     "input": [
      "from mpmath import hyp2f1, gamma\n",
      "import mpmath as mp\n",
      "from qtn.util import (boltzmann, emass, echarge, permittivity, cspeed, j0)\n",
      "import numpy as np\n",
      "import matplotlib.pyplot as plt"
     ],
     "language": "python",
     "metadata": {},
     "outputs": [],
     "prompt_number": 1
    },
    {
     "cell_type": "code",
     "collapsed": false,
     "input": [
      "def zk(z, k):\n",
      "    \"\"\"\n",
      "    modified dispersion function for Kappa distribution.\n",
      "    (Mace and Hellberg, 1995)\n",
      "    \n",
      "    \"\"\"\n",
      "    i = mp.mpc(0, 1)\n",
      "    coeff = i * (k + 0.5) * (k-0.5) / (mp.sqrt(k**3) * (k+1))\n",
      "    return coeff * hyp2f1(1, 2*k+2, k+2, (1-z/(i * mp.sqrt(k)))/2)\n",
      "\n",
      "def zp(x):\n",
      "    \"\"\"\n",
      "    plasma dispersion function                                \n",
      "    using complementary error function in mpmath library.                       \n",
      "                                                                                \n",
      "    \"\"\"\n",
      "    return -mp.sqrt(mp.pi) * mp.exp(-x**2) * mp.erfi(x) + mp.mpc(0, 1) * mp.sqrt(mp.pi) * mp.exp(-x**2)\n",
      "\n",
      "def zpd(x):\n",
      "    \"\"\"\n",
      "    Derivative of plasma dispersion function.                                                   \n",
      "                                                                                \n",
      "    \"\"\"\n",
      "    return -mp.mpf(2) * (mp.mpf(1) + x * zp(x))\n",
      "\n",
      "def f1(x):\n",
      "    \"\"\"\n",
      "    An angular integral that appears in electron noise calculation.\n",
      "    \n",
      "    \"\"\"\n",
      "    term1 = x * (mp.si(x) - 0.5 * mp.si(2*x))\n",
      "    term2 = -2 * mp.sin(0.5 * x)**4\n",
      "    return (term1 + term2)/x**2"
     ],
     "language": "python",
     "metadata": {},
     "outputs": [],
     "prompt_number": 2
    },
    {
     "cell_type": "code",
     "collapsed": false,
     "input": [
      "def e_l(zc, wc, n, t, k):\n",
      "    \"\"\"\n",
      "    longitudinal susceptibility tensor.\n",
      "    zc:= w/(k v_tc)\n",
      "    wc:= w/w_pc\n",
      "    k:= kappa\n",
      "    n: = nh/nc\n",
      "    t: = th/tc\n",
      "    \n",
      "    \"\"\"\n",
      "    tau = mp.sqrt(2*k/ (2*k-3) / t)\n",
      "    return 1 - (zc/wc)**2 * zpd(zc) \\\n",
      "        + 2 * n * (tau*zc/wc)**2 * (1-1/(2*k) + tau*zc * zk(tau*zc, k))\n",
      "    "
     ],
     "language": "python",
     "metadata": {},
     "outputs": [],
     "prompt_number": 3
    },
    {
     "cell_type": "code",
     "collapsed": false,
     "input": [
      "def b(zc, n, t, k):\n",
      "    \"\"\"\n",
      "    \n",
      "    \"\"\"\n",
      "    tau = mp.sqrt(2*k/ (2*k-3) / t)\n",
      "    b1 = zc * mp.exp(-zc**2)\n",
      "    b2 = n * tau * zc * gamma(k+1)/gamma(k-1/2)/k**(3/2)\n",
      "    b2 /= (1+ (zc * tau)**2 / k)**k\n",
      "    return b1 + b2"
     ],
     "language": "python",
     "metadata": {},
     "outputs": [],
     "prompt_number": 4
    },
    {
     "cell_type": "code",
     "collapsed": false,
     "input": [
      "def int_interval(wrel, n, t, k):\n",
      "    \"\"\"\n",
      "    find out the almost-singular point and\n",
      "    divide the integration integrals.\n",
      "    \n",
      "    \"\"\"\n",
      "    if wrel < 1:\n",
      "        return [0, mp.inf]\n",
      "    else:\n",
      "        guesses = [4, 6, 8, 10, 12, 14]\n",
      "    wc = wrel * mp.sqrt(1+n)\n",
      "    int_range = [0, mp.inf]\n",
      "    for guess in guesses:\n",
      "        try:\n",
      "            root = mp.findroot(lambda zc: e_l(zc, wc, n, t, k), guess)\n",
      "        except ValueError:\n",
      "            continue\n",
      "        unique = True\n",
      "        for z in int_range:\n",
      "            if mp.fabs(z - mp.fabs(root)) < 1e-4:\n",
      "                unique = False\n",
      "        if unique:\n",
      "            int_range += [mp.fabs(root)]\n",
      "    int_range = np.sort(int_range)\n",
      "    return int_range"
     ],
     "language": "python",
     "metadata": {},
     "outputs": [],
     "prompt_number": 5
    },
    {
     "cell_type": "code",
     "collapsed": false,
     "input": [],
     "language": "python",
     "metadata": {},
     "outputs": [],
     "prompt_number": 5
    },
    {
     "cell_type": "code",
     "collapsed": false,
     "input": [
      "def maxkappa_integrand(zc, wc, lc, n, t, k):\n",
      "    \"\"\"\n",
      "    integrand of electron noise integral.\n",
      "    lc:= l/ldc\n",
      "    \n",
      "    \"\"\"\n",
      "    num = f1(wc*lc/mp.sqrt(2)/zc) * b(zc, n, t, k)\n",
      "    denom = mp.fabs(e_l(zc, wc, n, t, k))**2\n",
      "    return num/denom"
     ],
     "language": "python",
     "metadata": {},
     "outputs": [],
     "prompt_number": 8
    },
    {
     "cell_type": "code",
     "collapsed": false,
     "input": [
      "def maxkappa(wrel, lc, n, t, k, Tc):\n",
      "    \"\"\"\n",
      "    integral in electron noise calculation.\n",
      "    wrel:= w/w_ptot, where w_ptot is the total electron plasma frequency\n",
      "    Tc:= core electron temperature\n",
      "    \n",
      "    \"\"\"\n",
      "    wc = wrel * mp.sqrt(1+n)\n",
      "    int_range = int_interval(wrel, n, t, k)\n",
      "    coeff = 16 * emass/mp.pi**(3/2) /permittivity /wc**2 * mp.sqrt(2*boltzmann*Tc/emass)\n",
      "    integral = mp.quad(lambda z: maxkappa_integrand(z, wc, lc, n, t, k), int_range)\n",
      "    return coeff * integral   "
     ],
     "language": "python",
     "metadata": {},
     "outputs": [],
     "prompt_number": 34
    },
    {
     "cell_type": "code",
     "collapsed": false,
     "input": [
      "def za_integrand(zc, wc, lc, n, t, k, al):\n",
      "    \"\"\"\n",
      "    integrand of the antenna integral\n",
      "    \"\"\"\n",
      "    kl = wc*lc/mp.sqrt(2)/zc\n",
      "    ka = kl * al\n",
      "    return f1(kl) * j0(ka)**2 / e_l(zc, wc, n, t, k) / zc**2  "
     ],
     "language": "python",
     "metadata": {},
     "outputs": [],
     "prompt_number": 46
    },
    {
     "cell_type": "code",
     "collapsed": false,
     "input": [
      "def za(wrel, lc, al, n, t, k, Tc):\n",
      "    \"\"\"\n",
      "    antenna impedance\n",
      "    \n",
      "    \"\"\"\n",
      "    wc = wrel * mp.sqrt(1+n)\n",
      "    coeff = 4*mp.mpc(0,1) / mp.pi**2 / permittivity\n",
      "    coeff *= mp.sqrt(emass/2/boltzmann/Tc)\n",
      "    int_range = int_interval(wrel, n, t, k)\n",
      "    integral = mp.quad(lambda zc: za_integrand(zc, wc, lc, n, t, k, al), int_range)\n",
      "    return coeff * integral"
     ],
     "language": "python",
     "metadata": {},
     "outputs": [],
     "prompt_number": 59
    },
    {
     "cell_type": "code",
     "collapsed": false,
     "input": [],
     "language": "python",
     "metadata": {},
     "outputs": []
    },
    {
     "cell_type": "code",
     "collapsed": false,
     "input": [
      "from qtn import bimax"
     ],
     "language": "python",
     "metadata": {},
     "outputs": [],
     "prompt_number": 54
    },
    {
     "cell_type": "code",
     "collapsed": false,
     "input": [
      "p = bimax.BiMax(50, 50*1e-5, 20e-12)"
     ],
     "language": "python",
     "metadata": {},
     "outputs": [],
     "prompt_number": 64
    },
    {
     "cell_type": "code",
     "collapsed": false,
     "input": [
      "mp.mp.dps = 80\n",
      "p.za_l(wc, lc, n, t, Tc)"
     ],
     "language": "python",
     "metadata": {},
     "outputs": [
      {
       "metadata": {},
       "output_type": "pyout",
       "prompt_number": 65,
       "text": [
        "mpc(real='6715.6541743050262281914932915020108715976237891706945083620181658788644560657713266', imag='27276.741684863046668549162319731591580296389384728722523210125010725999835124649377')"
       ]
      }
     ],
     "prompt_number": 65
    },
    {
     "cell_type": "code",
     "collapsed": false,
     "input": [],
     "language": "python",
     "metadata": {},
     "outputs": []
    },
    {
     "cell_type": "code",
     "collapsed": false,
     "input": [
      "mp.mp.dps=50\n",
      "wrel = 1.005\n",
      "n=0\n",
      "t=10\n",
      "k=4\n",
      "lc=8\n",
      "wc = wrel*mp.sqrt(1+n)\n",
      "root = int_interval(wrel, n, t, k)\n",
      "print(root)\n",
      "print(e_l(root[1], wrel, n, t, k))\n",
      "print(maxkappa_integrand(root[1], wc, lc, n, t, k))\n",
      "print(f1(wc*lc/mp.sqrt(2)/root[1]))\n",
      "print(b(root[1], n, t, k))"
     ],
     "language": "python",
     "metadata": {},
     "outputs": [
      {
       "output_type": "stream",
       "stream": "stdout",
       "text": [
        "[0 mpf('12.334620927720391490820037725874603882139488306739083')\n",
        " mpf('+inf')]\n",
        "(-1.5210703965134685422185793034559083372337285444678e-47 + 5.5442121222506497781981768159272415156256109807775e-63j)"
       ]
      },
      {
       "output_type": "stream",
       "stream": "stdout",
       "text": [
        "\n",
        "388881306194684424575525774.43498026536451297297146"
       ]
      },
      {
       "output_type": "stream",
       "stream": "stdout",
       "text": [
        "\n",
        "0.0086656327484813234758416222451484982673410620578334\n",
        "1.0382822159418349110829670216942103243891411999473e-65\n"
       ]
      }
     ],
     "prompt_number": 41
    },
    {
     "cell_type": "code",
     "collapsed": false,
     "input": [
      "from qtn.maxkappa import MaxKappa\n",
      "import mpmath as mp\n",
      "from qtn import bimax"
     ],
     "language": "python",
     "metadata": {},
     "outputs": [],
     "prompt_number": 1
    },
    {
     "cell_type": "code",
     "collapsed": false,
     "input": [
      "mp.mp.dps = 40\n",
      "wrel = 1.1\n",
      "n=0\n",
      "wc = wrel * mp.sqrt(1+n)\n",
      "t=10\n",
      "k=10\n",
      "lc=8\n",
      "al = 1e-5\n",
      "Tc = 1e5\n",
      "#print(za(wc, lc, al, n, t, k, Tc))"
     ],
     "language": "python",
     "metadata": {},
     "outputs": [],
     "prompt_number": 10
    },
    {
     "cell_type": "code",
     "collapsed": false,
     "input": [
      "p = MaxKappa(50, 1.9e-4, 20e-12)"
     ],
     "language": "python",
     "metadata": {},
     "outputs": [],
     "prompt_number": 11
    },
    {
     "cell_type": "code",
     "collapsed": false,
     "input": [
      "p.za(wrel, lc, n, t, k, Tc)"
     ],
     "language": "python",
     "metadata": {},
     "outputs": [
      {
       "metadata": {},
       "output_type": "pyout",
       "prompt_number": 12,
       "text": [
        "mpc(real='8986.792594206458037247542395889695315123836', imag='34997.69314897276070370173223715054301305504')"
       ]
      }
     ]
    },
    {
     "cell_type": "code",
     "collapsed": false,
     "input": [
      "p.maxkappa(wrel, lc, n, t, k, Tc)"
     ],
     "language": "python",
     "metadata": {},
     "outputs": []
    },
    {
     "cell_type": "code",
     "collapsed": false,
     "input": [
      "mp.mp.dps"
     ],
     "language": "python",
     "metadata": {},
     "outputs": []
    },
    {
     "cell_type": "code",
     "collapsed": false,
     "input": [
      "p2 = bimax.BiMax(50, 1.9e-4, 20e-12)"
     ],
     "language": "python",
     "metadata": {},
     "outputs": []
    },
    {
     "cell_type": "code",
     "collapsed": false,
     "input": [
      "p2.za_l(wc, lc, n, t, Tc)"
     ],
     "language": "python",
     "metadata": {},
     "outputs": []
    },
    {
     "cell_type": "code",
     "collapsed": false,
     "input": [
      "p2.bimax(wrel, lc, n, t, Tc)"
     ],
     "language": "python",
     "metadata": {},
     "outputs": []
    },
    {
     "cell_type": "code",
     "collapsed": false,
     "input": [],
     "language": "python",
     "metadata": {},
     "outputs": []
    }
   ],
   "metadata": {}
  }
 ]
}