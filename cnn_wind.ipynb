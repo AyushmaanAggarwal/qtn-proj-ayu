{
 "cells": [
  {
   "cell_type": "code",
   "execution_count": 1,
   "id": "72fa49b9-1b78-4448-b657-4cbea5e21b69",
   "metadata": {},
   "outputs": [],
   "source": [
    "# 0: fpe, 1: vsw, 2: te\n",
    "select_parameter = 2\n",
    "parameter = [\"fpe\", \"vsw\", \"te\"][select_parameter]\n",
    "\n",
    "continue_after_training = True\n",
    "continue_after_testing = True"
   ]
  },
  {
   "cell_type": "markdown",
   "id": "6dbce373-a558-4506-9884-047ba59b466b",
   "metadata": {
    "tags": []
   },
   "source": [
    "## Import and Functions"
   ]
  },
  {
   "cell_type": "code",
   "execution_count": 2,
   "id": "9effaad3-4ead-4fec-88c3-0e0e8e8efa3d",
   "metadata": {
    "tags": []
   },
   "outputs": [
    {
     "name": "stderr",
     "output_type": "stream",
     "text": [
      "2022-07-20 08:12:23.589346: I tensorflow/core/util/util.cc:169] oneDNN custom operations are on. You may see slightly different numerical results due to floating-point round-off errors from different computation orders. To turn them off, set the environment variable `TF_ENABLE_ONEDNN_OPTS=0`.\n",
      "2022-07-20 08:12:23.591920: W tensorflow/stream_executor/platform/default/dso_loader.cc:64] Could not load dynamic library 'libcudart.so.11.0'; dlerror: libcudart.so.11.0: cannot open shared object file: No such file or directory\n",
      "2022-07-20 08:12:23.591927: I tensorflow/stream_executor/cuda/cudart_stub.cc:29] Ignore above cudart dlerror if you do not have a GPU set up on your machine.\n"
     ]
    }
   ],
   "source": [
    "import os\n",
    "import gc\n",
    "import sys\n",
    "import time\n",
    "import pickle\n",
    "import random\n",
    "import numpy as np\n",
    "import pandas as pd\n",
    "import matplotlib\n",
    "import matplotlib.pyplot as plt\n",
    "\n",
    "import tensorflow as tf\n",
    "import keras\n",
    "from keras.models import Sequential, load_model\n",
    "from keras.layers import Dense, Conv1D, Conv2D, MaxPool1D, Dropout, Flatten\n",
    "%matplotlib inline"
   ]
  },
  {
   "cell_type": "code",
   "execution_count": 3,
   "id": "f0229288-c8bc-4759-9b22-491cdd981c13",
   "metadata": {},
   "outputs": [],
   "source": [
    "def norm(lst, max_val):\n",
    "    return np.array([val/max_val for val in lst])\n",
    "\n",
    "def denorm(lst, max_val):\n",
    "    return np.array([val*max_val for val in lst])\n",
    "\n",
    "def progress_bar(percent):\n",
    "    bar_len = 20\n",
    "    n = int(percent*bar_len)#int(percent*100//bar_len)\n",
    "    p = int(percent*100//1)\n",
    "    print(\"\\r[\"+(\"=\"*n + \" \"*int(bar_len-n))+\"] \"+str(p)+\"%\",end=\" \")\n",
    "\n",
    "def sizeof_fmt(num, suffix='B'):\n",
    "    ''' by Fred Cirera,  https://stackoverflow.com/a/1094933/1870254, modified'''\n",
    "    for unit in ['','Ki','Mi','Gi','Ti','Pi','Ei','Zi']:\n",
    "        if abs(num) < 1024.0:\n",
    "            return \"%3.1f %s%s\" % (num, unit, suffix)\n",
    "        num /= 1024.0\n",
    "    return \"%.1f %s%s\" % (num, 'Yi', suffix)"
   ]
  },
  {
   "cell_type": "markdown",
   "id": "13d0fe02-d043-44f6-9bab-e222c4fcbd52",
   "metadata": {
    "tags": []
   },
   "source": [
    "## Random Seeds and Data Import"
   ]
  },
  {
   "cell_type": "code",
   "execution_count": 4,
   "id": "48c0b7ce-6880-48fa-bdf3-3cda0e6d0a3b",
   "metadata": {},
   "outputs": [],
   "source": [
    "# Set a seed value: \n",
    "#keras.utils.set_random_seed(5)\n",
    "keras.utils.set_random_seed(5)"
   ]
  },
  {
   "cell_type": "code",
   "execution_count": 5,
   "id": "9285a3c7-9aae-49c2-a121-8b25282f433d",
   "metadata": {
    "tags": []
   },
   "outputs": [],
   "source": [
    "with open(\"data/pickle/data\", 'rb') as file:\n",
    "    var = pickle.load(file=file)\n",
    "    max_y            = var[\"max_y\"]\n",
    "    train_x_data     = var[\"train_x_data\"][:]\n",
    "    train_y_data     = var[\"train_y_data\"][:]\n",
    "    train_y_data_te  = var[\"train_y_data_te\"][:]\n",
    "    train_y_data_vsw  = var[\"train_y_data_vsw\"][:]\n",
    "    test_time_sorted = var[\"test_time_sorted\"][:]\n",
    "    test_x_sorted    = var[\"test_x_sorted\"][:]\n",
    "    test_y_sorted    = var[\"test_y_sorted\"][:]\n",
    "    test_y_sorted_ed = var[\"test_y_sorted_ed\"][:]\n",
    "    test_y_sorted_te = var[\"test_y_sorted_te\"][:]\n",
    "    test_y_sorted_vsw = var[\"test_y_sorted_vsw\"][:]\n",
    "    freq             = var[\"freq\"][:]\n",
    "\n",
    "# with open(\"data/synthetic_data_revised_v2\", 'rb') as file:\n",
    "#     var = pickle.load(file)\n",
    "#     spectra = var[\"spectra\"]\n",
    "#     params  = var[\"parameters\"]\n",
    "#     tc = params[\"tc\"]/115000\n",
    "#     fpe = np.array(params[\"fpe\"])/50e3\n",
    "#     ne = params[\"ne\"]/1e6\n",
    "#     vsw = params[\"vsw\"] "
   ]
  },
  {
   "cell_type": "markdown",
   "id": "d5533a4f-594b-4747-9531-38a35279bfa7",
   "metadata": {
    "tags": []
   },
   "source": [
    "## Building Model"
   ]
  },
  {
   "cell_type": "code",
   "execution_count": 6,
   "id": "b8815aba-1d18-475c-bbec-5d3f2f3ba2b8",
   "metadata": {},
   "outputs": [],
   "source": [
    "class Multiply(keras.layers.Layer):\n",
    "    def __init__(self, weights):\n",
    "        super(Multiply, self).__init__()\n",
    "        self.w = np.array(weights)\n",
    "        \n",
    "    def get_config(self):\n",
    "        config = super().get_config()\n",
    "        config.update({\n",
    "            \"w\": self.w,\n",
    "        })\n",
    "        return config\n",
    "    \n",
    "    def call(self, inputs):\n",
    "        return self.w*inputs"
   ]
  },
  {
   "cell_type": "code",
   "execution_count": 7,
   "id": "09063db6-4219-4373-be81-d9a4ae3ca9bf",
   "metadata": {
    "tags": []
   },
   "outputs": [
    {
     "name": "stdout",
     "output_type": "stream",
     "text": [
      "Model: \"sequential\"\n",
      "_________________________________________________________________\n",
      " Layer (type)                Output Shape              Param #   \n",
      "=================================================================\n",
      " conv1d (Conv1D)             (None, 93, 8)             40        \n",
      "                                                                 \n",
      " max_pooling1d (MaxPooling1D  (None, 46, 8)            0         \n",
      " )                                                               \n",
      "                                                                 \n",
      " conv1d_1 (Conv1D)           (None, 43, 16)            528       \n",
      "                                                                 \n",
      " max_pooling1d_1 (MaxPooling  (None, 10, 16)           0         \n",
      " 1D)                                                             \n",
      "                                                                 \n",
      " flatten (Flatten)           (None, 160)               0         \n",
      "                                                                 \n",
      " dense (Dense)               (None, 8)                 1288      \n",
      "                                                                 \n",
      " dense_1 (Dense)             (None, 8)                 72        \n",
      "                                                                 \n",
      " dense_2 (Dense)             (None, 4)                 36        \n",
      "                                                                 \n",
      " dense_3 (Dense)             (None, 1)                 5         \n",
      "                                                                 \n",
      "=================================================================\n",
      "Total params: 1,969\n",
      "Trainable params: 1,969\n",
      "Non-trainable params: 0\n",
      "_________________________________________________________________\n"
     ]
    },
    {
     "name": "stderr",
     "output_type": "stream",
     "text": [
      "2022-07-20 08:12:24.523197: W tensorflow/stream_executor/platform/default/dso_loader.cc:64] Could not load dynamic library 'libcuda.so.1'; dlerror: libcuda.so.1: cannot open shared object file: No such file or directory\n",
      "2022-07-20 08:12:24.523212: W tensorflow/stream_executor/cuda/cuda_driver.cc:269] failed call to cuInit: UNKNOWN ERROR (303)\n",
      "2022-07-20 08:12:24.523224: I tensorflow/stream_executor/cuda/cuda_diagnostics.cc:156] kernel driver does not appear to be running on this host (ayu): /proc/driver/nvidia/version does not exist\n",
      "2022-07-20 08:12:24.523394: I tensorflow/core/platform/cpu_feature_guard.cc:193] This TensorFlow binary is optimized with oneAPI Deep Neural Network Library (oneDNN) to use the following CPU instructions in performance-critical operations:  AVX2 AVX512F AVX512_VNNI FMA\n",
      "To enable them in other operations, rebuild TensorFlow with the appropriate compiler flags.\n"
     ]
    }
   ],
   "source": [
    "model = Sequential()\n",
    "model.add(Conv1D(8, kernel_size=4, activation='relu', input_shape=(96, 1)))\n",
    "model.add(MaxPool1D(2))\n",
    "model.add(Conv1D(16, kernel_size=4, activation='relu'))\n",
    "model.add(MaxPool1D(4))\n",
    "model.add(Flatten())\n",
    "model.add(Dense(8, activation='relu'))\n",
    "model.add(Dense(8, activation='relu'))\n",
    "model.add(Dense(4, activation='relu'))\n",
    "model.add(Dense(1, activation='linear'))\n",
    "#model.add(Multiply(weights=[50, 8e2, 2.5e5][select_parameter]))\n",
    "model.summary()"
   ]
  },
  {
   "cell_type": "markdown",
   "id": "97df5a78-e1e8-4d31-b491-3d65b8ed4898",
   "metadata": {
    "tags": []
   },
   "source": [
    "## Training algorithm"
   ]
  },
  {
   "cell_type": "code",
   "execution_count": 8,
   "id": "0d9f3e26-9a88-406b-8c28-a29a08dcfd36",
   "metadata": {},
   "outputs": [],
   "source": [
    "model.compile(loss = keras.losses.mean_absolute_percentage_error,#lambda y_true, y_pred: keras.losses.huber(y_true, y_pred, .0015), \n",
    "   optimizer = keras.optimizers.Adam(), metrics = ['MeanAbsolutePercentageError'])"
   ]
  },
  {
   "cell_type": "code",
   "execution_count": 9,
   "id": "b345babb-8c0e-4fb6-9f0f-6d7e128f4d87",
   "metadata": {
    "tags": []
   },
   "outputs": [
    {
     "name": "stdout",
     "output_type": "stream",
     "text": [
      "te\n",
      "Epoch 1/30\n",
      "12800/12800 - 18s - loss: 18.4407 - mean_absolute_percentage_error: 18.4407 - val_loss: 13.5491 - val_mean_absolute_percentage_error: 13.5491 - 18s/epoch - 1ms/step\n",
      "Epoch 2/30\n",
      "12800/12800 - 17s - loss: 12.1930 - mean_absolute_percentage_error: 12.1930 - val_loss: 11.1689 - val_mean_absolute_percentage_error: 11.1689 - 17s/epoch - 1ms/step\n",
      "Epoch 3/30\n",
      "12800/12800 - 17s - loss: 11.1194 - mean_absolute_percentage_error: 11.1194 - val_loss: 10.8715 - val_mean_absolute_percentage_error: 10.8715 - 17s/epoch - 1ms/step\n",
      "Epoch 4/30\n",
      "12800/12800 - 18s - loss: 10.8284 - mean_absolute_percentage_error: 10.8284 - val_loss: 10.5896 - val_mean_absolute_percentage_error: 10.5896 - 18s/epoch - 1ms/step\n",
      "Epoch 5/30\n",
      "12800/12800 - 17s - loss: 10.5845 - mean_absolute_percentage_error: 10.5845 - val_loss: 10.3383 - val_mean_absolute_percentage_error: 10.3383 - 17s/epoch - 1ms/step\n",
      "Epoch 6/30\n",
      "12800/12800 - 17s - loss: 10.3580 - mean_absolute_percentage_error: 10.3580 - val_loss: 10.1561 - val_mean_absolute_percentage_error: 10.1561 - 17s/epoch - 1ms/step\n",
      "Epoch 7/30\n",
      "12800/12800 - 17s - loss: 10.1584 - mean_absolute_percentage_error: 10.1584 - val_loss: 9.9285 - val_mean_absolute_percentage_error: 9.9285 - 17s/epoch - 1ms/step\n",
      "Epoch 8/30\n",
      "12800/12800 - 17s - loss: 9.9636 - mean_absolute_percentage_error: 9.9636 - val_loss: 9.7387 - val_mean_absolute_percentage_error: 9.7387 - 17s/epoch - 1ms/step\n",
      "Epoch 9/30\n",
      "12800/12800 - 17s - loss: 9.7917 - mean_absolute_percentage_error: 9.7917 - val_loss: 9.5787 - val_mean_absolute_percentage_error: 9.5787 - 17s/epoch - 1ms/step\n",
      "Epoch 10/30\n",
      "12800/12800 - 17s - loss: 9.6437 - mean_absolute_percentage_error: 9.6437 - val_loss: 9.4281 - val_mean_absolute_percentage_error: 9.4281 - 17s/epoch - 1ms/step\n",
      "Epoch 11/30\n",
      "12800/12800 - 17s - loss: 9.5156 - mean_absolute_percentage_error: 9.5156 - val_loss: 9.4707 - val_mean_absolute_percentage_error: 9.4707 - 17s/epoch - 1ms/step\n",
      "Epoch 12/30\n",
      "12800/12800 - 17s - loss: 9.4018 - mean_absolute_percentage_error: 9.4018 - val_loss: 9.4619 - val_mean_absolute_percentage_error: 9.4619 - 17s/epoch - 1ms/step\n",
      "Epoch 13/30\n",
      "12800/12800 - 17s - loss: 9.2905 - mean_absolute_percentage_error: 9.2905 - val_loss: 9.0660 - val_mean_absolute_percentage_error: 9.0660 - 17s/epoch - 1ms/step\n",
      "Epoch 14/30\n",
      "12800/12800 - 17s - loss: 9.1811 - mean_absolute_percentage_error: 9.1811 - val_loss: 8.9799 - val_mean_absolute_percentage_error: 8.9799 - 17s/epoch - 1ms/step\n",
      "Epoch 15/30\n",
      "12800/12800 - 17s - loss: 9.0765 - mean_absolute_percentage_error: 9.0765 - val_loss: 8.8914 - val_mean_absolute_percentage_error: 8.8914 - 17s/epoch - 1ms/step\n",
      "Epoch 16/30\n",
      "12800/12800 - 17s - loss: 8.9684 - mean_absolute_percentage_error: 8.9684 - val_loss: 8.8530 - val_mean_absolute_percentage_error: 8.8530 - 17s/epoch - 1ms/step\n",
      "Epoch 17/30\n",
      "12800/12800 - 17s - loss: 8.8629 - mean_absolute_percentage_error: 8.8629 - val_loss: 8.7677 - val_mean_absolute_percentage_error: 8.7677 - 17s/epoch - 1ms/step\n",
      "Epoch 18/30\n",
      "12800/12800 - 17s - loss: 8.7733 - mean_absolute_percentage_error: 8.7733 - val_loss: 8.5734 - val_mean_absolute_percentage_error: 8.5734 - 17s/epoch - 1ms/step\n",
      "Epoch 19/30\n",
      "12800/12800 - 17s - loss: 8.7010 - mean_absolute_percentage_error: 8.7010 - val_loss: 8.6841 - val_mean_absolute_percentage_error: 8.6841 - 17s/epoch - 1ms/step\n",
      "Epoch 20/30\n",
      "12800/12800 - 17s - loss: 8.6266 - mean_absolute_percentage_error: 8.6266 - val_loss: 8.5456 - val_mean_absolute_percentage_error: 8.5456 - 17s/epoch - 1ms/step\n",
      "Epoch 21/30\n",
      "12800/12800 - 17s - loss: 8.5637 - mean_absolute_percentage_error: 8.5637 - val_loss: 8.3690 - val_mean_absolute_percentage_error: 8.3690 - 17s/epoch - 1ms/step\n",
      "Epoch 22/30\n",
      "12800/12800 - 17s - loss: 8.5062 - mean_absolute_percentage_error: 8.5062 - val_loss: 8.4399 - val_mean_absolute_percentage_error: 8.4399 - 17s/epoch - 1ms/step\n",
      "Epoch 23/30\n",
      "12800/12800 - 17s - loss: 8.4379 - mean_absolute_percentage_error: 8.4379 - val_loss: 8.2503 - val_mean_absolute_percentage_error: 8.2503 - 17s/epoch - 1ms/step\n",
      "Epoch 24/30\n",
      "12800/12800 - 17s - loss: 8.3914 - mean_absolute_percentage_error: 8.3914 - val_loss: 8.2268 - val_mean_absolute_percentage_error: 8.2268 - 17s/epoch - 1ms/step\n",
      "Epoch 25/30\n",
      "12800/12800 - 17s - loss: 8.3534 - mean_absolute_percentage_error: 8.3534 - val_loss: 8.1442 - val_mean_absolute_percentage_error: 8.1442 - 17s/epoch - 1ms/step\n",
      "Epoch 26/30\n",
      "12800/12800 - 17s - loss: 8.2918 - mean_absolute_percentage_error: 8.2918 - val_loss: 8.0964 - val_mean_absolute_percentage_error: 8.0964 - 17s/epoch - 1ms/step\n",
      "Epoch 27/30\n",
      "12800/12800 - 17s - loss: 8.2488 - mean_absolute_percentage_error: 8.2488 - val_loss: 8.0877 - val_mean_absolute_percentage_error: 8.0877 - 17s/epoch - 1ms/step\n",
      "Epoch 28/30\n",
      "12800/12800 - 17s - loss: 8.2086 - mean_absolute_percentage_error: 8.2086 - val_loss: 8.3231 - val_mean_absolute_percentage_error: 8.3231 - 17s/epoch - 1ms/step\n",
      "Epoch 29/30\n",
      "12800/12800 - 17s - loss: 8.1689 - mean_absolute_percentage_error: 8.1689 - val_loss: 7.9894 - val_mean_absolute_percentage_error: 7.9894 - 17s/epoch - 1ms/step\n",
      "Epoch 30/30\n",
      "12800/12800 - 18s - loss: 8.1209 - mean_absolute_percentage_error: 8.1209 - val_loss: 8.1122 - val_mean_absolute_percentage_error: 8.1122 - 18s/epoch - 1ms/step\n"
     ]
    }
   ],
   "source": [
    "print(parameter)\n",
    "\n",
    "# TRAINING ON ACTUAL DATA: Plasma Frequency\n",
    "if parameter == \"fpe\":\n",
    "    history = model.fit(\n",
    "        x=train_x_data[:], y=train_y_data[:], epochs=20, batch_size=32, steps_per_epoch=12800,\n",
    "        validation_split=.1, workers=6, use_multiprocessing=True, verbose=2, shuffle=True)\n",
    "\n",
    "# TRAINING ON ACTUAL DATA: Solar Wind Speed\n",
    "elif parameter == \"vsw\":\n",
    "    history = model.fit(\n",
    "        x=train_x_data[:], y=train_y_data_vsw[:], epochs=30, batch_size=32, steps_per_epoch=12800,\n",
    "        validation_split=.1, workers=6, use_multiprocessing=True, verbose=2, shuffle=True)\n",
    "\n",
    "# TRAINING ON ACTUAL DATA: Electron Temperature\n",
    "elif parameter == \"te\":\n",
    "    history = model.fit(\n",
    "        x=train_x_data[:], y=train_y_data_te[:], epochs=30, batch_size=32, steps_per_epoch=12800,\n",
    "        validation_split=.1, workers=6, use_multiprocessing=True, verbose=2, shuffle=True)\n",
    "\n",
    "# TRAINING ON SYNTHETIC DATA\n",
    "elif select_parameter == 3:\n",
    "    history = model.fit(\n",
    "        x=np.array(spectra), y=np.array(ne), epochs=100, batch_size=8, steps_per_epoch=25,\n",
    "        validation_split=0, workers=8, use_multiprocessing=True, verbose=2, shuffle=True)"
   ]
  },
  {
   "cell_type": "code",
   "execution_count": 10,
   "id": "0e22a012-b1b6-4f4b-b7f6-bf23e4e64bae",
   "metadata": {},
   "outputs": [],
   "source": [
    "get_time_formated = lambda: f\"{time.localtime().tm_year}_{time.localtime().tm_mon}_{time.localtime().tm_mday}\"\n",
    "model.save(f'ml_models/cnn_{get_time_formated()}_{parameter}.h5')"
   ]
  },
  {
   "cell_type": "code",
   "execution_count": 11,
   "id": "cc727cbd-0974-4572-a01b-b3c1e6fde000",
   "metadata": {},
   "outputs": [],
   "source": [
    "assert continue_after_training, \"Stop After Trainning\""
   ]
  },
  {
   "cell_type": "markdown",
   "id": "d58e64ad-5622-4b6d-9e28-15014199ad74",
   "metadata": {
    "tags": []
   },
   "source": [
    "## Testing Model"
   ]
  },
  {
   "cell_type": "code",
   "execution_count": 12,
   "id": "ce2ac8c1-28dc-4961-838c-3f3d43c57840",
   "metadata": {
    "tags": []
   },
   "outputs": [
    {
     "name": "stdout",
     "output_type": "stream",
     "text": [
      "1581/1581 [==============================] - 1s 884us/step - loss: 8.1316 - mean_absolute_percentage_error: 8.1316\n",
      "1581/1581 [==============================] - 1s 759us/step\n"
     ]
    }
   ],
   "source": [
    "#model = load_model('ml_models/cnn_20220627.h5')\n",
    "\n",
    "test_y_data = {\n",
    "    \"fpe\": test_y_sorted,\n",
    "    \"vsw\": test_y_sorted_vsw,\n",
    "    \"te\":  test_y_sorted_te\n",
    "}\n",
    "\n",
    "perf = model.evaluate(np.array(test_x_sorted), test_y_data[parameter])\n",
    "\n",
    "pred_y = model.predict(test_x_sorted)\n",
    "\n",
    "denorm_test = test_y_data[parameter]\n",
    "denorm_pred = pred_y[:,0]"
   ]
  },
  {
   "cell_type": "code",
   "execution_count": 13,
   "id": "6880f09f-d7c4-4869-bc61-0d31c447259d",
   "metadata": {},
   "outputs": [],
   "source": [
    "if select_parameter == 0:\n",
    "    constant = 80.64828175895765\n",
    "    pred_dens = list(map(lambda i: (denorm_pred[i]**2)/constant,\n",
    "                   range(len(denorm_pred))))\n",
    "    dens = list(map(lambda i: (denorm_test[i]**2)/constant,\n",
    "                   range(len(denorm_test))))"
   ]
  },
  {
   "cell_type": "code",
   "execution_count": 14,
   "id": "95626691-9652-462c-8348-cc10bf769773",
   "metadata": {
    "tags": []
   },
   "outputs": [
    {
     "name": "stdout",
     "output_type": "stream",
     "text": [
      "Each predicted value has an error of ±0.00036159136493271255% or ±17076.752926991307 kHz\n",
      "The average predicted value is 145736.390625\n",
      "Predicted first value: 183459.109375 ±17076.752926991307 kHz\n"
     ]
    }
   ],
   "source": [
    "# Percent Error\n",
    "lst = list(map(lambda i: abs(denorm_pred[i]-denorm_test[i])/denorm_test[i],\n",
    "               range(len(pred_y))))\n",
    "# Squared Error\n",
    "lst2 = list(map(lambda i: (denorm_pred[i]-denorm_test[i])**2,\n",
    "               range(len(pred_y))))\n",
    "# Error\n",
    "lst3 = list(map(lambda i: (denorm_pred[i]-denorm_test[i]),\n",
    "               range(len(pred_y))))\n",
    "# Electron Density Error\n",
    "if select_parameter == 0:\n",
    "    lst4 = list(map(lambda i: abs(pred_dens[i]-test_y_sorted_ed[i]),\n",
    "                   range(len(pred_y))))\n",
    "error = np.sqrt(sum(lst2)/len(lst2))\n",
    "print(f\"Each predicted value has an error of ±{np.mean(lst)/np.sqrt(len(lst))}% or ±{error} kHz\")\n",
    "print(f\"The average predicted value is {np.mean(denorm_pred)}\")\n",
    "print(f\"Predicted first value: {denorm_pred[0]} ±{error} kHz\")\n",
    "if select_parameter == 0:\n",
    "    print(f\"Each predicted electron density has an error of ±{np.mean(lst4)/np.sqrt(len(lst4))} cm^-3\")\n",
    "#plt.hist(np.array(lst), bins=100)\n",
    "#plt.show()"
   ]
  },
  {
   "cell_type": "code",
   "execution_count": 15,
   "id": "d45a57ca-a213-4e31-9ec3-c1ef3640ffd0",
   "metadata": {
    "tags": []
   },
   "outputs": [
    {
     "data": {
      "text/html": [
       "<div>\n",
       "<style scoped>\n",
       "    .dataframe tbody tr th:only-of-type {\n",
       "        vertical-align: middle;\n",
       "    }\n",
       "\n",
       "    .dataframe tbody tr th {\n",
       "        vertical-align: top;\n",
       "    }\n",
       "\n",
       "    .dataframe thead th {\n",
       "        text-align: right;\n",
       "    }\n",
       "</style>\n",
       "<table border=\"1\" class=\"dataframe\">\n",
       "  <thead>\n",
       "    <tr style=\"text-align: right;\">\n",
       "      <th></th>\n",
       "      <th>0</th>\n",
       "      <th>1</th>\n",
       "      <th>2</th>\n",
       "      <th>3</th>\n",
       "    </tr>\n",
       "  </thead>\n",
       "  <tbody>\n",
       "    <tr>\n",
       "      <th>count</th>\n",
       "      <td>50573.000000</td>\n",
       "      <td>5.057300e+04</td>\n",
       "      <td>5.057300e+04</td>\n",
       "      <td>50573.000000</td>\n",
       "    </tr>\n",
       "    <tr>\n",
       "      <th>mean</th>\n",
       "      <td>145986.765625</td>\n",
       "      <td>8.131626e-02</td>\n",
       "      <td>2.916155e+08</td>\n",
       "      <td>11907.185547</td>\n",
       "    </tr>\n",
       "    <tr>\n",
       "      <th>std</th>\n",
       "      <td>32116.414062</td>\n",
       "      <td>8.479941e-02</td>\n",
       "      <td>7.095279e+08</td>\n",
       "      <td>12240.809570</td>\n",
       "    </tr>\n",
       "    <tr>\n",
       "      <th>min</th>\n",
       "      <td>58706.785156</td>\n",
       "      <td>1.914971e-07</td>\n",
       "      <td>9.765625e-04</td>\n",
       "      <td>0.031250</td>\n",
       "    </tr>\n",
       "    <tr>\n",
       "      <th>25%</th>\n",
       "      <td>124360.625000</td>\n",
       "      <td>2.475641e-02</td>\n",
       "      <td>1.155017e+07</td>\n",
       "      <td>3398.554688</td>\n",
       "    </tr>\n",
       "    <tr>\n",
       "      <th>50%</th>\n",
       "      <td>148610.359375</td>\n",
       "      <td>5.536681e-02</td>\n",
       "      <td>6.309323e+07</td>\n",
       "      <td>7943.125000</td>\n",
       "    </tr>\n",
       "    <tr>\n",
       "      <th>75%</th>\n",
       "      <td>166385.187500</td>\n",
       "      <td>1.105007e-01</td>\n",
       "      <td>2.694630e+08</td>\n",
       "      <td>16415.328125</td>\n",
       "    </tr>\n",
       "    <tr>\n",
       "      <th>max</th>\n",
       "      <td>290991.375000</td>\n",
       "      <td>2.284559e+00</td>\n",
       "      <td>4.024729e+10</td>\n",
       "      <td>200617.281250</td>\n",
       "    </tr>\n",
       "  </tbody>\n",
       "</table>\n",
       "</div>"
      ],
      "text/plain": [
       "                   0             1             2              3\n",
       "count   50573.000000  5.057300e+04  5.057300e+04   50573.000000\n",
       "mean   145986.765625  8.131626e-02  2.916155e+08   11907.185547\n",
       "std     32116.414062  8.479941e-02  7.095279e+08   12240.809570\n",
       "min     58706.785156  1.914971e-07  9.765625e-04       0.031250\n",
       "25%    124360.625000  2.475641e-02  1.155017e+07    3398.554688\n",
       "50%    148610.359375  5.536681e-02  6.309323e+07    7943.125000\n",
       "75%    166385.187500  1.105007e-01  2.694630e+08   16415.328125\n",
       "max    290991.375000  2.284559e+00  4.024729e+10  200617.281250"
      ]
     },
     "execution_count": 15,
     "metadata": {},
     "output_type": "execute_result"
    }
   ],
   "source": [
    "pd.DataFrame(zip(denorm_test, lst, lst2, np.abs(lst3))).describe()\n"
   ]
  },
  {
   "cell_type": "code",
   "execution_count": 16,
   "id": "e067d1cd-1914-4e02-b720-b057794a9c39",
   "metadata": {
    "tags": []
   },
   "outputs": [],
   "source": [
    "data_dic = {}\n",
    "data_dic[\"Pred_y\"] = denorm_pred\n",
    "data_dic[\"Act_y\"]  = denorm_test\n",
    "data_dic[\"x\"]      = test_x_sorted\n",
    "data_dic[\"res\"]    = lst3\n",
    "with open(\"data/pickle/error_dist\", 'wb') as file:\n",
    "    pickle.dump(data_dic, file=file)"
   ]
  },
  {
   "cell_type": "code",
   "execution_count": 17,
   "id": "b6144f27-d6aa-4403-8920-d0d46b6716aa",
   "metadata": {
    "tags": []
   },
   "outputs": [
    {
     "name": "stdout",
     "output_type": "stream",
     "text": [
      "                           lst: 434.0 KiB\n",
      "                          lst2: 434.0 KiB\n",
      "                          lst3: 434.0 KiB\n",
      "                        pred_y: 197.7 KiB\n",
      "                          _iii:  1.9 KiB\n",
      "                          _i14:  1.9 KiB\n",
      "                           _i9:  1.2 KiB\n",
      "                        Conv2D:  1.0 KiB\n",
      "                       Dropout:  1.0 KiB\n",
      "                      Multiply:  1.0 KiB\n"
     ]
    }
   ],
   "source": [
    "for name, size in sorted(((name, sys.getsizeof(value)) for name, value in locals().items()),\n",
    "                         key= lambda x: -x[1])[:10]:\n",
    "    print(\"{:>30}: {:>8}\".format(name, sizeof_fmt(size)))\n"
   ]
  },
  {
   "cell_type": "code",
   "execution_count": 18,
   "id": "e3298d1a-095a-4874-b53a-e759ab7866df",
   "metadata": {},
   "outputs": [],
   "source": [
    "assert continue_after_testing, \"Stop After Testing\""
   ]
  },
  {
   "cell_type": "markdown",
   "id": "8799b104-ffcc-4713-9fc6-9bc3e483c99a",
   "metadata": {
    "tags": []
   },
   "source": [
    "## Ploting Figures"
   ]
  },
  {
   "cell_type": "code",
   "execution_count": 19,
   "id": "0ea69035-36f6-4cc8-8ef6-4fee405d0c06",
   "metadata": {},
   "outputs": [],
   "source": [
    "plot_figs = True\n",
    "save_figs = True"
   ]
  },
  {
   "cell_type": "code",
   "execution_count": 20,
   "id": "a0ef7797-38f7-4212-930b-b09ae4d6923c",
   "metadata": {
    "tags": []
   },
   "outputs": [
    {
     "data": {
      "image/png": "[encoded data removed]",
      "text/plain": [
       "<Figure size 432x288 with 1 Axes>"
      ]
     },
     "metadata": {},
     "output_type": "display_data"
    }
   ],
   "source": [
    "if plot_figs:\n",
    "    plt.figure(facecolor='w')\n",
    "    plt.title(\"Validation Performance after each epoch - MAPE\")\n",
    "    plt.plot(history.history[\"mean_absolute_percentage_error\"], label=\"Average Error during Training\")\n",
    "    plt.axhline(perf[1], color='g', label=\"Average Error during Testing\")\n",
    "    plt.xlabel(\"Epoch (80% of total training data)\")\n",
    "    plt.ylabel(\"Average Percent Error (%)\")\n",
    "    plt.legend()\n",
    "    if save_figs:\n",
    "        plt.savefig(f\"plots/validation_performance_over_time_{parameter}.png\", dpi=500)"
   ]
  },
  {
   "cell_type": "code",
   "execution_count": 21,
   "id": "2e4cac73-1ed2-45ef-bbe5-63eb99cfef6a",
   "metadata": {
    "tags": []
   },
   "outputs": [],
   "source": [
    "if plot_figs and parameter == \"fpe\":\n",
    "    fig, (ax0, ax1) = plt.subplots(1,2, figsize=(6*2,5), facecolor='w')\n",
    "    fig.suptitle(\"Performance of CNN after trainning to match NASA's NN June 1st to 26th 1995\")\n",
    "\n",
    "    ax0.plot(test_time_sorted, denorm_test, label=\"Neural Network(estimated)\",linewidth=2)\n",
    "    ax0.plot(test_time_sorted, denorm_pred, label=\"Convolutional Neural Network - MAPE\",linewidth=2)\n",
    "    ax0.set_title(\"Predicted vs Estimated Plasma Frequency\")\n",
    "    ax0.set_xlabel(\"parameterh Time (s)\")\n",
    "    ax0.set_ylabel(\"Plasma Frequency (kHz)\")\n",
    "    ax0.legend()\n",
    "\n",
    "    res = np.subtract(denorm_pred,denorm_test)\n",
    "    ax1.axhline(0, color='black', linewidth=1, label=\"Reference Line\")\n",
    "    ax1.scatter(test_time_sorted, res, s=3, label=\"y_CNN - y_NN\")\n",
    "    \n",
    "    ax1.set_title(\"Difference between CNN and NN\")\n",
    "    ax1.set_xlabel(\"Epoch Time (s)\")\n",
    "    ax1.set_ylabel(\"Residuals\")\n",
    "    ax1.legend(loc='lower right')\n",
    "\n",
    "    if save_figs:\n",
    "        fig.savefig(f\"plots/performance_on_test_dataset_fpe.png\", dpi=500)"
   ]
  },
  {
   "cell_type": "code",
   "execution_count": 22,
   "id": "9c5d9167-ab16-480c-8600-b5d78dc8e0b3",
   "metadata": {
    "tags": []
   },
   "outputs": [
    {
     "data": {
      "image/png": "[encoded data removed]",
      "text/plain": [
       "<Figure size 864x360 with 2 Axes>"
      ]
     },
     "metadata": {},
     "output_type": "display_data"
    }
   ],
   "source": [
    "if plot_figs and parameter == \"te\":\n",
    "    fig, (ax0, ax1) = plt.subplots(1,2, figsize=(6*2,5), facecolor='w')\n",
    "    fig.suptitle(\"Performance of CNN on predicting Electron Temperature June 1st to 26th 1995\")\n",
    "\n",
    "    ax0.plot(test_time_sorted, denorm_test, label=\"Electron Temperature from SWE\",linewidth=2)\n",
    "    ax0.plot(test_time_sorted, denorm_pred, label=\"Convolutional Neural Network\",linewidth=2)\n",
    "    ax0.set_title(\"Predicted vs Actual Electron Temperature\")\n",
    "    ax0.set_xlabel(\"Epoch Time (s)\")\n",
    "    ax0.set_ylabel(\"Electron Temperature (K)\")\n",
    "    ax0.ticklabel_format(axis='y', scilimits=[0,0])\n",
    "    ax0.legend()\n",
    "\n",
    "    res = np.subtract(denorm_pred,denorm_test)\n",
    "    ax1.axhline(0, color='black', linewidth=1, label=\"Reference Line\")\n",
    "    ax1.scatter(test_time_sorted, res, s=3, label=\"y_CNN - y_SWE\")\n",
    "    \n",
    "    ax1.set_title(\"Difference between CNN and actual value\")\n",
    "    ax1.set_xlabel(\"Epoch Time (s)\")\n",
    "    ax1.set_ylabel(\"Residuals\")\n",
    "    ax1.ticklabel_format(axis='y', scilimits=[0,0])\n",
    "    ax1.legend(loc='lower right')\n",
    "\n",
    "    if save_figs:\n",
    "        fig.savefig(\"plots/performance_on_test_dataset_te.png\", dpi=500)"
   ]
  },
  {
   "cell_type": "code",
   "execution_count": 23,
   "id": "45a5e0ec-ca1d-4e83-a9f2-a8fe608d66a2",
   "metadata": {
    "tags": []
   },
   "outputs": [],
   "source": [
    "if plot_figs and parameter == \"vsw\":\n",
    "    fig, (ax0, ax1) = plt.subplots(1,2, figsize=(6*2,5), facecolor='w')\n",
    "    fig.suptitle(\"Performance of CNN on predicting Solar Wind Speed June 1st to 26th 1995\")\n",
    "\n",
    "    ax0.plot(test_time_sorted, denorm_test, label=\"Solar Wind Speed from SWE\",linewidth=2)\n",
    "    ax0.plot(test_time_sorted, denorm_pred, label=\"Convolutional Neural Network\",linewidth=2)\n",
    "    ax0.set_title(\"Predicted vs Actual Solar Wind Speed\")\n",
    "    ax0.set_xlabel(\"Epoch Time (s)\")\n",
    "    ax0.set_ylabel(\"Solar Wind Speed (km/s)\")\n",
    "    ax0.legend()\n",
    "\n",
    "    res = np.subtract(denorm_pred,denorm_test)\n",
    "    ax1.axhline(0, color='black', linewidth=1, label=\"Reference Line\")\n",
    "    ax1.scatter(test_time_sorted, res, s=3, label=\"y_CNN - y_SWE\")\n",
    "    \n",
    "    ax1.set_title(\"Difference between CNN and actual value\")\n",
    "    ax1.set_xlabel(\"Epoch Time (s)\")\n",
    "    ax1.set_ylabel(\"Residuals\")\n",
    "    ax1.legend(loc='lower right')\n",
    "\n",
    "    if save_figs:\n",
    "        fig.savefig(\"plots/performance_on_test_dataset_vsw.png\", dpi=500)"
   ]
  },
  {
   "cell_type": "code",
   "execution_count": 24,
   "id": "e88b069e-e680-44ba-92e1-d9bb7e1fb47b",
   "metadata": {
    "tags": []
   },
   "outputs": [],
   "source": [
    "if plot_figs and False:\n",
    "    # Not exactly sure of the purpose of this code\n",
    "    def norm_dist(val, mean=np.mean(lst3), standard_dev=np.std(lst3)):\n",
    "        factor = 1/np.sqrt(2*np.pi*(standard_dev**2))\n",
    "        exp = np.exp(-(val - mean)**2/(2*(standard_dev**2)))\n",
    "        return factor*exp\n",
    "\n",
    "    x = [-2 + i*.1 for i in range(40)]\n",
    "    y = [norm_dist(v)*3000 for v in x]"
   ]
  },
  {
   "cell_type": "code",
   "execution_count": 25,
   "id": "0714bdc2-7a4e-4801-8644-dd6fbe381107",
   "metadata": {
    "tags": []
   },
   "outputs": [
    {
     "ename": "NameError",
     "evalue": "name 'x' is not defined",
     "output_type": "error",
     "traceback": [
      "\u001b[0;31m---------------------------------------------------------------------------\u001b[0m",
      "\u001b[0;31mNameError\u001b[0m                                 Traceback (most recent call last)",
      "\u001b[0;32m/tmp/ipykernel_31187/431202279.py\u001b[0m in \u001b[0;36m<module>\u001b[0;34m\u001b[0m\n\u001b[1;32m      6\u001b[0m     \u001b[0max\u001b[0m\u001b[0;34m.\u001b[0m\u001b[0mset_xlabel\u001b[0m\u001b[0;34m(\u001b[0m\u001b[0;34m\"Residual (kHz)\"\u001b[0m\u001b[0;34m)\u001b[0m\u001b[0;34m\u001b[0m\u001b[0;34m\u001b[0m\u001b[0m\n\u001b[1;32m      7\u001b[0m     \u001b[0max\u001b[0m\u001b[0;34m.\u001b[0m\u001b[0mset_ylabel\u001b[0m\u001b[0;34m(\u001b[0m\u001b[0;34m\"Number of Occurences\"\u001b[0m\u001b[0;34m)\u001b[0m\u001b[0;34m\u001b[0m\u001b[0;34m\u001b[0m\u001b[0m\n\u001b[0;32m----> 8\u001b[0;31m     \u001b[0max\u001b[0m\u001b[0;34m.\u001b[0m\u001b[0mplot\u001b[0m\u001b[0;34m(\u001b[0m\u001b[0mx\u001b[0m\u001b[0;34m,\u001b[0m\u001b[0my\u001b[0m\u001b[0;34m)\u001b[0m\u001b[0;34m\u001b[0m\u001b[0;34m\u001b[0m\u001b[0m\n\u001b[0m\u001b[1;32m      9\u001b[0m     \u001b[0;32mif\u001b[0m \u001b[0msave_figs\u001b[0m\u001b[0;34m:\u001b[0m\u001b[0;34m\u001b[0m\u001b[0;34m\u001b[0m\u001b[0m\n\u001b[1;32m     10\u001b[0m         \u001b[0mplt\u001b[0m\u001b[0;34m.\u001b[0m\u001b[0msavefig\u001b[0m\u001b[0;34m(\u001b[0m\u001b[0;34mf\"plots/hist_error_{parameter}.png\"\u001b[0m\u001b[0;34m,\u001b[0m \u001b[0mdpi\u001b[0m\u001b[0;34m=\u001b[0m\u001b[0;36m500\u001b[0m\u001b[0;34m)\u001b[0m\u001b[0;34m\u001b[0m\u001b[0;34m\u001b[0m\u001b[0m\n",
      "\u001b[0;31mNameError\u001b[0m: name 'x' is not defined"
     ]
    },
    {
     "data": {
      "image/png": "[encoded data removed]",
      "text/plain": [
       "<Figure size 432x288 with 1 Axes>"
      ]
     },
     "metadata": {},
     "output_type": "display_data"
    }
   ],
   "source": [
    "if plot_figs:\n",
    "    fig, ax = plt.subplots(facecolor='w')\n",
    "    ax.hist(lst3, 1000, histtype='bar')\n",
    "    ax.set_xlim(-3,3)\n",
    "    ax.set_title(\"Histogram of residual distribution - MAPE\")\n",
    "    ax.set_xlabel(\"Residual (kHz)\")\n",
    "    ax.set_ylabel(\"Number of Occurences\")\n",
    "    ax.plot(x,y)\n",
    "    if save_figs:\n",
    "        plt.savefig(f\"plots/hist_error_{parameter}.png\", dpi=500)"
   ]
  },
  {
   "cell_type": "code",
   "execution_count": null,
   "id": "7b7f9748-0e2b-44d8-8224-3728e9b7e2e5",
   "metadata": {},
   "outputs": [],
   "source": [
    "assert False"
   ]
  },
  {
   "cell_type": "code",
   "execution_count": null,
   "id": "0fc35e30-e6d1-4319-930d-27dccd681a33",
   "metadata": {
    "tags": []
   },
   "outputs": [],
   "source": [
    "# Finding all outliers with a frequency error greater than 5\n",
    "data_zip = list(filter(lambda x: abs(x[4])>10, zip(test_time_sorted, test_x_sorted, test_y_sorted, pred_y, res)))\n",
    "test_time_sorted_outliers, test_x_sorted_outliers, test_y_sorted_outliers, pred_y_outliers, res_outliers = list(zip(*data_zip))"
   ]
  },
  {
   "cell_type": "code",
   "execution_count": null,
   "id": "f3278528-e2b8-4411-866e-f26849015e8e",
   "metadata": {
    "tags": []
   },
   "outputs": [],
   "source": [
    "# data_zip2 = list(filter(lambda x: abs(x[4])<.00003, zip(test_time_sorted, test_x_sorted, test_y_sorted, pred_y, res)))\n",
    "# test_time_sorted_best, test_x_sorted_best, test_y_sorted_best, pred_y_best, res_best = list(zip(*data_zip2))"
   ]
  },
  {
   "cell_type": "code",
   "execution_count": null,
   "id": "5d2384be-5e55-40c2-b349-562fb1344611",
   "metadata": {
    "tags": []
   },
   "outputs": [],
   "source": [
    "if plot_figs:\n",
    "    n = len(res_outliers)\n",
    "    #plt.figure(figsize=(15, 4*n))\n",
    "    fig, ax = plt.subplots(nrows=n, figsize=(9, 3*n), facecolor='w', dpi=200)\n",
    "\n",
    "    for i in range(0, n):    \n",
    "        ax[i].set_ylabel(\"V^2/Hz\")\n",
    "        ax[i].set_xlabel(\"Frequency (kHz)\")\n",
    "        ax[i].xaxis.set_label_coords(.5, -.04)\n",
    "        ax[i].scatter(freq/1000, denorm(test_x_sorted_outliers[i], max_y), s=6,label='WIND data')\n",
    "        ax[i].plot(freq/1000, denorm(test_x_sorted_outliers[i], max_y), markersize=1,label='WIND data')\n",
    "\n",
    "        ax[i].axvline(x=denorm(pred_y_outliers, max_y)[i], color='r', label=\"CNN\")\n",
    "        ax[i].axvline(x=denorm(test_y_sorted_outliers, max_y)[i], color='g', label=\"NASA estimate\")\n",
    "        ax[i].set_xscale('log')\n",
    "        ax[i].set_yscale('log')\n",
    "        ax[i].set_ylim(1, 550)\n",
    "        ax[i].set_xlim(3.5, 275)\n",
    "        ax[i].set_aspect(.2)\n",
    "        ax[i].text(4, 300, f\"Plot #{i+1} - Residual: {np.round(res_outliers[i],2)}\")\n",
    "        ax[i].legend()\n",
    "\n",
    "    fig.suptitle(\"The plot of the spectra with CNN and NASA estimate for plasma frequency\", y=0.888)\n",
    "    if save_figs:\n",
    "        plt.savefig(\"plots/outliers.png\", dpi=fig.dpi, bbox_inches='tight')\n"
   ]
  },
  {
   "cell_type": "code",
   "execution_count": null,
   "id": "6c89c338-31fc-41a0-84b9-42f8f332011e",
   "metadata": {
    "tags": []
   },
   "outputs": [],
   "source": [
    "if plot_figs:\n",
    "    plt.figure(facecolor='w',figsize=(5,5))\n",
    "    plt.scatter(denorm_pred, denorm_test, s=.1)\n",
    "    plt.xlabel(\"Predicted Value\")\n",
    "    plt.ylabel(\"Actual Value\")\n",
    "    if save_figs:\n",
    "        plt.savefig(\"plots/plot_opposing_predictions.png\")"
   ]
  },
  {
   "cell_type": "code",
   "execution_count": null,
   "id": "f5be609c-a131-4da9-97cc-16ea8259c1b0",
   "metadata": {
    "tags": []
   },
   "outputs": [],
   "source": [
    "if plot_figs:\n",
    "    plt.figure(figsize=(8,8), facecolor='w')\n",
    "    plt.hist2d(denorm_pred, denorm_test, bins =[100, 100], density=True,cmap = plt.cm.Greys)\n",
    "    plt.colorbar()\n",
    "    if save_figs:\n",
    "        plt.savefig(\"plots/2dhist3.png\")"
   ]
  },
  {
   "cell_type": "code",
   "execution_count": null,
   "id": "c88fcc32-724b-4f8e-99f6-7afa19ed750a",
   "metadata": {
    "tags": []
   },
   "outputs": [],
   "source": [
    "if plot_figs:\n",
    "    plt.figure(facecolor='w')\n",
    "\n",
    "    plt.title(\"Histogram of NASA's NN Plasma Frequency Predictions\")\n",
    "    plt.hist(denorm_test, bins=80)\n",
    "\n",
    "    plt.xlabel(\"Frequency (Hz)\")\n",
    "    plt.ylabel(\"Number of occurences\")\n",
    "    if save_figs:\n",
    "        plt.savefig(\"plots/hist_nasa_nn_plasma_freq.png\")"
   ]
  },
  {
   "cell_type": "code",
   "execution_count": null,
   "id": "5aa38812-234e-494e-a1ae-4608b3dc2c60",
   "metadata": {
    "tags": []
   },
   "outputs": [],
   "source": [
    "if plot_figs:\n",
    "    plt.figure(facecolor='w')\n",
    "\n",
    "    plt.title(\"Histogram of CNN Plasma Frequency Predictions\")\n",
    "    plt.hist(denorm_pred, bins=80)\n",
    "\n",
    "    plt.xlabel(\"Frequency (Hz)\")\n",
    "    plt.ylabel(\"Number of occurences\")\n",
    "    if save_figs:\n",
    "        plt.savefig(\"plots/hist_cnn_plasma_freq.png\")"
   ]
  },
  {
   "cell_type": "code",
   "execution_count": null,
   "id": "32b55838-b710-4a78-a930-8c4e3562f927",
   "metadata": {
    "tags": []
   },
   "outputs": [],
   "source": [
    "if plot_figs:\n",
    "    plt.figure(facecolor='w')\n",
    "    plt.scatter(denorm_test, lst3, s=1)\n",
    "    plt.axhline(0, color='r', linewidth=.5)\n",
    "    plt.xlabel(\"NASA Predicted Plasma Frequency (kHz)\")\n",
    "    plt.ylabel(\"Residuals (kHz)\")\n",
    "    plt.title(\"Comparing change in residuals for each respective plasma frequency\")\n",
    "    if save_figs:\n",
    "        plt.savefig(\"plots/residual_and_nasa_plasma_freq\", dpi=500)\n",
    "    plt.show()"
   ]
  },
  {
   "cell_type": "code",
   "execution_count": null,
   "id": "0d5e1229-e351-4270-ad9d-f7e9ed54ce21",
   "metadata": {
    "tags": []
   },
   "outputs": [],
   "source": [
    "if plot_figs:\n",
    "    plt.figure(facecolor='w')\n",
    "    plt.hist2d(denorm_test, lst3, bins=[100,100])\n",
    "    plt.xlabel(\"NASA's NN Plasma Frequency (kHz)\")\n",
    "    plt.ylabel(\"Residuals\")\n",
    "    plt.colorbar()\n",
    "    if save_figs:\n",
    "        plt.savefig(\"plots/resvsfp1.png\")"
   ]
  },
  {
   "cell_type": "markdown",
   "id": "e5101cd8-ce9a-4dfe-b9c6-116ff749e685",
   "metadata": {
    "tags": []
   },
   "source": [
    "## Conditional Probablity Distribution"
   ]
  },
  {
   "cell_type": "code",
   "execution_count": null,
   "id": "480966f6-d5b9-46be-b5f9-af1cc8641ca6",
   "metadata": {},
   "outputs": [],
   "source": [
    "plotCPDfig = False"
   ]
  },
  {
   "cell_type": "code",
   "execution_count": null,
   "id": "17ac99f4-c835-41a7-9e03-d7ab75b2ef62",
   "metadata": {},
   "outputs": [],
   "source": [
    "if plotCPDfig:\n",
    "    count = 0\n",
    "    diff = 1.5\n",
    "    int_denorm_test = np.array([int(f) for f in denorm_test])\n",
    "        \n",
    "    dist_error = np.array([[0,0] for _ in range(85)])\n",
    "\n",
    "    for fpe in range(85):\n",
    "        y_list = []\n",
    "        \n",
    "        for findex in np.where(int_denorm_test-fpe<.001)[0]:\n",
    "            f = denorm_test[findex]\n",
    "            indices = np.where(np.abs(denorm_pred-f)<diff)[0]\n",
    "            y_list.extend(np.add(denorm_pred[indices],-f))\n",
    "        \n",
    "        if y_list:\n",
    "            dist_error[fpe] = [np.mean(y_list), np.std(y_list)]\n",
    "\n",
    "        if count%1==0:\n",
    "            progress_bar(count/85)\n",
    "        count += 1"
   ]
  },
  {
   "cell_type": "code",
   "execution_count": null,
   "id": "d7115fc3-e224-4824-b194-c55b9b83c5db",
   "metadata": {},
   "outputs": [],
   "source": [
    "pd.DataFrame(int_denorm_test).describe()"
   ]
  },
  {
   "cell_type": "code",
   "execution_count": null,
   "id": "1c83b0c3-2b47-445f-a46a-908fce6597ad",
   "metadata": {},
   "outputs": [],
   "source": [
    "if plotCPDfig:\n",
    "    with open(\"data/pickle/error_dist\", 'rb') as file:\n",
    "        data_dic = pickle.load(file=file)\n",
    "\n",
    "    denorm_pred = np.array(data_dic[\"Pred_y\"])\n",
    "    denorm_test = np.array(data_dic[\"Act_y\"])\n",
    "\n",
    "    del(data_dic)\n",
    "    gc.collect()"
   ]
  },
  {
   "cell_type": "code",
   "execution_count": null,
   "id": "3d587487-483b-45da-9f90-8d769b2a7c59",
   "metadata": {},
   "outputs": [],
   "source": [
    "if plotCPDfig:\n",
    "\n",
    "    diff = 1.5\n",
    "    count = 0\n",
    "\n",
    "    hist2dlist = np.array([np.array([0 for _ in range(100)]) for _ in range(85)])\n",
    "\n",
    "    print(\"Started\")\n",
    "    for f in denorm_test:\n",
    "        indices = np.where(np.abs(denorm_pred-f)<diff)[0]\n",
    "        \n",
    "        x = int(f)\n",
    "        y_list = np.multiply(np.add(denorm_pred[indices],1.5-f), 100/3)\n",
    "\n",
    "        for y in y_list:\n",
    "            # count up the x and y coords \n",
    "            hist2dlist[x, int(y)] += 1\n",
    "            \n",
    "        if count%5000==0:\n",
    "            print(count)\n",
    "        count += 1\n",
    "    \n"
   ]
  },
  {
   "cell_type": "code",
   "execution_count": null,
   "id": "c2367f07-eb48-4bf1-8fc5-681bb26e38b6",
   "metadata": {
    "tags": []
   },
   "outputs": [],
   "source": [
    "if plotCPDfig:\n",
    "\n",
    "    cleanhist2dlist = hist2dlist[12:85]\n",
    "\n",
    "    group = 3\n",
    "    hist2dlist3 = []\n",
    "\n",
    "    for i in range(len(cleanhist2dlist)//group):\n",
    "        hist2dlist3.append(np.sum(cleanhist2dlist[group*i:group*i+group], axis=0))\n",
    "\n",
    "    hist2dlist4 = np.array(hist2dlist3)\n",
    "\n",
    "    # for i in range(int(len(hist2dlist4)/2),len(hist2dlist4),2):\n",
    "\n",
    "    #     blur = 2\n",
    "\n",
    "    #     if i+index>len(hist2dlist4):\n",
    "    #         break\n",
    "    #     sum_hist = hist2dlist4[i]\n",
    "    #     for index in range(1,blur):\n",
    "    #         sum_hist += hist2dlist4[i+index]\n",
    "    #     for index in range(blur):\n",
    "    #         hist2dlist3[i+index] = sum_hist\n",
    "    "
   ]
  },
  {
   "cell_type": "code",
   "execution_count": null,
   "id": "7e024098-83c9-469b-adb5-be57e5a6cff0",
   "metadata": {
    "tags": []
   },
   "outputs": [],
   "source": [
    "if plotCPDfig:\n",
    "\n",
    "    hist2dlist2 = [np.array(row[:]) for row in hist2dlist4]\n",
    "\n",
    "    # for i in range(len(hist2dlist2)):\n",
    "    #     if i>45 and False: # modify False/True if want to disable blur\n",
    "    #         blur = 5#int(i/20+1)\n",
    "    #         for j in range(len(hist2dlist2[i])):\n",
    "    #             section = 5#j//blur \n",
    "    #             #sum_section = sum(hist2dlist[i,section*blur:section*blur+blur])\n",
    "    #             try:\n",
    "    #                 hist2dlist2[i][j] = sum(hist2dlist[i,j:j+blur])\n",
    "    #             except IndexError:\n",
    "    #                 length = len(hist2dlist2[i])\n",
    "    #                 hist2dlist2[i][j] = sum(hist2dlist[i,length-blur:length])\n",
    "\n",
    "    for i in range(len(hist2dlist2)):\n",
    "        min_val = min(hist2dlist2[i])\n",
    "        range_val = max(*hist2dlist2[i], 1) - min(hist2dlist2[i])\n",
    "        hist2dlist2[i] = np.divide(np.subtract(hist2dlist2[i], min_val), range_val)"
   ]
  },
  {
   "cell_type": "code",
   "execution_count": null,
   "id": "135af0ce-40ee-4214-baa6-639842eca9fc",
   "metadata": {},
   "outputs": [],
   "source": [
    "if plotCPDfig:\n",
    "\n",
    "    fig, ax = plt.subplots(facecolor='w', figsize=(8,5))\n",
    "\n",
    "    colors = [\"#ffffff\",\"#0000ff\"]\n",
    "    cmap1 = matplotlib.colors.LinearSegmentedColormap.from_list(\"mycmap\", colors)\n",
    "\n",
    "    psm = ax.pcolormesh(np.transpose(hist2dlist2),cmap = cmap1)#, norm=matplotlib.colors.LogNorm())\n",
    "    #ax.set_xlim((12,85))\n",
    "\n",
    "    tickmarks = [-1.5,-1,-.5,0,.5,1]\n",
    "    ax.set_yticks(np.arange(0,100,100/len(tickmarks)))#[0,10,20,30,40,50,60,70,80,90])\n",
    "    ax.set_yticklabels(tickmarks)\n",
    "\n",
    "    tickmarks = np.round(np.array(list(range(1,24,5)))*3+12,1)\n",
    "    ax.set_xticks(np.arange(1,len(hist2dlist2),len(hist2dlist2)/len(tickmarks)))\n",
    "    ax.set_xticklabels(tickmarks)\n",
    "\n",
    "    fig.colorbar(psm)\n",
    "\n",
    "    ax.set_title(\"Conditional Probability Distribution for NASA's NN vs CNN Residuals\")\n",
    "    ax.set_xlabel(\"NASA's NN Plasma Frequency (kHz)\")\n",
    "    ax.set_ylabel(\"Residuals (kHz)\")\n",
    "\n",
    "    plt.savefig(\"plots/conditional_probability_distribution.png\")\n",
    "    plt.show()"
   ]
  },
  {
   "cell_type": "markdown",
   "id": "21a08609-2e12-4525-ad01-ce33af27e4ef",
   "metadata": {},
   "source": [
    "## Pickle Stuff"
   ]
  },
  {
   "cell_type": "code",
   "execution_count": null,
   "id": "382a51e3-d527-42f8-892e-bc23062e3ec4",
   "metadata": {
    "tags": []
   },
   "outputs": [],
   "source": [
    "# with open(\"data/pickle/conditional_probx\", 'rb') as file:\n",
    "#     x = pickle.load(file=file)\n",
    "    \n",
    "# with open(\"data/pickle/conditional_proby\", 'rb') as file:\n",
    "#     y = pickle.load(file=file)"
   ]
  },
  {
   "cell_type": "code",
   "execution_count": null,
   "id": "8a5dceb8-44ad-4deb-b14a-fa82d63a796a",
   "metadata": {},
   "outputs": [],
   "source": [
    "# with open(\"data/pickle/conditional_probx\", 'wb') as file:\n",
    "#     pickle.dump(x, file=file)\n",
    "# with open(\"data/pickle/conditional_proby\", 'wb') as file:\n",
    "#     pickle.dump(y, file=file)"
   ]
  }
 ],
 "metadata": {
  "kernelspec": {
   "display_name": "Python 3 (ipykernel)",
   "language": "python",
   "name": "python3"
  },
  "language_info": {
   "codemirror_mode": {
    "name": "ipython",
    "version": 3
   },
   "file_extension": ".py",
   "mimetype": "text/x-python",
   "name": "python",
   "nbconvert_exporter": "python",
   "pygments_lexer": "ipython3",
   "version": "3.10.5"
  }
 },
 "nbformat": 4,
 "nbformat_minor": 5
}
