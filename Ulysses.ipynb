{
 "metadata": {
  "name": "",
  "signature": "sha256:e532de74ea043070f1f588d674f2123dd8d109893369c27fc1a1007356e75d51"
 },
 "nbformat": 3,
 "nbformat_minor": 0,
 "worksheets": [
  {
   "cells": [
    {
     "cell_type": "code",
     "collapsed": false,
     "input": [
      "from qtn.bimax import BiMax\n",
      "from qtn.util import (boltzmann, emass, echarge, permittivity, cspeed, fperp)\n",
      "import numpy as np\n",
      "import matplotlib.pyplot as plt\n",
      "%matplotlib inline"
     ],
     "language": "python",
     "metadata": {},
     "outputs": [],
     "prompt_number": 1
    },
    {
     "cell_type": "heading",
     "level": 3,
     "metadata": {},
     "source": [
      "Issautier 1999 Fig 1"
     ]
    },
    {
     "cell_type": "heading",
     "level": 6,
     "metadata": {},
     "source": [
      "$f_p=15KHz$, $L_{dc}=v_{Tc}/\\sqrt{2}\\omega_{pc}=13.06m$"
     ]
    },
    {
     "cell_type": "code",
     "collapsed": false,
     "input": [
      "fp=15e3; tc = 1e5"
     ],
     "language": "python",
     "metadata": {},
     "outputs": [],
     "prompt_number": 2
    },
    {
     "cell_type": "code",
     "collapsed": false,
     "input": [
      "np.sqrt(2*boltzmann * tc/emass) / np.sqrt(2)/(2* np.pi *fp)"
     ],
     "language": "python",
     "metadata": {},
     "outputs": [
      {
       "metadata": {},
       "output_type": "pyout",
       "prompt_number": 3,
       "text": [
        "13.062490978855545"
       ]
      }
     ],
     "prompt_number": 3
    },
    {
     "cell_type": "code",
     "collapsed": false,
     "input": [
      "tc = 1e5\n",
      "n = 0\n",
      "tep = 2\n",
      "vsw = 4e5\n",
      "wrange = np.arange(0.2, 3.2, 0.1)\n",
      "lrange = [0.5, 1, 3.5, 10]"
     ],
     "language": "python",
     "metadata": {},
     "outputs": [],
     "prompt_number": 11
    },
    {
     "cell_type": "code",
     "collapsed": false,
     "input": [
      "p = BiMax(20, 2e-4, 45e-12)"
     ],
     "language": "python",
     "metadata": {},
     "outputs": [],
     "prompt_number": 5
    },
    {
     "cell_type": "code",
     "collapsed": false,
     "input": [
      "p.proton(0.2, lrel, tep, tc, vsw)/ np.sqrt(tc)"
     ],
     "language": "python",
     "metadata": {},
     "outputs": [
      {
       "metadata": {},
       "output_type": "pyout",
       "prompt_number": 6,
       "text": [
        "6.4276059033628801e-17"
       ]
      }
     ],
     "prompt_number": 6
    },
    {
     "cell_type": "code",
     "collapsed": false,
     "input": [
      "vp2 = [[p.proton(wc, lrel, tep, tc, vsw) / np.sqrt(tc) for wc in wrange] for lrel in lrange]"
     ],
     "language": "python",
     "metadata": {},
     "outputs": [],
     "prompt_number": 12
    },
    {
     "cell_type": "code",
     "collapsed": false,
     "input": [
      "fig = plt.figure(figsize=[4,4])\n",
      "for i in range(4):\n",
      "    plt.plot(wrange, vp2[i])\n",
      "plt.xscale('log')\n",
      "plt.yscale('log')\n",
      "plt.xlim([0.2, 3])\n",
      "plt.ylim([5e-19, 1e-16])\n",
      "plt.show()"
     ],
     "language": "python",
     "metadata": {},
     "outputs": [
      {
       "metadata": {},
       "output_type": "display_data",
       "png": "[encoded data removed]",
       "text": [
        "<matplotlib.figure.Figure at 0x115c3efd0>"
       ]
      }
     ],
     "prompt_number": 15
    },
    {
     "cell_type": "code",
     "collapsed": false,
     "input": [],
     "language": "python",
     "metadata": {},
     "outputs": []
    }
   ],
   "metadata": {}
  }
 ]
}