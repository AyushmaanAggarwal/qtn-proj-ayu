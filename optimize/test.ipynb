{
 "cells": [
  {
   "cell_type": "code",
   "execution_count": 1,
   "metadata": {
    "collapsed": false
   },
   "outputs": [],
   "source": [
    "from qtn.bimax import BiMax\n",
    "from qtn.new_bimax import new_BiMax\n",
    "from qtn.util import f1, j0\n",
    "from qtn.bimax_util import z_b, j02\n",
    "import numpy as np\n",
    "from sympy.mpmath import mp,fp\n",
    "import matplotlib.pyplot as plt\n",
    "%matplotlib inline"
   ]
  },
  {
   "cell_type": "code",
   "execution_count": 2,
   "metadata": {
    "collapsed": false
   },
   "outputs": [
    {
     "name": "stdout",
     "output_type": "stream",
     "text": [
      "3.8e-06\n"
     ]
    }
   ],
   "source": [
    "ant_len = 50      # m (monopole) \n",
    "ant_rad = 1.9e-4  # m\n",
    "base_cap = 20e-12 # Farad\n",
    "al_ratio = ant_rad / ant_len\n",
    "print(al_ratio)"
   ]
  },
  {
   "cell_type": "code",
   "execution_count": 3,
   "metadata": {
    "collapsed": true
   },
   "outputs": [],
   "source": [
    "p1 = BiMax(ant_len, ant_rad, base_cap)\n",
    "p2 = new_BiMax(ant_len, ant_rad, base_cap)"
   ]
  },
  {
   "cell_type": "code",
   "execution_count": 24,
   "metadata": {
    "collapsed": true
   },
   "outputs": [],
   "source": [
    "wrel, l, n, t, tc = 1.1, 5, 0.2, 5, 1\n",
    "wc = wrel * fp.sqrt(1 + n)"
   ]
  },
  {
   "cell_type": "code",
   "execution_count": 25,
   "metadata": {
    "collapsed": false
   },
   "outputs": [
    {
     "name": "stdout",
     "output_type": "stream",
     "text": [
      "(1802323.641556297364385287 + 16619100.48583821462121116j)\n"
     ]
    }
   ],
   "source": [
    "mp.dps = 25\n",
    "print(p1.za_l(wc, l, n, t, tc))\n",
    "mp.dps = 15"
   ]
  },
  {
   "cell_type": "code",
   "execution_count": 26,
   "metadata": {
    "collapsed": false
   },
   "outputs": [],
   "source": [
    "# mp.dps = 55\n",
    "# print(p1.za_l(wc, l, n, t, tc))\n",
    "# mp.dps = 15"
   ]
  },
  {
   "cell_type": "code",
   "execution_count": 27,
   "metadata": {
    "collapsed": false
   },
   "outputs": [
    {
     "name": "stdout",
     "output_type": "stream",
     "text": [
      "guess =  2.645105682349282\n",
      "z0 =  2.92318658905243\n",
      "dl_imag =  0.20936405902103233\n",
      "direct evaluating integral when peak is small\n"
     ]
    },
    {
     "data": {
      "text/plain": [
       "mpc(real='1802323.6044319759', imag='16614948.600398194')"
      ]
     },
     "execution_count": 27,
     "metadata": {},
     "output_type": "execute_result"
    }
   ],
   "source": [
    "mp.dps = 15\n",
    "p2.za_l(wrel, l, n, t, tc)"
   ]
  },
  {
   "cell_type": "code",
   "execution_count": 33,
   "metadata": {
    "collapsed": true
   },
   "outputs": [],
   "source": [
    "class random_num:\n",
    "    def __init__(self):\n",
    "        self.num = np.random.rand()"
   ]
  },
  {
   "cell_type": "code",
   "execution_count": 34,
   "metadata": {
    "collapsed": false
   },
   "outputs": [],
   "source": [
    "f = random_num()"
   ]
  },
  {
   "cell_type": "code",
   "execution_count": 35,
   "metadata": {
    "collapsed": false
   },
   "outputs": [
    {
     "name": "stdout",
     "output_type": "stream",
     "text": [
      "0.0601900708108255\n",
      "0.0601900708108255\n",
      "0.0601900708108255\n"
     ]
    }
   ],
   "source": [
    "for _ in range(3):\n",
    "    print(f.num)"
   ]
  },
  {
   "cell_type": "code",
   "execution_count": null,
   "metadata": {
    "collapsed": true
   },
   "outputs": [],
   "source": []
  }
 ],
 "metadata": {
  "kernelspec": {
   "display_name": "Python 3",
   "language": "python",
   "name": "python3"
  },
  "language_info": {
   "codemirror_mode": {
    "name": "ipython",
    "version": 3
   },
   "file_extension": ".py",
   "mimetype": "text/x-python",
   "name": "python",
   "nbconvert_exporter": "python",
   "pygments_lexer": "ipython3",
   "version": "3.4.3"
  }
 },
 "nbformat": 4,
 "nbformat_minor": 0
}
