{
 "metadata": {
  "name": "",
  "signature": "sha256:b54948a528c02f68b9218367bbc1a5f0d788112a2ca4473a78ad5a15c6e518e2"
 },
 "nbformat": 3,
 "nbformat_minor": 0,
 "worksheets": [
  {
   "cells": [
    {
     "cell_type": "code",
     "collapsed": false,
     "input": [
      "from qtn.bimax import BiMax\n",
      "from qtn.util import (boltzmann, emass, echarge, permittivity, cspeed, fperp, fp)\n",
      "import numpy as np\n",
      "import mpmath as mp\n",
      "import matplotlib.pyplot as plt\n",
      "from scipy.io.idl import readsav\n",
      "%matplotlib inline"
     ],
     "language": "python",
     "metadata": {},
     "outputs": [],
     "prompt_number": 3
    },
    {
     "cell_type": "heading",
     "level": 3,
     "metadata": {},
     "source": [
      "WIND/WAVES June 19 1995:18:52:35.344"
     ]
    },
    {
     "cell_type": "code",
     "collapsed": false,
     "input": [
      "ant_len = 50      # m (monopole) \n",
      "ant_rad = 1.9e-4  # m\n",
      "base_cap = 20e-12 # Fara\n",
      "fbins = np.array([4000*2**((2*i+1)/32) for i in range(96)])"
     ],
     "language": "python",
     "metadata": {},
     "outputs": [],
     "prompt_number": 11
    },
    {
     "cell_type": "code",
     "collapsed": false,
     "input": [
      "vsw=7.61e5 #m/s\n",
      "tc = 11.53 #eV\n",
      "t = 5.57 \n",
      "n = 0.059 \n",
      "ne = 6.13 #cc\n",
      "tp=47.49  #eV\n",
      "fpe = 22.24e3  #Hz"
     ],
     "language": "python",
     "metadata": {},
     "outputs": [],
     "prompt_number": 16
    },
    {
     "cell_type": "code",
     "collapsed": false,
     "input": [
      "p = BiMax(ant_len, ant_rad, base_cap)"
     ],
     "language": "python",
     "metadata": {},
     "outputs": [],
     "prompt_number": 17
    },
    {
     "cell_type": "code",
     "collapsed": false,
     "input": [
      "proton_noise = np.array([p.proton(f, ne, n, t, tp, tc, vsw) for f in fbins])"
     ],
     "language": "python",
     "metadata": {},
     "outputs": [],
     "prompt_number": 18
    },
    {
     "cell_type": "code",
     "collapsed": false,
     "input": [
      "electron_noise = np.array([p.electron_noise(f, ne, n, t, tp, tc, vsw) for f in fbins])"
     ],
     "language": "python",
     "metadata": {},
     "outputs": [],
     "prompt_number": 27
    },
    {
     "cell_type": "code",
     "collapsed": false,
     "input": [
      "gain_shot = np.array([np.array(p.gain_shot(f, ne, n, t, tp, tc, vsw)) for f in fbins])"
     ],
     "language": "python",
     "metadata": {},
     "outputs": [],
     "prompt_number": 44
    },
    {
     "cell_type": "code",
     "collapsed": false,
     "input": [
      "gain = gain_shot[:,0]\n",
      "shot_noise = gain_shot[:, 1]"
     ],
     "language": "python",
     "metadata": {},
     "outputs": [],
     "prompt_number": 53
    },
    {
     "cell_type": "code",
     "collapsed": false,
     "input": [
      "from scipy.io.idl import readsav"
     ],
     "language": "python",
     "metadata": {},
     "outputs": [],
     "prompt_number": 30
    },
    {
     "cell_type": "code",
     "collapsed": false,
     "input": [
      "m_dat=readsav('/Users/tongyuguang/Google Drive/research/data/meudon_tnr/TNR_XY_ACE_19950619.sav')"
     ],
     "language": "python",
     "metadata": {},
     "outputs": [],
     "prompt_number": 54
    },
    {
     "cell_type": "code",
     "collapsed": false,
     "input": [
      "m_data=m_dat['data']\n",
      "mt = m_data['timeur8'][0]\n",
      "mtag = m_data['time'][0]"
     ],
     "language": "python",
     "metadata": {},
     "outputs": [],
     "prompt_number": 55
    },
    {
     "cell_type": "code",
     "collapsed": false,
     "input": [
      "mtag[15267]"
     ],
     "language": "python",
     "metadata": {},
     "outputs": [
      {
       "metadata": {},
       "output_type": "pyout",
       "prompt_number": 56,
       "text": [
        "b'19-JUN-1995, 18:52:32.400'"
       ]
      }
     ],
     "prompt_number": 56
    },
    {
     "cell_type": "code",
     "collapsed": false,
     "input": [
      "spec = m_data['spectra'][0][:, 15266]\n",
      "spec = 10. ** (spec/10.)"
     ],
     "language": "python",
     "metadata": {},
     "outputs": [],
     "prompt_number": 65
    },
    {
     "cell_type": "code",
     "collapsed": false,
     "input": [
      "plt.rc('text', usetex=False)\n",
      "plt.rc('font', family='serif')\n",
      "fig = plt.figure(figsize=[6, 6])\n",
      "plt.plot(fbins/1000, (electron_noise + proton_noise + shot_noise)/gain, label='theory')\n",
      "plt.plot(fbins/1000, spec, 'o', markersize=2, label='WIND data')\n",
      "plt.plot(fbins/1000, electron_noise/gain,'--', label='electron')\n",
      "plt.plot(fbins/1000, proton_noise/gain, '-.', label='proton')\n",
      "plt.plot(fbins/1000, shot_noise/gain, '--', label='shot')\n",
      "plt.xscale('log')\n",
      "plt.yscale('log')\n",
      "plt.xlim([4, 256])\n",
      "plt.ylim([1e-18, 1e-10])\n",
      "plt.xlabel(r'$f[kHz]$')\n",
      "plt.ylabel(r'$V_r^2[V^2Hz^{-1}]$')\n",
      "plt.title('19-JUN-1995, 18:52:32.400')\n",
      "plt.legend(loc='best')\n",
      "plt.show()"
     ],
     "language": "python",
     "metadata": {},
     "outputs": [
      {
       "metadata": {},
       "output_type": "display_data",
       "png": "[encoded data removed]",
       "text": [
        "<matplotlib.figure.Figure at 0x1131c9710>"
       ]
      }
     ],
     "prompt_number": 135
    },
    {
     "cell_type": "code",
     "collapsed": false,
     "input": [
      "fig.savefig('wind1.png', dpi=300)"
     ],
     "language": "python",
     "metadata": {},
     "outputs": [],
     "prompt_number": 136
    },
    {
     "cell_type": "heading",
     "level": 6,
     "metadata": {},
     "source": [
      "save data to file"
     ]
    },
    {
     "cell_type": "code",
     "collapsed": false,
     "input": [
      "np.savez('619_data', p_noise=proton_noise, e_noise = electron_noise, s_noise = shot_noise, gain = gain)"
     ],
     "language": "python",
     "metadata": {},
     "outputs": [],
     "prompt_number": 158
    },
    {
     "cell_type": "code",
     "collapsed": false,
     "input": [
      "c=np.load('619_data.npz')\n",
      "c.files"
     ],
     "language": "python",
     "metadata": {},
     "outputs": [
      {
       "metadata": {},
       "output_type": "pyout",
       "prompt_number": 159,
       "text": [
        "['s_noise', 'gain', 'p_noise', 'e_noise']"
       ]
      }
     ],
     "prompt_number": 159
    },
    {
     "cell_type": "heading",
     "level": 3,
     "metadata": {},
     "source": [
      "WIND/WAVES June 25 1995:06:33:06.432"
     ]
    },
    {
     "cell_type": "code",
     "collapsed": false,
     "input": [
      "ant_len = 50      # m (monopole) \n",
      "ant_rad = 1.9e-4  # m\n",
      "base_cap = 20e-12 # Fara\n",
      "fbins = np.array([4000*2**((2*i+1)/32) for i in range(96)])\n",
      "\n",
      "ne = 12.28\n",
      "vsw=3.966e5\n",
      "tc = 9.91\n",
      "tp = 9.62\n",
      "t = 6.57\n",
      "n = 0.026\n",
      "fpe = 31.47e3"
     ],
     "language": "python",
     "metadata": {},
     "outputs": [],
     "prompt_number": 178
    },
    {
     "cell_type": "code",
     "collapsed": false,
     "input": [
      "p = BiMax(ant_len, ant_rad, base_cap)"
     ],
     "language": "python",
     "metadata": {},
     "outputs": [],
     "prompt_number": 179
    },
    {
     "cell_type": "code",
     "collapsed": false,
     "input": [
      "proton_noise = np.array([p.proton(f, ne, n, t, tp, tc, vsw) for f in fbins])"
     ],
     "language": "python",
     "metadata": {},
     "outputs": [],
     "prompt_number": 180
    },
    {
     "cell_type": "code",
     "collapsed": false,
     "input": [
      "def helper(f, fpe):\n",
      "    \"\"\"\n",
      "    add precision control to bimax function.\n",
      "    \n",
      "    \"\"\"\n",
      "    if f > .99*fpe and f < 1.2*fpe:\n",
      "        mp.mp.dps = 40\n",
      "    else:\n",
      "        mp.mp.dps = 20\n",
      "    return p.electron_noise(f, ne, n, t, tp, tc, vsw)"
     ],
     "language": "python",
     "metadata": {},
     "outputs": [],
     "prompt_number": 182
    },
    {
     "cell_type": "code",
     "collapsed": false,
     "input": [
      "electron_noise = np.array([helper(f, fpe) for f in fbins])"
     ],
     "language": "python",
     "metadata": {},
     "outputs": [],
     "prompt_number": 183
    },
    {
     "cell_type": "code",
     "collapsed": false,
     "input": [
      "gain_shot = np.array([np.array(p.gain_shot(f, ne, n, t, tp, tc, vsw)) for f in fbins])"
     ],
     "language": "python",
     "metadata": {},
     "outputs": [],
     "prompt_number": 184
    },
    {
     "cell_type": "code",
     "collapsed": false,
     "input": [
      "gain = gain_shot[:,0]\n",
      "shot_noise = gain_shot[:, 1]"
     ],
     "language": "python",
     "metadata": {},
     "outputs": [],
     "prompt_number": 185
    },
    {
     "cell_type": "code",
     "collapsed": false,
     "input": [
      "m_dat=readsav('/Users/tongyuguang/Google Drive/research/data/meudon_tnr/TNR_XY_ACE_19950625.sav')\n",
      "m_data=m_dat['data']\n",
      "mt = m_data['timeur8'][0]\n",
      "mtag = m_data['time'][0]"
     ],
     "language": "python",
     "metadata": {},
     "outputs": [],
     "prompt_number": 186
    },
    {
     "cell_type": "code",
     "collapsed": false,
     "input": [
      "mtag[5223]"
     ],
     "language": "python",
     "metadata": {},
     "outputs": [
      {
       "metadata": {},
       "output_type": "pyout",
       "prompt_number": 191,
       "text": [
        "b'25-JUN-1995, 06:33:03.488'"
       ]
      }
     ],
     "prompt_number": 191
    },
    {
     "cell_type": "code",
     "collapsed": false,
     "input": [
      " "
     ],
     "language": "python",
     "metadata": {},
     "outputs": [],
     "prompt_number": 192
    },
    {
     "cell_type": "code",
     "collapsed": false,
     "input": [],
     "language": "python",
     "metadata": {},
     "outputs": []
    },
    {
     "cell_type": "code",
     "collapsed": false,
     "input": [
      "plt.rc('text', usetex=False)\n",
      "plt.rc('font', family='serif')\n",
      "fig = plt.figure(figsize=[6, 6])\n",
      "plt.plot(fbins/1000, (electron_noise + proton_noise + shot_noise)/gain, label='theory')\n",
      "plt.plot(fbins/1000, spec, 'o', markersize=2, label='WIND data')\n",
      "plt.plot(fbins/1000, electron_noise/gain,'--', label='electron')\n",
      "plt.plot(fbins/1000, proton_noise/gain, '-.', label='proton')\n",
      "plt.plot(fbins/1000, shot_noise/gain, '--', label='shot')\n",
      "plt.xscale('log')\n",
      "plt.yscale('log')\n",
      "plt.xlim([4, 256])\n",
      "plt.ylim([1e-18, 1e-10])\n",
      "plt.xlabel(r'$f[kHz]$')\n",
      "plt.ylabel(r'$V_r^2[V^2Hz^{-1}]$')\n",
      "plt.title('25-JUN-1995, 06:33:03.488')\n",
      "plt.legend(loc='best')\n",
      "plt.show()"
     ],
     "language": "python",
     "metadata": {},
     "outputs": [
      {
       "metadata": {},
       "output_type": "display_data",
       "png": "[encoded data removed]",
       "text": [
        "<matplotlib.figure.Figure at 0x11d113c18>"
       ]
      }
     ],
     "prompt_number": 211
    },
    {
     "cell_type": "code",
     "collapsed": false,
     "input": [
      "fig.savefig('wind1.png', dpi=300)"
     ],
     "language": "python",
     "metadata": {},
     "outputs": [],
     "prompt_number": 203
    },
    {
     "cell_type": "heading",
     "level": 6,
     "metadata": {},
     "source": [
      "save data to file"
     ]
    },
    {
     "cell_type": "code",
     "collapsed": false,
     "input": [
      "np.savez('625_data', p_noise=proton_noise, e_noise = electron_noise, s_noise = shot_noise, gain = gain)"
     ],
     "language": "python",
     "metadata": {},
     "outputs": [],
     "prompt_number": 204
    },
    {
     "cell_type": "heading",
     "level": 1,
     "metadata": {},
     "source": [
      "Parallel/Perpendicular proton noise"
     ]
    },
    {
     "cell_type": "code",
     "collapsed": false,
     "input": [
      "from qtn.maxkappa import MaxKappa"
     ],
     "language": "python",
     "metadata": {},
     "outputs": [],
     "prompt_number": 1
    },
    {
     "cell_type": "code",
     "collapsed": false,
     "input": [
      "ant_len = 50      # m (monopole) \n",
      "ant_rad = 1.9e-4  # m\n",
      "base_cap = 20e-12 # Fara\n",
      "fbins = np.array([4000*2**((2*i+1)/32) for i in range(96)])\n",
      "\n",
      "ne = 12.28\n",
      "vsw=3.966e5\n",
      "tc = 9.91\n",
      "tp = 9.62\n",
      "t = 6.57\n",
      "n = 0.026\n",
      "fpe = 31.47e3\n",
      "k = 7"
     ],
     "language": "python",
     "metadata": {},
     "outputs": [],
     "prompt_number": 4
    },
    {
     "cell_type": "code",
     "collapsed": false,
     "input": [
      "fbins = np.array([4000*2**((2*i+1)/32) for i in range(96)])"
     ],
     "language": "python",
     "metadata": {},
     "outputs": [],
     "prompt_number": 5
    },
    {
     "cell_type": "code",
     "collapsed": false,
     "input": [
      "p = MaxKappa(ant_len, ant_rad, base_cap)"
     ],
     "language": "python",
     "metadata": {},
     "outputs": [],
     "prompt_number": 6
    },
    {
     "cell_type": "code",
     "collapsed": false,
     "input": [
      "proton_noise = np.array([p.proton(f, ne, n, t, tp, tc, k, vsw) for f in fbins])"
     ],
     "language": "python",
     "metadata": {},
     "outputs": [],
     "prompt_number": 7
    },
    {
     "cell_type": "code",
     "collapsed": false,
     "input": [
      "proton_noise_par = np.array([p.proton_parallel(f, ne, n, t, tp, tc, k, vsw) for f in fbins])"
     ],
     "language": "python",
     "metadata": {},
     "outputs": [],
     "prompt_number": 8
    },
    {
     "cell_type": "code",
     "collapsed": false,
     "input": [
      "proton_avg = 0.5*proton_noise + 0.5*proton_noise_par"
     ],
     "language": "python",
     "metadata": {},
     "outputs": [],
     "prompt_number": 9
    },
    {
     "cell_type": "code",
     "collapsed": false,
     "input": [
      "m_dat=readsav('/Users/tongyuguang/Google Drive/research/data/meudon_tnr/TNR_XY_ACE_19950625.sav')\n",
      "m_data=m_dat['data']\n",
      "mt = m_data['timeur8'][0]\n",
      "mtag = m_data['time'][0]"
     ],
     "language": "python",
     "metadata": {},
     "outputs": [
      {
       "output_type": "stream",
       "stream": "stderr",
       "text": [
        "/usr/local/lib/python3.4/site-packages/scipy/io/idl.py:167: UserWarning: warning: empty strings are now set to '' instead of None\n",
        "  warnings.warn(\"warning: empty strings are now set to '' instead of None\")\n"
       ]
      }
     ],
     "prompt_number": 12
    },
    {
     "cell_type": "code",
     "collapsed": false,
     "input": [
      "spec = m_data['spectra'][0][:, 5223]\n",
      "spec = 10. ** (spec/10.)"
     ],
     "language": "python",
     "metadata": {},
     "outputs": [],
     "prompt_number": 13
    },
    {
     "cell_type": "code",
     "collapsed": false,
     "input": [
      "plt.plot(fbins, proton_noise)\n",
      "plt.plot(fbins, proton_noise_par)\n",
      "plt.plot(fbins, proton_avg)\n",
      "plt.xscale('log')\n",
      "plt.yscale('log')\n",
      "plt.xlim([4e3, 256e3])\n",
      "plt.ylim([1e-18, 1e-10])\n",
      "plt.show()"
     ],
     "language": "python",
     "metadata": {},
     "outputs": [
      {
       "metadata": {},
       "output_type": "display_data",
       "png": "[encoded data removed]",
       "text": [
        "<matplotlib.figure.Figure at 0x1121c09e8>"
       ]
      }
     ],
     "prompt_number": 14
    },
    {
     "cell_type": "code",
     "collapsed": false,
     "input": [
      "dat625 = np.load('data/625_bimax.npz')"
     ],
     "language": "python",
     "metadata": {},
     "outputs": [],
     "prompt_number": 15
    },
    {
     "cell_type": "code",
     "collapsed": false,
     "input": [
      "dat625.files"
     ],
     "language": "python",
     "metadata": {},
     "outputs": [
      {
       "metadata": {},
       "output_type": "pyout",
       "prompt_number": 16,
       "text": [
        "['s_noise', 'gain', 'p_noise', 'e_noise']"
       ]
      }
     ],
     "prompt_number": 16
    },
    {
     "cell_type": "code",
     "collapsed": false,
     "input": [
      "s_noise = dat625['s_noise']\n",
      "gain = dat625['gain']\n",
      "e_noise = dat625['e_noise']"
     ],
     "language": "python",
     "metadata": {},
     "outputs": [],
     "prompt_number": 17
    },
    {
     "cell_type": "code",
     "collapsed": false,
     "input": [
      "fig = plt.figure(figsize=[6,6])\n",
      "plt.rc('text', usetex=True)\n",
      "plt.rc('font', family='serif')\n",
      "plt.plot(fbins, (s_noise + e_noise + proton_avg)/gain)\n",
      "plt.plot(fbins, (s_noise + e_noise + proton_noise)/gain)\n",
      "plt.plot(fbins, (s_noise + e_noise + proton_noise_par)/gain)\n",
      "plt.plot(fbins, spec)\n",
      "plt.xscale('log')\n",
      "plt.yscale('log')\n",
      "plt.xlim([4e3, 256e3])\n",
      "plt.ylim([1e-18, 1e-10])\n",
      "plt.annotate(\"{0}{1}\\n\".format(r'$\\sum x_i=$',5) + \"{0}{1}\".format(r'$\\sum x_i=$',5),xy=(0.05, 0.05), xycoords='axes fraction', fontsize=12)\n",
      "plt.show()"
     ],
     "language": "python",
     "metadata": {},
     "outputs": [
      {
       "metadata": {},
       "output_type": "display_data",
       "png": "[encoded data removed]",
       "text": [
        "<matplotlib.figure.Figure at 0x115aa9b38>"
       ]
      }
     ],
     "prompt_number": 76
    },
    {
     "cell_type": "code",
     "collapsed": false,
     "input": [],
     "language": "python",
     "metadata": {},
     "outputs": []
    }
   ],
   "metadata": {}
  }
 ]
}