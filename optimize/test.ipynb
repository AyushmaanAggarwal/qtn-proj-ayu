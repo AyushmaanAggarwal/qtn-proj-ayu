{
 "cells": [
  {
   "cell_type": "code",
   "execution_count": 1,
   "metadata": {
    "collapsed": false
   },
   "outputs": [],
   "source": [
    "from qtn.bimax import BiMax\n",
    "from qtn.new_bimax import new_BiMax\n",
    "from qtn.util import f1, j0\n",
    "from qtn.bimax_util import z_b, j02\n",
    "import numpy as np\n",
    "from sympy.mpmath import mp,fp\n",
    "import matplotlib.pyplot as plt\n",
    "import scipy.special\n",
    "%matplotlib inline"
   ]
  },
  {
   "cell_type": "code",
   "execution_count": 2,
   "metadata": {
    "collapsed": false
   },
   "outputs": [
    {
     "name": "stdout",
     "output_type": "stream",
     "text": [
      "4.444444444444445e-06\n"
     ]
    }
   ],
   "source": [
    "ant_len = 45 #50      # m (monopole) \n",
    "ant_rad = 2e-4 #1.9e-4  # m\n",
    "base_cap = 45e-12 # 20e-12 # Farad\n",
    "al_ratio = ant_rad / ant_len\n",
    "print(al_ratio)"
   ]
  },
  {
   "cell_type": "code",
   "execution_count": 3,
   "metadata": {
    "collapsed": true
   },
   "outputs": [],
   "source": [
    "p1 = BiMax(ant_len, ant_rad, base_cap)\n",
    "p2 = new_BiMax(ant_len, ant_rad, base_cap)"
   ]
  },
  {
   "cell_type": "code",
   "execution_count": 4,
   "metadata": {
    "collapsed": true
   },
   "outputs": [],
   "source": [
    "wrel, l, n, t, tc = 1.01, 5, 0.1, 10, 1\n",
    "wc = wrel * fp.sqrt(1 + n)"
   ]
  },
  {
   "cell_type": "code",
   "execution_count": 5,
   "metadata": {
    "collapsed": false
   },
   "outputs": [
    {
     "name": "stdout",
     "output_type": "stream",
     "text": [
      "guess =  11.882532303698467\n",
      "z0 =  12.3240053106\n",
      "dl_imag =  4.739281077209233e-06\n"
     ]
    },
    {
     "name": "stderr",
     "output_type": "stream",
     "text": [
      "/usr/local/lib/python3.4/site-packages/sympy/mpmath/ctx_fp.py:112: ComplexWarning: Casting complex values to real discards the imaginary part\n",
      "  return float(x)\n"
     ]
    },
    {
     "data": {
      "text/plain": [
       "6.4239452653743557e-14"
      ]
     },
     "execution_count": 5,
     "metadata": {},
     "output_type": "execute_result"
    }
   ],
   "source": [
    "p2.new_bimax(wrel, l, n, t, tc)"
   ]
  },
  {
   "cell_type": "code",
   "execution_count": 6,
   "metadata": {
    "collapsed": true
   },
   "outputs": [],
   "source": [
    "wrel_arr = np.array([0.1, 0.5, 0.6, 0.8, 0.9, 0.95, 0.99, 0.995, 1.005, 1.01, 1.02, 1.03, \\\n",
    "                         1.05, 1.08, 1.1, 1.2, 1.3, 1.5, \\\n",
    "                         1.7, 2.0, 2.3, 2.6, 3.0, 4, 6])\n"
   ]
  },
  {
   "cell_type": "code",
   "execution_count": 7,
   "metadata": {
    "collapsed": false
   },
   "outputs": [],
   "source": [
    "# p2.gamma(0.1, l, n, t, tc)"
   ]
  },
  {
   "cell_type": "code",
   "execution_count": 10,
   "metadata": {
    "collapsed": false
   },
   "outputs": [
    {
     "name": "stdout",
     "output_type": "stream",
     "text": [
      "guess =  16.6592028982\n",
      "z0 =  16.9361673752\n",
      "dl_imag =  1.71117088585036e-11\n",
      "guess =  11.8825323037\n",
      "z0 =  12.3240053106\n",
      "dl_imag =  4.739281077209233e-06\n",
      "guess =  8.54818565239\n",
      "z0 =  9.33052632226\n",
      "dl_imag =  0.0013177047084607441\n",
      "direct evaluating integral when peak is small\n",
      "guess =  7.09953799674\n",
      "z0 =  8.01237974505\n",
      "dl_imag =  0.008048754902384199\n",
      "direct evaluating integral when peak is small\n",
      "guess =  3.22019468195\n",
      "z0 =  3.31536663146\n",
      "dl_imag =  0.11401306111153262\n",
      "direct evaluating integral when peak is small\n",
      "guess = "
     ]
    },
    {
     "name": "stderr",
     "output_type": "stream",
     "text": [
      "/usr/local/lib/python3.4/site-packages/sympy/mpmath/ctx_fp.py:112: ComplexWarning: Casting complex values to real discards the imaginary part\n",
      "  return float(x)\n",
      "/Volumes/yuguang_sd/Google_Drive/research/projects/QTN/Tong/qtn-proj/qtn/new_bimax.py:41: RuntimeWarning: divide by zero encountered in double_scalars\n",
      "  fp.fabs(d_l(z, wc, n, t))**2 / wc**2\n"
     ]
    },
    {
     "name": "stdout",
     "output_type": "stream",
     "text": [
      " 2.95366963221\n",
      "z0 =  2.890918359\n",
      "dl_imag =  0.10718343939918838\n",
      "direct evaluating integral when peak is small\n",
      "guess =  2.833411734\n",
      "z0 =  2.73024981286\n",
      "dl_imag =  0.11272167307827054\n",
      "direct evaluating integral when peak is small\n",
      "guess =  2.53860062843\n",
      "z0 =  2.12783407914\n",
      "dl_imag =  0.2763333305943199\n",
      "direct evaluating integral when peak is small\n"
     ]
    },
    {
     "name": "stderr",
     "output_type": "stream",
     "text": [
      "/usr/local/lib/python3.4/site-packages/sympy/mpmath/calculus/quadrature.py:195: RuntimeWarning: invalid value encountered in double_scalars\n",
      "  D1 = self.ctx.log(abs(results[-1]-results[-2]), 10)\n"
     ]
    }
   ],
   "source": [
    "gain_arr = np.array([p2.new_bimax(wrel, l, n, t, tc) for wrel in wrel_arr])"
   ]
  },
  {
   "cell_type": "code",
   "execution_count": 11,
   "metadata": {
    "collapsed": false
   },
   "outputs": [
    {
     "data": {
      "text/plain": [
       "(0, 4)"
      ]
     },
     "execution_count": 11,
     "metadata": {},
     "output_type": "execute_result"
    },
    {
     "data": {
      "image/png": "[encoded data removed]",
      "text/plain": [
       "<matplotlib.figure.Figure at 0x113af8b70>"
      ]
     },
     "metadata": {},
     "output_type": "display_data"
    }
   ],
   "source": [
    "fig = plt.figure(figsize = [6, 6])\n",
    "plt.plot(wrel_arr, gain_arr, '-or', markersize = 1)\n",
    "# plt.xscale('log')\n",
    "plt.yscale('log')\n",
    "plt.axvline(1.0, linestyle = 'dashed')\n",
    "# plt.axhline(1.95, linestyle = 'dashed')\n",
    "# plt.ylim([0, 4])\n",
    "plt.xlim([0, 4])"
   ]
  },
  {
   "cell_type": "code",
   "execution_count": null,
   "metadata": {
    "collapsed": true
   },
   "outputs": [],
   "source": []
  },
  {
   "cell_type": "code",
   "execution_count": null,
   "metadata": {
    "collapsed": true
   },
   "outputs": [],
   "source": []
  }
 ],
 "metadata": {
  "kernelspec": {
   "display_name": "Python 3",
   "language": "python",
   "name": "python3"
  },
  "language_info": {
   "codemirror_mode": {
    "name": "ipython",
    "version": 3
   },
   "file_extension": ".py",
   "mimetype": "text/x-python",
   "name": "python",
   "nbconvert_exporter": "python",
   "pygments_lexer": "ipython3",
   "version": "3.4.3"
  }
 },
 "nbformat": 4,
 "nbformat_minor": 0
}
