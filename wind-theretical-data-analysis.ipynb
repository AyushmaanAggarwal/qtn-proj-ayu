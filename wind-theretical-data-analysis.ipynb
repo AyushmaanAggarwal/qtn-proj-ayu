{
 "cells": [
  {
   "cell_type": "code",
   "execution_count": 1,
   "metadata": {},
   "outputs": [],
   "source": [
    "# AYU CODE\n",
    "from scipy import fft\n",
    "from qtn.bimax import BiMax\n",
    "from qtn.util import (boltzmann, emass, echarge, permittivity, cspeed, fperp, fp)\n",
    "import numpy as np\n",
    "import mpmath as mp\n",
    "import matplotlib.pyplot as plt\n",
    "from pyspedas import wind\n",
    "from pytplot import tplot, get_data\n",
    "import time\n",
    "%matplotlib inline"
   ]
  },
  {
   "cell_type": "code",
   "execution_count": 2,
   "metadata": {},
   "outputs": [],
   "source": [
    "ant_len = 50      # m (monopole) \n",
    "ant_rad = 1.9e-4  # m\n",
    "base_cap = 20e-12 # Farad\n",
    "fbins = np.array([4000*1.0445**i for i in range(96)])"
   ]
  },
  {
   "cell_type": "code",
   "execution_count": 3,
   "metadata": {},
   "outputs": [],
   "source": [
    "vsw=3.966e4\n",
    "tc = 9.91 * echarge/boltzmann\n",
    "t = 6.57\n",
    "n = 0.026\n",
    "tep = 9.91/9.62\n",
    "tp = .3\n",
    "fpe = 31.47e3\n",
    "fpe = np.random.uniform(20, 70, 1000)"
   ]
  },
  {
   "cell_type": "code",
   "execution_count": 4,
   "metadata": {},
   "outputs": [],
   "source": [
    "ne = 12.28e6\n",
    "nc = ne/(1+n)\n",
    "ldc = np.sqrt(permittivity * boltzmann * tc/ nc / echarge**2)\n",
    "lrel = ant_len/ldc"
   ]
  },
  {
   "cell_type": "code",
   "execution_count": 5,
   "metadata": {},
   "outputs": [],
   "source": [
    "p = BiMax(ant_len, ant_rad, base_cap)"
   ]
  },
  {
   "cell_type": "code",
   "execution_count": 6,
   "metadata": {},
   "outputs": [],
   "source": [
    "wrelplots = [fbins/fpe_val for fpe_val in fpe]"
   ]
  },
  {
   "cell_type": "code",
   "execution_count": null,
   "metadata": {},
   "outputs": [],
   "source": [
    "g_s = []\n",
    "for wrelplot in wrelplots:\n",
    "    g_s.append(np.array([p.gamma_shot(wrel, lrel, n, t, tc) for wrel in wrelplot]))"
   ]
  },
  {
   "cell_type": "code",
   "execution_count": null,
   "metadata": {},
   "outputs": [],
   "source": [
    "def helper(wrel):\n",
    "    \"\"\"\n",
    "    add precision control to bimax function.\n",
    "    \n",
    "    \"\"\"\n",
    "    if wrel > 1 and wrel < 1.2:\n",
    "        mp.mp.dps = 40\n",
    "    else:\n",
    "        mp.mp.dps = 20\n",
    "    return p.bimax(wrel, lrel, n, t, tc)"
   ]
  },
  {
   "cell_type": "code",
   "execution_count": null,
   "metadata": {},
   "outputs": [],
   "source": [
    "enoise = []\n",
    "for wrelplot in wrelplots:\n",
    "    enoise.append(np.array([helper(wrel) for wrel in wrelplot]))"
   ]
  },
  {
   "cell_type": "code",
   "execution_count": null,
   "metadata": {},
   "outputs": [],
   "source": [
    "#Modified by AYU \n",
    "# - Was running into an parameter error \n",
    "# - need to fix to match up with reference graph\n",
    "pnoise = []\n",
    "for wrelplot in wrelplots:\n",
    "    pnoise.append(np.array([p.proton(wrel*np.sqrt(1+n), ne, n, t, tep, tc, vsw) for wrel in wrelplot]))"
   ]
  },
  {
   "cell_type": "code",
   "execution_count": null,
   "metadata": {},
   "outputs": [],
   "source": [
    "gamma = g_s[:, :, 0]\n",
    "shot = g_s[:,:, 1]\n",
    "vr2 = [enoise + pnoise + shot for i in range(len(shot))]\n",
    "vr2 = [[float(num) for num in vr] for vr in vr2]\n",
    "vr2_n = [list(map(lambda x: np.random.normal(x, np.mean(vr2)/7), vr)) for vr in vr2]"
   ]
  },
  {
   "cell_type": "code",
   "execution_count": null,
   "metadata": {},
   "outputs": [],
   "source": [
    "plt.rc('text', usetex=True)\n",
    "plt.rc('font', family='serif')\n",
    "fig = plt.figure(figsize=[6, 6])\n",
    "plt.plot(fbins/1000, vr2[0]/gamma, 'o-', markersize=2, label='total')\n",
    "plt.plot(fbins/1000, vr2_n[0]/gamma, 'o-', markersize=2, label='total')\n",
    "\n",
    "#plt.plot(fbins/1000, enoise/gamma, label='electron')\n",
    "#plt.plot(fbins/1000, pnoise/gamma, label='proton')\n",
    "#plt.plot(fbins/1000, shot/gamma, label='shot')\n",
    "plt.xscale('log')\n",
    "plt.yscale('log')\n",
    "#plt.xlim([4, 256])\n",
    "#plt.ylim([1e-16, 5e-13])\n",
    "plt.xlabel(r'$f[kHz]$')\n",
    "plt.ylabel(r'$V_r^2[V^2Hz^{-1}]$')\n",
    "plt.title('June 25 1995:06:33:06.432')\n",
    "plt.legend(loc='best')\n",
    "plt.show()"
   ]
  },
  {
   "cell_type": "code",
   "execution_count": null,
   "metadata": {},
   "outputs": [],
   "source": [
    "import shelve \n",
    "with shelve.open(\"data/thetoretical_data_test\") as file:\n",
    "    file[\"spectra\"] = [vr/gamma for vr in vr2]\n",
    "    file[\"freq\"] = fbins/1000\n",
    "    file[\"fpe\"] = fpe"
   ]
  },
  {
   "cell_type": "code",
   "execution_count": null,
   "metadata": {},
   "outputs": [],
   "source": [
    "# Import all\n",
    "import pandas as pd \n",
    "from sklearn.svm import OneClassSVM\n",
    "import numpy as np\n",
    "from numpy import where\n",
    "import matplotlib.pyplot as plt\n",
    "%matplotlib inline"
   ]
  },
  {
   "cell_type": "code",
   "execution_count": null,
   "metadata": {},
   "outputs": [],
   "source": [
    "df = pd.DataFrame(vr2/gamma)\n",
    "model = OneClassSVM(kernel = 'sigmoid', gamma = .001, nu = .5).fit(df)\n",
    "y_pred = model.predict(df)\n",
    "outliers = where(y_pred == -1)\n",
    "print(outliers)\n",
    "len(vr2)"
   ]
  },
  {
   "cell_type": "code",
   "execution_count": null,
   "metadata": {},
   "outputs": [],
   "source": [
    "plt.rc('text', usetex=True)\n",
    "plt.rc('font', family='serif')\n",
    "fig = plt.figure(figsize=[6, 6])\n",
    "plt.plot(fbins/1000, vr2/gamma, 'o-', markersize=2, label='total')\n",
    "plt.plot(fbins/1000, enoise/gamma, label='electron')\n",
    "plt.plot(fbins/1000, pnoise/gamma, label='proton')\n",
    "plt.plot(fbins/1000, shot/gamma, label='shot')\n",
    "plt.xscale('log')\n",
    "plt.yscale('log')\n",
    "plt.xlim([4, 256])\n",
    "plt.ylim([1e-16, 5e-13])\n",
    "plt.plot(fbins/1000, outliers)\n",
    "plt.xlabel(r'$f[kHz]$')\n",
    "plt.ylabel(r'$V_r^2[V^2Hz^{-1}]$')\n",
    "plt.title('June 25 1995:06:33:06.432')\n",
    "plt.legend(loc='best')\n",
    "plt.show()"
   ]
  },
  {
   "cell_type": "code",
   "execution_count": null,
   "metadata": {},
   "outputs": [],
   "source": [
    "a = list(range(100))\n",
    "a_n =  np.random.normal(a, np.mean(a)/20)\n",
    "plt.plot(a)\n",
    "plt.plot(a_n)"
   ]
  },
  {
   "cell_type": "code",
   "execution_count": null,
   "metadata": {},
   "outputs": [],
   "source": []
  }
 ],
 "metadata": {
  "kernelspec": {
   "display_name": "Python 3 (ipykernel)",
   "language": "python",
   "name": "python3"
  },
  "language_info": {
   "codemirror_mode": {
    "name": "ipython",
    "version": 3
   },
   "file_extension": ".py",
   "mimetype": "text/x-python",
   "name": "python",
   "nbconvert_exporter": "python",
   "pygments_lexer": "ipython3",
   "version": "3.10.4"
  },
  "name": ""
 },
 "nbformat": 4,
 "nbformat_minor": 4
}
