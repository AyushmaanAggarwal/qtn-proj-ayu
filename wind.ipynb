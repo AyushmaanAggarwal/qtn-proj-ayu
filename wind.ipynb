{
 "cells": [
  {
   "cell_type": "markdown",
   "metadata": {},
   "source": [
    "## Import Packages and Data"
   ]
  },
  {
   "cell_type": "code",
   "execution_count": 1,
   "metadata": {
    "tags": []
   },
   "outputs": [],
   "source": [
    "# AYU CODE\n",
    "from scipy import fft\n",
    "from qtn.bimax import BiMax\n",
    "from qtn.util import (boltzmann, emass, echarge, permittivity, cspeed, fperp, fp)\n",
    "import numpy as np\n",
    "import mpmath as mp\n",
    "import matplotlib.pyplot as plt\n",
    "from pyspedas import wind\n",
    "from pytplot import tplot, get_data\n",
    "import pandas as pd\n",
    "import time\n",
    "import netCDF4 as nc\n",
    "%matplotlib inline"
   ]
  },
  {
   "cell_type": "code",
   "execution_count": 2,
   "metadata": {},
   "outputs": [],
   "source": [
    "ant_len = 50      # m (monopole) \n",
    "ant_rad = 1.9e-4  # m\n",
    "base_cap = 20e-12 # Farad\n",
    "fbins = np.array([4000*1.0445**i for i in range(96)])"
   ]
  },
  {
   "cell_type": "code",
   "execution_count": 3,
   "metadata": {},
   "outputs": [],
   "source": [
    "def find_closest_time(time, lst):\n",
    "    return min(range(len(lst)), key=lambda i: abs(time-lst[i]))"
   ]
  },
  {
   "cell_type": "code",
   "execution_count": 4,
   "metadata": {},
   "outputs": [
    {
     "name": "stdout",
     "output_type": "stream",
     "text": [
      "<class 'netCDF4._netCDF4.Dataset'>\n",
      "root group (NETCDF3_CLASSIC data model, file format NETCDF3):\n",
      "    dimensions(sizes): n_times(19419), n_bins(96)\n",
      "    variables(dimensions): float64 tnr_ch1_time(n_times), float64 tnr_ch1_freq(n_bins), float64 tnr_ch1_spec(n_bins, n_times)\n",
      "    groups: \n",
      "19419\n"
     ]
    }
   ],
   "source": [
    "#data = wind.waves(trange=['1995-6-25', '1995-6-26'],get_support_data=True)\n",
    "ds =  nc.Dataset(\"data/wi_wav_tnr_19950625.nc\")\n",
    "print(ds)\n",
    "print(np.size(ds[\"tnr_ch1_time\"][:]))"
   ]
  },
  {
   "cell_type": "markdown",
   "metadata": {
    "tags": []
   },
   "source": [
    "## Plot 1: June 25, 1995 06:33:06.432"
   ]
  },
  {
   "cell_type": "markdown",
   "metadata": {
    "tags": []
   },
   "source": [
    "### Theoretical"
   ]
  },
  {
   "cell_type": "markdown",
   "metadata": {},
   "source": [
    "Need to import data for:\n",
    "vsw: Solar Wind Speed - Solar Wind Experiment(SWE)\n",
    "tc: core electron temperature\n",
    "fpe: core electron plasma frequency - \n",
    "n: "
   ]
  },
  {
   "cell_type": "code",
   "execution_count": 5,
   "metadata": {},
   "outputs": [],
   "source": [
    "vsw=3.966e5\n",
    "tc = 9.91 * echarge/boltzmann\n",
    "t = 6.57\n",
    "n = 0.026\n",
    "tep = 9.91/9.62\n",
    "fpe = 31.47e3"
   ]
  },
  {
   "cell_type": "code",
   "execution_count": 6,
   "metadata": {},
   "outputs": [
    {
     "name": "stdout",
     "output_type": "stream",
     "text": [
      "7.391617810601882\n"
     ]
    }
   ],
   "source": [
    "ne = 12.28e6\n",
    "nc = ne/(1+n)\n",
    "ldc = np.sqrt(permittivity * boltzmann * tc/ nc / echarge**2)\n",
    "lrel = ant_len/ldc\n",
    "print(lrel)"
   ]
  },
  {
   "cell_type": "code",
   "execution_count": 7,
   "metadata": {},
   "outputs": [],
   "source": [
    "p = BiMax(ant_len, ant_rad, base_cap)"
   ]
  },
  {
   "cell_type": "code",
   "execution_count": 8,
   "metadata": {},
   "outputs": [],
   "source": [
    "wrelplot = fbins/fpe"
   ]
  },
  {
   "cell_type": "code",
   "execution_count": 9,
   "metadata": {},
   "outputs": [],
   "source": [
    "g_s = np.array([p.gamma_shot(wrel, lrel, n, t, tc) for wrel in wrelplot])"
   ]
  },
  {
   "cell_type": "code",
   "execution_count": 10,
   "metadata": {},
   "outputs": [],
   "source": [
    "def helper(wrel):\n",
    "    \"\"\"\n",
    "    add precision control to bimax function.\n",
    "    \n",
    "    \"\"\"\n",
    "    if wrel > 1 and wrel < 1.2:\n",
    "        mp.mp.dps = 40\n",
    "    else:\n",
    "        mp.mp.dps = 20\n",
    "    return p.bimax(wrel, lrel, n, t, tc)"
   ]
  },
  {
   "cell_type": "code",
   "execution_count": 11,
   "metadata": {},
   "outputs": [],
   "source": [
    "enoise = np.array([helper(wrel) for wrel in wrelplot])"
   ]
  },
  {
   "cell_type": "code",
   "execution_count": 12,
   "metadata": {},
   "outputs": [],
   "source": [
    "#Modified by AYU \n",
    "# - Was running into an parameter error \n",
    "# - need to fix to match up with reference graph\n",
    "#pnoise = np.array([p.proton(wrel*np.sqrt(1+n), ne, n, t, tep, tc, vsw) for wrel in wrelplot])\n",
    "pnoise = np.array([p.proton2(wrel*np.sqrt(1+n), lrel, tep, tc, vsw) for wrel in wrelplot])"
   ]
  },
  {
   "cell_type": "code",
   "execution_count": 13,
   "metadata": {},
   "outputs": [],
   "source": [
    "gamma = g_s[:, 0]\n",
    "shot = g_s[:, 1]\n",
    "vr2 = enoise + pnoise + shot"
   ]
  },
  {
   "cell_type": "code",
   "execution_count": 14,
   "metadata": {},
   "outputs": [
    {
     "data": {
      "image/png": "[encoded data removed]",
      "text/plain": [
       "<Figure size 432x432 with 1 Axes>"
      ]
     },
     "metadata": {},
     "output_type": "display_data"
    }
   ],
   "source": [
    "plt.rc('text', usetex=True)\n",
    "plt.rc('font', family='serif')\n",
    "fig = plt.figure(figsize=[6, 6], facecolor='w')\n",
    "plt.plot(fbins/1000, vr2/gamma, 'o-', markersize=2, label='total')\n",
    "plt.plot(fbins/1000, enoise/gamma, label='electron')\n",
    "plt.plot(fbins/1000, pnoise/gamma, label='proton')\n",
    "plt.plot(fbins/1000, shot/gamma, label='shot')\n",
    "plt.xscale('log')\n",
    "plt.yscale('log')\n",
    "plt.xlim([4, 256])\n",
    "plt.ylim([1e-16, 5e-13])\n",
    "plt.xlabel(r'$f[kHz]$')\n",
    "plt.ylabel(r'$V_r^2[V^2Hz^{-1}]$')\n",
    "plt.title('June 25 1995:06:33:06.432')\n",
    "plt.legend(loc='best')\n",
    "plt.show()"
   ]
  },
  {
   "cell_type": "code",
   "execution_count": 15,
   "metadata": {},
   "outputs": [],
   "source": [
    "fig.savefig('plots/wind19950625_theoretical.png', dpi=300)"
   ]
  },
  {
   "cell_type": "markdown",
   "metadata": {
    "tags": []
   },
   "source": [
    "### Experimental"
   ]
  },
  {
   "cell_type": "markdown",
   "metadata": {},
   "source": [
    "#m_dat=readsav('/Users/Tong/Google Drive/research/data/meudon_tnr/TNR_XY_ACE_19950625.sav')\n",
    "#data = wind.waves(trange=['1995-6-25', '1995-6-26'],get_support_data=True)\n"
   ]
  },
  {
   "cell_type": "markdown",
   "metadata": {},
   "source": [
    "#tplot(['E_VOLTAGE_TNR'])"
   ]
  },
  {
   "cell_type": "markdown",
   "metadata": {},
   "source": [
    "# Here I imported the Voltage TNR data and tried to find the epoch time\n",
    "# Converting \n",
    "export_data = get_data('E_VOLTAGE_TNR')\n",
    "min_data = get_data('Minimum_voltage_TNR')\n",
    "df = pd.DataFrame(export_data.y)\n",
    "#df.describe()\n",
    "loc = min(range(len(export_data.times)), key=lambda i: abs(804061986.432-export_data.times[i]))\n",
    "#print(np.shape(export_data.y))\n",
    "#print(export_data.times[loc], loc)\n",
    "#print(\"TARGET TIME: \"+str(time.strftime(\"%d %b %Y %H:%M:%S\", time.gmtime(804061986))))\n",
    "\n",
    "#print(\"Closest times to Target Time\")\n",
    "#print(str(time.strftime(\"%d %b %Y %H:%M:%S\", time.gmtime(export_data.times[loc-1]))))\n",
    "print(str(time.strftime(\"%d %b %Y %H:%M:%S\", time.gmtime(export_data.times[loc]))))\n",
    "#print(str(time.strftime(\"%d %b %Y %H:%M:%S\", time.gmtime(export_data.times[loc+1]))))"
   ]
  },
  {
   "cell_type": "markdown",
   "metadata": {},
   "source": [
    "oldTime = export_data.times[0]-60\n",
    "for time in export_data.times:\n",
    "    if oldTime + 60 != time:\n",
    "        print(time)\n",
    "    oldTime = time"
   ]
  },
  {
   "cell_type": "markdown",
   "metadata": {},
   "source": [
    "data = wind.waves(trange=['1995-6-25', '1995-6-26'],get_support_data=True)"
   ]
  },
  {
   "cell_type": "code",
   "execution_count": 16,
   "metadata": {},
   "outputs": [
    {
     "name": "stdout",
     "output_type": "stream",
     "text": [
      "[9.7185170294017e-14, 7.313074538624811e-14, 5.302735926292154e-14, 3.793149849736809e-14, 2.89334352339151e-14, 2.2392366825123616e-14, 1.794320421716837e-14, 1.5448986725154426e-14, 1.3931568029453036e-14, 1.3498950350559801e-14, 1.2425103069290103e-14, 1.2187089485092812e-14, 1.1805924458138925e-14, 1.1441948798169872e-14, 1.131878993655418e-14, 1.0546297058996503e-14, 1.0749790488200815e-14, 1.0083237577615525e-14, 9.26616437493746e-15, 8.431405951147685e-15, 7.996501075653532e-15, 7.78036551039804e-15, 7.1039517000295234e-15, 6.450598332848311e-15, 6.0269834652118385e-15, 5.712155216230454e-15, 5.205950088015483e-15, 4.66122428001887e-15, 4.026243159764705e-15, 3.55631318568984e-15, 2.9908869650638324e-15, 2.4569708276368362e-15, 1.557758034831605e-15, 1.3950828503573704e-15, 1.2499711805783696e-15, 1.1500057186992375e-15, 1.0318106352675928e-15, 9.63385266142348e-16, 8.81048873008011e-16, 8.092822218443724e-16, 7.234358058506338e-16, 6.553902858334767e-16, 6.013121787899332e-16, 5.382697825162881e-16, 4.822808303816465e-16, 4.4350651102530384e-16, 5.260172663907063e-16, 5.573140604637285e-16, 4.042034350795009e-16, 3.668596944413426e-16, 3.4793650764909365e-16, 3.3853221281535306e-16, 3.207746206134084e-16, 3.0584402465105386e-16, 2.9308932452503126e-16, 2.821629583090804e-16, 2.6254273189937e-16, 2.5084185282523844e-16, 2.4027024985383276e-16, 2.355591616469393e-16, 2.2787674114329484e-16, 2.314195261511252e-16, 2.375198990470028e-16, 2.454143763137434e-16, 2.1188489620866483e-16, 2.04974577545339e-16, 1.8879913490962927e-16, 1.8437413677717412e-16, 1.8335805775977795e-16, 1.706082389003121e-16, 1.6764862660738944e-16, 1.794320421716837e-16, 1.8109230641640642e-16, 1.5456102884892018e-16, 4.0383132134885266e-16, 2.876073628863028e-16, 1.7250432972458388e-16, 1.4223287871228214e-16, 1.6432362237025636e-16, 1.9015160697745802e-16, 1.4750271017597563e-16, 1.3353650333271872e-16, 1.198119123190034e-16, 1.2609561959936845e-16, 1.277614993970792e-16, 1.2246161992650464e-16, 1.1694993910198746e-16, 1.0599856845091623e-16, 1.0587660331136948e-16, 1.0864256236170689e-16, 2.3905619353446257e-16, 2.223309890651401e-16, 1.7410049263526008e-16, 1.25342975458298e-16, 1.9444644164481306e-16, 2.5113081148680436e-16]\n"
     ]
    }
   ],
   "source": [
    "string = \"\"\"-130.124 -131.359 -132.755 -134.210 -135.386 -136.499 -137.461 -138.111\n",
    " -138.560 -138.697 -139.057 -139.141 -139.279 -139.415 -139.462 -139.769\n",
    " -139.686 -139.964 -140.331 -140.741 -140.971 -141.090 -141.485 -141.904\n",
    " -142.199 -142.432 -142.835 -143.315 -143.951 -144.490 -145.242 -146.096\n",
    " -148.075 -148.554 -149.031 -149.393 -149.864 -150.162 -150.550 -150.919\n",
    " -151.406 -151.835 -152.209 -152.690 -153.167 -153.531 -152.790 -152.539\n",
    " -153.934 -154.355 -154.585 -154.704 -154.938 -155.145 -155.330 -155.495\n",
    " -155.808 -156.006 -156.193 -156.279 -156.423 -156.356 -156.243 -156.101\n",
    " -156.739 -156.883 -157.240 -157.343 -157.367 -157.680 -157.756 -157.461\n",
    " -157.421 -158.109 -153.938 -155.412 -157.632 -158.470 -157.843 -157.209\n",
    " -158.312 -158.744 -159.215 -158.993 -158.936 -159.120 -159.320 -159.747\n",
    " -159.752 -159.640 -156.215 -156.530 -157.592 -159.019 -157.112 -156.001\"\"\"\n",
    "lst = string.split(\" \")\n",
    "lst = [float(num) for num in lst]\n",
    "print([10**(num/10) for num in lst])"
   ]
  },
  {
   "cell_type": "code",
   "execution_count": 17,
   "metadata": {},
   "outputs": [
    {
     "name": "stdout",
     "output_type": "stream",
     "text": [
      "Target Time: 25 Jun 1995 06:33:06\n",
      "Time Found: 25 Jun 1995 06:33:08.6399999856948853\n",
      "(96,)\n"
     ]
    },
    {
     "data": {
      "image/png": "[encoded data removed]",
      "text/plain": [
       "<Figure size 432x288 with 1 Axes>"
      ]
     },
     "metadata": {
      "needs_background": "light"
     },
     "output_type": "display_data"
    }
   ],
   "source": [
    "#export_data = get_data('E_VOLTAGE_TNR')\n",
    "#min_data = get_data('Minimum_voltage_TNR')\n",
    "\n",
    "#loc = min(range(len(export_data.times)), key=lambda i: abs(804061986.432-export_data.times[i]))\n",
    "#spec = export_data.y[loc][:]\n",
    "#min_spec = min_data.y[0][:]\n",
    "#freq = export_data.v\n",
    "\n",
    "loc = find_closest_time(804061986.432, ds[\"tnr_ch1_time\"])\n",
    "print(f\"Target Time: {time.strftime('%d %b %Y %H:%M:%S', time.gmtime(804061986.432))}\")\n",
    "print(f\"Time Found: {time.strftime('%d %b %Y %H:%M:%S', time.gmtime(int(ds['tnr_ch1_time'][loc])))}{str(ds['tnr_ch1_time'][loc]%1)[1:]}\")\n",
    "spec = ds[\"tnr_ch1_spec\"][:, loc][:]\n",
    "freq = ds[\"tnr_ch1_freq\"][:]\n",
    "#print(spec)\n",
    "\n",
    "spec /= 1e6\n",
    "\n",
    "#spec = np.multiply(spec,min_spec)\n",
    "\n",
    "spec = spec**2\n",
    "spec -= [10**(num/10) for num in lst]\n",
    "\n",
    "print(np.shape(spec))\n",
    "\n",
    "plt.plot(freq, spec)\n",
    "plt.xscale('log')\n",
    "plt.yscale('log')\n",
    "plt.show()"
   ]
  },
  {
   "cell_type": "code",
   "execution_count": 21,
   "metadata": {},
   "outputs": [
    {
     "data": {
      "image/png": "[encoded data removed]",
      "text/plain": [
       "<Figure size 432x432 with 1 Axes>"
      ]
     },
     "metadata": {},
     "output_type": "display_data"
    }
   ],
   "source": [
    "plt.rc('text', usetex=True)\n",
    "plt.rc('font', family='serif')\n",
    "fig = plt.figure(figsize=[6, 6], facecolor=\"white\")\n",
    "plt.plot(fbins/1000, vr2/gamma, label='theory')\n",
    "#plt.plot(fbins/1000, enoise/gamma, label='electron')\n",
    "#plt.plot(fbins/1000, pnoise/gamma, label='proton')\n",
    "#plt.plot(fbins/1000, shot/gamma, label='shot')\n",
    "plt.plot(fbins/1000, spec, 'o', markersize=3, label='WIND data')\n",
    "plt.xscale('log')\n",
    "plt.yscale('log')\n",
    "plt.xlim([4, 256])\n",
    "plt.ylim([1e-16, 5e-13])\n",
    "plt.xlabel(r'$f[kHz]$')\n",
    "plt.ylabel(r'$V_r^2[V^2Hz^{-1}]$')\n",
    "plt.title('June 25 1995:06:33:08.639')\n",
    "#plt.title('June 25 1995:06:33:06.432')\n",
    "plt.legend(loc='best')\n",
    "#plt.axvline(x=31.924165899128376)\n",
    "plt.show()\n",
    "fig.savefig('plots/wind19950625.png', dpi=500)"
   ]
  },
  {
   "cell_type": "markdown",
   "metadata": {
    "tags": []
   },
   "source": [
    "## Plot 2: June 25, 1995 18:52:34.344 GMT"
   ]
  },
  {
   "cell_type": "code",
   "execution_count": 19,
   "metadata": {},
   "outputs": [
    {
     "ename": "AssertionError",
     "evalue": "",
     "output_type": "error",
     "traceback": [
      "\u001b[0;31m---------------------------------------------------------------------------\u001b[0m",
      "\u001b[0;31mAssertionError\u001b[0m                            Traceback (most recent call last)",
      "\u001b[0;32m/tmp/ipykernel_34059/2103537015.py\u001b[0m in \u001b[0;36m<module>\u001b[0;34m\u001b[0m\n\u001b[0;32m----> 1\u001b[0;31m \u001b[0;32massert\u001b[0m \u001b[0;32mFalse\u001b[0m\u001b[0;34m\u001b[0m\u001b[0;34m\u001b[0m\u001b[0m\n\u001b[0m",
      "\u001b[0;31mAssertionError\u001b[0m: "
     ]
    }
   ],
   "source": [
    "assert False"
   ]
  },
  {
   "cell_type": "markdown",
   "metadata": {},
   "source": [
    "### Theoretical"
   ]
  },
  {
   "cell_type": "code",
   "execution_count": 20,
   "metadata": {},
   "outputs": [
    {
     "name": "stdout",
     "output_type": "stream",
     "text": [
      "140209.15454394044\n"
     ]
    }
   ],
   "source": [
    "vsw=7.61e5\n",
    "tc = 11.53 * echarge/boltzmann\n",
    "t = 5.57\n",
    "n = 0.059\n",
    "tep = 11.53/47.49\n",
    "fpe = 22.24e3\n",
    "te = tc * (1 + n)/(1 + n/t)\n",
    "print(te)\n",
    "te = te"
   ]
  },
  {
   "cell_type": "code",
   "execution_count": 21,
   "metadata": {},
   "outputs": [
    {
     "name": "stdout",
     "output_type": "stream",
     "text": [
      "4.765609260851047\n",
      "4.790782536518215\n"
     ]
    }
   ],
   "source": [
    "ne = 6.13e6\n",
    "nc = ne/(1+n)\n",
    "ldc = np.sqrt(permittivity * boltzmann * tc/ nc / echarge**2)\n",
    "lc = ant_len/ldc\n",
    "print(lc)\n",
    "lde = np.sqrt(permittivity * boltzmann * te/ ne / echarge**2)\n",
    "le = ant_len/lde\n",
    "print(le)"
   ]
  },
  {
   "cell_type": "code",
   "execution_count": 22,
   "metadata": {},
   "outputs": [],
   "source": [
    "p = BiMax(ant_len, ant_rad, base_cap)"
   ]
  },
  {
   "cell_type": "code",
   "execution_count": 23,
   "metadata": {},
   "outputs": [],
   "source": [
    "wrelplot = fbins/fpe"
   ]
  },
  {
   "cell_type": "code",
   "execution_count": 24,
   "metadata": {},
   "outputs": [],
   "source": [
    "#wrelplot = wrelplot[0:2]"
   ]
  },
  {
   "cell_type": "code",
   "execution_count": 25,
   "metadata": {},
   "outputs": [],
   "source": [
    "g_s = np.array([p.gamma_shot(wrel, lrel, n, t, tc) for wrel in wrelplot])"
   ]
  },
  {
   "cell_type": "code",
   "execution_count": 26,
   "metadata": {},
   "outputs": [
    {
     "data": {
      "text/plain": [
       "0.17985611510791366"
      ]
     },
     "execution_count": 26,
     "metadata": {},
     "output_type": "execute_result"
    }
   ],
   "source": [
    "wrelplot[0]"
   ]
  },
  {
   "cell_type": "code",
   "execution_count": 27,
   "metadata": {},
   "outputs": [
    {
     "name": "stdout",
     "output_type": "stream",
     "text": [
      "[mpf('1.3209226513215182'), mpf('1.3306412546792218e-15')]\n",
      "2.7102680810816977e-14\n",
      "2.817464386296281e-14\n"
     ]
    }
   ],
   "source": [
    "wrel = wrelplot[0]\n",
    "print(p.gamma_shot(wrel, lrel, n, t, tc))\n",
    "print(p.proton2(wrel, lc, tep, tc, vsw))\n",
    "print(p.proton2(wrel, le, tep, te, vsw))"
   ]
  },
  {
   "cell_type": "code",
   "execution_count": 28,
   "metadata": {},
   "outputs": [
    {
     "data": {
      "text/plain": [
       "3.067830642225273e-14"
      ]
     },
     "execution_count": 28,
     "metadata": {},
     "output_type": "execute_result"
    }
   ],
   "source": [
    "p.proton2(0.1, le, tep, te, vsw)"
   ]
  },
  {
   "cell_type": "code",
   "execution_count": 29,
   "metadata": {},
   "outputs": [],
   "source": [
    "def helper(wrel):\n",
    "    \"\"\"\n",
    "    add precision control to bimax function.\n",
    "    \n",
    "    \"\"\"\n",
    "    if wrel > 1 and wrel < 1.2:\n",
    "        mp.mp.dps = 40\n",
    "    else:\n",
    "        mp.mp.dps = 20\n",
    "    return p.bimax(wrel, lrel, n, t, tc)"
   ]
  },
  {
   "cell_type": "code",
   "execution_count": 30,
   "metadata": {},
   "outputs": [],
   "source": [
    "enoise = np.array([helper(wrel) for wrel in wrelplot])"
   ]
  },
  {
   "cell_type": "code",
   "execution_count": 31,
   "metadata": {},
   "outputs": [],
   "source": [
    "pnoise = np.array([p.proton2(wrel*np.sqrt(1+n), lrel, tep, tc, vsw) for wrel in wrelplot])"
   ]
  },
  {
   "cell_type": "code",
   "execution_count": 32,
   "metadata": {},
   "outputs": [
    {
     "data": {
      "image/png": "[encoded data removed]",
      "text/plain": [
       "<Figure size 432x432 with 1 Axes>"
      ]
     },
     "metadata": {
      "needs_background": "light"
     },
     "output_type": "display_data"
    }
   ],
   "source": [
    "fig = plt.figure(figsize=[6, 6])\n",
    "plt.plot(fbins/1000, pnoise, label='proton')\n",
    "plt.xscale('log')\n",
    "plt.yscale('log')\n",
    "plt.xlim([4, 256])\n",
    "plt.ylim([1e-16, 5e-13])\n",
    "plt.xlabel(r'$f[kHz]$')\n",
    "plt.ylabel(r'$V_r^2[V^2Hz^{-1}]$')\n",
    "plt.title('June 19 1995:18:52:35.344')\n",
    "plt.legend(loc='best')\n",
    "plt.show()"
   ]
  },
  {
   "cell_type": "code",
   "execution_count": 33,
   "metadata": {},
   "outputs": [],
   "source": [
    "gamma = g_s[:, 0]\n",
    "shot = g_s[:, 1]\n",
    "vr2 = enoise + pnoise + shot"
   ]
  },
  {
   "cell_type": "code",
   "execution_count": 34,
   "metadata": {},
   "outputs": [
    {
     "data": {
      "image/png": "[encoded data removed]",
      "text/plain": [
       "<Figure size 432x432 with 1 Axes>"
      ]
     },
     "metadata": {
      "needs_background": "light"
     },
     "output_type": "display_data"
    }
   ],
   "source": [
    "plt.rc('text', usetex=True)\n",
    "plt.rc('font', family='serif')\n",
    "fig = plt.figure(figsize=[6, 6])\n",
    "plt.plot(fbins/1000, vr2/gamma, 'o-', markersize=2, label='total')\n",
    "plt.plot(fbins/1000, enoise/gamma, label='electron')\n",
    "plt.plot(fbins/1000, pnoise/gamma, label='proton')\n",
    "plt.plot(fbins/1000, shot/gamma, label='shot')\n",
    "plt.xscale('log')\n",
    "plt.yscale('log')\n",
    "plt.xlim([4, 256])\n",
    "plt.ylim([1e-16, 5e-13])\n",
    "plt.xlabel(r'$f[kHz]$')\n",
    "plt.ylabel(r'$V_r^2[V^2Hz^{-1}]$')\n",
    "plt.title('June 19 1995:18:52:35.344')\n",
    "plt.legend(loc='best')\n",
    "plt.show()"
   ]
  },
  {
   "cell_type": "code",
   "execution_count": 35,
   "metadata": {},
   "outputs": [],
   "source": [
    "fig.savefig('plots/wind19950619_theoretical.png', dpi=300)"
   ]
  },
  {
   "cell_type": "markdown",
   "metadata": {},
   "source": [
    "### Experimental"
   ]
  },
  {
   "cell_type": "code",
   "execution_count": null,
   "metadata": {
    "tags": []
   },
   "outputs": [],
   "source": [
    "#m_dat=readsav('/Users/Tong/Google Drive/research/data/meudon_tnr/TNR_XY_ACE_19950619.sav')\n",
    "#export_data = get_data('E_VOLTAGE_TNR')\n",
    "#min_data = get_data('Minimum_voltage_TNR')\n",
    "\n",
    "#loc = min(range(len(export_data.times)), key=lambda i: abs(804106352.344-export_data.times[i]))\n",
    "\n",
    "#spec = export_data.y[loc][:]\n",
    "#min_spec = min_data.y[0][:]\n",
    "#freq = export_data.v\n",
    "\n",
    "loc = find_closest_time(804106352.344, ds[\"tnr_ch1_time\"][:])-1\n",
    "print(f\"Target Time: {time.strftime('%d %b %Y %H:%M:%S', time.gmtime(804061986.432))}\")\n",
    "print(f\"Time Found: {time.strftime('%d %b %Y %H:%M:%S', time.gmtime(int(ds['tnr_ch1_time'][loc])))}{str(ds['tnr_ch1_time'][loc]%1)[1:]}\")\n",
    "spec = ds[\"tnr_ch1_spec\"][:, loc][:]\n",
    "freq = ds[\"tnr_ch1_freq\"][:]\n",
    "#spec = 10. ** (spec/10.)\n",
    "spec /= 1e6\n",
    "\n",
    "#spec = np.multiply(spec,min_spec)\n",
    "\n",
    "spec = spec**2\n",
    "\n",
    "plt.plot(freq, spec)\n",
    "plt.xscale('log')\n",
    "plt.yscale('log')\n",
    "plt.show()"
   ]
  },
  {
   "cell_type": "code",
   "execution_count": null,
   "metadata": {},
   "outputs": [],
   "source": [
    "plt.rc('text', usetex=True)\n",
    "plt.rc('font', family='serif')\n",
    "fig = plt.figure(figsize=[6, 6], facecolor=\"white\")\n",
    "plt.plot(fbins/1000, vr2/gamma, label='theory')\n",
    "#plt.plot(fbins/1000, enoise/gamma, label='electron')\n",
    "#plt.plot(fbins/1000, pnoise/gamma, label='proton')\n",
    "#plt.plot(fbins/1000, shot/gamma, label='shot')\n",
    "plt.plot(fbins/1000 * 1.02, spec, 'o', markersize=2, label='WIND data')\n",
    "plt.xscale('log')\n",
    "plt.yscale('log')\n",
    "plt.xlim([4, 256])\n",
    "plt.ylim([1e-18, 1e-10])\n",
    "plt.xlabel(r'$f[kHz]$')\n",
    "plt.ylabel(r'$V_r^2[V^2Hz^{-1}]$')\n",
    "plt.title('19-JUN-1995, 18:52:32.400')\n",
    "plt.legend(loc='best')\n",
    "plt.show()"
   ]
  },
  {
   "cell_type": "code",
   "execution_count": null,
   "metadata": {},
   "outputs": [],
   "source": [
    "fig.savefig('plots/wind19950619.png', dpi=300)"
   ]
  },
  {
   "cell_type": "code",
   "execution_count": null,
   "metadata": {},
   "outputs": [],
   "source": []
  }
 ],
 "metadata": {
  "kernelspec": {
   "display_name": "Python 3 (ipykernel)",
   "language": "python",
   "name": "python3"
  },
  "language_info": {
   "codemirror_mode": {
    "name": "ipython",
    "version": 3
   },
   "file_extension": ".py",
   "mimetype": "text/x-python",
   "name": "python",
   "nbconvert_exporter": "python",
   "pygments_lexer": "ipython3",
   "version": "3.10.5"
  },
  "name": ""
 },
 "nbformat": 4,
 "nbformat_minor": 4
}
