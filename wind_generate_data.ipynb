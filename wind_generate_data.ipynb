{
 "cells": [
  {
   "cell_type": "markdown",
   "metadata": {
    "tags": []
   },
   "source": [
    "## Import Packages and Data"
   ]
  },
  {
   "cell_type": "code",
   "execution_count": 1,
   "metadata": {
    "tags": []
   },
   "outputs": [],
   "source": [
    "# AYU CODE\n",
    "import pickle\n",
    "import random\n",
    "from scipy import fft\n",
    "from qtn.bimax import BiMax\n",
    "from qtn.util import (boltzmann, emass, echarge, permittivity, cspeed, fperp, fp)\n",
    "import numpy as np\n",
    "import mpmath as mp\n",
    "import matplotlib.pyplot as plt\n",
    "from pyspedas import wind\n",
    "from pytplot import tplot, get_data\n",
    "import pandas as pd\n",
    "import time\n",
    "import netCDF4 as nc\n",
    "from functions import Timer\n",
    "%matplotlib inline"
   ]
  },
  {
   "cell_type": "code",
   "execution_count": 2,
   "metadata": {},
   "outputs": [
    {
     "data": {
      "text/plain": [
       "0.7274108574444563"
      ]
     },
     "execution_count": 2,
     "metadata": {},
     "output_type": "execute_result"
    }
   ],
   "source": [
    "random.random()"
   ]
  },
  {
   "cell_type": "code",
   "execution_count": 3,
   "metadata": {},
   "outputs": [],
   "source": [
    "def find_closest_time(time, lst):\n",
    "    \"\"\"\n",
    "    A function used to find the index of the closest time in a list \n",
    "    to the specific time held in the variable time\n",
    "    \"\"\"\n",
    "    return min(range(len(lst)), key=lambda i: abs(time-lst[i]))\n",
    "\n",
    "def helper(wrel, lrel, n, t, tc):\n",
    "    # add precision control to bimax function for enoise\n",
    "    mp.mp.dps = 3 if reduce_precison else (40 if wrel > 1 and wrel < 1.2 else 20) \n",
    "    return p.bimax(wrel, lrel, n, t, tc)\n",
    "\n",
    "# Functions to make code cleaner\n",
    "def gs_func(wrelplot, lrel, n, t, tc):\n",
    "    return np.array([p.gamma_shot(wrel, lrel, n, t, tc) for wrel in wrelplot])\n",
    "\n",
    "def enoise_func(wrelplot, lrel, n, t, tc): \n",
    "    return np.array([helper(wrel, lrel, n, t, tc) for wrel in wrelplot])\n",
    "\n",
    "def pnoise_func(wrelplot, lrel, tep, tc, vsw):\n",
    "    return np.array([p.proton2(wrel*np.sqrt(1+n), lrel, tep, tc, vsw) for wrel in wrelplot])\n",
    "\n",
    "gs_seperate = lambda gs: [gs[:,0], gs[:,1]]\n",
    "\n",
    "def calc_params(tc, ne, t, n): \n",
    "    fpe = (80.64828175895765*ne)**.5\n",
    "    nc = ne/(1+n)               \n",
    "    ldc = np.sqrt(permittivity * boltzmann * tc/ nc / echarge**2) \n",
    "    lrel = ant_len/ldc       \n",
    "    wrelplot = fbins/fpe\n",
    "    \n",
    "    return wrelplot, fpe, nc, lrel\n",
    "\n",
    "def calc_t(te,tc,n):\n",
    "    t = n/((1+n)/(te/tc) - 1)\n",
    "    return t"
   ]
  },
  {
   "cell_type": "code",
   "execution_count": 4,
   "metadata": {
    "tags": []
   },
   "outputs": [],
   "source": [
    "T = Timer.Timer()\n",
    "T.start()"
   ]
  },
  {
   "cell_type": "markdown",
   "metadata": {
    "tags": []
   },
   "source": [
    "### Imported Parameters\n",
    "* vsw: Solar Wind Speed                  - Solar Wind Experiment(SWE)\n",
    "* tc: core electron temperature ~ electron temperature - statistical paper \n",
    "* fpe: core electron plasma frequency    - Use WIND/WAVES NN\n",
    "* t: halo/core electron temperature ratio - \n",
    "* n: halo/core electron density ratio     - \n",
    "* tep: electron to proton temperature ratio - statistical paper \n",
    "\n",
    "### Calculated Parameters\n",
    "* ne: electron density\n",
    "* nc: core electron density       \n",
    "* ldc: core debye length                 \n",
    "* lrel: relative length of antenna"
   ]
  },
  {
   "cell_type": "markdown",
   "metadata": {
    "tags": []
   },
   "source": [
    "#### Fixed Parameters: Antenna Geometry"
   ]
  },
  {
   "cell_type": "code",
   "execution_count": 5,
   "metadata": {},
   "outputs": [],
   "source": [
    "# Antenna Geometry\n",
    "reduce_precison = True\n",
    "ant_len = 50      # m (monopole) \n",
    "ant_rad = 1.9e-4  # m\n",
    "base_cap = 20e-12 # Farad\n",
    "fbins = np.array([4000*1.0445**i for i in range(96)])"
   ]
  },
  {
   "cell_type": "markdown",
   "metadata": {
    "tags": []
   },
   "source": [
    "#### Changing Parameters: Plasma Parameters"
   ]
  },
  {
   "cell_type": "code",
   "execution_count": 6,
   "metadata": {},
   "outputs": [],
   "source": [
    "# Solar Wind Parameters\n",
    "vsw=3.966e5                   # Solar Wind Speed\n",
    "tc = 9.91 * echarge/boltzmann # Core electron temperature\n",
    "t = 6.57                      # ??? Only used to calculate electron noise and shot noise\n",
    "n = 0.026                     # ??? Some sort of ratio between core electron and normal electron density\n",
    "tep = 9.91/9.62               # Electron Temperature/Proton Temperature Ratio\n",
    "fpe = 31.47e3                 # Electron Plasma Frequency\n",
    "\n",
    "ne = 12.28e6 # Electron Density\n",
    "nc = ne/(1+n)                 # ??? Core Electron Density\n",
    "ldc = np.sqrt(permittivity * boltzmann * tc/ nc / echarge**2) # Debye Length\n",
    "lrel = ant_len/ldc            # Relative length antenna to debye length\n",
    "\n",
    "wrelplot = fbins/fpe"
   ]
  },
  {
   "cell_type": "code",
   "execution_count": 7,
   "metadata": {},
   "outputs": [
    {
     "data": {
      "text/plain": [
       "80.64828175895765"
      ]
     },
     "execution_count": 7,
     "metadata": {},
     "output_type": "execute_result"
    }
   ],
   "source": [
    "fpe**2/ne"
   ]
  },
  {
   "cell_type": "code",
   "execution_count": 8,
   "metadata": {},
   "outputs": [],
   "source": [
    "# Solar Wind Parameter Ranges\n",
    "vsw_ranges_km = [[250,300], [300,350], [350,400], [400,450], \n",
    "                [450,500], [500,550], [550,600], [600,650], \n",
    "                [650,700], [700,750], [750,800]]\n",
    "\n",
    "ne_ranges_log= [[1.10, 0.15], [1.05, 0.19], [0.96, 0.18],\n",
    "                [0.87, 0.18], [0.81, 0.19], [0.73, 0.19],\n",
    "                [0.67, 0.17], [0.66, 0.18], [0.62, 0.13],\n",
    "                [0.56, 0.11], [0.57, 0.08]]\n",
    "\n",
    "tep_ranges_log = [[0.72, 0.15], [0.64, 0.23], [0.42, 0.23],\n",
    "                 [0.27, 0.22], [0.11, 0.21], [0.00, 0.19],\n",
    "                 [-0.09, 0.19], [-0.23, 0.16], [-0.32, 0.12],\n",
    "                 [-0.37, 0.12], [-0.44, 0.08]]\n",
    "\n",
    "tc_ranges = [[8.84, 1.06], [10.02, 1.89], [10.07, 1.96],\n",
    "            [10.32, 1.89], [10.25, 1.75], [9.82, 1.74],\n",
    "            [9.64, 1.57], [8.39, 1.25], [7.12, 0.87],\n",
    "            [7.01, 0.84], [6.95, 0.91]]\n",
    "\n",
    "nh_nc_ranges_log = [[-1.82, 0.25], [-1.62, 0.28], [-1.51, 0.29],\n",
    "                   [-1.38, 0.24], [-1.34, 0.23], [-1.25, 0.21],\n",
    "                   [-1.20, 0.21], [-1.22, 0.23], [-1.21, 0.23],\n",
    "                   [-1.21, 0.22], [-1.16, 0.19]]\n",
    "\n",
    "th_tc_ranges_log = [[5.90, 0.92], [5.23, 0.97], [5.20, 0.94],\n",
    "                   [5.11, 0.93], [5.12, 0.83], [5.05, 0.99],\n",
    "                   [5.04, 1.00], [5.04, 1.03], [4.82, 1.01],\n",
    "                   [4.77, 1.08], [4.53, 0.92]]"
   ]
  },
  {
   "cell_type": "code",
   "execution_count": 9,
   "metadata": {},
   "outputs": [],
   "source": [
    "vsw_ranges       = np.array(vsw_ranges_km)*10**3\n",
    "ne_ranges_log    = np.array(ne_ranges_log)\n",
    "nh_nc_ranges_log = np.array(nh_nc_ranges_log)\n",
    "tep_ranges_log   = np.array(tep_ranges_log)\n",
    "tc_ranges        = np.array(tc_ranges)* echarge/boltzmann\n",
    "th_tc_ranges_log = np.array(th_tc_ranges_log)"
   ]
  },
  {
   "cell_type": "code",
   "execution_count": 87,
   "metadata": {},
   "outputs": [
    {
     "name": "stdout",
     "output_type": "stream",
     "text": [
      "[250000 300000] [12589254.11794167  4348174.32958296] [0.01513561 0.00871276] [1.86208714 0.9432751 ] [102583.95095697  12300.79049937] [5.9  0.92]\n"
     ]
    }
   ],
   "source": [
    "# Error propogation for log error\n",
    "# error = (partial 10^x / partial x) * log_error\n",
    "# error = ln(10)*10^x * log_error\n",
    "base10 = lambda x: 10**x\n",
    "base10error = lambda x, e: np.log(10)*(10**x)*e\n",
    "base10list = lambda lst: np.array([[base10(x), base10error(x,e)] for x, e in lst])\n",
    "\n",
    "ne_ranges    = base10list(ne_ranges_log)*1e6\n",
    "nh_nc_ranges = base10list(nh_nc_ranges_log)\n",
    "tep_ranges   = base10list(tep_ranges_log)\n",
    "th_tc_ranges = (th_tc_ranges_log)\n",
    "print(vsw_ranges[0], ne_ranges[0], nh_nc_ranges[0], tep_ranges[3], tc_ranges[0], th_tc_ranges[0])"
   ]
  },
  {
   "cell_type": "code",
   "execution_count": 88,
   "metadata": {},
   "outputs": [],
   "source": [
    "compute_midpoints = lambda lst: [lst[0]-(lst[1]-lst[0])/2]+[(lst[i+1]+lst[i])/2 for i in range(len(lst)-1)]+[lst[-1]+(lst[-1]-lst[-2])/2]\n",
    "linear_scale = lambda x, x_low, x_high, y_low, y_high: (x-x_low)/(x_high-x_low)*(y_high-y_low)+y_low \n",
    "\n",
    "ne_mid    = compute_midpoints(ne_ranges[:, 0])\n",
    "tep_mid   = compute_midpoints(tep_ranges[:, 0])\n",
    "tc_mid    = compute_midpoints(tc_ranges[:, 0])\n",
    "nh_nc_mid = compute_midpoints(nh_nc_ranges[:, 0])\n",
    "th_tc_mid = compute_midpoints(th_tc_ranges[:, 0])"
   ]
  },
  {
   "cell_type": "code",
   "execution_count": 93,
   "metadata": {},
   "outputs": [],
   "source": [
    "np.random.seed(1000)\n",
    "\n",
    "def gen_random_data():\n",
    "    index = np.random.randint(0, len(vsw_ranges))\n",
    "    # vsw, ne, tep, tc, n, t\n",
    "    sd_scale = 0\n",
    "    vsw_val, low, high = np.random.uniform(vsw_ranges[index,0], vsw_ranges[index,1]),vsw_ranges[index,0], vsw_ranges[index,1]\n",
    "    ne_val    = linear_scale(vsw_val, low, high, ne_mid[index],ne_mid[index+1])\n",
    "    tep_val   = linear_scale(vsw_val, low, high, tep_mid[index],tep_mid[index+1])\n",
    "    tc_val    = linear_scale(vsw_val, low, high, tc_mid[index],tc_mid[index+1])\n",
    "    nh_nc_val = linear_scale(vsw_val, low, high, nh_nc_mid[index],nh_nc_mid[index+1])\n",
    "    th_tc_val = linear_scale(vsw_val, low, high, th_tc_mid[index],th_tc_mid[index+1])\n",
    "    \n",
    "    return [vsw_val,\n",
    "            np.random.normal(ne_val,    ne_ranges[index, 1]*sd_scale),\n",
    "            np.random.normal(tep_val,   tep_ranges[index, 1]*sd_scale),\n",
    "            np.random.normal(tc_val,    tc_ranges[index, 1]*sd_scale),\n",
    "            np.random.normal(nh_nc_val, nh_nc_ranges[index, 1]*sd_scale),\n",
    "            np.random.normal(th_tc_val, th_tc_ranges[index, 1]*sd_scale)]\n",
    "\n",
    "data = np.array([gen_random_data() for _ in range(200)])"
   ]
  },
  {
   "cell_type": "code",
   "execution_count": 94,
   "metadata": {},
   "outputs": [
    {
     "data": {
      "image/png": "[encoded data removed]",
      "text/plain": [
       "<Figure size 432x288 with 1 Axes>"
      ]
     },
     "metadata": {
      "needs_background": "light"
     },
     "output_type": "display_data"
    },
    {
     "data": {
      "image/png": "[encoded data removed]",
      "text/plain": [
       "<Figure size 432x288 with 1 Axes>"
      ]
     },
     "metadata": {
      "needs_background": "light"
     },
     "output_type": "display_data"
    },
    {
     "data": {
      "image/png": "[encoded data removed]",
      "text/plain": [
       "<Figure size 432x288 with 1 Axes>"
      ]
     },
     "metadata": {
      "needs_background": "light"
     },
     "output_type": "display_data"
    },
    {
     "data": {
      "image/png": "[encoded data removed]",
      "text/plain": [
       "<Figure size 432x288 with 1 Axes>"
      ]
     },
     "metadata": {
      "needs_background": "light"
     },
     "output_type": "display_data"
    },
    {
     "data": {
      "image/png": "[encoded data removed]",
      "text/plain": [
       "<Figure size 432x288 with 1 Axes>"
      ]
     },
     "metadata": {
      "needs_background": "light"
     },
     "output_type": "display_data"
    }
   ],
   "source": [
    "plt.title(\"Ne\")\n",
    "plt.scatter(data[:,0], data[:,1])\n",
    "plt.errorbar(vsw_ranges[:,1]-25000,  ne_ranges[:,0], yerr=ne_ranges[:,1])\n",
    "plt.show()\n",
    "plt.title(\"n\")\n",
    "plt.scatter(data[:,0], data[:,4])\n",
    "plt.errorbar(vsw_ranges[:,1]-25000,  nh_nc_ranges[:,0], yerr=nh_nc_ranges[:,1])\n",
    "plt.show()\n",
    "plt.title(\"Tep\")\n",
    "plt.scatter(data[:,0], data[:,2])\n",
    "plt.errorbar(vsw_ranges[:,1]-25000,  tep_ranges[:,0], yerr=tep_ranges[:,1])\n",
    "plt.show()\n",
    "plt.title(\"Tc\")\n",
    "plt.scatter(data[:,0], data[:,3])\n",
    "plt.errorbar(vsw_ranges[:,1]-25000,  tc_ranges[:,0], yerr=tc_ranges[:,1])\n",
    "plt.show()\n",
    "plt.title(\"t\")\n",
    "plt.scatter(data[:,0], data[:,5])\n",
    "plt.errorbar(vsw_ranges[:,1]-25000,  th_tc_ranges[:,0], yerr=th_tc_ranges[:,1])\n",
    "plt.show()"
   ]
  },
  {
   "cell_type": "code",
   "execution_count": 95,
   "metadata": {},
   "outputs": [
    {
     "name": "stdout",
     "output_type": "stream",
     "text": [
      "Estimate time: 3333.0158233399998\n",
      "Size: 200\n"
     ]
    }
   ],
   "source": [
    "gamma_time = 10.2781822681\n",
    "enoise_time = 6.1188266277\n",
    "pnoise_time = 0.2680702209\n",
    "total_time = gamma_time+enoise_time+pnoise_time\n",
    "\n",
    "print(\"Estimate time:\", total_time*len(data))\n",
    "print(\"Size:\", len(data))"
   ]
  },
  {
   "cell_type": "code",
   "execution_count": 96,
   "metadata": {},
   "outputs": [],
   "source": [
    "p = BiMax(ant_len, ant_rad, base_cap,True)"
   ]
  },
  {
   "cell_type": "raw",
   "metadata": {},
   "source": [
    "T = Timer.Timer()\n",
    "T.start()\n",
    "\n",
    "wrelplot, ne, nc, lrel = calc_params(tc, fpe, t, n)\n",
    "T.lap()     \n",
    "gamma, shot = gs_seperate(gs_func(wrelplot, lrel, n, t, tc))\n",
    "T.lap()     \n",
    "enoise = enoise_func(wrelplot, lrel, n, t, tc)\n",
    "T.lap()     \n",
    "pnoise = pnoise_func(wrelplot, lrel, tep, tc, vsw)\n",
    "T.lap()     \n",
    "vr2 = (enoise + pnoise + shot)/gamma\n",
    "T.stop()\n",
    "print(T.summary())"
   ]
  },
  {
   "cell_type": "code",
   "execution_count": 97,
   "metadata": {},
   "outputs": [
    {
     "name": "stdout",
     "output_type": "stream",
     "text": [
      "0: 0.0001809597\n",
      "\n",
      "5: 87.5802373886\n",
      "\n",
      "10: 91.5833513737\n",
      "\n",
      "15: 90.7883856297\n",
      "\n",
      "20: 95.365459919\n",
      "\n",
      "25: 98.7576396465\n",
      "\n",
      "30: 92.8290843964\n",
      "\n",
      "35: 95.2813928127\n",
      "\n",
      "40: 97.3661131859\n",
      "\n",
      "45: 95.8220000267\n",
      "\n",
      "50: 97.3676617146\n",
      "\n",
      "55: 94.6747131348\n",
      "\n",
      "60: 92.4773175716\n",
      "\n",
      "65: 93.6030380726\n",
      "\n",
      "70: 98.3597512245\n",
      "\n",
      "75: 96.3523817062\n",
      "\n",
      "80: 121.9448878765\n",
      "\n",
      "85: 105.3042809963\n",
      "\n",
      "90: 100.9838964939\n",
      "\n",
      "95: 96.7154750824\n",
      "\n",
      "100: 97.6887764931\n",
      "\n",
      "105: 96.1594212055\n",
      "\n",
      "110: 98.8937785625\n",
      "\n",
      "115: 101.5650618076\n",
      "\n"
     ]
    },
    {
     "ename": "KeyboardInterrupt",
     "evalue": "",
     "output_type": "error",
     "traceback": [
      "\u001b[0;31m---------------------------------------------------------------------------\u001b[0m",
      "\u001b[0;31mKeyboardInterrupt\u001b[0m                         Traceback (most recent call last)",
      "\u001b[0;32m/tmp/ipykernel_1929/2968020099.py\u001b[0m in \u001b[0;36m<module>\u001b[0;34m\u001b[0m\n\u001b[1;32m     10\u001b[0m \u001b[0;34m\u001b[0m\u001b[0m\n\u001b[1;32m     11\u001b[0m     \u001b[0mwrelplot\u001b[0m\u001b[0;34m,\u001b[0m \u001b[0mfpe\u001b[0m\u001b[0;34m,\u001b[0m \u001b[0mnc\u001b[0m\u001b[0;34m,\u001b[0m \u001b[0mlrel\u001b[0m \u001b[0;34m=\u001b[0m \u001b[0mcalc_params\u001b[0m\u001b[0;34m(\u001b[0m\u001b[0mtc\u001b[0m\u001b[0;34m,\u001b[0m \u001b[0mne\u001b[0m\u001b[0;34m,\u001b[0m \u001b[0mt\u001b[0m\u001b[0;34m,\u001b[0m \u001b[0mn\u001b[0m\u001b[0;34m)\u001b[0m\u001b[0;34m\u001b[0m\u001b[0;34m\u001b[0m\u001b[0m\n\u001b[0;32m---> 12\u001b[0;31m     \u001b[0mgamma\u001b[0m\u001b[0;34m,\u001b[0m \u001b[0mshot\u001b[0m \u001b[0;34m=\u001b[0m \u001b[0mgs_seperate\u001b[0m\u001b[0;34m(\u001b[0m\u001b[0mgs_func\u001b[0m\u001b[0;34m(\u001b[0m\u001b[0mwrelplot\u001b[0m\u001b[0;34m,\u001b[0m \u001b[0mlrel\u001b[0m\u001b[0;34m,\u001b[0m \u001b[0mn\u001b[0m\u001b[0;34m,\u001b[0m \u001b[0mt\u001b[0m\u001b[0;34m,\u001b[0m \u001b[0mtc\u001b[0m\u001b[0;34m)\u001b[0m\u001b[0;34m)\u001b[0m\u001b[0;34m\u001b[0m\u001b[0;34m\u001b[0m\u001b[0m\n\u001b[0m\u001b[1;32m     13\u001b[0m     \u001b[0menoise\u001b[0m \u001b[0;34m=\u001b[0m \u001b[0menoise_func\u001b[0m\u001b[0;34m(\u001b[0m\u001b[0mwrelplot\u001b[0m\u001b[0;34m,\u001b[0m \u001b[0mlrel\u001b[0m\u001b[0;34m,\u001b[0m \u001b[0mn\u001b[0m\u001b[0;34m,\u001b[0m \u001b[0mt\u001b[0m\u001b[0;34m,\u001b[0m \u001b[0mtc\u001b[0m\u001b[0;34m)\u001b[0m\u001b[0;34m\u001b[0m\u001b[0;34m\u001b[0m\u001b[0m\n\u001b[1;32m     14\u001b[0m     \u001b[0mpnoise\u001b[0m \u001b[0;34m=\u001b[0m \u001b[0mpnoise_func\u001b[0m\u001b[0;34m(\u001b[0m\u001b[0mwrelplot\u001b[0m\u001b[0;34m,\u001b[0m \u001b[0mlrel\u001b[0m\u001b[0;34m,\u001b[0m \u001b[0mtep\u001b[0m\u001b[0;34m,\u001b[0m \u001b[0mtc\u001b[0m\u001b[0;34m,\u001b[0m \u001b[0mvsw\u001b[0m\u001b[0;34m)\u001b[0m\u001b[0;34m\u001b[0m\u001b[0;34m\u001b[0m\u001b[0m\n",
      "\u001b[0;32m/tmp/ipykernel_1929/3881510102.py\u001b[0m in \u001b[0;36mgs_func\u001b[0;34m(wrelplot, lrel, n, t, tc)\u001b[0m\n\u001b[1;32m     13\u001b[0m \u001b[0;31m# Functions to make code cleaner\u001b[0m\u001b[0;34m\u001b[0m\u001b[0;34m\u001b[0m\u001b[0m\n\u001b[1;32m     14\u001b[0m \u001b[0;32mdef\u001b[0m \u001b[0mgs_func\u001b[0m\u001b[0;34m(\u001b[0m\u001b[0mwrelplot\u001b[0m\u001b[0;34m,\u001b[0m \u001b[0mlrel\u001b[0m\u001b[0;34m,\u001b[0m \u001b[0mn\u001b[0m\u001b[0;34m,\u001b[0m \u001b[0mt\u001b[0m\u001b[0;34m,\u001b[0m \u001b[0mtc\u001b[0m\u001b[0;34m)\u001b[0m\u001b[0;34m:\u001b[0m\u001b[0;34m\u001b[0m\u001b[0;34m\u001b[0m\u001b[0m\n\u001b[0;32m---> 15\u001b[0;31m     \u001b[0;32mreturn\u001b[0m \u001b[0mnp\u001b[0m\u001b[0;34m.\u001b[0m\u001b[0marray\u001b[0m\u001b[0;34m(\u001b[0m\u001b[0;34m[\u001b[0m\u001b[0mp\u001b[0m\u001b[0;34m.\u001b[0m\u001b[0mgamma_shot\u001b[0m\u001b[0;34m(\u001b[0m\u001b[0mwrel\u001b[0m\u001b[0;34m,\u001b[0m \u001b[0mlrel\u001b[0m\u001b[0;34m,\u001b[0m \u001b[0mn\u001b[0m\u001b[0;34m,\u001b[0m \u001b[0mt\u001b[0m\u001b[0;34m,\u001b[0m \u001b[0mtc\u001b[0m\u001b[0;34m)\u001b[0m \u001b[0;32mfor\u001b[0m \u001b[0mwrel\u001b[0m \u001b[0;32min\u001b[0m \u001b[0mwrelplot\u001b[0m\u001b[0;34m]\u001b[0m\u001b[0;34m)\u001b[0m\u001b[0;34m\u001b[0m\u001b[0;34m\u001b[0m\u001b[0m\n\u001b[0m\u001b[1;32m     16\u001b[0m \u001b[0;34m\u001b[0m\u001b[0m\n\u001b[1;32m     17\u001b[0m \u001b[0;32mdef\u001b[0m \u001b[0menoise_func\u001b[0m\u001b[0;34m(\u001b[0m\u001b[0mwrelplot\u001b[0m\u001b[0;34m,\u001b[0m \u001b[0mlrel\u001b[0m\u001b[0;34m,\u001b[0m \u001b[0mn\u001b[0m\u001b[0;34m,\u001b[0m \u001b[0mt\u001b[0m\u001b[0;34m,\u001b[0m \u001b[0mtc\u001b[0m\u001b[0;34m)\u001b[0m\u001b[0;34m:\u001b[0m\u001b[0;34m\u001b[0m\u001b[0;34m\u001b[0m\u001b[0m\n",
      "\u001b[0;32m/tmp/ipykernel_1929/3881510102.py\u001b[0m in \u001b[0;36m<listcomp>\u001b[0;34m(.0)\u001b[0m\n\u001b[1;32m     13\u001b[0m \u001b[0;31m# Functions to make code cleaner\u001b[0m\u001b[0;34m\u001b[0m\u001b[0;34m\u001b[0m\u001b[0m\n\u001b[1;32m     14\u001b[0m \u001b[0;32mdef\u001b[0m \u001b[0mgs_func\u001b[0m\u001b[0;34m(\u001b[0m\u001b[0mwrelplot\u001b[0m\u001b[0;34m,\u001b[0m \u001b[0mlrel\u001b[0m\u001b[0;34m,\u001b[0m \u001b[0mn\u001b[0m\u001b[0;34m,\u001b[0m \u001b[0mt\u001b[0m\u001b[0;34m,\u001b[0m \u001b[0mtc\u001b[0m\u001b[0;34m)\u001b[0m\u001b[0;34m:\u001b[0m\u001b[0;34m\u001b[0m\u001b[0;34m\u001b[0m\u001b[0m\n\u001b[0;32m---> 15\u001b[0;31m     \u001b[0;32mreturn\u001b[0m \u001b[0mnp\u001b[0m\u001b[0;34m.\u001b[0m\u001b[0marray\u001b[0m\u001b[0;34m(\u001b[0m\u001b[0;34m[\u001b[0m\u001b[0mp\u001b[0m\u001b[0;34m.\u001b[0m\u001b[0mgamma_shot\u001b[0m\u001b[0;34m(\u001b[0m\u001b[0mwrel\u001b[0m\u001b[0;34m,\u001b[0m \u001b[0mlrel\u001b[0m\u001b[0;34m,\u001b[0m \u001b[0mn\u001b[0m\u001b[0;34m,\u001b[0m \u001b[0mt\u001b[0m\u001b[0;34m,\u001b[0m \u001b[0mtc\u001b[0m\u001b[0;34m)\u001b[0m \u001b[0;32mfor\u001b[0m \u001b[0mwrel\u001b[0m \u001b[0;32min\u001b[0m \u001b[0mwrelplot\u001b[0m\u001b[0;34m]\u001b[0m\u001b[0;34m)\u001b[0m\u001b[0;34m\u001b[0m\u001b[0;34m\u001b[0m\u001b[0m\n\u001b[0m\u001b[1;32m     16\u001b[0m \u001b[0;34m\u001b[0m\u001b[0m\n\u001b[1;32m     17\u001b[0m \u001b[0;32mdef\u001b[0m \u001b[0menoise_func\u001b[0m\u001b[0;34m(\u001b[0m\u001b[0mwrelplot\u001b[0m\u001b[0;34m,\u001b[0m \u001b[0mlrel\u001b[0m\u001b[0;34m,\u001b[0m \u001b[0mn\u001b[0m\u001b[0;34m,\u001b[0m \u001b[0mt\u001b[0m\u001b[0;34m,\u001b[0m \u001b[0mtc\u001b[0m\u001b[0;34m)\u001b[0m\u001b[0;34m:\u001b[0m\u001b[0;34m\u001b[0m\u001b[0;34m\u001b[0m\u001b[0m\n",
      "\u001b[0;32m~/Documents/College/Research/2022 Summer Research - Antenna Anomaly Detection and Measurement/Programming/qtn-proj-ayu/qtn/bimax.py\u001b[0m in \u001b[0;36mgamma_shot\u001b[0;34m(self, wrel, l, n, t, tc)\u001b[0m\n\u001b[1;32m    177\u001b[0m \u001b[0;34m\u001b[0m\u001b[0m\n\u001b[1;32m    178\u001b[0m         \u001b[0;31m# THE LINE BELOW TAKES NEARLY A SECOND TO RUN\u001b[0m\u001b[0;34m\u001b[0m\u001b[0;34m\u001b[0m\u001b[0m\n\u001b[0;32m--> 179\u001b[0;31m         \u001b[0mza\u001b[0m \u001b[0;34m=\u001b[0m \u001b[0mself\u001b[0m\u001b[0;34m.\u001b[0m\u001b[0mza_l\u001b[0m\u001b[0;34m(\u001b[0m\u001b[0mwc\u001b[0m\u001b[0;34m,\u001b[0m \u001b[0ml\u001b[0m\u001b[0;34m,\u001b[0m \u001b[0mn\u001b[0m\u001b[0;34m,\u001b[0m \u001b[0mt\u001b[0m\u001b[0;34m,\u001b[0m \u001b[0mtc\u001b[0m\u001b[0;34m)\u001b[0m\u001b[0;34m\u001b[0m\u001b[0;34m\u001b[0m\u001b[0m\n\u001b[0m\u001b[1;32m    180\u001b[0m \u001b[0;34m\u001b[0m\u001b[0m\n\u001b[1;32m    181\u001b[0m         \u001b[0mmp\u001b[0m\u001b[0;34m.\u001b[0m\u001b[0mmp\u001b[0m\u001b[0;34m.\u001b[0m\u001b[0mdps\u001b[0m \u001b[0;34m=\u001b[0m \u001b[0;36m15\u001b[0m\u001b[0;34m\u001b[0m\u001b[0;34m\u001b[0m\u001b[0m\n",
      "\u001b[0;32m~/Documents/College/Research/2022 Summer Research - Antenna Anomaly Detection and Measurement/Programming/qtn-proj-ayu/qtn/bimax.py\u001b[0m in \u001b[0;36mza_l\u001b[0;34m(self, wc, l, n, t, tc)\u001b[0m\n\u001b[1;32m    126\u001b[0m         \u001b[0mlimits\u001b[0m \u001b[0;34m=\u001b[0m \u001b[0mself\u001b[0m\u001b[0;34m.\u001b[0m\u001b[0mlong_interval\u001b[0m\u001b[0;34m(\u001b[0m\u001b[0mwc\u001b[0m\u001b[0;34m,\u001b[0m \u001b[0mn\u001b[0m\u001b[0;34m,\u001b[0m \u001b[0mt\u001b[0m\u001b[0;34m)\u001b[0m\u001b[0;34m\u001b[0m\u001b[0;34m\u001b[0m\u001b[0m\n\u001b[1;32m    127\u001b[0m         \u001b[0;31m# print(limits)\u001b[0m\u001b[0;34m\u001b[0m\u001b[0;34m\u001b[0m\u001b[0m\n\u001b[0;32m--> 128\u001b[0;31m         \u001b[0mresult\u001b[0m \u001b[0;34m=\u001b[0m \u001b[0mmp\u001b[0m\u001b[0;34m.\u001b[0m\u001b[0mquad\u001b[0m\u001b[0;34m(\u001b[0m\u001b[0;32mlambda\u001b[0m \u001b[0mz\u001b[0m\u001b[0;34m:\u001b[0m \u001b[0mself\u001b[0m\u001b[0;34m.\u001b[0m\u001b[0mza_l_integrand\u001b[0m\u001b[0;34m(\u001b[0m\u001b[0mz\u001b[0m\u001b[0;34m,\u001b[0m \u001b[0mwc\u001b[0m\u001b[0;34m,\u001b[0m \u001b[0ml\u001b[0m\u001b[0;34m,\u001b[0m \u001b[0mn\u001b[0m\u001b[0;34m,\u001b[0m \u001b[0mt\u001b[0m\u001b[0;34m)\u001b[0m\u001b[0;34m,\u001b[0m \u001b[0mlimits\u001b[0m\u001b[0;34m)\u001b[0m\u001b[0;34m\u001b[0m\u001b[0;34m\u001b[0m\u001b[0m\n\u001b[0m\u001b[1;32m    129\u001b[0m         \u001b[0;32mreturn\u001b[0m \u001b[0mresult\u001b[0m \u001b[0;34m*\u001b[0m \u001b[0mself\u001b[0m\u001b[0;34m.\u001b[0m\u001b[0mz_unit\u001b[0m \u001b[0;34m*\u001b[0m \u001b[0mmp\u001b[0m\u001b[0;34m.\u001b[0m\u001b[0mmpc\u001b[0m\u001b[0;34m(\u001b[0m\u001b[0;36m0\u001b[0m\u001b[0;34m,\u001b[0m \u001b[0;36m1\u001b[0m\u001b[0;34m)\u001b[0m \u001b[0;34m/\u001b[0m \u001b[0mmp\u001b[0m\u001b[0;34m.\u001b[0m\u001b[0msqrt\u001b[0m\u001b[0;34m(\u001b[0m\u001b[0mtc\u001b[0m\u001b[0;34m)\u001b[0m\u001b[0;34m\u001b[0m\u001b[0;34m\u001b[0m\u001b[0m\n\u001b[1;32m    130\u001b[0m \u001b[0;34m\u001b[0m\u001b[0m\n",
      "\u001b[0;32m~/.local/lib/python3.10/site-packages/mpmath/calculus/quadrature.py\u001b[0m in \u001b[0;36mquad\u001b[0;34m(ctx, f, *points, **kwargs)\u001b[0m\n\u001b[1;32m    743\u001b[0m             \u001b[0mctx\u001b[0m\u001b[0;34m.\u001b[0m\u001b[0mprec\u001b[0m \u001b[0;34m+=\u001b[0m \u001b[0;36m20\u001b[0m\u001b[0;34m\u001b[0m\u001b[0;34m\u001b[0m\u001b[0m\n\u001b[1;32m    744\u001b[0m             \u001b[0;32mif\u001b[0m \u001b[0mdim\u001b[0m \u001b[0;34m==\u001b[0m \u001b[0;36m1\u001b[0m\u001b[0;34m:\u001b[0m\u001b[0;34m\u001b[0m\u001b[0;34m\u001b[0m\u001b[0m\n\u001b[0;32m--> 745\u001b[0;31m                 \u001b[0mv\u001b[0m\u001b[0;34m,\u001b[0m \u001b[0merr\u001b[0m \u001b[0;34m=\u001b[0m \u001b[0mrule\u001b[0m\u001b[0;34m.\u001b[0m\u001b[0msummation\u001b[0m\u001b[0;34m(\u001b[0m\u001b[0mf\u001b[0m\u001b[0;34m,\u001b[0m \u001b[0mpoints\u001b[0m\u001b[0;34m[\u001b[0m\u001b[0;36m0\u001b[0m\u001b[0;34m]\u001b[0m\u001b[0;34m,\u001b[0m \u001b[0mprec\u001b[0m\u001b[0;34m,\u001b[0m \u001b[0mepsilon\u001b[0m\u001b[0;34m,\u001b[0m \u001b[0mm\u001b[0m\u001b[0;34m,\u001b[0m \u001b[0mverbose\u001b[0m\u001b[0;34m)\u001b[0m\u001b[0;34m\u001b[0m\u001b[0;34m\u001b[0m\u001b[0m\n\u001b[0m\u001b[1;32m    746\u001b[0m             \u001b[0;32melif\u001b[0m \u001b[0mdim\u001b[0m \u001b[0;34m==\u001b[0m \u001b[0;36m2\u001b[0m\u001b[0;34m:\u001b[0m\u001b[0;34m\u001b[0m\u001b[0;34m\u001b[0m\u001b[0m\n\u001b[1;32m    747\u001b[0m                 v, err = rule.summation(lambda x: \\\n",
      "\u001b[0;32m~/.local/lib/python3.10/site-packages/mpmath/calculus/quadrature.py\u001b[0m in \u001b[0;36msummation\u001b[0;34m(self, f, points, prec, epsilon, max_degree, verbose)\u001b[0m\n\u001b[1;32m    231\u001b[0m                     print(\"Integrating from %s to %s (degree %s of %s)\" % \\\n\u001b[1;32m    232\u001b[0m                         (ctx.nstr(a), ctx.nstr(b), degree, max_degree))\n\u001b[0;32m--> 233\u001b[0;31m                 \u001b[0mresult\u001b[0m \u001b[0;34m=\u001b[0m \u001b[0mself\u001b[0m\u001b[0;34m.\u001b[0m\u001b[0msum_next\u001b[0m\u001b[0;34m(\u001b[0m\u001b[0mf\u001b[0m\u001b[0;34m,\u001b[0m \u001b[0mnodes\u001b[0m\u001b[0;34m,\u001b[0m \u001b[0mdegree\u001b[0m\u001b[0;34m,\u001b[0m \u001b[0mprec\u001b[0m\u001b[0;34m,\u001b[0m \u001b[0mresults\u001b[0m\u001b[0;34m,\u001b[0m \u001b[0mverbose\u001b[0m\u001b[0;34m)\u001b[0m\u001b[0;34m\u001b[0m\u001b[0;34m\u001b[0m\u001b[0m\n\u001b[0m\u001b[1;32m    234\u001b[0m                 \u001b[0mresults\u001b[0m\u001b[0;34m.\u001b[0m\u001b[0mappend\u001b[0m\u001b[0;34m(\u001b[0m\u001b[0mresult\u001b[0m\u001b[0;34m)\u001b[0m\u001b[0;34m\u001b[0m\u001b[0;34m\u001b[0m\u001b[0m\n\u001b[1;32m    235\u001b[0m                 \u001b[0;32mif\u001b[0m \u001b[0mdegree\u001b[0m \u001b[0;34m>\u001b[0m \u001b[0;36m1\u001b[0m\u001b[0;34m:\u001b[0m\u001b[0;34m\u001b[0m\u001b[0;34m\u001b[0m\u001b[0m\n",
      "\u001b[0;32m~/.local/lib/python3.10/site-packages/mpmath/calculus/quadrature.py\u001b[0m in \u001b[0;36msum_next\u001b[0;34m(self, f, nodes, degree, prec, previous, verbose)\u001b[0m\n\u001b[1;32m    305\u001b[0m         \u001b[0;32melse\u001b[0m\u001b[0;34m:\u001b[0m\u001b[0;34m\u001b[0m\u001b[0;34m\u001b[0m\u001b[0m\n\u001b[1;32m    306\u001b[0m             \u001b[0mS\u001b[0m \u001b[0;34m=\u001b[0m \u001b[0mself\u001b[0m\u001b[0;34m.\u001b[0m\u001b[0mctx\u001b[0m\u001b[0;34m.\u001b[0m\u001b[0mzero\u001b[0m\u001b[0;34m\u001b[0m\u001b[0;34m\u001b[0m\u001b[0m\n\u001b[0;32m--> 307\u001b[0;31m         \u001b[0mS\u001b[0m \u001b[0;34m+=\u001b[0m \u001b[0mself\u001b[0m\u001b[0;34m.\u001b[0m\u001b[0mctx\u001b[0m\u001b[0;34m.\u001b[0m\u001b[0mfdot\u001b[0m\u001b[0;34m(\u001b[0m\u001b[0;34m(\u001b[0m\u001b[0mw\u001b[0m\u001b[0;34m,\u001b[0m\u001b[0mf\u001b[0m\u001b[0;34m(\u001b[0m\u001b[0mx\u001b[0m\u001b[0;34m)\u001b[0m\u001b[0;34m)\u001b[0m \u001b[0;32mfor\u001b[0m \u001b[0;34m(\u001b[0m\u001b[0mx\u001b[0m\u001b[0;34m,\u001b[0m\u001b[0mw\u001b[0m\u001b[0;34m)\u001b[0m \u001b[0;32min\u001b[0m \u001b[0mnodes\u001b[0m\u001b[0;34m)\u001b[0m\u001b[0;34m\u001b[0m\u001b[0;34m\u001b[0m\u001b[0m\n\u001b[0m\u001b[1;32m    308\u001b[0m         \u001b[0;32mreturn\u001b[0m \u001b[0mh\u001b[0m\u001b[0;34m*\u001b[0m\u001b[0mS\u001b[0m\u001b[0;34m\u001b[0m\u001b[0;34m\u001b[0m\u001b[0m\n\u001b[1;32m    309\u001b[0m \u001b[0;34m\u001b[0m\u001b[0m\n",
      "\u001b[0;32m~/.local/lib/python3.10/site-packages/mpmath/ctx_mp_python.py\u001b[0m in \u001b[0;36mfdot\u001b[0;34m(ctx, A, B, conjugate)\u001b[0m\n\u001b[1;32m    934\u001b[0m         \u001b[0mhasattr_\u001b[0m \u001b[0;34m=\u001b[0m \u001b[0mhasattr\u001b[0m\u001b[0;34m\u001b[0m\u001b[0;34m\u001b[0m\u001b[0m\n\u001b[1;32m    935\u001b[0m         \u001b[0mtypes\u001b[0m \u001b[0;34m=\u001b[0m \u001b[0;34m(\u001b[0m\u001b[0mctx\u001b[0m\u001b[0;34m.\u001b[0m\u001b[0mmpf\u001b[0m\u001b[0;34m,\u001b[0m \u001b[0mctx\u001b[0m\u001b[0;34m.\u001b[0m\u001b[0mmpc\u001b[0m\u001b[0;34m)\u001b[0m\u001b[0;34m\u001b[0m\u001b[0;34m\u001b[0m\u001b[0m\n\u001b[0;32m--> 936\u001b[0;31m         \u001b[0;32mfor\u001b[0m \u001b[0ma\u001b[0m\u001b[0;34m,\u001b[0m \u001b[0mb\u001b[0m \u001b[0;32min\u001b[0m \u001b[0mA\u001b[0m\u001b[0;34m:\u001b[0m\u001b[0;34m\u001b[0m\u001b[0;34m\u001b[0m\u001b[0m\n\u001b[0m\u001b[1;32m    937\u001b[0m             \u001b[0;32mif\u001b[0m \u001b[0mtype\u001b[0m\u001b[0;34m(\u001b[0m\u001b[0ma\u001b[0m\u001b[0;34m)\u001b[0m \u001b[0;32mnot\u001b[0m \u001b[0;32min\u001b[0m \u001b[0mtypes\u001b[0m\u001b[0;34m:\u001b[0m \u001b[0ma\u001b[0m \u001b[0;34m=\u001b[0m \u001b[0mctx\u001b[0m\u001b[0;34m.\u001b[0m\u001b[0mconvert\u001b[0m\u001b[0;34m(\u001b[0m\u001b[0ma\u001b[0m\u001b[0;34m)\u001b[0m\u001b[0;34m\u001b[0m\u001b[0;34m\u001b[0m\u001b[0m\n\u001b[1;32m    938\u001b[0m             \u001b[0;32mif\u001b[0m \u001b[0mtype\u001b[0m\u001b[0;34m(\u001b[0m\u001b[0mb\u001b[0m\u001b[0;34m)\u001b[0m \u001b[0;32mnot\u001b[0m \u001b[0;32min\u001b[0m \u001b[0mtypes\u001b[0m\u001b[0;34m:\u001b[0m \u001b[0mb\u001b[0m \u001b[0;34m=\u001b[0m \u001b[0mctx\u001b[0m\u001b[0;34m.\u001b[0m\u001b[0mconvert\u001b[0m\u001b[0;34m(\u001b[0m\u001b[0mb\u001b[0m\u001b[0;34m)\u001b[0m\u001b[0;34m\u001b[0m\u001b[0;34m\u001b[0m\u001b[0m\n",
      "\u001b[0;32m~/.local/lib/python3.10/site-packages/mpmath/calculus/quadrature.py\u001b[0m in \u001b[0;36m<genexpr>\u001b[0;34m(.0)\u001b[0m\n\u001b[1;32m    305\u001b[0m         \u001b[0;32melse\u001b[0m\u001b[0;34m:\u001b[0m\u001b[0;34m\u001b[0m\u001b[0;34m\u001b[0m\u001b[0m\n\u001b[1;32m    306\u001b[0m             \u001b[0mS\u001b[0m \u001b[0;34m=\u001b[0m \u001b[0mself\u001b[0m\u001b[0;34m.\u001b[0m\u001b[0mctx\u001b[0m\u001b[0;34m.\u001b[0m\u001b[0mzero\u001b[0m\u001b[0;34m\u001b[0m\u001b[0;34m\u001b[0m\u001b[0m\n\u001b[0;32m--> 307\u001b[0;31m         \u001b[0mS\u001b[0m \u001b[0;34m+=\u001b[0m \u001b[0mself\u001b[0m\u001b[0;34m.\u001b[0m\u001b[0mctx\u001b[0m\u001b[0;34m.\u001b[0m\u001b[0mfdot\u001b[0m\u001b[0;34m(\u001b[0m\u001b[0;34m(\u001b[0m\u001b[0mw\u001b[0m\u001b[0;34m,\u001b[0m\u001b[0mf\u001b[0m\u001b[0;34m(\u001b[0m\u001b[0mx\u001b[0m\u001b[0;34m)\u001b[0m\u001b[0;34m)\u001b[0m \u001b[0;32mfor\u001b[0m \u001b[0;34m(\u001b[0m\u001b[0mx\u001b[0m\u001b[0;34m,\u001b[0m\u001b[0mw\u001b[0m\u001b[0;34m)\u001b[0m \u001b[0;32min\u001b[0m \u001b[0mnodes\u001b[0m\u001b[0;34m)\u001b[0m\u001b[0;34m\u001b[0m\u001b[0;34m\u001b[0m\u001b[0m\n\u001b[0m\u001b[1;32m    308\u001b[0m         \u001b[0;32mreturn\u001b[0m \u001b[0mh\u001b[0m\u001b[0;34m*\u001b[0m\u001b[0mS\u001b[0m\u001b[0;34m\u001b[0m\u001b[0;34m\u001b[0m\u001b[0m\n\u001b[1;32m    309\u001b[0m \u001b[0;34m\u001b[0m\u001b[0m\n",
      "\u001b[0;32m~/Documents/College/Research/2022 Summer Research - Antenna Anomaly Detection and Measurement/Programming/qtn-proj-ayu/qtn/bimax.py\u001b[0m in \u001b[0;36m<lambda>\u001b[0;34m(z)\u001b[0m\n\u001b[1;32m    126\u001b[0m         \u001b[0mlimits\u001b[0m \u001b[0;34m=\u001b[0m \u001b[0mself\u001b[0m\u001b[0;34m.\u001b[0m\u001b[0mlong_interval\u001b[0m\u001b[0;34m(\u001b[0m\u001b[0mwc\u001b[0m\u001b[0;34m,\u001b[0m \u001b[0mn\u001b[0m\u001b[0;34m,\u001b[0m \u001b[0mt\u001b[0m\u001b[0;34m)\u001b[0m\u001b[0;34m\u001b[0m\u001b[0;34m\u001b[0m\u001b[0m\n\u001b[1;32m    127\u001b[0m         \u001b[0;31m# print(limits)\u001b[0m\u001b[0;34m\u001b[0m\u001b[0;34m\u001b[0m\u001b[0m\n\u001b[0;32m--> 128\u001b[0;31m         \u001b[0mresult\u001b[0m \u001b[0;34m=\u001b[0m \u001b[0mmp\u001b[0m\u001b[0;34m.\u001b[0m\u001b[0mquad\u001b[0m\u001b[0;34m(\u001b[0m\u001b[0;32mlambda\u001b[0m \u001b[0mz\u001b[0m\u001b[0;34m:\u001b[0m \u001b[0mself\u001b[0m\u001b[0;34m.\u001b[0m\u001b[0mza_l_integrand\u001b[0m\u001b[0;34m(\u001b[0m\u001b[0mz\u001b[0m\u001b[0;34m,\u001b[0m \u001b[0mwc\u001b[0m\u001b[0;34m,\u001b[0m \u001b[0ml\u001b[0m\u001b[0;34m,\u001b[0m \u001b[0mn\u001b[0m\u001b[0;34m,\u001b[0m \u001b[0mt\u001b[0m\u001b[0;34m)\u001b[0m\u001b[0;34m,\u001b[0m \u001b[0mlimits\u001b[0m\u001b[0;34m)\u001b[0m\u001b[0;34m\u001b[0m\u001b[0;34m\u001b[0m\u001b[0m\n\u001b[0m\u001b[1;32m    129\u001b[0m         \u001b[0;32mreturn\u001b[0m \u001b[0mresult\u001b[0m \u001b[0;34m*\u001b[0m \u001b[0mself\u001b[0m\u001b[0;34m.\u001b[0m\u001b[0mz_unit\u001b[0m \u001b[0;34m*\u001b[0m \u001b[0mmp\u001b[0m\u001b[0;34m.\u001b[0m\u001b[0mmpc\u001b[0m\u001b[0;34m(\u001b[0m\u001b[0;36m0\u001b[0m\u001b[0;34m,\u001b[0m \u001b[0;36m1\u001b[0m\u001b[0;34m)\u001b[0m \u001b[0;34m/\u001b[0m \u001b[0mmp\u001b[0m\u001b[0;34m.\u001b[0m\u001b[0msqrt\u001b[0m\u001b[0;34m(\u001b[0m\u001b[0mtc\u001b[0m\u001b[0;34m)\u001b[0m\u001b[0;34m\u001b[0m\u001b[0;34m\u001b[0m\u001b[0m\n\u001b[1;32m    130\u001b[0m \u001b[0;34m\u001b[0m\u001b[0m\n",
      "\u001b[0;32m~/Documents/College/Research/2022 Summer Research - Antenna Anomaly Detection and Measurement/Programming/qtn-proj-ayu/qtn/bimax.py\u001b[0m in \u001b[0;36mza_l_integrand\u001b[0;34m(self, z, wc, l, n, t)\u001b[0m\n\u001b[1;32m    112\u001b[0m         \"\"\"\n\u001b[1;32m    113\u001b[0m         \u001b[0mkl\u001b[0m \u001b[0;34m=\u001b[0m \u001b[0mwc\u001b[0m \u001b[0;34m*\u001b[0m \u001b[0ml\u001b[0m \u001b[0;34m/\u001b[0m \u001b[0mmp\u001b[0m\u001b[0;34m.\u001b[0m\u001b[0msqrt\u001b[0m\u001b[0;34m(\u001b[0m\u001b[0;36m2\u001b[0m\u001b[0;34m)\u001b[0m \u001b[0;34m/\u001b[0m \u001b[0mz\u001b[0m\u001b[0;34m\u001b[0m\u001b[0;34m\u001b[0m\u001b[0m\n\u001b[0;32m--> 114\u001b[0;31m         \u001b[0mka\u001b[0m \u001b[0;34m=\u001b[0m \u001b[0mkl\u001b[0m \u001b[0;34m*\u001b[0m \u001b[0mself\u001b[0m\u001b[0;34m.\u001b[0m\u001b[0mal_ratio\u001b[0m\u001b[0;34m\u001b[0m\u001b[0;34m\u001b[0m\u001b[0m\n\u001b[0m\u001b[1;32m    115\u001b[0m         \u001b[0mnum\u001b[0m \u001b[0;34m=\u001b[0m \u001b[0mf1\u001b[0m\u001b[0;34m(\u001b[0m\u001b[0mkl\u001b[0m\u001b[0;34m)\u001b[0m \u001b[0;34m*\u001b[0m \u001b[0mj0\u001b[0m\u001b[0;34m(\u001b[0m\u001b[0mka\u001b[0m\u001b[0;34m)\u001b[0m \u001b[0;34m**\u001b[0m \u001b[0;36m2\u001b[0m\u001b[0;34m\u001b[0m\u001b[0;34m\u001b[0m\u001b[0m\n\u001b[1;32m    116\u001b[0m         \u001b[0mdenom\u001b[0m \u001b[0;34m=\u001b[0m \u001b[0mz\u001b[0m \u001b[0;34m**\u001b[0m \u001b[0;36m2\u001b[0m \u001b[0;34m*\u001b[0m \u001b[0mBiMax\u001b[0m\u001b[0;34m.\u001b[0m\u001b[0md_l\u001b[0m\u001b[0;34m(\u001b[0m\u001b[0mz\u001b[0m\u001b[0;34m,\u001b[0m \u001b[0mwc\u001b[0m\u001b[0;34m,\u001b[0m \u001b[0mn\u001b[0m\u001b[0;34m,\u001b[0m \u001b[0mt\u001b[0m\u001b[0;34m)\u001b[0m\u001b[0;34m\u001b[0m\u001b[0;34m\u001b[0m\u001b[0m\n",
      "\u001b[0;32m~/.local/lib/python3.10/site-packages/mpmath/ctx_mp_python.py\u001b[0m in \u001b[0;36m__mul__\u001b[0;34m(self, other)\u001b[0m\n",
      "\u001b[0;32m~/.local/lib/python3.10/site-packages/mpmath/libmp/libmpf.py\u001b[0m in \u001b[0;36mpython_mpf_mul\u001b[0;34m(s, t, prec, rnd)\u001b[0m\n\u001b[1;32m    892\u001b[0m         \u001b[0mbc\u001b[0m \u001b[0;34m+=\u001b[0m \u001b[0mint\u001b[0m\u001b[0;34m(\u001b[0m\u001b[0mman\u001b[0m\u001b[0;34m>>\u001b[0m\u001b[0mbc\u001b[0m\u001b[0;34m)\u001b[0m\u001b[0;34m\u001b[0m\u001b[0;34m\u001b[0m\u001b[0m\n\u001b[1;32m    893\u001b[0m         \u001b[0;32mif\u001b[0m \u001b[0mprec\u001b[0m\u001b[0;34m:\u001b[0m\u001b[0;34m\u001b[0m\u001b[0;34m\u001b[0m\u001b[0m\n\u001b[0;32m--> 894\u001b[0;31m             \u001b[0;32mreturn\u001b[0m \u001b[0mnormalize1\u001b[0m\u001b[0;34m(\u001b[0m\u001b[0msign\u001b[0m\u001b[0;34m,\u001b[0m \u001b[0mman\u001b[0m\u001b[0;34m,\u001b[0m \u001b[0msexp\u001b[0m\u001b[0;34m+\u001b[0m\u001b[0mtexp\u001b[0m\u001b[0;34m,\u001b[0m \u001b[0mbc\u001b[0m\u001b[0;34m,\u001b[0m \u001b[0mprec\u001b[0m\u001b[0;34m,\u001b[0m \u001b[0mrnd\u001b[0m\u001b[0;34m)\u001b[0m\u001b[0;34m\u001b[0m\u001b[0;34m\u001b[0m\u001b[0m\n\u001b[0m\u001b[1;32m    895\u001b[0m         \u001b[0;32melse\u001b[0m\u001b[0;34m:\u001b[0m\u001b[0;34m\u001b[0m\u001b[0;34m\u001b[0m\u001b[0m\n\u001b[1;32m    896\u001b[0m             \u001b[0;32mreturn\u001b[0m \u001b[0;34m(\u001b[0m\u001b[0msign\u001b[0m\u001b[0;34m,\u001b[0m \u001b[0mman\u001b[0m\u001b[0;34m,\u001b[0m \u001b[0msexp\u001b[0m\u001b[0;34m+\u001b[0m\u001b[0mtexp\u001b[0m\u001b[0;34m,\u001b[0m \u001b[0mbc\u001b[0m\u001b[0;34m)\u001b[0m\u001b[0;34m\u001b[0m\u001b[0;34m\u001b[0m\u001b[0m\n",
      "\u001b[0;32m~/.local/lib/python3.10/site-packages/mpmath/libmp/libmpf.py\u001b[0m in \u001b[0;36m_normalize1\u001b[0;34m(sign, man, exp, bc, prec, rnd)\u001b[0m\n\u001b[1;32m    229\u001b[0m     \u001b[0;31m# Strip trailing bits\u001b[0m\u001b[0;34m\u001b[0m\u001b[0;34m\u001b[0m\u001b[0m\n\u001b[1;32m    230\u001b[0m     \u001b[0;32mif\u001b[0m \u001b[0;32mnot\u001b[0m \u001b[0mman\u001b[0m \u001b[0;34m&\u001b[0m \u001b[0;36m1\u001b[0m\u001b[0;34m:\u001b[0m\u001b[0;34m\u001b[0m\u001b[0;34m\u001b[0m\u001b[0m\n\u001b[0;32m--> 231\u001b[0;31m         \u001b[0mt\u001b[0m \u001b[0;34m=\u001b[0m \u001b[0mtrailtable\u001b[0m\u001b[0;34m[\u001b[0m\u001b[0mint\u001b[0m\u001b[0;34m(\u001b[0m\u001b[0mman\u001b[0m \u001b[0;34m&\u001b[0m \u001b[0;36m255\u001b[0m\u001b[0;34m)\u001b[0m\u001b[0;34m]\u001b[0m\u001b[0;34m\u001b[0m\u001b[0;34m\u001b[0m\u001b[0m\n\u001b[0m\u001b[1;32m    232\u001b[0m         \u001b[0;32mif\u001b[0m \u001b[0;32mnot\u001b[0m \u001b[0mt\u001b[0m\u001b[0;34m:\u001b[0m\u001b[0;34m\u001b[0m\u001b[0;34m\u001b[0m\u001b[0m\n\u001b[1;32m    233\u001b[0m             \u001b[0;32mwhile\u001b[0m \u001b[0;32mnot\u001b[0m \u001b[0mman\u001b[0m \u001b[0;34m&\u001b[0m \u001b[0;36m255\u001b[0m\u001b[0;34m:\u001b[0m\u001b[0;34m\u001b[0m\u001b[0;34m\u001b[0m\u001b[0m\n",
      "\u001b[0;31mKeyboardInterrupt\u001b[0m: "
     ]
    }
   ],
   "source": [
    "T = Timer.Timer()\n",
    "T.start()\n",
    "spectra = []\n",
    "data_params = []\n",
    "count = 0\n",
    "for vsw, ne, tep, tc, n, t in data:\n",
    "    if count%5==0:\n",
    "        T.lap(count)\n",
    "        print(T.last_lap())\n",
    "        \n",
    "    wrelplot, fpe, nc, lrel = calc_params(tc, ne, t, n)\n",
    "    gamma, shot = gs_seperate(gs_func(wrelplot, lrel, n, t, tc))\n",
    "    enoise = enoise_func(wrelplot, lrel, n, t, tc)\n",
    "    pnoise = pnoise_func(wrelplot, lrel, tep, tc, vsw)\n",
    "    vr2 = (enoise + pnoise + shot)/gamma\n",
    "        \n",
    "    spectra.append(vr2)\n",
    "    data_params.append([vsw, ne, tep, tc, n, t, fpe, nc])\n",
    "    count += 1\n",
    "\n",
    "T.stop()\n",
    "print(T.summary())"
   ]
  },
  {
   "cell_type": "code",
   "execution_count": null,
   "metadata": {},
   "outputs": [],
   "source": [
    "spectra_num = [[float((num)) for num in row] for row in spectra]"
   ]
  },
  {
   "cell_type": "code",
   "execution_count": null,
   "metadata": {},
   "outputs": [],
   "source": [
    "#vsw, ne, tep, tc, n, t, fpe, nc\n",
    "params = list(zip(*data_params))\n",
    "with open(\"data/synthetic_data_revised_v3\",'wb') as file:\n",
    "    pickle.dump({\"spectra\":spectra_num,\n",
    "                \"parameters\":{\"vsw\" :np.array(params[0]),#.repeat(1000, axis=0), \n",
    "                              \"ne\":np.array(params[1])/1e6,#.repeat(1000, axis=0), \n",
    "                              \"tep\" :np.array(params[2]),#.repeat(1000, axis=0), \n",
    "                              \"tc\" :np.array(params[3]),#.repeat(1000, axis=0), \n",
    "                              \"n\" :np.array(params[4]),#.repeat(1000, axis=0), \n",
    "                              \"t\" :np.array(params[5]),#.repeat(1000, axis=0), \n",
    "                              \"fpe\" :np.array(params[6])/1e3,#.repeat(1000, axis=0), \n",
    "                              \"nc\":np.array(params[7])}},#.repeat(1000, axis=0)}}, \n",
    "                file)"
   ]
  },
  {
   "cell_type": "code",
   "execution_count": 59,
   "metadata": {},
   "outputs": [
    {
     "data": {
      "text/plain": [
       "(200, 96)"
      ]
     },
     "execution_count": 59,
     "metadata": {},
     "output_type": "execute_result"
    }
   ],
   "source": [
    "np.shape(spectra_num)"
   ]
  },
  {
   "cell_type": "raw",
   "metadata": {},
   "source": [
    "rand = lambda: random.random()*2-1\n",
    "noise_spectra = [[num*(1+rand()*.05) for num in row] for row in np.array(spectra_num).repeat(1000, axis=0)]"
   ]
  },
  {
   "cell_type": "code",
   "execution_count": 80,
   "metadata": {},
   "outputs": [
    {
     "data": {
      "image/png": "[encoded data removed]",
      "text/plain": [
       "<Figure size 432x432 with 1 Axes>"
      ]
     },
     "metadata": {},
     "output_type": "display_data"
    }
   ],
   "source": [
    "#T.lap(\"Plot\")\n",
    "plt.rc('text', usetex=True)\n",
    "plt.rc('font', family='serif')\n",
    "fig = plt.figure(figsize=[6, 6], facecolor='w')\n",
    "for i in range(len(spectra)):\n",
    "    plt.plot(fbins/1000, spectra[i], 'o-', markersize=2, label=f\"fpe = {i}\", color=(params[1][i]/1.4e7, .5, .5))\n",
    "# plt.plot(fbins/1000, spectra[0], 'o-', markersize=2, label='fpe = 30e3')\n",
    "# plt.plot(fbins/1000, spectra[1], 'o-', markersize=2, label='fpe = 31e3')\n",
    "# plt.plot(fbins/1000, spectra[2], 'o-', markersize=2, label='fpe = 32e3')\n",
    "# plt.plot(fbins/1000, spectra[4], 'o-', markersize=2, label='total')\n",
    "# plt.plot(fbins/1000, spectra[5], 'o-', markersize=2, label='total')\n",
    "# plt.plot(fbins/1000, spectra[6], 'o-', markersize=2, label='total')\n",
    "# plt.plot(fbins/1000, spectra[7], 'o-', markersize=2, label='total')\n",
    "#plt.plot(fbins/1000, enoise/gamma, label='electron')\n",
    "#plt.plot(fbins/1000, pnoise/gamma, label='proton')\n",
    "#plt.plot(fbins/1000, shot/gamma, label='shot')\n",
    "plt.xscale('log')\n",
    "plt.yscale('log')\n",
    "#plt.xlim([4, 256])\n",
    "#plt.ylim([1e-16, 5e-13])\n",
    "plt.xlabel(r'$f[kHz]$')\n",
    "plt.ylabel(r'$V_r^2[V^2Hz^{-1}]$')\n",
    "plt.title('ROUGH ESTIMATE')\n",
    "#plt.legend(loc='best')\n",
    "plt.savefig(\"plots/synthetic_params/fpe_v2.png\", dpi=150)\n",
    "plt.show()"
   ]
  },
  {
   "cell_type": "raw",
   "metadata": {},
   "source": [
    "#T.lap(\"Plot\")\n",
    "plt.rc('text', usetex=True)\n",
    "plt.rc('font', family='serif')\n",
    "\n",
    "fig, ax = plt.subplots(8,figsize=[6, 6], facecolor='w')\n",
    "for i in range(len(ax)):\n",
    "    for j in range(i, len(spectra), 8):\n",
    "        ax[i].plot(fbins/1000, spectra[j], 'o-', markersize=2, label=f\"fpe = {i, j}\")\n",
    "    ax[i].set_xscale('log')\n",
    "    ax[i].set_yscale('log')\n",
    "    ax[i].set_xlim([4, 256])\n",
    "    ax[i].set_ylim([1e-16, 5e-13])\n",
    "    ax[i].set_xlabel(r'$f[kHz]$')\n",
    "    ax[i].set_ylabel(r'$V_r^2[V^2Hz^{-1}]$')\n",
    "    ax[i].set_title(f'ROUGH ESTIMATE: {j}')\n",
    "    ax[i].legend(loc='best')\n",
    "plt.savefig(\"plots/synthetic_params/plot{i}_{j}.png\", dpi=150)\n",
    "plt.show()"
   ]
  },
  {
   "cell_type": "code",
   "execution_count": 20,
   "metadata": {},
   "outputs": [
    {
     "ename": "NameError",
     "evalue": "name 'error' is not defined",
     "output_type": "error",
     "traceback": [
      "\u001b[0;31m---------------------------------------------------------------------------\u001b[0m",
      "\u001b[0;31mNameError\u001b[0m                                 Traceback (most recent call last)",
      "\u001b[0;32m/tmp/ipykernel_4796/1499560347.py\u001b[0m in \u001b[0;36m<module>\u001b[0;34m\u001b[0m\n\u001b[0;32m----> 1\u001b[0;31m \u001b[0;32mraise\u001b[0m \u001b[0merror\u001b[0m\u001b[0;34m\u001b[0m\u001b[0;34m\u001b[0m\u001b[0m\n\u001b[0m\u001b[1;32m      2\u001b[0m \u001b[0mfig\u001b[0m\u001b[0;34m.\u001b[0m\u001b[0msavefig\u001b[0m\u001b[0;34m(\u001b[0m\u001b[0;34m'plots/wind19950625_theoretical.png'\u001b[0m\u001b[0;34m,\u001b[0m \u001b[0mdpi\u001b[0m\u001b[0;34m=\u001b[0m\u001b[0;36m300\u001b[0m\u001b[0;34m)\u001b[0m\u001b[0;34m\u001b[0m\u001b[0;34m\u001b[0m\u001b[0m\n",
      "\u001b[0;31mNameError\u001b[0m: name 'error' is not defined"
     ]
    }
   ],
   "source": [
    "raise error\n",
    "fig.savefig('plots/wind19950625_theoretical.png', dpi=300)"
   ]
  },
  {
   "cell_type": "code",
   "execution_count": 22,
   "metadata": {},
   "outputs": [
    {
     "data": {
      "text/html": [
       "<div>\n",
       "<style scoped>\n",
       "    .dataframe tbody tr th:only-of-type {\n",
       "        vertical-align: middle;\n",
       "    }\n",
       "\n",
       "    .dataframe tbody tr th {\n",
       "        vertical-align: top;\n",
       "    }\n",
       "\n",
       "    .dataframe thead th {\n",
       "        text-align: right;\n",
       "    }\n",
       "</style>\n",
       "<table border=\"1\" class=\"dataframe\">\n",
       "  <thead>\n",
       "    <tr style=\"text-align: right;\">\n",
       "      <th></th>\n",
       "      <th>0</th>\n",
       "    </tr>\n",
       "  </thead>\n",
       "  <tbody>\n",
       "    <tr>\n",
       "      <th>count</th>\n",
       "      <td>1000.000000</td>\n",
       "    </tr>\n",
       "    <tr>\n",
       "      <th>mean</th>\n",
       "      <td>22441.351734</td>\n",
       "    </tr>\n",
       "    <tr>\n",
       "      <th>std</th>\n",
       "      <td>4940.781916</td>\n",
       "    </tr>\n",
       "    <tr>\n",
       "      <th>min</th>\n",
       "      <td>15666.096075</td>\n",
       "    </tr>\n",
       "    <tr>\n",
       "      <th>25%</th>\n",
       "      <td>18274.023609</td>\n",
       "    </tr>\n",
       "    <tr>\n",
       "      <th>50%</th>\n",
       "      <td>20921.645447</td>\n",
       "    </tr>\n",
       "    <tr>\n",
       "      <th>75%</th>\n",
       "      <td>26077.058912</td>\n",
       "    </tr>\n",
       "    <tr>\n",
       "      <th>max</th>\n",
       "      <td>35094.489501</td>\n",
       "    </tr>\n",
       "  </tbody>\n",
       "</table>\n",
       "</div>"
      ],
      "text/plain": [
       "                  0\n",
       "count   1000.000000\n",
       "mean   22441.351734\n",
       "std     4940.781916\n",
       "min    15666.096075\n",
       "25%    18274.023609\n",
       "50%    20921.645447\n",
       "75%    26077.058912\n",
       "max    35094.489501"
      ]
     },
     "execution_count": 22,
     "metadata": {},
     "output_type": "execute_result"
    }
   ],
   "source": [
    "pd.DataFrame(np.array(params[6])).describe()"
   ]
  },
  {
   "cell_type": "code",
   "execution_count": null,
   "metadata": {},
   "outputs": [],
   "source": []
  }
 ],
 "metadata": {
  "kernelspec": {
   "display_name": "Python 3 (ipykernel)",
   "language": "python",
   "name": "python3"
  },
  "language_info": {
   "codemirror_mode": {
    "name": "ipython",
    "version": 3
   },
   "file_extension": ".py",
   "mimetype": "text/x-python",
   "name": "python",
   "nbconvert_exporter": "python",
   "pygments_lexer": "ipython3",
   "version": "3.10.5"
  },
  "name": ""
 },
 "nbformat": 4,
 "nbformat_minor": 4
}
