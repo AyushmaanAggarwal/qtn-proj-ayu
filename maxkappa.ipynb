{
 "metadata": {
  "name": "",
  "signature": "sha256:41e747bbb2b66975b87893f14e38fb56450601f5b7bdfd4702b69f236cbaeefc"
 },
 "nbformat": 3,
 "nbformat_minor": 0,
 "worksheets": [
  {
   "cells": [
    {
     "cell_type": "code",
     "collapsed": false,
     "input": [
      "from mpmath import hyp2f1, gamma\n",
      "import mpmath as mp\n",
      "from qtn.util import (boltzmann, emass, echarge, permittivity, cspeed, j0)\n",
      "import numpy as np\n",
      "import matplotlib.pyplot as plt"
     ],
     "language": "python",
     "metadata": {},
     "outputs": [],
     "prompt_number": 1
    },
    {
     "cell_type": "code",
     "collapsed": false,
     "input": [
      "def zk(z, k):\n",
      "    \"\"\"\n",
      "    modified dispersion function for Kappa distribution.\n",
      "    (Mace and Hellberg, 1995)\n",
      "    \n",
      "    \"\"\"\n",
      "    i = mp.mpc(0, 1)\n",
      "    coeff = i * (k + 0.5) * (k-0.5) / (mp.sqrt(k**3) * (k+1))\n",
      "    return coeff * hyp2f1(1, 2*k+2, k+2, (1-z/(i * mp.sqrt(k)))/2)\n",
      "\n",
      "def zp(x):\n",
      "    \"\"\"\n",
      "    plasma dispersion function                                \n",
      "    using complementary error function in mpmath library.                       \n",
      "                                                                                \n",
      "    \"\"\"\n",
      "    return -mp.sqrt(mp.pi) * mp.exp(-x**2) * mp.erfi(x) + mp.mpc(0, 1) * mp.sqrt(mp.pi) * mp.exp(-x**2)\n",
      "\n",
      "def zpd(x):\n",
      "    \"\"\"\n",
      "    Derivative of plasma dispersion function.                                                   \n",
      "                                                                                \n",
      "    \"\"\"\n",
      "    return -mp.mpf(2) * (mp.mpf(1) + x * zp(x))\n",
      "\n",
      "def f1(x):\n",
      "    \"\"\"\n",
      "    An angular integral that appears in electron noise calculation.\n",
      "    \n",
      "    \"\"\"\n",
      "    term1 = x * (mp.si(x) - 0.5 * mp.si(2*x))\n",
      "    term2 = -2 * mp.sin(0.5 * x)**4\n",
      "    return (term1 + term2)/x**2"
     ],
     "language": "python",
     "metadata": {},
     "outputs": [],
     "prompt_number": 2
    },
    {
     "cell_type": "code",
     "collapsed": false,
     "input": [
      "def e_l(zc, wc, n, t, k):\n",
      "    \"\"\"\n",
      "    longitudinal susceptibility tensor.\n",
      "    zc:= w/(k v_tc)\n",
      "    wc:= w/w_pc\n",
      "    k:= kappa\n",
      "    n: = nh/nc\n",
      "    t: = th/tc\n",
      "    \n",
      "    \"\"\"\n",
      "    tau = mp.sqrt(2*k/ (2*k-3) / t)\n",
      "    return 1 - (zc/wc)**2 * zpd(zc) \\\n",
      "        + 2 * n * (tau*zc/wc)**2 * (1-1/(2*k) + tau*zc * zk(tau*zc, k))\n",
      "    "
     ],
     "language": "python",
     "metadata": {},
     "outputs": [],
     "prompt_number": 3
    },
    {
     "cell_type": "code",
     "collapsed": false,
     "input": [
      "def b(zc, n, t, k):\n",
      "    \"\"\"\n",
      "    \n",
      "    \"\"\"\n",
      "    tau = mp.sqrt(2*k/ (2*k-3) / t)\n",
      "    b1 = zc * mp.exp(-zc**2)\n",
      "    b2 = n * tau * zc * gamma(k+1)/gamma(k-1/2)/k**(3/2)\n",
      "    b2 /= (1+ (zc * tau)**2 / k)**k\n",
      "    return b1 + b2"
     ],
     "language": "python",
     "metadata": {},
     "outputs": [],
     "prompt_number": 4
    },
    {
     "cell_type": "code",
     "collapsed": false,
     "input": [
      "def int_interval(wrel, n, t, k):\n",
      "    \"\"\"\n",
      "    find out the almost-singular point and\n",
      "    divide the integration integrals.\n",
      "    \n",
      "    \"\"\"\n",
      "    if wrel < 1:\n",
      "        return [0, mp.inf]\n",
      "    else:\n",
      "        guesses = [4, 6, 8, 10, 12, 14]\n",
      "    wc = wrel * mp.sqrt(1+n)\n",
      "    int_range = [0, mp.inf]\n",
      "    for guess in guesses:\n",
      "        try:\n",
      "            root = mp.findroot(lambda zc: e_l(zc, wc, n, t, k), guess)\n",
      "        except ValueError:\n",
      "            continue\n",
      "        unique = True\n",
      "        for z in int_range:\n",
      "            if mp.fabs(z - mp.fabs(root)) < 1e-4:\n",
      "                unique = False\n",
      "        if unique:\n",
      "            int_range += [mp.fabs(root)]\n",
      "    int_range = np.sort(int_range)\n",
      "    return int_range"
     ],
     "language": "python",
     "metadata": {},
     "outputs": [],
     "prompt_number": 5
    },
    {
     "cell_type": "code",
     "collapsed": false,
     "input": [],
     "language": "python",
     "metadata": {},
     "outputs": [],
     "prompt_number": 41
    },
    {
     "cell_type": "code",
     "collapsed": false,
     "input": [
      "def maxkappa_integrand(zc, wc, lc, n, t, k):\n",
      "    \"\"\"\n",
      "    integrand of electron noise integral.\n",
      "    lc:= l/ldc\n",
      "    \n",
      "    \"\"\"\n",
      "    num = f1(wc*lc/mp.sqrt(2)/zc) * b(zc, n, t, k)\n",
      "    denom = mp.fabs(e_l(zc, wc, n, t, k))**2\n",
      "    return num/denom"
     ],
     "language": "python",
     "metadata": {},
     "outputs": [],
     "prompt_number": 42
    },
    {
     "cell_type": "code",
     "collapsed": false,
     "input": [
      "def maxkappa(wrel, lc, n, t, k, Tc):\n",
      "    \"\"\"\n",
      "    integral in electron noise calculation.\n",
      "    wrel:= w/w_ptot, where w_ptot is the total electron plasma frequency\n",
      "    Tc:= core electron temperature\n",
      "    \n",
      "    \"\"\"\n",
      "    wc = wrel * mp.sqrt(1+n)\n",
      "    int_range = int_interval(wrel, n, t, k)\n",
      "    coeff = 16 * emass/mp.pi**(3/2) /permittivity /wc**2 * mp.sqrt(2*boltzmann*Tc/emass)\n",
      "    integral = mp.quad(lambda z: maxkappa_integrand(z, wc, lc, n, t, k), int_range)\n",
      "    return coeff * integral   "
     ],
     "language": "python",
     "metadata": {},
     "outputs": [],
     "prompt_number": 43
    },
    {
     "cell_type": "code",
     "collapsed": false,
     "input": [
      "def za_integrand(zc, wc, lc, n, t, k, al):\n",
      "    \"\"\"\n",
      "    integrand of the antenna integral\n",
      "    \"\"\"\n",
      "    kl = wc*lc/mp.sqrt(2)/zc\n",
      "    ka = kl * al\n",
      "    return f1(kl) * j0(ka)**2 / e_l(zc, wc, n, t, k) / zc**2  "
     ],
     "language": "python",
     "metadata": {},
     "outputs": [],
     "prompt_number": 44
    },
    {
     "cell_type": "code",
     "collapsed": false,
     "input": [
      "def za(wrel, lc, al, n, t, k, Tc):\n",
      "    \"\"\"\n",
      "    antenna impedance\n",
      "    \n",
      "    \"\"\"\n",
      "    wc = wrel * mp.sqrt(1+n)\n",
      "    coeff = 4*mp.mpc(0,1) / mp.pi**2 / permittivity\n",
      "    coeff *= mp.sqrt(emass/2/boltzmann/Tc)\n",
      "    int_range = int_interval(wrel, n, t, k)\n",
      "    integral = mp.quad(lambda zc: za_integrand(zc, wc, lc, n, t, k, al), int_range)\n",
      "    return coeff * integral"
     ],
     "language": "python",
     "metadata": {},
     "outputs": [],
     "prompt_number": 45
    },
    {
     "cell_type": "code",
     "collapsed": false,
     "input": [
      "mp.mp.dps"
     ],
     "language": "python",
     "metadata": {},
     "outputs": [
      {
       "metadata": {},
       "output_type": "pyout",
       "prompt_number": 22,
       "text": [
        "10"
       ]
      }
     ],
     "prompt_number": 22
    },
    {
     "cell_type": "code",
     "collapsed": false,
     "input": [
      "from qtn.maxkappa import MaxKappa\n",
      "import mpmath as mp"
     ],
     "language": "python",
     "metadata": {},
     "outputs": [],
     "prompt_number": 1
    },
    {
     "cell_type": "code",
     "collapsed": false,
     "input": [
      "mp.mp.dps = 20\n",
      "wrel = 1.01\n",
      "n=0\n",
      "wc = wrel * mp.sqrt(1+n)\n",
      "t=6.57\n",
      "k=10\n",
      "lc=8\n",
      "Tc = 1e5"
     ],
     "language": "python",
     "metadata": {},
     "outputs": [],
     "prompt_number": 12
    },
    {
     "cell_type": "code",
     "collapsed": false,
     "input": [
      "p = MaxKappa(50, 1.9e-4, 20e-12)"
     ],
     "language": "python",
     "metadata": {},
     "outputs": [],
     "prompt_number": 13
    },
    {
     "cell_type": "code",
     "collapsed": false,
     "input": [
      "mp.mp.dps = 10\n",
      "p.za(wrel, lc, n, t, k, Tc)"
     ],
     "language": "python",
     "metadata": {},
     "outputs": [
      {
       "metadata": {},
       "output_type": "pyout",
       "prompt_number": 14,
       "text": [
        "mpc(real='2818.095936149', imag='20911.20232844')"
       ]
      }
     ],
     "prompt_number": 14
    },
    {
     "cell_type": "code",
     "collapsed": false,
     "input": [
      "mp.mp.dps = 30\n",
      "p.za(wrel, lc, n, t, k, Tc)"
     ],
     "language": "python",
     "metadata": {},
     "outputs": [
      {
       "metadata": {},
       "output_type": "pyout",
       "prompt_number": 15,
       "text": [
        "mpc(real='6714.74027605441942092580597394855', imag='30757.1441001370720789452235131341')"
       ]
      }
     ],
     "prompt_number": 15
    },
    {
     "cell_type": "code",
     "collapsed": false,
     "input": [
      "mp.mp.dps = 40\n",
      "p.za(wrel, lc, n, t, k, Tc)"
     ],
     "language": "python",
     "metadata": {},
     "outputs": [
      {
       "metadata": {},
       "output_type": "pyout",
       "prompt_number": 16,
       "text": [
        "mpc(real='6715.653736930602372850719752008714315885457', imag='30770.75182813020825276697595809960268569635')"
       ]
      }
     ],
     "prompt_number": 16
    },
    {
     "cell_type": "code",
     "collapsed": false,
     "input": [
      "mp.mp.dps = 60\n",
      "print(p.za(wrel, lc, n, t, k, Tc))"
     ],
     "language": "python",
     "metadata": {},
     "outputs": []
    },
    {
     "cell_type": "code",
     "collapsed": false,
     "input": [
      "p.maxkappa(wrel, lc, n, t, k, Tc)"
     ],
     "language": "python",
     "metadata": {},
     "outputs": [
      {
       "output_type": "stream",
       "stream": "stdout",
       "text": [
        "[0 mpf('9.5542569568289561') mpf('+inf')]\n",
        "0.614062467562044\n"
       ]
      },
      {
       "metadata": {},
       "output_type": "pyout",
       "prompt_number": 19,
       "text": [
        "mpf('9.5492656541994019e-16')"
       ]
      }
     ],
     "prompt_number": 19
    },
    {
     "cell_type": "code",
     "collapsed": false,
     "input": [
      "mp.mp.dps"
     ],
     "language": "python",
     "metadata": {},
     "outputs": [
      {
       "metadata": {},
       "output_type": "pyout",
       "prompt_number": 23,
       "text": [
        "40"
       ]
      }
     ],
     "prompt_number": 23
    },
    {
     "cell_type": "code",
     "collapsed": false,
     "input": [
      "p2 = bimax.BiMax(50, 1.9e-4, 20e-12)"
     ],
     "language": "python",
     "metadata": {},
     "outputs": [],
     "prompt_number": 24
    },
    {
     "cell_type": "code",
     "collapsed": false,
     "input": [
      "p2.za_l(wc, lc, n, t, Tc)"
     ],
     "language": "python",
     "metadata": {},
     "outputs": [
      {
       "metadata": {},
       "output_type": "pyout",
       "prompt_number": 25,
       "text": [
        "mpc(real='7865.841544171453984508732425191954583250109', imag='34246.15886822808895739136169059359697265926')"
       ]
      }
     ],
     "prompt_number": 25
    },
    {
     "cell_type": "code",
     "collapsed": false,
     "input": [
      "p2.bimax(wrel, lc, n, t, Tc)"
     ],
     "language": "python",
     "metadata": {},
     "outputs": [
      {
       "metadata": {},
       "output_type": "pyout",
       "prompt_number": 26,
       "text": [
        "mpf('0.0000000000002338135199902986053823721685313884607372493')"
       ]
      }
     ],
     "prompt_number": 26
    },
    {
     "cell_type": "code",
     "collapsed": false,
     "input": [],
     "language": "python",
     "metadata": {},
     "outputs": []
    }
   ],
   "metadata": {}
  }
 ]
}