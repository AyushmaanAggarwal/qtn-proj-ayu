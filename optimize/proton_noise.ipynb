{
 "cells": [
  {
   "cell_type": "code",
   "execution_count": 1,
   "metadata": {
    "collapsed": false
   },
   "outputs": [],
   "source": [
    "from qtn.bimax import BiMax\n",
    "from qtn.bimax_sp import BiMax_sp\n",
    "from qtn.bimax_util import do_cprofile, fperp\n",
    "import numpy as np\n",
    "import matplotlib.pyplot as plt\n",
    "%matplotlib inline"
   ]
  },
  {
   "cell_type": "code",
   "execution_count": 2,
   "metadata": {
    "collapsed": true
   },
   "outputs": [],
   "source": [
    "ant_len = 50      # m (monopole) \n",
    "ant_rad = 1.9e-4  # m\n",
    "base_cap = 20e-12 # Farad"
   ]
  },
  {
   "cell_type": "code",
   "execution_count": 3,
   "metadata": {
    "collapsed": false
   },
   "outputs": [],
   "source": [
    "p1 = BiMax(ant_len, ant_rad, base_cap)\n",
    "p2 = BiMax_sp(ant_len, ant_rad, base_cap)"
   ]
  },
  {
   "cell_type": "code",
   "execution_count": 4,
   "metadata": {
    "collapsed": true
   },
   "outputs": [],
   "source": [
    "f, ne, n, t, tp, tc, vsw = 60e4, 20, 0.05, 5, 10, 5, 6e6"
   ]
  },
  {
   "cell_type": "code",
   "execution_count": 5,
   "metadata": {
    "collapsed": false
   },
   "outputs": [],
   "source": [
    "@do_cprofile\n",
    "def h1(f, ne, n, t, tp, tc, vsw):\n",
    "    return p1.proton(f, ne, n, t, tp, tc, vsw)\n",
    "\n",
    "@do_cprofile\n",
    "def h2(f, ne, n, t, tp, tc, vsw):\n",
    "    return p2.proton_sp(f, ne, n, t, tp, tc, vsw)\n",
    "# vp = np.vectorize(helper)"
   ]
  },
  {
   "cell_type": "code",
   "execution_count": 6,
   "metadata": {
    "collapsed": false
   },
   "outputs": [
    {
     "name": "stdout",
     "output_type": "stream",
     "text": [
      "         957 function calls (952 primitive calls) in 0.006 seconds\n",
      "\n",
      "   Ordered by: internal time\n",
      "   List reduced from 35 to 20 due to restriction <20>\n",
      "\n",
      "   ncalls  tottime  percall  cumtime  percall filename:lineno(function)\n",
      "      435    0.005    0.000    0.005    0.000 util.py:173(fperp)\n",
      "      435    0.001    0.000    0.006    0.000 bimax.py:198(<lambda>)\n",
      "        1    0.000    0.000    0.006    0.006 {built-in method scipy.integrate._quadpack._qagie}\n",
      "        1    0.000    0.000    0.006    0.006 bimax.py:175(proton)\n",
      "      5/1    0.000    0.000    0.000    0.000 libelefun.py:211(bs_chudnovsky)\n",
      "      5/4    0.000    0.000    0.000    0.000 <string>:2(__mul__)\n",
      "        4    0.000    0.000    0.000    0.000 libmpf.py:410(from_float)\n",
      "        1    0.000    0.000    0.000    0.000 libmpf.py:1338(mpf_sqrt)\n",
      "        1    0.000    0.000    0.000    0.000 libelefun.py:233(pi_fixed)\n",
      "        1    0.000    0.000    0.000    0.000 ctx_mp_python.py:982(f)\n",
      "        8    0.000    0.000    0.000    0.000 {built-in method builtins.hasattr}\n",
      "        3    0.000    0.000    0.000    0.000 ctx_mp_python.py:595(make_mpf)\n",
      "        2    0.000    0.000    0.000    0.000 ctx_mp_python.py:621(convert)\n",
      "        6    0.000    0.000    0.000    0.000 {built-in method gmpy._mpmath_normalize}\n",
      "        1    0.000    0.000    0.000    0.000 libelefun.py:114(f)\n",
      "        1    0.000    0.000    0.006    0.006 quadpack.py:45(quad)\n",
      "        5    0.000    0.000    0.000    0.000 {built-in method gmpy._mpmath_create}\n",
      "        1    0.000    0.000    0.000    0.000 libmpf.py:924(mpf_div)\n",
      "        1    0.000    0.000    0.000    0.000 libelefun.py:94(g)\n",
      "        8    0.000    0.000    0.000    0.000 {built-in method __new__ of type object at 0x1093d1ea0}\n",
      "\n",
      "\n",
      "6.59198823938924e-17\n",
      "         877 function calls in 0.006 seconds\n",
      "\n",
      "   Ordered by: internal time\n",
      "\n",
      "   ncalls  tottime  percall  cumtime  percall filename:lineno(function)\n",
      "      435    0.005    0.000    0.005    0.000 bimax_util.py:111(fperp)\n",
      "      435    0.001    0.000    0.006    0.000 bimax_sp.py:384(<lambda>)\n",
      "        1    0.000    0.000    0.006    0.006 {built-in method scipy.integrate._quadpack._qagie}\n",
      "        1    0.000    0.000    0.006    0.006 bimax_sp.py:339(proton_sp)\n",
      "        1    0.000    0.000    0.006    0.006 quadpack.py:45(quad)\n",
      "        1    0.000    0.000    0.006    0.006 <ipython-input-5-2d7d5f71840f>:5(h2)\n",
      "        1    0.000    0.000    0.006    0.006 quadpack.py:363(_quad)\n",
      "        1    0.000    0.000    0.000    0.000 {method 'disable' of '_lsprof.Profiler' objects}\n",
      "        1    0.000    0.000    0.000    0.000 {built-in method builtins.isinstance}\n",
      "\n",
      "\n",
      "6.04164987501e-17\n"
     ]
    }
   ],
   "source": [
    "print(h1(f, ne, n, t, tp, tc, vsw))\n",
    "print(h2(f, ne, n, t, tp, tc, vsw))"
   ]
  },
  {
   "cell_type": "code",
   "execution_count": null,
   "metadata": {
    "collapsed": true
   },
   "outputs": [],
   "source": [
    "f_arr = np.array([0.1, 0.5, 0.6, 0.7, 0.8, 0.9, 0.95, 1.01, 1.03, \\\n",
    "                         1.05, 1.08, 1.1, 1.2, 1.3, 1.5, \\\n",
    "                         1.7, 2.0, 2.3, 2.6, 3.0, 4, 6]) * 8980 * np.sqrt(ne)"
   ]
  },
  {
   "cell_type": "code",
   "execution_count": null,
   "metadata": {
    "collapsed": false
   },
   "outputs": [],
   "source": [
    "bimax_p = vp(f_arr, ne, n, t, tp, tc, vsw)"
   ]
  },
  {
   "cell_type": "code",
   "execution_count": null,
   "metadata": {
    "collapsed": true
   },
   "outputs": [],
   "source": [
    "max_p = vp(f_arr, ne, 0, t, tp, tc, vsw)"
   ]
  },
  {
   "cell_type": "code",
   "execution_count": null,
   "metadata": {
    "collapsed": true
   },
   "outputs": [],
   "source": [
    "## plot the integrand of the proton noise integral"
   ]
  },
  {
   "cell_type": "code",
   "execution_count": null,
   "metadata": {
    "collapsed": false
   },
   "outputs": [],
   "source": [
    "plt.plot(f_arr, bimax_p, 'r')\n",
    "plt.plot(f_arr, max_p, 'g')\n",
    "plt.yscale('log')\n",
    "plt.xscale('log')"
   ]
  },
  {
   "cell_type": "code",
   "execution_count": 8,
   "metadata": {
    "collapsed": false
   },
   "outputs": [],
   "source": [
    "from qtn.bimax_util import (z_b, do_cprofile, f1_sp, j02_sp, d_l_sp,\n",
    "                         dz_dl_sp, complex_quad,\n",
    "                         boltzmann, emass, echarge, permittivity, cspeed)"
   ]
  },
  {
   "cell_type": "code",
   "execution_count": 10,
   "metadata": {
    "collapsed": false
   },
   "outputs": [
    {
     "data": {
      "text/plain": [
       "array([  0.3       ,   0.33301601,   0.36966553,   0.41034846,\n",
       "         0.45550869,   0.50563894,   0.5612862 ,   0.62305763,\n",
       "         0.69162721,   0.7677431 ,   0.8522358 ,   0.94602721,\n",
       "         1.05014067,   1.16571217,   1.2940027 ,   1.43641204,\n",
       "         1.59449399,   1.7699734 ,   1.9647649 ,   2.18099386,\n",
       "         2.42101954,   2.68746086,   2.98322493,   3.31153883,\n",
       "         3.67598477,   4.08053921,   4.52961622,   5.02811567,\n",
       "         5.58147664,   6.19573685,   6.87759845,   7.6345012 ,\n",
       "         8.47470364,   9.40737317,  10.44268611,  11.5919387 ,\n",
       "        12.86767039,  14.28380064,  15.85578075,  17.60076255,\n",
       "        19.53778544,  21.68798419,  24.07481952,  26.72433408,\n",
       "        29.66543658,  32.93021727,  36.55429802,  40.577221  ,\n",
       "        45.04288012,  50.        ])"
      ]
     },
     "execution_count": 10,
     "metadata": {},
     "output_type": "execute_result"
    }
   ],
   "source": [
    "np.logspace(np.log10(0.3), np.log10(50), 50)"
   ]
  },
  {
   "cell_type": "code",
   "execution_count": 29,
   "metadata": {
    "collapsed": false
   },
   "outputs": [
    {
     "data": {
      "text/plain": [
       "1.7714396095566787e-36"
      ]
     },
     "execution_count": 29,
     "metadata": {},
     "output_type": "execute_result"
    }
   ],
   "source": [
    "np.sqrt(permittivity * boltzmann * echarge**2)"
   ]
  },
  {
   "cell_type": "code",
   "execution_count": 30,
   "metadata": {
    "collapsed": false
   },
   "outputs": [
    {
     "data": {
      "text/plain": [
       "5505.6947431410626"
      ]
     },
     "execution_count": 30,
     "metadata": {},
     "output_type": "execute_result"
    }
   ],
   "source": [
    "np.sqrt(2 * boltzmann / emass)"
   ]
  },
  {
   "cell_type": "code",
   "execution_count": 9,
   "metadata": {
    "collapsed": false
   },
   "outputs": [
    {
     "data": {
      "text/plain": [
       "7433.9421449404717"
      ]
     },
     "execution_count": 9,
     "metadata": {},
     "output_type": "execute_result"
    }
   ],
   "source": [
    "np.sqrt(permittivity / echarge)"
   ]
  },
  {
   "cell_type": "code",
   "execution_count": null,
   "metadata": {
    "collapsed": true
   },
   "outputs": [],
   "source": []
  }
 ],
 "metadata": {
  "kernelspec": {
   "display_name": "Python 3",
   "language": "python",
   "name": "python3"
  },
  "language_info": {
   "codemirror_mode": {
    "name": "ipython",
    "version": 3
   },
   "file_extension": ".py",
   "mimetype": "text/x-python",
   "name": "python",
   "nbconvert_exporter": "python",
   "pygments_lexer": "ipython3",
   "version": "3.5.1"
  }
 },
 "nbformat": 4,
 "nbformat_minor": 0
}
