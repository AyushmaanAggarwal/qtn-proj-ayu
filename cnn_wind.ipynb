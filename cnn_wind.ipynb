{
 "cells": [
  {
   "cell_type": "markdown",
   "id": "6dbce373-a558-4506-9884-047ba59b466b",
   "metadata": {
    "tags": []
   },
   "source": [
    "## Import and Functions"
   ]
  },
  {
   "cell_type": "code",
   "execution_count": 1,
   "id": "9effaad3-4ead-4fec-88c3-0e0e8e8efa3d",
   "metadata": {
    "tags": []
   },
   "outputs": [
    {
     "name": "stderr",
     "output_type": "stream",
     "text": [
      "2022-06-20 11:25:35.509747: I tensorflow/core/util/util.cc:169] oneDNN custom operations are on. You may see slightly different numerical results due to floating-point round-off errors from different computation orders. To turn them off, set the environment variable `TF_ENABLE_ONEDNN_OPTS=0`.\n",
      "2022-06-20 11:25:35.512210: W tensorflow/stream_executor/platform/default/dso_loader.cc:64] Could not load dynamic library 'libcudart.so.11.0'; dlerror: libcudart.so.11.0: cannot open shared object file: No such file or directory\n",
      "2022-06-20 11:25:35.512218: I tensorflow/stream_executor/cuda/cudart_stub.cc:29] Ignore above cudart dlerror if you do not have a GPU set up on your machine.\n"
     ]
    }
   ],
   "source": [
    "import os\n",
    "import sys\n",
    "import pickle\n",
    "import random\n",
    "import numpy as np\n",
    "import pandas as pd\n",
    "import matplotlib.pyplot as plt\n",
    "\n",
    "import tensorflow as tf\n",
    "import keras\n",
    "from keras.models import Sequential\n",
    "from keras.layers import Dense, Conv1D, MaxPool1D, Dropout, Flatten"
   ]
  },
  {
   "cell_type": "code",
   "execution_count": 2,
   "id": "f0229288-c8bc-4759-9b22-491cdd981c13",
   "metadata": {},
   "outputs": [],
   "source": [
    "def norm(lst, max_val):\n",
    "    return np.array([val/max_val for val in lst])\n",
    "\n",
    "def denorm(lst, max_val):\n",
    "    return np.array([val*max_val for val in lst])"
   ]
  },
  {
   "cell_type": "markdown",
   "id": "13d0fe02-d043-44f6-9bab-e222c4fcbd52",
   "metadata": {},
   "source": [
    "## Random Seeds and Data Import"
   ]
  },
  {
   "cell_type": "code",
   "execution_count": 3,
   "id": "48c0b7ce-6880-48fa-bdf3-3cda0e6d0a3b",
   "metadata": {},
   "outputs": [],
   "source": [
    "# Set a seed value: \n",
    "keras.utils.set_random_seed(5)"
   ]
  },
  {
   "cell_type": "code",
   "execution_count": 4,
   "id": "9285a3c7-9aae-49c2-a121-8b25282f433d",
   "metadata": {
    "tags": []
   },
   "outputs": [],
   "source": [
    "with open(\"data/pickle/data\", 'rb') as file:\n",
    "    var = pickle.load(file=file)\n",
    "    max_y            = var[\"max_y\"][:][0]\n",
    "    train_x_data     = var[\"train_x_data\"][:]\n",
    "    train_y_data     = var[\"train_y_data\"][:]\n",
    "    test_time_sorted = var[\"test_time_sorted\"][:]\n",
    "    test_x_sorted    = var[\"test_x_sorted\"][:]\n",
    "    test_y_sorted    = var[\"test_y_sorted\"][:]"
   ]
  },
  {
   "cell_type": "markdown",
   "id": "d5533a4f-594b-4747-9531-38a35279bfa7",
   "metadata": {
    "tags": []
   },
   "source": [
    "## Building Model"
   ]
  },
  {
   "cell_type": "code",
   "execution_count": 5,
   "id": "09063db6-4219-4373-be81-d9a4ae3ca9bf",
   "metadata": {},
   "outputs": [
    {
     "name": "stderr",
     "output_type": "stream",
     "text": [
      "2022-06-20 11:25:36.516125: W tensorflow/stream_executor/platform/default/dso_loader.cc:64] Could not load dynamic library 'libcuda.so.1'; dlerror: libcuda.so.1: cannot open shared object file: No such file or directory\n",
      "2022-06-20 11:25:36.516147: W tensorflow/stream_executor/cuda/cuda_driver.cc:269] failed call to cuInit: UNKNOWN ERROR (303)\n",
      "2022-06-20 11:25:36.516165: I tensorflow/stream_executor/cuda/cuda_diagnostics.cc:156] kernel driver does not appear to be running on this host (ayu): /proc/driver/nvidia/version does not exist\n",
      "2022-06-20 11:25:36.516673: I tensorflow/core/platform/cpu_feature_guard.cc:193] This TensorFlow binary is optimized with oneAPI Deep Neural Network Library (oneDNN) to use the following CPU instructions in performance-critical operations:  AVX2 AVX512F AVX512_VNNI FMA\n",
      "To enable them in other operations, rebuild TensorFlow with the appropriate compiler flags.\n"
     ]
    }
   ],
   "source": [
    "model = Sequential()\n",
    "model.add(Conv1D(8, kernel_size=3, activation='relu', input_shape=(96, 1)))\n",
    "model.add(MaxPool1D(2))\n",
    "model.add(Conv1D(8, kernel_size=3, activation='relu'))\n",
    "model.add(MaxPool1D(4))\n",
    "model.add(Flatten())\n",
    "model.add(Dense(8, activation='relu'))\n",
    "model.add(Dense(1, activation='linear'))\n",
    "#model.summary()"
   ]
  },
  {
   "cell_type": "markdown",
   "id": "97df5a78-e1e8-4d31-b491-3d65b8ed4898",
   "metadata": {
    "tags": []
   },
   "source": [
    "## Training algorithm"
   ]
  },
  {
   "cell_type": "code",
   "execution_count": 6,
   "id": "0d9f3e26-9a88-406b-8c28-a29a08dcfd36",
   "metadata": {},
   "outputs": [],
   "source": [
    "model.compile(loss = lambda y_true, y_pred: keras.losses.huber(y_true, y_pred, .75), \n",
    "   optimizer = keras.optimizers.Adam(), metrics = ['MeanAbsolutePercentageError'])"
   ]
  },
  {
   "cell_type": "code",
   "execution_count": 7,
   "id": "a2b1565c-7484-4539-b28e-45826010556e",
   "metadata": {
    "tags": []
   },
   "outputs": [
    {
     "name": "stdout",
     "output_type": "stream",
     "text": [
      "Epoch 1/10\n",
      "12800/12800 - 17s - loss: 0.0014 - mean_absolute_percentage_error: 5.4779 - val_loss: 2.9080e-04 - val_mean_absolute_percentage_error: 3.0457 - 17s/epoch - 1ms/step\n",
      "Epoch 2/10\n",
      "12800/12800 - 18s - loss: 2.2004e-04 - mean_absolute_percentage_error: 2.6859 - val_loss: 1.6314e-04 - val_mean_absolute_percentage_error: 2.3562 - 18s/epoch - 1ms/step\n",
      "Epoch 3/10\n",
      "12800/12800 - 17s - loss: 1.5166e-04 - mean_absolute_percentage_error: 2.2750 - val_loss: 1.2825e-04 - val_mean_absolute_percentage_error: 1.9948 - 17s/epoch - 1ms/step\n",
      "Epoch 4/10\n",
      "12800/12800 - 17s - loss: 1.1599e-04 - mean_absolute_percentage_error: 2.0322 - val_loss: 1.0011e-04 - val_mean_absolute_percentage_error: 1.9293 - 17s/epoch - 1ms/step\n",
      "Epoch 5/10\n",
      "12800/12800 - 18s - loss: 1.0114e-04 - mean_absolute_percentage_error: 1.9056 - val_loss: 9.9002e-05 - val_mean_absolute_percentage_error: 1.8486 - 18s/epoch - 1ms/step\n",
      "Epoch 6/10\n",
      "12800/12800 - 17s - loss: 8.7052e-05 - mean_absolute_percentage_error: 1.7849 - val_loss: 7.2999e-05 - val_mean_absolute_percentage_error: 1.6034 - 17s/epoch - 1ms/step\n",
      "Epoch 7/10\n",
      "12800/12800 - 18s - loss: 7.6462e-05 - mean_absolute_percentage_error: 1.6900 - val_loss: 6.3499e-05 - val_mean_absolute_percentage_error: 1.5391 - 18s/epoch - 1ms/step\n",
      "Epoch 8/10\n",
      "12800/12800 - 17s - loss: 7.0472e-05 - mean_absolute_percentage_error: 1.6292 - val_loss: 6.0656e-05 - val_mean_absolute_percentage_error: 1.4983 - 17s/epoch - 1ms/step\n",
      "Epoch 9/10\n",
      "12800/12800 - 17s - loss: 6.8856e-05 - mean_absolute_percentage_error: 1.5763 - val_loss: 5.6700e-05 - val_mean_absolute_percentage_error: 1.4218 - 17s/epoch - 1ms/step\n",
      "Epoch 10/10\n",
      "12800/12800 - 19s - loss: 6.3015e-05 - mean_absolute_percentage_error: 1.5454 - val_loss: 5.6946e-05 - val_mean_absolute_percentage_error: 1.4694 - 19s/epoch - 1ms/step\n"
     ]
    }
   ],
   "source": [
    "step_num = 12800#int(len(train_y_data)//32)\n",
    "history = model.fit(\n",
    "    x=train_x_data[:], y=train_y_data[:], epochs=10, batch_size=32, steps_per_epoch=step_num,\n",
    "    validation_split=.1, workers=8, use_multiprocessing=True, verbose=2)"
   ]
  },
  {
   "cell_type": "markdown",
   "id": "d58e64ad-5622-4b6d-9e28-15014199ad74",
   "metadata": {},
   "source": [
    "## Testing Model"
   ]
  },
  {
   "cell_type": "code",
   "execution_count": 8,
   "id": "514b28fc-52da-4a12-b0a7-7167809e8b96",
   "metadata": {},
   "outputs": [
    {
     "name": "stdout",
     "output_type": "stream",
     "text": [
      "1581/1581 [==============================] - 1s 931us/step - loss: 5.5443e-05 - mean_absolute_percentage_error: 1.4746\n"
     ]
    }
   ],
   "source": [
    "perf = model.evaluate(test_x_sorted, test_y_sorted)"
   ]
  },
  {
   "cell_type": "code",
   "execution_count": 9,
   "id": "e263ce59-493c-4f87-b496-e0c87694c8c4",
   "metadata": {
    "tags": []
   },
   "outputs": [
    {
     "name": "stdout",
     "output_type": "stream",
     "text": [
      "1581/1581 [==============================] - 1s 872us/step\n"
     ]
    }
   ],
   "source": [
    "pred_y = model.predict(test_x_sorted)"
   ]
  },
  {
   "cell_type": "code",
   "execution_count": 10,
   "id": "99e8d3f4-3a52-46ee-96c2-85cdf0f0b5e3",
   "metadata": {
    "tags": []
   },
   "outputs": [
    {
     "data": {
      "text/html": [
       "<div>\n",
       "<style scoped>\n",
       "    .dataframe tbody tr th:only-of-type {\n",
       "        vertical-align: middle;\n",
       "    }\n",
       "\n",
       "    .dataframe tbody tr th {\n",
       "        vertical-align: top;\n",
       "    }\n",
       "\n",
       "    .dataframe thead th {\n",
       "        text-align: right;\n",
       "    }\n",
       "</style>\n",
       "<table border=\"1\" class=\"dataframe\">\n",
       "  <thead>\n",
       "    <tr style=\"text-align: right;\">\n",
       "      <th></th>\n",
       "      <th>0</th>\n",
       "    </tr>\n",
       "  </thead>\n",
       "  <tbody>\n",
       "    <tr>\n",
       "      <th>count</th>\n",
       "      <td>50573.000000</td>\n",
       "    </tr>\n",
       "    <tr>\n",
       "      <th>mean</th>\n",
       "      <td>0.014746</td>\n",
       "    </tr>\n",
       "    <tr>\n",
       "      <th>std</th>\n",
       "      <td>0.021715</td>\n",
       "    </tr>\n",
       "    <tr>\n",
       "      <th>min</th>\n",
       "      <td>0.000001</td>\n",
       "    </tr>\n",
       "    <tr>\n",
       "      <th>25%</th>\n",
       "      <td>0.004195</td>\n",
       "    </tr>\n",
       "    <tr>\n",
       "      <th>50%</th>\n",
       "      <td>0.009170</td>\n",
       "    </tr>\n",
       "    <tr>\n",
       "      <th>75%</th>\n",
       "      <td>0.017675</td>\n",
       "    </tr>\n",
       "    <tr>\n",
       "      <th>max</th>\n",
       "      <td>0.994512</td>\n",
       "    </tr>\n",
       "  </tbody>\n",
       "</table>\n",
       "</div>"
      ],
      "text/plain": [
       "                  0\n",
       "count  50573.000000\n",
       "mean       0.014746\n",
       "std        0.021715\n",
       "min        0.000001\n",
       "25%        0.004195\n",
       "50%        0.009170\n",
       "75%        0.017675\n",
       "max        0.994512"
      ]
     },
     "execution_count": 10,
     "metadata": {},
     "output_type": "execute_result"
    }
   ],
   "source": [
    "denorm_test = denorm(test_y_sorted, max_y)\n",
    "denorm_pred = denorm(pred_y, max_y)[:,0]\n",
    "lst = list(map(lambda i: abs(denorm_pred[i]-denorm_test[i])/denorm_test[i],\n",
    "               range(len(pred_y))))\n",
    "\n",
    "pd.DataFrame(lst).describe()"
   ]
  },
  {
   "cell_type": "code",
   "execution_count": 11,
   "id": "37269360-0f86-4a0f-bd39-01f330519448",
   "metadata": {
    "tags": []
   },
   "outputs": [
    {
     "data": {
      "text/plain": [
       "<matplotlib.legend.Legend at 0x7ff1b5c34dc0>"
      ]
     },
     "execution_count": 11,
     "metadata": {},
     "output_type": "execute_result"
    },
    {
     "data": {
      "image/png": "[encoded data removed]",
      "text/plain": [
       "<Figure size 432x288 with 1 Axes>"
      ]
     },
     "metadata": {},
     "output_type": "display_data"
    }
   ],
   "source": [
    "plt.figure(facecolor='w')\n",
    "plt.title(\"Validation Performance after each epoch\")\n",
    "plt.plot(history.history[\"mean_absolute_percentage_error\"], label=\"Average Error during Training\")\n",
    "plt.axhline(perf[1], color='g', label=\"Average Error during Testing\")\n",
    "plt.xlabel(\"Epoch (80% of total training data)\")\n",
    "plt.ylabel(\"Average Percent Error (%)\")\n",
    "plt.legend()\n",
    "#plt.savefig(\"plots/validation_performance_over_time.png\")"
   ]
  },
  {
   "cell_type": "code",
   "execution_count": 12,
   "id": "2e4cac73-1ed2-45ef-bbe5-63eb99cfef6a",
   "metadata": {
    "jupyter": {
     "source_hidden": true
    },
    "tags": []
   },
   "outputs": [
    {
     "name": "stdout",
     "output_type": "stream",
     "text": [
      "1581/1581 [==============================] - 1s 833us/step\n"
     ]
    },
    {
     "ename": "ValueError",
     "evalue": "x and y must have same first dimension, but have shapes (1, 50573) and (50573,)",
     "output_type": "error",
     "traceback": [
      "\u001b[0;31m---------------------------------------------------------------------------\u001b[0m",
      "\u001b[0;31mValueError\u001b[0m                                Traceback (most recent call last)",
      "\u001b[0;32m/tmp/ipykernel_10109/2109274091.py\u001b[0m in \u001b[0;36m<module>\u001b[0;34m\u001b[0m\n\u001b[1;32m      3\u001b[0m \u001b[0mfig\u001b[0m\u001b[0;34m.\u001b[0m\u001b[0msuptitle\u001b[0m\u001b[0;34m(\u001b[0m\u001b[0;34m\"Performance of CNN after trainning to match NASA's NN\"\u001b[0m\u001b[0;34m)\u001b[0m\u001b[0;34m\u001b[0m\u001b[0;34m\u001b[0m\u001b[0m\n\u001b[1;32m      4\u001b[0m \u001b[0;34m\u001b[0m\u001b[0m\n\u001b[0;32m----> 5\u001b[0;31m \u001b[0max0\u001b[0m\u001b[0;34m.\u001b[0m\u001b[0mplot\u001b[0m\u001b[0;34m(\u001b[0m\u001b[0mtest_time_sorted\u001b[0m\u001b[0;34m,\u001b[0m \u001b[0mdenorm\u001b[0m\u001b[0;34m(\u001b[0m\u001b[0mtest_y_sorted\u001b[0m\u001b[0;34m,\u001b[0m \u001b[0mmax_y\u001b[0m\u001b[0;34m)\u001b[0m\u001b[0;34m,\u001b[0m \u001b[0mlabel\u001b[0m\u001b[0;34m=\u001b[0m\u001b[0;34m\"Neural Network(estimated)\"\u001b[0m\u001b[0;34m,\u001b[0m\u001b[0mlinewidth\u001b[0m\u001b[0;34m=\u001b[0m\u001b[0;36m2\u001b[0m\u001b[0;34m)\u001b[0m\u001b[0;34m\u001b[0m\u001b[0;34m\u001b[0m\u001b[0m\n\u001b[0m\u001b[1;32m      6\u001b[0m \u001b[0max0\u001b[0m\u001b[0;34m.\u001b[0m\u001b[0mplot\u001b[0m\u001b[0;34m(\u001b[0m\u001b[0mtest_time_sorted\u001b[0m\u001b[0;34m,\u001b[0m \u001b[0mdenorm\u001b[0m\u001b[0;34m(\u001b[0m\u001b[0mpred_y\u001b[0m\u001b[0;34m,\u001b[0m \u001b[0mmax_y\u001b[0m\u001b[0;34m)\u001b[0m\u001b[0;34m,\u001b[0m \u001b[0mlabel\u001b[0m\u001b[0;34m=\u001b[0m\u001b[0;34m\"Convolutional Neural Network\"\u001b[0m\u001b[0;34m,\u001b[0m\u001b[0mlinewidth\u001b[0m\u001b[0;34m=\u001b[0m\u001b[0;36m2\u001b[0m\u001b[0;34m)\u001b[0m\u001b[0;34m\u001b[0m\u001b[0;34m\u001b[0m\u001b[0m\n\u001b[1;32m      7\u001b[0m \u001b[0max0\u001b[0m\u001b[0;34m.\u001b[0m\u001b[0mset_title\u001b[0m\u001b[0;34m(\u001b[0m\u001b[0;34m\"Predicted vs Estimated Plasma Frequency over time\"\u001b[0m\u001b[0;34m)\u001b[0m\u001b[0;34m\u001b[0m\u001b[0;34m\u001b[0m\u001b[0m\n",
      "\u001b[0;32m~/.local/lib/python3.10/site-packages/matplotlib/axes/_axes.py\u001b[0m in \u001b[0;36mplot\u001b[0;34m(self, scalex, scaley, data, *args, **kwargs)\u001b[0m\n\u001b[1;32m   1630\u001b[0m         \"\"\"\n\u001b[1;32m   1631\u001b[0m         \u001b[0mkwargs\u001b[0m \u001b[0;34m=\u001b[0m \u001b[0mcbook\u001b[0m\u001b[0;34m.\u001b[0m\u001b[0mnormalize_kwargs\u001b[0m\u001b[0;34m(\u001b[0m\u001b[0mkwargs\u001b[0m\u001b[0;34m,\u001b[0m \u001b[0mmlines\u001b[0m\u001b[0;34m.\u001b[0m\u001b[0mLine2D\u001b[0m\u001b[0;34m)\u001b[0m\u001b[0;34m\u001b[0m\u001b[0;34m\u001b[0m\u001b[0m\n\u001b[0;32m-> 1632\u001b[0;31m         \u001b[0mlines\u001b[0m \u001b[0;34m=\u001b[0m \u001b[0;34m[\u001b[0m\u001b[0;34m*\u001b[0m\u001b[0mself\u001b[0m\u001b[0;34m.\u001b[0m\u001b[0m_get_lines\u001b[0m\u001b[0;34m(\u001b[0m\u001b[0;34m*\u001b[0m\u001b[0margs\u001b[0m\u001b[0;34m,\u001b[0m \u001b[0mdata\u001b[0m\u001b[0;34m=\u001b[0m\u001b[0mdata\u001b[0m\u001b[0;34m,\u001b[0m \u001b[0;34m**\u001b[0m\u001b[0mkwargs\u001b[0m\u001b[0;34m)\u001b[0m\u001b[0;34m]\u001b[0m\u001b[0;34m\u001b[0m\u001b[0;34m\u001b[0m\u001b[0m\n\u001b[0m\u001b[1;32m   1633\u001b[0m         \u001b[0;32mfor\u001b[0m \u001b[0mline\u001b[0m \u001b[0;32min\u001b[0m \u001b[0mlines\u001b[0m\u001b[0;34m:\u001b[0m\u001b[0;34m\u001b[0m\u001b[0;34m\u001b[0m\u001b[0m\n\u001b[1;32m   1634\u001b[0m             \u001b[0mself\u001b[0m\u001b[0;34m.\u001b[0m\u001b[0madd_line\u001b[0m\u001b[0;34m(\u001b[0m\u001b[0mline\u001b[0m\u001b[0;34m)\u001b[0m\u001b[0;34m\u001b[0m\u001b[0;34m\u001b[0m\u001b[0m\n",
      "\u001b[0;32m~/.local/lib/python3.10/site-packages/matplotlib/axes/_base.py\u001b[0m in \u001b[0;36m__call__\u001b[0;34m(self, data, *args, **kwargs)\u001b[0m\n\u001b[1;32m    310\u001b[0m                 \u001b[0mthis\u001b[0m \u001b[0;34m+=\u001b[0m \u001b[0margs\u001b[0m\u001b[0;34m[\u001b[0m\u001b[0;36m0\u001b[0m\u001b[0;34m]\u001b[0m\u001b[0;34m,\u001b[0m\u001b[0;34m\u001b[0m\u001b[0;34m\u001b[0m\u001b[0m\n\u001b[1;32m    311\u001b[0m                 \u001b[0margs\u001b[0m \u001b[0;34m=\u001b[0m \u001b[0margs\u001b[0m\u001b[0;34m[\u001b[0m\u001b[0;36m1\u001b[0m\u001b[0;34m:\u001b[0m\u001b[0;34m]\u001b[0m\u001b[0;34m\u001b[0m\u001b[0;34m\u001b[0m\u001b[0m\n\u001b[0;32m--> 312\u001b[0;31m             \u001b[0;32myield\u001b[0m \u001b[0;32mfrom\u001b[0m \u001b[0mself\u001b[0m\u001b[0;34m.\u001b[0m\u001b[0m_plot_args\u001b[0m\u001b[0;34m(\u001b[0m\u001b[0mthis\u001b[0m\u001b[0;34m,\u001b[0m \u001b[0mkwargs\u001b[0m\u001b[0;34m)\u001b[0m\u001b[0;34m\u001b[0m\u001b[0;34m\u001b[0m\u001b[0m\n\u001b[0m\u001b[1;32m    313\u001b[0m \u001b[0;34m\u001b[0m\u001b[0m\n\u001b[1;32m    314\u001b[0m     \u001b[0;32mdef\u001b[0m \u001b[0mget_next_color\u001b[0m\u001b[0;34m(\u001b[0m\u001b[0mself\u001b[0m\u001b[0;34m)\u001b[0m\u001b[0;34m:\u001b[0m\u001b[0;34m\u001b[0m\u001b[0;34m\u001b[0m\u001b[0m\n",
      "\u001b[0;32m~/.local/lib/python3.10/site-packages/matplotlib/axes/_base.py\u001b[0m in \u001b[0;36m_plot_args\u001b[0;34m(self, tup, kwargs, return_kwargs)\u001b[0m\n\u001b[1;32m    496\u001b[0m \u001b[0;34m\u001b[0m\u001b[0m\n\u001b[1;32m    497\u001b[0m         \u001b[0;32mif\u001b[0m \u001b[0mx\u001b[0m\u001b[0;34m.\u001b[0m\u001b[0mshape\u001b[0m\u001b[0;34m[\u001b[0m\u001b[0;36m0\u001b[0m\u001b[0;34m]\u001b[0m \u001b[0;34m!=\u001b[0m \u001b[0my\u001b[0m\u001b[0;34m.\u001b[0m\u001b[0mshape\u001b[0m\u001b[0;34m[\u001b[0m\u001b[0;36m0\u001b[0m\u001b[0;34m]\u001b[0m\u001b[0;34m:\u001b[0m\u001b[0;34m\u001b[0m\u001b[0;34m\u001b[0m\u001b[0m\n\u001b[0;32m--> 498\u001b[0;31m             raise ValueError(f\"x and y must have same first dimension, but \"\n\u001b[0m\u001b[1;32m    499\u001b[0m                              f\"have shapes {x.shape} and {y.shape}\")\n\u001b[1;32m    500\u001b[0m         \u001b[0;32mif\u001b[0m \u001b[0mx\u001b[0m\u001b[0;34m.\u001b[0m\u001b[0mndim\u001b[0m \u001b[0;34m>\u001b[0m \u001b[0;36m2\u001b[0m \u001b[0;32mor\u001b[0m \u001b[0my\u001b[0m\u001b[0;34m.\u001b[0m\u001b[0mndim\u001b[0m \u001b[0;34m>\u001b[0m \u001b[0;36m2\u001b[0m\u001b[0;34m:\u001b[0m\u001b[0;34m\u001b[0m\u001b[0;34m\u001b[0m\u001b[0m\n",
      "\u001b[0;31mValueError\u001b[0m: x and y must have same first dimension, but have shapes (1, 50573) and (50573,)"
     ]
    },
    {
     "data": {
      "image/png": "[encoded data removed]",
      "text/plain": [
       "<Figure size 864x360 with 2 Axes>"
      ]
     },
     "metadata": {},
     "output_type": "display_data"
    }
   ],
   "source": [
    "pred_y = model.predict(test_x_sorted)\n",
    "fig, (ax0, ax1) = plt.subplots(1,2, figsize=(6*2,5), facecolor='w')\n",
    "fig.suptitle(\"Performance of CNN after trainning to match NASA's NN\")\n",
    "\n",
    "ax0.plot(test_time_sorted, denorm(test_y_sorted, max_y), label=\"Neural Network(estimated)\",linewidth=2)\n",
    "ax0.plot(test_time_sorted, denorm(pred_y, max_y), label=\"Convolutional Neural Network\",linewidth=2)\n",
    "ax0.set_title(\"Predicted vs Estimated Plasma Frequency over time\")\n",
    "ax0.set_xlabel(\"Time (s)\")\n",
    "ax0.set_ylabel(\"Plasma Frequency (kHz)\")\n",
    "ax0.legend()\n",
    "\n",
    "res = np.subtract(denorm(pred_y, max_y)[:,0],denorm(test_y_sorted, max_y))\n",
    "ax1.axhline(0, color='black', linewidth=1, label=\"Reference Line\")\n",
    "ax1.scatter(test_time_sorted, res, s=3, label=\"y_CNN - y_NN\")\n",
    "denorm_test = denorm(test_y_sorted, max_y)\n",
    "for i in range(len(res)):\n",
    "    if denorm_test[i] < 10:\n",
    "        ax1.scatter(test_time_sorted[i], res[i], s=3, color='r')\n",
    "\n",
    "ax1.set_title(\"Difference between CNN and NN\")\n",
    "ax1.set_xlabel(\"Time (s)\")\n",
    "ax1.set_ylabel(\"Residuals\")\n",
    "ax1.legend(loc='lower right')\n",
    "\n",
    "fig.savefig(\"plots/performance_on_test_dataset.png\", dpi=500)"
   ]
  },
  {
   "cell_type": "raw",
   "id": "a0117272-7960-4a98-aea5-18e7ed5d5769",
   "metadata": {
    "jupyter": {
     "source_hidden": true
    },
    "tags": []
   },
   "source": [
    "point = 100\n",
    "n = 4\n",
    "peakshift = (1 + 8*(1/7.3916)**2)\n",
    "plt.figure(figsize=(15, 2*n))\n",
    "for i in range(1, n):\n",
    "    plt.subplot(n,1, i)\n",
    "    plt.plot(freq/1000, test_x_sorted[i], 'o', markersize=3, label='WIND data')\n",
    "    f = freq[max(range(len(freq)), key=lambda x: test_x_sorted[i][x] if freq[x]/1000>10 else 0)]/1000\n",
    "\n",
    "    plt.axvline(x=denorm(pred_y, max(y_data))[i], color='r')\n",
    "    plt.axvline(x=denorm(test_y_sorted, max(y_data))[i])\n",
    "    plt.xscale('log')\n",
    "    plt.yscale('log')\n",
    "#print(pred_y[point], test_y_sorted[point])\n",
    "#print(pred_y[point]*max(y_data), test_y_sorted[point]*max(y_data))\n",
    "#max(pred_y)\n",
    "plt.show()"
   ]
  },
  {
   "cell_type": "code",
   "execution_count": null,
   "id": "0714bdc2-7a4e-4801-8644-dd6fbe381107",
   "metadata": {},
   "outputs": [],
   "source": [
    "plt.figure(facecolor='w')\n",
    "plt.title(\"Histogram of percent error distribution\")\n",
    "plt.hist([v for v in lst], bins=1000)\n",
    "plt.xlim((0,.2))\n",
    "#plt.savefig(\"plots/file.png\")"
   ]
  },
  {
   "cell_type": "code",
   "execution_count": null,
   "id": "b76df21f-8ecd-4543-8a04-acda7461af8d",
   "metadata": {},
   "outputs": [],
   "source": []
  }
 ],
 "metadata": {
  "kernelspec": {
   "display_name": "Python 3 (ipykernel)",
   "language": "python",
   "name": "python3"
  },
  "language_info": {
   "codemirror_mode": {
    "name": "ipython",
    "version": 3
   },
   "file_extension": ".py",
   "mimetype": "text/x-python",
   "name": "python",
   "nbconvert_exporter": "python",
   "pygments_lexer": "ipython3",
   "version": "3.10.5"
  }
 },
 "nbformat": 4,
 "nbformat_minor": 5
}
