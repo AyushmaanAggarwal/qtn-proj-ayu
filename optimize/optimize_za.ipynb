{
 "cells": [
  {
   "cell_type": "markdown",
   "metadata": {},
   "source": [
    "## optimize bimax module\n",
    "1, use langmuir wave dispersion relation to find the poles in k plane."
   ]
  },
  {
   "cell_type": "markdown",
   "metadata": {},
   "source": [
    "Toolkit paper:\n",
    "    $k_b \\approx \\frac{1+ \\alpha}{L_{Dc}}[\\frac{1-\\omega_{pT}^2/\\omega^2}{3(1 + \\alpha t)}]^{1/2}$"
   ]
  },
  {
   "cell_type": "markdown",
   "metadata": {},
   "source": [
    "Then $\\xi_b \\equiv \\omega/k_b v_{Tc} = \\frac{\\omega L_{Dc}/v_{Tc}}{1+\\alpha} \n",
    "[\\frac{3(1 + \\alpha t)}{1-\\omega_{pT}^2/\\omega^2}]^2$"
   ]
  },
  {
   "cell_type": "markdown",
   "metadata": {},
   "source": [
    "$\\frac{\\omega/\\omega_{pc}}{\\sqrt{2}(1+\\alpha)} \n",
    "[\\frac{3(1 + \\alpha t)}{1- (1+\\alpha)\\omega_{pc}^2/\\omega^2}]^2$"
   ]
  },
  {
   "cell_type": "code",
   "execution_count": 73,
   "metadata": {
    "collapsed": false
   },
   "outputs": [],
   "source": [
    "from qtn.bimax import BiMax\n",
    "from qtn.util import timing, zpd, zp_sp, zpd_sp, f1, f1_sp, j0\n",
    "from scipy.optimize import fsolve, root\n",
    "import sympy.mpmath as mp\n",
    "import numpy as np\n",
    "import scipy.integrate\n",
    "import matplotlib.pyplot as plt\n",
    "%matplotlib inline"
   ]
  },
  {
   "cell_type": "code",
   "execution_count": 2,
   "metadata": {
    "collapsed": false
   },
   "outputs": [],
   "source": [
    "ant_len = 50      # m (monopole) \n",
    "ant_rad = 1.9e-4  # m\n",
    "base_cap = 20e-12 # Farad\n",
    "fbins = np.array([4000*1.0445**i for i in range(96)])"
   ]
  },
  {
   "cell_type": "code",
   "execution_count": 3,
   "metadata": {
    "collapsed": true
   },
   "outputs": [],
   "source": [
    "p = BiMax(ant_len, ant_rad, base_cap)\n",
    "\n",
    "def z_b(wc, n, t):\n",
    "    \"\"\"\n",
    "    the approximated expression for the pole,\n",
    "    when frequency is close to plasma frequency\n",
    "    \n",
    "    see Meyer-Vernet & Perche (1989), the \"toolkit\" paper\n",
    "    \"\"\"\n",
    "    term_1 = wc/(np.sqrt(2) * (1 + n))\n",
    "    term_2 = 3 * (1 + n * t) / (1 - (1 + n) / wc**2 )\n",
    "    term_2 = np.sqrt(term_2)\n",
    "    return term_1 * term_2\n"
   ]
  },
  {
   "cell_type": "code",
   "execution_count": 266,
   "metadata": {
    "collapsed": true
   },
   "outputs": [],
   "source": [
    "    @timing\n",
    "    def d_l(z, wc, n, t):\n",
    "        \"\"\"\n",
    "        Longitudinal dispersion tensor\n",
    "        z: w/kv_Tc\n",
    "        wc: w/w_pc\n",
    "        n: n_h/n_c\n",
    "        t: T_h/T_c\n",
    "    \n",
    "        \"\"\"\n",
    "        return 1 - (z/wc)**2 * (zpd(z) + n/t * zpd(z/mp.sqrt(t)))\n",
    "    @timing\n",
    "    def d_l_sp(z, wc, n, t):\n",
    "        \"\"\"\n",
    "        Longitudinal dispersion tensor\n",
    "        z: w/kv_Tc\n",
    "        wc: w/w_pc\n",
    "        n: n_h/n_c\n",
    "        t: T_h/T_c\n",
    "        \n",
    "        use scipy instead of mpmath\n",
    "        \"\"\"\n",
    "        return 1 - (z/wc)**2 * (zpd_sp(z) + n/t * zpd_sp(z/np.sqrt(t)))\n",
    "    @timing\n",
    "    def d_l_fast(z, wc, n, t):\n",
    "        \"\"\"\n",
    "        add approximations to d_l in small and large argument limit\n",
    "        \n",
    "        \"\"\"\n",
    "        if z < 0.01:\n",
    "            re_d_l = 1 + 2 * (1 + n/t) * z**2 / wc**2\n",
    "            im_d_l = 2 * np.sqrt(np.pi) * z**3 /wc**2 * (1 - z**2 - n * (z/t)**2 / np.sqrt(t))\n",
    "            return re_d_l + 1.0j * im_d_l\n",
    "        return 1 - (z/wc)**2 * (zpd_sp(z) + n/t * zpd_sp(z/np.sqrt(t)))"
   ]
  },
  {
   "cell_type": "code",
   "execution_count": 267,
   "metadata": {
    "collapsed": false
   },
   "outputs": [
    {
     "name": "stdout",
     "output_type": "stream",
     "text": [
      "d_l function took 0.731 ms\n",
      "(1.00000288350058 + 5.11087681214692e-9j)\n",
      "d_l_sp function took 0.062 ms\n",
      "(1.0000028835+5.11087681215e-09j)\n",
      "d_l_fast function took 0.013 ms\n",
      "(1.0000028835063437+3.4072495044689347e-09j)\n"
     ]
    }
   ],
   "source": [
    "z, wc, n, t = 0.001, 1.02, 0.5, 1\n",
    "print(d_l(z, wc, n, t))\n",
    "print(d_l_sp(z, wc, n, t))\n",
    "print(d_l_fast(z, wc, n, t))"
   ]
  },
  {
   "cell_type": "code",
   "execution_count": null,
   "metadata": {
    "collapsed": true
   },
   "outputs": [],
   "source": []
  },
  {
   "cell_type": "code",
   "execution_count": 19,
   "metadata": {
    "collapsed": true
   },
   "outputs": [],
   "source": [
    "    #@staticmethod\n",
    "    @timing\n",
    "    def long_interval_hybrid(wc, n, t):\n",
    "        \"\"\"\n",
    "        Return the interval of integration for longitudinal impedance, which\n",
    "        is of the form [0, root, inf], where root satisfies\n",
    "        d_l(root, w, n, t) = 0.\n",
    "        \n",
    "        \"\"\"\n",
    "        if wc <= np.sqrt(1+n) or wc > np.sqrt(1.2 * (1+n)):\n",
    "            return [0, np.inf]\n",
    "        guess = z_b(wc, n, t)\n",
    "        print(guess)\n",
    "        try:\n",
    "            # still used multiprecision function so that a complex solution is returned\n",
    "            root = mp.findroot(lambda z: d_l_sp(np.complex(z), wc, n, t), guess)\n",
    "            print(root)\n",
    "            int_range = [0, np.abs((mp.re(root))), mp.inf]\n",
    "            return int_range\n",
    "        except ValueError:\n",
    "            print('im here')\n",
    "            return [0, mp.inf]\n",
    "    @timing    \n",
    "    def long_interval_sp(wc, n, t):\n",
    "        \"\"\"\n",
    "        Return the interval of integration for longitudinal impedance, which\n",
    "        is of the form [0, root, inf], where root satisfies\n",
    "        Re(d_l(root, w, n, t)) = 0.\n",
    "        \n",
    "        \"\"\"\n",
    "        if wc <= np.sqrt(1+n) or wc > np.sqrt(1.2 * (1+n)):\n",
    "            return [0, np.inf]\n",
    "        guess = z_b(wc, n, t)\n",
    "        print(guess)\n",
    "        try:\n",
    "            # still used multiprecision function so that a complex solution is returned\n",
    "            root = fsolve(lambda z: np.real(d_l_sp(z, wc, n, t)), guess)[0]\n",
    "            print(root)\n",
    "            int_range = [0, np.abs(root), np.inf]\n",
    "            return int_range\n",
    "        except ValueError:\n",
    "            print('im here')\n",
    "            return [0, np.inf]"
   ]
  },
  {
   "cell_type": "code",
   "execution_count": 22,
   "metadata": {
    "collapsed": false
   },
   "outputs": [
    {
     "name": "stdout",
     "output_type": "stream",
     "text": [
      "6.33950415027\n",
      "6.3008070171\n",
      "long_interval_sp function took 0.572 ms\n",
      "6.33950415027\n",
      "(6.30080701709744 - 3.70030530228018e-13j)\n",
      "long_interval_hybrid function took 5.273 ms\n"
     ]
    },
    {
     "data": {
      "text/plain": [
       "[0, mpf('6.3008070170974451'), mpf('+inf')]"
      ]
     },
     "execution_count": 22,
     "metadata": {},
     "output_type": "execute_result"
    }
   ],
   "source": [
    "wc, n, t = 1.02, 0, 1\n",
    "guess = 3.\n",
    "# mp.findroot(lambda z: d_l_sp(z, wc, n, t), guess)\n",
    "long_interval_sp(wc, n, t)\n",
    "long_interval_hybrid(wc, n, t)"
   ]
  },
  {
   "cell_type": "code",
   "execution_count": 249,
   "metadata": {
    "collapsed": true
   },
   "outputs": [],
   "source": [
    "    #@timing\n",
    "    def za_l_integrand(z, wc, l, n, t):\n",
    "        \"\"\"\n",
    "        Integrand of longitudinal component of the antenna impedance.\n",
    "        l: l/l_d, where l is antenna length, l_d is debye length\n",
    "        a: a/l is the ratio of antenna radius and monopole length\n",
    "        \n",
    "        \"\"\"\n",
    "        kl = wc*l/mp.sqrt(2)/z\n",
    "        ka = kl * p.al_ratio\n",
    "        num = f1(kl) * j0(ka)**2\n",
    "        denom = z**2 * BiMax.d_l(z, wc, n, t)\n",
    "        return num/denom\n",
    "    #@timing\n",
    "    def za_l_integrand_sp(z, wc, l, n, t):\n",
    "        \"\"\"\n",
    "        Integrand of longitudinal component of the antenna impedance.\n",
    "        l: l/l_d, where l is antenna length, l_d is debye length\n",
    "        a: a/l is the ratio of antenna radius and monopole length\n",
    "        \n",
    "        \"\"\"\n",
    "        kl = wc*l/np.sqrt(2)/z\n",
    "        ka = kl * p.al_ratio\n",
    "        num = f1_sp(kl) * j0(ka)**2\n",
    "        denom = z**2 * d_l_sp(z, wc, n, t)\n",
    "        return num/denom   \n",
    "    #@timing\n",
    "    def za_l_integrand_fast(z, wc, l, n, t, al_ratio):\n",
    "        \"\"\"\n",
    "        Integrand of longitudinal component of the antenna impedance.\n",
    "        l: l/l_d, where l is antenna length, l_d is debye length\n",
    "        a: a/l is the ratio of antenna radius and monopole length\n",
    "        \n",
    "        \"\"\"\n",
    "        if z < 0.01:\n",
    "            ka = wc * l * al_ratio / np.sqrt(2)/ z\n",
    "            return np.pi / (2 * (wc * l)**2 * al_ratio) * np.sin(ka) * np.conj(d_l_sp(z, wc, n, t))\n",
    "        kl = wc*l/np.sqrt(2)/z\n",
    "        ka = kl * p.al_ratio\n",
    "        num = f1_sp(kl) * j0(ka)**2\n",
    "        denom = z**2 * d_l_sp(z, wc, n, t)\n",
    "        return num/denom        "
   ]
  },
  {
   "cell_type": "code",
   "execution_count": 259,
   "metadata": {
    "collapsed": false
   },
   "outputs": [
    {
     "data": {
      "text/plain": [
       "[<matplotlib.lines.Line2D at 0x10d19f438>]"
      ]
     },
     "execution_count": 259,
     "metadata": {},
     "output_type": "execute_result"
    },
    {
     "data": {
      "image/png": "[encoded data removed]",
      "text/plain": [
       "<matplotlib.figure.Figure at 0x10d19fba8>"
      ]
     },
     "metadata": {},
     "output_type": "display_data"
    }
   ],
   "source": [
    "x_arr = np.linspace(0.01, 10, 20)\n",
    "j0x = [j0(x) for x in x_arr]\n",
    "sincx = [np.sin(x)/x for x in x_arr]\n",
    "plt.plot(x, j0x)\n",
    "plt.plot(x, sincx)"
   ]
  },
  {
   "cell_type": "code",
   "execution_count": 250,
   "metadata": {
    "collapsed": false
   },
   "outputs": [
    {
     "name": "stdout",
     "output_type": "stream",
     "text": [
      "(-199.960002667-3.54455322876j)\n",
      "<function zpd_sp at 0x10a8a2620>\n"
     ]
    }
   ],
   "source": [
    "print(zpd_sp(0.01)/0.01)\n",
    "print(zpd_sp)"
   ]
  },
  {
   "cell_type": "code",
   "execution_count": 251,
   "metadata": {
    "collapsed": false
   },
   "outputs": [
    {
     "name": "stdout",
     "output_type": "stream",
     "text": [
      "(13.7897746324635 - 3.39387526419226e-5j)\n",
      "(13.7897746325-3.39387526419e-05j)\n",
      "(13.7897746325-3.39387526419e-05j)\n"
     ]
    }
   ],
   "source": [
    "z, wc, l, n, t, al_ratio = 0.01, 1.2, 6.7, 0, 1, ant_rad/ant_len\n",
    "print(za_l_integrand(z, wc, l, n, t))\n",
    "print(za_l_integrand_sp(z, wc, l, n, t))\n",
    "print(za_l_integrand_fast(z, wc, l, n, t, al_ratio))"
   ]
  },
  {
   "cell_type": "code",
   "execution_count": 252,
   "metadata": {
    "collapsed": false
   },
   "outputs": [],
   "source": [
    "    #@timing\n",
    "    def za_l(wc, l, n, t, tc):\n",
    "        \"\"\"\n",
    "        Longitudinal impedance in unit of Ohms.\n",
    "        wc: w/w_pc, where w_pc is core electron plasma frequency.\n",
    "        tc: core electron temperature.\n",
    "        \"\"\"\n",
    "        limits = p.long_interval(wc, n, t)\n",
    "        print(limits)\n",
    "        result = mp.quad(lambda z: p.za_l_integrand(z, wc, l, n, t), limits)\n",
    "        return result \n",
    "    #@timing\n",
    "    def za_l_sp(wc, l, n, t, tc):\n",
    "        \"\"\"\n",
    "        Longitudinal impedance in unit of Ohms.\n",
    "        wc: w/w_pc, where w_pc is core electron plasma frequency.\n",
    "        tc: core electron temperature.\n",
    "        \"\"\"\n",
    "        limits = long_interval_sp(wc, n, t)\n",
    "        print(limits)\n",
    "        if len(limits) == 2:\n",
    "            intgrl = scipy.integrate.quad(\n",
    "                lambda z: za_l_integrand_sp(z, wc, l, n, t), 0, np.inf, limit=100)\n",
    "            result = intgrl[0]\n",
    "        if len(limits) == 3:\n",
    "            sing = limits[1]\n",
    "            intgrl_1 = scipy.integrate.quad(\n",
    "                lambda z: za_l_integrand_sp(z, wc, l, n, t), 0, 2 * sing, points = [sing], limit=200)\n",
    "            print(intgrl_1)\n",
    "            intgrl_2 = scipy.integrate.quad(\n",
    "                lambda z: za_l_integrand_sp(z, wc, l, n, t), 2 * sing, np.inf)\n",
    "            result = intgrl_1[0] + intgrl_2[0]\n",
    "        return result"
   ]
  },
  {
   "cell_type": "code",
   "execution_count": 182,
   "metadata": {
    "collapsed": false
   },
   "outputs": [
    {
     "data": {
      "text/plain": [
       "mpc(real='0.68904477857208901', imag='-0.24902047322755577')"
      ]
     },
     "execution_count": 182,
     "metadata": {},
     "output_type": "execute_result"
    }
   ],
   "source": [
    "mp.quad(lambda z: p.za_l_integrand(z, wc, l, n, t), [0.01, 10])"
   ]
  },
  {
   "cell_type": "code",
   "execution_count": 243,
   "metadata": {
    "collapsed": false
   },
   "outputs": [
    {
     "data": {
      "text/plain": [
       "(0.35865668708506054, 2.997505792535022e-13)"
      ]
     },
     "execution_count": 243,
     "metadata": {},
     "output_type": "execute_result"
    }
   ],
   "source": [
    "z, wc, l, n, t, tc = 5.1, .5, 6.7, 0.1, 10, 1\n",
    "scipy.integrate.quad(\n",
    "    lambda z: np.real(za_l_integrand_sp(z, wc, l, n, t)), 0.1, 10)"
   ]
  },
  {
   "cell_type": "code",
   "execution_count": 244,
   "metadata": {
    "collapsed": false
   },
   "outputs": [],
   "source": [
    "# plot za for small z\n",
    "z_list = [1e-10, 1e-9, 1e-8, 1e-7, 1e-6, 1e-5, 1e-4, 1e-3, 1e-2, 1e-1, 0.2, 0.5,0.7, 0.9, \n",
    "          1, 1.1, 1.2, 1.3, 1.4, 1.5, 1.8, 2, 2.5, 3, 4, 5, 6, 7, 8, 10, 15, 20, 25, 30, 40, 50, 60, 100]\n",
    "za_l_integrand_list = [np.real(za_l_integrand_sp(z, wc, l, n, t)) for z in z_list]\n",
    "d_l_list = [d_l_sp(z, wc, n, t) for z in z_list]\n",
    "f1_kl = [f1_sp(wc*l/np.sqrt(2)/z) for z in z_list]"
   ]
  },
  {
   "cell_type": "code",
   "execution_count": 245,
   "metadata": {
    "collapsed": false
   },
   "outputs": [
    {
     "data": {
      "text/plain": [
       "(1.0008078398506672+1.4223052396393321e-05j)"
      ]
     },
     "execution_count": 245,
     "metadata": {},
     "output_type": "execute_result"
    }
   ],
   "source": [
    "d_l_sp(0.01, wc, 0.1, 10)"
   ]
  },
  {
   "cell_type": "code",
   "execution_count": 247,
   "metadata": {
    "collapsed": false
   },
   "outputs": [
    {
     "data": {
      "image/png": "[encoded data removed]",
      "text/plain": [
       "<matplotlib.figure.Figure at 0x10cf7b7b8>"
      ]
     },
     "metadata": {},
     "output_type": "display_data"
    }
   ],
   "source": [
    "plt.plot(z_list, za_l_integrand_list)\n",
    "#plt.plot(z_list, np.real(d_l_list))\n",
    "#plt.plot(z_list, f1_kl)\n",
    "plt.xscale('log')\n",
    "#plt.yscale('log')\n",
    "plt.show()"
   ]
  },
  {
   "cell_type": "code",
   "execution_count": 198,
   "metadata": {
    "collapsed": false
   },
   "outputs": [
    {
     "name": "stdout",
     "output_type": "stream",
     "text": [
      "[0, mpf('+inf')]\n",
      "(17.3541004048403 - 0.0825616176127433j)"
     ]
    },
    {
     "name": "stderr",
     "output_type": "stream",
     "text": [
      "/usr/local/lib/python3.4/site-packages/scipy/integrate/quadpack.py:378: ComplexWarning: Casting complex values to real discards the imaginary part\n",
      "  return _quadpack._qagie(func,bound,infbounds,args,full_output,epsabs,epsrel,limit)\n",
      "/usr/local/lib/python3.4/site-packages/scipy/integrate/quadpack.py:352: IntegrationWarning: The maximum number of subdivisions (100) has been achieved.\n",
      "  If increasing the limit yields no improvement it is advised to analyze \n",
      "  the integrand in order to determine the difficulties.  If the position of a \n",
      "  local difficulty can be determined (singularity, discontinuity) one will \n",
      "  probably gain from splitting up the interval and calling the integrator \n",
      "  on the subranges.  Perhaps a special-purpose integrator should be used.\n",
      "  warnings.warn(msg, IntegrationWarning)\n"
     ]
    },
    {
     "name": "stdout",
     "output_type": "stream",
     "text": [
      "\n",
      "long_interval_sp function took 0.015 ms\n",
      "[0, inf]\n"
     ]
    },
    {
     "data": {
      "text/plain": [
       "17.356158064242116"
      ]
     },
     "execution_count": 198,
     "metadata": {},
     "output_type": "execute_result"
    }
   ],
   "source": [
    "z, wc, l, n, t, tc = 5.1, .1, 6.7, 0, 1, 1\n",
    "print(za_l(wc, l, n, t, tc))\n",
    "za_l_sp(wc, l, n, t, tc)"
   ]
  },
  {
   "cell_type": "code",
   "execution_count": 123,
   "metadata": {
    "collapsed": false
   },
   "outputs": [
    {
     "name": "stderr",
     "output_type": "stream",
     "text": [
      "/usr/local/lib/python3.4/site-packages/scipy/integrate/quadpack.py:386: ComplexWarning: Casting complex values to real discards the imaginary part\n",
      "  return _quadpack._qagpe(func,a,b,the_points,args,full_output,epsabs,epsrel,limit)\n",
      "/usr/local/lib/python3.4/site-packages/scipy/integrate/quadpack.py:352: IntegrationWarning: The maximum number of subdivisions (200) has been achieved.\n",
      "  If increasing the limit yields no improvement it is advised to analyze \n",
      "  the integrand in order to determine the difficulties.  If the position of a \n",
      "  local difficulty can be determined (singularity, discontinuity) one will \n",
      "  probably gain from splitting up the interval and calling the integrator \n",
      "  on the subranges.  Perhaps a special-purpose integrator should be used.\n",
      "  warnings.warn(msg, IntegrationWarning)\n"
     ]
    },
    {
     "name": "stdout",
     "output_type": "stream",
     "text": [
      "3.50200272372\n",
      "(3.45207030162424 - 0.00720831828234414j)\n",
      "long_interval_sp function took 5.982 ms\n",
      "[0, mpf('3.4520703016242407'), mpf('+inf')]\n",
      "(1.5775455207467586, 1.754594418879938e-05)\n",
      "za_l_sp function took 321.718 ms\n"
     ]
    },
    {
     "name": "stderr",
     "output_type": "stream",
     "text": [
      "/usr/local/lib/python3.4/site-packages/scipy/integrate/quadpack.py:378: ComplexWarning: Casting complex values to real discards the imaginary part\n",
      "  return _quadpack._qagie(func,bound,infbounds,args,full_output,epsabs,epsrel,limit)\n"
     ]
    },
    {
     "data": {
      "text/plain": [
       "1.5860654483435699"
      ]
     },
     "execution_count": 123,
     "metadata": {},
     "output_type": "execute_result"
    }
   ],
   "source": [
    "za_l_sp(wc, l, n, t, tc)"
   ]
  },
  {
   "cell_type": "code",
   "execution_count": null,
   "metadata": {
    "collapsed": false
   },
   "outputs": [],
   "source": [
    "\n",
    "\n",
    "@timing\n",
    "def mp_quad(a, b):\n",
    "    return mp.quad(lambda z: zpd_sp(float(z)), [a, b])\n",
    "\n",
    "@timing\n",
    "def sp_quad(a, b):\n",
    "    return scipy.integrate.quad(lambda z: np.imag(zpd_sp(z)), a, b)\n",
    "\n",
    "a, b = 0, 10\n",
    "mp_quad(a, b)\n",
    "sp_quad(a, b)"
   ]
  },
  {
   "cell_type": "code",
   "execution_count": null,
   "metadata": {
    "collapsed": false
   },
   "outputs": [],
   "source": [
    "sp_quad(0, 1)"
   ]
  },
  {
   "cell_type": "code",
   "execution_count": null,
   "metadata": {
    "collapsed": true
   },
   "outputs": [],
   "source": []
  }
 ],
 "metadata": {
  "kernelspec": {
   "display_name": "Python 3",
   "language": "python",
   "name": "python3"
  },
  "language_info": {
   "codemirror_mode": {
    "name": "ipython",
    "version": 3
   },
   "file_extension": ".py",
   "mimetype": "text/x-python",
   "name": "python",
   "nbconvert_exporter": "python",
   "pygments_lexer": "ipython3",
   "version": "3.4.3"
  }
 },
 "nbformat": 4,
 "nbformat_minor": 0
}
