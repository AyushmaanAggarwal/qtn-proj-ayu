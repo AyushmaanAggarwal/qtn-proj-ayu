{
 "cells": [
  {
   "cell_type": "markdown",
   "metadata": {},
   "source": [
    "## optimize bimax module\n",
    "1, use langmuir wave dispersion relation to find the poles in k plane."
   ]
  },
  {
   "cell_type": "markdown",
   "metadata": {},
   "source": [
    "Toolkit paper:\n",
    "    $k_b \\approx \\frac{1+ \\alpha}{L_{Dc}}[\\frac{1-\\omega_{pT}^2/\\omega^2}{3(1 + \\alpha t)}]^{1/2}$"
   ]
  },
  {
   "cell_type": "markdown",
   "metadata": {},
   "source": [
    "Then $\\xi_b \\equiv \\omega/k_b v_{Tc} = \\frac{\\omega L_{Dc}/v_{Tc}}{1+\\alpha} \n",
    "[\\frac{3(1 + \\alpha t)}{1-\\omega_{pT}^2/\\omega^2}]^2$"
   ]
  },
  {
   "cell_type": "markdown",
   "metadata": {},
   "source": [
    "$\\frac{\\omega/\\omega_{pc}}{\\sqrt{2}(1+\\alpha)} \n",
    "[\\frac{3(1 + \\alpha t)}{1- (1+\\alpha)\\omega_{pc}^2/\\omega^2}]^2$"
   ]
  },
  {
   "cell_type": "code",
   "execution_count": 1,
   "metadata": {
    "collapsed": false
   },
   "outputs": [],
   "source": [
    "from qtn.bimax import BiMax\n",
    "from qtn.util import timing, zpd, zp_sp, zpd_sp, f1, f1_sp, j0\n",
    "from scipy.optimize import fsolve, root\n",
    "import sympy.mpmath as mp\n",
    "import numpy as np\n",
    "import scipy.integrate"
   ]
  },
  {
   "cell_type": "code",
   "execution_count": 2,
   "metadata": {
    "collapsed": false
   },
   "outputs": [],
   "source": [
    "ant_len = 50      # m (monopole) \n",
    "ant_rad = 1.9e-4  # m\n",
    "base_cap = 20e-12 # Farad\n",
    "fbins = np.array([4000*1.0445**i for i in range(96)])"
   ]
  },
  {
   "cell_type": "code",
   "execution_count": 3,
   "metadata": {
    "collapsed": true
   },
   "outputs": [],
   "source": [
    "p = BiMax(ant_len, ant_rad, base_cap)\n",
    "\n",
    "def z_b(wc, n, t):\n",
    "    \"\"\"\n",
    "    the approximated expression for the pole,\n",
    "    when frequency is close to plasma frequency\n",
    "    \n",
    "    see Meyer-Vernet & Perche (1989), the \"toolkit\" paper\n",
    "    \"\"\"\n",
    "    term_1 = wc/(np.sqrt(2) * (1 + n))\n",
    "    term_2 = 3 * (1 + n * t) / (1 - (1 + n) / wc**2 )\n",
    "    term_2 = np.sqrt(term_2)\n",
    "    return term_1 * term_2\n"
   ]
  },
  {
   "cell_type": "code",
   "execution_count": 4,
   "metadata": {
    "collapsed": true
   },
   "outputs": [],
   "source": [
    "    #@timing\n",
    "    def d_l(z, wc, n, t):\n",
    "        \"\"\"\n",
    "        Longitudinal dispersion tensor\n",
    "        z: w/kv_Tc\n",
    "        wc: w/w_pc\n",
    "        n: n_h/n_c\n",
    "        t: T_h/T_c\n",
    "    \n",
    "        \"\"\"\n",
    "        return 1 - (z/wc)**2 * (zpd(z) + n/t * zpd(z/mp.sqrt(t)))\n",
    "    #@timing\n",
    "    def d_l_sp(z, wc, n, t):\n",
    "        \"\"\"\n",
    "        Longitudinal dispersion tensor\n",
    "        z: w/kv_Tc\n",
    "        wc: w/w_pc\n",
    "        n: n_h/n_c\n",
    "        t: T_h/T_c\n",
    "        \n",
    "        use scipy instead of mpmath\n",
    "        \"\"\"\n",
    "        return 1 - (z/wc)**2 * (zpd_sp(z) + n/t * zpd_sp(z/np.sqrt(t)))"
   ]
  },
  {
   "cell_type": "code",
   "execution_count": 5,
   "metadata": {
    "collapsed": false
   },
   "outputs": [
    {
     "data": {
      "text/plain": [
       "(-0.022803997275301136+2.2862074859912556e-09j)"
      ]
     },
     "execution_count": 5,
     "metadata": {},
     "output_type": "execute_result"
    }
   ],
   "source": [
    "z, wc, n, t = 5.1, 1.02, 0, 1\n",
    "d_l(z, wc, n, t)\n",
    "d_l_sp(z, wc, n, t)"
   ]
  },
  {
   "cell_type": "code",
   "execution_count": 74,
   "metadata": {
    "collapsed": true
   },
   "outputs": [],
   "source": [
    "    #@staticmethod\n",
    "    @timing\n",
    "    def long_interval_sp(wc, n, t):\n",
    "        \"\"\"\n",
    "        Return the interval of integration for longitudinal impedance, which\n",
    "        is of the form [0, root, inf], where root satisfies\n",
    "        d_l(root, w, n, t) = 0.\n",
    "        \n",
    "        \"\"\"\n",
    "        if wc <= np.sqrt(1+n) or wc > np.sqrt(1.2 * (1+n)):\n",
    "            return [0, np.inf]\n",
    "        guess = z_b(wc, n, t)\n",
    "        print(guess)\n",
    "        try:\n",
    "            # still used multiprecision function so that a complex solution is returned\n",
    "            root = mp.findroot(lambda z: d_l_sp(np.complex(z), wc, n, t), guess)\n",
    "            print(root)\n",
    "            int_range = [0, np.abs((mp.re(root))), mp.inf]\n",
    "            return int_range\n",
    "        except ValueError:\n",
    "            print('im here')\n",
    "            return [0, mp.inf]\n"
   ]
  },
  {
   "cell_type": "code",
   "execution_count": 78,
   "metadata": {
    "collapsed": false
   },
   "outputs": [
    {
     "name": "stdout",
     "output_type": "stream",
     "text": [
      "3.50200272372\n",
      "(3.45207030162424 - 0.00720831828234414j)\n",
      "long_interval_sp function took 6.571 ms\n"
     ]
    },
    {
     "data": {
      "text/plain": [
       "[0, mpf('3.4520703016242407'), mpf('+inf')]"
      ]
     },
     "execution_count": 78,
     "metadata": {},
     "output_type": "execute_result"
    }
   ],
   "source": [
    "wc, n, t = 1.08, 0, 1\n",
    "guess = 3.\n",
    "# mp.findroot(lambda z: d_l_sp(z, wc, n, t), guess)\n",
    "long_interval_sp(wc, n, t)"
   ]
  },
  {
   "cell_type": "code",
   "execution_count": 14,
   "metadata": {
    "collapsed": true
   },
   "outputs": [],
   "source": [
    "    @timing\n",
    "    def za_l_integrand(z, wc, l, n, t):\n",
    "        \"\"\"\n",
    "        Integrand of longitudinal component of the antenna impedance.\n",
    "        l: l/l_d, where l is antenna length, l_d is debye length\n",
    "        a: a/l is the ratio of antenna radius and monopole length\n",
    "        \n",
    "        \"\"\"\n",
    "        kl = wc*l/mp.sqrt(2)/z\n",
    "        ka = kl * p.al_ratio\n",
    "        num = f1(kl) * j0(ka)**2\n",
    "        denom = z**2 * BiMax.d_l(z, wc, n, t)\n",
    "        return num/denom\n",
    "    #@timing\n",
    "    def za_l_integrand_sp(z, wc, l, n, t):\n",
    "        \"\"\"\n",
    "        Integrand of longitudinal component of the antenna impedance.\n",
    "        l: l/l_d, where l is antenna length, l_d is debye length\n",
    "        a: a/l is the ratio of antenna radius and monopole length\n",
    "        \n",
    "        \"\"\"\n",
    "        kl = wc*l/np.sqrt(2)/z\n",
    "        ka = kl * p.al_ratio\n",
    "        num = f1_sp(kl) * j0(ka)**2\n",
    "        denom = z**2 * d_l_sp(z, wc, n, t)\n",
    "        return num/denom    "
   ]
  },
  {
   "cell_type": "code",
   "execution_count": 84,
   "metadata": {
    "collapsed": false
   },
   "outputs": [
    {
     "name": "stdout",
     "output_type": "stream",
     "text": [
      "za_l_integrand function took 1.156 ms\n"
     ]
    },
    {
     "data": {
      "text/plain": [
       "(0.0067389920152918174-4.2644969563453513e-11j)"
      ]
     },
     "execution_count": 84,
     "metadata": {},
     "output_type": "execute_result"
    }
   ],
   "source": [
    "z, wc, l, n, t = 5.1, 1.2, 6.7, 0, 1\n",
    "za_l_integrand(z, wc, l, n, t)\n",
    "za_l_integrand_sp(z, wc, l, n, t)"
   ]
  },
  {
   "cell_type": "code",
   "execution_count": 122,
   "metadata": {
    "collapsed": false
   },
   "outputs": [],
   "source": [
    "    @timing\n",
    "    def za_l(wc, l, n, t, tc):\n",
    "        \"\"\"\n",
    "        Longitudinal impedance in unit of Ohms.\n",
    "        wc: w/w_pc, where w_pc is core electron plasma frequency.\n",
    "        tc: core electron temperature.\n",
    "        \"\"\"\n",
    "        limits = p.long_interval(wc, n, t)\n",
    "        print(limits)\n",
    "        result = mp.quad(lambda z: p.za_l_integrand(z, wc, l, n, t), limits)\n",
    "        return result \n",
    "    @timing\n",
    "    def za_l_sp(wc, l, n, t, tc):\n",
    "        \"\"\"\n",
    "        Longitudinal impedance in unit of Ohms.\n",
    "        wc: w/w_pc, where w_pc is core electron plasma frequency.\n",
    "        tc: core electron temperature.\n",
    "        \"\"\"\n",
    "        limits = long_interval_sp(wc, n, t)\n",
    "        print(limits)\n",
    "        if len(limits) == 2:\n",
    "            intgrl = scipy.integrate.quad(\n",
    "                lambda z: za_l_integrand_sp(z, wc, l, n, t), 0, np.inf, limit=100)\n",
    "            result = intgrl[0]\n",
    "        if len(limits) == 3:\n",
    "            sing = limits[1]\n",
    "            intgrl_1 = scipy.integrate.quad(\n",
    "                lambda z: za_l_integrand_sp(z, wc, l, n, t), 0, 2 * sing, points = [sing], limit=200)\n",
    "            print(intgrl_1)\n",
    "            intgrl_2 = scipy.integrate.quad(\n",
    "                lambda z: za_l_integrand_sp(z, wc, l, n, t), 2 * sing, np.inf)\n",
    "            result = intgrl_1[0] + intgrl_2[0]\n",
    "        return result"
   ]
  },
  {
   "cell_type": "code",
   "execution_count": 120,
   "metadata": {
    "collapsed": false
   },
   "outputs": [
    {
     "name": "stdout",
     "output_type": "stream",
     "text": [
      "[0 mpf('3.452077827512928') mpf('+inf')]\n",
      "za_l function took 835.108 ms\n"
     ]
    },
    {
     "data": {
      "text/plain": [
       "mpc(real='1.585257043662984', imag='-0.30579893644370593')"
      ]
     },
     "execution_count": 120,
     "metadata": {},
     "output_type": "execute_result"
    }
   ],
   "source": [
    "z, wc, l, n, t, tc = 5.1, 1.08, 6.7, 0, 1, 1\n",
    "za_l(wc, l, n, t, tc)"
   ]
  },
  {
   "cell_type": "code",
   "execution_count": 123,
   "metadata": {
    "collapsed": false
   },
   "outputs": [
    {
     "name": "stderr",
     "output_type": "stream",
     "text": [
      "/usr/local/lib/python3.4/site-packages/scipy/integrate/quadpack.py:386: ComplexWarning: Casting complex values to real discards the imaginary part\n",
      "  return _quadpack._qagpe(func,a,b,the_points,args,full_output,epsabs,epsrel,limit)\n",
      "/usr/local/lib/python3.4/site-packages/scipy/integrate/quadpack.py:352: IntegrationWarning: The maximum number of subdivisions (200) has been achieved.\n",
      "  If increasing the limit yields no improvement it is advised to analyze \n",
      "  the integrand in order to determine the difficulties.  If the position of a \n",
      "  local difficulty can be determined (singularity, discontinuity) one will \n",
      "  probably gain from splitting up the interval and calling the integrator \n",
      "  on the subranges.  Perhaps a special-purpose integrator should be used.\n",
      "  warnings.warn(msg, IntegrationWarning)\n"
     ]
    },
    {
     "name": "stdout",
     "output_type": "stream",
     "text": [
      "3.50200272372\n",
      "(3.45207030162424 - 0.00720831828234414j)\n",
      "long_interval_sp function took 5.982 ms\n",
      "[0, mpf('3.4520703016242407'), mpf('+inf')]\n",
      "(1.5775455207467586, 1.754594418879938e-05)\n",
      "za_l_sp function took 321.718 ms\n"
     ]
    },
    {
     "name": "stderr",
     "output_type": "stream",
     "text": [
      "/usr/local/lib/python3.4/site-packages/scipy/integrate/quadpack.py:378: ComplexWarning: Casting complex values to real discards the imaginary part\n",
      "  return _quadpack._qagie(func,bound,infbounds,args,full_output,epsabs,epsrel,limit)\n"
     ]
    },
    {
     "data": {
      "text/plain": [
       "1.5860654483435699"
      ]
     },
     "execution_count": 123,
     "metadata": {},
     "output_type": "execute_result"
    }
   ],
   "source": [
    "za_l_sp(wc, l, n, t, tc)"
   ]
  },
  {
   "cell_type": "code",
   "execution_count": null,
   "metadata": {
    "collapsed": false
   },
   "outputs": [],
   "source": [
    "\n",
    "\n",
    "@timing\n",
    "def mp_quad(a, b):\n",
    "    return mp.quad(lambda z: zpd_sp(float(z)), [a, b])\n",
    "\n",
    "@timing\n",
    "def sp_quad(a, b):\n",
    "    return scipy.integrate.quad(lambda z: np.imag(zpd_sp(z)), a, b)\n",
    "\n",
    "a, b = 0, 10\n",
    "mp_quad(a, b)\n",
    "sp_quad(a, b)"
   ]
  },
  {
   "cell_type": "code",
   "execution_count": null,
   "metadata": {
    "collapsed": false
   },
   "outputs": [],
   "source": [
    "sp_quad(0, 1)"
   ]
  },
  {
   "cell_type": "code",
   "execution_count": null,
   "metadata": {
    "collapsed": true
   },
   "outputs": [],
   "source": []
  }
 ],
 "metadata": {
  "kernelspec": {
   "display_name": "Python 3",
   "language": "python",
   "name": "python3"
  },
  "language_info": {
   "codemirror_mode": {
    "name": "ipython",
    "version": 3
   },
   "file_extension": ".py",
   "mimetype": "text/x-python",
   "name": "python",
   "nbconvert_exporter": "python",
   "pygments_lexer": "ipython3",
   "version": "3.4.3"
  }
 },
 "nbformat": 4,
 "nbformat_minor": 0
}
