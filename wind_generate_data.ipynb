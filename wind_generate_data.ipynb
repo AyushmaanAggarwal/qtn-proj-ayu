{
 "cells": [
  {
   "cell_type": "markdown",
   "metadata": {
    "tags": []
   },
   "source": [
    "## Import Packages and Data"
   ]
  },
  {
   "cell_type": "code",
   "execution_count": 29,
   "metadata": {
    "tags": []
   },
   "outputs": [],
   "source": [
    "# AYU CODE\n",
    "import pickle\n",
    "import random\n",
    "from scipy import fft\n",
    "from qtn.bimax import BiMax\n",
    "from qtn.util import (boltzmann, emass, echarge, permittivity, cspeed, fperp, fp)\n",
    "import numpy as np\n",
    "import mpmath as mp\n",
    "import matplotlib.pyplot as plt\n",
    "from pyspedas import wind\n",
    "from pytplot import tplot, get_data\n",
    "import pandas as pd\n",
    "import time\n",
    "import netCDF4 as nc\n",
    "from functions import Timer\n",
    "%matplotlib inline"
   ]
  },
  {
   "cell_type": "code",
   "execution_count": 2,
   "metadata": {},
   "outputs": [
    {
     "data": {
      "text/plain": [
       "0.23701871605020652"
      ]
     },
     "execution_count": 2,
     "metadata": {},
     "output_type": "execute_result"
    }
   ],
   "source": [
    "random.random()"
   ]
  },
  {
   "cell_type": "code",
   "execution_count": 23,
   "metadata": {},
   "outputs": [],
   "source": [
    "def find_closest_time(time, lst):\n",
    "    \"\"\"\n",
    "    A function used to find the index of the closest time in a list \n",
    "    to the specific time held in the variable time\n",
    "    \"\"\"\n",
    "    return min(range(len(lst)), key=lambda i: abs(time-lst[i]))\n",
    "\n",
    "def helper(wrel, lrel, n, t, tc):\n",
    "    # add precision control to bimax function for enoise\n",
    "    mp.mp.dps = 5 if reduce_precison else (40 if wrel > 1 and wrel < 1.2 else 20) \n",
    "    return p.bimax(wrel, lrel, n, t, tc)\n",
    "\n",
    "# Functions to make code cleaner\n",
    "def gs_func(wrelplot, lrel, n, t, tc):\n",
    "    return np.array([p.gamma_shot(wrel, lrel, n, t, tc) for wrel in wrelplot])\n",
    "\n",
    "def enoise_func(wrelplot, lrel, n, t, tc): \n",
    "    return np.array([helper(wrel, lrel, n, t, tc) for wrel in wrelplot])\n",
    "\n",
    "def pnoise_func(wrelplot, lrel, tep, tc, vsw):\n",
    "    return np.array([p.proton2(wrel*np.sqrt(1+n), lrel, tep, tc, vsw) for wrel in wrelplot])\n",
    "\n",
    "gs_seperate = lambda gs: [gs[:,0], gs[:,1]]\n",
    "\n",
    "def calc_params(tc, ne, t, n): \n",
    "    fpe = (80.64828175895765*ne)**.5\n",
    "    nc = ne/(1+n)               \n",
    "    ldc = np.sqrt(permittivity * boltzmann * tc/ nc / echarge**2) \n",
    "    lrel = ant_len/ldc       \n",
    "    wrelplot = fbins/fpe\n",
    "    \n",
    "    return wrelplot, fpe, nc, lrel\n",
    "\n",
    "def calc_t(te,tc,n):\n",
    "    t = n/((1+n)/(te/tc) - 1)\n",
    "    return t"
   ]
  },
  {
   "cell_type": "code",
   "execution_count": 24,
   "metadata": {
    "tags": []
   },
   "outputs": [],
   "source": [
    "T = Timer.Timer()\n",
    "T.start()"
   ]
  },
  {
   "cell_type": "markdown",
   "metadata": {
    "tags": []
   },
   "source": [
    "### Imported Parameters\n",
    "* vsw: Solar Wind Speed                  - Solar Wind Experiment(SWE)\n",
    "* tc: core electron temperature ~ electron temperature - statistical paper \n",
    "* fpe: core electron plasma frequency    - Use WIND/WAVES NN\n",
    "* t: halo/core electron temperature ratio - \n",
    "* n: halo/core electron density ratio     - \n",
    "* tep: electron to proton temperature ratio - statistical paper \n",
    "\n",
    "### Calculated Parameters\n",
    "* ne: electron density\n",
    "* nc: core electron density       \n",
    "* ldc: core debye length                 \n",
    "* lrel: relative length of antenna"
   ]
  },
  {
   "cell_type": "markdown",
   "metadata": {
    "tags": []
   },
   "source": [
    "#### Fixed Parameters: Antenna Geometry"
   ]
  },
  {
   "cell_type": "code",
   "execution_count": 5,
   "metadata": {},
   "outputs": [],
   "source": [
    "# Antenna Geometry\n",
    "reduce_precison = True\n",
    "ant_len = 50      # m (monopole) \n",
    "ant_rad = 1.9e-4  # m\n",
    "base_cap = 20e-12 # Farad\n",
    "fbins = np.array([4000*1.0445**i for i in range(96)])"
   ]
  },
  {
   "cell_type": "markdown",
   "metadata": {
    "tags": []
   },
   "source": [
    "#### Changing Parameters: Plasma Parameters"
   ]
  },
  {
   "cell_type": "code",
   "execution_count": 6,
   "metadata": {},
   "outputs": [],
   "source": [
    "# Solar Wind Parameters\n",
    "vsw=3.966e5                   # Solar Wind Speed\n",
    "tc = 9.91 * echarge/boltzmann # Core electron temperature\n",
    "t = 6.57                      # ??? Only used to calculate electron noise and shot noise\n",
    "n = 0.026                     # ??? Some sort of ratio between core electron and normal electron density\n",
    "tep = 9.91/9.62               # Electron Temperature/Proton Temperature Ratio\n",
    "fpe = 31.47e3                 # Electron Plasma Frequency\n",
    "\n",
    "ne = 12.28e6 # Electron Density\n",
    "nc = ne/(1+n)                 # ??? Core Electron Density\n",
    "ldc = np.sqrt(permittivity * boltzmann * tc/ nc / echarge**2) # Debye Length\n",
    "lrel = ant_len/ldc            # Relative length antenna to debye length\n",
    "\n",
    "wrelplot = fbins/fpe"
   ]
  },
  {
   "cell_type": "code",
   "execution_count": 7,
   "metadata": {},
   "outputs": [
    {
     "data": {
      "text/plain": [
       "80.64828175895765"
      ]
     },
     "execution_count": 7,
     "metadata": {},
     "output_type": "execute_result"
    }
   ],
   "source": [
    "fpe**2/ne"
   ]
  },
  {
   "cell_type": "code",
   "execution_count": 8,
   "metadata": {},
   "outputs": [],
   "source": [
    "# Solar Wind Parameter Ranges\n",
    "vsw_ranges_km = [[250,300], [300,350], [350,400], [400,450], \n",
    "                [450,500], [500,550], [550,600], [600,650], \n",
    "                [650,700], [700,750], [750,800]]\n",
    "\n",
    "ne_ranges_log= [[1.10, 0.15], [1.05, 0.19], [0.96, 0.18],\n",
    "                [0.87, 0.18], [0.81, 0.19], [0.73, 0.19],\n",
    "                [0.67, 0.17], [0.66, 0.18], [0.62, 0.13],\n",
    "                [0.56, 0.11], [0.57, 0.08]]\n",
    "\n",
    "tep_ranges_log = [[0.72, 0.15], [0.64, 0.23], [0.42, 0.23],\n",
    "                 [0.27, 0.22], [0.11, 0.21], [0.00, 0.19],\n",
    "                 [-0.09, 0.19], [-0.23, 0.16], [-0.32, 0.12],\n",
    "                 [-0.37, 0.12], [-0.44, 0.08]]\n",
    "\n",
    "tc_ranges = [[8.84, 1.06], [10.02, 1.89], [10.07, 1.96],\n",
    "            [10.32, 1.89], [10.25, 1.75], [9.82, 1.74],\n",
    "            [9.64, 1.57], [8.39, 1.25], [7.12, 0.87],\n",
    "            [7.01, 0.84], [6.95, 0.91]]\n",
    "\n",
    "nh_nc_ranges_log = [[-1.82, 0.25], [-1.62, 0.28], [-1.51, 0.29],\n",
    "                   [-1.38, 0.24], [-1.34, 0.23], [-1.25, 0.21],\n",
    "                   [-1.20, 0.21], [-1.22, 0.23], [-1.21, 0.23],\n",
    "                   [-1.21, 0.22], [-1.16, 0.19]]\n",
    "\n",
    "th_tc_ranges_log = [[5.90, 0.92], [5.23, 0.97], [5.20, 0.94],\n",
    "                   [5.11, 0.93], [5.12, 0.83], [5.05, 0.99],\n",
    "                   [5.04, 1.00], [5.04, 1.03], [4.82, 1.01],\n",
    "                   [4.77, 1.08], [4.53, 0.92]]"
   ]
  },
  {
   "cell_type": "code",
   "execution_count": 9,
   "metadata": {},
   "outputs": [],
   "source": [
    "vsw_ranges       = np.array(vsw_ranges_km)*10**3\n",
    "ne_ranges_log    = np.array(ne_ranges_log)\n",
    "nh_nc_ranges_log = np.array(nh_nc_ranges_log)\n",
    "tep_ranges_log   = np.array(tep_ranges_log)\n",
    "tc_ranges        = np.array(tc_ranges)* echarge/boltzmann\n",
    "th_tc_ranges_log = np.array(th_tc_ranges_log)"
   ]
  },
  {
   "cell_type": "code",
   "execution_count": 10,
   "metadata": {},
   "outputs": [
    {
     "name": "stdout",
     "output_type": "stream",
     "text": [
      "[250000 300000] [12589254.11794167  4348174.32958296] [0.01513561 0.00871276] [1.86208714 0.9432751 ] [102583.95095697  12300.79049937] [5.9  0.92]\n"
     ]
    }
   ],
   "source": [
    "# Error propogation for log error\n",
    "# error = (partial 10^x / partial x) * log_error\n",
    "# error = ln(10)*10^x * log_error\n",
    "base10 = lambda x: 10**x\n",
    "base10error = lambda x, e: np.log(10)*(10**x)*e\n",
    "base10list = lambda lst: np.array([[base10(x), base10error(x,e)] for x, e in lst])\n",
    "\n",
    "ne_ranges    = base10list(ne_ranges_log)*1e6\n",
    "nh_nc_ranges = base10list(nh_nc_ranges_log)\n",
    "tep_ranges   = base10list(tep_ranges_log)\n",
    "th_tc_ranges = (th_tc_ranges_log)\n",
    "print(vsw_ranges[0], ne_ranges[0], nh_nc_ranges[0], tep_ranges[3], tc_ranges[0], th_tc_ranges[0])"
   ]
  },
  {
   "cell_type": "code",
   "execution_count": 11,
   "metadata": {},
   "outputs": [],
   "source": [
    "compute_midpoints = lambda lst: [lst[0]-(lst[1]-lst[0])/2]+[(lst[i+1]+lst[i])/2 for i in range(len(lst)-1)]+[lst[-1]+(lst[-1]-lst[-2])/2]\n",
    "linear_scale = lambda x, x_low, x_high, y_low, y_high: (x-x_low)/(x_high-x_low)*(y_high-y_low)+y_low \n",
    "\n",
    "ne_mid    = compute_midpoints(ne_ranges[:, 0])\n",
    "tep_mid   = compute_midpoints(tep_ranges[:, 0])\n",
    "tc_mid    = compute_midpoints(tc_ranges[:, 0])\n",
    "nh_nc_mid = compute_midpoints(nh_nc_ranges[:, 0])\n",
    "th_tc_mid = compute_midpoints(th_tc_ranges[:, 0])"
   ]
  },
  {
   "cell_type": "code",
   "execution_count": 18,
   "metadata": {},
   "outputs": [],
   "source": [
    "np.random.seed(1000)\n",
    "\n",
    "def gen_random_data():\n",
    "    index = np.random.randint(0, len(vsw_ranges))\n",
    "    # vsw, ne, tep, tc, n, t\n",
    "    sd_scale = 0\n",
    "    vsw_val, low, high = np.random.uniform(vsw_ranges[index,0], vsw_ranges[index,1]),vsw_ranges[index,0], vsw_ranges[index,1]\n",
    "    ne_val    = linear_scale(vsw_val, low, high, ne_mid[index],ne_mid[index+1])\n",
    "    tep_val   = linear_scale(vsw_val, low, high, tep_mid[index],tep_mid[index+1])\n",
    "    tc_val    = linear_scale(vsw_val, low, high, tc_mid[index],tc_mid[index+1])\n",
    "    nh_nc_val = linear_scale(vsw_val, low, high, nh_nc_mid[index],nh_nc_mid[index+1])\n",
    "    th_tc_val = linear_scale(vsw_val, low, high, th_tc_mid[index],th_tc_mid[index+1])\n",
    "    \n",
    "    return [vsw_val,\n",
    "            np.random.normal(ne_val,    ne_ranges[index, 1]*sd_scale),\n",
    "            np.random.normal(tep_val,   tep_ranges[index, 1]*sd_scale),\n",
    "            np.random.normal(tc_val,    tc_ranges[index, 1]*sd_scale),\n",
    "            np.random.normal(nh_nc_val, nh_nc_ranges[index, 1]*sd_scale),\n",
    "            np.random.normal(th_tc_val, th_tc_ranges[index, 1]*sd_scale)]\n",
    "\n",
    "data = np.array([gen_random_data() for _ in range(10)])"
   ]
  },
  {
   "cell_type": "code",
   "execution_count": 19,
   "metadata": {},
   "outputs": [
    {
     "data": {
      "image/png": "[encoded data removed]",
      "text/plain": [
       "<Figure size 432x288 with 1 Axes>"
      ]
     },
     "metadata": {
      "needs_background": "light"
     },
     "output_type": "display_data"
    },
    {
     "data": {
      "image/png": "[encoded data removed]",
      "text/plain": [
       "<Figure size 432x288 with 1 Axes>"
      ]
     },
     "metadata": {
      "needs_background": "light"
     },
     "output_type": "display_data"
    },
    {
     "data": {
      "image/png": "[encoded data removed]",
      "text/plain": [
       "<Figure size 432x288 with 1 Axes>"
      ]
     },
     "metadata": {
      "needs_background": "light"
     },
     "output_type": "display_data"
    },
    {
     "data": {
      "image/png": "[encoded data removed]",
      "text/plain": [
       "<Figure size 432x288 with 1 Axes>"
      ]
     },
     "metadata": {
      "needs_background": "light"
     },
     "output_type": "display_data"
    },
    {
     "data": {
      "image/png": "[encoded data removed]",
      "text/plain": [
       "<Figure size 432x288 with 1 Axes>"
      ]
     },
     "metadata": {
      "needs_background": "light"
     },
     "output_type": "display_data"
    }
   ],
   "source": [
    "plt.title(\"Ne\")\n",
    "plt.scatter(data[:,0], data[:,1])\n",
    "plt.errorbar(vsw_ranges[:,1]-25000,  ne_ranges[:,0], yerr=ne_ranges[:,1])\n",
    "plt.show()\n",
    "plt.title(\"n\")\n",
    "plt.scatter(data[:,0], data[:,4])\n",
    "plt.errorbar(vsw_ranges[:,1]-25000,  nh_nc_ranges[:,0], yerr=nh_nc_ranges[:,1])\n",
    "plt.show()\n",
    "plt.title(\"Tep\")\n",
    "plt.scatter(data[:,0], data[:,2])\n",
    "plt.errorbar(vsw_ranges[:,1]-25000,  tep_ranges[:,0], yerr=tep_ranges[:,1])\n",
    "plt.show()\n",
    "plt.title(\"Tc\")\n",
    "plt.scatter(data[:,0], data[:,3])\n",
    "plt.errorbar(vsw_ranges[:,1]-25000,  tc_ranges[:,0], yerr=tc_ranges[:,1])\n",
    "plt.show()\n",
    "plt.title(\"t\")\n",
    "plt.scatter(data[:,0], data[:,5])\n",
    "plt.errorbar(vsw_ranges[:,1]-25000,  th_tc_ranges[:,0], yerr=th_tc_ranges[:,1])\n",
    "plt.show()"
   ]
  },
  {
   "cell_type": "code",
   "execution_count": 20,
   "metadata": {},
   "outputs": [
    {
     "name": "stdout",
     "output_type": "stream",
     "text": [
      "Estimate time: 166.650791167\n",
      "Size: 10\n"
     ]
    }
   ],
   "source": [
    "gamma_time = 10.2781822681\n",
    "enoise_time = 6.1188266277\n",
    "pnoise_time = 0.2680702209\n",
    "total_time = gamma_time+enoise_time+pnoise_time\n",
    "\n",
    "print(\"Estimate time:\", total_time*len(data))\n",
    "print(\"Size:\", len(data))"
   ]
  },
  {
   "cell_type": "code",
   "execution_count": 30,
   "metadata": {},
   "outputs": [],
   "source": [
    "p = BiMax(ant_len, ant_rad, base_cap,True)"
   ]
  },
  {
   "cell_type": "raw",
   "metadata": {},
   "source": [
    "T = Timer.Timer()\n",
    "T.start()\n",
    "\n",
    "wrelplot, ne, nc, lrel = calc_params(tc, fpe, t, n)\n",
    "T.lap()     \n",
    "gamma, shot = gs_seperate(gs_func(wrelplot, lrel, n, t, tc))\n",
    "T.lap()     \n",
    "enoise = enoise_func(wrelplot, lrel, n, t, tc)\n",
    "T.lap()     \n",
    "pnoise = pnoise_func(wrelplot, lrel, tep, tc, vsw)\n",
    "T.lap()     \n",
    "vr2 = (enoise + pnoise + shot)/gamma\n",
    "T.stop()\n",
    "print(T.summary())"
   ]
  },
  {
   "cell_type": "code",
   "execution_count": 31,
   "metadata": {},
   "outputs": [
    {
     "name": "stdout",
     "output_type": "stream",
     "text": [
      "0: 0.0001938343\n",
      "\n",
      "5: 151.540653944\n",
      "\n",
      "Total Time: 308.2654180527\n",
      "Name: Elapsed Time\n",
      "0: 151.540653944\n",
      "5: 156.7245702744\n",
      "\n"
     ]
    }
   ],
   "source": [
    "T = Timer.Timer()\n",
    "T.start()\n",
    "spectra = []\n",
    "data_params = []\n",
    "count = 0\n",
    "for vsw, ne, tep, tc, n, t in data:\n",
    "    if count%5==0:\n",
    "        T.lap(count)\n",
    "        print(T.last_lap())\n",
    "        \n",
    "    wrelplot, fpe, nc, lrel = calc_params(tc, ne, t, n)\n",
    "    gamma, shot = gs_seperate(gs_func(wrelplot, lrel, n, t, tc))\n",
    "    enoise = enoise_func(wrelplot, lrel, n, t, tc)\n",
    "    pnoise = pnoise_func(wrelplot, lrel, tep, tc, vsw)\n",
    "    vr2 = (enoise + pnoise + shot)/gamma\n",
    "        \n",
    "    spectra.append(vr2)\n",
    "    data_params.append([vsw, ne, tep, tc, n, t, fpe, nc])\n",
    "    count += 1\n",
    "\n",
    "T.stop()\n",
    "print(T.summary())"
   ]
  },
  {
   "cell_type": "code",
   "execution_count": 27,
   "metadata": {},
   "outputs": [],
   "source": [
    "spectra_num = [[float((num)) for num in row] for row in spectra]"
   ]
  },
  {
   "cell_type": "code",
   "execution_count": null,
   "metadata": {},
   "outputs": [],
   "source": [
    "#vsw, ne, tep, tc, n, t, fpe, nc\n",
    "params = list(zip(*data_params))\n",
    "with open(\"data/synthetic_data_revised_v3\",'wb') as file:\n",
    "    pickle.dump({\"spectra\":spectra_num,\n",
    "                \"parameters\":{\"vsw\" :np.array(params[0]),#.repeat(1000, axis=0), \n",
    "                              \"ne\":np.array(params[1])/1e6,#.repeat(1000, axis=0), \n",
    "                              \"tep\" :np.array(params[2]),#.repeat(1000, axis=0), \n",
    "                              \"tc\" :np.array(params[3]),#.repeat(1000, axis=0), \n",
    "                              \"n\" :np.array(params[4]),#.repeat(1000, axis=0), \n",
    "                              \"t\" :np.array(params[5]),#.repeat(1000, axis=0), \n",
    "                              \"fpe\" :np.array(params[6])/1e3,#.repeat(1000, axis=0), \n",
    "                              \"nc\":np.array(params[7])}},#.repeat(1000, axis=0)}}, \n",
    "                file)"
   ]
  },
  {
   "cell_type": "code",
   "execution_count": null,
   "metadata": {},
   "outputs": [],
   "source": [
    "np.shape(spectra_num)"
   ]
  },
  {
   "cell_type": "raw",
   "metadata": {},
   "source": [
    "rand = lambda: random.random()*2-1\n",
    "noise_spectra = [[num*(1+rand()*.05) for num in row] for row in np.array(spectra_num).repeat(1000, axis=0)]"
   ]
  },
  {
   "cell_type": "code",
   "execution_count": 32,
   "metadata": {},
   "outputs": [
    {
     "data": {
      "image/png": "[encoded data removed]",
      "text/plain": [
       "<Figure size 432x432 with 1 Axes>"
      ]
     },
     "metadata": {},
     "output_type": "display_data"
    }
   ],
   "source": [
    "#T.lap(\"Plot\")\n",
    "plt.rc('text', usetex=True)\n",
    "plt.rc('font', family='serif')\n",
    "fig, ax= plt.subplots(figsize=[6, 6], facecolor='w')\n",
    "for i in range(len(spectra)):\n",
    "    ax.plot(fbins/1000, spectra[i], 'o-', markersize=2, label=f\"fpe = {i}\")#, color=(data_params[1][i]/1.4e7, .5, .5))\n",
    "# plt.plot(fbins/1000, spectra[0], 'o-', markersize=2, label='fpe = 30e3')\n",
    "# plt.plot(fbins/1000, spectra[1], 'o-', markersize=2, label='fpe = 31e3')\n",
    "# plt.plot(fbins/1000, spectra[2], 'o-', markersize=2, label='fpe = 32e3')\n",
    "# plt.plot(fbins/1000, spectra[4], 'o-', markersize=2, label='total')\n",
    "# plt.plot(fbins/1000, spectra[5], 'o-', markersize=2, label='total')\n",
    "# plt.plot(fbins/1000, spectra[6], 'o-', markersize=2, label='total')\n",
    "# plt.plot(fbins/1000, spectra[7], 'o-', markersize=2, label='total')\n",
    "#plt.plot(fbins/1000, enoise/gamma, label='electron')\n",
    "#plt.plot(fbins/1000, pnoise/gamma, label='proton')\n",
    "#plt.plot(fbins/1000, shot/gamma, label='shot')\n",
    "ax.set_xscale('log')\n",
    "ax.set_yscale('log')\n",
    "#plt.xlim([4, 256])\n",
    "#plt.ylim([1e-16, 5e-13])\n",
    "ax.set_xlabel(r'$f[kHz]$')\n",
    "ax.set_ylabel(r'$V_r^2[V^2Hz^{-1}]$')\n",
    "ax.set_title('ROUGH ESTIMATE')\n",
    "#plt.legend(loc='best')\n",
    "fig.savefig(\"plots/synthetic_params/fpe_v2.png\", dpi=150)\n",
    "plt.show()"
   ]
  },
  {
   "cell_type": "raw",
   "metadata": {},
   "source": [
    "#T.lap(\"Plot\")\n",
    "plt.rc('text', usetex=True)\n",
    "plt.rc('font', family='serif')\n",
    "\n",
    "fig, ax = plt.subplots(8,figsize=[6, 6], facecolor='w')\n",
    "for i in range(len(ax)):\n",
    "    for j in range(i, len(spectra), 8):\n",
    "        ax[i].plot(fbins/1000, spectra[j], 'o-', markersize=2, label=f\"fpe = {i, j}\")\n",
    "    ax[i].set_xscale('log')\n",
    "    ax[i].set_yscale('log')\n",
    "    ax[i].set_xlim([4, 256])\n",
    "    ax[i].set_ylim([1e-16, 5e-13])\n",
    "    ax[i].set_xlabel(r'$f[kHz]$')\n",
    "    ax[i].set_ylabel(r'$V_r^2[V^2Hz^{-1}]$')\n",
    "    ax[i].set_title(f'ROUGH ESTIMATE: {j}')\n",
    "    ax[i].legend(loc='best')\n",
    "plt.savefig(\"plots/synthetic_params/plot{i}_{j}.png\", dpi=150)\n",
    "plt.show()"
   ]
  },
  {
   "cell_type": "code",
   "execution_count": null,
   "metadata": {},
   "outputs": [],
   "source": [
    "raise error\n",
    "fig.savefig('plots/wind19950625_theoretical.png', dpi=300)"
   ]
  },
  {
   "cell_type": "code",
   "execution_count": null,
   "metadata": {},
   "outputs": [],
   "source": [
    "pd.DataFrame(np.array(params[6])).describe()"
   ]
  },
  {
   "cell_type": "code",
   "execution_count": null,
   "metadata": {},
   "outputs": [],
   "source": []
  }
 ],
 "metadata": {
  "kernelspec": {
   "display_name": "Python 3 (ipykernel)",
   "language": "python",
   "name": "python3"
  },
  "language_info": {
   "codemirror_mode": {
    "name": "ipython",
    "version": 3
   },
   "file_extension": ".py",
   "mimetype": "text/x-python",
   "name": "python",
   "nbconvert_exporter": "python",
   "pygments_lexer": "ipython3",
   "version": "3.10.6"
  },
  "name": ""
 },
 "nbformat": 4,
 "nbformat_minor": 4
}
