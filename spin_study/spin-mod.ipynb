{
 "metadata": {
  "name": "",
  "signature": "sha256:62861016429fa83121ad420c6fd8d63f16526b7e1e790ee38fc8683573b02fac"
 },
 "nbformat": 3,
 "nbformat_minor": 0,
 "worksheets": [
  {
   "cells": [
    {
     "cell_type": "code",
     "collapsed": false,
     "input": [
      "import os, sys, inspect\n",
      "currentdir = os.path.dirname(os.path.abspath(inspect.getfile(inspect.currentframe())))\n",
      "parentdir = os.path.dirname(currentdir)\n",
      "sys.path.insert(0, parentdir)\n",
      "\n",
      "\n",
      "#The above code add the parent directory to the system path.\n",
      "#Alternatively, one can specify the directory where the module is directly.\n",
      "\n",
      "#See this post: \n",
      "#http://stackoverflow.com/questions/714063/python-importing-modules-from-parent-folder"
     ],
     "language": "python",
     "metadata": {},
     "outputs": [],
     "prompt_number": 1
    },
    {
     "cell_type": "code",
     "collapsed": false,
     "input": [
      "from qtn.spin import proton_angle\n",
      "import numpy as np\n",
      "from scipy.io.idl import readsav\n",
      "from multiprocessing import Pool\n",
      "import matplotlib.pyplot as plt\n",
      "from qtn.maxkappa import MaxKappa\n",
      "%matplotlib inline"
     ],
     "language": "python",
     "metadata": {},
     "outputs": [],
     "prompt_number": 2
    },
    {
     "cell_type": "code",
     "collapsed": false,
     "input": [
      "ant_len = 50      # m (monopole) \n",
      "ant_rad = 1.9e-4  # m\n",
      "base_cap = 20e-12 # Fara\n",
      "fbins = np.array([4000*2**((2*i+1)/32) for i in range(96)])"
     ],
     "language": "python",
     "metadata": {},
     "outputs": [],
     "prompt_number": 3
    },
    {
     "cell_type": "code",
     "collapsed": false,
     "input": [
      "wind_data = readsav('/Users/tongyuguang/Google Drive/research/new_data/idlsave_param_electron_19950619.sav')\n",
      "m_dat=readsav('/Users/tongyuguang/Google Drive/research/data/meudon_tnr/TNR_XY_ACE_19950619.sav')\n",
      "m_data=m_dat['data']\n",
      "mt = m_data['timeur8'][0]\n",
      "mtag = m_data['time'][0]\n",
      "quality = wind_data['quality']\n",
      "qualified = np.where(quality>0)[0]"
     ],
     "language": "python",
     "metadata": {},
     "outputs": [
      {
       "output_type": "stream",
       "stream": "stderr",
       "text": [
        "/usr/local/lib/python3.4/site-packages/scipy/io/idl.py:167: UserWarning: warning: empty strings are now set to '' instead of None\n",
        "  warnings.warn(\"warning: empty strings are now set to '' instead of None\")\n"
       ]
      }
     ],
     "prompt_number": 4
    },
    {
     "cell_type": "code",
     "collapsed": false,
     "input": [
      "[wind_data['time_in_string'][i] for i in qualified[::60]]"
     ],
     "language": "python",
     "metadata": {},
     "outputs": [
      {
       "metadata": {},
       "output_type": "pyout",
       "prompt_number": 5,
       "text": [
        "[b'1995-06-19/00:01:48',\n",
        " b'1995-06-19/02:45:57',\n",
        " b'1995-06-19/04:57:56',\n",
        " b'1995-06-19/06:45:46',\n",
        " b'1995-06-19/08:44:52',\n",
        " b'1995-06-19/10:29:29',\n",
        " b'1995-06-19/14:22:51',\n",
        " b'1995-06-19/16:18:44',\n",
        " b'1995-06-19/19:44:45',\n",
        " b'1995-06-19/21:27:45',\n",
        " b'1995-06-19/23:22:01']"
       ]
      }
     ],
     "prompt_number": 5
    },
    {
     "cell_type": "heading",
     "level": 3,
     "metadata": {},
     "source": [
      "Example 1: 1995-06-19/19:44:45"
     ]
    },
    {
     "cell_type": "code",
     "collapsed": false,
     "input": [
      "print(wind_data['time_in_string'][qualified[480]])\n",
      "i = qualified[480]"
     ],
     "language": "python",
     "metadata": {},
     "outputs": [
      {
       "output_type": "stream",
       "stream": "stdout",
       "text": [
        "b'1995-06-19/19:44:45'\n"
       ]
      }
     ],
     "prompt_number": 6
    },
    {
     "cell_type": "code",
     "collapsed": false,
     "input": [
      "    tc = float(wind_data['tc'][i])\n",
      "    tp = float(wind_data['tp'][i])\n",
      "    th = float(wind_data['th'][i])\n",
      "    ts = float(wind_data['ts'][i])\n",
      "    nc = float(wind_data['nc'][i])\n",
      "    nh = float(wind_data['nh'][i])\n",
      "    ns = float(wind_data['ns'][i])\n",
      "    ## use halo + strahl\" as halo\n",
      "    nh = nh + ns\n",
      "    netnr = float(wind_data['netnr'][i])\n",
      "    k = float(wind_data['kh'][i])\n",
      "    ephi = wind_data['ephi'][i]\n",
      "    vsw = float(wind_data['vsw'][i]) * 1000\n",
      "    ne = nc + nh + ns\n",
      "    n = nh/nc\n",
      "    t = th/tc\n",
      "    \n",
      "    time_string = wind_data['time_in_string'][i].decode(\"utf-8\").split('/')\n",
      "    time_string = time_string[0]+'-'+time_string[1]"
     ],
     "language": "python",
     "metadata": {},
     "outputs": [],
     "prompt_number": 50
    },
    {
     "cell_type": "code",
     "collapsed": false,
     "input": [
      "def mul_helper_pi4(f):\n",
      "    return proton_angle(np.pi/4, f, ne, n, t, tp, tc, k, vsw, ant_len)\n",
      "def mul_helper_pi6(f):\n",
      "    return proton_angle(np.pi/6, f, ne, n, t, tp, tc, k, vsw, ant_len)\n",
      "def mul_helper_pi12(f):\n",
      "    return proton_angle(np.pi/12, f, ne, n, t, tp, tc, k, vsw, ant_len)\n",
      "def mul_helper_pi30(f):\n",
      "    return proton_angle(np.pi/30, f, ne, n, t, tp, tc, k, vsw, ant_len)"
     ],
     "language": "python",
     "metadata": {},
     "outputs": [],
     "prompt_number": 8
    },
    {
     "cell_type": "heading",
     "level": 4,
     "metadata": {},
     "source": [
      "perpendicular case(using bimax modul)"
     ]
    },
    {
     "cell_type": "code",
     "collapsed": false,
     "input": [
      "from qtn.maxkappa import MaxKappa"
     ],
     "language": "python",
     "metadata": {},
     "outputs": [],
     "prompt_number": 9
    },
    {
     "cell_type": "code",
     "collapsed": false,
     "input": [
      "p = MaxKappa(ant_len, ant_rad, base_cap)\n",
      "perp = np.array([p.proton(f, ne, n, t, tp, tc, k, vsw) for f in fbins])"
     ],
     "language": "python",
     "metadata": {},
     "outputs": [],
     "prompt_number": 10
    },
    {
     "cell_type": "heading",
     "level": 4,
     "metadata": {},
     "source": [
      "parallezing"
     ]
    },
    {
     "cell_type": "code",
     "collapsed": false,
     "input": [
      "pool=Pool()"
     ],
     "language": "python",
     "metadata": {},
     "outputs": [],
     "prompt_number": 11
    },
    {
     "cell_type": "code",
     "collapsed": false,
     "input": [
      "forty_five = pool.map(mul_helper_pi4, fbins)"
     ],
     "language": "python",
     "metadata": {},
     "outputs": [],
     "prompt_number": 13
    },
    {
     "cell_type": "code",
     "collapsed": false,
     "input": [
      "thirty = pool.map(mul_helper_pi6, fbins)\n",
      "fifteen = pool.map(mul_helper_pi12, fbins)\n",
      "six = pool.map(mul_helper_pi30, fbins)"
     ],
     "language": "python",
     "metadata": {},
     "outputs": [],
     "prompt_number": 14
    },
    {
     "cell_type": "code",
     "collapsed": false,
     "input": [
      "pool.close()\n",
      "pool.join()"
     ],
     "language": "python",
     "metadata": {},
     "outputs": [],
     "prompt_number": 70
    },
    {
     "cell_type": "code",
     "collapsed": false,
     "input": [
      "#six = three"
     ],
     "language": "python",
     "metadata": {},
     "outputs": [],
     "prompt_number": 17
    },
    {
     "cell_type": "code",
     "collapsed": false,
     "input": [
      "# save data\n",
      "#np.savez('619_1944_proton_angle', perp = perp,\n",
      "#         forty_five = forty_five, thirty = thirty, fifteen = fifteen, six = six)"
     ],
     "language": "python",
     "metadata": {},
     "outputs": [],
     "prompt_number": 18
    },
    {
     "cell_type": "heading",
     "level": 4,
     "metadata": {},
     "source": [
      "Find the corresponding TNR spectrum"
     ]
    },
    {
     "cell_type": "code",
     "collapsed": false,
     "input": [
      "time = float(wind_data['time'][i])\n",
      "day_3dp = round(float(wind_data['time'][0])/24/3600)\n",
      "time_3dp = time/24/3600 - day_3dp\n",
      "    \n",
      "# index of the closest spectrum\n",
      "day_tnr = round(mt[0])\n",
      "ind = np.abs(mt-day_tnr-time_3dp).argmin()\n",
      "print(ind)\n",
      "\n",
      "# spectrum \n",
      "spec = m_data['spectra'][0][:,ind]\n",
      "spec = 10. ** (spec/10.)"
     ],
     "language": "python",
     "metadata": {},
     "outputs": [
      {
       "output_type": "stream",
       "stream": "stdout",
       "text": [
        "15975\n"
       ]
      }
     ],
     "prompt_number": 21
    },
    {
     "cell_type": "heading",
     "level": 4,
     "metadata": {},
     "source": [
      "load theoretical thermal noise"
     ]
    },
    {
     "cell_type": "code",
     "collapsed": false,
     "input": [
      "e_data = np.load(parentdir + '/survey/survey_data/wind-1995-06-19-19:44:45.npz')"
     ],
     "language": "python",
     "metadata": {},
     "outputs": [],
     "prompt_number": 25
    },
    {
     "cell_type": "code",
     "collapsed": false,
     "input": [
      "e_data.files"
     ],
     "language": "python",
     "metadata": {},
     "outputs": [
      {
       "metadata": {},
       "output_type": "pyout",
       "prompt_number": 26,
       "text": [
        "['p_noise', 'za', 's_noise', 'zr', 'gain', 'e_noise']"
       ]
      }
     ],
     "prompt_number": 26
    },
    {
     "cell_type": "code",
     "collapsed": false,
     "input": [
      "gain = e_data['gain']\n",
      "e_noise = e_data['e_noise']\n",
      "s_noise = e_data['s_noise']\n",
      "p_noise = e_data['p_noise']"
     ],
     "language": "python",
     "metadata": {},
     "outputs": [],
     "prompt_number": 31
    },
    {
     "cell_type": "code",
     "collapsed": false,
     "input": [
      "fig = plt.figure(figsize=[6, 6])\n",
      "plt.plot(fbins/1000, spec, 'o', markersize=2, label='TNR')\n",
      "plt.plot(fbins/1000, e_noise/gain,'--', label='electron')\n",
      "plt.plot(fbins/1000, (e_noise + perp + s_noise)/gain, label=r'$90^\\circ$')\n",
      "plt.plot(fbins/1000, (e_noise + forty_five + s_noise)/gain, label=r'$45^\\circ$')\n",
      "plt.plot(fbins/1000, (e_noise + thirty + s_noise)/gain, label=r'$30^\\circ$')\n",
      "plt.plot(fbins/1000, (e_noise + fifteen + s_noise)/gain, label=r'$15^\\circ$')\n",
      "plt.plot(fbins/1000, (e_noise + six + s_noise)/gain, label=r'$6^\\circ$')\n",
      "plt.xscale('log')\n",
      "plt.yscale('log')\n",
      "plt.xlim([4, 256])\n",
      "plt.ylim([1e-18, 1e-10])\n",
      "plt.xlabel(r'$f[kHz]$')\n",
      "plt.ylabel(r'$V_r^2[V^2Hz^{-1}]$')\n",
      "\n",
      "# texts in the plot\n",
      "texts = \"{0}{1:.2e}\\n\".format(r'$V_{sw}=$',vsw) + \\\n",
      "\"{0}{1:.2f}\\n\".format(r'$n_c=$',nc) + \\\n",
      "\"{0}{1:.2f}\\n\".format(r'$n_h=$',nh) + \\\n",
      "\"{0}{1:.2e}\\n\".format(r'$n_s=$',ns) + \\\n",
      "\"{0}{1:.2f}\\n\".format(r'$nn=$',netnr) + \\\n",
      "\"{0}{1:.2f}\\n\".format(r'$T_c=$',tc) + \\\n",
      "\"{0}{1:.2f}\\n\".format(r'$T_h=$',th) + \\\n",
      "\"{0}{1:.2f}\\n\".format(r'$T_p=$',tp) + \\\n",
      "\"{0}{1:.2f}\".format(r'$\\kappa=$',k)\n",
      "\n",
      "plt.annotate(texts, xy=(0.05, 0.05), xycoords='axes fraction', fontsize=10)\n",
      "plt.title(time_string)\n",
      "plt.legend(loc='upper right')\n",
      "\n",
      "plt.show()"
     ],
     "language": "python",
     "metadata": {},
     "outputs": [
      {
       "metadata": {},
       "output_type": "display_data",
       "png": "[encoded data removed]",
       "text": [
        "<matplotlib.figure.Figure at 0x10b2cfa58>"
       ]
      }
     ],
     "prompt_number": 58
    },
    {
     "cell_type": "code",
     "collapsed": false,
     "input": [
      "fig.savefig('plot/example1.png', dpi=300)"
     ],
     "language": "python",
     "metadata": {},
     "outputs": [],
     "prompt_number": 60
    },
    {
     "cell_type": "heading",
     "level": 3,
     "metadata": {},
     "source": [
      "study all eight samples on 1995-6-19"
     ]
    },
    {
     "cell_type": "code",
     "collapsed": false,
     "input": [
      "fbins = np.array([4000*2**((2*i+1)/32) for i in range(96)])\n",
      "for i in qualified[::60]:\n",
      "    tc = float(wind_data['tc'][i])\n",
      "    tp = float(wind_data['tp'][i])\n",
      "    th = float(wind_data['th'][i])\n",
      "    ts = float(wind_data['ts'][i])\n",
      "    nc = float(wind_data['nc'][i])\n",
      "    nh = float(wind_data['nh'][i])\n",
      "    ns = float(wind_data['ns'][i])\n",
      "    ## use halo + strahl\" as halo\n",
      "    nh = nh + ns\n",
      "    netnr = float(wind_data['netnr'][i])\n",
      "    k = float(wind_data['kh'][i])\n",
      "    ephi = wind_data['ephi'][i]\n",
      "    vsw = float(wind_data['vsw'][i]) * 1000\n",
      "    ne = nc + nh + ns\n",
      "    n = nh/nc\n",
      "    t = th/tc\n",
      "    \n",
      "    time_string = wind_data['time_in_string'][i].decode(\"utf-8\").split('/')\n",
      "    time_string = time_string[0]+'-'+time_string[1]\n",
      "    \n",
      "    def mul_helper_pi4(f):\n",
      "     return proton_angle(np.pi/4, f, ne, n, t, tp, tc, k, vsw, ant_len)\n",
      "    def mul_helper_pi6(f):\n",
      "        return proton_angle(np.pi/6, f, ne, n, t, tp, tc, k, vsw, ant_len)\n",
      "    def mul_helper_pi12(f):\n",
      "        return proton_angle(np.pi/12, f, ne, n, t, tp, tc, k, vsw, ant_len)\n",
      "    def mul_helper_pi30(f):\n",
      "        return proton_angle(np.pi/30, f, ne, n, t, tp, tc, k, vsw, ant_len)\n",
      "    \n",
      "    # perpendicular case\n",
      "    p = MaxKappa(ant_len, ant_rad, base_cap)\n",
      "    perp = np.array([p.proton(f, ne, n, t, tp, tc, k, vsw) for f in fbins])\n",
      "\n",
      "    pool=Pool()\n",
      "    forty_five = pool.map(mul_helper_pi4, fbins)\n",
      "    \n",
      "    thirty = pool.map(mul_helper_pi6, fbins)\n",
      "    fifteen = pool.map(mul_helper_pi12, fbins)\n",
      "    six = pool.map(mul_helper_pi30, fbins)\n",
      "    np.savez('proton_angle_'+time_string, perp = perp,\n",
      "            forty_five = forty_five, thirty = thirty, fifteen = fifteen, six = six)\n",
      "    \n",
      "    time = float(wind_data['time'][i])\n",
      "    day_3dp = round(float(wind_data['time'][0])/24/3600)\n",
      "    time_3dp = time/24/3600 - day_3dp\n",
      "    \n",
      "    # index of the closest spectrum\n",
      "    day_tnr = round(mt[0])\n",
      "    ind = np.abs(mt-day_tnr-time_3dp).argmin()\n",
      "\n",
      "    # spectrum \n",
      "    spec = m_data['spectra'][0][:,ind]\n",
      "    spec = 10. ** (spec/10.)\n",
      "\n",
      "    # texts in the plot\n",
      "    texts = \"{0}{1:.2e}\\n\".format(r'$V_{sw}=$',vsw) + \\\n",
      "    \"{0}{1:.2f}\\n\".format(r'$n_c=$',nc) + \\\n",
      "    \"{0}{1:.2f}\\n\".format(r'$n_h=$',nh) + \\\n",
      "    \"{0}{1:.2e}\\n\".format(r'$n_s=$',ns) + \\\n",
      "    \"{0}{1:.2f}\\n\".format(r'$nn=$',netnr) + \\\n",
      "    \"{0}{1:.2f}\\n\".format(r'$T_c=$',tc) + \\\n",
      "    \"{0}{1:.2f}\\n\".format(r'$T_h=$',th) + \\\n",
      "    \"{0}{1:.2f}\\n\".format(r'$T_p=$',tp) + \\\n",
      "    \"{0}{1:.2f}\".format(r'$\\kappa=$',k)\n",
      "    \n",
      "\n",
      "    e_data = np.load(parentdir + '/survey/survey_data/wind' + '-' + time_string + '.npz')\n",
      "    gain = e_data['gain']\n",
      "    e_noise = e_data['e_noise']\n",
      "    s_noise = e_data['s_noise']\n",
      "    p_noise = e_data['p_noise']\n",
      "    \n",
      "    fig = plt.figure(figsize=[6, 6])\n",
      "    plt.plot(fbins/1000, spec, 'o', markersize=2, label='TNR')\n",
      "    plt.plot(fbins/1000, e_noise/gain,'--', label='electron')\n",
      "    plt.plot(fbins/1000, (e_noise + perp + s_noise)/gain, label=r'$90^\\circ$')\n",
      "    plt.plot(fbins/1000, (e_noise + forty_five + s_noise)/gain, label=r'$45^\\circ$')\n",
      "    plt.plot(fbins/1000, (e_noise + thirty + s_noise)/gain, label=r'$30^\\circ$')\n",
      "    plt.plot(fbins/1000, (e_noise + fifteen + s_noise)/gain, label=r'$15^\\circ$')\n",
      "    plt.plot(fbins/1000, (e_noise + six + s_noise)/gain, label=r'$6^\\circ$')\n",
      "    plt.xscale('log')\n",
      "    plt.yscale('log')\n",
      "    plt.xlim([4, 256])\n",
      "    plt.ylim([1e-18, 1e-10])\n",
      "    plt.xlabel(r'$f[kHz]$')\n",
      "    plt.ylabel(r'$V_r^2[V^2Hz^{-1}]$')\n",
      "    plt.annotate(texts, xy=(0.05, 0.05), xycoords='axes fraction', fontsize=10)\n",
      "    plt.title(time_string)\n",
      "    plt.legend(loc='upper right')\n",
      "    plt.show()\n",
      "    \n",
      "    fig.savefig('plot/' + time_string + '.png', dpi=300)\n",
      "    np.savez('data/proton_angle' + '-' + time_string, perp=perp,\n",
      "             forty_five = forty_five, thirty = thirty, fifteen = fifteen, six = six)"
     ],
     "language": "python",
     "metadata": {},
     "outputs": []
    },
    {
     "cell_type": "code",
     "collapsed": false,
     "input": [],
     "language": "python",
     "metadata": {},
     "outputs": []
    }
   ],
   "metadata": {}
  }
 ]
}