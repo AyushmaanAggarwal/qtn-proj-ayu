{
 "metadata": {
  "name": "",
  "signature": "sha256:6106cdf80d8a1cc5180edaeff1e983817c4f9579899d689b1759d28805c1c1e1"
 },
 "nbformat": 3,
 "nbformat_minor": 0,
 "worksheets": [
  {
   "cells": [
    {
     "cell_type": "code",
     "collapsed": false,
     "input": [
      "from mpmath import hyp2f1, gamma\n",
      "import mpmath as mp\n",
      "from qtn.util import (boltzmann, emass, echarge, permittivity, cspeed)\n",
      "import numpy as np\n",
      "import matplotlib.pyplot as plt"
     ],
     "language": "python",
     "metadata": {},
     "outputs": [],
     "prompt_number": 1
    },
    {
     "cell_type": "code",
     "collapsed": false,
     "input": [
      "def zk(z, k):\n",
      "    \"\"\"\n",
      "    modified dispersion function for Kappa distribution.\n",
      "    (Mace and Hellberg, 1995)\n",
      "    \n",
      "    \"\"\"\n",
      "    i = mp.mpc(0, 1)\n",
      "    coeff = i * (k + 0.5) * (k-0.5) / (mp.sqrt(k**3) * (k+1))\n",
      "    return coeff * hyp2f1(1, 2*k+2, k+2, (1-z/(i * mp.sqrt(k)))/2)"
     ],
     "language": "python",
     "metadata": {},
     "outputs": [],
     "prompt_number": 2
    },
    {
     "cell_type": "code",
     "collapsed": false,
     "input": [
      "def f1(x):\n",
      "    \"\"\"\n",
      "    An angular integral that appears in electron noise calculation.\n",
      "    \n",
      "    \"\"\"\n",
      "    term1 = x * (mp.si(x) - 0.5 * mp.si(2*x))\n",
      "    term2 = -2 * mp.sin(0.5 * x)**4\n",
      "    return (term1 + term2)/x**2"
     ],
     "language": "python",
     "metadata": {},
     "outputs": [],
     "prompt_number": 3
    },
    {
     "cell_type": "code",
     "collapsed": false,
     "input": [
      "def e_l(z, wrel, k):\n",
      "    \"\"\"\n",
      "    Longitudinal susceptibility tensor.\n",
      "    wrel:= w/wp\n",
      "    k:= kappa\n",
      "    z:= zeta = w/kv0\n",
      "    v0:=characteristic speed. \n",
      "    See Chateau & Meyer-Vernet (1991)\n",
      "    \"\"\"\n",
      "    \n",
      "    return 1 + 2*(z/wrel)**2 * (1 - 0.5/k + z * zk(z, k))"
     ],
     "language": "python",
     "metadata": {},
     "outputs": [],
     "prompt_number": 4
    },
    {
     "cell_type": "code",
     "collapsed": false,
     "input": [
      "def kappa_integrand(z, wrel, lrel, k):\n",
      "    \"\"\"\n",
      "    z:= zeta = w/kv0\n",
      "    lrel:= l/ld\n",
      "    k:= kappa\n",
      "    \"\"\"\n",
      "    \n",
      "    f_arg = wrel * lrel * mp.sqrt(k/(2*(k-1)))/z\n",
      "    num = z * f1(f_arg)\n",
      "    denom = mp.fabs(e_l(z, wrel, k))**2 * (1+z**2/k)**k\n",
      "    return num/denom"
     ],
     "language": "python",
     "metadata": {},
     "outputs": [],
     "prompt_number": 5
    },
    {
     "cell_type": "code",
     "collapsed": false,
     "input": [
      "def int_interval(wrel, k):\n",
      "    \"\"\"\n",
      "    find out the almost-singular point and\n",
      "    divide the integration integrals.\n",
      "    \n",
      "    \"\"\"\n",
      "    if wrel < 1:\n",
      "        return [0, mp.inf]\n",
      "    else:\n",
      "        guesses = [4, 6, 8, 10, 12, 14]\n",
      "    int_range = [0, mp.inf]\n",
      "    for guess in guesses:\n",
      "        try:\n",
      "            root = mp.findroot(lambda z: e_l(z, wrel, k), guess)\n",
      "        except ValueError:\n",
      "            continue\n",
      "        unique = True\n",
      "        for z in int_range:\n",
      "            if mp.fabs(z - mp.fabs(root)) < 1e-4:\n",
      "                unique = False\n",
      "        if unique:\n",
      "            int_range += [mp.fabs(root)]\n",
      "    int_range = np.sort(int_range)\n",
      "    return int_range"
     ],
     "language": "python",
     "metadata": {},
     "outputs": [],
     "prompt_number": 9
    },
    {
     "cell_type": "code",
     "collapsed": false,
     "input": [
      "def kappa(wrel, lrel, k, T):\n",
      "    \"\"\"\n",
      "    electron noise for electrons with a kappa distribution.\n",
      "    \n",
      "    \"\"\"\n",
      "    coeff = 16 * emass/ permittivity / wrel**2 * gamma(k+1)/gamma(k-1/2)\n",
      "    coeff *= (mp.pi * k)**(-3/2) * mp.sqrt(boltzmann * T/emass * (2*k-3)/k)\n",
      "    int_range = int_interval(wrel, k)\n",
      "    integral = mp.quad(lambda z: kappa_integrand(z, wrel, lrel, k), int_range)\n",
      "    return coeff * integral"
     ],
     "language": "python",
     "metadata": {},
     "outputs": [],
     "prompt_number": 10
    },
    {
     "cell_type": "code",
     "collapsed": false,
     "input": [
      "wrelplot = np.logspace(-1, 1, 20)\n",
      "extra = np.array([0.95, 0.96, 0.97, 0.98, 0.99, 1.005, 1.01, 1.02, 1.03, 1.04, 1.05, 1.6, 1.07, 1.09, 1.11])\n",
      "wrelplot = np.concatenate((wrelplot, extra))\n",
      "wrelplot = np.sort(wrelplot)\n",
      "print(wrelplot)\n",
      "lrelplot = np.array([0.125, 0.25, 0.5, 1, 2, 4, 8])"
     ],
     "language": "python",
     "metadata": {},
     "outputs": [
      {
       "output_type": "stream",
       "stream": "stdout",
       "text": [
        "[  0.1          0.1274275    0.16237767   0.20691381   0.26366509\n",
        "   0.33598183   0.42813324   0.54555948   0.6951928    0.88586679   0.95\n",
        "   0.96         0.97         0.98         0.99         1.005        1.01\n",
        "   1.02         1.03         1.04         1.05         1.07         1.09\n",
        "   1.11         1.12883789   1.43844989   1.6          1.83298071\n",
        "   2.33572147   2.97635144   3.79269019   4.83293024   6.15848211\n",
        "   7.8475997   10.        ]\n"
       ]
      }
     ],
     "prompt_number": 14
    },
    {
     "cell_type": "code",
     "collapsed": false,
     "input": [
      "mp.mp.dps = 15\n",
      "vw2 = np.array([np.array([kappa(wrel, lrel, 4, 1) for wrel in wrelplot]) for lrel in lrelplot])"
     ],
     "language": "python",
     "metadata": {},
     "outputs": [],
     "prompt_number": 15
    },
    {
     "cell_type": "code",
     "collapsed": false,
     "input": [
      "vw2[0,:]"
     ],
     "language": "python",
     "metadata": {},
     "outputs": [
      {
       "metadata": {},
       "output_type": "pyout",
       "prompt_number": 18,
       "text": [
        "array([mpf('1.224703087468589e-18'), mpf('1.2248315880162908e-18'),\n",
        "       mpf('1.2250409026747175e-18'), mpf('1.2253829577341256e-18'),\n",
        "       mpf('1.2259451651563395e-18'), mpf('1.2268793934276061e-18'),\n",
        "       mpf('1.228464560855318e-18'), mpf('1.2312666689024779e-18'),\n",
        "       mpf('1.236672271800815e-18'), mpf('1.2499284851749913e-18'),\n",
        "       mpf('1.2589404266335428e-18'), mpf('1.2609277991637698e-18'),\n",
        "       mpf('1.2632062035028794e-18'), mpf('1.2659002097736513e-18'),\n",
        "       mpf('1.2692683192928847e-18'), mpf('1.6733679319460634e-18'),\n",
        "       mpf('1.5570119425460687e-18'), mpf('1.4752869240214156e-18'),\n",
        "       mpf('1.439274910868444e-18'), mpf('1.4177612170124349e-18'),\n",
        "       mpf('1.4029320545663106e-18'), mpf('1.382914685828403e-18'),\n",
        "       mpf('1.3691907108444176e-18'), mpf('1.3585631539499649e-18'),\n",
        "       mpf('1.3501583753132568e-18'), mpf('1.2584119566892264e-18'),\n",
        "       mpf('1.2175871159273617e-18'), mpf('1.1625854032555307e-18'),\n",
        "       mpf('1.0584104963575869e-18'), mpf('9.4954088463808887e-19'),\n",
        "       mpf('8.3884800052909358e-19'), mpf('7.285379830916492e-19'),\n",
        "       mpf('6.2050366645045769e-19'), mpf('5.1656619396606207e-19'),\n",
        "       mpf('4.1860235492374262e-19')], dtype=object)"
       ]
      }
     ],
     "prompt_number": 18
    },
    {
     "cell_type": "code",
     "collapsed": false,
     "input": [
      "plt.rc('text', usetex=False)\n",
      "plt.rc('font', family='serif')\n",
      "fig = plt.figure(figsize = [10, 8])\n",
      "for i in range(7):\n",
      "    plt.plot(wrelplot, vw2[i,:], 'o-', markersize = 2,\n",
      "             label=r'$L/L_D=$'+str(lrelplot[i]))\n",
      "plt.xscale('log')\n",
      "plt.yscale('log')\n",
      "plt.ylim(5e-19, 3e-15)\n",
      "plt.xlabel(r'f/f_p')\n",
      "plt.ylabel(r'$V^2/T^{1/2}[V^2Hz^{-1}K^{-1/2}]$')\n",
      "plt.legend(loc='best')\n",
      "plt.title('Chateau and Meyer-Vernet 1991 Fig3 (not $L/L_{Dmaxw}$)')\n",
      "plt.show()"
     ],
     "language": "python",
     "metadata": {},
     "outputs": [],
     "prompt_number": 35
    },
    {
     "cell_type": "code",
     "collapsed": false,
     "input": [
      "fig.savefig('example.png', dpi = 300)"
     ],
     "language": "python",
     "metadata": {},
     "outputs": [],
     "prompt_number": 38
    },
    {
     "cell_type": "code",
     "collapsed": false,
     "input": [],
     "language": "python",
     "metadata": {},
     "outputs": []
    }
   ],
   "metadata": {}
  }
 ]
}