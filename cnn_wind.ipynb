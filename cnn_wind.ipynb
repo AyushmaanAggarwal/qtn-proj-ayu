{
 "cells": [
  {
   "cell_type": "markdown",
   "id": "6dbce373-a558-4506-9884-047ba59b466b",
   "metadata": {
    "tags": []
   },
   "source": [
    "## Import and Functions"
   ]
  },
  {
   "cell_type": "code",
   "execution_count": 1,
   "id": "9effaad3-4ead-4fec-88c3-0e0e8e8efa3d",
   "metadata": {
    "tags": []
   },
   "outputs": [
    {
     "name": "stderr",
     "output_type": "stream",
     "text": [
      "2022-07-01 17:07:36.024730: I tensorflow/core/util/util.cc:169] oneDNN custom operations are on. You may see slightly different numerical results due to floating-point round-off errors from different computation orders. To turn them off, set the environment variable `TF_ENABLE_ONEDNN_OPTS=0`.\n",
      "2022-07-01 17:07:36.027712: W tensorflow/stream_executor/platform/default/dso_loader.cc:64] Could not load dynamic library 'libcudart.so.11.0'; dlerror: libcudart.so.11.0: cannot open shared object file: No such file or directory\n",
      "2022-07-01 17:07:36.027721: I tensorflow/stream_executor/cuda/cudart_stub.cc:29] Ignore above cudart dlerror if you do not have a GPU set up on your machine.\n"
     ]
    }
   ],
   "source": [
    "import os\n",
    "import gc\n",
    "import sys\n",
    "import pickle\n",
    "import random\n",
    "import numpy as np\n",
    "import pandas as pd\n",
    "import matplotlib\n",
    "import matplotlib.pyplot as plt\n",
    "\n",
    "import tensorflow as tf\n",
    "import keras\n",
    "from keras.models import Sequential, load_model\n",
    "from keras.layers import Dense, Conv1D, Conv2D, MaxPool1D, Dropout, Flatten\n",
    "%matplotlib inline"
   ]
  },
  {
   "cell_type": "code",
   "execution_count": 2,
   "id": "f0229288-c8bc-4759-9b22-491cdd981c13",
   "metadata": {},
   "outputs": [],
   "source": [
    "def norm(lst, max_val):\n",
    "    return np.array([val/max_val for val in lst])\n",
    "\n",
    "def denorm(lst, max_val):\n",
    "    return np.array([val*max_val for val in lst])\n",
    "\n",
    "def progress_bar(percent):\n",
    "    bar_len = 20\n",
    "    n = int(percent*bar_len)#int(percent*100//bar_len)\n",
    "    p = int(percent*100//1)\n",
    "    print(\"\\r[\"+(\"=\"*n + \" \"*int(bar_len-n))+\"] \"+str(p)+\"%\",end=\" \")\n",
    "\n",
    "def sizeof_fmt(num, suffix='B'):\n",
    "    ''' by Fred Cirera,  https://stackoverflow.com/a/1094933/1870254, modified'''\n",
    "    for unit in ['','Ki','Mi','Gi','Ti','Pi','Ei','Zi']:\n",
    "        if abs(num) < 1024.0:\n",
    "            return \"%3.1f %s%s\" % (num, unit, suffix)\n",
    "        num /= 1024.0\n",
    "    return \"%.1f %s%s\" % (num, 'Yi', suffix)"
   ]
  },
  {
   "cell_type": "markdown",
   "id": "13d0fe02-d043-44f6-9bab-e222c4fcbd52",
   "metadata": {
    "tags": []
   },
   "source": [
    "## Random Seeds and Data Import"
   ]
  },
  {
   "cell_type": "code",
   "execution_count": 3,
   "id": "48c0b7ce-6880-48fa-bdf3-3cda0e6d0a3b",
   "metadata": {},
   "outputs": [],
   "source": [
    "# Set a seed value: \n",
    "keras.utils.set_random_seed(5)"
   ]
  },
  {
   "cell_type": "code",
   "execution_count": 4,
   "id": "9285a3c7-9aae-49c2-a121-8b25282f433d",
   "metadata": {
    "tags": []
   },
   "outputs": [],
   "source": [
    "with open(\"data/pickle/data\", 'rb') as file:\n",
    "    var = pickle.load(file=file)\n",
    "    max_y            = var[\"max_y\"]\n",
    "    train_x_data     = var[\"train_x_data\"][:]\n",
    "    train_y_data     = var[\"train_y_data\"][:]\n",
    "    test_time_sorted = var[\"test_time_sorted\"][:]\n",
    "    test_x_sorted    = var[\"test_x_sorted\"][:]\n",
    "    test_y_sorted    = var[\"test_y_sorted\"][:]\n",
    "    test_y_sorted_ed = var[\"test_y_sorted_ed\"][:]\n",
    "    freq             = var[\"freq\"][:]\n",
    "\n",
    "with open(\"data/synthetic_data\", 'rb') as file:\n",
    "    var = pickle.load(file)\n",
    "    spectra = var[\"spectra\"]\n",
    "    params  = var[\"parameters\"]\n",
    "    tc = params[\"tc\"]/115000\n",
    "    fpe = np.array(params[\"fpe\"])/50e3\n",
    "    ne = params[\"ne\"] \n",
    "    vsw = params[\"vsw\"] "
   ]
  },
  {
   "cell_type": "markdown",
   "id": "d5533a4f-594b-4747-9531-38a35279bfa7",
   "metadata": {
    "tags": []
   },
   "source": [
    "## Building Model"
   ]
  },
  {
   "cell_type": "code",
   "execution_count": 5,
   "id": "09063db6-4219-4373-be81-d9a4ae3ca9bf",
   "metadata": {
    "tags": []
   },
   "outputs": [
    {
     "name": "stdout",
     "output_type": "stream",
     "text": [
      "Model: \"sequential\"\n",
      "_________________________________________________________________\n",
      " Layer (type)                Output Shape              Param #   \n",
      "=================================================================\n",
      " conv1d (Conv1D)             (None, 94, 8)             32        \n",
      "                                                                 \n",
      " max_pooling1d (MaxPooling1D  (None, 47, 8)            0         \n",
      " )                                                               \n",
      "                                                                 \n",
      " conv1d_1 (Conv1D)           (None, 45, 8)             200       \n",
      "                                                                 \n",
      " max_pooling1d_1 (MaxPooling  (None, 11, 8)            0         \n",
      " 1D)                                                             \n",
      "                                                                 \n",
      " flatten (Flatten)           (None, 88)                0         \n",
      "                                                                 \n",
      " dense (Dense)               (None, 8)                 712       \n",
      "                                                                 \n",
      " dense_1 (Dense)             (None, 1)                 9         \n",
      "                                                                 \n",
      "=================================================================\n",
      "Total params: 953\n",
      "Trainable params: 953\n",
      "Non-trainable params: 0\n",
      "_________________________________________________________________\n"
     ]
    },
    {
     "name": "stderr",
     "output_type": "stream",
     "text": [
      "2022-07-01 17:07:39.715685: W tensorflow/stream_executor/platform/default/dso_loader.cc:64] Could not load dynamic library 'libcuda.so.1'; dlerror: libcuda.so.1: cannot open shared object file: No such file or directory\n",
      "2022-07-01 17:07:39.715727: W tensorflow/stream_executor/cuda/cuda_driver.cc:269] failed call to cuInit: UNKNOWN ERROR (303)\n",
      "2022-07-01 17:07:39.715755: I tensorflow/stream_executor/cuda/cuda_diagnostics.cc:156] kernel driver does not appear to be running on this host (ayu): /proc/driver/nvidia/version does not exist\n",
      "2022-07-01 17:07:39.716203: I tensorflow/core/platform/cpu_feature_guard.cc:193] This TensorFlow binary is optimized with oneAPI Deep Neural Network Library (oneDNN) to use the following CPU instructions in performance-critical operations:  AVX2 AVX512F AVX512_VNNI FMA\n",
      "To enable them in other operations, rebuild TensorFlow with the appropriate compiler flags.\n"
     ]
    }
   ],
   "source": [
    "model = Sequential()\n",
    "model.add(Conv1D(8, kernel_size=3, activation='relu', input_shape=(96, 1)))\n",
    "model.add(MaxPool1D(2))\n",
    "model.add(Conv1D(8, kernel_size=3, activation='relu'))\n",
    "model.add(MaxPool1D(4))\n",
    "model.add(Flatten())\n",
    "model.add(Dense(8, activation='relu'))\n",
    "model.add(Dense(1, activation='linear'))\n",
    "model.summary()"
   ]
  },
  {
   "cell_type": "markdown",
   "id": "97df5a78-e1e8-4d31-b491-3d65b8ed4898",
   "metadata": {
    "tags": []
   },
   "source": [
    "#### Training algorithm"
   ]
  },
  {
   "cell_type": "code",
   "execution_count": 6,
   "id": "0d9f3e26-9a88-406b-8c28-a29a08dcfd36",
   "metadata": {},
   "outputs": [],
   "source": [
    "model.compile(loss = lambda y_true, y_pred: keras.losses.huber(y_true, y_pred, .0015), \n",
    "   optimizer = keras.optimizers.Adam(), metrics = ['MeanAbsolutePercentageError'])"
   ]
  },
  {
   "cell_type": "code",
   "execution_count": 39,
   "id": "04ccc5d4-7ab3-4d75-babd-1872fc0426e3",
   "metadata": {
    "tags": []
   },
   "outputs": [
    {
     "name": "stdout",
     "output_type": "stream",
     "text": [
      "Epoch 1/20\n",
      "12800/12800 - 13s - loss: 2.8702e-05 - mean_absolute_percentage_error: 4.2767 - val_loss: 1.4902e-05 - val_mean_absolute_percentage_error: 2.2393 - 13s/epoch - 1ms/step\n",
      "Epoch 2/20\n",
      "12800/12800 - 13s - loss: 1.3671e-05 - mean_absolute_percentage_error: 2.0995 - val_loss: 1.2203e-05 - val_mean_absolute_percentage_error: 1.8295 - 13s/epoch - 1ms/step\n",
      "Epoch 3/20\n",
      "12800/12800 - 12s - loss: 1.1075e-05 - mean_absolute_percentage_error: 1.7371 - val_loss: 1.1108e-05 - val_mean_absolute_percentage_error: 1.7396 - 12s/epoch - 965us/step\n",
      "Epoch 4/20\n",
      "12800/12800 - 13s - loss: 9.9257e-06 - mean_absolute_percentage_error: 1.5761 - val_loss: 9.2846e-06 - val_mean_absolute_percentage_error: 1.4623 - 13s/epoch - 996us/step\n",
      "Epoch 5/20\n",
      "12800/12800 - 13s - loss: 9.3209e-06 - mean_absolute_percentage_error: 1.4888 - val_loss: 1.2015e-05 - val_mean_absolute_percentage_error: 1.8079 - 13s/epoch - 994us/step\n",
      "Epoch 6/20\n",
      "12800/12800 - 13s - loss: 8.9591e-06 - mean_absolute_percentage_error: 1.4327 - val_loss: 8.5809e-06 - val_mean_absolute_percentage_error: 1.3534 - 13s/epoch - 980us/step\n",
      "Epoch 7/20\n",
      "12800/12800 - 12s - loss: 8.6785e-06 - mean_absolute_percentage_error: 1.3893 - val_loss: 8.1404e-06 - val_mean_absolute_percentage_error: 1.2813 - 12s/epoch - 969us/step\n",
      "Epoch 8/20\n",
      "12800/12800 - 12s - loss: 8.4895e-06 - mean_absolute_percentage_error: 1.3669 - val_loss: 7.7527e-06 - val_mean_absolute_percentage_error: 1.2462 - 12s/epoch - 975us/step\n",
      "Epoch 9/20\n",
      "12800/12800 - 13s - loss: 8.3354e-06 - mean_absolute_percentage_error: 1.3430 - val_loss: 7.9279e-06 - val_mean_absolute_percentage_error: 1.2591 - 13s/epoch - 987us/step\n",
      "Epoch 10/20\n",
      "12800/12800 - 13s - loss: 8.2787e-06 - mean_absolute_percentage_error: 1.3353 - val_loss: 8.0696e-06 - val_mean_absolute_percentage_error: 1.2898 - 13s/epoch - 984us/step\n",
      "Epoch 11/20\n",
      "12800/12800 - 13s - loss: 8.1792e-06 - mean_absolute_percentage_error: 1.3204 - val_loss: 7.5132e-06 - val_mean_absolute_percentage_error: 1.2169 - 13s/epoch - 1ms/step\n",
      "Epoch 12/20\n",
      "12800/12800 - 13s - loss: 8.1631e-06 - mean_absolute_percentage_error: 1.3124 - val_loss: 7.5521e-06 - val_mean_absolute_percentage_error: 1.1811 - 13s/epoch - 981us/step\n",
      "Epoch 13/20\n",
      "12800/12800 - 13s - loss: 8.0198e-06 - mean_absolute_percentage_error: 1.2934 - val_loss: 7.6484e-06 - val_mean_absolute_percentage_error: 1.2163 - 13s/epoch - 1ms/step\n",
      "Epoch 14/20\n",
      "12800/12800 - 13s - loss: 8.0186e-06 - mean_absolute_percentage_error: 1.2929 - val_loss: 7.8331e-06 - val_mean_absolute_percentage_error: 1.2262 - 13s/epoch - 1ms/step\n",
      "Epoch 15/20\n",
      "12800/12800 - 13s - loss: 7.9685e-06 - mean_absolute_percentage_error: 1.2853 - val_loss: 7.2824e-06 - val_mean_absolute_percentage_error: 1.1618 - 13s/epoch - 980us/step\n",
      "Epoch 16/20\n",
      "12800/12800 - 13s - loss: 7.8865e-06 - mean_absolute_percentage_error: 1.2747 - val_loss: 7.9435e-06 - val_mean_absolute_percentage_error: 1.2871 - 13s/epoch - 1ms/step\n",
      "Epoch 17/20\n",
      "12800/12800 - 13s - loss: 7.8713e-06 - mean_absolute_percentage_error: 1.2702 - val_loss: 7.3493e-06 - val_mean_absolute_percentage_error: 1.2021 - 13s/epoch - 998us/step\n",
      "Epoch 18/20\n",
      "12800/12800 - 13s - loss: 7.8240e-06 - mean_absolute_percentage_error: 1.2632 - val_loss: 7.4468e-06 - val_mean_absolute_percentage_error: 1.1900 - 13s/epoch - 997us/step\n",
      "Epoch 19/20\n",
      "12800/12800 - 13s - loss: 7.7612e-06 - mean_absolute_percentage_error: 1.2527 - val_loss: 7.4658e-06 - val_mean_absolute_percentage_error: 1.2122 - 13s/epoch - 984us/step\n",
      "Epoch 20/20\n",
      "12800/12800 - 13s - loss: 7.7736e-06 - mean_absolute_percentage_error: 1.2540 - val_loss: 7.0533e-06 - val_mean_absolute_percentage_error: 1.1426 - 13s/epoch - 987us/step\n"
     ]
    }
   ],
   "source": [
    "step_num = 12800#int(len(train_y_data)//32)\n",
    "history = model.fit(\n",
    "    x=train_x_data[:], y=train_y_data[:], epochs=20, batch_size=32, steps_per_epoch=step_num,\n",
    "    validation_split=.1, workers=4, use_multiprocessing=True, verbose=2, shuffle=True)"
   ]
  },
  {
   "cell_type": "code",
   "execution_count": 73,
   "id": "496bc088-5c64-4e2c-bc0b-0669d88c6fb9",
   "metadata": {},
   "outputs": [
    {
     "data": {
      "text/plain": [
       "320000.0"
      ]
     },
     "execution_count": 73,
     "metadata": {},
     "output_type": "execute_result"
    }
   ],
   "source": [
    "len(np.array(spectra).repeat(20, axis=0))/32"
   ]
  },
  {
   "cell_type": "code",
   "execution_count": 9,
   "id": "8118ec7d-e230-4b39-9c95-a9a64d7ff9db",
   "metadata": {
    "tags": []
   },
   "outputs": [
    {
     "name": "stdout",
     "output_type": "stream",
     "text": [
      "Epoch 1/2000\n",
      "62/62 - 0s - loss: 2.5682e-09 - mean_absolute_percentage_error: 377.7051 - 93ms/epoch - 2ms/step\n",
      "Epoch 2/2000\n",
      "62/62 - 0s - loss: 1.8781e-09 - mean_absolute_percentage_error: 313.8429 - 84ms/epoch - 1ms/step\n",
      "Epoch 3/2000\n",
      "62/62 - 0s - loss: 1.7478e-09 - mean_absolute_percentage_error: 293.3600 - 79ms/epoch - 1ms/step\n",
      "Epoch 4/2000\n",
      "62/62 - 0s - loss: 1.7634e-09 - mean_absolute_percentage_error: 274.4109 - 78ms/epoch - 1ms/step\n",
      "Epoch 5/2000\n",
      "62/62 - 0s - loss: 2.1456e-09 - mean_absolute_percentage_error: 346.6975 - 79ms/epoch - 1ms/step\n",
      "Epoch 6/2000\n",
      "62/62 - 0s - loss: 2.9339e-09 - mean_absolute_percentage_error: 406.9685 - 78ms/epoch - 1ms/step\n",
      "Epoch 7/2000\n",
      "62/62 - 0s - loss: 1.8825e-09 - mean_absolute_percentage_error: 299.0381 - 79ms/epoch - 1ms/step\n",
      "Epoch 8/2000\n",
      "62/62 - 0s - loss: 2.5164e-09 - mean_absolute_percentage_error: 389.7532 - 76ms/epoch - 1ms/step\n",
      "Epoch 9/2000\n",
      "62/62 - 0s - loss: 3.0175e-09 - mean_absolute_percentage_error: 428.0920 - 83ms/epoch - 1ms/step\n",
      "Epoch 10/2000\n",
      "62/62 - 0s - loss: 2.5307e-09 - mean_absolute_percentage_error: 365.7437 - 81ms/epoch - 1ms/step\n",
      "Epoch 11/2000\n",
      "62/62 - 0s - loss: 2.2181e-09 - mean_absolute_percentage_error: 313.5797 - 83ms/epoch - 1ms/step\n",
      "Epoch 12/2000\n",
      "62/62 - 0s - loss: 4.3231e-09 - mean_absolute_percentage_error: 515.0946 - 88ms/epoch - 1ms/step\n",
      "Epoch 13/2000\n",
      "62/62 - 0s - loss: 3.4469e-09 - mean_absolute_percentage_error: 461.1879 - 90ms/epoch - 1ms/step\n",
      "Epoch 14/2000\n",
      "62/62 - 0s - loss: 2.2062e-09 - mean_absolute_percentage_error: 316.9726 - 81ms/epoch - 1ms/step\n",
      "Epoch 15/2000\n",
      "62/62 - 0s - loss: 1.9462e-09 - mean_absolute_percentage_error: 309.2129 - 87ms/epoch - 1ms/step\n",
      "Epoch 16/2000\n",
      "62/62 - 0s - loss: 3.2634e-09 - mean_absolute_percentage_error: 434.2875 - 89ms/epoch - 1ms/step\n",
      "Epoch 17/2000\n",
      "62/62 - 0s - loss: 2.0302e-09 - mean_absolute_percentage_error: 311.8825 - 77ms/epoch - 1ms/step\n",
      "Epoch 18/2000\n",
      "62/62 - 0s - loss: 4.0206e-09 - mean_absolute_percentage_error: 490.2478 - 81ms/epoch - 1ms/step\n",
      "Epoch 19/2000\n",
      "62/62 - 0s - loss: 2.8634e-09 - mean_absolute_percentage_error: 387.5505 - 89ms/epoch - 1ms/step\n",
      "Epoch 20/2000\n",
      "62/62 - 0s - loss: 2.6171e-09 - mean_absolute_percentage_error: 380.6433 - 88ms/epoch - 1ms/step\n",
      "Epoch 21/2000\n",
      "62/62 - 0s - loss: 2.4811e-09 - mean_absolute_percentage_error: 372.1748 - 80ms/epoch - 1ms/step\n",
      "Epoch 22/2000\n",
      "62/62 - 0s - loss: 5.5891e-09 - mean_absolute_percentage_error: 619.3160 - 81ms/epoch - 1ms/step\n",
      "Epoch 23/2000\n",
      "62/62 - 0s - loss: 3.0670e-09 - mean_absolute_percentage_error: 400.2232 - 79ms/epoch - 1ms/step\n",
      "Epoch 24/2000\n",
      "62/62 - 0s - loss: 1.8343e-09 - mean_absolute_percentage_error: 296.9179 - 79ms/epoch - 1ms/step\n",
      "Epoch 25/2000\n",
      "62/62 - 0s - loss: 3.3889e-09 - mean_absolute_percentage_error: 407.7469 - 92ms/epoch - 1ms/step\n",
      "Epoch 26/2000\n",
      "62/62 - 0s - loss: 3.1785e-09 - mean_absolute_percentage_error: 413.7984 - 90ms/epoch - 1ms/step\n",
      "Epoch 27/2000\n",
      "62/62 - 0s - loss: 3.1370e-09 - mean_absolute_percentage_error: 411.7384 - 93ms/epoch - 1ms/step\n",
      "Epoch 28/2000\n",
      "62/62 - 0s - loss: 2.0560e-09 - mean_absolute_percentage_error: 293.1319 - 81ms/epoch - 1ms/step\n",
      "Epoch 29/2000\n",
      "62/62 - 0s - loss: 2.6814e-09 - mean_absolute_percentage_error: 382.5954 - 80ms/epoch - 1ms/step\n",
      "Epoch 30/2000\n",
      "62/62 - 0s - loss: 1.9648e-09 - mean_absolute_percentage_error: 315.5633 - 79ms/epoch - 1ms/step\n",
      "Epoch 31/2000\n",
      "62/62 - 0s - loss: 2.6885e-09 - mean_absolute_percentage_error: 373.5627 - 82ms/epoch - 1ms/step\n",
      "Epoch 32/2000\n",
      "62/62 - 0s - loss: 2.4826e-09 - mean_absolute_percentage_error: 365.3076 - 82ms/epoch - 1ms/step\n",
      "Epoch 33/2000\n",
      "62/62 - 0s - loss: 2.6144e-09 - mean_absolute_percentage_error: 369.5439 - 78ms/epoch - 1ms/step\n",
      "Epoch 34/2000\n",
      "62/62 - 0s - loss: 3.9677e-09 - mean_absolute_percentage_error: 485.2752 - 82ms/epoch - 1ms/step\n",
      "Epoch 35/2000\n",
      "62/62 - 0s - loss: 2.3070e-09 - mean_absolute_percentage_error: 333.7801 - 80ms/epoch - 1ms/step\n",
      "Epoch 36/2000\n",
      "62/62 - 0s - loss: 2.4243e-09 - mean_absolute_percentage_error: 346.2550 - 80ms/epoch - 1ms/step\n",
      "Epoch 37/2000\n",
      "62/62 - 0s - loss: 2.3694e-09 - mean_absolute_percentage_error: 363.2088 - 79ms/epoch - 1ms/step\n",
      "Epoch 38/2000\n",
      "62/62 - 0s - loss: 3.5456e-09 - mean_absolute_percentage_error: 446.4461 - 77ms/epoch - 1ms/step\n",
      "Epoch 39/2000\n",
      "62/62 - 0s - loss: 3.4115e-09 - mean_absolute_percentage_error: 451.9326 - 79ms/epoch - 1ms/step\n",
      "Epoch 40/2000\n",
      "62/62 - 0s - loss: 1.8378e-09 - mean_absolute_percentage_error: 286.9086 - 83ms/epoch - 1ms/step\n",
      "Epoch 41/2000\n",
      "62/62 - 0s - loss: 1.9212e-09 - mean_absolute_percentage_error: 302.1182 - 89ms/epoch - 1ms/step\n",
      "Epoch 42/2000\n",
      "62/62 - 0s - loss: 2.1640e-09 - mean_absolute_percentage_error: 352.2360 - 89ms/epoch - 1ms/step\n",
      "Epoch 43/2000\n",
      "62/62 - 0s - loss: 3.2092e-09 - mean_absolute_percentage_error: 431.1846 - 93ms/epoch - 2ms/step\n",
      "Epoch 44/2000\n",
      "62/62 - 0s - loss: 2.3199e-09 - mean_absolute_percentage_error: 342.4047 - 85ms/epoch - 1ms/step\n",
      "Epoch 45/2000\n",
      "62/62 - 0s - loss: 2.6415e-09 - mean_absolute_percentage_error: 398.5550 - 89ms/epoch - 1ms/step\n",
      "Epoch 46/2000\n",
      "62/62 - 0s - loss: 1.9783e-09 - mean_absolute_percentage_error: 324.8965 - 83ms/epoch - 1ms/step\n",
      "Epoch 47/2000\n",
      "62/62 - 0s - loss: 3.5646e-09 - mean_absolute_percentage_error: 477.1838 - 78ms/epoch - 1ms/step\n",
      "Epoch 48/2000\n",
      "62/62 - 0s - loss: 3.1238e-09 - mean_absolute_percentage_error: 414.3892 - 79ms/epoch - 1ms/step\n",
      "Epoch 49/2000\n",
      "62/62 - 0s - loss: 3.7942e-09 - mean_absolute_percentage_error: 469.6573 - 78ms/epoch - 1ms/step\n",
      "Epoch 50/2000\n",
      "62/62 - 0s - loss: 1.8288e-09 - mean_absolute_percentage_error: 295.0854 - 78ms/epoch - 1ms/step\n",
      "Epoch 51/2000\n",
      "62/62 - 0s - loss: 1.6937e-09 - mean_absolute_percentage_error: 283.2680 - 81ms/epoch - 1ms/step\n",
      "Epoch 52/2000\n",
      "62/62 - 0s - loss: 2.4093e-09 - mean_absolute_percentage_error: 346.5409 - 86ms/epoch - 1ms/step\n",
      "Epoch 53/2000\n",
      "62/62 - 0s - loss: 2.6086e-09 - mean_absolute_percentage_error: 375.6391 - 92ms/epoch - 1ms/step\n",
      "Epoch 54/2000\n",
      "62/62 - 0s - loss: 2.2616e-09 - mean_absolute_percentage_error: 363.6524 - 92ms/epoch - 1ms/step\n",
      "Epoch 55/2000\n",
      "62/62 - 0s - loss: 2.0092e-09 - mean_absolute_percentage_error: 316.5027 - 78ms/epoch - 1ms/step\n",
      "Epoch 56/2000\n",
      "62/62 - 0s - loss: 2.2209e-09 - mean_absolute_percentage_error: 339.1232 - 82ms/epoch - 1ms/step\n",
      "Epoch 57/2000\n",
      "62/62 - 0s - loss: 2.7838e-09 - mean_absolute_percentage_error: 405.8574 - 78ms/epoch - 1ms/step\n",
      "Epoch 58/2000\n",
      "62/62 - 0s - loss: 2.8408e-09 - mean_absolute_percentage_error: 396.3557 - 82ms/epoch - 1ms/step\n",
      "Epoch 59/2000\n",
      "62/62 - 0s - loss: 2.1520e-09 - mean_absolute_percentage_error: 336.5477 - 77ms/epoch - 1ms/step\n",
      "Epoch 60/2000\n",
      "62/62 - 0s - loss: 4.0189e-09 - mean_absolute_percentage_error: 484.8192 - 80ms/epoch - 1ms/step\n",
      "Epoch 61/2000\n",
      "62/62 - 0s - loss: 2.4379e-09 - mean_absolute_percentage_error: 358.3377 - 87ms/epoch - 1ms/step\n",
      "Epoch 62/2000\n",
      "62/62 - 0s - loss: 3.2523e-09 - mean_absolute_percentage_error: 408.6286 - 88ms/epoch - 1ms/step\n",
      "Epoch 63/2000\n",
      "62/62 - 0s - loss: 2.1839e-09 - mean_absolute_percentage_error: 324.5248 - 86ms/epoch - 1ms/step\n",
      "Epoch 64/2000\n",
      "62/62 - 0s - loss: 2.8237e-09 - mean_absolute_percentage_error: 388.2109 - 90ms/epoch - 1ms/step\n",
      "Epoch 65/2000\n",
      "62/62 - 0s - loss: 4.2297e-09 - mean_absolute_percentage_error: 513.0052 - 88ms/epoch - 1ms/step\n",
      "Epoch 66/2000\n",
      "62/62 - 0s - loss: 2.5955e-09 - mean_absolute_percentage_error: 369.1943 - 79ms/epoch - 1ms/step\n",
      "Epoch 67/2000\n",
      "62/62 - 0s - loss: 1.9647e-09 - mean_absolute_percentage_error: 309.0143 - 84ms/epoch - 1ms/step\n",
      "Epoch 68/2000\n",
      "62/62 - 0s - loss: 1.7525e-09 - mean_absolute_percentage_error: 289.0760 - 87ms/epoch - 1ms/step\n",
      "Epoch 69/2000\n",
      "62/62 - 0s - loss: 2.6192e-09 - mean_absolute_percentage_error: 352.1764 - 90ms/epoch - 1ms/step\n",
      "Epoch 70/2000\n",
      "62/62 - 0s - loss: 2.6981e-09 - mean_absolute_percentage_error: 389.3885 - 88ms/epoch - 1ms/step\n",
      "Epoch 71/2000\n",
      "62/62 - 0s - loss: 2.1433e-09 - mean_absolute_percentage_error: 333.4264 - 77ms/epoch - 1ms/step\n",
      "Epoch 72/2000\n",
      "62/62 - 0s - loss: 1.9870e-09 - mean_absolute_percentage_error: 314.7656 - 86ms/epoch - 1ms/step\n",
      "Epoch 73/2000\n",
      "62/62 - 0s - loss: 3.0144e-09 - mean_absolute_percentage_error: 395.9337 - 88ms/epoch - 1ms/step\n",
      "Epoch 74/2000\n",
      "62/62 - 0s - loss: 2.0221e-09 - mean_absolute_percentage_error: 295.7616 - 79ms/epoch - 1ms/step\n",
      "Epoch 75/2000\n",
      "62/62 - 0s - loss: 2.5386e-09 - mean_absolute_percentage_error: 356.9609 - 78ms/epoch - 1ms/step\n",
      "Epoch 76/2000\n",
      "62/62 - 0s - loss: 2.3714e-09 - mean_absolute_percentage_error: 350.7098 - 80ms/epoch - 1ms/step\n",
      "Epoch 77/2000\n",
      "62/62 - 0s - loss: 3.0868e-09 - mean_absolute_percentage_error: 418.0979 - 78ms/epoch - 1ms/step\n",
      "Epoch 78/2000\n",
      "62/62 - 0s - loss: 2.7514e-09 - mean_absolute_percentage_error: 378.3488 - 80ms/epoch - 1ms/step\n",
      "Epoch 79/2000\n",
      "62/62 - 0s - loss: 3.4825e-09 - mean_absolute_percentage_error: 460.1523 - 86ms/epoch - 1ms/step\n",
      "Epoch 80/2000\n",
      "62/62 - 0s - loss: 2.3499e-09 - mean_absolute_percentage_error: 351.0100 - 85ms/epoch - 1ms/step\n",
      "Epoch 81/2000\n",
      "62/62 - 0s - loss: 1.7526e-09 - mean_absolute_percentage_error: 307.2811 - 85ms/epoch - 1ms/step\n",
      "Epoch 82/2000\n",
      "62/62 - 0s - loss: 1.6570e-09 - mean_absolute_percentage_error: 286.0853 - 83ms/epoch - 1ms/step\n",
      "Epoch 83/2000\n",
      "62/62 - 0s - loss: 4.1666e-09 - mean_absolute_percentage_error: 524.8068 - 90ms/epoch - 1ms/step\n",
      "Epoch 84/2000\n",
      "62/62 - 0s - loss: 2.3479e-09 - mean_absolute_percentage_error: 349.8339 - 93ms/epoch - 1ms/step\n",
      "Epoch 85/2000\n",
      "62/62 - 0s - loss: 1.7419e-09 - mean_absolute_percentage_error: 278.0489 - 79ms/epoch - 1ms/step\n",
      "Epoch 86/2000\n",
      "62/62 - 0s - loss: 2.8282e-09 - mean_absolute_percentage_error: 385.1589 - 86ms/epoch - 1ms/step\n",
      "Epoch 87/2000\n",
      "62/62 - 0s - loss: 4.1443e-09 - mean_absolute_percentage_error: 514.6598 - 88ms/epoch - 1ms/step\n",
      "Epoch 88/2000\n",
      "62/62 - 0s - loss: 2.0492e-09 - mean_absolute_percentage_error: 329.1612 - 87ms/epoch - 1ms/step\n",
      "Epoch 89/2000\n",
      "62/62 - 0s - loss: 3.3441e-09 - mean_absolute_percentage_error: 409.5164 - 85ms/epoch - 1ms/step\n",
      "Epoch 90/2000\n",
      "62/62 - 0s - loss: 2.2658e-09 - mean_absolute_percentage_error: 342.9194 - 88ms/epoch - 1ms/step\n",
      "Epoch 91/2000\n",
      "62/62 - 0s - loss: 2.2977e-09 - mean_absolute_percentage_error: 338.0889 - 87ms/epoch - 1ms/step\n",
      "Epoch 92/2000\n",
      "62/62 - 0s - loss: 2.8371e-09 - mean_absolute_percentage_error: 396.1497 - 87ms/epoch - 1ms/step\n",
      "Epoch 93/2000\n",
      "62/62 - 0s - loss: 2.9331e-09 - mean_absolute_percentage_error: 394.6838 - 85ms/epoch - 1ms/step\n",
      "Epoch 94/2000\n",
      "62/62 - 0s - loss: 2.7691e-09 - mean_absolute_percentage_error: 383.2985 - 78ms/epoch - 1ms/step\n",
      "Epoch 95/2000\n",
      "62/62 - 0s - loss: 3.1320e-09 - mean_absolute_percentage_error: 424.5201 - 79ms/epoch - 1ms/step\n",
      "Epoch 96/2000\n",
      "62/62 - 0s - loss: 1.5938e-09 - mean_absolute_percentage_error: 272.5473 - 78ms/epoch - 1ms/step\n",
      "Epoch 97/2000\n",
      "62/62 - 0s - loss: 1.9468e-09 - mean_absolute_percentage_error: 321.5406 - 75ms/epoch - 1ms/step\n",
      "Epoch 98/2000\n",
      "62/62 - 0s - loss: 2.5890e-09 - mean_absolute_percentage_error: 367.2580 - 80ms/epoch - 1ms/step\n",
      "Epoch 99/2000\n",
      "62/62 - 0s - loss: 2.6537e-09 - mean_absolute_percentage_error: 393.0545 - 86ms/epoch - 1ms/step\n",
      "Epoch 100/2000\n",
      "62/62 - 0s - loss: 4.0385e-09 - mean_absolute_percentage_error: 499.3140 - 89ms/epoch - 1ms/step\n",
      "Epoch 101/2000\n",
      "62/62 - 0s - loss: 2.3224e-09 - mean_absolute_percentage_error: 345.5580 - 81ms/epoch - 1ms/step\n",
      "Epoch 102/2000\n",
      "62/62 - 0s - loss: 2.2205e-09 - mean_absolute_percentage_error: 355.2415 - 81ms/epoch - 1ms/step\n",
      "Epoch 103/2000\n",
      "62/62 - 0s - loss: 1.7564e-09 - mean_absolute_percentage_error: 280.6001 - 79ms/epoch - 1ms/step\n",
      "Epoch 104/2000\n",
      "62/62 - 0s - loss: 1.8671e-09 - mean_absolute_percentage_error: 297.4389 - 78ms/epoch - 1ms/step\n",
      "Epoch 105/2000\n",
      "62/62 - 0s - loss: 1.4440e-09 - mean_absolute_percentage_error: 258.2727 - 77ms/epoch - 1ms/step\n",
      "Epoch 106/2000\n",
      "62/62 - 0s - loss: 3.2483e-09 - mean_absolute_percentage_error: 429.0045 - 80ms/epoch - 1ms/step\n",
      "Epoch 107/2000\n",
      "62/62 - 0s - loss: 3.0436e-09 - mean_absolute_percentage_error: 421.0295 - 92ms/epoch - 1ms/step\n",
      "Epoch 108/2000\n",
      "62/62 - 0s - loss: 2.3484e-09 - mean_absolute_percentage_error: 351.8575 - 89ms/epoch - 1ms/step\n",
      "Epoch 109/2000\n",
      "62/62 - 0s - loss: 7.5500e-09 - mean_absolute_percentage_error: 667.7045 - 87ms/epoch - 1ms/step\n",
      "Epoch 110/2000\n",
      "62/62 - 0s - loss: 2.6052e-09 - mean_absolute_percentage_error: 356.9132 - 79ms/epoch - 1ms/step\n",
      "Epoch 111/2000\n",
      "62/62 - 0s - loss: 2.8762e-09 - mean_absolute_percentage_error: 388.6786 - 77ms/epoch - 1ms/step\n",
      "Epoch 112/2000\n",
      "62/62 - 0s - loss: 1.8840e-09 - mean_absolute_percentage_error: 290.5356 - 93ms/epoch - 1ms/step\n",
      "Epoch 113/2000\n",
      "62/62 - 0s - loss: 2.5922e-09 - mean_absolute_percentage_error: 364.0547 - 91ms/epoch - 1ms/step\n",
      "Epoch 114/2000\n",
      "62/62 - 0s - loss: 2.1178e-09 - mean_absolute_percentage_error: 322.8679 - 77ms/epoch - 1ms/step\n",
      "Epoch 115/2000\n",
      "62/62 - 0s - loss: 2.5368e-09 - mean_absolute_percentage_error: 382.7540 - 85ms/epoch - 1ms/step\n",
      "Epoch 116/2000\n",
      "62/62 - 0s - loss: 1.8990e-09 - mean_absolute_percentage_error: 296.6539 - 89ms/epoch - 1ms/step\n",
      "Epoch 117/2000\n",
      "62/62 - 0s - loss: 2.4227e-09 - mean_absolute_percentage_error: 382.9527 - 91ms/epoch - 1ms/step\n",
      "Epoch 118/2000\n",
      "62/62 - 0s - loss: 2.1688e-09 - mean_absolute_percentage_error: 327.1004 - 91ms/epoch - 1ms/step\n",
      "Epoch 119/2000\n",
      "62/62 - 0s - loss: 2.5569e-09 - mean_absolute_percentage_error: 381.8107 - 94ms/epoch - 2ms/step\n",
      "Epoch 120/2000\n",
      "62/62 - 0s - loss: 2.5854e-09 - mean_absolute_percentage_error: 372.5901 - 88ms/epoch - 1ms/step\n",
      "Epoch 121/2000\n",
      "62/62 - 0s - loss: 2.5685e-09 - mean_absolute_percentage_error: 378.1569 - 81ms/epoch - 1ms/step\n",
      "Epoch 122/2000\n",
      "62/62 - 0s - loss: 1.4128e-09 - mean_absolute_percentage_error: 226.6162 - 77ms/epoch - 1ms/step\n",
      "Epoch 123/2000\n",
      "62/62 - 0s - loss: 2.6637e-09 - mean_absolute_percentage_error: 385.4971 - 89ms/epoch - 1ms/step\n",
      "Epoch 124/2000\n",
      "62/62 - 0s - loss: 2.4262e-09 - mean_absolute_percentage_error: 373.6330 - 96ms/epoch - 2ms/step\n",
      "Epoch 125/2000\n",
      "62/62 - 0s - loss: 3.9626e-09 - mean_absolute_percentage_error: 479.1071 - 80ms/epoch - 1ms/step\n",
      "Epoch 126/2000\n",
      "62/62 - 0s - loss: 1.8043e-09 - mean_absolute_percentage_error: 291.7671 - 78ms/epoch - 1ms/step\n",
      "Epoch 127/2000\n",
      "62/62 - 0s - loss: 1.9813e-09 - mean_absolute_percentage_error: 316.9556 - 77ms/epoch - 1ms/step\n",
      "Epoch 128/2000\n",
      "62/62 - 0s - loss: 2.1653e-09 - mean_absolute_percentage_error: 338.4456 - 74ms/epoch - 1ms/step\n",
      "Epoch 129/2000\n",
      "62/62 - 0s - loss: 2.6482e-09 - mean_absolute_percentage_error: 388.9157 - 81ms/epoch - 1ms/step\n",
      "Epoch 130/2000\n",
      "62/62 - 0s - loss: 1.9980e-09 - mean_absolute_percentage_error: 320.5749 - 79ms/epoch - 1ms/step\n",
      "Epoch 131/2000\n",
      "62/62 - 0s - loss: 2.3863e-09 - mean_absolute_percentage_error: 372.8273 - 75ms/epoch - 1ms/step\n",
      "Epoch 132/2000\n",
      "62/62 - 0s - loss: 1.9437e-09 - mean_absolute_percentage_error: 306.0413 - 81ms/epoch - 1ms/step\n",
      "Epoch 133/2000\n",
      "62/62 - 0s - loss: 2.2419e-09 - mean_absolute_percentage_error: 322.2000 - 76ms/epoch - 1ms/step\n",
      "Epoch 134/2000\n",
      "62/62 - 0s - loss: 1.9439e-09 - mean_absolute_percentage_error: 319.4311 - 75ms/epoch - 1ms/step\n",
      "Epoch 135/2000\n",
      "62/62 - 0s - loss: 2.0223e-09 - mean_absolute_percentage_error: 302.2187 - 81ms/epoch - 1ms/step\n",
      "Epoch 136/2000\n",
      "62/62 - 0s - loss: 1.7613e-09 - mean_absolute_percentage_error: 294.0092 - 76ms/epoch - 1ms/step\n",
      "Epoch 137/2000\n",
      "62/62 - 0s - loss: 4.7801e-09 - mean_absolute_percentage_error: 567.8597 - 78ms/epoch - 1ms/step\n",
      "Epoch 138/2000\n",
      "62/62 - 0s - loss: 2.5795e-09 - mean_absolute_percentage_error: 364.6640 - 79ms/epoch - 1ms/step\n",
      "Epoch 139/2000\n",
      "62/62 - 0s - loss: 1.8502e-09 - mean_absolute_percentage_error: 314.4815 - 76ms/epoch - 1ms/step\n",
      "Epoch 140/2000\n",
      "62/62 - 0s - loss: 2.5256e-09 - mean_absolute_percentage_error: 373.6584 - 78ms/epoch - 1ms/step\n",
      "Epoch 141/2000\n",
      "62/62 - 0s - loss: 2.4646e-09 - mean_absolute_percentage_error: 376.4464 - 77ms/epoch - 1ms/step\n",
      "Epoch 142/2000\n",
      "62/62 - 0s - loss: 3.3130e-09 - mean_absolute_percentage_error: 448.7101 - 77ms/epoch - 1ms/step\n",
      "Epoch 143/2000\n",
      "62/62 - 0s - loss: 3.6062e-09 - mean_absolute_percentage_error: 442.8937 - 73ms/epoch - 1ms/step\n",
      "Epoch 144/2000\n",
      "62/62 - 0s - loss: 2.1602e-09 - mean_absolute_percentage_error: 331.1770 - 78ms/epoch - 1ms/step\n",
      "Epoch 145/2000\n",
      "62/62 - 0s - loss: 3.0377e-09 - mean_absolute_percentage_error: 410.9293 - 74ms/epoch - 1ms/step\n",
      "Epoch 146/2000\n",
      "62/62 - 0s - loss: 2.4725e-09 - mean_absolute_percentage_error: 369.3404 - 75ms/epoch - 1ms/step\n",
      "Epoch 147/2000\n",
      "62/62 - 0s - loss: 2.5884e-09 - mean_absolute_percentage_error: 363.1091 - 79ms/epoch - 1ms/step\n",
      "Epoch 148/2000\n",
      "62/62 - 0s - loss: 2.0593e-09 - mean_absolute_percentage_error: 312.7782 - 76ms/epoch - 1ms/step\n",
      "Epoch 149/2000\n",
      "62/62 - 0s - loss: 2.0616e-09 - mean_absolute_percentage_error: 312.9178 - 73ms/epoch - 1ms/step\n",
      "Epoch 150/2000\n",
      "62/62 - 0s - loss: 2.1877e-09 - mean_absolute_percentage_error: 334.1686 - 79ms/epoch - 1ms/step\n",
      "Epoch 151/2000\n",
      "62/62 - 0s - loss: 2.3536e-09 - mean_absolute_percentage_error: 350.1769 - 78ms/epoch - 1ms/step\n",
      "Epoch 152/2000\n",
      "62/62 - 0s - loss: 1.8964e-09 - mean_absolute_percentage_error: 316.9215 - 78ms/epoch - 1ms/step\n",
      "Epoch 153/2000\n",
      "62/62 - 0s - loss: 2.0834e-09 - mean_absolute_percentage_error: 310.9998 - 72ms/epoch - 1ms/step\n",
      "Epoch 154/2000\n",
      "62/62 - 0s - loss: 2.4314e-09 - mean_absolute_percentage_error: 360.2659 - 76ms/epoch - 1ms/step\n",
      "Epoch 155/2000\n",
      "62/62 - 0s - loss: 2.5445e-09 - mean_absolute_percentage_error: 352.3916 - 80ms/epoch - 1ms/step\n",
      "Epoch 156/2000\n",
      "62/62 - 0s - loss: 4.5637e-09 - mean_absolute_percentage_error: 540.3136 - 78ms/epoch - 1ms/step\n",
      "Epoch 157/2000\n",
      "62/62 - 0s - loss: 2.5643e-09 - mean_absolute_percentage_error: 374.4807 - 76ms/epoch - 1ms/step\n",
      "Epoch 158/2000\n",
      "62/62 - 0s - loss: 2.2793e-09 - mean_absolute_percentage_error: 339.7706 - 82ms/epoch - 1ms/step\n",
      "Epoch 159/2000\n",
      "62/62 - 0s - loss: 2.1446e-09 - mean_absolute_percentage_error: 333.5161 - 80ms/epoch - 1ms/step\n",
      "Epoch 160/2000\n",
      "62/62 - 0s - loss: 4.2666e-09 - mean_absolute_percentage_error: 531.4969 - 78ms/epoch - 1ms/step\n",
      "Epoch 161/2000\n",
      "62/62 - 0s - loss: 3.6871e-09 - mean_absolute_percentage_error: 471.9181 - 80ms/epoch - 1ms/step\n",
      "Epoch 162/2000\n",
      "62/62 - 0s - loss: 2.5727e-09 - mean_absolute_percentage_error: 379.3276 - 80ms/epoch - 1ms/step\n",
      "Epoch 163/2000\n",
      "62/62 - 0s - loss: 2.5511e-09 - mean_absolute_percentage_error: 360.1878 - 83ms/epoch - 1ms/step\n",
      "Epoch 164/2000\n",
      "62/62 - 0s - loss: 2.0479e-09 - mean_absolute_percentage_error: 319.4422 - 85ms/epoch - 1ms/step\n",
      "Epoch 165/2000\n",
      "62/62 - 0s - loss: 2.2718e-09 - mean_absolute_percentage_error: 366.1501 - 83ms/epoch - 1ms/step\n",
      "Epoch 166/2000\n",
      "62/62 - 0s - loss: 2.2941e-09 - mean_absolute_percentage_error: 342.9513 - 77ms/epoch - 1ms/step\n",
      "Epoch 167/2000\n",
      "62/62 - 0s - loss: 3.9692e-09 - mean_absolute_percentage_error: 516.9993 - 79ms/epoch - 1ms/step\n",
      "Epoch 168/2000\n",
      "62/62 - 0s - loss: 2.1154e-09 - mean_absolute_percentage_error: 337.7310 - 81ms/epoch - 1ms/step\n",
      "Epoch 169/2000\n",
      "62/62 - 0s - loss: 3.1754e-09 - mean_absolute_percentage_error: 431.4528 - 77ms/epoch - 1ms/step\n",
      "Epoch 170/2000\n",
      "62/62 - 0s - loss: 3.5944e-09 - mean_absolute_percentage_error: 485.3588 - 76ms/epoch - 1ms/step\n",
      "Epoch 171/2000\n",
      "62/62 - 0s - loss: 3.2338e-09 - mean_absolute_percentage_error: 426.4528 - 79ms/epoch - 1ms/step\n",
      "Epoch 172/2000\n",
      "62/62 - 0s - loss: 3.0885e-09 - mean_absolute_percentage_error: 433.7655 - 77ms/epoch - 1ms/step\n",
      "Epoch 173/2000\n",
      "62/62 - 0s - loss: 6.0448e-09 - mean_absolute_percentage_error: 635.9496 - 74ms/epoch - 1ms/step\n",
      "Epoch 174/2000\n",
      "62/62 - 0s - loss: 2.3461e-09 - mean_absolute_percentage_error: 357.7253 - 75ms/epoch - 1ms/step\n",
      "Epoch 175/2000\n",
      "62/62 - 0s - loss: 2.8827e-09 - mean_absolute_percentage_error: 412.2013 - 74ms/epoch - 1ms/step\n",
      "Epoch 176/2000\n",
      "62/62 - 0s - loss: 1.4842e-09 - mean_absolute_percentage_error: 245.9443 - 78ms/epoch - 1ms/step\n",
      "Epoch 177/2000\n",
      "62/62 - 0s - loss: 2.1702e-09 - mean_absolute_percentage_error: 309.6740 - 78ms/epoch - 1ms/step\n",
      "Epoch 178/2000\n",
      "62/62 - 0s - loss: 2.3498e-09 - mean_absolute_percentage_error: 374.3184 - 80ms/epoch - 1ms/step\n",
      "Epoch 179/2000\n",
      "62/62 - 0s - loss: 1.4375e-09 - mean_absolute_percentage_error: 249.1337 - 73ms/epoch - 1ms/step\n",
      "Epoch 180/2000\n",
      "62/62 - 0s - loss: 2.4406e-09 - mean_absolute_percentage_error: 357.4638 - 79ms/epoch - 1ms/step\n",
      "Epoch 181/2000\n",
      "62/62 - 0s - loss: 2.2130e-09 - mean_absolute_percentage_error: 345.8487 - 77ms/epoch - 1ms/step\n",
      "Epoch 182/2000\n",
      "62/62 - 0s - loss: 2.3353e-09 - mean_absolute_percentage_error: 348.4518 - 81ms/epoch - 1ms/step\n",
      "Epoch 183/2000\n",
      "62/62 - 0s - loss: 1.6318e-09 - mean_absolute_percentage_error: 275.3782 - 78ms/epoch - 1ms/step\n",
      "Epoch 184/2000\n",
      "62/62 - 0s - loss: 2.7148e-09 - mean_absolute_percentage_error: 383.5154 - 77ms/epoch - 1ms/step\n",
      "Epoch 185/2000\n",
      "62/62 - 0s - loss: 2.7690e-09 - mean_absolute_percentage_error: 368.9412 - 77ms/epoch - 1ms/step\n",
      "Epoch 186/2000\n",
      "62/62 - 0s - loss: 3.4681e-09 - mean_absolute_percentage_error: 457.0763 - 74ms/epoch - 1ms/step\n",
      "Epoch 187/2000\n",
      "62/62 - 0s - loss: 3.7245e-09 - mean_absolute_percentage_error: 479.1476 - 75ms/epoch - 1ms/step\n",
      "Epoch 188/2000\n",
      "62/62 - 0s - loss: 1.9788e-09 - mean_absolute_percentage_error: 291.7583 - 76ms/epoch - 1ms/step\n",
      "Epoch 189/2000\n",
      "62/62 - 0s - loss: 3.2652e-09 - mean_absolute_percentage_error: 436.8673 - 77ms/epoch - 1ms/step\n",
      "Epoch 190/2000\n",
      "62/62 - 0s - loss: 1.8173e-09 - mean_absolute_percentage_error: 307.0162 - 72ms/epoch - 1ms/step\n",
      "Epoch 191/2000\n",
      "62/62 - 0s - loss: 3.4085e-09 - mean_absolute_percentage_error: 453.9054 - 74ms/epoch - 1ms/step\n",
      "Epoch 192/2000\n",
      "62/62 - 0s - loss: 2.2034e-09 - mean_absolute_percentage_error: 329.6543 - 80ms/epoch - 1ms/step\n",
      "Epoch 193/2000\n",
      "62/62 - 0s - loss: 3.0063e-09 - mean_absolute_percentage_error: 414.5098 - 81ms/epoch - 1ms/step\n",
      "Epoch 194/2000\n",
      "62/62 - 0s - loss: 1.8173e-09 - mean_absolute_percentage_error: 302.1241 - 72ms/epoch - 1ms/step\n",
      "Epoch 195/2000\n",
      "62/62 - 0s - loss: 1.7638e-09 - mean_absolute_percentage_error: 275.8051 - 78ms/epoch - 1ms/step\n",
      "Epoch 196/2000\n",
      "62/62 - 0s - loss: 1.9171e-09 - mean_absolute_percentage_error: 276.4710 - 79ms/epoch - 1ms/step\n",
      "Epoch 197/2000\n",
      "62/62 - 0s - loss: 2.0934e-09 - mean_absolute_percentage_error: 330.0677 - 73ms/epoch - 1ms/step\n",
      "Epoch 198/2000\n",
      "62/62 - 0s - loss: 3.0851e-09 - mean_absolute_percentage_error: 409.7319 - 75ms/epoch - 1ms/step\n",
      "Epoch 199/2000\n",
      "62/62 - 0s - loss: 2.6665e-09 - mean_absolute_percentage_error: 363.5359 - 76ms/epoch - 1ms/step\n",
      "Epoch 200/2000\n",
      "62/62 - 0s - loss: 2.1586e-09 - mean_absolute_percentage_error: 343.2291 - 78ms/epoch - 1ms/step\n",
      "Epoch 201/2000\n",
      "62/62 - 0s - loss: 4.5312e-09 - mean_absolute_percentage_error: 541.6340 - 72ms/epoch - 1ms/step\n",
      "Epoch 202/2000\n",
      "62/62 - 0s - loss: 3.1487e-09 - mean_absolute_percentage_error: 427.0482 - 77ms/epoch - 1ms/step\n",
      "Epoch 203/2000\n",
      "62/62 - 0s - loss: 3.0033e-09 - mean_absolute_percentage_error: 417.7010 - 76ms/epoch - 1ms/step\n",
      "Epoch 204/2000\n",
      "62/62 - 0s - loss: 2.6561e-09 - mean_absolute_percentage_error: 380.4600 - 76ms/epoch - 1ms/step\n",
      "Epoch 205/2000\n",
      "62/62 - 0s - loss: 2.0949e-09 - mean_absolute_percentage_error: 327.1484 - 77ms/epoch - 1ms/step\n",
      "Epoch 206/2000\n",
      "62/62 - 0s - loss: 1.6584e-09 - mean_absolute_percentage_error: 280.3542 - 82ms/epoch - 1ms/step\n",
      "Epoch 207/2000\n",
      "62/62 - 0s - loss: 3.0667e-09 - mean_absolute_percentage_error: 425.4746 - 95ms/epoch - 2ms/step\n",
      "Epoch 208/2000\n",
      "62/62 - 0s - loss: 3.4784e-09 - mean_absolute_percentage_error: 441.9222 - 93ms/epoch - 2ms/step\n",
      "Epoch 209/2000\n",
      "62/62 - 0s - loss: 2.0158e-09 - mean_absolute_percentage_error: 306.0247 - 81ms/epoch - 1ms/step\n",
      "Epoch 210/2000\n",
      "62/62 - 0s - loss: 1.8717e-09 - mean_absolute_percentage_error: 285.4551 - 76ms/epoch - 1ms/step\n",
      "Epoch 211/2000\n",
      "62/62 - 0s - loss: 2.0884e-09 - mean_absolute_percentage_error: 309.3584 - 77ms/epoch - 1ms/step\n",
      "Epoch 212/2000\n",
      "62/62 - 0s - loss: 2.4331e-09 - mean_absolute_percentage_error: 352.4355 - 77ms/epoch - 1ms/step\n",
      "Epoch 213/2000\n",
      "62/62 - 0s - loss: 2.2047e-09 - mean_absolute_percentage_error: 318.5589 - 76ms/epoch - 1ms/step\n",
      "Epoch 214/2000\n",
      "62/62 - 0s - loss: 2.4849e-09 - mean_absolute_percentage_error: 365.0756 - 76ms/epoch - 1ms/step\n",
      "Epoch 215/2000\n",
      "62/62 - 0s - loss: 3.7144e-09 - mean_absolute_percentage_error: 465.6263 - 79ms/epoch - 1ms/step\n",
      "Epoch 216/2000\n",
      "62/62 - 0s - loss: 3.2051e-09 - mean_absolute_percentage_error: 420.2496 - 78ms/epoch - 1ms/step\n",
      "Epoch 217/2000\n",
      "62/62 - 0s - loss: 3.8153e-09 - mean_absolute_percentage_error: 471.6750 - 74ms/epoch - 1ms/step\n",
      "Epoch 218/2000\n",
      "62/62 - 0s - loss: 2.0005e-09 - mean_absolute_percentage_error: 326.4748 - 73ms/epoch - 1ms/step\n",
      "Epoch 219/2000\n",
      "62/62 - 0s - loss: 2.0912e-09 - mean_absolute_percentage_error: 324.1674 - 78ms/epoch - 1ms/step\n",
      "Epoch 220/2000\n",
      "62/62 - 0s - loss: 4.7857e-09 - mean_absolute_percentage_error: 511.1208 - 76ms/epoch - 1ms/step\n",
      "Epoch 221/2000\n",
      "62/62 - 0s - loss: 1.9964e-09 - mean_absolute_percentage_error: 309.0447 - 79ms/epoch - 1ms/step\n",
      "Epoch 222/2000\n",
      "62/62 - 0s - loss: 2.3774e-09 - mean_absolute_percentage_error: 333.0953 - 77ms/epoch - 1ms/step\n",
      "Epoch 223/2000\n",
      "62/62 - 0s - loss: 2.3908e-09 - mean_absolute_percentage_error: 356.6951 - 75ms/epoch - 1ms/step\n",
      "Epoch 224/2000\n",
      "62/62 - 0s - loss: 1.9922e-09 - mean_absolute_percentage_error: 300.2508 - 73ms/epoch - 1ms/step\n",
      "Epoch 225/2000\n",
      "62/62 - 0s - loss: 2.1412e-09 - mean_absolute_percentage_error: 316.1799 - 76ms/epoch - 1ms/step\n",
      "Epoch 226/2000\n",
      "WARNING:tensorflow:Your input ran out of data; interrupting training. Make sure that your dataset or generator can generate at least `steps_per_epoch * epochs` batches (in this case, 124000 batches). You may need to use the repeat() function when building your dataset.\n",
      "62/62 - 0s - loss: 2.6370e-09 - mean_absolute_percentage_error: 373.8963 - 67ms/epoch - 1ms/step\n"
     ]
    }
   ],
   "source": [
    "history = model.fit(\n",
    "    x=np.array(spectra), y=np.array(fpe), epochs=2000, batch_size=16, steps_per_epoch=62,\n",
    "    validation_split=0, workers=8, use_multiprocessing=True, verbose=2, shuffle=True)"
   ]
  },
  {
   "cell_type": "code",
   "execution_count": null,
   "id": "0e22a012-b1b6-4f4b-b7f6-bf23e4e64bae",
   "metadata": {},
   "outputs": [],
   "source": [
    "model.save('ml_models/cnn_20220628synth.h5')"
   ]
  },
  {
   "cell_type": "markdown",
   "id": "d58e64ad-5622-4b6d-9e28-15014199ad74",
   "metadata": {
    "tags": []
   },
   "source": [
    "## Testing Model"
   ]
  },
  {
   "cell_type": "code",
   "execution_count": 46,
   "id": "fbafc1e8-eb23-4653-b2a6-d714c3d9ac49",
   "metadata": {},
   "outputs": [],
   "source": [
    "model = load_model('ml_models/cnn_20220627.h5')"
   ]
  },
  {
   "cell_type": "code",
   "execution_count": 40,
   "id": "514b28fc-52da-4a12-b0a7-7167809e8b96",
   "metadata": {},
   "outputs": [
    {
     "name": "stdout",
     "output_type": "stream",
     "text": [
      "1581/1581 [==============================] - 1s 692us/step - loss: 7.0583e-06 - mean_absolute_percentage_error: 1.1569\n"
     ]
    }
   ],
   "source": [
    "#print(type(spectra))\n",
    "#perf = model.evaluate(np.array(spectra), np.array(fpe))\n",
    "perf = model.evaluate(test_x_sorted, test_y_sorted)"
   ]
  },
  {
   "cell_type": "code",
   "execution_count": 41,
   "id": "e263ce59-493c-4f87-b496-e0c87694c8c4",
   "metadata": {
    "tags": []
   },
   "outputs": [
    {
     "name": "stdout",
     "output_type": "stream",
     "text": [
      "1581/1581 [==============================] - 1s 604us/step\n"
     ]
    }
   ],
   "source": [
    "pred_y = model.predict(test_x_sorted)"
   ]
  },
  {
   "cell_type": "code",
   "execution_count": 42,
   "id": "3af51b21-add2-49e8-99db-acc0e35567dd",
   "metadata": {
    "tags": []
   },
   "outputs": [],
   "source": [
    "denorm_test = denorm(test_y_sorted, max_y)\n",
    "denorm_pred = denorm(pred_y, max_y)[:,0]"
   ]
  },
  {
   "cell_type": "code",
   "execution_count": 43,
   "id": "6880f09f-d7c4-4869-bc61-0d31c447259d",
   "metadata": {},
   "outputs": [],
   "source": [
    "constant = np.mean(list(map(lambda i: (denorm_test[i]**2)/test_y_sorted_ed[i],\n",
    "               range(len(denorm_test)))))\n",
    "pred_dens = list(map(lambda i: (denorm_pred[i]**2)/constant,\n",
    "               range(len(denorm_pred))))\n",
    "dens = list(map(lambda i: (denorm_test[i]**2)/constant,\n",
    "               range(len(denorm_test))))"
   ]
  },
  {
   "cell_type": "code",
   "execution_count": 44,
   "id": "95626691-9652-462c-8348-cc10bf769773",
   "metadata": {
    "tags": []
   },
   "outputs": [
    {
     "name": "stdout",
     "output_type": "stream",
     "text": [
      "Each predicted value has an error of ±5.144270500625669e-05% or ±0.8822869822849326 kHz\n",
      "The average predicted value is 25.270389556884766\n",
      "Predicted first value: 14.665925979614258 ±0.8822869822849326 kHz\n",
      "Each predicted electron density has an error of ±0.0008591800451034677 cm^-3\n"
     ]
    },
    {
     "data": {
      "image/png": "[encoded data removed]",
      "text/plain": [
       "<Figure size 432x288 with 1 Axes>"
      ]
     },
     "metadata": {
      "needs_background": "light"
     },
     "output_type": "display_data"
    }
   ],
   "source": [
    "# Percent Error\n",
    "lst = list(map(lambda i: abs(denorm_pred[i]-denorm_test[i])/denorm_test[i],\n",
    "               range(len(pred_y))))\n",
    "# Squared Error\n",
    "lst2 = list(map(lambda i: (denorm_pred[i]-denorm_test[i])**2,\n",
    "               range(len(pred_y))))\n",
    "# Error\n",
    "lst3 = list(map(lambda i: (denorm_pred[i]-denorm_test[i]),\n",
    "               range(len(pred_y))))\n",
    "# Electron Density Error\n",
    "lst4 = list(map(lambda i: abs(pred_dens[i]-test_y_sorted_ed[i]),\n",
    "               range(len(pred_y))))\n",
    "error = np.sqrt(sum(lst2)/len(lst2))\n",
    "print(f\"Each predicted value has an error of ±{np.mean(lst)/np.sqrt(len(lst))}% or ±{error} kHz\")\n",
    "print(f\"The average predicted value is {np.mean(denorm_pred)}\")\n",
    "print(f\"Predicted first value: {denorm_pred[0]} ±{error} kHz\")\n",
    "print(f\"Each predicted electron density has an error of ±{np.mean(lst4)/np.sqrt(len(lst4))} cm^-3\")\n",
    "plt.hist(denorm_test, bins=100)\n",
    "plt.show()"
   ]
  },
  {
   "cell_type": "code",
   "execution_count": 35,
   "id": "c1c02750-34ce-4619-9008-41e45eafff47",
   "metadata": {
    "tags": []
   },
   "outputs": [
    {
     "data": {
      "text/html": [
       "<div>\n",
       "<style scoped>\n",
       "    .dataframe tbody tr th:only-of-type {\n",
       "        vertical-align: middle;\n",
       "    }\n",
       "\n",
       "    .dataframe tbody tr th {\n",
       "        vertical-align: top;\n",
       "    }\n",
       "\n",
       "    .dataframe thead th {\n",
       "        text-align: right;\n",
       "    }\n",
       "</style>\n",
       "<table border=\"1\" class=\"dataframe\">\n",
       "  <thead>\n",
       "    <tr style=\"text-align: right;\">\n",
       "      <th></th>\n",
       "      <th>0</th>\n",
       "    </tr>\n",
       "  </thead>\n",
       "  <tbody>\n",
       "    <tr>\n",
       "      <th>count</th>\n",
       "      <td>5.057300e+04</td>\n",
       "    </tr>\n",
       "    <tr>\n",
       "      <th>mean</th>\n",
       "      <td>8.159672e-03</td>\n",
       "    </tr>\n",
       "    <tr>\n",
       "      <th>std</th>\n",
       "      <td>1.808589e-02</td>\n",
       "    </tr>\n",
       "    <tr>\n",
       "      <th>min</th>\n",
       "      <td>1.587922e-07</td>\n",
       "    </tr>\n",
       "    <tr>\n",
       "      <th>25%</th>\n",
       "      <td>2.524463e-03</td>\n",
       "    </tr>\n",
       "    <tr>\n",
       "      <th>50%</th>\n",
       "      <td>5.040098e-03</td>\n",
       "    </tr>\n",
       "    <tr>\n",
       "      <th>75%</th>\n",
       "      <td>8.752207e-03</td>\n",
       "    </tr>\n",
       "    <tr>\n",
       "      <th>max</th>\n",
       "      <td>1.249458e+00</td>\n",
       "    </tr>\n",
       "  </tbody>\n",
       "</table>\n",
       "</div>"
      ],
      "text/plain": [
       "                  0\n",
       "count  5.057300e+04\n",
       "mean   8.159672e-03\n",
       "std    1.808589e-02\n",
       "min    1.587922e-07\n",
       "25%    2.524463e-03\n",
       "50%    5.040098e-03\n",
       "75%    8.752207e-03\n",
       "max    1.249458e+00"
      ]
     },
     "execution_count": 35,
     "metadata": {},
     "output_type": "execute_result"
    }
   ],
   "source": [
    "pd.DataFrame(lst).describe()\n"
   ]
  },
  {
   "cell_type": "code",
   "execution_count": 45,
   "id": "d45a57ca-a213-4e31-9ec3-c1ef3640ffd0",
   "metadata": {
    "tags": []
   },
   "outputs": [
    {
     "data": {
      "text/html": [
       "<div>\n",
       "<style scoped>\n",
       "    .dataframe tbody tr th:only-of-type {\n",
       "        vertical-align: middle;\n",
       "    }\n",
       "\n",
       "    .dataframe tbody tr th {\n",
       "        vertical-align: top;\n",
       "    }\n",
       "\n",
       "    .dataframe thead th {\n",
       "        text-align: right;\n",
       "    }\n",
       "</style>\n",
       "<table border=\"1\" class=\"dataframe\">\n",
       "  <thead>\n",
       "    <tr style=\"text-align: right;\">\n",
       "      <th></th>\n",
       "      <th>0</th>\n",
       "    </tr>\n",
       "  </thead>\n",
       "  <tbody>\n",
       "    <tr>\n",
       "      <th>count</th>\n",
       "      <td>50573.000000</td>\n",
       "    </tr>\n",
       "    <tr>\n",
       "      <th>mean</th>\n",
       "      <td>0.011569</td>\n",
       "    </tr>\n",
       "    <tr>\n",
       "      <th>std</th>\n",
       "      <td>0.036057</td>\n",
       "    </tr>\n",
       "    <tr>\n",
       "      <th>min</th>\n",
       "      <td>0.000000</td>\n",
       "    </tr>\n",
       "    <tr>\n",
       "      <th>25%</th>\n",
       "      <td>0.002449</td>\n",
       "    </tr>\n",
       "    <tr>\n",
       "      <th>50%</th>\n",
       "      <td>0.005476</td>\n",
       "    </tr>\n",
       "    <tr>\n",
       "      <th>75%</th>\n",
       "      <td>0.011138</td>\n",
       "    </tr>\n",
       "    <tr>\n",
       "      <th>max</th>\n",
       "      <td>2.220862</td>\n",
       "    </tr>\n",
       "  </tbody>\n",
       "</table>\n",
       "</div>"
      ],
      "text/plain": [
       "                  0\n",
       "count  50573.000000\n",
       "mean       0.011569\n",
       "std        0.036057\n",
       "min        0.000000\n",
       "25%        0.002449\n",
       "50%        0.005476\n",
       "75%        0.011138\n",
       "max        2.220862"
      ]
     },
     "execution_count": 45,
     "metadata": {},
     "output_type": "execute_result"
    }
   ],
   "source": [
    "pd.DataFrame(lst).describe()\n"
   ]
  },
  {
   "cell_type": "code",
   "execution_count": 32,
   "id": "44ae3119-40ff-4436-a1f5-b2a832561926",
   "metadata": {},
   "outputs": [],
   "source": [
    "# try to figure out distribution of points\n",
    "fr = np.array([0 for _ in range(85)])\n",
    "for f in range(85):\n",
    "    for _ in np.where(np.abs(train_y_data*50-(f+.5))<.5)[0]:\n",
    "        fr[f] += 1\n",
    "        "
   ]
  },
  {
   "cell_type": "code",
   "execution_count": 43,
   "id": "0e853de7-7ede-4451-b152-22c24d7867cd",
   "metadata": {},
   "outputs": [
    {
     "name": "stdout",
     "output_type": "stream",
     "text": [
      "14\n",
      "17\n",
      "18\n",
      "19\n",
      "20\n",
      "21\n",
      "23\n",
      "27\n",
      "29\n",
      "31\n",
      "34\n",
      "36\n",
      "39\n",
      "45\n"
     ]
    },
    {
     "data": {
      "text/plain": [
       "(14, 17, 18, 19, 20, 21, 31)"
      ]
     },
     "execution_count": 43,
     "metadata": {},
     "output_type": "execute_result"
    }
   ],
   "source": [
    "count = 0\n",
    "for i in range(len(fr)):\n",
    "    count += fr[i]\n",
    "    if count>20000:\n",
    "        print(i)#, fr[i], count)\n",
    "        count = 0\n",
    "\n",
    "[14,17,18, 19,20,21,23,27,29,31,34,36,39,45,60,80]"
   ]
  },
  {
   "cell_type": "code",
   "execution_count": 33,
   "id": "e067d1cd-1914-4e02-b720-b057794a9c39",
   "metadata": {
    "tags": []
   },
   "outputs": [],
   "source": [
    "data_dic = {}\n",
    "data_dic[\"Pred_y\"] = denorm_pred\n",
    "data_dic[\"Act_y\"]  = denorm_test\n",
    "data_dic[\"x\"]      = test_x_sorted\n",
    "data_dic[\"res\"]    = lst3\n",
    "with open(\"data/pickle/error_dist\", 'wb') as file:\n",
    "    pickle.dump(data_dic, file=file)"
   ]
  },
  {
   "cell_type": "code",
   "execution_count": null,
   "id": "b6144f27-d6aa-4403-8920-d0d46b6716aa",
   "metadata": {
    "tags": []
   },
   "outputs": [],
   "source": [
    "for name, size in sorted(((name, sys.getsizeof(value)) for name, value in locals().items()),\n",
    "                         key= lambda x: -x[1])[:10]:\n",
    "    print(\"{:>30}: {:>8}\".format(name, sizeof_fmt(size)))\n"
   ]
  },
  {
   "cell_type": "markdown",
   "id": "8799b104-ffcc-4713-9fc6-9bc3e483c99a",
   "metadata": {
    "tags": []
   },
   "source": [
    "## Ploting Figures"
   ]
  },
  {
   "cell_type": "code",
   "execution_count": null,
   "id": "0ea69035-36f6-4cc8-8ef6-4fee405d0c06",
   "metadata": {},
   "outputs": [],
   "source": [
    "plot_figs = True"
   ]
  },
  {
   "cell_type": "code",
   "execution_count": null,
   "id": "a0ef7797-38f7-4212-930b-b09ae4d6923c",
   "metadata": {
    "tags": []
   },
   "outputs": [],
   "source": [
    "if plot_figs:\n",
    "    plt.figure(facecolor='w')\n",
    "    plt.title(\"Validation Performance after each epoch - MAPE\")\n",
    "    plt.plot(history.history[\"mean_absolute_percentage_error\"], label=\"Average Error during Training\")\n",
    "    plt.axhline(perf[1], color='g', label=\"Average Error during Testing\")\n",
    "    plt.xlabel(\"Epoch (80% of total training data)\")\n",
    "    plt.ylabel(\"Average Percent Error (%)\")\n",
    "    plt.legend()\n",
    "    plt.savefig(\"plots/validation_performance_over_time_mape.png\", dpi=500)"
   ]
  },
  {
   "cell_type": "code",
   "execution_count": null,
   "id": "2e4cac73-1ed2-45ef-bbe5-63eb99cfef6a",
   "metadata": {
    "tags": []
   },
   "outputs": [],
   "source": [
    "if plot_figs:\n",
    "    fig, (ax0, ax1) = plt.subplots(1,2, figsize=(6*2,5), facecolor='w')\n",
    "    fig.suptitle(\"Performance of CNN after trainning to match NASA's NN June 1st to 26th 1995\")\n",
    "\n",
    "    ax0.plot(test_time_sorted, denorm_test, label=\"Neural Network(estimated)\",linewidth=2)\n",
    "    ax0.plot(test_time_sorted, denorm_pred, label=\"Convolutional Neural Network - MAPE\",linewidth=2)\n",
    "    ax0.set_title(\"Predicted vs Estimated Plasma Frequency\")\n",
    "    ax0.set_xlabel(\"Epoch Time (s)\")\n",
    "    ax0.set_ylabel(\"Plasma Frequency (kHz)\")\n",
    "    ax0.legend()\n",
    "\n",
    "    res = np.subtract(denorm(pred_y, max_y)[:,0],denorm(test_y_sorted, max_y))\n",
    "    ax1.axhline(0, color='black', linewidth=1, label=\"Reference Line\")\n",
    "    ax1.scatter(test_time_sorted, res, s=3, label=\"y_CNN - y_NN\")\n",
    "    denorm_test = denorm(test_y_sorted, max_y)\n",
    "    for i in range(len(res)):\n",
    "        if denorm_test[i] < 10:\n",
    "            ax1.scatter(test_time_sorted[i], res[i], s=3, color='r')\n",
    "\n",
    "    ax1.set_title(\"Difference between CNN and NN\")\n",
    "    ax1.set_xlabel(\"Epoch Time (s)\")\n",
    "    ax1.set_ylabel(\"Residuals\")\n",
    "    ax1.legend(loc='lower right')\n",
    "\n",
    "    fig.savefig(\"plots/performance_on_test_dataset_mape.png\", dpi=500)"
   ]
  },
  {
   "cell_type": "code",
   "execution_count": null,
   "id": "e88b069e-e680-44ba-92e1-d9bb7e1fb47b",
   "metadata": {
    "tags": []
   },
   "outputs": [],
   "source": [
    "if plot_figs:\n",
    "    def norm_dist(val, mean=np.mean(lst3), standard_dev=np.std(lst3)):\n",
    "        factor = 1/np.sqrt(2*np.pi*(standard_dev**2))\n",
    "        exp = np.exp(-(val - mean)**2/(2*(standard_dev**2)))\n",
    "        return factor*exp\n",
    "\n",
    "    x = [-2 + i*.1 for i in range(40)]\n",
    "    y = [norm_dist(v)*3000 for v in x]"
   ]
  },
  {
   "cell_type": "code",
   "execution_count": null,
   "id": "0714bdc2-7a4e-4801-8644-dd6fbe381107",
   "metadata": {
    "tags": []
   },
   "outputs": [],
   "source": [
    "if plot_figs:\n",
    "    fig, ax = plt.subplots(facecolor='w')\n",
    "    ax.hist(lst3, 2000, histtype='bar')\n",
    "    ax.set_xlim(-3,3)\n",
    "    ax.set_title(\"Histogram of residual distribution - MAPE\")\n",
    "    ax.set_xlabel(\"Residual (kHz)\")\n",
    "    ax.set_ylabel(\"Number of Occurences\")\n",
    "    ax.plot(x,y)\n",
    "    plt.savefig(\"plots/hist_mape.png\", dpi=500)"
   ]
  },
  {
   "cell_type": "code",
   "execution_count": null,
   "id": "0fc35e30-e6d1-4319-930d-27dccd681a33",
   "metadata": {
    "tags": []
   },
   "outputs": [],
   "source": [
    "# Finding all outliers with a frequency error greater than 5\n",
    "data_zip = list(filter(lambda x: abs(x[4])>10, zip(test_time_sorted, test_x_sorted, test_y_sorted, pred_y, res)))\n",
    "test_time_sorted_outliers, test_x_sorted_outliers, test_y_sorted_outliers, pred_y_outliers, res_outliers = list(zip(*data_zip))"
   ]
  },
  {
   "cell_type": "code",
   "execution_count": null,
   "id": "f3278528-e2b8-4411-866e-f26849015e8e",
   "metadata": {
    "tags": []
   },
   "outputs": [],
   "source": [
    "# data_zip2 = list(filter(lambda x: abs(x[4])<.00003, zip(test_time_sorted, test_x_sorted, test_y_sorted, pred_y, res)))\n",
    "# test_time_sorted_best, test_x_sorted_best, test_y_sorted_best, pred_y_best, res_best = list(zip(*data_zip2))"
   ]
  },
  {
   "cell_type": "code",
   "execution_count": null,
   "id": "5d2384be-5e55-40c2-b349-562fb1344611",
   "metadata": {
    "tags": []
   },
   "outputs": [],
   "source": [
    "if plot_figs:\n",
    "    n = len(res_outliers)\n",
    "    #plt.figure(figsize=(15, 4*n))\n",
    "    fig, ax = plt.subplots(nrows=n, figsize=(9, 3*n), facecolor='w', dpi=200)\n",
    "\n",
    "    for i in range(0, n):    \n",
    "        ax[i].set_ylabel(\"V^2/Hz\")\n",
    "        ax[i].set_xlabel(\"Frequency (kHz)\")\n",
    "        ax[i].xaxis.set_label_coords(.5, -.04)\n",
    "        ax[i].scatter(freq/1000, denorm(test_x_sorted_outliers[i], max_y), s=6,label='WIND data')\n",
    "        ax[i].plot(freq/1000, denorm(test_x_sorted_outliers[i], max_y), markersize=1,label='WIND data')\n",
    "\n",
    "        ax[i].axvline(x=denorm(pred_y_outliers, max_y)[i], color='r', label=\"CNN\")\n",
    "        ax[i].axvline(x=denorm(test_y_sorted_outliers, max_y)[i], color='g', label=\"NASA estimate\")\n",
    "        ax[i].set_xscale('log')\n",
    "        ax[i].set_yscale('log')\n",
    "        ax[i].set_ylim(1, 550)\n",
    "        ax[i].set_xlim(3.5, 275)\n",
    "        ax[i].set_aspect(.2)\n",
    "        ax[i].text(4, 300, f\"Plot #{i+1} - Residual: {np.round(res_outliers[i],2)}\")\n",
    "        ax[i].legend()\n",
    "\n",
    "    fig.suptitle(\"The plot of the spectra with CNN and NASA estimate for plasma frequency\", y=0.888)\n",
    "    plt.savefig(\"plots/outliers.png\", dpi=fig.dpi, bbox_inches='tight')\n"
   ]
  },
  {
   "cell_type": "code",
   "execution_count": null,
   "id": "6c89c338-31fc-41a0-84b9-42f8f332011e",
   "metadata": {
    "tags": []
   },
   "outputs": [],
   "source": [
    "if plot_figs:\n",
    "    plt.figure(facecolor='w',figsize=(5,5), dpi=500)\n",
    "    plt.scatter(denorm_pred, denorm_test, s=.1)\n",
    "    plt.xlabel(\"CNN Predicted Plasma Frequency\")\n",
    "    plt.ylabel(\"NASA's NN Predicted Plasma Frequency\")\n",
    "    plt.savefig(\"plots/plot_opposing_predictions.png\")"
   ]
  },
  {
   "cell_type": "code",
   "execution_count": null,
   "id": "f5be609c-a131-4da9-97cc-16ea8259c1b0",
   "metadata": {
    "tags": []
   },
   "outputs": [],
   "source": [
    "if plot_figs:\n",
    "    plt.figure(figsize=(8,8), facecolor='w')\n",
    "    plt.hist2d(denorm_pred, denorm_test, bins =[100, 100], density=True,cmap = plt.cm.Greys)\n",
    "    plt.colorbar()\n",
    "    plt.savefig(\"plots/2dhist3.png\")"
   ]
  },
  {
   "cell_type": "code",
   "execution_count": null,
   "id": "c88fcc32-724b-4f8e-99f6-7afa19ed750a",
   "metadata": {
    "tags": []
   },
   "outputs": [],
   "source": [
    "if plot_figs:\n",
    "    plt.figure(facecolor='w')\n",
    "\n",
    "    plt.title(\"Histogram of NASA's NN Plasma Frequency Predictions\")\n",
    "    plt.hist(denorm_test, bins=80)\n",
    "\n",
    "    plt.xlabel(\"Frequency (Hz)\")\n",
    "    plt.ylabel(\"Number of occurences\")\n",
    "    plt.savefig(\"plots/hist_nasa_nn_plasma_freq.png\")"
   ]
  },
  {
   "cell_type": "code",
   "execution_count": null,
   "id": "5aa38812-234e-494e-a1ae-4608b3dc2c60",
   "metadata": {
    "tags": []
   },
   "outputs": [],
   "source": [
    "if plot_figs:\n",
    "    plt.figure(facecolor='w')\n",
    "\n",
    "    plt.title(\"Histogram of CNN Plasma Frequency Predictions\")\n",
    "    plt.hist(denorm_pred, bins=80)\n",
    "\n",
    "    plt.xlabel(\"Frequency (Hz)\")\n",
    "    plt.ylabel(\"Number of occurences\")\n",
    "    plt.savefig(\"plots/hist_cnn_plasma_freq.png\")"
   ]
  },
  {
   "cell_type": "code",
   "execution_count": null,
   "id": "32b55838-b710-4a78-a930-8c4e3562f927",
   "metadata": {
    "tags": []
   },
   "outputs": [],
   "source": [
    "if plot_figs:\n",
    "    plt.figure(facecolor='w')\n",
    "    plt.scatter(denorm_test, lst3, s=1)\n",
    "    plt.axhline(0, color='r', linewidth=.5)\n",
    "    plt.xlabel(\"NASA Predicted Plasma Frequency (kHz)\")\n",
    "    plt.ylabel(\"Residuals (kHz)\")\n",
    "    plt.title(\"Comparing change in residuals for each respective plasma frequency\")\n",
    "    plt.savefig(\"plots/residual_and_nasa_plasma_freq\", dpi=500)\n",
    "    plt.show()"
   ]
  },
  {
   "cell_type": "code",
   "execution_count": null,
   "id": "0d5e1229-e351-4270-ad9d-f7e9ed54ce21",
   "metadata": {
    "tags": []
   },
   "outputs": [],
   "source": [
    "if plot_figs:\n",
    "    plt.figure(facecolor='w')\n",
    "    plt.hist2d(denorm_test, lst3, bins=[100,100])\n",
    "    plt.xlabel(\"NASA's NN Plasma Frequency (kHz)\")\n",
    "    plt.ylabel(\"Residuals\")\n",
    "    plt.colorbar()\n",
    "    plt.savefig(\"plots/resvsfp1.png\")"
   ]
  },
  {
   "cell_type": "markdown",
   "id": "e5101cd8-ce9a-4dfe-b9c6-116ff749e685",
   "metadata": {
    "tags": []
   },
   "source": [
    "## Conditional Probablity Distribution"
   ]
  },
  {
   "cell_type": "code",
   "execution_count": null,
   "id": "480966f6-d5b9-46be-b5f9-af1cc8641ca6",
   "metadata": {},
   "outputs": [],
   "source": [
    "plotCPDfig = False"
   ]
  },
  {
   "cell_type": "code",
   "execution_count": null,
   "id": "17ac99f4-c835-41a7-9e03-d7ab75b2ef62",
   "metadata": {},
   "outputs": [],
   "source": [
    "if plotCPDfig:\n",
    "    count = 0\n",
    "    diff = 1.5\n",
    "    int_denorm_test = np.array([int(f) for f in denorm_test])\n",
    "        \n",
    "    dist_error = np.array([[0,0] for _ in range(85)])\n",
    "\n",
    "    for fpe in range(85):\n",
    "        y_list = []\n",
    "        \n",
    "        for findex in np.where(int_denorm_test-fpe<.001)[0]:\n",
    "            f = denorm_test[findex]\n",
    "            indices = np.where(np.abs(denorm_pred-f)<diff)[0]\n",
    "            y_list.extend(np.add(denorm_pred[indices],-f))\n",
    "        \n",
    "        if y_list:\n",
    "            dist_error[fpe] = [np.mean(y_list), np.std(y_list)]\n",
    "\n",
    "        if count%1==0:\n",
    "            progress_bar(count/85)\n",
    "        count += 1"
   ]
  },
  {
   "cell_type": "code",
   "execution_count": null,
   "id": "d7115fc3-e224-4824-b194-c55b9b83c5db",
   "metadata": {},
   "outputs": [],
   "source": [
    "pd.DataFrame(int_denorm_test).describe()"
   ]
  },
  {
   "cell_type": "code",
   "execution_count": null,
   "id": "1c83b0c3-2b47-445f-a46a-908fce6597ad",
   "metadata": {},
   "outputs": [],
   "source": [
    "if plotCPDfig:\n",
    "    with open(\"data/pickle/error_dist\", 'rb') as file:\n",
    "        data_dic = pickle.load(file=file)\n",
    "\n",
    "    denorm_pred = np.array(data_dic[\"Pred_y\"])\n",
    "    denorm_test = np.array(data_dic[\"Act_y\"])\n",
    "\n",
    "    del(data_dic)\n",
    "    gc.collect()"
   ]
  },
  {
   "cell_type": "code",
   "execution_count": null,
   "id": "3d587487-483b-45da-9f90-8d769b2a7c59",
   "metadata": {},
   "outputs": [],
   "source": [
    "if plotCPDfig:\n",
    "\n",
    "    diff = 1.5\n",
    "    count = 0\n",
    "\n",
    "    hist2dlist = np.array([np.array([0 for _ in range(100)]) for _ in range(85)])\n",
    "\n",
    "    print(\"Started\")\n",
    "    for f in denorm_test:\n",
    "        indices = np.where(np.abs(denorm_pred-f)<diff)[0]\n",
    "        \n",
    "        x = int(f)\n",
    "        y_list = np.multiply(np.add(denorm_pred[indices],1.5-f), 100/3)\n",
    "\n",
    "        for y in y_list:\n",
    "            # count up the x and y coords \n",
    "            hist2dlist[x, int(y)] += 1\n",
    "            \n",
    "        if count%5000==0:\n",
    "            print(count)\n",
    "        count += 1\n",
    "    \n"
   ]
  },
  {
   "cell_type": "code",
   "execution_count": null,
   "id": "c2367f07-eb48-4bf1-8fc5-681bb26e38b6",
   "metadata": {
    "tags": []
   },
   "outputs": [],
   "source": [
    "if plotCPDfig:\n",
    "\n",
    "    cleanhist2dlist = hist2dlist[12:85]\n",
    "\n",
    "    group = 3\n",
    "    hist2dlist3 = []\n",
    "\n",
    "    for i in range(len(cleanhist2dlist)//group):\n",
    "        hist2dlist3.append(np.sum(cleanhist2dlist[group*i:group*i+group], axis=0))\n",
    "\n",
    "    hist2dlist4 = np.array(hist2dlist3)\n",
    "\n",
    "    # for i in range(int(len(hist2dlist4)/2),len(hist2dlist4),2):\n",
    "\n",
    "    #     blur = 2\n",
    "\n",
    "    #     if i+index>len(hist2dlist4):\n",
    "    #         break\n",
    "    #     sum_hist = hist2dlist4[i]\n",
    "    #     for index in range(1,blur):\n",
    "    #         sum_hist += hist2dlist4[i+index]\n",
    "    #     for index in range(blur):\n",
    "    #         hist2dlist3[i+index] = sum_hist\n",
    "    "
   ]
  },
  {
   "cell_type": "code",
   "execution_count": null,
   "id": "7e024098-83c9-469b-adb5-be57e5a6cff0",
   "metadata": {
    "tags": []
   },
   "outputs": [],
   "source": [
    "if plotCPDfig:\n",
    "\n",
    "    hist2dlist2 = [np.array(row[:]) for row in hist2dlist4]\n",
    "\n",
    "    # for i in range(len(hist2dlist2)):\n",
    "    #     if i>45 and False: # modify False/True if want to disable blur\n",
    "    #         blur = 5#int(i/20+1)\n",
    "    #         for j in range(len(hist2dlist2[i])):\n",
    "    #             section = 5#j//blur \n",
    "    #             #sum_section = sum(hist2dlist[i,section*blur:section*blur+blur])\n",
    "    #             try:\n",
    "    #                 hist2dlist2[i][j] = sum(hist2dlist[i,j:j+blur])\n",
    "    #             except IndexError:\n",
    "    #                 length = len(hist2dlist2[i])\n",
    "    #                 hist2dlist2[i][j] = sum(hist2dlist[i,length-blur:length])\n",
    "\n",
    "    for i in range(len(hist2dlist2)):\n",
    "        min_val = min(hist2dlist2[i])\n",
    "        range_val = max(*hist2dlist2[i], 1) - min(hist2dlist2[i])\n",
    "        hist2dlist2[i] = np.divide(np.subtract(hist2dlist2[i], min_val), range_val)"
   ]
  },
  {
   "cell_type": "code",
   "execution_count": null,
   "id": "135af0ce-40ee-4214-baa6-639842eca9fc",
   "metadata": {},
   "outputs": [],
   "source": [
    "if plotCPDfig:\n",
    "\n",
    "    fig, ax = plt.subplots(facecolor='w', figsize=(8,5))\n",
    "\n",
    "    colors = [\"#ffffff\",\"#0000ff\"]\n",
    "    cmap1 = matplotlib.colors.LinearSegmentedColormap.from_list(\"mycmap\", colors)\n",
    "\n",
    "    psm = ax.pcolormesh(np.transpose(hist2dlist2),cmap = cmap1)#, norm=matplotlib.colors.LogNorm())\n",
    "    #ax.set_xlim((12,85))\n",
    "\n",
    "    tickmarks = [-1.5,-1,-.5,0,.5,1]\n",
    "    ax.set_yticks(np.arange(0,100,100/len(tickmarks)))#[0,10,20,30,40,50,60,70,80,90])\n",
    "    ax.set_yticklabels(tickmarks)\n",
    "\n",
    "    tickmarks = np.round(np.array(list(range(1,24,5)))*3+12,1)\n",
    "    ax.set_xticks(np.arange(1,len(hist2dlist2),len(hist2dlist2)/len(tickmarks)))\n",
    "    ax.set_xticklabels(tickmarks)\n",
    "\n",
    "    fig.colorbar(psm)\n",
    "\n",
    "    ax.set_title(\"Conditional Probability Distribution for NASA's NN vs CNN Residuals\")\n",
    "    ax.set_xlabel(\"NASA's NN Plasma Frequency (kHz)\")\n",
    "    ax.set_ylabel(\"Residuals (kHz)\")\n",
    "\n",
    "    plt.savefig(\"plots/conditional_probability_distribution.png\")\n",
    "    plt.show()"
   ]
  },
  {
   "cell_type": "markdown",
   "id": "21a08609-2e12-4525-ad01-ce33af27e4ef",
   "metadata": {},
   "source": [
    "## Pickle Stuff"
   ]
  },
  {
   "cell_type": "code",
   "execution_count": null,
   "id": "382a51e3-d527-42f8-892e-bc23062e3ec4",
   "metadata": {
    "tags": []
   },
   "outputs": [],
   "source": [
    "# with open(\"data/pickle/conditional_probx\", 'rb') as file:\n",
    "#     x = pickle.load(file=file)\n",
    "    \n",
    "# with open(\"data/pickle/conditional_proby\", 'rb') as file:\n",
    "#     y = pickle.load(file=file)"
   ]
  },
  {
   "cell_type": "code",
   "execution_count": null,
   "id": "8a5dceb8-44ad-4deb-b14a-fa82d63a796a",
   "metadata": {},
   "outputs": [],
   "source": [
    "# with open(\"data/pickle/conditional_probx\", 'wb') as file:\n",
    "#     pickle.dump(x, file=file)\n",
    "# with open(\"data/pickle/conditional_proby\", 'wb') as file:\n",
    "#     pickle.dump(y, file=file)"
   ]
  }
 ],
 "metadata": {
  "kernelspec": {
   "display_name": "Python 3 (ipykernel)",
   "language": "python",
   "name": "python3"
  },
  "language_info": {
   "codemirror_mode": {
    "name": "ipython",
    "version": 3
   },
   "file_extension": ".py",
   "mimetype": "text/x-python",
   "name": "python",
   "nbconvert_exporter": "python",
   "pygments_lexer": "ipython3",
   "version": "3.10.5"
  }
 },
 "nbformat": 4,
 "nbformat_minor": 5
}
