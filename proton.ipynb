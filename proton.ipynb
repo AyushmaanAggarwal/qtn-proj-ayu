{
 "metadata": {
  "name": "",
  "signature": "sha256:205f3974784aa6ce15ee5c3bf145e63be3d3e3c395fb960cdc550f5e4b6f7dac"
 },
 "nbformat": 3,
 "nbformat_minor": 0,
 "worksheets": [
  {
   "cells": [
    {
     "cell_type": "code",
     "collapsed": false,
     "input": [
      "from qtn.bimax import BiMax\n",
      "from qtn.util import (boltzmann, emass, echarge, permittivity, cspeed, fperp, fp)\n",
      "import numpy as np\n",
      "import mpmath as mp\n",
      "import matplotlib.pyplot as plt\n",
      "%matplotlib inline"
     ],
     "language": "python",
     "metadata": {},
     "outputs": [],
     "prompt_number": 167
    },
    {
     "cell_type": "heading",
     "level": 3,
     "metadata": {},
     "source": [
      "WIND/WAVES June 19 1995:18:52:35.344"
     ]
    },
    {
     "cell_type": "code",
     "collapsed": false,
     "input": [
      "ant_len = 50      # m (monopole) \n",
      "ant_rad = 1.9e-4  # m\n",
      "base_cap = 20e-12 # Fara\n",
      "fbins = np.array([4000*2**((2*i+1)/32) for i in range(96)])"
     ],
     "language": "python",
     "metadata": {},
     "outputs": [],
     "prompt_number": 11
    },
    {
     "cell_type": "code",
     "collapsed": false,
     "input": [
      "vsw=7.61e5 #m/s\n",
      "tc = 11.53 #eV\n",
      "t = 5.57 \n",
      "n = 0.059 \n",
      "ne = 6.13 #cc\n",
      "tp=47.49  #eV\n",
      "fpe = 22.24e3  #Hz"
     ],
     "language": "python",
     "metadata": {},
     "outputs": [],
     "prompt_number": 16
    },
    {
     "cell_type": "code",
     "collapsed": false,
     "input": [
      "p = BiMax(ant_len, ant_rad, base_cap)"
     ],
     "language": "python",
     "metadata": {},
     "outputs": [],
     "prompt_number": 17
    },
    {
     "cell_type": "code",
     "collapsed": false,
     "input": [
      "proton_noise = np.array([p.proton(f, ne, n, t, tp, tc, vsw) for f in fbins])"
     ],
     "language": "python",
     "metadata": {},
     "outputs": [],
     "prompt_number": 18
    },
    {
     "cell_type": "code",
     "collapsed": false,
     "input": [
      "electron_noise = np.array([p.electron_noise(f, ne, n, t, tp, tc, vsw) for f in fbins])"
     ],
     "language": "python",
     "metadata": {},
     "outputs": [],
     "prompt_number": 27
    },
    {
     "cell_type": "code",
     "collapsed": false,
     "input": [
      "gain_shot = np.array([np.array(p.gain_shot(f, ne, n, t, tp, tc, vsw)) for f in fbins])"
     ],
     "language": "python",
     "metadata": {},
     "outputs": [],
     "prompt_number": 44
    },
    {
     "cell_type": "code",
     "collapsed": false,
     "input": [
      "gain = gain_shot[:,0]\n",
      "shot_noise = gain_shot[:, 1]"
     ],
     "language": "python",
     "metadata": {},
     "outputs": [],
     "prompt_number": 53
    },
    {
     "cell_type": "code",
     "collapsed": false,
     "input": [
      "from scipy.io.idl import readsav"
     ],
     "language": "python",
     "metadata": {},
     "outputs": [],
     "prompt_number": 30
    },
    {
     "cell_type": "code",
     "collapsed": false,
     "input": [
      "m_dat=readsav('/Users/tongyuguang/Google Drive/research/data/meudon_tnr/TNR_XY_ACE_19950619.sav')"
     ],
     "language": "python",
     "metadata": {},
     "outputs": [],
     "prompt_number": 54
    },
    {
     "cell_type": "code",
     "collapsed": false,
     "input": [
      "m_data=m_dat['data']\n",
      "mt = m_data['timeur8'][0]\n",
      "mtag = m_data['time'][0]"
     ],
     "language": "python",
     "metadata": {},
     "outputs": [],
     "prompt_number": 55
    },
    {
     "cell_type": "code",
     "collapsed": false,
     "input": [
      "mtag[15267]"
     ],
     "language": "python",
     "metadata": {},
     "outputs": [
      {
       "metadata": {},
       "output_type": "pyout",
       "prompt_number": 56,
       "text": [
        "b'19-JUN-1995, 18:52:32.400'"
       ]
      }
     ],
     "prompt_number": 56
    },
    {
     "cell_type": "code",
     "collapsed": false,
     "input": [
      "spec = m_data['spectra'][0][:, 15266]\n",
      "spec = 10. ** (spec/10.)"
     ],
     "language": "python",
     "metadata": {},
     "outputs": [],
     "prompt_number": 65
    },
    {
     "cell_type": "code",
     "collapsed": false,
     "input": [
      "plt.rc('text', usetex=False)\n",
      "plt.rc('font', family='serif')\n",
      "fig = plt.figure(figsize=[6, 6])\n",
      "plt.plot(fbins/1000, (electron_noise + proton_noise + shot_noise)/gain, label='theory')\n",
      "plt.plot(fbins/1000, spec, 'o', markersize=2, label='WIND data')\n",
      "plt.plot(fbins/1000, electron_noise/gain,'--', label='electron')\n",
      "plt.plot(fbins/1000, proton_noise/gain, '-.', label='proton')\n",
      "plt.plot(fbins/1000, shot_noise/gain, '--', label='shot')\n",
      "plt.xscale('log')\n",
      "plt.yscale('log')\n",
      "plt.xlim([4, 256])\n",
      "plt.ylim([1e-18, 1e-10])\n",
      "plt.xlabel(r'$f[kHz]$')\n",
      "plt.ylabel(r'$V_r^2[V^2Hz^{-1}]$')\n",
      "plt.title('19-JUN-1995, 18:52:32.400')\n",
      "plt.legend(loc='best')\n",
      "plt.show()"
     ],
     "language": "python",
     "metadata": {},
     "outputs": [
      {
       "metadata": {},
       "output_type": "display_data",
       "png": "[encoded data removed]",
       "text": [
        "<matplotlib.figure.Figure at 0x1131c9710>"
       ]
      }
     ],
     "prompt_number": 135
    },
    {
     "cell_type": "code",
     "collapsed": false,
     "input": [
      "fig.savefig('wind1.png', dpi=300)"
     ],
     "language": "python",
     "metadata": {},
     "outputs": [],
     "prompt_number": 136
    },
    {
     "cell_type": "heading",
     "level": 6,
     "metadata": {},
     "source": [
      "save data to file"
     ]
    },
    {
     "cell_type": "code",
     "collapsed": false,
     "input": [
      "np.savez('619_data', p_noise=proton_noise, e_noise = electron_noise, s_noise = shot_noise, gain = gain)"
     ],
     "language": "python",
     "metadata": {},
     "outputs": [],
     "prompt_number": 158
    },
    {
     "cell_type": "code",
     "collapsed": false,
     "input": [
      "c=np.load('619_data.npz')\n",
      "c.files"
     ],
     "language": "python",
     "metadata": {},
     "outputs": [
      {
       "metadata": {},
       "output_type": "pyout",
       "prompt_number": 159,
       "text": [
        "['s_noise', 'gain', 'p_noise', 'e_noise']"
       ]
      }
     ],
     "prompt_number": 159
    },
    {
     "cell_type": "heading",
     "level": 3,
     "metadata": {},
     "source": [
      "WIND/WAVES June 25 1995:06:33:06.432"
     ]
    },
    {
     "cell_type": "code",
     "collapsed": false,
     "input": [
      "ant_len = 50      # m (monopole) \n",
      "ant_rad = 1.9e-4  # m\n",
      "base_cap = 20e-12 # Fara\n",
      "fbins = np.array([4000*2**((2*i+1)/32) for i in range(96)])\n",
      "\n",
      "ne = 12.28\n",
      "vsw=3.966e5\n",
      "tc = 9.91\n",
      "tp = 9.62\n",
      "t = 6.57\n",
      "n = 0.026\n",
      "fpe = 31.47e3"
     ],
     "language": "python",
     "metadata": {},
     "outputs": [],
     "prompt_number": 178
    },
    {
     "cell_type": "code",
     "collapsed": false,
     "input": [
      "p = BiMax(ant_len, ant_rad, base_cap)"
     ],
     "language": "python",
     "metadata": {},
     "outputs": [],
     "prompt_number": 179
    },
    {
     "cell_type": "code",
     "collapsed": false,
     "input": [
      "proton_noise = np.array([p.proton(f, ne, n, t, tp, tc, vsw) for f in fbins])"
     ],
     "language": "python",
     "metadata": {},
     "outputs": [],
     "prompt_number": 180
    },
    {
     "cell_type": "code",
     "collapsed": false,
     "input": [
      "def helper(f, fpe):\n",
      "    \"\"\"\n",
      "    add precision control to bimax function.\n",
      "    \n",
      "    \"\"\"\n",
      "    if f > .99*fpe and f < 1.2*fpe:\n",
      "        mp.mp.dps = 40\n",
      "    else:\n",
      "        mp.mp.dps = 20\n",
      "    return p.electron_noise(f, ne, n, t, tp, tc, vsw)"
     ],
     "language": "python",
     "metadata": {},
     "outputs": [],
     "prompt_number": 182
    },
    {
     "cell_type": "code",
     "collapsed": false,
     "input": [
      "electron_noise = np.array([helper(f, fpe) for f in fbins])"
     ],
     "language": "python",
     "metadata": {},
     "outputs": [],
     "prompt_number": 183
    },
    {
     "cell_type": "code",
     "collapsed": false,
     "input": [
      "gain_shot = np.array([np.array(p.gain_shot(f, ne, n, t, tp, tc, vsw)) for f in fbins])"
     ],
     "language": "python",
     "metadata": {},
     "outputs": [],
     "prompt_number": 184
    },
    {
     "cell_type": "code",
     "collapsed": false,
     "input": [
      "gain = gain_shot[:,0]\n",
      "shot_noise = gain_shot[:, 1]"
     ],
     "language": "python",
     "metadata": {},
     "outputs": [],
     "prompt_number": 185
    },
    {
     "cell_type": "code",
     "collapsed": false,
     "input": [
      "m_dat=readsav('/Users/tongyuguang/Google Drive/research/data/meudon_tnr/TNR_XY_ACE_19950625.sav')\n",
      "m_data=m_dat['data']\n",
      "mt = m_data['timeur8'][0]\n",
      "mtag = m_data['time'][0]"
     ],
     "language": "python",
     "metadata": {},
     "outputs": [],
     "prompt_number": 186
    },
    {
     "cell_type": "code",
     "collapsed": false,
     "input": [
      "mtag[5223]"
     ],
     "language": "python",
     "metadata": {},
     "outputs": [
      {
       "metadata": {},
       "output_type": "pyout",
       "prompt_number": 191,
       "text": [
        "b'25-JUN-1995, 06:33:03.488'"
       ]
      }
     ],
     "prompt_number": 191
    },
    {
     "cell_type": "code",
     "collapsed": false,
     "input": [
      "spec = m_data['spectra'][0][:, 5223]\n",
      "spec = 10. ** (spec/10.)"
     ],
     "language": "python",
     "metadata": {},
     "outputs": [],
     "prompt_number": 192
    },
    {
     "cell_type": "code",
     "collapsed": false,
     "input": [
      "plt.rc('text', usetex=False)\n",
      "plt.rc('font', family='serif')\n",
      "fig = plt.figure(figsize=[6, 6])\n",
      "plt.plot(fbins/1000, (electron_noise + proton_noise + shot_noise)/gain, label='theory')\n",
      "plt.plot(fbins/1000, spec, 'o', markersize=2, label='WIND data')\n",
      "plt.plot(fbins/1000, electron_noise/gain,'--', label='electron')\n",
      "plt.plot(fbins/1000, proton_noise/gain, '-.', label='proton')\n",
      "plt.plot(fbins/1000, shot_noise/gain, '--', label='shot')\n",
      "plt.xscale('log')\n",
      "plt.yscale('log')\n",
      "plt.xlim([4, 256])\n",
      "plt.ylim([1e-18, 1e-10])\n",
      "plt.xlabel(r'$f[kHz]$')\n",
      "plt.ylabel(r'$V_r^2[V^2Hz^{-1}]$')\n",
      "plt.title('25-JUN-1995, 06:33:03.488')\n",
      "plt.legend(loc='best')\n",
      "plt.show()"
     ],
     "language": "python",
     "metadata": {},
     "outputs": [
      {
       "metadata": {},
       "output_type": "display_data",
       "png": "[encoded data removed]",
       "text": [
        "<matplotlib.figure.Figure at 0x119e73ef0>"
       ]
      }
     ],
     "prompt_number": 201
    },
    {
     "cell_type": "code",
     "collapsed": false,
     "input": [
      "fig.savefig('wind1.png', dpi=300)"
     ],
     "language": "python",
     "metadata": {},
     "outputs": [],
     "prompt_number": 203
    },
    {
     "cell_type": "heading",
     "level": 6,
     "metadata": {},
     "source": [
      "save data to file"
     ]
    },
    {
     "cell_type": "code",
     "collapsed": false,
     "input": [
      "np.savez('625_data', p_noise=proton_noise, e_noise = electron_noise, s_noise = shot_noise, gain = gain)"
     ],
     "language": "python",
     "metadata": {},
     "outputs": [],
     "prompt_number": 204
    },
    {
     "cell_type": "code",
     "collapsed": false,
     "input": [],
     "language": "python",
     "metadata": {},
     "outputs": []
    }
   ],
   "metadata": {}
  }
 ]
}