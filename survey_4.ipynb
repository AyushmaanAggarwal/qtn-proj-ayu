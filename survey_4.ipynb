{
 "metadata": {
  "name": "",
  "signature": "sha256:39eb0a2872c9642acce87ffb2549dc0e41f6c0fd3df5e0ce2e84875e68b3e243"
 },
 "nbformat": 3,
 "nbformat_minor": 0,
 "worksheets": [
  {
   "cells": [
    {
     "cell_type": "code",
     "collapsed": false,
     "input": [
      "from qtn.maxkappa import MaxKappa\n",
      "from qtn.util import (boltzmann, emass, echarge, permittivity, cspeed, fperp, fp, timing)\n",
      "import numpy as np\n",
      "import mpmath as mp\n",
      "import matplotlib.pyplot as plt\n",
      "from scipy.io.idl import readsav\n",
      "%matplotlib inline\n",
      "import os"
     ],
     "language": "python",
     "metadata": {},
     "outputs": [],
     "prompt_number": 1
    },
    {
     "cell_type": "code",
     "collapsed": false,
     "input": [
      "ant_len = 50      # m (monopole) \n",
      "ant_rad = 1.9e-4  # m\n",
      "base_cap = 20e-12 # Fara\n",
      "fbins = np.array([4000*2**((2*i+1)/32) for i in range(96)])"
     ],
     "language": "python",
     "metadata": {},
     "outputs": [],
     "prompt_number": 2
    },
    {
     "cell_type": "code",
     "collapsed": false,
     "input": [
      "home = os.path.expandvars('$HOME')\n",
      "wind_data = readsav(home + '/Google Drive/research/new_data/idlsave_param_electron_19970110.sav')\n",
      "m_dat=readsav(home + '/Google Drive/research/data/meudon_tnr/TNR_XY_ACE_19970110.sav')\n",
      "m_data=m_dat['data']\n",
      "mt = m_data['timeur8'][0]\n",
      "mtag = m_data['time'][0]\n",
      "quality = wind_data['quality']\n",
      "qualified = np.where(quality>0)[0]"
     ],
     "language": "python",
     "metadata": {},
     "outputs": [],
     "prompt_number": 3
    },
    {
     "cell_type": "code",
     "collapsed": false,
     "input": [
      "wind_data.keys()"
     ],
     "language": "python",
     "metadata": {},
     "outputs": [
      {
       "metadata": {},
       "output_type": "pyout",
       "prompt_number": 4,
       "text": [
        "dict_keys(['time', 'th', 'vsw', 'nc', 'kh', 'netnr', 'tc', 'tp', 'quality', 'time_in_string', 'nh'])"
       ]
      }
     ],
     "prompt_number": 4
    },
    {
     "cell_type": "code",
     "collapsed": false,
     "input": [
      "plt.plot(quality)\n",
      "plt.xlabel(\"index\")\n",
      "plt.ylabel(\"quality\")\n",
      "plt.title(\"no data on Jan-10-1997 pass the quality test\")\n",
      "plt.show()"
     ],
     "language": "python",
     "metadata": {},
     "outputs": [
      {
       "metadata": {},
       "output_type": "display_data",
       "png": "[encoded data removed]",
       "text": [
        "<matplotlib.figure.Figure at 0x10d410550>"
       ]
      }
     ],
     "prompt_number": 5
    },
    {
     "cell_type": "code",
     "collapsed": false,
     "input": [
      "@timing\n",
      "def sample(i, wind_data, mt, m_data):\n",
      "    tc = float(wind_data['tc'][i])\n",
      "    tp = float(wind_data['tp'][i])\n",
      "    th = float(wind_data['th'][i])\n",
      "#    ts = float(wind_data['ts'][i])\n",
      "    nc = float(wind_data['nc'][i])\n",
      "    nh = float(wind_data['nh'][i])\n",
      "#    ns = float(wind_data['ns'][i])\n",
      "    ## use halo + strahl\" as halo\n",
      "#    nh = nh + ns\n",
      "    netnr = float(wind_data['netnr'][i])\n",
      "    k = float(wind_data['kh'][i])\n",
      "#    ephi = wind_data['ephi'][i]\n",
      "    vsw = float(wind_data['vsw'][i]) * 1000\n",
      "    time = float(wind_data['time'][i])\n",
      "    time_string = wind_data['time_in_string'][i].decode(\"utf-8\").split('/')\n",
      "    time_string = time_string[0] + '-' + time_string[1]\n",
      "#    ne = nc + nh + ns\n",
      "    ne = nc + nh\n",
      "    n = nh/nc\n",
      "    t = th/tc\n",
      "    fpe = np.sqrt(echarge**2 * ne * 1e6 /emass/permittivity)/2/np.pi\n",
      "    day_3dp = round(float(wind_data['time'][0])/24/3600)\n",
      "    time_3dp = time/24/3600 - day_3dp\n",
      "    \n",
      "    # index of the closest spectrum\n",
      "    day_tnr = round(mt[0])\n",
      "    ind = np.abs(mt-day_tnr-time_3dp).argmin()\n",
      "    print(ind)\n",
      "    \n",
      "    # spectrum \n",
      "    spec = m_data['spectra'][0][:,ind]\n",
      "    spec = 10. ** (spec/10.)\n",
      "    \n",
      "    # texts in the plot\n",
      "    texts = \"{0}{1:.2e}\\n\".format(r'$V_{sw}=$',vsw) + \\\n",
      "    \"{0}{1:.2f}\\n\".format(r'$n_c=$',nc) + \\\n",
      "    \"{0}{1:.2f}\\n\".format(r'$n_h=$',nh) + \\\n",
      "    \"{0}{1:.2f}\\n\".format(r'$nn=$',netnr) + \\\n",
      "    \"{0}{1:.2f}\\n\".format(r'$T_c=$',tc) + \\\n",
      "    \"{0}{1:.2f}\\n\".format(r'$T_h=$',th) + \\\n",
      "    \"{0}{1:.2f}\\n\".format(r'$T_p=$',tp) + \\\n",
      "    \"{0}{1:.2f}\".format(r'$\\kappa=$',k)\n",
      "    \n",
      "    p = MaxKappa(ant_len, ant_rad, base_cap)\n",
      "    za_zr = np.array([np.array(p.impedance(f, ne, n, t, tp, tc, k, vsw)) for f in fbins])\n",
      "    za = za_zr[:, 0]\n",
      "    zr = za_zr[:, 1]\n",
      "    gain = np.abs((za+zr)/zr)**2\n",
      "\n",
      "    def helper(f):\n",
      "        \"\"\"\n",
      "        control precision when calculating electron noise.\n",
      "        \"\"\"\n",
      "        if f < fpe or f > 1.2 * fpe:\n",
      "            mp.mp.dps = 20\n",
      "        else:\n",
      "            mp.mp.dps = 40\n",
      "        val = p.electron_noise(f, ne, n, t, tp, tc, k, vsw)\n",
      "        mp.mp.dps= 15\n",
      "        return val\n",
      "\n",
      "    e_noise = np.array([helper(f) for f in fbins])\n",
      "    p_noise = np.array([p.proton(f, ne, n, t, tp, tc, k, vsw) for f in fbins])\n",
      "    \n",
      "    def shot(za, ephi):\n",
      "        \"\"\"\n",
      "        \n",
      "        \"\"\"\n",
      "        _vtc = np.sqrt(2 * echarge * tc/emass)\n",
      "        _nc = nc * 1e6\n",
      "        _ne = _nc * _vtc * (1 + n * mp.sqrt(t)) * 2 * np.pi * ant_rad * ant_len / np.sqrt(4 * np.pi)\n",
      "        A = 1 + ephi/tc\n",
      "        return 2 * A * echarge**2 * np.abs(za)**2 * _ne \n",
      "\n",
      "    s_noise = np.array([shot(_za, 0) for _za in za])\n",
      "    \n",
      "    # making the plot\n",
      "    plt.rc('text', usetex=False)\n",
      "    plt.rc('font', family='serif')\n",
      "    fig = plt.figure(figsize=[6, 6])\n",
      "    plt.plot(fbins/1000, (e_noise + p_noise + s_noise)/gain, label='3DP + theory')\n",
      "    plt.plot(fbins/1000, spec, 'o', markersize=2, label='TNR')\n",
      "    plt.plot(fbins/1000, e_noise/gain,'--', label='electron')\n",
      "    plt.plot(fbins/1000, p_noise/gain, '-.', label='proton')\n",
      "    plt.plot(fbins/1000, s_noise/gain, '--', label='shot')\n",
      "    plt.xscale('log')\n",
      "    plt.yscale('log')\n",
      "    plt.xlim([4, 256])\n",
      "    plt.ylim([1e-18, 1e-10])\n",
      "    plt.xlabel(r'$f[kHz]$')\n",
      "    plt.ylabel(r'$V_r^2[V^2Hz^{-1}]$')\n",
      "    plt.title(time_string)\n",
      "    plt.legend(loc='best')\n",
      "    plt.annotate(texts, xy=(0.05, 0.05), xycoords='axes fraction', fontsize=10)\n",
      "    plt.show()\n",
      "    # save the figure\n",
      "    fig.savefig('survey/survey_plot/wind' + '-' + time_string +'.png', dpi=300)\n",
      "    # save calculation result\n",
      "    np.savez('survey/survey_data/wind' + '-' + time_string, \n",
      "             p_noise=p_noise, e_noise = e_noise, \n",
      "             s_noise = s_noise, gain = gain, za = za, zr= zr)"
     ],
     "language": "python",
     "metadata": {},
     "outputs": [],
     "prompt_number": 6
    },
    {
     "cell_type": "code",
     "collapsed": false,
     "input": [
      "def sample_helper(index):\n",
      "    return sample(index, wind_data, mt, m_data)"
     ],
     "language": "python",
     "metadata": {},
     "outputs": [],
     "prompt_number": 7
    },
    {
     "cell_type": "heading",
     "level": 3,
     "metadata": {},
     "source": [
      "select samples"
     ]
    },
    {
     "cell_type": "code",
     "collapsed": false,
     "input": [
      "plt.plot(wind_data['tc'])\n",
      "plt.show()"
     ],
     "language": "python",
     "metadata": {},
     "outputs": [
      {
       "metadata": {},
       "output_type": "display_data",
       "png": "[encoded data removed]",
       "text": [
        "<matplotlib.figure.Figure at 0x10d410438>"
       ]
      }
     ],
     "prompt_number": 8
    },
    {
     "cell_type": "code",
     "collapsed": false,
     "input": [
      "num_samples = wind_data['tc'].size\n",
      "print(num_samples)"
     ],
     "language": "python",
     "metadata": {},
     "outputs": [
      {
       "output_type": "stream",
       "stream": "stdout",
       "text": [
        "601\n"
       ]
      }
     ],
     "prompt_number": 9
    },
    {
     "cell_type": "code",
     "collapsed": false,
     "input": [
      "#sample_index = [10, 100, 200, 300, 400, 500, 550, 600]\n",
      "sample_index = [400, 500, 550, 600]\n",
      "wind_data['tc'][sample_index]"
     ],
     "language": "python",
     "metadata": {},
     "outputs": [
      {
       "metadata": {},
       "output_type": "pyout",
       "prompt_number": 10,
       "text": [
        "array([ 3.40580177,  0.78730959,  2.18974066,  1.69825554], dtype=float32)"
       ]
      }
     ],
     "prompt_number": 10
    },
    {
     "cell_type": "heading",
     "level": 3,
     "metadata": {},
     "source": [
      "multithreading version for some speedup"
     ]
    },
    {
     "cell_type": "code",
     "collapsed": false,
     "input": [
      "from multiprocessing import Pool\n",
      "pool = Pool()\n",
      "pool.map(sample_helper, sample_index)\n",
      "pool.close()\n",
      "pool.join()"
     ],
     "language": "python",
     "metadata": {},
     "outputs": [
      {
       "output_type": "stream",
       "stream": "stdout",
       "text": [
        "38611\n",
        "25314\n",
        "34478\n",
        "30631\n",
        "%s function took %0.3f ms sample 797966.6609764099\n",
        "%s function took %0.3f ms sample 895752.4499893188\n",
        "%s function took %0.3f ms sample 815694.5509910583\n",
        "%s function took %0.3f ms sample 757824.6049880981\n"
       ]
      }
     ],
     "prompt_number": 11
    },
    {
     "cell_type": "code",
     "collapsed": false,
     "input": [],
     "language": "python",
     "metadata": {},
     "outputs": []
    }
   ],
   "metadata": {}
  }
 ]
}