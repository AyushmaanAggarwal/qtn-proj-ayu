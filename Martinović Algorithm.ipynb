{
 "cells": [
  {
   "cell_type": "markdown",
   "id": "efff2bb0",
   "metadata": {},
   "source": [
    "# IN PROGRESS"
   ]
  },
  {
   "cell_type": "code",
   "execution_count": 7,
   "id": "14addf38-41eb-4a8d-b472-68da039514b4",
   "metadata": {},
   "outputs": [],
   "source": [
    "import numpy as np"
   ]
  },
  {
   "cell_type": "markdown",
   "id": "9521679e-27b6-481f-bec4-f9b93f97d23c",
   "metadata": {
    "tags": []
   },
   "source": [
    "### Martinović Peak Finding Algorithm\n",
    "Credit goes to:\n",
    "\n",
    "**Author:** Martinović and others\n",
    "\n",
    "**Paper:** Solar Wind Electron Parameters Determination on Wind Spacecraft Using Quasi‐Thermal Noise Spectroscopy"
   ]
  },
  {
   "cell_type": "code",
   "execution_count": 4,
   "id": "d218f8d6-0035-4d41-9272-9f6cc72fb901",
   "metadata": {},
   "outputs": [],
   "source": [
    "def maxima_tnr_mart(spectra):\n",
    "    \"\"\"\n",
    "    For each measured QTN spectrum, we apply a simple peak \n",
    "    tracking algorithm; for a given spectrum, we find up to \n",
    "    five local maxima\n",
    "    \n",
    "    For a given index check that the previous and next 4 values are lower\n",
    "    and the value two below the index is .2db lower\n",
    "    \"\"\"\n",
    "    maxima = []\n",
    "    for i in range(len(spectra) - 6):\n",
    "        if isDecreasing(spectra[i+2:i+6]):\n",
    "            if spectra[i+2] > spectra[i+1] and spectra[i+2] > spectra[i] + .2:\n",
    "                maxima.append(i+2)\n",
    "    return maxima\n",
    "    \n",
    "        \n",
    "def isDecreasing(lst):\n",
    "    \"\"\"\n",
    "    Check if list is decreasing\n",
    "    \"\"\"\n",
    "    for i in range(len(lst)):\n",
    "        if (lst[i+1] > lst[i]):\n",
    "            return False\n",
    "    return True\n",
    "\n",
    "def get_ne_from_maxima_mart(index, ne_lst):\n",
    "    \"\"\"\n",
    "    Return the 5 possible values of ne for each index in the ne_list\n",
    "    \"\"\"\n",
    "    ne_possibilities = []\n",
    "    for i in index:\n",
    "        lowerBound = ne_lst[i-1]\n",
    "        upperBound = 1.04*lowerBound\n",
    "        ne_possibilities.extend(np.linspace(lowerBound, upperBound, 5))\n",
    "    return ne_possibilities\n",
    "\n",
    "def get_qtn_qf_mart()"
   ]
  },
  {
   "cell_type": "code",
   "execution_count": null,
   "id": "981833d3-74fc-4f0c-8ba6-3684d8b39e0d",
   "metadata": {},
   "outputs": [],
   "source": []
  }
 ],
 "metadata": {
  "kernelspec": {
   "display_name": "Python 3 (ipykernel)",
   "language": "python",
   "name": "python3"
  },
  "language_info": {
   "codemirror_mode": {
    "name": "ipython",
    "version": 3
   },
   "file_extension": ".py",
   "mimetype": "text/x-python",
   "name": "python",
   "nbconvert_exporter": "python",
   "pygments_lexer": "ipython3",
   "version": "3.10.9 (main, Dec 19 2022, 17:35:49) [GCC 12.2.0]"
  },
  "vscode": {
   "interpreter": {
    "hash": "767d51c1340bd893661ea55ea3124f6de3c7a262a8b4abca0554b478b1e2ff90"
   }
  }
 },
 "nbformat": 4,
 "nbformat_minor": 5
}
