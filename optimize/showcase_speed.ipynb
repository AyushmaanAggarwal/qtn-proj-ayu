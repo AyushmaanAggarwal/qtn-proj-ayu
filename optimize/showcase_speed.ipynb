{
 "cells": [
  {
   "cell_type": "code",
   "execution_count": 2,
   "metadata": {
    "collapsed": false
   },
   "outputs": [],
   "source": [
    "from qtn.bimax import BiMax\n",
    "from qtn.bimax_fp import BiMax_fp\n",
    "from qtn.bimax_sp import BiMax_sp\n",
    "from qtn.bimax_util import do_cprofile\n",
    "import numpy as np\n",
    "from sympy.mpmath import mp, fp\n",
    "import matplotlib.pyplot as plt\n",
    "%matplotlib inline"
   ]
  },
  {
   "cell_type": "code",
   "execution_count": 3,
   "metadata": {
    "collapsed": false
   },
   "outputs": [
    {
     "name": "stdout",
     "output_type": "stream",
     "text": [
      "3.8e-06\n"
     ]
    }
   ],
   "source": [
    "ant_len = 50      # m (monopole) \n",
    "ant_rad = 1.9e-4  # m\n",
    "base_cap = 20e-12 # Farad\n",
    "al_ratio = ant_rad / ant_len\n",
    "print(al_ratio)"
   ]
  },
  {
   "cell_type": "code",
   "execution_count": 4,
   "metadata": {
    "collapsed": false
   },
   "outputs": [],
   "source": [
    "p1 = BiMax(ant_len, ant_rad, base_cap)\n",
    "p2 = BiMax_fp(ant_len, ant_rad, base_cap)\n",
    "p3 = BiMax_sp(ant_len, ant_rad, base_cap)"
   ]
  },
  {
   "cell_type": "code",
   "execution_count": 5,
   "metadata": {
    "collapsed": false
   },
   "outputs": [],
   "source": [
    "@do_cprofile\n",
    "def pw_1(wc, l, n, t, tc):\n",
    "    mp.dps = 20\n",
    "    result = p1.za_l(wc, l, n, t, tc)\n",
    "    mp.dps = 15\n",
    "    return result\n",
    "\n",
    "@do_cprofile\n",
    "def pw_2(wc, l, n, t, tc):\n",
    "    return p2.za_l(wc, l, n, t, tc)\n",
    "\n",
    "@do_cprofile\n",
    "def pw_3(wc, l, n, t, tc):\n",
    "    return p3.za_l_sp(wc, l, n, t, tc)"
   ]
  },
  {
   "cell_type": "code",
   "execution_count": 6,
   "metadata": {
    "collapsed": true
   },
   "outputs": [],
   "source": [
    "z, wrel, l, n, t , tc= 5, 0.8, 4, 0.1, 10, 1\n",
    "wc = wrel * np.sqrt(1 + n)"
   ]
  },
  {
   "cell_type": "code",
   "execution_count": 11,
   "metadata": {
    "collapsed": false
   },
   "outputs": [],
   "source": [
    "# pw_1(wc, l, n, t, tc)"
   ]
  },
  {
   "cell_type": "code",
   "execution_count": 12,
   "metadata": {
    "collapsed": false
   },
   "outputs": [],
   "source": [
    "# pw_2(wc, l, n, t, tc)"
   ]
  },
  {
   "cell_type": "code",
   "execution_count": 7,
   "metadata": {
    "collapsed": false
   },
   "outputs": [],
   "source": [
    "# pw_3(wc, l, n, t, tc)"
   ]
  },
  {
   "cell_type": "code",
   "execution_count": 8,
   "metadata": {
    "collapsed": true
   },
   "outputs": [],
   "source": [
    "wrel_arr = np.array([0.1, 0.5, 0.6, 0.7, 0.8, 0.9, 0.95, 1.01, 1.03, \\\n",
    "                         1.05, 1.08, 1.1, 1.2, 1.3, 1.5, \\\n",
    "                         1.7, 2.0, 2.3, 2.6, 3.0, 4, 6])"
   ]
  },
  {
   "cell_type": "code",
   "execution_count": 9,
   "metadata": {
    "collapsed": false
   },
   "outputs": [],
   "source": [
    "@do_cprofile\n",
    "def pw_3(wrel, l, n, t , tc):\n",
    "\n",
    "    return np.array([p3.bimax_sp(wrel, l, n, t, tc) for wrel in wrel_arr])\n",
    "\n",
    "def gain(wrel, l, n, t, tc):\n",
    "    \n",
    "    return np.array([p3.gamma_sp(wrel, l, n, t, tc) for wrel in wrel_arr])"
   ]
  },
  {
   "cell_type": "code",
   "execution_count": 12,
   "metadata": {
    "collapsed": false
   },
   "outputs": [
    {
     "name": "stdout",
     "output_type": "stream",
     "text": [
      "guess =  10.5327391412\n",
      "z0 =  10.9324231764 d_l.real =  -5.77315972805e-15\n",
      "dl_imag =  4.40856010958e-05\n",
      "guess =  6.29306782692\n",
      "z0 =  6.84059832587 d_l.real =  3.77475828373e-15\n",
      "dl_imag =  0.0149542685711\n",
      "direct evaluating integral when peak is small\n",
      "guess =  3.57109149126\n",
      "z0 =  3.85663283163 d_l.real =  -1.62092561595e-14\n",
      "dl_imag =  0.0628203965767\n",
      "direct evaluating integral when peak is small\n",
      "guess =  3.16418288032\n",
      "z0 =  3.15045799779 d_l.real =  -1.55431223448e-15\n",
      "dl_imag =  0.0574676068756\n",
      "direct evaluating integral when peak is small\n",
      "guess =  2.99182828827\n",
      "z0 =  2.94008636534 d_l.real =  4.88498130835e-15\n",
      "dl_imag =  0.0597275645749\n",
      "direct evaluating integral when peak is small\n",
      "guess =  2.58798908421\n",
      "z0 =  2.33362976981 d_l.real =  1.88737914186e-15\n",
      "dl_imag =  0.155873358241\n",
      "direct evaluating integral when peak is small\n",
      "         87098 function calls in 0.303 seconds\n",
      "\n",
      "   Ordered by: internal time\n",
      "   List reduced from 117 to 50 due to restriction <50>\n",
      "\n",
      "   ncalls  tottime  percall  cumtime  percall filename:lineno(function)\n",
      "    10674    0.082    0.000    0.287    0.000 bimax_sp.py:29(bimax_integrand_sp)\n",
      "    10675    0.074    0.000    0.074    0.000 bimax_util.py:90(f1_sp)\n",
      "    10741    0.054    0.000    0.132    0.000 bimax_util.py:144(d_l_sp)\n",
      "    21484    0.043    0.000    0.078    0.000 bimax_util.py:71(zpd_sp)\n",
      "    21488    0.035    0.000    0.035    0.000 bimax_util.py:51(zp_sp)\n",
      "       22    0.005    0.000    0.221    0.010 {built-in method _qagie}\n",
      "     6960    0.003    0.000    0.192    0.000 bimax_sp.py:103(<lambda>)\n",
      "        6    0.002    0.000    0.078    0.013 {built-in method _qagse}\n",
      "     2037    0.001    0.000    0.055    0.000 bimax_sp.py:134(<lambda>)\n",
      "      777    0.000    0.000    0.021    0.000 bimax_sp.py:147(<lambda>)\n",
      "      705    0.000    0.000    0.019    0.000 bimax_sp.py:135(<lambda>)\n",
      "       22    0.000    0.000    0.303    0.014 bimax_sp.py:80(bimax_sp)\n",
      "      106    0.000    0.000    0.001    0.000 iostream.py:207(write)\n",
      "        6    0.000    0.000    0.002    0.000 minpack.py:151(_root_hybr)\n",
      "       23    0.000    0.000    0.001    0.000 {built-in method print}\n",
      "        6    0.000    0.000    0.001    0.000 {built-in method _hybrd}\n",
      "       28    0.000    0.000    0.299    0.011 quadpack.py:42(quad)\n",
      "        1    0.000    0.000    0.303    0.303 <ipython-input-9-f134b3fe0c88>:4(<listcomp>)\n",
      "        6    0.000    0.000    0.003    0.001 bimax_sp.py:53(peak_sp)\n",
      "      195    0.000    0.000    0.005    0.000 bimax_sp.py:148(<lambda>)\n",
      "       28    0.000    0.000    0.299    0.011 quadpack.py:358(_quad)\n",
      "        6    0.000    0.000    0.000    0.000 minpack.py:18(_check_func)\n",
      "        6    0.000    0.000    0.002    0.000 minpack.py:41(fsolve)\n",
      "      107    0.000    0.000    0.000    0.000 iostream.py:102(_check_mp_mode)\n",
      "      108    0.000    0.000    0.000    0.000 iostream.py:93(_is_master_process)\n",
      "      167    0.000    0.000    0.000    0.000 {built-in method isinstance}\n",
      "       54    0.000    0.000    0.001    0.000 bimax_sp.py:73(<lambda>)\n",
      "       13    0.000    0.000    0.000    0.000 {built-in method array}\n",
      "        6    0.000    0.000    0.000    0.000 {method 'flatten' of 'numpy.ndarray' objects}\n",
      "        6    0.000    0.000    0.000    0.000 shape_base.py:8(atleast_1d)\n",
      "        4    0.000    0.000    0.000    0.000 encoder.py:197(iterencode)\n",
      "        6    0.000    0.000    0.000    0.000 bimax_util.py:196(z_b)\n",
      "       26    0.000    0.000    0.000    0.000 {method 'sub' of '_sre.SRE_Pattern' objects}\n",
      "        7    0.000    0.000    0.000    0.000 {method 'send' of 'zmq.backend.cython.socket.Socket' objects}\n",
      "      106    0.000    0.000    0.000    0.000 {method 'write' of '_io.StringIO' objects}\n",
      "        7    0.000    0.000    0.000    0.000 {method 'get' of 'dict' objects}\n",
      "        6    0.000    0.000    0.000    0.000 numerictypes.py:736(issubdtype)\n",
      "      106    0.000    0.000    0.000    0.000 {built-in method time}\n",
      "        1    0.000    0.000    0.000    0.000 {zmq.backend.cython._poll.zmq_poll}\n",
      "        1    0.000    0.000    0.000    0.000 session.py:600(send)\n",
      "        1    0.000    0.000    0.000    0.000 socket.py:289(send_multipart)\n",
      "       26    0.000    0.000    0.000    0.000 encoder.py:33(encode_basestring)\n",
      "        6    0.000    0.000    0.000    0.000 numeric.py:394(asarray)\n",
      "        4    0.000    0.000    0.000    0.000 encoder.py:175(encode)\n",
      "      109    0.000    0.000    0.000    0.000 {built-in method getpid}\n",
      "        4    0.000    0.000    0.000    0.000 __init__.py:182(dumps)\n",
      "        6    0.000    0.000    0.000    0.000 getlimits.py:93(__new__)\n",
      "        1    0.000    0.000    0.000    0.000 iostream.py:151(flush)\n",
      "        4    0.000    0.000    0.000    0.000 jsonapi.py:31(dumps)\n",
      "        1    0.000    0.000    0.000    0.000 uuid.py:104(__init__)\n",
      "\n",
      "\n",
      "guess =  10.5327391412\n",
      "z0 =  10.9324231764 d_l.real =  -5.77315972805e-15\n",
      "dl_imag =  4.40856010958e-05\n",
      "guess =  6.29306782692\n",
      "z0 =  6.84059832587 d_l.real =  3.77475828373e-15\n",
      "dl_imag =  0.0149542685711\n",
      "direct evaluating integral when peak is small\n",
      "guess =  3.57109149126\n",
      "z0 =  3.85663283163 d_l.real =  -1.62092561595e-14\n",
      "dl_imag =  0.0628203965767\n",
      "direct evaluating integral when peak is small\n",
      "guess =  3.16418288032\n",
      "z0 =  3.15045799779 d_l.real =  -1.55431223448e-15\n",
      "dl_imag =  0.0574676068756\n",
      "direct evaluating integral when peak is small\n",
      "guess =  2.99182828827\n",
      "z0 =  2.94008636534 d_l.real =  4.88498130835e-15\n",
      "dl_imag =  0.0597275645749\n",
      "direct evaluating integral when peak is small\n",
      "guess =  2.58798908421\n",
      "z0 =  2.33362976981 d_l.real =  1.88737914186e-15\n",
      "dl_imag =  0.155873358241\n",
      "direct evaluating integral when peak is small\n"
     ]
    }
   ],
   "source": [
    "wrel, l, n, t , tc= 0.8, 6, 0.05, 10, 1e5\n",
    "wc = wrel * np.sqrt(1 + n)\n",
    "\n",
    "v2e_arr_1 = pw_3(wrel, l, n, t , tc)\n",
    "gain_arr_1 = gain(wrel, l, n, t, tc)"
   ]
  },
  {
   "cell_type": "code",
   "execution_count": 10,
   "metadata": {
    "collapsed": false
   },
   "outputs": [
    {
     "name": "stdout",
     "output_type": "stream",
     "text": [
      "guess =  11.3766585364\n",
      "z0 =  11.8121702645 d_l.real =  2.38697950294e-14\n",
      "dl_imag =  1.16955589632e-05\n",
      "guess =  6.79729013062\n",
      "z0 =  7.63067060461 d_l.real =  1.50990331349e-14\n",
      "dl_imag =  0.0102923024541\n",
      "direct evaluating integral when peak is small\n",
      "guess =  3.33943224735\n",
      "z0 =  3.51939947213 d_l.real =  -4.66293670343e-15\n",
      "dl_imag =  0.0956842466837\n",
      "direct evaluating integral when peak is small\n",
      "guess =  3.02740753589\n",
      "z0 =  2.98768692431 d_l.real =  1.99840144433e-15\n",
      "dl_imag =  0.0877319975666\n",
      "direct evaluating integral when peak is small\n",
      "guess =  2.8895291343\n",
      "z0 =  2.80982654687 d_l.real =  -4.4408920985e-16\n",
      "dl_imag =  0.0915457667914\n",
      "direct evaluating integral when peak is small\n",
      "guess =  2.55627250242\n",
      "z0 =  2.22020465435 d_l.real =  -8.881784197e-16\n",
      "dl_imag =  0.218944454032\n",
      "direct evaluating integral when peak is small\n",
      "         93254 function calls in 0.328 seconds\n",
      "\n",
      "   Ordered by: internal time\n",
      "   List reduced from 117 to 50 due to restriction <50>\n",
      "\n",
      "   ncalls  tottime  percall  cumtime  percall filename:lineno(function)\n",
      "    11442    0.089    0.000    0.310    0.000 bimax_sp.py:29(bimax_integrand_sp)\n",
      "    11443    0.079    0.000    0.079    0.000 bimax_util.py:90(f1_sp)\n",
      "    11511    0.057    0.000    0.144    0.000 bimax_util.py:144(d_l_sp)\n",
      "    23024    0.048    0.000    0.086    0.000 bimax_util.py:71(zpd_sp)\n",
      "    23028    0.038    0.000    0.038    0.000 bimax_util.py:51(zp_sp)\n",
      "       22    0.005    0.000    0.239    0.011 {built-in method _qagie}\n",
      "     7620    0.004    0.000    0.204    0.000 bimax_sp.py:103(<lambda>)\n",
      "        6    0.002    0.000    0.085    0.014 {built-in method _qagse}\n",
      "     2079    0.001    0.000    0.061    0.000 bimax_sp.py:134(<lambda>)\n",
      "      693    0.001    0.000    0.022    0.000 bimax_sp.py:147(<lambda>)\n",
      "      825    0.000    0.000    0.023    0.000 bimax_sp.py:135(<lambda>)\n",
      "       22    0.000    0.000    0.328    0.015 bimax_sp.py:80(bimax_sp)\n",
      "        6    0.000    0.000    0.002    0.000 minpack.py:151(_root_hybr)\n",
      "      106    0.000    0.000    0.001    0.000 iostream.py:207(write)\n",
      "       23    0.000    0.000    0.001    0.000 {built-in method print}\n",
      "        6    0.000    0.000    0.001    0.000 {built-in method _hybrd}\n",
      "      225    0.000    0.000    0.006    0.000 bimax_sp.py:148(<lambda>)\n",
      "       28    0.000    0.000    0.324    0.012 quadpack.py:42(quad)\n",
      "        6    0.000    0.000    0.003    0.001 bimax_sp.py:53(peak_sp)\n",
      "        1    0.000    0.000    0.328    0.328 <ipython-input-9-f134b3fe0c88>:4(<listcomp>)\n",
      "       28    0.000    0.000    0.324    0.012 quadpack.py:358(_quad)\n",
      "        6    0.000    0.000    0.002    0.000 minpack.py:41(fsolve)\n",
      "        6    0.000    0.000    0.000    0.000 minpack.py:18(_check_func)\n",
      "      108    0.000    0.000    0.000    0.000 iostream.py:93(_is_master_process)\n",
      "       56    0.000    0.000    0.001    0.000 bimax_sp.py:73(<lambda>)\n",
      "      107    0.000    0.000    0.000    0.000 iostream.py:102(_check_mp_mode)\n",
      "       13    0.000    0.000    0.000    0.000 {built-in method array}\n",
      "      167    0.000    0.000    0.000    0.000 {built-in method isinstance}\n",
      "        4    0.000    0.000    0.000    0.000 encoder.py:197(iterencode)\n",
      "        6    0.000    0.000    0.000    0.000 shape_base.py:8(atleast_1d)\n",
      "        7    0.000    0.000    0.000    0.000 {method 'send' of 'zmq.backend.cython.socket.Socket' objects}\n",
      "        6    0.000    0.000    0.000    0.000 bimax_util.py:196(z_b)\n",
      "       26    0.000    0.000    0.000    0.000 encoder.py:33(encode_basestring)\n",
      "       26    0.000    0.000    0.000    0.000 {method 'sub' of '_sre.SRE_Pattern' objects}\n",
      "        6    0.000    0.000    0.000    0.000 {method 'flatten' of 'numpy.ndarray' objects}\n",
      "      106    0.000    0.000    0.000    0.000 {method 'write' of '_io.StringIO' objects}\n",
      "        7    0.000    0.000    0.000    0.000 {method 'get' of 'dict' objects}\n",
      "        1    0.000    0.000    0.000    0.000 session.py:600(send)\n",
      "      109    0.000    0.000    0.000    0.000 {built-in method getpid}\n",
      "        6    0.000    0.000    0.000    0.000 numerictypes.py:736(issubdtype)\n",
      "        1    0.000    0.000    0.000    0.000 uuid.py:104(__init__)\n",
      "        1    0.000    0.000    0.000    0.000 {zmq.backend.cython._poll.zmq_poll}\n",
      "      106    0.000    0.000    0.000    0.000 {built-in method time}\n",
      "        4    0.000    0.000    0.000    0.000 __init__.py:182(dumps)\n",
      "        6    0.000    0.000    0.000    0.000 numeric.py:394(asarray)\n",
      "        1    0.000    0.000    0.001    0.001 iostream.py:151(flush)\n",
      "        1    0.000    0.000    0.000    0.000 socket.py:289(send_multipart)\n",
      "        4    0.000    0.000    0.000    0.000 jsonapi.py:31(dumps)\n",
      "        4    0.000    0.000    0.000    0.000 encoder.py:175(encode)\n",
      "        2    0.000    0.000    0.000    0.000 bimax_util.py:84(zp2d_sp)\n",
      "\n",
      "\n",
      "guess =  11.3766585364\n",
      "z0 =  11.8121702645 d_l.real =  2.38697950294e-14\n",
      "dl_imag =  1.16955589632e-05\n",
      "guess =  6.79729013062\n",
      "z0 =  7.63067060461 d_l.real =  1.50990331349e-14\n",
      "dl_imag =  0.0102923024541\n",
      "direct evaluating integral when peak is small\n",
      "guess =  3.33943224735\n",
      "z0 =  3.51939947213 d_l.real =  -4.66293670343e-15\n",
      "dl_imag =  0.0956842466837\n",
      "direct evaluating integral when peak is small\n",
      "guess =  3.02740753589\n",
      "z0 =  2.98768692431 d_l.real =  1.99840144433e-15\n",
      "dl_imag =  0.0877319975666\n",
      "direct evaluating integral when peak is small\n",
      "guess =  2.8895291343\n",
      "z0 =  2.80982654687 d_l.real =  -4.4408920985e-16\n",
      "dl_imag =  0.0915457667914\n",
      "direct evaluating integral when peak is small\n",
      "guess =  2.55627250242\n",
      "z0 =  2.22020465435 d_l.real =  -8.881784197e-16\n",
      "dl_imag =  0.218944454032\n",
      "direct evaluating integral when peak is small\n"
     ]
    }
   ],
   "source": [
    "wrel, l, n, t , tc= 0.8, 6, 0.08, 10, 1e5\n",
    "wc = wrel * np.sqrt(1 + n)\n",
    "\n",
    "v2e_arr_2 = pw_3(wrel, l, n, t , tc)\n",
    "gain_arr_2 = gain(wrel, l, n, t, tc)"
   ]
  },
  {
   "cell_type": "code",
   "execution_count": 13,
   "metadata": {
    "collapsed": false
   },
   "outputs": [
    {
     "data": {
      "image/png": "[encoded data removed]",
      "text/plain": [
       "<matplotlib.figure.Figure at 0x10bf8e0f0>"
      ]
     },
     "metadata": {},
     "output_type": "display_data"
    }
   ],
   "source": [
    "fig = plt.figure(figsize = [8, 8])\n",
    "plt.plot(wrel_arr, v2e_arr_1 / gain_arr_1, '-or', markersize = 1)\n",
    "plt.plot(wrel_arr, v2e_arr_2 / gain_arr_2, '-ob', markersize = 1)\n",
    "plt.axvline(1.0, linestyle = 'dashed')\n",
    "plt.yscale('log')\n",
    "plt.xscale('log')\n",
    "#plt.axhline(v2e_arr[0], linestyle = 'dashed')"
   ]
  },
  {
   "cell_type": "code",
   "execution_count": null,
   "metadata": {
    "collapsed": true
   },
   "outputs": [],
   "source": []
  }
 ],
 "metadata": {
  "kernelspec": {
   "display_name": "Python 3",
   "language": "python",
   "name": "python3"
  },
  "language_info": {
   "codemirror_mode": {
    "name": "ipython",
    "version": 3
   },
   "file_extension": ".py",
   "mimetype": "text/x-python",
   "name": "python",
   "nbconvert_exporter": "python",
   "pygments_lexer": "ipython3",
   "version": "3.4.3"
  }
 },
 "nbformat": 4,
 "nbformat_minor": 0
}
