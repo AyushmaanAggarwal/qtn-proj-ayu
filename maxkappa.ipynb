{
 "metadata": {
  "name": "",
  "signature": "sha256:fc71e8de45b21340d45444cd3f38f7fa126d4b38e15897094f1976e520b94e65"
 },
 "nbformat": 3,
 "nbformat_minor": 0,
 "worksheets": [
  {
   "cells": [
    {
     "cell_type": "code",
     "collapsed": false,
     "input": [
      "from qtn.maxkappa import MaxKappa\n",
      "from qtn.bimax import BiMax\n",
      "from qtn.util import (boltzmann, emass, echarge, permittivity, cspeed)\n",
      "import mpmath as mp\n",
      "import numpy as np\n",
      "import matplotlib.pyplot as plt\n",
      "%matplotlib inline\n",
      "\n",
      "from scipy.io.idl import readsav"
     ],
     "language": "python",
     "metadata": {},
     "outputs": [],
     "prompt_number": 52
    },
    {
     "cell_type": "code",
     "collapsed": false,
     "input": [
      "pmass = 1.67262178e-27"
     ],
     "language": "python",
     "metadata": {},
     "outputs": [],
     "prompt_number": 53
    },
    {
     "cell_type": "code",
     "collapsed": false,
     "input": [
      "ant_len = 50      # m (monopole) \n",
      "ant_rad = 1.9e-4  # m\n",
      "base_cap = 20e-12 # Fara\n",
      "fbins = np.array([4000*2**((2*i+1)/32) for i in range(96)])"
     ],
     "language": "python",
     "metadata": {},
     "outputs": [],
     "prompt_number": 80
    },
    {
     "cell_type": "heading",
     "level": 3,
     "metadata": {},
     "source": [
      "example1: 25-JUN-1995, 06:34:05.312"
     ]
    },
    {
     "cell_type": "code",
     "collapsed": false,
     "input": [
      "vsw = 3.898e5 #m/s\n",
      "vp = 46.11e3 #m/s\n",
      "tp = pmass * vp**2 / echarge/ 2\n",
      "print(tp)"
     ],
     "language": "python",
     "metadata": {},
     "outputs": [
      {
       "output_type": "stream",
       "stream": "stdout",
       "text": [
        "11.09807409559465\n"
       ]
      }
     ],
     "prompt_number": 81
    },
    {
     "cell_type": "code",
     "collapsed": false,
     "input": [
      "tc = (11.1439 + 10.8434 * 2)/3\n",
      "th = (55.4993 + 54.0091*2)/3\n",
      "t = th/tc\n",
      "nc = 12.2368\n",
      "nh = 0.376581\n",
      "n = nh/nc\n",
      "ne = nc + nh\n",
      "k = 7.55723\n",
      "fpe = np.sqrt(echarge**2 * ne * 1e6 /emass/permittivity)/2/np.pi\n",
      "print(t)\n",
      "print(n)\n",
      "print(ne)\n",
      "print(fpe)"
     ],
     "language": "python",
     "metadata": {},
     "outputs": [
      {
       "output_type": "stream",
       "stream": "stdout",
       "text": [
        "4.980627887921974\n",
        "0.030774467180962342\n",
        "12.613381\n",
        "31888.0102648\n"
       ]
      }
     ],
     "prompt_number": 82
    },
    {
     "cell_type": "code",
     "collapsed": false,
     "input": [
      "p = MaxKappa(ant_len, ant_rad, base_cap)"
     ],
     "language": "python",
     "metadata": {},
     "outputs": [],
     "prompt_number": 4
    },
    {
     "cell_type": "code",
     "collapsed": false,
     "input": [
      "za_zr = np.array([np.array(p.impedance(f, ne, n, t, tp, tc, k, vsw)) for f in fbins])"
     ],
     "language": "python",
     "metadata": {},
     "outputs": [],
     "prompt_number": 5
    },
    {
     "cell_type": "code",
     "collapsed": false,
     "input": [
      "za = za_zr[:, 0]\n",
      "zr = za_zr[:, 1]"
     ],
     "language": "python",
     "metadata": {},
     "outputs": [],
     "prompt_number": 6
    },
    {
     "cell_type": "code",
     "collapsed": false,
     "input": [
      "gain = np.abs((za+zr)/zr)**2"
     ],
     "language": "python",
     "metadata": {},
     "outputs": [],
     "prompt_number": 7
    },
    {
     "cell_type": "code",
     "collapsed": false,
     "input": [
      "plt.plot(gain)\n",
      "plt.show()"
     ],
     "language": "python",
     "metadata": {},
     "outputs": [
      {
       "metadata": {},
       "output_type": "display_data",
       "png": "[encoded data removed]",
       "text": [
        "<matplotlib.figure.Figure at 0x108cc67b8>"
       ]
      }
     ],
     "prompt_number": 8
    },
    {
     "cell_type": "code",
     "collapsed": false,
     "input": [
      "def helper(f):\n",
      "    if f < fpe or f > 1.2 * fpe:\n",
      "        mp.mp.dps = 20\n",
      "    else:\n",
      "        mp.mp.dps = 40\n",
      "    val = p.electron_noise(f, ne, n, t, tp, tc, k, vsw)\n",
      "    mp.mp.dps= 15\n",
      "    return val"
     ],
     "language": "python",
     "metadata": {},
     "outputs": [],
     "prompt_number": 9
    },
    {
     "cell_type": "code",
     "collapsed": false,
     "input": [
      "e_noise = np.array([helper(f) for f in fbins])"
     ],
     "language": "python",
     "metadata": {},
     "outputs": [],
     "prompt_number": 10
    },
    {
     "cell_type": "code",
     "collapsed": false,
     "input": [
      "p_noise = np.array([p.proton(f, ne, n, t, tp, tc, k, vsw) for f in fbins])"
     ],
     "language": "python",
     "metadata": {},
     "outputs": [],
     "prompt_number": 58
    },
    {
     "cell_type": "code",
     "collapsed": false,
     "input": [
      "def shot(za, sc_pot):\n",
      "    _vtc = np.sqrt(2 * echarge * tc/emass)\n",
      "    _nc = nc * 1e6\n",
      "    _ne = _nc * _vtc * (1 + n * mp.sqrt(t)) * 2 * np.pi * ant_rad * ant_len / np.sqrt(4 * np.pi)\n",
      "    A = 1 + echarge * sc_pot/tc\n",
      "    return 2 * A * echarge**2 * np.abs(za)**2 * _ne "
     ],
     "language": "python",
     "metadata": {},
     "outputs": [],
     "prompt_number": 86
    },
    {
     "cell_type": "code",
     "collapsed": false,
     "input": [
      "s_noise = np.array([shot(_za, 0) for _za in za])"
     ],
     "language": "python",
     "metadata": {},
     "outputs": [],
     "prompt_number": 87
    },
    {
     "cell_type": "code",
     "collapsed": false,
     "input": [
      "m_dat=readsav('/Users/tongyuguang/Google Drive/research/data/meudon_tnr/TNR_XY_ACE_19950625.sav')\n",
      "m_data=m_dat['data']\n",
      "mt = m_data['timeur8'][0]\n",
      "mtag = m_data['time'][0]"
     ],
     "language": "python",
     "metadata": {},
     "outputs": [],
     "prompt_number": 16
    },
    {
     "cell_type": "code",
     "collapsed": false,
     "input": [
      "mtag[5237]"
     ],
     "language": "python",
     "metadata": {},
     "outputs": [
      {
       "metadata": {},
       "output_type": "pyout",
       "prompt_number": 20,
       "text": [
        "b'25-JUN-1995, 06:34:05.312'"
       ]
      }
     ],
     "prompt_number": 20
    },
    {
     "cell_type": "code",
     "collapsed": false,
     "input": [
      "spec = m_data['spectra'][0][:, 5223]\n",
      "spec = 10. ** (spec/10.)"
     ],
     "language": "python",
     "metadata": {},
     "outputs": [],
     "prompt_number": 21
    },
    {
     "cell_type": "code",
     "collapsed": false,
     "input": [
      "plt.rc('text', usetex=False)\n",
      "plt.rc('font', family='serif')\n",
      "fig = plt.figure(figsize=[6, 6])\n",
      "plt.plot(fbins/1000, (e_noise + p_noise + s_noise)/gain, label='theory/3dp fits')\n",
      "plt.plot(fbins/1000, spec, 'o', markersize=2, label='WIND TNR')\n",
      "plt.plot(fbins/1000, e_noise/gain,'--', label='electron')\n",
      "plt.plot(fbins/1000, p_noise/gain, '-.', label='proton')\n",
      "plt.plot(fbins/1000, s_noise/gain, '--', label='shot')\n",
      "plt.xscale('log')\n",
      "plt.yscale('log')\n",
      "plt.xlim([4, 256])\n",
      "plt.ylim([1e-18, 1e-10])\n",
      "plt.xlabel(r'$f[kHz]$')\n",
      "plt.ylabel(r'$V_r^2[V^2Hz^{-1}]$')\n",
      "plt.title('25-JUN-1995, 06:34:05.312')\n",
      "plt.legend(loc='best')\n",
      "plt.show()"
     ],
     "language": "python",
     "metadata": {},
     "outputs": [
      {
       "metadata": {},
       "output_type": "display_data",
       "png": "[encoded data removed]",
       "text": [
        "<matplotlib.figure.Figure at 0x10e8d69e8>"
       ]
      }
     ],
     "prompt_number": 89
    },
    {
     "cell_type": "code",
     "collapsed": false,
     "input": [
      "fig.savefig('wind1.png', dpi=300)"
     ],
     "language": "python",
     "metadata": {},
     "outputs": [],
     "prompt_number": 90
    },
    {
     "cell_type": "code",
     "collapsed": false,
     "input": [],
     "language": "python",
     "metadata": {},
     "outputs": []
    }
   ],
   "metadata": {}
  }
 ]
}