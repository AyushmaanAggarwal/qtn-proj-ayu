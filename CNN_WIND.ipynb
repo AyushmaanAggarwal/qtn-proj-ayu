{
 "cells": [
  {
   "cell_type": "markdown",
   "id": "6dbce373-a558-4506-9884-047ba59b466b",
   "metadata": {
    "tags": []
   },
   "source": [
    "## Import Statements"
   ]
  },
  {
   "cell_type": "code",
   "execution_count": 1,
   "id": "9effaad3-4ead-4fec-88c3-0e0e8e8efa3d",
   "metadata": {
    "tags": []
   },
   "outputs": [
    {
     "name": "stderr",
     "output_type": "stream",
     "text": [
      "2022-06-09 10:43:34.206074: I tensorflow/core/util/util.cc:169] oneDNN custom operations are on. You may see slightly different numerical results due to floating-point round-off errors from different computation orders. To turn them off, set the environment variable `TF_ENABLE_ONEDNN_OPTS=0`.\n",
      "2022-06-09 10:43:34.208687: W tensorflow/stream_executor/platform/default/dso_loader.cc:64] Could not load dynamic library 'libcudart.so.11.0'; dlerror: libcudart.so.11.0: cannot open shared object file: No such file or directory\n",
      "2022-06-09 10:43:34.208695: I tensorflow/stream_executor/cuda/cudart_stub.cc:29] Ignore above cudart dlerror if you do not have a GPU set up on your machine.\n"
     ]
    }
   ],
   "source": [
    "import os\n",
    "import random\n",
    "import numpy as np\n",
    "from numpy import where\n",
    "import matplotlib.pyplot as plt\n",
    "\n",
    "os.environ[\"CDF_LIB\"] = \"/usr/local/lib/cdf/lib/\"\n",
    "import netCDF4 as nc\n",
    "from spacepy import pycdf\n",
    "from pyspedas import wind\n",
    "\n",
    "import keras\n",
    "from keras.models import Sequential\n",
    "from keras.layers import Dense, Conv1D, MaxPool1D, Dropout, Flatten\n",
    "from sklearn.svm import OneClassSVM"
   ]
  },
  {
   "cell_type": "markdown",
   "id": "55dbc161-8c48-4ccc-be0a-70efc2d7b43f",
   "metadata": {
    "tags": []
   },
   "source": [
    "## Various functions"
   ]
  },
  {
   "cell_type": "code",
   "execution_count": 2,
   "id": "336aa0ec-d974-4491-b191-13e8956555f7",
   "metadata": {},
   "outputs": [],
   "source": [
    "# Constants\n",
    "e = 1.602176634e-19\n",
    "m = 9.109383701528e-31\n",
    "e_0 = 8.854187812813e-12\n",
    "cons = e/((m*e_0)**.5)/(2*np.pi)"
   ]
  },
  {
   "cell_type": "code",
   "execution_count": 3,
   "id": "f0229288-c8bc-4759-9b22-491cdd981c13",
   "metadata": {},
   "outputs": [],
   "source": [
    "def find_closest_time(time, lst):\n",
    "    return min(range(len(lst)), \n",
    "               key=lambda i: abs(time-lst[i]))\n",
    "\n",
    "def conv_dens_to_freq(ne):\n",
    "    assert ne>=0\n",
    "    return ne**.5 * cons"
   ]
  },
  {
   "cell_type": "markdown",
   "id": "d5533a4f-594b-4747-9531-38a35279bfa7",
   "metadata": {
    "tags": []
   },
   "source": [
    "## Building Model"
   ]
  },
  {
   "cell_type": "code",
   "execution_count": 4,
   "id": "eefad957-3e0b-495e-80d7-969345d68888",
   "metadata": {
    "tags": []
   },
   "outputs": [
    {
     "name": "stdout",
     "output_type": "stream",
     "text": [
      "Model: \"sequential\"\n",
      "_________________________________________________________________\n",
      " Layer (type)                Output Shape              Param #   \n",
      "=================================================================\n",
      " conv1d (Conv1D)             (None, 95, 8)             24        \n",
      "                                                                 \n",
      " max_pooling1d (MaxPooling1D  (None, 23, 8)            0         \n",
      " )                                                               \n",
      "                                                                 \n",
      " conv1d_1 (Conv1D)           (None, 20, 16)            528       \n",
      "                                                                 \n",
      " max_pooling1d_1 (MaxPooling  (None, 5, 16)            0         \n",
      " 1D)                                                             \n",
      "                                                                 \n",
      " flatten (Flatten)           (None, 80)                0         \n",
      "                                                                 \n",
      " dropout (Dropout)           (None, 80)                0         \n",
      "                                                                 \n",
      " dense (Dense)               (None, 8)                 648       \n",
      "                                                                 \n",
      " dense_1 (Dense)             (None, 1)                 9         \n",
      "                                                                 \n",
      "=================================================================\n",
      "Total params: 1,209\n",
      "Trainable params: 1,209\n",
      "Non-trainable params: 0\n",
      "_________________________________________________________________\n"
     ]
    },
    {
     "name": "stderr",
     "output_type": "stream",
     "text": [
      "2022-06-09 10:43:34.932980: W tensorflow/stream_executor/platform/default/dso_loader.cc:64] Could not load dynamic library 'libcuda.so.1'; dlerror: libcuda.so.1: cannot open shared object file: No such file or directory\n",
      "2022-06-09 10:43:34.932995: W tensorflow/stream_executor/cuda/cuda_driver.cc:269] failed call to cuInit: UNKNOWN ERROR (303)\n",
      "2022-06-09 10:43:34.933005: I tensorflow/stream_executor/cuda/cuda_diagnostics.cc:156] kernel driver does not appear to be running on this host (ayu): /proc/driver/nvidia/version does not exist\n",
      "2022-06-09 10:43:34.933159: I tensorflow/core/platform/cpu_feature_guard.cc:193] This TensorFlow binary is optimized with oneAPI Deep Neural Network Library (oneDNN) to use the following CPU instructions in performance-critical operations:  AVX2 AVX512F AVX512_VNNI FMA\n",
      "To enable them in other operations, rebuild TensorFlow with the appropriate compiler flags.\n"
     ]
    }
   ],
   "source": [
    "model = Sequential()\n",
    "model.add(Conv1D(8, kernel_size=2, activation='relu', input_shape=(96, 1)))\n",
    "model.add(MaxPool1D(4))\n",
    "model.add(Conv1D(16, kernel_size=4, activation='relu'))\n",
    "model.add(MaxPool1D(4))\n",
    "model.add(Flatten())\n",
    "model.add(Dropout(0.5))\n",
    "model.add(Dense(8, activation='relu'))\n",
    "model.add(Dense(1, activation='linear'))\n",
    "model.summary()"
   ]
  },
  {
   "cell_type": "markdown",
   "id": "9643f9d7-b8e6-447f-92bb-fcf5ce1d7029",
   "metadata": {
    "tags": []
   },
   "source": [
    "## Importing Data"
   ]
  },
  {
   "cell_type": "code",
   "execution_count": 5,
   "id": "8ee73559-1676-4101-9d0d-e1443adafd73",
   "metadata": {},
   "outputs": [],
   "source": [
    "with nc.Dataset(\"data/wi_wav_tnr_19950625.nc\") as file:\n",
    "    time = file[\"tnr_ch1_time\"][:]\n",
    "    freq = file[\"tnr_ch1_freq\"][:]\n",
    "    spec = file[\"tnr_ch1_spec\"][:]"
   ]
  },
  {
   "cell_type": "code",
   "execution_count": 6,
   "id": "d5cd41aa-6eb3-4c3c-96cf-add3d458fc97",
   "metadata": {},
   "outputs": [],
   "source": [
    "with pycdf.CDF(\"data/wi_h0_wav_19950625_v01.cdf\") as cdf:\n",
    "    time2 = [float(x.strftime(\"%s\")) for x in cdf[\"Epoch\"][:]]\n",
    "    density =  cdf[\"Ne\"][:]"
   ]
  },
  {
   "cell_type": "code",
   "execution_count": 7,
   "id": "b2b20b7a-8ccf-4404-b116-40e67d972102",
   "metadata": {},
   "outputs": [],
   "source": [
    "dens = []\n",
    "for t in time:\n",
    "    loc = find_closest_time(t, time2)\n",
    "    dens.append(density[loc])"
   ]
  },
  {
   "cell_type": "code",
   "execution_count": 8,
   "id": "21fb7a3e-4d71-4495-82f7-39f224fcf617",
   "metadata": {},
   "outputs": [],
   "source": [
    "fpe = list(map(conv_dens_to_freq, dens))"
   ]
  },
  {
   "cell_type": "code",
   "execution_count": 9,
   "id": "ff408efa-b385-4a5d-9e4e-dd2ddff92713",
   "metadata": {},
   "outputs": [
    {
     "name": "stdout",
     "output_type": "stream",
     "text": [
      "(19419,) (19419, 96) (19419,)\n"
     ]
    }
   ],
   "source": [
    "print(np.shape(time), np.shape(np.transpose(spec)), np.shape(fpe))\n",
    "data_v1 = [[time[i], np.transpose(spec)[i], fpe[i]] for i in range(len(fpe))]"
   ]
  },
  {
   "cell_type": "code",
   "execution_count": 10,
   "id": "54f0e07a-08f1-41b4-b3cc-1f33d380063d",
   "metadata": {},
   "outputs": [
    {
     "data": {
      "text/plain": [
       "[<matplotlib.lines.Line2D at 0x7fe83a7678e0>]"
      ]
     },
     "execution_count": 10,
     "metadata": {},
     "output_type": "execute_result"
    },
    {
     "data": {
      "image/png": "[encoded data removed]",
      "text/plain": [
       "<Figure size 432x288 with 1 Axes>"
      ]
     },
     "metadata": {
      "needs_background": "light"
     },
     "output_type": "display_data"
    }
   ],
   "source": [
    "plt.plot(fpe)\n",
    "# Noticed there were a ton of outliers and messy data, so I decided to remove them from the dataset"
   ]
  },
  {
   "cell_type": "code",
   "execution_count": 11,
   "id": "5f70d376-7c6b-47ca-afc8-c84683e6f929",
   "metadata": {},
   "outputs": [
    {
     "data": {
      "text/plain": [
       "<matplotlib.collections.PathCollection at 0x7fe83a528b80>"
      ]
     },
     "execution_count": 11,
     "metadata": {},
     "output_type": "execute_result"
    },
    {
     "data": {
      "image/png": "[encoded data removed]",
      "text/plain": [
       "<Figure size 432x288 with 1 Axes>"
      ]
     },
     "metadata": {
      "needs_background": "light"
     },
     "output_type": "display_data"
    }
   ],
   "source": [
    "df = np.array(fpe).reshape(-1, 1)\n",
    "svm_model = OneClassSVM(kernel = 'rbf', gamma = 0.001, nu = 0.10).fit(df)\n",
    "y_pred = svm_model.predict(df)\n",
    "outlier_index = where(y_pred == -1) # filter outlier values\n",
    "outlier_values = df[outlier_index]\n",
    "plt.scatter(list(range(len(df))), df)\n",
    "plt.scatter(outlier_index, outlier_values, c = \"r\")"
   ]
  },
  {
   "cell_type": "code",
   "execution_count": 12,
   "id": "4d3a2a41-98e5-4111-8f4e-21dc2793aea0",
   "metadata": {},
   "outputs": [],
   "source": [
    "data_v2 = [d for d in data_v1 if d[2] > fpe[0] and d[2] < 60]\n",
    "data_v2[1000:] = [d for d in data_v2[1000:] if d[2] > 30]"
   ]
  },
  {
   "cell_type": "code",
   "execution_count": 13,
   "id": "bfa8757d-2bb8-46e6-ade9-9b1bd844684f",
   "metadata": {},
   "outputs": [
    {
     "data": {
      "text/plain": [
       "[<matplotlib.lines.Line2D at 0x7fe83a6bae60>]"
      ]
     },
     "execution_count": 13,
     "metadata": {},
     "output_type": "execute_result"
    },
    {
     "data": {
      "image/png": "[encoded data removed]",
      "text/plain": [
       "<Figure size 432x288 with 1 Axes>"
      ]
     },
     "metadata": {
      "needs_background": "light"
     },
     "output_type": "display_data"
    }
   ],
   "source": [
    "plt.plot([d[2] for d in data_v2])"
   ]
  },
  {
   "cell_type": "code",
   "execution_count": 14,
   "id": "6b6ccaa6-a5ac-4d90-83ad-0fb4f1562c72",
   "metadata": {
    "tags": []
   },
   "outputs": [],
   "source": [
    "random.seed(10)\n",
    "random_index = list(range(len(data_v2)))\n",
    "random.shuffle(random_index)\n",
    "data_v3 = list(map(lambda i: data_v2[i], random_index))"
   ]
  },
  {
   "cell_type": "code",
   "execution_count": 15,
   "id": "ce663482-2b67-470f-9dcf-4b52338acc27",
   "metadata": {},
   "outputs": [],
   "source": [
    "for i in range(len(data_v3)):\n",
    "    for j in range(len(data_v3)):\n",
    "        if not i == j:\n",
    "            if data_v3[i][0] == data_v3[j][0]:\n",
    "                print(i, j)"
   ]
  },
  {
   "cell_type": "code",
   "execution_count": 16,
   "id": "2d5e225d-44b2-4fbb-9de9-e541281c4b90",
   "metadata": {},
   "outputs": [],
   "source": [
    "x_data = np.array([d[1] for d in data_v3])\n",
    "y_data = np.array([d[2] for d in data_v3])\n",
    "\n",
    "norm_y = y_data/max(y_data)\n",
    "\n",
    "s = len(y_data)*9//10\n",
    "train_x_data, test_x_data = x_data[:s], x_data[s:]\n",
    "train_y_data, test_y_data = norm_y[:s], norm_y[s:]\n",
    "test_sorted = data_v3[s:]\n",
    "\n",
    "test_sorted.sort(key=lambda x: x[0])\n",
    "test_time_sorted = np.array([d[0] for d in test_sorted])\n",
    "test_x_sorted = np.array([d[1] for d in test_sorted])\n",
    "test_y_sorted = np.array([d[2]/max(y_data) for d in test_sorted])"
   ]
  },
  {
   "cell_type": "markdown",
   "id": "97df5a78-e1e8-4d31-b491-3d65b8ed4898",
   "metadata": {
    "tags": []
   },
   "source": [
    "## Training algorithm"
   ]
  },
  {
   "cell_type": "code",
   "execution_count": 17,
   "id": "0d9f3e26-9a88-406b-8c28-a29a08dcfd36",
   "metadata": {},
   "outputs": [],
   "source": [
    "model.compile(loss = keras.losses.mean_squared_error, \n",
    "   optimizer = keras.optimizers.Adam(), metrics = ['MeanAbsolutePercentageError'])"
   ]
  },
  {
   "cell_type": "code",
   "execution_count": 32,
   "id": "a2b1565c-7484-4539-b28e-45826010556e",
   "metadata": {
    "collapsed": true,
    "jupyter": {
     "outputs_hidden": true
    },
    "tags": []
   },
   "outputs": [
    {
     "name": "stdout",
     "output_type": "stream",
     "text": [
      "Epoch 1/200\n",
      "20/20 [==============================] - 0s 6ms/step - loss: 0.0058 - mean_absolute_percentage_error: 8.8330 - val_loss: 0.0048 - val_mean_absolute_percentage_error: 8.3959\n",
      "Epoch 2/200\n",
      "20/20 [==============================] - 0s 5ms/step - loss: 0.0040 - mean_absolute_percentage_error: 7.4181 - val_loss: 0.0040 - val_mean_absolute_percentage_error: 7.0490\n",
      "Epoch 3/200\n",
      "20/20 [==============================] - 0s 5ms/step - loss: 0.0046 - mean_absolute_percentage_error: 8.2027 - val_loss: 0.0040 - val_mean_absolute_percentage_error: 6.5729\n",
      "Epoch 4/200\n",
      "20/20 [==============================] - 0s 5ms/step - loss: 0.0049 - mean_absolute_percentage_error: 8.2177 - val_loss: 0.0038 - val_mean_absolute_percentage_error: 6.6039\n",
      "Epoch 5/200\n",
      "20/20 [==============================] - 0s 5ms/step - loss: 0.0052 - mean_absolute_percentage_error: 9.0266 - val_loss: 0.0041 - val_mean_absolute_percentage_error: 7.2580\n",
      "Epoch 6/200\n",
      "20/20 [==============================] - 0s 5ms/step - loss: 0.0071 - mean_absolute_percentage_error: 9.0318 - val_loss: 0.0053 - val_mean_absolute_percentage_error: 8.9405\n",
      "Epoch 7/200\n",
      "20/20 [==============================] - 0s 5ms/step - loss: 0.0052 - mean_absolute_percentage_error: 8.4503 - val_loss: 0.0039 - val_mean_absolute_percentage_error: 6.8742\n",
      "Epoch 8/200\n",
      "20/20 [==============================] - 0s 5ms/step - loss: 0.0047 - mean_absolute_percentage_error: 7.5169 - val_loss: 0.0041 - val_mean_absolute_percentage_error: 7.3720\n",
      "Epoch 9/200\n",
      "20/20 [==============================] - 0s 5ms/step - loss: 0.0060 - mean_absolute_percentage_error: 8.1070 - val_loss: 0.0045 - val_mean_absolute_percentage_error: 7.8723\n",
      "Epoch 10/200\n",
      "20/20 [==============================] - 0s 5ms/step - loss: 0.0045 - mean_absolute_percentage_error: 7.9310 - val_loss: 0.0041 - val_mean_absolute_percentage_error: 6.7546\n",
      "Epoch 11/200\n",
      "20/20 [==============================] - 0s 5ms/step - loss: 0.0058 - mean_absolute_percentage_error: 8.9154 - val_loss: 0.0039 - val_mean_absolute_percentage_error: 6.8771\n",
      "Epoch 12/200\n",
      "20/20 [==============================] - 0s 5ms/step - loss: 0.0035 - mean_absolute_percentage_error: 6.1939 - val_loss: 0.0042 - val_mean_absolute_percentage_error: 7.2581\n",
      "Epoch 13/200\n",
      "20/20 [==============================] - 0s 5ms/step - loss: 0.0059 - mean_absolute_percentage_error: 8.9908 - val_loss: 0.0053 - val_mean_absolute_percentage_error: 8.7608\n",
      "Epoch 14/200\n",
      "20/20 [==============================] - 0s 5ms/step - loss: 0.0053 - mean_absolute_percentage_error: 8.1066 - val_loss: 0.0041 - val_mean_absolute_percentage_error: 6.5223\n",
      "Epoch 15/200\n",
      "20/20 [==============================] - 0s 5ms/step - loss: 0.0059 - mean_absolute_percentage_error: 8.7890 - val_loss: 0.0042 - val_mean_absolute_percentage_error: 7.2099\n",
      "Epoch 16/200\n",
      "20/20 [==============================] - 0s 5ms/step - loss: 0.0059 - mean_absolute_percentage_error: 8.9815 - val_loss: 0.0043 - val_mean_absolute_percentage_error: 7.3602\n",
      "Epoch 17/200\n",
      "20/20 [==============================] - 0s 5ms/step - loss: 0.0050 - mean_absolute_percentage_error: 7.5783 - val_loss: 0.0040 - val_mean_absolute_percentage_error: 7.0326\n",
      "Epoch 18/200\n",
      "20/20 [==============================] - 0s 5ms/step - loss: 0.0050 - mean_absolute_percentage_error: 7.4131 - val_loss: 0.0043 - val_mean_absolute_percentage_error: 7.3765\n",
      "Epoch 19/200\n",
      "20/20 [==============================] - 0s 5ms/step - loss: 0.0050 - mean_absolute_percentage_error: 8.0870 - val_loss: 0.0040 - val_mean_absolute_percentage_error: 7.1228\n",
      "Epoch 20/200\n",
      "20/20 [==============================] - 0s 5ms/step - loss: 0.0051 - mean_absolute_percentage_error: 7.8352 - val_loss: 0.0041 - val_mean_absolute_percentage_error: 7.4158\n",
      "Epoch 21/200\n",
      "20/20 [==============================] - 0s 5ms/step - loss: 0.0043 - mean_absolute_percentage_error: 7.4518 - val_loss: 0.0046 - val_mean_absolute_percentage_error: 8.2011\n",
      "Epoch 22/200\n",
      "20/20 [==============================] - 0s 5ms/step - loss: 0.0036 - mean_absolute_percentage_error: 6.6350 - val_loss: 0.0045 - val_mean_absolute_percentage_error: 7.7630\n",
      "Epoch 23/200\n",
      "20/20 [==============================] - 0s 5ms/step - loss: 0.0047 - mean_absolute_percentage_error: 8.3375 - val_loss: 0.0038 - val_mean_absolute_percentage_error: 6.6048\n",
      "Epoch 24/200\n",
      "20/20 [==============================] - 0s 5ms/step - loss: 0.0046 - mean_absolute_percentage_error: 7.4565 - val_loss: 0.0037 - val_mean_absolute_percentage_error: 6.2905\n",
      "Epoch 25/200\n",
      "20/20 [==============================] - 0s 5ms/step - loss: 0.0053 - mean_absolute_percentage_error: 8.5347 - val_loss: 0.0041 - val_mean_absolute_percentage_error: 7.1044\n",
      "Epoch 26/200\n",
      "20/20 [==============================] - 0s 5ms/step - loss: 0.0058 - mean_absolute_percentage_error: 9.3192 - val_loss: 0.0050 - val_mean_absolute_percentage_error: 7.0900\n",
      "Epoch 27/200\n",
      "20/20 [==============================] - 0s 5ms/step - loss: 0.0071 - mean_absolute_percentage_error: 9.1089 - val_loss: 0.0059 - val_mean_absolute_percentage_error: 9.6220\n",
      "Epoch 28/200\n",
      "20/20 [==============================] - 0s 5ms/step - loss: 0.0059 - mean_absolute_percentage_error: 8.7315 - val_loss: 0.0039 - val_mean_absolute_percentage_error: 6.6811\n",
      "Epoch 29/200\n",
      "20/20 [==============================] - 0s 4ms/step - loss: 0.0047 - mean_absolute_percentage_error: 7.8307 - val_loss: 0.0046 - val_mean_absolute_percentage_error: 8.0778\n",
      "Epoch 30/200\n",
      "20/20 [==============================] - 0s 5ms/step - loss: 0.0063 - mean_absolute_percentage_error: 9.5421 - val_loss: 0.0041 - val_mean_absolute_percentage_error: 6.5131\n",
      "Epoch 31/200\n",
      "20/20 [==============================] - 0s 5ms/step - loss: 0.0057 - mean_absolute_percentage_error: 8.8048 - val_loss: 0.0043 - val_mean_absolute_percentage_error: 7.7729\n",
      "Epoch 32/200\n",
      "20/20 [==============================] - 0s 5ms/step - loss: 0.0061 - mean_absolute_percentage_error: 9.0872 - val_loss: 0.0043 - val_mean_absolute_percentage_error: 6.9725\n",
      "Epoch 33/200\n",
      "20/20 [==============================] - 0s 5ms/step - loss: 0.0055 - mean_absolute_percentage_error: 8.6000 - val_loss: 0.0039 - val_mean_absolute_percentage_error: 7.1404\n",
      "Epoch 34/200\n",
      "20/20 [==============================] - 0s 5ms/step - loss: 0.0053 - mean_absolute_percentage_error: 8.0666 - val_loss: 0.0039 - val_mean_absolute_percentage_error: 7.0123\n",
      "Epoch 35/200\n",
      "20/20 [==============================] - 0s 5ms/step - loss: 0.0042 - mean_absolute_percentage_error: 7.5064 - val_loss: 0.0037 - val_mean_absolute_percentage_error: 6.7162\n",
      "Epoch 36/200\n",
      "20/20 [==============================] - 0s 5ms/step - loss: 0.0052 - mean_absolute_percentage_error: 7.1545 - val_loss: 0.0048 - val_mean_absolute_percentage_error: 8.5338\n",
      "Epoch 37/200\n",
      "20/20 [==============================] - 0s 4ms/step - loss: 0.0071 - mean_absolute_percentage_error: 9.1414 - val_loss: 0.0045 - val_mean_absolute_percentage_error: 8.1652\n",
      "Epoch 38/200\n",
      "20/20 [==============================] - 0s 5ms/step - loss: 0.0048 - mean_absolute_percentage_error: 7.8388 - val_loss: 0.0038 - val_mean_absolute_percentage_error: 6.9393\n",
      "Epoch 39/200\n",
      "20/20 [==============================] - 0s 5ms/step - loss: 0.0044 - mean_absolute_percentage_error: 7.1007 - val_loss: 0.0041 - val_mean_absolute_percentage_error: 7.4477\n",
      "Epoch 40/200\n",
      "20/20 [==============================] - 0s 5ms/step - loss: 0.0060 - mean_absolute_percentage_error: 8.6455 - val_loss: 0.0045 - val_mean_absolute_percentage_error: 7.9621\n",
      "Epoch 41/200\n",
      "20/20 [==============================] - 0s 5ms/step - loss: 0.0052 - mean_absolute_percentage_error: 8.3635 - val_loss: 0.0039 - val_mean_absolute_percentage_error: 6.5326\n",
      "Epoch 42/200\n",
      "20/20 [==============================] - 0s 4ms/step - loss: 0.0052 - mean_absolute_percentage_error: 8.5536 - val_loss: 0.0045 - val_mean_absolute_percentage_error: 7.8912\n",
      "Epoch 43/200\n",
      "20/20 [==============================] - 0s 5ms/step - loss: 0.0058 - mean_absolute_percentage_error: 8.3939 - val_loss: 0.0039 - val_mean_absolute_percentage_error: 7.0589\n",
      "Epoch 44/200\n",
      "20/20 [==============================] - 0s 4ms/step - loss: 0.0046 - mean_absolute_percentage_error: 7.3330 - val_loss: 0.0043 - val_mean_absolute_percentage_error: 7.0026\n",
      "Epoch 45/200\n",
      "20/20 [==============================] - 0s 5ms/step - loss: 0.0050 - mean_absolute_percentage_error: 8.4080 - val_loss: 0.0046 - val_mean_absolute_percentage_error: 8.1406\n",
      "Epoch 46/200\n",
      "20/20 [==============================] - 0s 4ms/step - loss: 0.0062 - mean_absolute_percentage_error: 8.9226 - val_loss: 0.0038 - val_mean_absolute_percentage_error: 6.5777\n",
      "Epoch 47/200\n",
      "20/20 [==============================] - 0s 5ms/step - loss: 0.0056 - mean_absolute_percentage_error: 8.5000 - val_loss: 0.0043 - val_mean_absolute_percentage_error: 7.9131\n",
      "Epoch 48/200\n",
      "20/20 [==============================] - 0s 4ms/step - loss: 0.0045 - mean_absolute_percentage_error: 7.6957 - val_loss: 0.0034 - val_mean_absolute_percentage_error: 6.2789\n",
      "Epoch 49/200\n",
      "20/20 [==============================] - 0s 4ms/step - loss: 0.0070 - mean_absolute_percentage_error: 9.3146 - val_loss: 0.0049 - val_mean_absolute_percentage_error: 8.6721\n",
      "Epoch 50/200\n",
      "20/20 [==============================] - 0s 5ms/step - loss: 0.0057 - mean_absolute_percentage_error: 7.8838 - val_loss: 0.0042 - val_mean_absolute_percentage_error: 7.4749\n",
      "Epoch 51/200\n",
      "20/20 [==============================] - 0s 4ms/step - loss: 0.0052 - mean_absolute_percentage_error: 8.5423 - val_loss: 0.0042 - val_mean_absolute_percentage_error: 7.3575\n",
      "Epoch 52/200\n",
      "20/20 [==============================] - 0s 4ms/step - loss: 0.0042 - mean_absolute_percentage_error: 7.4821 - val_loss: 0.0039 - val_mean_absolute_percentage_error: 6.9312\n",
      "Epoch 53/200\n",
      "20/20 [==============================] - 0s 4ms/step - loss: 0.0056 - mean_absolute_percentage_error: 8.2481 - val_loss: 0.0042 - val_mean_absolute_percentage_error: 7.4224\n",
      "Epoch 54/200\n",
      "20/20 [==============================] - 0s 4ms/step - loss: 0.0066 - mean_absolute_percentage_error: 9.4854 - val_loss: 0.0054 - val_mean_absolute_percentage_error: 8.9819\n",
      "Epoch 55/200\n",
      "20/20 [==============================] - 0s 4ms/step - loss: 0.0065 - mean_absolute_percentage_error: 9.5966 - val_loss: 0.0049 - val_mean_absolute_percentage_error: 8.4477\n",
      "Epoch 56/200\n",
      "20/20 [==============================] - 0s 5ms/step - loss: 0.0059 - mean_absolute_percentage_error: 8.8017 - val_loss: 0.0045 - val_mean_absolute_percentage_error: 7.8660\n",
      "Epoch 57/200\n",
      "20/20 [==============================] - 0s 5ms/step - loss: 0.0044 - mean_absolute_percentage_error: 7.2671 - val_loss: 0.0040 - val_mean_absolute_percentage_error: 7.3864\n",
      "Epoch 58/200\n",
      "20/20 [==============================] - 0s 5ms/step - loss: 0.0059 - mean_absolute_percentage_error: 9.5760 - val_loss: 0.0036 - val_mean_absolute_percentage_error: 6.3988\n",
      "Epoch 59/200\n",
      "20/20 [==============================] - 0s 4ms/step - loss: 0.0054 - mean_absolute_percentage_error: 8.9617 - val_loss: 0.0040 - val_mean_absolute_percentage_error: 6.8175\n",
      "Epoch 60/200\n",
      "20/20 [==============================] - 0s 5ms/step - loss: 0.0043 - mean_absolute_percentage_error: 7.7066 - val_loss: 0.0036 - val_mean_absolute_percentage_error: 6.6058\n",
      "Epoch 61/200\n",
      "20/20 [==============================] - 0s 5ms/step - loss: 0.0062 - mean_absolute_percentage_error: 8.4570 - val_loss: 0.0042 - val_mean_absolute_percentage_error: 7.7174\n",
      "Epoch 62/200\n",
      "20/20 [==============================] - 0s 4ms/step - loss: 0.0086 - mean_absolute_percentage_error: 9.1113 - val_loss: 0.0053 - val_mean_absolute_percentage_error: 8.2963\n",
      "Epoch 63/200\n",
      "20/20 [==============================] - 0s 5ms/step - loss: 0.0058 - mean_absolute_percentage_error: 8.6136 - val_loss: 0.0044 - val_mean_absolute_percentage_error: 7.3914\n",
      "Epoch 64/200\n",
      "20/20 [==============================] - 0s 4ms/step - loss: 0.0089 - mean_absolute_percentage_error: 9.8944 - val_loss: 0.0041 - val_mean_absolute_percentage_error: 7.1546\n",
      "Epoch 65/200\n",
      "20/20 [==============================] - 0s 5ms/step - loss: 0.0052 - mean_absolute_percentage_error: 8.5833 - val_loss: 0.0045 - val_mean_absolute_percentage_error: 8.1282\n",
      "Epoch 66/200\n",
      "20/20 [==============================] - 0s 4ms/step - loss: 0.0065 - mean_absolute_percentage_error: 8.5245 - val_loss: 0.0047 - val_mean_absolute_percentage_error: 8.1179\n",
      "Epoch 67/200\n",
      "20/20 [==============================] - 0s 5ms/step - loss: 0.0064 - mean_absolute_percentage_error: 9.3895 - val_loss: 0.0043 - val_mean_absolute_percentage_error: 7.7782\n",
      "Epoch 68/200\n",
      "20/20 [==============================] - 0s 5ms/step - loss: 0.0047 - mean_absolute_percentage_error: 7.8744 - val_loss: 0.0038 - val_mean_absolute_percentage_error: 7.0860\n",
      "Epoch 69/200\n",
      "20/20 [==============================] - 0s 5ms/step - loss: 0.0056 - mean_absolute_percentage_error: 8.4040 - val_loss: 0.0039 - val_mean_absolute_percentage_error: 7.0989\n",
      "Epoch 70/200\n",
      "20/20 [==============================] - 0s 5ms/step - loss: 0.0060 - mean_absolute_percentage_error: 10.1152 - val_loss: 0.0041 - val_mean_absolute_percentage_error: 7.5536\n",
      "Epoch 71/200\n",
      "20/20 [==============================] - 0s 4ms/step - loss: 0.0053 - mean_absolute_percentage_error: 8.2741 - val_loss: 0.0040 - val_mean_absolute_percentage_error: 7.1142\n",
      "Epoch 72/200\n",
      "20/20 [==============================] - 0s 4ms/step - loss: 0.0047 - mean_absolute_percentage_error: 7.7685 - val_loss: 0.0039 - val_mean_absolute_percentage_error: 7.2955\n",
      "Epoch 73/200\n",
      "20/20 [==============================] - 0s 5ms/step - loss: 0.0053 - mean_absolute_percentage_error: 8.5878 - val_loss: 0.0040 - val_mean_absolute_percentage_error: 6.8467\n",
      "Epoch 74/200\n",
      "20/20 [==============================] - 0s 5ms/step - loss: 0.0042 - mean_absolute_percentage_error: 7.6748 - val_loss: 0.0047 - val_mean_absolute_percentage_error: 8.4844\n",
      "Epoch 75/200\n",
      "20/20 [==============================] - 0s 4ms/step - loss: 0.0060 - mean_absolute_percentage_error: 9.4549 - val_loss: 0.0036 - val_mean_absolute_percentage_error: 6.2112\n",
      "Epoch 76/200\n",
      "20/20 [==============================] - 0s 4ms/step - loss: 0.0054 - mean_absolute_percentage_error: 8.1601 - val_loss: 0.0042 - val_mean_absolute_percentage_error: 7.6635\n",
      "Epoch 77/200\n",
      "20/20 [==============================] - 0s 5ms/step - loss: 0.0047 - mean_absolute_percentage_error: 7.4956 - val_loss: 0.0043 - val_mean_absolute_percentage_error: 6.6620\n",
      "Epoch 78/200\n",
      "20/20 [==============================] - 0s 5ms/step - loss: 0.0062 - mean_absolute_percentage_error: 9.1677 - val_loss: 0.0055 - val_mean_absolute_percentage_error: 9.4368\n",
      "Epoch 79/200\n",
      "20/20 [==============================] - 0s 4ms/step - loss: 0.0051 - mean_absolute_percentage_error: 8.1960 - val_loss: 0.0039 - val_mean_absolute_percentage_error: 6.6127\n",
      "Epoch 80/200\n",
      "20/20 [==============================] - 0s 5ms/step - loss: 0.0062 - mean_absolute_percentage_error: 8.7921 - val_loss: 0.0037 - val_mean_absolute_percentage_error: 6.7384\n",
      "Epoch 81/200\n",
      "20/20 [==============================] - 0s 4ms/step - loss: 0.0067 - mean_absolute_percentage_error: 9.6868 - val_loss: 0.0037 - val_mean_absolute_percentage_error: 6.4313\n",
      "Epoch 82/200\n",
      "20/20 [==============================] - 0s 4ms/step - loss: 0.0054 - mean_absolute_percentage_error: 8.2813 - val_loss: 0.0037 - val_mean_absolute_percentage_error: 6.7689\n",
      "Epoch 83/200\n",
      "20/20 [==============================] - 0s 5ms/step - loss: 0.0058 - mean_absolute_percentage_error: 8.9407 - val_loss: 0.0036 - val_mean_absolute_percentage_error: 6.5275\n",
      "Epoch 84/200\n",
      "20/20 [==============================] - 0s 5ms/step - loss: 0.0045 - mean_absolute_percentage_error: 7.5648 - val_loss: 0.0038 - val_mean_absolute_percentage_error: 7.0476\n",
      "Epoch 85/200\n",
      "20/20 [==============================] - 0s 4ms/step - loss: 0.0040 - mean_absolute_percentage_error: 7.3615 - val_loss: 0.0044 - val_mean_absolute_percentage_error: 7.9514\n",
      "Epoch 86/200\n",
      "20/20 [==============================] - 0s 4ms/step - loss: 0.0051 - mean_absolute_percentage_error: 7.8644 - val_loss: 0.0035 - val_mean_absolute_percentage_error: 6.3870\n",
      "Epoch 87/200\n",
      "20/20 [==============================] - 0s 4ms/step - loss: 0.0048 - mean_absolute_percentage_error: 8.7609 - val_loss: 0.0038 - val_mean_absolute_percentage_error: 6.9761\n",
      "Epoch 88/200\n",
      "20/20 [==============================] - 0s 5ms/step - loss: 0.0050 - mean_absolute_percentage_error: 8.7213 - val_loss: 0.0037 - val_mean_absolute_percentage_error: 6.7229\n",
      "Epoch 89/200\n",
      "20/20 [==============================] - 0s 5ms/step - loss: 0.0061 - mean_absolute_percentage_error: 8.4041 - val_loss: 0.0038 - val_mean_absolute_percentage_error: 6.7452\n",
      "Epoch 90/200\n",
      "20/20 [==============================] - 0s 5ms/step - loss: 0.0042 - mean_absolute_percentage_error: 7.5479 - val_loss: 0.0038 - val_mean_absolute_percentage_error: 6.8510\n",
      "Epoch 91/200\n",
      "20/20 [==============================] - 0s 5ms/step - loss: 0.0052 - mean_absolute_percentage_error: 7.9835 - val_loss: 0.0040 - val_mean_absolute_percentage_error: 7.3755\n",
      "Epoch 92/200\n",
      "20/20 [==============================] - 0s 5ms/step - loss: 0.0058 - mean_absolute_percentage_error: 8.8624 - val_loss: 0.0042 - val_mean_absolute_percentage_error: 7.0712\n",
      "Epoch 93/200\n",
      "20/20 [==============================] - 0s 5ms/step - loss: 0.0045 - mean_absolute_percentage_error: 7.3798 - val_loss: 0.0041 - val_mean_absolute_percentage_error: 7.0598\n",
      "Epoch 94/200\n",
      "20/20 [==============================] - 0s 4ms/step - loss: 0.0062 - mean_absolute_percentage_error: 8.3503 - val_loss: 0.0049 - val_mean_absolute_percentage_error: 8.5268\n",
      "Epoch 95/200\n",
      "20/20 [==============================] - 0s 5ms/step - loss: 0.0055 - mean_absolute_percentage_error: 8.4120 - val_loss: 0.0038 - val_mean_absolute_percentage_error: 7.0771\n",
      "Epoch 96/200\n",
      "20/20 [==============================] - 0s 5ms/step - loss: 0.0048 - mean_absolute_percentage_error: 8.4683 - val_loss: 0.0039 - val_mean_absolute_percentage_error: 7.2965\n",
      "Epoch 97/200\n",
      "20/20 [==============================] - 0s 5ms/step - loss: 0.0053 - mean_absolute_percentage_error: 8.3177 - val_loss: 0.0037 - val_mean_absolute_percentage_error: 6.7954\n",
      "Epoch 98/200\n",
      "20/20 [==============================] - 0s 5ms/step - loss: 0.0042 - mean_absolute_percentage_error: 7.3569 - val_loss: 0.0036 - val_mean_absolute_percentage_error: 6.6178\n",
      "Epoch 99/200\n",
      "20/20 [==============================] - 0s 5ms/step - loss: 0.0059 - mean_absolute_percentage_error: 8.7163 - val_loss: 0.0052 - val_mean_absolute_percentage_error: 8.9792\n",
      "Epoch 100/200\n",
      "20/20 [==============================] - 0s 5ms/step - loss: 0.0053 - mean_absolute_percentage_error: 8.5630 - val_loss: 0.0043 - val_mean_absolute_percentage_error: 6.7191\n",
      "Epoch 101/200\n",
      "20/20 [==============================] - 0s 5ms/step - loss: 0.0067 - mean_absolute_percentage_error: 9.6356 - val_loss: 0.0038 - val_mean_absolute_percentage_error: 7.0947\n",
      "Epoch 102/200\n",
      "20/20 [==============================] - 0s 5ms/step - loss: 0.0044 - mean_absolute_percentage_error: 6.9690 - val_loss: 0.0040 - val_mean_absolute_percentage_error: 7.2935\n",
      "Epoch 103/200\n",
      "20/20 [==============================] - 0s 5ms/step - loss: 0.0046 - mean_absolute_percentage_error: 8.1992 - val_loss: 0.0037 - val_mean_absolute_percentage_error: 6.7704\n",
      "Epoch 104/200\n",
      "20/20 [==============================] - 0s 5ms/step - loss: 0.0051 - mean_absolute_percentage_error: 7.8657 - val_loss: 0.0037 - val_mean_absolute_percentage_error: 6.9066\n",
      "Epoch 105/200\n",
      "20/20 [==============================] - 0s 5ms/step - loss: 0.0054 - mean_absolute_percentage_error: 8.6584 - val_loss: 0.0037 - val_mean_absolute_percentage_error: 6.8400\n",
      "Epoch 106/200\n",
      "20/20 [==============================] - 0s 5ms/step - loss: 0.0047 - mean_absolute_percentage_error: 7.4166 - val_loss: 0.0043 - val_mean_absolute_percentage_error: 7.8620\n",
      "Epoch 107/200\n",
      "20/20 [==============================] - 0s 5ms/step - loss: 0.0054 - mean_absolute_percentage_error: 8.7246 - val_loss: 0.0038 - val_mean_absolute_percentage_error: 6.9044\n",
      "Epoch 108/200\n",
      "20/20 [==============================] - 0s 5ms/step - loss: 0.0052 - mean_absolute_percentage_error: 8.0757 - val_loss: 0.0037 - val_mean_absolute_percentage_error: 6.6687\n",
      "Epoch 109/200\n",
      "20/20 [==============================] - 0s 5ms/step - loss: 0.0050 - mean_absolute_percentage_error: 8.1075 - val_loss: 0.0037 - val_mean_absolute_percentage_error: 6.6009\n",
      "Epoch 110/200\n",
      "20/20 [==============================] - 0s 5ms/step - loss: 0.0046 - mean_absolute_percentage_error: 7.7509 - val_loss: 0.0037 - val_mean_absolute_percentage_error: 6.8069\n",
      "Epoch 111/200\n",
      "20/20 [==============================] - 0s 6ms/step - loss: 0.0055 - mean_absolute_percentage_error: 8.9978 - val_loss: 0.0039 - val_mean_absolute_percentage_error: 6.3940\n",
      "Epoch 112/200\n",
      "20/20 [==============================] - 0s 5ms/step - loss: 0.0052 - mean_absolute_percentage_error: 7.6900 - val_loss: 0.0053 - val_mean_absolute_percentage_error: 9.0060\n",
      "Epoch 113/200\n",
      "20/20 [==============================] - 0s 5ms/step - loss: 0.0069 - mean_absolute_percentage_error: 9.6283 - val_loss: 0.0050 - val_mean_absolute_percentage_error: 8.6854\n",
      "Epoch 114/200\n",
      "20/20 [==============================] - 0s 4ms/step - loss: 0.0043 - mean_absolute_percentage_error: 7.1041 - val_loss: 0.0038 - val_mean_absolute_percentage_error: 6.3812\n",
      "Epoch 115/200\n",
      "20/20 [==============================] - 0s 5ms/step - loss: 0.0065 - mean_absolute_percentage_error: 8.4274 - val_loss: 0.0056 - val_mean_absolute_percentage_error: 9.4558\n",
      "Epoch 116/200\n",
      "20/20 [==============================] - 0s 5ms/step - loss: 0.0057 - mean_absolute_percentage_error: 8.5988 - val_loss: 0.0043 - val_mean_absolute_percentage_error: 7.0922\n",
      "Epoch 117/200\n",
      "20/20 [==============================] - 0s 4ms/step - loss: 0.0054 - mean_absolute_percentage_error: 8.4736 - val_loss: 0.0042 - val_mean_absolute_percentage_error: 7.7592\n",
      "Epoch 118/200\n",
      "20/20 [==============================] - 0s 5ms/step - loss: 0.0043 - mean_absolute_percentage_error: 7.6374 - val_loss: 0.0037 - val_mean_absolute_percentage_error: 6.7230\n",
      "Epoch 119/200\n",
      "20/20 [==============================] - 0s 5ms/step - loss: 0.0040 - mean_absolute_percentage_error: 7.3215 - val_loss: 0.0042 - val_mean_absolute_percentage_error: 7.7539\n",
      "Epoch 120/200\n",
      "20/20 [==============================] - 0s 5ms/step - loss: 0.0060 - mean_absolute_percentage_error: 9.0966 - val_loss: 0.0045 - val_mean_absolute_percentage_error: 7.8043\n",
      "Epoch 121/200\n",
      "20/20 [==============================] - 0s 5ms/step - loss: 0.0048 - mean_absolute_percentage_error: 8.0710 - val_loss: 0.0038 - val_mean_absolute_percentage_error: 6.8951\n",
      "Epoch 122/200\n",
      "20/20 [==============================] - 0s 5ms/step - loss: 0.0055 - mean_absolute_percentage_error: 8.4614 - val_loss: 0.0036 - val_mean_absolute_percentage_error: 6.6439\n",
      "Epoch 123/200\n",
      "20/20 [==============================] - 0s 5ms/step - loss: 0.0053 - mean_absolute_percentage_error: 8.4964 - val_loss: 0.0041 - val_mean_absolute_percentage_error: 7.6224\n",
      "Epoch 124/200\n",
      "20/20 [==============================] - 0s 5ms/step - loss: 0.0040 - mean_absolute_percentage_error: 6.8692 - val_loss: 0.0037 - val_mean_absolute_percentage_error: 6.6676\n",
      "Epoch 125/200\n",
      "20/20 [==============================] - 0s 5ms/step - loss: 0.0070 - mean_absolute_percentage_error: 9.8520 - val_loss: 0.0037 - val_mean_absolute_percentage_error: 6.9102\n",
      "Epoch 126/200\n",
      "20/20 [==============================] - 0s 5ms/step - loss: 0.0048 - mean_absolute_percentage_error: 8.2820 - val_loss: 0.0041 - val_mean_absolute_percentage_error: 6.7204\n",
      "Epoch 127/200\n",
      "20/20 [==============================] - 0s 5ms/step - loss: 0.0050 - mean_absolute_percentage_error: 7.8572 - val_loss: 0.0045 - val_mean_absolute_percentage_error: 8.2179\n",
      "Epoch 128/200\n",
      "20/20 [==============================] - 0s 5ms/step - loss: 0.0065 - mean_absolute_percentage_error: 9.0879 - val_loss: 0.0037 - val_mean_absolute_percentage_error: 6.1762\n",
      "Epoch 129/200\n",
      "20/20 [==============================] - 0s 4ms/step - loss: 0.0049 - mean_absolute_percentage_error: 8.1327 - val_loss: 0.0036 - val_mean_absolute_percentage_error: 6.6596\n",
      "Epoch 130/200\n",
      "20/20 [==============================] - 0s 5ms/step - loss: 0.0059 - mean_absolute_percentage_error: 8.9539 - val_loss: 0.0036 - val_mean_absolute_percentage_error: 6.8223\n",
      "Epoch 131/200\n",
      "20/20 [==============================] - 0s 5ms/step - loss: 0.0068 - mean_absolute_percentage_error: 9.3739 - val_loss: 0.0037 - val_mean_absolute_percentage_error: 6.8104\n",
      "Epoch 132/200\n",
      "20/20 [==============================] - 0s 5ms/step - loss: 0.0055 - mean_absolute_percentage_error: 8.8030 - val_loss: 0.0043 - val_mean_absolute_percentage_error: 7.3647\n",
      "Epoch 133/200\n",
      "20/20 [==============================] - 0s 5ms/step - loss: 0.0051 - mean_absolute_percentage_error: 8.1570 - val_loss: 0.0036 - val_mean_absolute_percentage_error: 6.6368\n",
      "Epoch 134/200\n",
      "20/20 [==============================] - 0s 5ms/step - loss: 0.0053 - mean_absolute_percentage_error: 8.5723 - val_loss: 0.0039 - val_mean_absolute_percentage_error: 7.3188\n",
      "Epoch 135/200\n",
      "20/20 [==============================] - 0s 5ms/step - loss: 0.0043 - mean_absolute_percentage_error: 8.0603 - val_loss: 0.0041 - val_mean_absolute_percentage_error: 6.8114\n",
      "Epoch 136/200\n",
      "20/20 [==============================] - 0s 5ms/step - loss: 0.0046 - mean_absolute_percentage_error: 7.3255 - val_loss: 0.0038 - val_mean_absolute_percentage_error: 6.7331\n",
      "Epoch 137/200\n",
      "20/20 [==============================] - 0s 5ms/step - loss: 0.0051 - mean_absolute_percentage_error: 7.8325 - val_loss: 0.0037 - val_mean_absolute_percentage_error: 6.9473\n",
      "Epoch 138/200\n",
      "20/20 [==============================] - 0s 5ms/step - loss: 0.0049 - mean_absolute_percentage_error: 8.3853 - val_loss: 0.0039 - val_mean_absolute_percentage_error: 7.2626\n",
      "Epoch 139/200\n",
      "20/20 [==============================] - 0s 4ms/step - loss: 0.0045 - mean_absolute_percentage_error: 7.3383 - val_loss: 0.0039 - val_mean_absolute_percentage_error: 7.2669\n",
      "Epoch 140/200\n",
      "20/20 [==============================] - 0s 5ms/step - loss: 0.0044 - mean_absolute_percentage_error: 7.7477 - val_loss: 0.0040 - val_mean_absolute_percentage_error: 7.3994\n",
      "Epoch 141/200\n",
      "20/20 [==============================] - 0s 5ms/step - loss: 0.0049 - mean_absolute_percentage_error: 8.1826 - val_loss: 0.0038 - val_mean_absolute_percentage_error: 7.1686\n",
      "Epoch 142/200\n",
      "20/20 [==============================] - 0s 5ms/step - loss: 0.0054 - mean_absolute_percentage_error: 7.9669 - val_loss: 0.0045 - val_mean_absolute_percentage_error: 8.1478\n",
      "Epoch 143/200\n",
      "20/20 [==============================] - 0s 5ms/step - loss: 0.0058 - mean_absolute_percentage_error: 8.8443 - val_loss: 0.0036 - val_mean_absolute_percentage_error: 6.4277\n",
      "Epoch 144/200\n",
      "20/20 [==============================] - 0s 5ms/step - loss: 0.0044 - mean_absolute_percentage_error: 7.3604 - val_loss: 0.0037 - val_mean_absolute_percentage_error: 6.9917\n",
      "Epoch 145/200\n",
      "20/20 [==============================] - 0s 5ms/step - loss: 0.0052 - mean_absolute_percentage_error: 8.1131 - val_loss: 0.0039 - val_mean_absolute_percentage_error: 7.2499\n",
      "Epoch 146/200\n",
      "20/20 [==============================] - 0s 5ms/step - loss: 0.0059 - mean_absolute_percentage_error: 7.9472 - val_loss: 0.0037 - val_mean_absolute_percentage_error: 6.4950\n",
      "Epoch 147/200\n",
      "20/20 [==============================] - 0s 6ms/step - loss: 0.0046 - mean_absolute_percentage_error: 8.0851 - val_loss: 0.0037 - val_mean_absolute_percentage_error: 6.7826\n",
      "Epoch 148/200\n",
      "20/20 [==============================] - 0s 6ms/step - loss: 0.0050 - mean_absolute_percentage_error: 7.8020 - val_loss: 0.0040 - val_mean_absolute_percentage_error: 7.4153\n",
      "Epoch 149/200\n",
      "20/20 [==============================] - 0s 5ms/step - loss: 0.0042 - mean_absolute_percentage_error: 7.2472 - val_loss: 0.0041 - val_mean_absolute_percentage_error: 6.8127\n",
      "Epoch 150/200\n",
      "20/20 [==============================] - 0s 5ms/step - loss: 0.0080 - mean_absolute_percentage_error: 10.0167 - val_loss: 0.0045 - val_mean_absolute_percentage_error: 8.0733\n",
      "Epoch 151/200\n",
      "20/20 [==============================] - 0s 5ms/step - loss: 0.0058 - mean_absolute_percentage_error: 8.4675 - val_loss: 0.0037 - val_mean_absolute_percentage_error: 6.8417\n",
      "Epoch 152/200\n",
      "20/20 [==============================] - 0s 5ms/step - loss: 0.0056 - mean_absolute_percentage_error: 8.8211 - val_loss: 0.0037 - val_mean_absolute_percentage_error: 6.8344\n",
      "Epoch 153/200\n",
      "20/20 [==============================] - 0s 6ms/step - loss: 0.0040 - mean_absolute_percentage_error: 7.0837 - val_loss: 0.0038 - val_mean_absolute_percentage_error: 6.2988\n",
      "Epoch 154/200\n",
      "20/20 [==============================] - 0s 7ms/step - loss: 0.0048 - mean_absolute_percentage_error: 8.1415 - val_loss: 0.0044 - val_mean_absolute_percentage_error: 7.9346\n",
      "Epoch 155/200\n",
      "20/20 [==============================] - 0s 6ms/step - loss: 0.0057 - mean_absolute_percentage_error: 8.7710 - val_loss: 0.0040 - val_mean_absolute_percentage_error: 7.1462\n",
      "Epoch 156/200\n",
      "20/20 [==============================] - 0s 7ms/step - loss: 0.0064 - mean_absolute_percentage_error: 8.4754 - val_loss: 0.0041 - val_mean_absolute_percentage_error: 7.0572\n",
      "Epoch 157/200\n",
      "20/20 [==============================] - 0s 6ms/step - loss: 0.0041 - mean_absolute_percentage_error: 7.0987 - val_loss: 0.0040 - val_mean_absolute_percentage_error: 7.2040\n",
      "Epoch 158/200\n",
      "20/20 [==============================] - 0s 7ms/step - loss: 0.0044 - mean_absolute_percentage_error: 7.5183 - val_loss: 0.0041 - val_mean_absolute_percentage_error: 6.5670\n",
      "Epoch 159/200\n",
      "20/20 [==============================] - 0s 6ms/step - loss: 0.0078 - mean_absolute_percentage_error: 10.1829 - val_loss: 0.0062 - val_mean_absolute_percentage_error: 10.0476\n",
      "Epoch 160/200\n",
      "20/20 [==============================] - 0s 7ms/step - loss: 0.0049 - mean_absolute_percentage_error: 7.9498 - val_loss: 0.0038 - val_mean_absolute_percentage_error: 6.9322\n",
      "Epoch 161/200\n",
      "20/20 [==============================] - 0s 6ms/step - loss: 0.0059 - mean_absolute_percentage_error: 9.2036 - val_loss: 0.0035 - val_mean_absolute_percentage_error: 6.5301\n",
      "Epoch 162/200\n",
      "20/20 [==============================] - 0s 6ms/step - loss: 0.0059 - mean_absolute_percentage_error: 8.5386 - val_loss: 0.0044 - val_mean_absolute_percentage_error: 7.8670\n",
      "Epoch 163/200\n",
      "20/20 [==============================] - 0s 6ms/step - loss: 0.0058 - mean_absolute_percentage_error: 9.1664 - val_loss: 0.0039 - val_mean_absolute_percentage_error: 7.0224\n",
      "Epoch 164/200\n",
      "20/20 [==============================] - 0s 6ms/step - loss: 0.0059 - mean_absolute_percentage_error: 8.3273 - val_loss: 0.0049 - val_mean_absolute_percentage_error: 8.4085\n",
      "Epoch 165/200\n",
      "20/20 [==============================] - 0s 5ms/step - loss: 0.0054 - mean_absolute_percentage_error: 8.6783 - val_loss: 0.0039 - val_mean_absolute_percentage_error: 6.8075\n",
      "Epoch 166/200\n",
      "20/20 [==============================] - 0s 6ms/step - loss: 0.0052 - mean_absolute_percentage_error: 8.2639 - val_loss: 0.0040 - val_mean_absolute_percentage_error: 7.3834\n",
      "Epoch 167/200\n",
      "20/20 [==============================] - 0s 8ms/step - loss: 0.0272 - mean_absolute_percentage_error: 11.3708 - val_loss: 0.0044 - val_mean_absolute_percentage_error: 7.2381\n",
      "Epoch 168/200\n",
      "20/20 [==============================] - 0s 8ms/step - loss: 0.0060 - mean_absolute_percentage_error: 9.3412 - val_loss: 0.0044 - val_mean_absolute_percentage_error: 7.1539\n",
      "Epoch 169/200\n",
      "20/20 [==============================] - 0s 7ms/step - loss: 0.0053 - mean_absolute_percentage_error: 8.6556 - val_loss: 0.0044 - val_mean_absolute_percentage_error: 7.7268\n",
      "Epoch 170/200\n",
      "20/20 [==============================] - 0s 6ms/step - loss: 0.0066 - mean_absolute_percentage_error: 9.1675 - val_loss: 0.0042 - val_mean_absolute_percentage_error: 7.3762\n",
      "Epoch 171/200\n",
      "20/20 [==============================] - 0s 7ms/step - loss: 0.0038 - mean_absolute_percentage_error: 7.1599 - val_loss: 0.0044 - val_mean_absolute_percentage_error: 6.8248\n",
      "Epoch 172/200\n",
      "20/20 [==============================] - 0s 7ms/step - loss: 0.0060 - mean_absolute_percentage_error: 9.2564 - val_loss: 0.0045 - val_mean_absolute_percentage_error: 7.7854\n",
      "Epoch 173/200\n",
      "20/20 [==============================] - 0s 6ms/step - loss: 0.0047 - mean_absolute_percentage_error: 7.0486 - val_loss: 0.0043 - val_mean_absolute_percentage_error: 7.5985\n",
      "Epoch 174/200\n",
      "20/20 [==============================] - 0s 7ms/step - loss: 0.0041 - mean_absolute_percentage_error: 7.0682 - val_loss: 0.0040 - val_mean_absolute_percentage_error: 6.7968\n",
      "Epoch 175/200\n",
      "20/20 [==============================] - 0s 6ms/step - loss: 0.0039 - mean_absolute_percentage_error: 7.2244 - val_loss: 0.0041 - val_mean_absolute_percentage_error: 6.8665\n",
      "Epoch 176/200\n",
      "20/20 [==============================] - 0s 6ms/step - loss: 0.0048 - mean_absolute_percentage_error: 7.7243 - val_loss: 0.0042 - val_mean_absolute_percentage_error: 7.4516\n",
      "Epoch 177/200\n",
      "20/20 [==============================] - 0s 7ms/step - loss: 0.0049 - mean_absolute_percentage_error: 7.8991 - val_loss: 0.0042 - val_mean_absolute_percentage_error: 7.1609\n",
      "Epoch 178/200\n",
      "20/20 [==============================] - 0s 5ms/step - loss: 0.0049 - mean_absolute_percentage_error: 8.0274 - val_loss: 0.0056 - val_mean_absolute_percentage_error: 9.3676\n",
      "Epoch 179/200\n",
      "20/20 [==============================] - 0s 6ms/step - loss: 0.0064 - mean_absolute_percentage_error: 9.5622 - val_loss: 0.0041 - val_mean_absolute_percentage_error: 6.6273\n",
      "Epoch 180/200\n",
      "20/20 [==============================] - 0s 6ms/step - loss: 0.0045 - mean_absolute_percentage_error: 7.6303 - val_loss: 0.0039 - val_mean_absolute_percentage_error: 7.0156\n",
      "Epoch 181/200\n",
      "20/20 [==============================] - 0s 6ms/step - loss: 0.0054 - mean_absolute_percentage_error: 8.0602 - val_loss: 0.0039 - val_mean_absolute_percentage_error: 6.3890\n",
      "Epoch 182/200\n",
      "20/20 [==============================] - 0s 6ms/step - loss: 0.0083 - mean_absolute_percentage_error: 10.7263 - val_loss: 0.0047 - val_mean_absolute_percentage_error: 8.1173\n",
      "Epoch 183/200\n",
      "20/20 [==============================] - 0s 6ms/step - loss: 0.0036 - mean_absolute_percentage_error: 6.9136 - val_loss: 0.0037 - val_mean_absolute_percentage_error: 6.2823\n",
      "Epoch 184/200\n",
      "20/20 [==============================] - 0s 7ms/step - loss: 0.0048 - mean_absolute_percentage_error: 8.5781 - val_loss: 0.0043 - val_mean_absolute_percentage_error: 7.5999\n",
      "Epoch 185/200\n",
      "20/20 [==============================] - 0s 7ms/step - loss: 0.0046 - mean_absolute_percentage_error: 7.2871 - val_loss: 0.0048 - val_mean_absolute_percentage_error: 8.4016\n",
      "Epoch 186/200\n",
      "20/20 [==============================] - 0s 6ms/step - loss: 0.0046 - mean_absolute_percentage_error: 8.2080 - val_loss: 0.0043 - val_mean_absolute_percentage_error: 7.7073\n",
      "Epoch 187/200\n",
      "20/20 [==============================] - 0s 6ms/step - loss: 0.0051 - mean_absolute_percentage_error: 7.7311 - val_loss: 0.0036 - val_mean_absolute_percentage_error: 6.4146\n",
      "Epoch 188/200\n",
      "20/20 [==============================] - 0s 6ms/step - loss: 0.0039 - mean_absolute_percentage_error: 7.4575 - val_loss: 0.0037 - val_mean_absolute_percentage_error: 6.5475\n",
      "Epoch 189/200\n",
      "20/20 [==============================] - 0s 5ms/step - loss: 0.0057 - mean_absolute_percentage_error: 8.1242 - val_loss: 0.0043 - val_mean_absolute_percentage_error: 7.7189\n",
      "Epoch 190/200\n",
      "20/20 [==============================] - 0s 5ms/step - loss: 0.0056 - mean_absolute_percentage_error: 8.2475 - val_loss: 0.0040 - val_mean_absolute_percentage_error: 7.1604\n",
      "Epoch 191/200\n",
      "20/20 [==============================] - 0s 6ms/step - loss: 0.0049 - mean_absolute_percentage_error: 7.8610 - val_loss: 0.0038 - val_mean_absolute_percentage_error: 6.5373\n",
      "Epoch 192/200\n",
      "20/20 [==============================] - 0s 6ms/step - loss: 0.0043 - mean_absolute_percentage_error: 7.5952 - val_loss: 0.0041 - val_mean_absolute_percentage_error: 7.2108\n",
      "Epoch 193/200\n",
      "20/20 [==============================] - 0s 6ms/step - loss: 0.0041 - mean_absolute_percentage_error: 7.0951 - val_loss: 0.0040 - val_mean_absolute_percentage_error: 7.2497\n",
      "Epoch 194/200\n",
      "20/20 [==============================] - 0s 5ms/step - loss: 0.0047 - mean_absolute_percentage_error: 8.1375 - val_loss: 0.0039 - val_mean_absolute_percentage_error: 7.0198\n",
      "Epoch 195/200\n",
      "20/20 [==============================] - 0s 5ms/step - loss: 0.0058 - mean_absolute_percentage_error: 8.1557 - val_loss: 0.0040 - val_mean_absolute_percentage_error: 7.3484\n",
      "Epoch 196/200\n",
      "20/20 [==============================] - 0s 6ms/step - loss: 0.0043 - mean_absolute_percentage_error: 7.5775 - val_loss: 0.0038 - val_mean_absolute_percentage_error: 6.2344\n",
      "Epoch 197/200\n",
      "20/20 [==============================] - 0s 5ms/step - loss: 0.0051 - mean_absolute_percentage_error: 7.5431 - val_loss: 0.0042 - val_mean_absolute_percentage_error: 7.3989\n",
      "Epoch 198/200\n",
      "20/20 [==============================] - 0s 5ms/step - loss: 0.0048 - mean_absolute_percentage_error: 8.1717 - val_loss: 0.0037 - val_mean_absolute_percentage_error: 6.5606\n",
      "Epoch 199/200\n",
      "20/20 [==============================] - 0s 5ms/step - loss: 0.0059 - mean_absolute_percentage_error: 9.6254 - val_loss: 0.0039 - val_mean_absolute_percentage_error: 6.9714\n",
      "Epoch 200/200\n",
      "20/20 [==============================] - 0s 5ms/step - loss: 0.0063 - mean_absolute_percentage_error: 8.7000 - val_loss: 0.0038 - val_mean_absolute_percentage_error: 6.9329\n"
     ]
    },
    {
     "data": {
      "text/plain": [
       "<keras.callbacks.History at 0x7fe839216aa0>"
      ]
     },
     "execution_count": 32,
     "metadata": {},
     "output_type": "execute_result"
    }
   ],
   "source": [
    "model.fit(\n",
    "    x=train_x_data, y=train_y_data, epochs=200, batch_size=5, steps_per_epoch=20,\n",
    "    validation_split=0.05, workers=5, use_multiprocessing=True)"
   ]
  },
  {
   "cell_type": "code",
   "execution_count": 33,
   "id": "514b28fc-52da-4a12-b0a7-7167809e8b96",
   "metadata": {},
   "outputs": [
    {
     "name": "stdout",
     "output_type": "stream",
     "text": [
      "31/31 [==============================] - 0s 957us/step - loss: 0.0034 - mean_absolute_percentage_error: 6.5214\n"
     ]
    },
    {
     "data": {
      "text/plain": [
       "[0.0034450890962034464, 6.521376609802246]"
      ]
     },
     "execution_count": 33,
     "metadata": {},
     "output_type": "execute_result"
    }
   ],
   "source": [
    "model.evaluate(test_x_data, test_y_data)"
   ]
  },
  {
   "cell_type": "code",
   "execution_count": 34,
   "id": "2e4cac73-1ed2-45ef-bbe5-63eb99cfef6a",
   "metadata": {},
   "outputs": [
    {
     "name": "stdout",
     "output_type": "stream",
     "text": [
      "31/31 [==============================] - 0s 788us/step\n"
     ]
    },
    {
     "data": {
      "text/plain": [
       "<matplotlib.collections.PathCollection at 0x7fe8387aac80>"
      ]
     },
     "execution_count": 34,
     "metadata": {},
     "output_type": "execute_result"
    },
    {
     "data": {
      "image/png": "[encoded data removed]",
      "text/plain": [
       "<Figure size 432x288 with 1 Axes>"
      ]
     },
     "metadata": {
      "needs_background": "light"
     },
     "output_type": "display_data"
    }
   ],
   "source": [
    "pred_y = model.predict(test_x_sorted)\n",
    "plt.scatter(test_time_sorted, test_y_sorted)\n",
    "plt.scatter(test_time_sorted, pred_y)"
   ]
  },
  {
   "cell_type": "code",
   "execution_count": null,
   "id": "390317ed-9c13-42d4-b9e4-5e596f43f03d",
   "metadata": {},
   "outputs": [],
   "source": []
  }
 ],
 "metadata": {
  "kernelspec": {
   "display_name": "Python 3 (ipykernel)",
   "language": "python",
   "name": "python3"
  },
  "language_info": {
   "codemirror_mode": {
    "name": "ipython",
    "version": 3
   },
   "file_extension": ".py",
   "mimetype": "text/x-python",
   "name": "python",
   "nbconvert_exporter": "python",
   "pygments_lexer": "ipython3",
   "version": "3.10.5"
  }
 },
 "nbformat": 4,
 "nbformat_minor": 5
}
