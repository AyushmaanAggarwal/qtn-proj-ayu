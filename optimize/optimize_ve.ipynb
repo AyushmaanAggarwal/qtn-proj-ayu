{
 "cells": [
  {
   "cell_type": "markdown",
   "metadata": {},
   "source": [
    "Compare the electron noise calculation with the analytic calculation"
   ]
  },
  {
   "cell_type": "markdown",
   "metadata": {},
   "source": [
    "From qtn.bimax, the integrand take the form:\n",
    "\\begin{equation}\n",
    "\\frac{\n",
    "F_1(\\frac{\\omega}{\\Omega_c}\\frac{l}{l_D}\\frac{1}{\\sqrt{2}\\zeta}) (e^{-\\zeta^2} + \\frac{n}{\\sqrt{t}} e^{-\\zeta^2/t})\n",
    "}\n",
    "{|\\epsilon_L(\\zeta, \\frac{\\omega}{\\Omega_c}, n, t)|^2}\n",
    "\\end{equation}"
   ]
  },
  {
   "cell_type": "markdown",
   "metadata": {},
   "source": [
    "Remark: I am a bit uncertain about the dimensionless\n",
    "    expression encoded in the qtn package:\n",
    "        check!"
   ]
  },
  {
   "cell_type": "markdown",
   "metadata": {},
   "source": [
    "The longitudinal permittivity is:\n",
    "\\begin{equation}\n",
    "\\epsilon_L = 1 - (\\frac{\\zeta}{\\Omega_c})^2 \\\n",
    "(Z^\\prime(\\zeta) + \\frac{n}{t} Z^\\prime(\\zeta/\\sqrt{t}))\n",
    "\\end{equation}"
   ]
  },
  {
   "cell_type": "markdown",
   "metadata": {},
   "source": [
    "Now suppose that $\\Re(\\epsilon_L(\\zeta_0))=0$. Approximate $\\epsilon_L$ near $\\zeta_0$ by the Taylor exansion. Following the same approximation\n",
    "outlined in Chateau (1991): "
   ]
  },
  {
   "cell_type": "markdown",
   "metadata": {},
   "source": [
    "\\begin{equation}\n",
    "\\frac{\n",
    "F_1(\\frac{\\omega}{\\Omega_c}\\frac{l}{l_D}\\frac{1}{\\sqrt{2}\\zeta_0}) (e^{-\\zeta_0^2} + \\frac{n}{\\sqrt{t}} e^{-\\zeta_0^2/t})\n",
    "}\n",
    "{|\\Im \\epsilon_L \\partial_\\zeta \\Re \\epsilon_L|_{\\zeta_0}}\n",
    "\\end{equation}"
   ]
  },
  {
   "cell_type": "markdown",
   "metadata": {},
   "source": [
    "Notice that $Z^\\prime \\equiv -2 (1 + \\zeta Z)$. Therefore, \n",
    "\\begin{eqnarray}\n",
    "Z^{\\prime\\prime} & = & -2 (Z + \\zeta Z^\\prime) \\\\\n",
    "&=& -2 Z + 4 \\zeta (1 + \\zeta Z)\n",
    "\\end{eqnarray}"
   ]
  },
  {
   "cell_type": "markdown",
   "metadata": {},
   "source": [
    "\\begin{eqnarray}\n",
    "\\frac{\\partial \\epsilon_L}{\\partial\\zeta} & = & \\\n",
    "A\n",
    "\\end{eqnarray}"
   ]
  },
  {
   "cell_type": "markdown",
   "metadata": {},
   "source": [
    "We will evaluate the above expression and compare it to the direct numerical result"
   ]
  },
  {
   "cell_type": "code",
   "execution_count": null,
   "metadata": {
    "collapsed": true
   },
   "outputs": [],
   "source": []
  }
 ],
 "metadata": {
  "kernelspec": {
   "display_name": "Python 3",
   "language": "python",
   "name": "python3"
  },
  "language_info": {
   "codemirror_mode": {
    "name": "ipython",
    "version": 3
   },
   "file_extension": ".py",
   "mimetype": "text/x-python",
   "name": "python",
   "nbconvert_exporter": "python",
   "pygments_lexer": "ipython3",
   "version": "3.4.3"
  }
 },
 "nbformat": 4,
 "nbformat_minor": 0
}
